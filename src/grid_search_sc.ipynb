{
 "cells": [
  {
   "cell_type": "code",
   "execution_count": 32,
   "metadata": {},
   "outputs": [],
   "source": [
    "# grid_search_sc.py\n",
    "\n",
    "import os\n",
    "import copy\n",
    "from run_sweep import run_sweep\n",
    "from ingestion import prepare_datasets\n",
    "from fetch_and_visualize import get_top_runs, plot_hyperparameter_performance, compute_correlation, plot_train_val_curves\n",
    "from sweep_config import sweep_config\n",
    "from run_grid_search import run_grid_search"
   ]
  },
  {
   "cell_type": "code",
   "execution_count": 2,
   "metadata": {},
   "outputs": [],
   "source": [
    "# Prepare datasets\n",
    "base_dir = os.path.dirname(os.getcwd())\n",
    "graphs_sc, labels_sc, graphs_sc_combined, labels_sc_combined, feature_names = prepare_datasets(base_dir)"
   ]
  },
  {
   "cell_type": "code",
   "execution_count": 19,
   "metadata": {},
   "outputs": [],
   "source": [
    "# Create copies of the sweep config for each dataset\n",
    "sweep_config_sc = copy.deepcopy(sweep_config)\n",
    "\n",
    "# Update the sweep config with the in_channels\n",
    "sweep_config_sc['parameters'].update({\n",
    "    'in_channels': {\n",
    "        'value': 6\n",
    "    }\n",
    "})"
   ]
  },
  {
   "cell_type": "code",
   "execution_count": 8,
   "metadata": {},
   "outputs": [
    {
     "name": "stdout",
     "output_type": "stream",
     "text": [
      "Create sweep with ID: 5tx24pap\n",
      "Sweep URL: https://wandb.ai/barbonigiorgia-sapienza-universit-di-roma/graph-classification-graphs_sc/sweeps/5tx24pap\n"
     ]
    },
    {
     "name": "stderr",
     "output_type": "stream",
     "text": [
      "\u001b[34m\u001b[1mwandb\u001b[0m: Agent Starting Run: m067876f with config:\n",
      "\u001b[34m\u001b[1mwandb\u001b[0m: \tbatch_size: 8\n",
      "\u001b[34m\u001b[1mwandb\u001b[0m: \tin_channels: 6\n",
      "\u001b[34m\u001b[1mwandb\u001b[0m: \tlearning_rate: 0.001\n",
      "\u001b[34m\u001b[1mwandb\u001b[0m: \tnum_epochs: 5\n",
      "\u001b[34m\u001b[1mwandb\u001b[0m: \tnum_heads: 2\n",
      "\u001b[34m\u001b[1mwandb\u001b[0m: \toptimizer: sgd\n",
      "\u001b[34m\u001b[1mwandb\u001b[0m: \tout_channels: 4\n",
      "\u001b[34m\u001b[1mwandb\u001b[0m: \trandom_state: 42\n",
      "\u001b[34m\u001b[1mwandb\u001b[0m: \ttest_size: 0.3\n",
      "\u001b[34m\u001b[1mwandb\u001b[0m: \tweight_decay: 0\n"
     ]
    },
    {
     "data": {
      "text/html": [
       "Tracking run with wandb version 0.18.5"
      ],
      "text/plain": [
       "<IPython.core.display.HTML object>"
      ]
     },
     "metadata": {},
     "output_type": "display_data"
    },
    {
     "data": {
      "text/html": [
       "Run data is saved locally in <code>c:\\Users\\barbo\\brain classifier repo\\brain_classifier\\src\\wandb\\run-20241115_205745-m067876f</code>"
      ],
      "text/plain": [
       "<IPython.core.display.HTML object>"
      ]
     },
     "metadata": {},
     "output_type": "display_data"
    },
    {
     "data": {
      "text/html": [
       "Syncing run <strong><a href='https://wandb.ai/barbonigiorgia-sapienza-universit-di-roma/graph-classification-graphs_sc/runs/m067876f' target=\"_blank\">devoted-sweep-1</a></strong> to <a href='https://wandb.ai/barbonigiorgia-sapienza-universit-di-roma/graph-classification-graphs_sc' target=\"_blank\">Weights & Biases</a> (<a href='https://wandb.me/run' target=\"_blank\">docs</a>)<br/>Sweep page: <a href='https://wandb.ai/barbonigiorgia-sapienza-universit-di-roma/graph-classification-graphs_sc/sweeps/5tx24pap' target=\"_blank\">https://wandb.ai/barbonigiorgia-sapienza-universit-di-roma/graph-classification-graphs_sc/sweeps/5tx24pap</a>"
      ],
      "text/plain": [
       "<IPython.core.display.HTML object>"
      ]
     },
     "metadata": {},
     "output_type": "display_data"
    },
    {
     "data": {
      "text/html": [
       " View project at <a href='https://wandb.ai/barbonigiorgia-sapienza-universit-di-roma/graph-classification-graphs_sc' target=\"_blank\">https://wandb.ai/barbonigiorgia-sapienza-universit-di-roma/graph-classification-graphs_sc</a>"
      ],
      "text/plain": [
       "<IPython.core.display.HTML object>"
      ]
     },
     "metadata": {},
     "output_type": "display_data"
    },
    {
     "data": {
      "text/html": [
       " View sweep at <a href='https://wandb.ai/barbonigiorgia-sapienza-universit-di-roma/graph-classification-graphs_sc/sweeps/5tx24pap' target=\"_blank\">https://wandb.ai/barbonigiorgia-sapienza-universit-di-roma/graph-classification-graphs_sc/sweeps/5tx24pap</a>"
      ],
      "text/plain": [
       "<IPython.core.display.HTML object>"
      ]
     },
     "metadata": {},
     "output_type": "display_data"
    },
    {
     "data": {
      "text/html": [
       " View run at <a href='https://wandb.ai/barbonigiorgia-sapienza-universit-di-roma/graph-classification-graphs_sc/runs/m067876f' target=\"_blank\">https://wandb.ai/barbonigiorgia-sapienza-universit-di-roma/graph-classification-graphs_sc/runs/m067876f</a>"
      ],
      "text/plain": [
       "<IPython.core.display.HTML object>"
      ]
     },
     "metadata": {},
     "output_type": "display_data"
    },
    {
     "name": "stdout",
     "output_type": "stream",
     "text": [
      "Running with config: {'batch_size': 8, 'in_channels': 6, 'learning_rate': 0.001, 'num_epochs': 5, 'num_heads': 2, 'optimizer': 'sgd', 'out_channels': 4, 'random_state': 42, 'test_size': 0.3, 'weight_decay': 0}\n"
     ]
    },
    {
     "data": {
      "text/html": [
       "<style>\n",
       "    table.wandb td:nth-child(1) { padding: 0 10px; text-align: left ; width: auto;} td:nth-child(2) {text-align: left ; width: 100%}\n",
       "    .wandb-row { display: flex; flex-direction: row; flex-wrap: wrap; justify-content: flex-start; width: 100% }\n",
       "    .wandb-col { display: flex; flex-direction: column; flex-basis: 100%; flex: 1; padding: 10px; }\n",
       "    </style>\n",
       "<div class=\"wandb-row\"><div class=\"wandb-col\"><h3>Run history:</h3><br/><table class=\"wandb\"><tr><td>epoch</td><td>▁▃▅▆█</td></tr><tr><td>train_accuracy</td><td>▁▁▁▁▁</td></tr><tr><td>train_f1</td><td>▁▁▁▁▁</td></tr><tr><td>train_loss</td><td>▇█▁▃▄</td></tr><tr><td>val_accuracy</td><td>▁▁▁▁▁</td></tr><tr><td>val_f1</td><td>▁▁▁▁▁</td></tr><tr><td>val_loss</td><td>█▆▅▃▁</td></tr></table><br/></div><div class=\"wandb-col\"><h3>Run summary:</h3><br/><table class=\"wandb\"><tr><td>epoch</td><td>5</td></tr><tr><td>train_accuracy</td><td>0.568</td></tr><tr><td>train_f1</td><td>0.41151</td></tr><tr><td>train_loss</td><td>0.68396</td></tr><tr><td>val_accuracy</td><td>0.55556</td></tr><tr><td>val_f1</td><td>0.39683</td></tr><tr><td>val_loss</td><td>0.6809</td></tr></table><br/></div></div>"
      ],
      "text/plain": [
       "<IPython.core.display.HTML object>"
      ]
     },
     "metadata": {},
     "output_type": "display_data"
    },
    {
     "data": {
      "text/html": [
       " View run <strong style=\"color:#cdcd00\">devoted-sweep-1</strong> at: <a href='https://wandb.ai/barbonigiorgia-sapienza-universit-di-roma/graph-classification-graphs_sc/runs/m067876f' target=\"_blank\">https://wandb.ai/barbonigiorgia-sapienza-universit-di-roma/graph-classification-graphs_sc/runs/m067876f</a><br/> View project at: <a href='https://wandb.ai/barbonigiorgia-sapienza-universit-di-roma/graph-classification-graphs_sc' target=\"_blank\">https://wandb.ai/barbonigiorgia-sapienza-universit-di-roma/graph-classification-graphs_sc</a><br/>Synced 5 W&B file(s), 0 media file(s), 2 artifact file(s) and 0 other file(s)"
      ],
      "text/plain": [
       "<IPython.core.display.HTML object>"
      ]
     },
     "metadata": {},
     "output_type": "display_data"
    },
    {
     "data": {
      "text/html": [
       "Find logs at: <code>.\\wandb\\run-20241115_205745-m067876f\\logs</code>"
      ],
      "text/plain": [
       "<IPython.core.display.HTML object>"
      ]
     },
     "metadata": {},
     "output_type": "display_data"
    },
    {
     "name": "stderr",
     "output_type": "stream",
     "text": [
      "\u001b[34m\u001b[1mwandb\u001b[0m: Agent Starting Run: hszbmnab with config:\n",
      "\u001b[34m\u001b[1mwandb\u001b[0m: \tbatch_size: 8\n",
      "\u001b[34m\u001b[1mwandb\u001b[0m: \tin_channels: 6\n",
      "\u001b[34m\u001b[1mwandb\u001b[0m: \tlearning_rate: 0.1\n",
      "\u001b[34m\u001b[1mwandb\u001b[0m: \tnum_epochs: 5\n",
      "\u001b[34m\u001b[1mwandb\u001b[0m: \tnum_heads: 3\n",
      "\u001b[34m\u001b[1mwandb\u001b[0m: \toptimizer: adam\n",
      "\u001b[34m\u001b[1mwandb\u001b[0m: \tout_channels: 4\n",
      "\u001b[34m\u001b[1mwandb\u001b[0m: \trandom_state: 42\n",
      "\u001b[34m\u001b[1mwandb\u001b[0m: \ttest_size: 0.3\n",
      "\u001b[34m\u001b[1mwandb\u001b[0m: \tweight_decay: 0\n"
     ]
    },
    {
     "data": {
      "text/html": [
       "Tracking run with wandb version 0.18.5"
      ],
      "text/plain": [
       "<IPython.core.display.HTML object>"
      ]
     },
     "metadata": {},
     "output_type": "display_data"
    },
    {
     "data": {
      "text/html": [
       "Run data is saved locally in <code>c:\\Users\\barbo\\brain classifier repo\\brain_classifier\\src\\wandb\\run-20241115_205811-hszbmnab</code>"
      ],
      "text/plain": [
       "<IPython.core.display.HTML object>"
      ]
     },
     "metadata": {},
     "output_type": "display_data"
    },
    {
     "data": {
      "text/html": [
       "Syncing run <strong><a href='https://wandb.ai/barbonigiorgia-sapienza-universit-di-roma/graph-classification-graphs_sc/runs/hszbmnab' target=\"_blank\">stellar-sweep-2</a></strong> to <a href='https://wandb.ai/barbonigiorgia-sapienza-universit-di-roma/graph-classification-graphs_sc' target=\"_blank\">Weights & Biases</a> (<a href='https://wandb.me/run' target=\"_blank\">docs</a>)<br/>Sweep page: <a href='https://wandb.ai/barbonigiorgia-sapienza-universit-di-roma/graph-classification-graphs_sc/sweeps/5tx24pap' target=\"_blank\">https://wandb.ai/barbonigiorgia-sapienza-universit-di-roma/graph-classification-graphs_sc/sweeps/5tx24pap</a>"
      ],
      "text/plain": [
       "<IPython.core.display.HTML object>"
      ]
     },
     "metadata": {},
     "output_type": "display_data"
    },
    {
     "data": {
      "text/html": [
       " View project at <a href='https://wandb.ai/barbonigiorgia-sapienza-universit-di-roma/graph-classification-graphs_sc' target=\"_blank\">https://wandb.ai/barbonigiorgia-sapienza-universit-di-roma/graph-classification-graphs_sc</a>"
      ],
      "text/plain": [
       "<IPython.core.display.HTML object>"
      ]
     },
     "metadata": {},
     "output_type": "display_data"
    },
    {
     "data": {
      "text/html": [
       " View sweep at <a href='https://wandb.ai/barbonigiorgia-sapienza-universit-di-roma/graph-classification-graphs_sc/sweeps/5tx24pap' target=\"_blank\">https://wandb.ai/barbonigiorgia-sapienza-universit-di-roma/graph-classification-graphs_sc/sweeps/5tx24pap</a>"
      ],
      "text/plain": [
       "<IPython.core.display.HTML object>"
      ]
     },
     "metadata": {},
     "output_type": "display_data"
    },
    {
     "data": {
      "text/html": [
       " View run at <a href='https://wandb.ai/barbonigiorgia-sapienza-universit-di-roma/graph-classification-graphs_sc/runs/hszbmnab' target=\"_blank\">https://wandb.ai/barbonigiorgia-sapienza-universit-di-roma/graph-classification-graphs_sc/runs/hszbmnab</a>"
      ],
      "text/plain": [
       "<IPython.core.display.HTML object>"
      ]
     },
     "metadata": {},
     "output_type": "display_data"
    },
    {
     "name": "stdout",
     "output_type": "stream",
     "text": [
      "Running with config: {'batch_size': 8, 'in_channels': 6, 'learning_rate': 0.1, 'num_epochs': 5, 'num_heads': 3, 'optimizer': 'adam', 'out_channels': 4, 'random_state': 42, 'test_size': 0.3, 'weight_decay': 0}\n"
     ]
    },
    {
     "data": {
      "text/html": [
       "<style>\n",
       "    table.wandb td:nth-child(1) { padding: 0 10px; text-align: left ; width: auto;} td:nth-child(2) {text-align: left ; width: 100%}\n",
       "    .wandb-row { display: flex; flex-direction: row; flex-wrap: wrap; justify-content: flex-start; width: 100% }\n",
       "    .wandb-col { display: flex; flex-direction: column; flex-basis: 100%; flex: 1; padding: 10px; }\n",
       "    </style>\n",
       "<div class=\"wandb-row\"><div class=\"wandb-col\"><h3>Run history:</h3><br/><table class=\"wandb\"><tr><td>epoch</td><td>▁▃▅▆█</td></tr><tr><td>train_accuracy</td><td>▁▅▇██</td></tr><tr><td>train_f1</td><td>▁▅▇██</td></tr><tr><td>train_loss</td><td>█▄▁▁▂</td></tr><tr><td>val_accuracy</td><td>▁▇█▇▇</td></tr><tr><td>val_f1</td><td>▁▇█▇▇</td></tr><tr><td>val_loss</td><td>█▄▁▁▂</td></tr></table><br/></div><div class=\"wandb-col\"><h3>Run summary:</h3><br/><table class=\"wandb\"><tr><td>epoch</td><td>5</td></tr><tr><td>train_accuracy</td><td>0.76</td></tr><tr><td>train_f1</td><td>0.75867</td></tr><tr><td>train_loss</td><td>0.5265</td></tr><tr><td>val_accuracy</td><td>0.77778</td></tr><tr><td>val_f1</td><td>0.77839</td></tr><tr><td>val_loss</td><td>0.4527</td></tr></table><br/></div></div>"
      ],
      "text/plain": [
       "<IPython.core.display.HTML object>"
      ]
     },
     "metadata": {},
     "output_type": "display_data"
    },
    {
     "data": {
      "text/html": [
       " View run <strong style=\"color:#cdcd00\">stellar-sweep-2</strong> at: <a href='https://wandb.ai/barbonigiorgia-sapienza-universit-di-roma/graph-classification-graphs_sc/runs/hszbmnab' target=\"_blank\">https://wandb.ai/barbonigiorgia-sapienza-universit-di-roma/graph-classification-graphs_sc/runs/hszbmnab</a><br/> View project at: <a href='https://wandb.ai/barbonigiorgia-sapienza-universit-di-roma/graph-classification-graphs_sc' target=\"_blank\">https://wandb.ai/barbonigiorgia-sapienza-universit-di-roma/graph-classification-graphs_sc</a><br/>Synced 5 W&B file(s), 0 media file(s), 6 artifact file(s) and 0 other file(s)"
      ],
      "text/plain": [
       "<IPython.core.display.HTML object>"
      ]
     },
     "metadata": {},
     "output_type": "display_data"
    },
    {
     "data": {
      "text/html": [
       "Find logs at: <code>.\\wandb\\run-20241115_205811-hszbmnab\\logs</code>"
      ],
      "text/plain": [
       "<IPython.core.display.HTML object>"
      ]
     },
     "metadata": {},
     "output_type": "display_data"
    },
    {
     "name": "stderr",
     "output_type": "stream",
     "text": [
      "\u001b[34m\u001b[1mwandb\u001b[0m: Agent Starting Run: qmgd8utm with config:\n",
      "\u001b[34m\u001b[1mwandb\u001b[0m: \tbatch_size: 8\n",
      "\u001b[34m\u001b[1mwandb\u001b[0m: \tin_channels: 6\n",
      "\u001b[34m\u001b[1mwandb\u001b[0m: \tlearning_rate: 0.01\n",
      "\u001b[34m\u001b[1mwandb\u001b[0m: \tnum_epochs: 5\n",
      "\u001b[34m\u001b[1mwandb\u001b[0m: \tnum_heads: 1\n",
      "\u001b[34m\u001b[1mwandb\u001b[0m: \toptimizer: adam\n",
      "\u001b[34m\u001b[1mwandb\u001b[0m: \tout_channels: 12\n",
      "\u001b[34m\u001b[1mwandb\u001b[0m: \trandom_state: 42\n",
      "\u001b[34m\u001b[1mwandb\u001b[0m: \ttest_size: 0.3\n",
      "\u001b[34m\u001b[1mwandb\u001b[0m: \tweight_decay: 0\n"
     ]
    },
    {
     "data": {
      "text/html": [
       "Tracking run with wandb version 0.18.5"
      ],
      "text/plain": [
       "<IPython.core.display.HTML object>"
      ]
     },
     "metadata": {},
     "output_type": "display_data"
    },
    {
     "data": {
      "text/html": [
       "Run data is saved locally in <code>c:\\Users\\barbo\\brain classifier repo\\brain_classifier\\src\\wandb\\run-20241115_205847-qmgd8utm</code>"
      ],
      "text/plain": [
       "<IPython.core.display.HTML object>"
      ]
     },
     "metadata": {},
     "output_type": "display_data"
    },
    {
     "data": {
      "text/html": [
       "Syncing run <strong><a href='https://wandb.ai/barbonigiorgia-sapienza-universit-di-roma/graph-classification-graphs_sc/runs/qmgd8utm' target=\"_blank\">robust-sweep-3</a></strong> to <a href='https://wandb.ai/barbonigiorgia-sapienza-universit-di-roma/graph-classification-graphs_sc' target=\"_blank\">Weights & Biases</a> (<a href='https://wandb.me/run' target=\"_blank\">docs</a>)<br/>Sweep page: <a href='https://wandb.ai/barbonigiorgia-sapienza-universit-di-roma/graph-classification-graphs_sc/sweeps/5tx24pap' target=\"_blank\">https://wandb.ai/barbonigiorgia-sapienza-universit-di-roma/graph-classification-graphs_sc/sweeps/5tx24pap</a>"
      ],
      "text/plain": [
       "<IPython.core.display.HTML object>"
      ]
     },
     "metadata": {},
     "output_type": "display_data"
    },
    {
     "data": {
      "text/html": [
       " View project at <a href='https://wandb.ai/barbonigiorgia-sapienza-universit-di-roma/graph-classification-graphs_sc' target=\"_blank\">https://wandb.ai/barbonigiorgia-sapienza-universit-di-roma/graph-classification-graphs_sc</a>"
      ],
      "text/plain": [
       "<IPython.core.display.HTML object>"
      ]
     },
     "metadata": {},
     "output_type": "display_data"
    },
    {
     "data": {
      "text/html": [
       " View sweep at <a href='https://wandb.ai/barbonigiorgia-sapienza-universit-di-roma/graph-classification-graphs_sc/sweeps/5tx24pap' target=\"_blank\">https://wandb.ai/barbonigiorgia-sapienza-universit-di-roma/graph-classification-graphs_sc/sweeps/5tx24pap</a>"
      ],
      "text/plain": [
       "<IPython.core.display.HTML object>"
      ]
     },
     "metadata": {},
     "output_type": "display_data"
    },
    {
     "data": {
      "text/html": [
       " View run at <a href='https://wandb.ai/barbonigiorgia-sapienza-universit-di-roma/graph-classification-graphs_sc/runs/qmgd8utm' target=\"_blank\">https://wandb.ai/barbonigiorgia-sapienza-universit-di-roma/graph-classification-graphs_sc/runs/qmgd8utm</a>"
      ],
      "text/plain": [
       "<IPython.core.display.HTML object>"
      ]
     },
     "metadata": {},
     "output_type": "display_data"
    },
    {
     "name": "stdout",
     "output_type": "stream",
     "text": [
      "Running with config: {'batch_size': 8, 'in_channels': 6, 'learning_rate': 0.01, 'num_epochs': 5, 'num_heads': 1, 'optimizer': 'adam', 'out_channels': 12, 'random_state': 42, 'test_size': 0.3, 'weight_decay': 0}\n"
     ]
    },
    {
     "data": {
      "text/html": [
       "<style>\n",
       "    table.wandb td:nth-child(1) { padding: 0 10px; text-align: left ; width: auto;} td:nth-child(2) {text-align: left ; width: 100%}\n",
       "    .wandb-row { display: flex; flex-direction: row; flex-wrap: wrap; justify-content: flex-start; width: 100% }\n",
       "    .wandb-col { display: flex; flex-direction: column; flex-basis: 100%; flex: 1; padding: 10px; }\n",
       "    </style>\n",
       "<div class=\"wandb-row\"><div class=\"wandb-col\"><h3>Run history:</h3><br/><table class=\"wandb\"><tr><td>epoch</td><td>▁▃▅▆█</td></tr><tr><td>train_accuracy</td><td>▁▄▅▇█</td></tr><tr><td>train_f1</td><td>▂▁▂▆█</td></tr><tr><td>train_loss</td><td>█▆▅▄▁</td></tr><tr><td>val_accuracy</td><td>▁▁█▆▆</td></tr><tr><td>val_f1</td><td>▁▁█▇█</td></tr><tr><td>val_loss</td><td>█▇▆▃▁</td></tr></table><br/></div><div class=\"wandb-col\"><h3>Run summary:</h3><br/><table class=\"wandb\"><tr><td>epoch</td><td>5</td></tr><tr><td>train_accuracy</td><td>0.744</td></tr><tr><td>train_f1</td><td>0.73936</td></tr><tr><td>train_loss</td><td>0.56305</td></tr><tr><td>val_accuracy</td><td>0.7037</td></tr><tr><td>val_f1</td><td>0.70208</td></tr><tr><td>val_loss</td><td>0.50837</td></tr></table><br/></div></div>"
      ],
      "text/plain": [
       "<IPython.core.display.HTML object>"
      ]
     },
     "metadata": {},
     "output_type": "display_data"
    },
    {
     "data": {
      "text/html": [
       " View run <strong style=\"color:#cdcd00\">robust-sweep-3</strong> at: <a href='https://wandb.ai/barbonigiorgia-sapienza-universit-di-roma/graph-classification-graphs_sc/runs/qmgd8utm' target=\"_blank\">https://wandb.ai/barbonigiorgia-sapienza-universit-di-roma/graph-classification-graphs_sc/runs/qmgd8utm</a><br/> View project at: <a href='https://wandb.ai/barbonigiorgia-sapienza-universit-di-roma/graph-classification-graphs_sc' target=\"_blank\">https://wandb.ai/barbonigiorgia-sapienza-universit-di-roma/graph-classification-graphs_sc</a><br/>Synced 5 W&B file(s), 0 media file(s), 6 artifact file(s) and 0 other file(s)"
      ],
      "text/plain": [
       "<IPython.core.display.HTML object>"
      ]
     },
     "metadata": {},
     "output_type": "display_data"
    },
    {
     "data": {
      "text/html": [
       "Find logs at: <code>.\\wandb\\run-20241115_205847-qmgd8utm\\logs</code>"
      ],
      "text/plain": [
       "<IPython.core.display.HTML object>"
      ]
     },
     "metadata": {},
     "output_type": "display_data"
    },
    {
     "name": "stderr",
     "output_type": "stream",
     "text": [
      "\u001b[34m\u001b[1mwandb\u001b[0m: Agent Starting Run: tv1lvnc3 with config:\n",
      "\u001b[34m\u001b[1mwandb\u001b[0m: \tbatch_size: 32\n",
      "\u001b[34m\u001b[1mwandb\u001b[0m: \tin_channels: 6\n",
      "\u001b[34m\u001b[1mwandb\u001b[0m: \tlearning_rate: 0.001\n",
      "\u001b[34m\u001b[1mwandb\u001b[0m: \tnum_epochs: 5\n",
      "\u001b[34m\u001b[1mwandb\u001b[0m: \tnum_heads: 3\n",
      "\u001b[34m\u001b[1mwandb\u001b[0m: \toptimizer: adam\n",
      "\u001b[34m\u001b[1mwandb\u001b[0m: \tout_channels: 8\n",
      "\u001b[34m\u001b[1mwandb\u001b[0m: \trandom_state: 42\n",
      "\u001b[34m\u001b[1mwandb\u001b[0m: \ttest_size: 0.3\n",
      "\u001b[34m\u001b[1mwandb\u001b[0m: \tweight_decay: 1e-05\n"
     ]
    },
    {
     "data": {
      "text/html": [
       "Tracking run with wandb version 0.18.5"
      ],
      "text/plain": [
       "<IPython.core.display.HTML object>"
      ]
     },
     "metadata": {},
     "output_type": "display_data"
    },
    {
     "data": {
      "text/html": [
       "Run data is saved locally in <code>c:\\Users\\barbo\\brain classifier repo\\brain_classifier\\src\\wandb\\run-20241115_205909-tv1lvnc3</code>"
      ],
      "text/plain": [
       "<IPython.core.display.HTML object>"
      ]
     },
     "metadata": {},
     "output_type": "display_data"
    },
    {
     "data": {
      "text/html": [
       "Syncing run <strong><a href='https://wandb.ai/barbonigiorgia-sapienza-universit-di-roma/graph-classification-graphs_sc/runs/tv1lvnc3' target=\"_blank\">drawn-sweep-4</a></strong> to <a href='https://wandb.ai/barbonigiorgia-sapienza-universit-di-roma/graph-classification-graphs_sc' target=\"_blank\">Weights & Biases</a> (<a href='https://wandb.me/run' target=\"_blank\">docs</a>)<br/>Sweep page: <a href='https://wandb.ai/barbonigiorgia-sapienza-universit-di-roma/graph-classification-graphs_sc/sweeps/5tx24pap' target=\"_blank\">https://wandb.ai/barbonigiorgia-sapienza-universit-di-roma/graph-classification-graphs_sc/sweeps/5tx24pap</a>"
      ],
      "text/plain": [
       "<IPython.core.display.HTML object>"
      ]
     },
     "metadata": {},
     "output_type": "display_data"
    },
    {
     "data": {
      "text/html": [
       " View project at <a href='https://wandb.ai/barbonigiorgia-sapienza-universit-di-roma/graph-classification-graphs_sc' target=\"_blank\">https://wandb.ai/barbonigiorgia-sapienza-universit-di-roma/graph-classification-graphs_sc</a>"
      ],
      "text/plain": [
       "<IPython.core.display.HTML object>"
      ]
     },
     "metadata": {},
     "output_type": "display_data"
    },
    {
     "data": {
      "text/html": [
       " View sweep at <a href='https://wandb.ai/barbonigiorgia-sapienza-universit-di-roma/graph-classification-graphs_sc/sweeps/5tx24pap' target=\"_blank\">https://wandb.ai/barbonigiorgia-sapienza-universit-di-roma/graph-classification-graphs_sc/sweeps/5tx24pap</a>"
      ],
      "text/plain": [
       "<IPython.core.display.HTML object>"
      ]
     },
     "metadata": {},
     "output_type": "display_data"
    },
    {
     "data": {
      "text/html": [
       " View run at <a href='https://wandb.ai/barbonigiorgia-sapienza-universit-di-roma/graph-classification-graphs_sc/runs/tv1lvnc3' target=\"_blank\">https://wandb.ai/barbonigiorgia-sapienza-universit-di-roma/graph-classification-graphs_sc/runs/tv1lvnc3</a>"
      ],
      "text/plain": [
       "<IPython.core.display.HTML object>"
      ]
     },
     "metadata": {},
     "output_type": "display_data"
    },
    {
     "name": "stdout",
     "output_type": "stream",
     "text": [
      "Running with config: {'batch_size': 32, 'in_channels': 6, 'learning_rate': 0.001, 'num_epochs': 5, 'num_heads': 3, 'optimizer': 'adam', 'out_channels': 8, 'random_state': 42, 'test_size': 0.3, 'weight_decay': 1e-05}\n"
     ]
    },
    {
     "data": {
      "text/html": [
       "<style>\n",
       "    table.wandb td:nth-child(1) { padding: 0 10px; text-align: left ; width: auto;} td:nth-child(2) {text-align: left ; width: 100%}\n",
       "    .wandb-row { display: flex; flex-direction: row; flex-wrap: wrap; justify-content: flex-start; width: 100% }\n",
       "    .wandb-col { display: flex; flex-direction: column; flex-basis: 100%; flex: 1; padding: 10px; }\n",
       "    </style>\n",
       "<div class=\"wandb-row\"><div class=\"wandb-col\"><h3>Run history:</h3><br/><table class=\"wandb\"><tr><td>epoch</td><td>▁▃▅▆█</td></tr><tr><td>train_accuracy</td><td>▁▁▁▃█</td></tr><tr><td>train_f1</td><td>▁▁▁▃█</td></tr><tr><td>train_loss</td><td>█▆▄▂▁</td></tr><tr><td>val_accuracy</td><td>▁▁▁██</td></tr><tr><td>val_f1</td><td>▁▁▁██</td></tr><tr><td>val_loss</td><td>█▆▄▃▁</td></tr></table><br/></div><div class=\"wandb-col\"><h3>Run summary:</h3><br/><table class=\"wandb\"><tr><td>epoch</td><td>5</td></tr><tr><td>train_accuracy</td><td>0.456</td></tr><tr><td>train_f1</td><td>0.32296</td></tr><tr><td>train_loss</td><td>0.68863</td></tr><tr><td>val_accuracy</td><td>0.48148</td></tr><tr><td>val_f1</td><td>0.35015</td></tr><tr><td>val_loss</td><td>0.68824</td></tr></table><br/></div></div>"
      ],
      "text/plain": [
       "<IPython.core.display.HTML object>"
      ]
     },
     "metadata": {},
     "output_type": "display_data"
    },
    {
     "data": {
      "text/html": [
       " View run <strong style=\"color:#cdcd00\">drawn-sweep-4</strong> at: <a href='https://wandb.ai/barbonigiorgia-sapienza-universit-di-roma/graph-classification-graphs_sc/runs/tv1lvnc3' target=\"_blank\">https://wandb.ai/barbonigiorgia-sapienza-universit-di-roma/graph-classification-graphs_sc/runs/tv1lvnc3</a><br/> View project at: <a href='https://wandb.ai/barbonigiorgia-sapienza-universit-di-roma/graph-classification-graphs_sc' target=\"_blank\">https://wandb.ai/barbonigiorgia-sapienza-universit-di-roma/graph-classification-graphs_sc</a><br/>Synced 5 W&B file(s), 0 media file(s), 6 artifact file(s) and 0 other file(s)"
      ],
      "text/plain": [
       "<IPython.core.display.HTML object>"
      ]
     },
     "metadata": {},
     "output_type": "display_data"
    },
    {
     "data": {
      "text/html": [
       "Find logs at: <code>.\\wandb\\run-20241115_205909-tv1lvnc3\\logs</code>"
      ],
      "text/plain": [
       "<IPython.core.display.HTML object>"
      ]
     },
     "metadata": {},
     "output_type": "display_data"
    },
    {
     "name": "stderr",
     "output_type": "stream",
     "text": [
      "\u001b[34m\u001b[1mwandb\u001b[0m: Agent Starting Run: s0whj2gv with config:\n",
      "\u001b[34m\u001b[1mwandb\u001b[0m: \tbatch_size: 8\n",
      "\u001b[34m\u001b[1mwandb\u001b[0m: \tin_channels: 6\n",
      "\u001b[34m\u001b[1mwandb\u001b[0m: \tlearning_rate: 0.0001\n",
      "\u001b[34m\u001b[1mwandb\u001b[0m: \tnum_epochs: 5\n",
      "\u001b[34m\u001b[1mwandb\u001b[0m: \tnum_heads: 3\n",
      "\u001b[34m\u001b[1mwandb\u001b[0m: \toptimizer: sgd\n",
      "\u001b[34m\u001b[1mwandb\u001b[0m: \tout_channels: 4\n",
      "\u001b[34m\u001b[1mwandb\u001b[0m: \trandom_state: 42\n",
      "\u001b[34m\u001b[1mwandb\u001b[0m: \ttest_size: 0.3\n",
      "\u001b[34m\u001b[1mwandb\u001b[0m: \tweight_decay: 1e-05\n"
     ]
    },
    {
     "data": {
      "text/html": [
       "Tracking run with wandb version 0.18.5"
      ],
      "text/plain": [
       "<IPython.core.display.HTML object>"
      ]
     },
     "metadata": {},
     "output_type": "display_data"
    },
    {
     "data": {
      "text/html": [
       "Run data is saved locally in <code>c:\\Users\\barbo\\brain classifier repo\\brain_classifier\\src\\wandb\\run-20241115_205930-s0whj2gv</code>"
      ],
      "text/plain": [
       "<IPython.core.display.HTML object>"
      ]
     },
     "metadata": {},
     "output_type": "display_data"
    },
    {
     "data": {
      "text/html": [
       "Syncing run <strong><a href='https://wandb.ai/barbonigiorgia-sapienza-universit-di-roma/graph-classification-graphs_sc/runs/s0whj2gv' target=\"_blank\">effortless-sweep-5</a></strong> to <a href='https://wandb.ai/barbonigiorgia-sapienza-universit-di-roma/graph-classification-graphs_sc' target=\"_blank\">Weights & Biases</a> (<a href='https://wandb.me/run' target=\"_blank\">docs</a>)<br/>Sweep page: <a href='https://wandb.ai/barbonigiorgia-sapienza-universit-di-roma/graph-classification-graphs_sc/sweeps/5tx24pap' target=\"_blank\">https://wandb.ai/barbonigiorgia-sapienza-universit-di-roma/graph-classification-graphs_sc/sweeps/5tx24pap</a>"
      ],
      "text/plain": [
       "<IPython.core.display.HTML object>"
      ]
     },
     "metadata": {},
     "output_type": "display_data"
    },
    {
     "data": {
      "text/html": [
       " View project at <a href='https://wandb.ai/barbonigiorgia-sapienza-universit-di-roma/graph-classification-graphs_sc' target=\"_blank\">https://wandb.ai/barbonigiorgia-sapienza-universit-di-roma/graph-classification-graphs_sc</a>"
      ],
      "text/plain": [
       "<IPython.core.display.HTML object>"
      ]
     },
     "metadata": {},
     "output_type": "display_data"
    },
    {
     "data": {
      "text/html": [
       " View sweep at <a href='https://wandb.ai/barbonigiorgia-sapienza-universit-di-roma/graph-classification-graphs_sc/sweeps/5tx24pap' target=\"_blank\">https://wandb.ai/barbonigiorgia-sapienza-universit-di-roma/graph-classification-graphs_sc/sweeps/5tx24pap</a>"
      ],
      "text/plain": [
       "<IPython.core.display.HTML object>"
      ]
     },
     "metadata": {},
     "output_type": "display_data"
    },
    {
     "data": {
      "text/html": [
       " View run at <a href='https://wandb.ai/barbonigiorgia-sapienza-universit-di-roma/graph-classification-graphs_sc/runs/s0whj2gv' target=\"_blank\">https://wandb.ai/barbonigiorgia-sapienza-universit-di-roma/graph-classification-graphs_sc/runs/s0whj2gv</a>"
      ],
      "text/plain": [
       "<IPython.core.display.HTML object>"
      ]
     },
     "metadata": {},
     "output_type": "display_data"
    },
    {
     "name": "stdout",
     "output_type": "stream",
     "text": [
      "Running with config: {'batch_size': 8, 'in_channels': 6, 'learning_rate': 0.0001, 'num_epochs': 5, 'num_heads': 3, 'optimizer': 'sgd', 'out_channels': 4, 'random_state': 42, 'test_size': 0.3, 'weight_decay': 1e-05}\n"
     ]
    },
    {
     "data": {
      "text/html": [
       "<style>\n",
       "    table.wandb td:nth-child(1) { padding: 0 10px; text-align: left ; width: auto;} td:nth-child(2) {text-align: left ; width: 100%}\n",
       "    .wandb-row { display: flex; flex-direction: row; flex-wrap: wrap; justify-content: flex-start; width: 100% }\n",
       "    .wandb-col { display: flex; flex-direction: column; flex-basis: 100%; flex: 1; padding: 10px; }\n",
       "    </style>\n",
       "<div class=\"wandb-row\"><div class=\"wandb-col\"><h3>Run history:</h3><br/><table class=\"wandb\"><tr><td>epoch</td><td>▁▃▅▆█</td></tr><tr><td>train_accuracy</td><td>▁▁▁▁▁</td></tr><tr><td>train_f1</td><td>▁▁▁▁▁</td></tr><tr><td>train_loss</td><td>█▅▇▂▁</td></tr><tr><td>val_accuracy</td><td>▁▁▁▁▁</td></tr><tr><td>val_f1</td><td>▁▁▁▁▁</td></tr><tr><td>val_loss</td><td>█▆▄▃▁</td></tr></table><br/></div><div class=\"wandb-col\"><h3>Run summary:</h3><br/><table class=\"wandb\"><tr><td>epoch</td><td>5</td></tr><tr><td>train_accuracy</td><td>0.432</td></tr><tr><td>train_f1</td><td>0.26065</td></tr><tr><td>train_loss</td><td>0.77006</td></tr><tr><td>val_accuracy</td><td>0.44444</td></tr><tr><td>val_f1</td><td>0.2735</td></tr><tr><td>val_loss</td><td>0.72133</td></tr></table><br/></div></div>"
      ],
      "text/plain": [
       "<IPython.core.display.HTML object>"
      ]
     },
     "metadata": {},
     "output_type": "display_data"
    },
    {
     "data": {
      "text/html": [
       " View run <strong style=\"color:#cdcd00\">effortless-sweep-5</strong> at: <a href='https://wandb.ai/barbonigiorgia-sapienza-universit-di-roma/graph-classification-graphs_sc/runs/s0whj2gv' target=\"_blank\">https://wandb.ai/barbonigiorgia-sapienza-universit-di-roma/graph-classification-graphs_sc/runs/s0whj2gv</a><br/> View project at: <a href='https://wandb.ai/barbonigiorgia-sapienza-universit-di-roma/graph-classification-graphs_sc' target=\"_blank\">https://wandb.ai/barbonigiorgia-sapienza-universit-di-roma/graph-classification-graphs_sc</a><br/>Synced 5 W&B file(s), 0 media file(s), 4 artifact file(s) and 0 other file(s)"
      ],
      "text/plain": [
       "<IPython.core.display.HTML object>"
      ]
     },
     "metadata": {},
     "output_type": "display_data"
    },
    {
     "data": {
      "text/html": [
       "Find logs at: <code>.\\wandb\\run-20241115_205930-s0whj2gv\\logs</code>"
      ],
      "text/plain": [
       "<IPython.core.display.HTML object>"
      ]
     },
     "metadata": {},
     "output_type": "display_data"
    },
    {
     "name": "stderr",
     "output_type": "stream",
     "text": [
      "\u001b[34m\u001b[1mwandb\u001b[0m: Agent Starting Run: 9vywgjp4 with config:\n",
      "\u001b[34m\u001b[1mwandb\u001b[0m: \tbatch_size: 8\n",
      "\u001b[34m\u001b[1mwandb\u001b[0m: \tin_channels: 6\n",
      "\u001b[34m\u001b[1mwandb\u001b[0m: \tlearning_rate: 0.1\n",
      "\u001b[34m\u001b[1mwandb\u001b[0m: \tnum_epochs: 5\n",
      "\u001b[34m\u001b[1mwandb\u001b[0m: \tnum_heads: 4\n",
      "\u001b[34m\u001b[1mwandb\u001b[0m: \toptimizer: adam\n",
      "\u001b[34m\u001b[1mwandb\u001b[0m: \tout_channels: 4\n",
      "\u001b[34m\u001b[1mwandb\u001b[0m: \trandom_state: 42\n",
      "\u001b[34m\u001b[1mwandb\u001b[0m: \ttest_size: 0.3\n",
      "\u001b[34m\u001b[1mwandb\u001b[0m: \tweight_decay: 0.0001\n"
     ]
    },
    {
     "data": {
      "text/html": [
       "Tracking run with wandb version 0.18.5"
      ],
      "text/plain": [
       "<IPython.core.display.HTML object>"
      ]
     },
     "metadata": {},
     "output_type": "display_data"
    },
    {
     "data": {
      "text/html": [
       "Run data is saved locally in <code>c:\\Users\\barbo\\brain classifier repo\\brain_classifier\\src\\wandb\\run-20241115_210007-9vywgjp4</code>"
      ],
      "text/plain": [
       "<IPython.core.display.HTML object>"
      ]
     },
     "metadata": {},
     "output_type": "display_data"
    },
    {
     "data": {
      "text/html": [
       "Syncing run <strong><a href='https://wandb.ai/barbonigiorgia-sapienza-universit-di-roma/graph-classification-graphs_sc/runs/9vywgjp4' target=\"_blank\">apricot-sweep-6</a></strong> to <a href='https://wandb.ai/barbonigiorgia-sapienza-universit-di-roma/graph-classification-graphs_sc' target=\"_blank\">Weights & Biases</a> (<a href='https://wandb.me/run' target=\"_blank\">docs</a>)<br/>Sweep page: <a href='https://wandb.ai/barbonigiorgia-sapienza-universit-di-roma/graph-classification-graphs_sc/sweeps/5tx24pap' target=\"_blank\">https://wandb.ai/barbonigiorgia-sapienza-universit-di-roma/graph-classification-graphs_sc/sweeps/5tx24pap</a>"
      ],
      "text/plain": [
       "<IPython.core.display.HTML object>"
      ]
     },
     "metadata": {},
     "output_type": "display_data"
    },
    {
     "data": {
      "text/html": [
       " View project at <a href='https://wandb.ai/barbonigiorgia-sapienza-universit-di-roma/graph-classification-graphs_sc' target=\"_blank\">https://wandb.ai/barbonigiorgia-sapienza-universit-di-roma/graph-classification-graphs_sc</a>"
      ],
      "text/plain": [
       "<IPython.core.display.HTML object>"
      ]
     },
     "metadata": {},
     "output_type": "display_data"
    },
    {
     "data": {
      "text/html": [
       " View sweep at <a href='https://wandb.ai/barbonigiorgia-sapienza-universit-di-roma/graph-classification-graphs_sc/sweeps/5tx24pap' target=\"_blank\">https://wandb.ai/barbonigiorgia-sapienza-universit-di-roma/graph-classification-graphs_sc/sweeps/5tx24pap</a>"
      ],
      "text/plain": [
       "<IPython.core.display.HTML object>"
      ]
     },
     "metadata": {},
     "output_type": "display_data"
    },
    {
     "data": {
      "text/html": [
       " View run at <a href='https://wandb.ai/barbonigiorgia-sapienza-universit-di-roma/graph-classification-graphs_sc/runs/9vywgjp4' target=\"_blank\">https://wandb.ai/barbonigiorgia-sapienza-universit-di-roma/graph-classification-graphs_sc/runs/9vywgjp4</a>"
      ],
      "text/plain": [
       "<IPython.core.display.HTML object>"
      ]
     },
     "metadata": {},
     "output_type": "display_data"
    },
    {
     "name": "stdout",
     "output_type": "stream",
     "text": [
      "Running with config: {'batch_size': 8, 'in_channels': 6, 'learning_rate': 0.1, 'num_epochs': 5, 'num_heads': 4, 'optimizer': 'adam', 'out_channels': 4, 'random_state': 42, 'test_size': 0.3, 'weight_decay': 0.0001}\n"
     ]
    },
    {
     "data": {
      "text/html": [
       "<style>\n",
       "    table.wandb td:nth-child(1) { padding: 0 10px; text-align: left ; width: auto;} td:nth-child(2) {text-align: left ; width: 100%}\n",
       "    .wandb-row { display: flex; flex-direction: row; flex-wrap: wrap; justify-content: flex-start; width: 100% }\n",
       "    .wandb-col { display: flex; flex-direction: column; flex-basis: 100%; flex: 1; padding: 10px; }\n",
       "    </style>\n",
       "<div class=\"wandb-row\"><div class=\"wandb-col\"><h3>Run history:</h3><br/><table class=\"wandb\"><tr><td>epoch</td><td>▁▃▅▆█</td></tr><tr><td>train_accuracy</td><td>▁▅▅█▅</td></tr><tr><td>train_f1</td><td>▁▅▅█▅</td></tr><tr><td>train_loss</td><td>█▄▁▁▂</td></tr><tr><td>val_accuracy</td><td>▁▃█▃▆</td></tr><tr><td>val_f1</td><td>▁▃█▄▆</td></tr><tr><td>val_loss</td><td>█▅▁▃▁</td></tr></table><br/></div><div class=\"wandb-col\"><h3>Run summary:</h3><br/><table class=\"wandb\"><tr><td>epoch</td><td>5</td></tr><tr><td>train_accuracy</td><td>0.656</td></tr><tr><td>train_f1</td><td>0.65733</td></tr><tr><td>train_loss</td><td>0.59773</td></tr><tr><td>val_accuracy</td><td>0.77778</td></tr><tr><td>val_f1</td><td>0.77778</td></tr><tr><td>val_loss</td><td>0.49823</td></tr></table><br/></div></div>"
      ],
      "text/plain": [
       "<IPython.core.display.HTML object>"
      ]
     },
     "metadata": {},
     "output_type": "display_data"
    },
    {
     "data": {
      "text/html": [
       " View run <strong style=\"color:#cdcd00\">apricot-sweep-6</strong> at: <a href='https://wandb.ai/barbonigiorgia-sapienza-universit-di-roma/graph-classification-graphs_sc/runs/9vywgjp4' target=\"_blank\">https://wandb.ai/barbonigiorgia-sapienza-universit-di-roma/graph-classification-graphs_sc/runs/9vywgjp4</a><br/> View project at: <a href='https://wandb.ai/barbonigiorgia-sapienza-universit-di-roma/graph-classification-graphs_sc' target=\"_blank\">https://wandb.ai/barbonigiorgia-sapienza-universit-di-roma/graph-classification-graphs_sc</a><br/>Synced 5 W&B file(s), 0 media file(s), 6 artifact file(s) and 0 other file(s)"
      ],
      "text/plain": [
       "<IPython.core.display.HTML object>"
      ]
     },
     "metadata": {},
     "output_type": "display_data"
    },
    {
     "data": {
      "text/html": [
       "Find logs at: <code>.\\wandb\\run-20241115_210007-9vywgjp4\\logs</code>"
      ],
      "text/plain": [
       "<IPython.core.display.HTML object>"
      ]
     },
     "metadata": {},
     "output_type": "display_data"
    },
    {
     "name": "stderr",
     "output_type": "stream",
     "text": [
      "\u001b[34m\u001b[1mwandb\u001b[0m: Sweep Agent: Waiting for job.\n",
      "\u001b[34m\u001b[1mwandb\u001b[0m: Job received.\n",
      "\u001b[34m\u001b[1mwandb\u001b[0m: Agent Starting Run: 1e70nqta with config:\n",
      "\u001b[34m\u001b[1mwandb\u001b[0m: \tbatch_size: 32\n",
      "\u001b[34m\u001b[1mwandb\u001b[0m: \tin_channels: 6\n",
      "\u001b[34m\u001b[1mwandb\u001b[0m: \tlearning_rate: 0.01\n",
      "\u001b[34m\u001b[1mwandb\u001b[0m: \tnum_epochs: 5\n",
      "\u001b[34m\u001b[1mwandb\u001b[0m: \tnum_heads: 4\n",
      "\u001b[34m\u001b[1mwandb\u001b[0m: \toptimizer: adam\n",
      "\u001b[34m\u001b[1mwandb\u001b[0m: \tout_channels: 8\n",
      "\u001b[34m\u001b[1mwandb\u001b[0m: \trandom_state: 42\n",
      "\u001b[34m\u001b[1mwandb\u001b[0m: \ttest_size: 0.3\n",
      "\u001b[34m\u001b[1mwandb\u001b[0m: \tweight_decay: 1e-05\n"
     ]
    },
    {
     "data": {
      "text/html": [
       "Tracking run with wandb version 0.18.5"
      ],
      "text/plain": [
       "<IPython.core.display.HTML object>"
      ]
     },
     "metadata": {},
     "output_type": "display_data"
    },
    {
     "data": {
      "text/html": [
       "Run data is saved locally in <code>c:\\Users\\barbo\\brain classifier repo\\brain_classifier\\src\\wandb\\run-20241115_210058-1e70nqta</code>"
      ],
      "text/plain": [
       "<IPython.core.display.HTML object>"
      ]
     },
     "metadata": {},
     "output_type": "display_data"
    },
    {
     "data": {
      "text/html": [
       "Syncing run <strong><a href='https://wandb.ai/barbonigiorgia-sapienza-universit-di-roma/graph-classification-graphs_sc/runs/1e70nqta' target=\"_blank\">woven-sweep-7</a></strong> to <a href='https://wandb.ai/barbonigiorgia-sapienza-universit-di-roma/graph-classification-graphs_sc' target=\"_blank\">Weights & Biases</a> (<a href='https://wandb.me/run' target=\"_blank\">docs</a>)<br/>Sweep page: <a href='https://wandb.ai/barbonigiorgia-sapienza-universit-di-roma/graph-classification-graphs_sc/sweeps/5tx24pap' target=\"_blank\">https://wandb.ai/barbonigiorgia-sapienza-universit-di-roma/graph-classification-graphs_sc/sweeps/5tx24pap</a>"
      ],
      "text/plain": [
       "<IPython.core.display.HTML object>"
      ]
     },
     "metadata": {},
     "output_type": "display_data"
    },
    {
     "data": {
      "text/html": [
       " View project at <a href='https://wandb.ai/barbonigiorgia-sapienza-universit-di-roma/graph-classification-graphs_sc' target=\"_blank\">https://wandb.ai/barbonigiorgia-sapienza-universit-di-roma/graph-classification-graphs_sc</a>"
      ],
      "text/plain": [
       "<IPython.core.display.HTML object>"
      ]
     },
     "metadata": {},
     "output_type": "display_data"
    },
    {
     "data": {
      "text/html": [
       " View sweep at <a href='https://wandb.ai/barbonigiorgia-sapienza-universit-di-roma/graph-classification-graphs_sc/sweeps/5tx24pap' target=\"_blank\">https://wandb.ai/barbonigiorgia-sapienza-universit-di-roma/graph-classification-graphs_sc/sweeps/5tx24pap</a>"
      ],
      "text/plain": [
       "<IPython.core.display.HTML object>"
      ]
     },
     "metadata": {},
     "output_type": "display_data"
    },
    {
     "data": {
      "text/html": [
       " View run at <a href='https://wandb.ai/barbonigiorgia-sapienza-universit-di-roma/graph-classification-graphs_sc/runs/1e70nqta' target=\"_blank\">https://wandb.ai/barbonigiorgia-sapienza-universit-di-roma/graph-classification-graphs_sc/runs/1e70nqta</a>"
      ],
      "text/plain": [
       "<IPython.core.display.HTML object>"
      ]
     },
     "metadata": {},
     "output_type": "display_data"
    },
    {
     "name": "stdout",
     "output_type": "stream",
     "text": [
      "Running with config: {'batch_size': 32, 'in_channels': 6, 'learning_rate': 0.01, 'num_epochs': 5, 'num_heads': 4, 'optimizer': 'adam', 'out_channels': 8, 'random_state': 42, 'test_size': 0.3, 'weight_decay': 1e-05}\n"
     ]
    },
    {
     "data": {
      "text/html": [
       "<style>\n",
       "    table.wandb td:nth-child(1) { padding: 0 10px; text-align: left ; width: auto;} td:nth-child(2) {text-align: left ; width: 100%}\n",
       "    .wandb-row { display: flex; flex-direction: row; flex-wrap: wrap; justify-content: flex-start; width: 100% }\n",
       "    .wandb-col { display: flex; flex-direction: column; flex-basis: 100%; flex: 1; padding: 10px; }\n",
       "    </style>\n",
       "<div class=\"wandb-row\"><div class=\"wandb-col\"><h3>Run history:</h3><br/><table class=\"wandb\"><tr><td>epoch</td><td>▁▃▅▆█</td></tr><tr><td>train_accuracy</td><td>▁▄▄▅█</td></tr><tr><td>train_f1</td><td>▄▁▂▃█</td></tr><tr><td>train_loss</td><td>█▅▄▃▁</td></tr><tr><td>val_accuracy</td><td>▁▁▁▁█</td></tr><tr><td>val_f1</td><td>▁▁▁▁█</td></tr><tr><td>val_loss</td><td>█▆▅▃▁</td></tr></table><br/></div><div class=\"wandb-col\"><h3>Run summary:</h3><br/><table class=\"wandb\"><tr><td>epoch</td><td>5</td></tr><tr><td>train_accuracy</td><td>0.672</td></tr><tr><td>train_f1</td><td>0.6258</td></tr><tr><td>train_loss</td><td>0.61641</td></tr><tr><td>val_accuracy</td><td>0.74074</td></tr><tr><td>val_f1</td><td>0.71189</td></tr><tr><td>val_loss</td><td>0.60575</td></tr></table><br/></div></div>"
      ],
      "text/plain": [
       "<IPython.core.display.HTML object>"
      ]
     },
     "metadata": {},
     "output_type": "display_data"
    },
    {
     "data": {
      "text/html": [
       " View run <strong style=\"color:#cdcd00\">woven-sweep-7</strong> at: <a href='https://wandb.ai/barbonigiorgia-sapienza-universit-di-roma/graph-classification-graphs_sc/runs/1e70nqta' target=\"_blank\">https://wandb.ai/barbonigiorgia-sapienza-universit-di-roma/graph-classification-graphs_sc/runs/1e70nqta</a><br/> View project at: <a href='https://wandb.ai/barbonigiorgia-sapienza-universit-di-roma/graph-classification-graphs_sc' target=\"_blank\">https://wandb.ai/barbonigiorgia-sapienza-universit-di-roma/graph-classification-graphs_sc</a><br/>Synced 5 W&B file(s), 0 media file(s), 4 artifact file(s) and 0 other file(s)"
      ],
      "text/plain": [
       "<IPython.core.display.HTML object>"
      ]
     },
     "metadata": {},
     "output_type": "display_data"
    },
    {
     "data": {
      "text/html": [
       "Find logs at: <code>.\\wandb\\run-20241115_210058-1e70nqta\\logs</code>"
      ],
      "text/plain": [
       "<IPython.core.display.HTML object>"
      ]
     },
     "metadata": {},
     "output_type": "display_data"
    },
    {
     "name": "stderr",
     "output_type": "stream",
     "text": [
      "\u001b[34m\u001b[1mwandb\u001b[0m: Agent Starting Run: pp6xfd4i with config:\n",
      "\u001b[34m\u001b[1mwandb\u001b[0m: \tbatch_size: 8\n",
      "\u001b[34m\u001b[1mwandb\u001b[0m: \tin_channels: 6\n",
      "\u001b[34m\u001b[1mwandb\u001b[0m: \tlearning_rate: 0.01\n",
      "\u001b[34m\u001b[1mwandb\u001b[0m: \tnum_epochs: 5\n",
      "\u001b[34m\u001b[1mwandb\u001b[0m: \tnum_heads: 4\n",
      "\u001b[34m\u001b[1mwandb\u001b[0m: \toptimizer: adam\n",
      "\u001b[34m\u001b[1mwandb\u001b[0m: \tout_channels: 16\n",
      "\u001b[34m\u001b[1mwandb\u001b[0m: \trandom_state: 42\n",
      "\u001b[34m\u001b[1mwandb\u001b[0m: \ttest_size: 0.3\n",
      "\u001b[34m\u001b[1mwandb\u001b[0m: \tweight_decay: 0.0001\n"
     ]
    },
    {
     "data": {
      "text/html": [
       "Tracking run with wandb version 0.18.5"
      ],
      "text/plain": [
       "<IPython.core.display.HTML object>"
      ]
     },
     "metadata": {},
     "output_type": "display_data"
    },
    {
     "data": {
      "text/html": [
       "Run data is saved locally in <code>c:\\Users\\barbo\\brain classifier repo\\brain_classifier\\src\\wandb\\run-20241115_210120-pp6xfd4i</code>"
      ],
      "text/plain": [
       "<IPython.core.display.HTML object>"
      ]
     },
     "metadata": {},
     "output_type": "display_data"
    },
    {
     "data": {
      "text/html": [
       "Syncing run <strong><a href='https://wandb.ai/barbonigiorgia-sapienza-universit-di-roma/graph-classification-graphs_sc/runs/pp6xfd4i' target=\"_blank\">dutiful-sweep-8</a></strong> to <a href='https://wandb.ai/barbonigiorgia-sapienza-universit-di-roma/graph-classification-graphs_sc' target=\"_blank\">Weights & Biases</a> (<a href='https://wandb.me/run' target=\"_blank\">docs</a>)<br/>Sweep page: <a href='https://wandb.ai/barbonigiorgia-sapienza-universit-di-roma/graph-classification-graphs_sc/sweeps/5tx24pap' target=\"_blank\">https://wandb.ai/barbonigiorgia-sapienza-universit-di-roma/graph-classification-graphs_sc/sweeps/5tx24pap</a>"
      ],
      "text/plain": [
       "<IPython.core.display.HTML object>"
      ]
     },
     "metadata": {},
     "output_type": "display_data"
    },
    {
     "data": {
      "text/html": [
       " View project at <a href='https://wandb.ai/barbonigiorgia-sapienza-universit-di-roma/graph-classification-graphs_sc' target=\"_blank\">https://wandb.ai/barbonigiorgia-sapienza-universit-di-roma/graph-classification-graphs_sc</a>"
      ],
      "text/plain": [
       "<IPython.core.display.HTML object>"
      ]
     },
     "metadata": {},
     "output_type": "display_data"
    },
    {
     "data": {
      "text/html": [
       " View sweep at <a href='https://wandb.ai/barbonigiorgia-sapienza-universit-di-roma/graph-classification-graphs_sc/sweeps/5tx24pap' target=\"_blank\">https://wandb.ai/barbonigiorgia-sapienza-universit-di-roma/graph-classification-graphs_sc/sweeps/5tx24pap</a>"
      ],
      "text/plain": [
       "<IPython.core.display.HTML object>"
      ]
     },
     "metadata": {},
     "output_type": "display_data"
    },
    {
     "data": {
      "text/html": [
       " View run at <a href='https://wandb.ai/barbonigiorgia-sapienza-universit-di-roma/graph-classification-graphs_sc/runs/pp6xfd4i' target=\"_blank\">https://wandb.ai/barbonigiorgia-sapienza-universit-di-roma/graph-classification-graphs_sc/runs/pp6xfd4i</a>"
      ],
      "text/plain": [
       "<IPython.core.display.HTML object>"
      ]
     },
     "metadata": {},
     "output_type": "display_data"
    },
    {
     "name": "stdout",
     "output_type": "stream",
     "text": [
      "Running with config: {'batch_size': 8, 'in_channels': 6, 'learning_rate': 0.01, 'num_epochs': 5, 'num_heads': 4, 'optimizer': 'adam', 'out_channels': 16, 'random_state': 42, 'test_size': 0.3, 'weight_decay': 0.0001}\n"
     ]
    },
    {
     "data": {
      "text/html": [
       "<style>\n",
       "    table.wandb td:nth-child(1) { padding: 0 10px; text-align: left ; width: auto;} td:nth-child(2) {text-align: left ; width: 100%}\n",
       "    .wandb-row { display: flex; flex-direction: row; flex-wrap: wrap; justify-content: flex-start; width: 100% }\n",
       "    .wandb-col { display: flex; flex-direction: column; flex-basis: 100%; flex: 1; padding: 10px; }\n",
       "    </style>\n",
       "<div class=\"wandb-row\"><div class=\"wandb-col\"><h3>Run history:</h3><br/><table class=\"wandb\"><tr><td>epoch</td><td>▁▃▅▆█</td></tr><tr><td>train_accuracy</td><td>▁▆▇▇█</td></tr><tr><td>train_f1</td><td>▁▆▇▇█</td></tr><tr><td>train_loss</td><td>█▅▂▁▁</td></tr><tr><td>val_accuracy</td><td>▁▁▁█▁</td></tr><tr><td>val_f1</td><td>▂▁▃█▃</td></tr><tr><td>val_loss</td><td>█▅▃▃▁</td></tr></table><br/></div><div class=\"wandb-col\"><h3>Run summary:</h3><br/><table class=\"wandb\"><tr><td>epoch</td><td>5</td></tr><tr><td>train_accuracy</td><td>0.792</td></tr><tr><td>train_f1</td><td>0.792</td></tr><tr><td>train_loss</td><td>0.52084</td></tr><tr><td>val_accuracy</td><td>0.74074</td></tr><tr><td>val_f1</td><td>0.73929</td></tr><tr><td>val_loss</td><td>0.43558</td></tr></table><br/></div></div>"
      ],
      "text/plain": [
       "<IPython.core.display.HTML object>"
      ]
     },
     "metadata": {},
     "output_type": "display_data"
    },
    {
     "data": {
      "text/html": [
       " View run <strong style=\"color:#cdcd00\">dutiful-sweep-8</strong> at: <a href='https://wandb.ai/barbonigiorgia-sapienza-universit-di-roma/graph-classification-graphs_sc/runs/pp6xfd4i' target=\"_blank\">https://wandb.ai/barbonigiorgia-sapienza-universit-di-roma/graph-classification-graphs_sc/runs/pp6xfd4i</a><br/> View project at: <a href='https://wandb.ai/barbonigiorgia-sapienza-universit-di-roma/graph-classification-graphs_sc' target=\"_blank\">https://wandb.ai/barbonigiorgia-sapienza-universit-di-roma/graph-classification-graphs_sc</a><br/>Synced 5 W&B file(s), 0 media file(s), 4 artifact file(s) and 0 other file(s)"
      ],
      "text/plain": [
       "<IPython.core.display.HTML object>"
      ]
     },
     "metadata": {},
     "output_type": "display_data"
    },
    {
     "data": {
      "text/html": [
       "Find logs at: <code>.\\wandb\\run-20241115_210120-pp6xfd4i\\logs</code>"
      ],
      "text/plain": [
       "<IPython.core.display.HTML object>"
      ]
     },
     "metadata": {},
     "output_type": "display_data"
    },
    {
     "name": "stderr",
     "output_type": "stream",
     "text": [
      "\u001b[34m\u001b[1mwandb\u001b[0m: Agent Starting Run: f5mo9z0y with config:\n",
      "\u001b[34m\u001b[1mwandb\u001b[0m: \tbatch_size: 32\n",
      "\u001b[34m\u001b[1mwandb\u001b[0m: \tin_channels: 6\n",
      "\u001b[34m\u001b[1mwandb\u001b[0m: \tlearning_rate: 0.0001\n",
      "\u001b[34m\u001b[1mwandb\u001b[0m: \tnum_epochs: 5\n",
      "\u001b[34m\u001b[1mwandb\u001b[0m: \tnum_heads: 2\n",
      "\u001b[34m\u001b[1mwandb\u001b[0m: \toptimizer: adam\n",
      "\u001b[34m\u001b[1mwandb\u001b[0m: \tout_channels: 4\n",
      "\u001b[34m\u001b[1mwandb\u001b[0m: \trandom_state: 42\n",
      "\u001b[34m\u001b[1mwandb\u001b[0m: \ttest_size: 0.3\n",
      "\u001b[34m\u001b[1mwandb\u001b[0m: \tweight_decay: 0.0001\n"
     ]
    },
    {
     "data": {
      "text/html": [
       "Tracking run with wandb version 0.18.5"
      ],
      "text/plain": [
       "<IPython.core.display.HTML object>"
      ]
     },
     "metadata": {},
     "output_type": "display_data"
    },
    {
     "data": {
      "text/html": [
       "Run data is saved locally in <code>c:\\Users\\barbo\\brain classifier repo\\brain_classifier\\src\\wandb\\run-20241115_210207-f5mo9z0y</code>"
      ],
      "text/plain": [
       "<IPython.core.display.HTML object>"
      ]
     },
     "metadata": {},
     "output_type": "display_data"
    },
    {
     "data": {
      "text/html": [
       "Syncing run <strong><a href='https://wandb.ai/barbonigiorgia-sapienza-universit-di-roma/graph-classification-graphs_sc/runs/f5mo9z0y' target=\"_blank\">honest-sweep-9</a></strong> to <a href='https://wandb.ai/barbonigiorgia-sapienza-universit-di-roma/graph-classification-graphs_sc' target=\"_blank\">Weights & Biases</a> (<a href='https://wandb.me/run' target=\"_blank\">docs</a>)<br/>Sweep page: <a href='https://wandb.ai/barbonigiorgia-sapienza-universit-di-roma/graph-classification-graphs_sc/sweeps/5tx24pap' target=\"_blank\">https://wandb.ai/barbonigiorgia-sapienza-universit-di-roma/graph-classification-graphs_sc/sweeps/5tx24pap</a>"
      ],
      "text/plain": [
       "<IPython.core.display.HTML object>"
      ]
     },
     "metadata": {},
     "output_type": "display_data"
    },
    {
     "data": {
      "text/html": [
       " View project at <a href='https://wandb.ai/barbonigiorgia-sapienza-universit-di-roma/graph-classification-graphs_sc' target=\"_blank\">https://wandb.ai/barbonigiorgia-sapienza-universit-di-roma/graph-classification-graphs_sc</a>"
      ],
      "text/plain": [
       "<IPython.core.display.HTML object>"
      ]
     },
     "metadata": {},
     "output_type": "display_data"
    },
    {
     "data": {
      "text/html": [
       " View sweep at <a href='https://wandb.ai/barbonigiorgia-sapienza-universit-di-roma/graph-classification-graphs_sc/sweeps/5tx24pap' target=\"_blank\">https://wandb.ai/barbonigiorgia-sapienza-universit-di-roma/graph-classification-graphs_sc/sweeps/5tx24pap</a>"
      ],
      "text/plain": [
       "<IPython.core.display.HTML object>"
      ]
     },
     "metadata": {},
     "output_type": "display_data"
    },
    {
     "data": {
      "text/html": [
       " View run at <a href='https://wandb.ai/barbonigiorgia-sapienza-universit-di-roma/graph-classification-graphs_sc/runs/f5mo9z0y' target=\"_blank\">https://wandb.ai/barbonigiorgia-sapienza-universit-di-roma/graph-classification-graphs_sc/runs/f5mo9z0y</a>"
      ],
      "text/plain": [
       "<IPython.core.display.HTML object>"
      ]
     },
     "metadata": {},
     "output_type": "display_data"
    },
    {
     "name": "stdout",
     "output_type": "stream",
     "text": [
      "Running with config: {'batch_size': 32, 'in_channels': 6, 'learning_rate': 0.0001, 'num_epochs': 5, 'num_heads': 2, 'optimizer': 'adam', 'out_channels': 4, 'random_state': 42, 'test_size': 0.3, 'weight_decay': 0.0001}\n"
     ]
    },
    {
     "data": {
      "text/html": [
       "<style>\n",
       "    table.wandb td:nth-child(1) { padding: 0 10px; text-align: left ; width: auto;} td:nth-child(2) {text-align: left ; width: 100%}\n",
       "    .wandb-row { display: flex; flex-direction: row; flex-wrap: wrap; justify-content: flex-start; width: 100% }\n",
       "    .wandb-col { display: flex; flex-direction: column; flex-basis: 100%; flex: 1; padding: 10px; }\n",
       "    </style>\n",
       "<div class=\"wandb-row\"><div class=\"wandb-col\"><h3>Run history:</h3><br/><table class=\"wandb\"><tr><td>epoch</td><td>▁▃▅▆█</td></tr><tr><td>train_accuracy</td><td>▁▁▁▁▁</td></tr><tr><td>train_f1</td><td>▁▁▁▁▁</td></tr><tr><td>train_loss</td><td>▁▅▂██</td></tr><tr><td>val_accuracy</td><td>▁▁▁▁▁</td></tr><tr><td>val_f1</td><td>▁▁▁▁▁</td></tr><tr><td>val_loss</td><td>█▆▅▃▁</td></tr></table><br/></div><div class=\"wandb-col\"><h3>Run summary:</h3><br/><table class=\"wandb\"><tr><td>epoch</td><td>5</td></tr><tr><td>train_accuracy</td><td>0.568</td></tr><tr><td>train_f1</td><td>0.41151</td></tr><tr><td>train_loss</td><td>0.68503</td></tr><tr><td>val_accuracy</td><td>0.55556</td></tr><tr><td>val_f1</td><td>0.39683</td></tr><tr><td>val_loss</td><td>0.68647</td></tr></table><br/></div></div>"
      ],
      "text/plain": [
       "<IPython.core.display.HTML object>"
      ]
     },
     "metadata": {},
     "output_type": "display_data"
    },
    {
     "data": {
      "text/html": [
       " View run <strong style=\"color:#cdcd00\">honest-sweep-9</strong> at: <a href='https://wandb.ai/barbonigiorgia-sapienza-universit-di-roma/graph-classification-graphs_sc/runs/f5mo9z0y' target=\"_blank\">https://wandb.ai/barbonigiorgia-sapienza-universit-di-roma/graph-classification-graphs_sc/runs/f5mo9z0y</a><br/> View project at: <a href='https://wandb.ai/barbonigiorgia-sapienza-universit-di-roma/graph-classification-graphs_sc' target=\"_blank\">https://wandb.ai/barbonigiorgia-sapienza-universit-di-roma/graph-classification-graphs_sc</a><br/>Synced 5 W&B file(s), 0 media file(s), 4 artifact file(s) and 0 other file(s)"
      ],
      "text/plain": [
       "<IPython.core.display.HTML object>"
      ]
     },
     "metadata": {},
     "output_type": "display_data"
    },
    {
     "data": {
      "text/html": [
       "Find logs at: <code>.\\wandb\\run-20241115_210207-f5mo9z0y\\logs</code>"
      ],
      "text/plain": [
       "<IPython.core.display.HTML object>"
      ]
     },
     "metadata": {},
     "output_type": "display_data"
    },
    {
     "name": "stderr",
     "output_type": "stream",
     "text": [
      "\u001b[34m\u001b[1mwandb\u001b[0m: Agent Starting Run: hmlx4ne0 with config:\n",
      "\u001b[34m\u001b[1mwandb\u001b[0m: \tbatch_size: 8\n",
      "\u001b[34m\u001b[1mwandb\u001b[0m: \tin_channels: 6\n",
      "\u001b[34m\u001b[1mwandb\u001b[0m: \tlearning_rate: 0.01\n",
      "\u001b[34m\u001b[1mwandb\u001b[0m: \tnum_epochs: 5\n",
      "\u001b[34m\u001b[1mwandb\u001b[0m: \tnum_heads: 4\n",
      "\u001b[34m\u001b[1mwandb\u001b[0m: \toptimizer: sgd\n",
      "\u001b[34m\u001b[1mwandb\u001b[0m: \tout_channels: 8\n",
      "\u001b[34m\u001b[1mwandb\u001b[0m: \trandom_state: 42\n",
      "\u001b[34m\u001b[1mwandb\u001b[0m: \ttest_size: 0.3\n",
      "\u001b[34m\u001b[1mwandb\u001b[0m: \tweight_decay: 0\n"
     ]
    },
    {
     "data": {
      "text/html": [
       "Tracking run with wandb version 0.18.5"
      ],
      "text/plain": [
       "<IPython.core.display.HTML object>"
      ]
     },
     "metadata": {},
     "output_type": "display_data"
    },
    {
     "data": {
      "text/html": [
       "Run data is saved locally in <code>c:\\Users\\barbo\\brain classifier repo\\brain_classifier\\src\\wandb\\run-20241115_210223-hmlx4ne0</code>"
      ],
      "text/plain": [
       "<IPython.core.display.HTML object>"
      ]
     },
     "metadata": {},
     "output_type": "display_data"
    },
    {
     "data": {
      "text/html": [
       "Syncing run <strong><a href='https://wandb.ai/barbonigiorgia-sapienza-universit-di-roma/graph-classification-graphs_sc/runs/hmlx4ne0' target=\"_blank\">eternal-sweep-10</a></strong> to <a href='https://wandb.ai/barbonigiorgia-sapienza-universit-di-roma/graph-classification-graphs_sc' target=\"_blank\">Weights & Biases</a> (<a href='https://wandb.me/run' target=\"_blank\">docs</a>)<br/>Sweep page: <a href='https://wandb.ai/barbonigiorgia-sapienza-universit-di-roma/graph-classification-graphs_sc/sweeps/5tx24pap' target=\"_blank\">https://wandb.ai/barbonigiorgia-sapienza-universit-di-roma/graph-classification-graphs_sc/sweeps/5tx24pap</a>"
      ],
      "text/plain": [
       "<IPython.core.display.HTML object>"
      ]
     },
     "metadata": {},
     "output_type": "display_data"
    },
    {
     "data": {
      "text/html": [
       " View project at <a href='https://wandb.ai/barbonigiorgia-sapienza-universit-di-roma/graph-classification-graphs_sc' target=\"_blank\">https://wandb.ai/barbonigiorgia-sapienza-universit-di-roma/graph-classification-graphs_sc</a>"
      ],
      "text/plain": [
       "<IPython.core.display.HTML object>"
      ]
     },
     "metadata": {},
     "output_type": "display_data"
    },
    {
     "data": {
      "text/html": [
       " View sweep at <a href='https://wandb.ai/barbonigiorgia-sapienza-universit-di-roma/graph-classification-graphs_sc/sweeps/5tx24pap' target=\"_blank\">https://wandb.ai/barbonigiorgia-sapienza-universit-di-roma/graph-classification-graphs_sc/sweeps/5tx24pap</a>"
      ],
      "text/plain": [
       "<IPython.core.display.HTML object>"
      ]
     },
     "metadata": {},
     "output_type": "display_data"
    },
    {
     "data": {
      "text/html": [
       " View run at <a href='https://wandb.ai/barbonigiorgia-sapienza-universit-di-roma/graph-classification-graphs_sc/runs/hmlx4ne0' target=\"_blank\">https://wandb.ai/barbonigiorgia-sapienza-universit-di-roma/graph-classification-graphs_sc/runs/hmlx4ne0</a>"
      ],
      "text/plain": [
       "<IPython.core.display.HTML object>"
      ]
     },
     "metadata": {},
     "output_type": "display_data"
    },
    {
     "name": "stdout",
     "output_type": "stream",
     "text": [
      "Running with config: {'batch_size': 8, 'in_channels': 6, 'learning_rate': 0.01, 'num_epochs': 5, 'num_heads': 4, 'optimizer': 'sgd', 'out_channels': 8, 'random_state': 42, 'test_size': 0.3, 'weight_decay': 0}\n"
     ]
    },
    {
     "data": {
      "text/html": [
       "<style>\n",
       "    table.wandb td:nth-child(1) { padding: 0 10px; text-align: left ; width: auto;} td:nth-child(2) {text-align: left ; width: 100%}\n",
       "    .wandb-row { display: flex; flex-direction: row; flex-wrap: wrap; justify-content: flex-start; width: 100% }\n",
       "    .wandb-col { display: flex; flex-direction: column; flex-basis: 100%; flex: 1; padding: 10px; }\n",
       "    </style>\n",
       "<div class=\"wandb-row\"><div class=\"wandb-col\"><h3>Run history:</h3><br/><table class=\"wandb\"><tr><td>epoch</td><td>▁▃▅▆█</td></tr><tr><td>train_accuracy</td><td>▁████</td></tr><tr><td>train_f1</td><td>█▁▁▁▁</td></tr><tr><td>train_loss</td><td>█▅▃▂▁</td></tr><tr><td>val_accuracy</td><td>█▁███</td></tr><tr><td>val_f1</td><td>█▁███</td></tr><tr><td>val_loss</td><td>█▅▄▂▁</td></tr></table><br/></div><div class=\"wandb-col\"><h3>Run summary:</h3><br/><table class=\"wandb\"><tr><td>epoch</td><td>5</td></tr><tr><td>train_accuracy</td><td>0.568</td></tr><tr><td>train_f1</td><td>0.41151</td></tr><tr><td>train_loss</td><td>0.64838</td></tr><tr><td>val_accuracy</td><td>0.62963</td></tr><tr><td>val_f1</td><td>0.54365</td></tr><tr><td>val_loss</td><td>0.64302</td></tr></table><br/></div></div>"
      ],
      "text/plain": [
       "<IPython.core.display.HTML object>"
      ]
     },
     "metadata": {},
     "output_type": "display_data"
    },
    {
     "data": {
      "text/html": [
       " View run <strong style=\"color:#cdcd00\">eternal-sweep-10</strong> at: <a href='https://wandb.ai/barbonigiorgia-sapienza-universit-di-roma/graph-classification-graphs_sc/runs/hmlx4ne0' target=\"_blank\">https://wandb.ai/barbonigiorgia-sapienza-universit-di-roma/graph-classification-graphs_sc/runs/hmlx4ne0</a><br/> View project at: <a href='https://wandb.ai/barbonigiorgia-sapienza-universit-di-roma/graph-classification-graphs_sc' target=\"_blank\">https://wandb.ai/barbonigiorgia-sapienza-universit-di-roma/graph-classification-graphs_sc</a><br/>Synced 5 W&B file(s), 0 media file(s), 2 artifact file(s) and 0 other file(s)"
      ],
      "text/plain": [
       "<IPython.core.display.HTML object>"
      ]
     },
     "metadata": {},
     "output_type": "display_data"
    },
    {
     "data": {
      "text/html": [
       "Find logs at: <code>.\\wandb\\run-20241115_210223-hmlx4ne0\\logs</code>"
      ],
      "text/plain": [
       "<IPython.core.display.HTML object>"
      ]
     },
     "metadata": {},
     "output_type": "display_data"
    },
    {
     "name": "stderr",
     "output_type": "stream",
     "text": [
      "\u001b[34m\u001b[1mwandb\u001b[0m: Agent Starting Run: q8x5ohgt with config:\n",
      "\u001b[34m\u001b[1mwandb\u001b[0m: \tbatch_size: 8\n",
      "\u001b[34m\u001b[1mwandb\u001b[0m: \tin_channels: 6\n",
      "\u001b[34m\u001b[1mwandb\u001b[0m: \tlearning_rate: 0.0001\n",
      "\u001b[34m\u001b[1mwandb\u001b[0m: \tnum_epochs: 5\n",
      "\u001b[34m\u001b[1mwandb\u001b[0m: \tnum_heads: 1\n",
      "\u001b[34m\u001b[1mwandb\u001b[0m: \toptimizer: adam\n",
      "\u001b[34m\u001b[1mwandb\u001b[0m: \tout_channels: 4\n",
      "\u001b[34m\u001b[1mwandb\u001b[0m: \trandom_state: 42\n",
      "\u001b[34m\u001b[1mwandb\u001b[0m: \ttest_size: 0.3\n",
      "\u001b[34m\u001b[1mwandb\u001b[0m: \tweight_decay: 0.0001\n"
     ]
    },
    {
     "data": {
      "text/html": [
       "Tracking run with wandb version 0.18.5"
      ],
      "text/plain": [
       "<IPython.core.display.HTML object>"
      ]
     },
     "metadata": {},
     "output_type": "display_data"
    },
    {
     "data": {
      "text/html": [
       "Run data is saved locally in <code>c:\\Users\\barbo\\brain classifier repo\\brain_classifier\\src\\wandb\\run-20241115_210305-q8x5ohgt</code>"
      ],
      "text/plain": [
       "<IPython.core.display.HTML object>"
      ]
     },
     "metadata": {},
     "output_type": "display_data"
    },
    {
     "data": {
      "text/html": [
       "Syncing run <strong><a href='https://wandb.ai/barbonigiorgia-sapienza-universit-di-roma/graph-classification-graphs_sc/runs/q8x5ohgt' target=\"_blank\">trim-sweep-11</a></strong> to <a href='https://wandb.ai/barbonigiorgia-sapienza-universit-di-roma/graph-classification-graphs_sc' target=\"_blank\">Weights & Biases</a> (<a href='https://wandb.me/run' target=\"_blank\">docs</a>)<br/>Sweep page: <a href='https://wandb.ai/barbonigiorgia-sapienza-universit-di-roma/graph-classification-graphs_sc/sweeps/5tx24pap' target=\"_blank\">https://wandb.ai/barbonigiorgia-sapienza-universit-di-roma/graph-classification-graphs_sc/sweeps/5tx24pap</a>"
      ],
      "text/plain": [
       "<IPython.core.display.HTML object>"
      ]
     },
     "metadata": {},
     "output_type": "display_data"
    },
    {
     "data": {
      "text/html": [
       " View project at <a href='https://wandb.ai/barbonigiorgia-sapienza-universit-di-roma/graph-classification-graphs_sc' target=\"_blank\">https://wandb.ai/barbonigiorgia-sapienza-universit-di-roma/graph-classification-graphs_sc</a>"
      ],
      "text/plain": [
       "<IPython.core.display.HTML object>"
      ]
     },
     "metadata": {},
     "output_type": "display_data"
    },
    {
     "data": {
      "text/html": [
       " View sweep at <a href='https://wandb.ai/barbonigiorgia-sapienza-universit-di-roma/graph-classification-graphs_sc/sweeps/5tx24pap' target=\"_blank\">https://wandb.ai/barbonigiorgia-sapienza-universit-di-roma/graph-classification-graphs_sc/sweeps/5tx24pap</a>"
      ],
      "text/plain": [
       "<IPython.core.display.HTML object>"
      ]
     },
     "metadata": {},
     "output_type": "display_data"
    },
    {
     "data": {
      "text/html": [
       " View run at <a href='https://wandb.ai/barbonigiorgia-sapienza-universit-di-roma/graph-classification-graphs_sc/runs/q8x5ohgt' target=\"_blank\">https://wandb.ai/barbonigiorgia-sapienza-universit-di-roma/graph-classification-graphs_sc/runs/q8x5ohgt</a>"
      ],
      "text/plain": [
       "<IPython.core.display.HTML object>"
      ]
     },
     "metadata": {},
     "output_type": "display_data"
    },
    {
     "name": "stdout",
     "output_type": "stream",
     "text": [
      "Running with config: {'batch_size': 8, 'in_channels': 6, 'learning_rate': 0.0001, 'num_epochs': 5, 'num_heads': 1, 'optimizer': 'adam', 'out_channels': 4, 'random_state': 42, 'test_size': 0.3, 'weight_decay': 0.0001}\n"
     ]
    },
    {
     "data": {
      "text/html": [
       "<style>\n",
       "    table.wandb td:nth-child(1) { padding: 0 10px; text-align: left ; width: auto;} td:nth-child(2) {text-align: left ; width: 100%}\n",
       "    .wandb-row { display: flex; flex-direction: row; flex-wrap: wrap; justify-content: flex-start; width: 100% }\n",
       "    .wandb-col { display: flex; flex-direction: column; flex-basis: 100%; flex: 1; padding: 10px; }\n",
       "    </style>\n",
       "<div class=\"wandb-row\"><div class=\"wandb-col\"><h3>Run history:</h3><br/><table class=\"wandb\"><tr><td>epoch</td><td>▁▃▅▆█</td></tr><tr><td>train_accuracy</td><td>▁▁▁▁▁</td></tr><tr><td>train_f1</td><td>▁▁▁▁▁</td></tr><tr><td>train_loss</td><td>▆█▁▅▅</td></tr><tr><td>val_accuracy</td><td>▁▁▁▁▁</td></tr><tr><td>val_f1</td><td>▁▁▁▁▁</td></tr><tr><td>val_loss</td><td>█▆▄▃▁</td></tr></table><br/></div><div class=\"wandb-col\"><h3>Run summary:</h3><br/><table class=\"wandb\"><tr><td>epoch</td><td>5</td></tr><tr><td>train_accuracy</td><td>0.568</td></tr><tr><td>train_f1</td><td>0.41151</td></tr><tr><td>train_loss</td><td>0.70427</td></tr><tr><td>val_accuracy</td><td>0.55556</td></tr><tr><td>val_f1</td><td>0.39683</td></tr><tr><td>val_loss</td><td>0.6999</td></tr></table><br/></div></div>"
      ],
      "text/plain": [
       "<IPython.core.display.HTML object>"
      ]
     },
     "metadata": {},
     "output_type": "display_data"
    },
    {
     "data": {
      "text/html": [
       " View run <strong style=\"color:#cdcd00\">trim-sweep-11</strong> at: <a href='https://wandb.ai/barbonigiorgia-sapienza-universit-di-roma/graph-classification-graphs_sc/runs/q8x5ohgt' target=\"_blank\">https://wandb.ai/barbonigiorgia-sapienza-universit-di-roma/graph-classification-graphs_sc/runs/q8x5ohgt</a><br/> View project at: <a href='https://wandb.ai/barbonigiorgia-sapienza-universit-di-roma/graph-classification-graphs_sc' target=\"_blank\">https://wandb.ai/barbonigiorgia-sapienza-universit-di-roma/graph-classification-graphs_sc</a><br/>Synced 5 W&B file(s), 0 media file(s), 4 artifact file(s) and 0 other file(s)"
      ],
      "text/plain": [
       "<IPython.core.display.HTML object>"
      ]
     },
     "metadata": {},
     "output_type": "display_data"
    },
    {
     "data": {
      "text/html": [
       "Find logs at: <code>.\\wandb\\run-20241115_210305-q8x5ohgt\\logs</code>"
      ],
      "text/plain": [
       "<IPython.core.display.HTML object>"
      ]
     },
     "metadata": {},
     "output_type": "display_data"
    },
    {
     "name": "stderr",
     "output_type": "stream",
     "text": [
      "\u001b[34m\u001b[1mwandb\u001b[0m: Agent Starting Run: 6uvrkrq4 with config:\n",
      "\u001b[34m\u001b[1mwandb\u001b[0m: \tbatch_size: 32\n",
      "\u001b[34m\u001b[1mwandb\u001b[0m: \tin_channels: 6\n",
      "\u001b[34m\u001b[1mwandb\u001b[0m: \tlearning_rate: 0.0001\n",
      "\u001b[34m\u001b[1mwandb\u001b[0m: \tnum_epochs: 5\n",
      "\u001b[34m\u001b[1mwandb\u001b[0m: \tnum_heads: 1\n",
      "\u001b[34m\u001b[1mwandb\u001b[0m: \toptimizer: adam\n",
      "\u001b[34m\u001b[1mwandb\u001b[0m: \tout_channels: 16\n",
      "\u001b[34m\u001b[1mwandb\u001b[0m: \trandom_state: 42\n",
      "\u001b[34m\u001b[1mwandb\u001b[0m: \ttest_size: 0.3\n",
      "\u001b[34m\u001b[1mwandb\u001b[0m: \tweight_decay: 0.0001\n"
     ]
    },
    {
     "data": {
      "text/html": [
       "Tracking run with wandb version 0.18.5"
      ],
      "text/plain": [
       "<IPython.core.display.HTML object>"
      ]
     },
     "metadata": {},
     "output_type": "display_data"
    },
    {
     "data": {
      "text/html": [
       "Run data is saved locally in <code>c:\\Users\\barbo\\brain classifier repo\\brain_classifier\\src\\wandb\\run-20241115_210326-6uvrkrq4</code>"
      ],
      "text/plain": [
       "<IPython.core.display.HTML object>"
      ]
     },
     "metadata": {},
     "output_type": "display_data"
    },
    {
     "data": {
      "text/html": [
       "Syncing run <strong><a href='https://wandb.ai/barbonigiorgia-sapienza-universit-di-roma/graph-classification-graphs_sc/runs/6uvrkrq4' target=\"_blank\">lemon-sweep-12</a></strong> to <a href='https://wandb.ai/barbonigiorgia-sapienza-universit-di-roma/graph-classification-graphs_sc' target=\"_blank\">Weights & Biases</a> (<a href='https://wandb.me/run' target=\"_blank\">docs</a>)<br/>Sweep page: <a href='https://wandb.ai/barbonigiorgia-sapienza-universit-di-roma/graph-classification-graphs_sc/sweeps/5tx24pap' target=\"_blank\">https://wandb.ai/barbonigiorgia-sapienza-universit-di-roma/graph-classification-graphs_sc/sweeps/5tx24pap</a>"
      ],
      "text/plain": [
       "<IPython.core.display.HTML object>"
      ]
     },
     "metadata": {},
     "output_type": "display_data"
    },
    {
     "data": {
      "text/html": [
       " View project at <a href='https://wandb.ai/barbonigiorgia-sapienza-universit-di-roma/graph-classification-graphs_sc' target=\"_blank\">https://wandb.ai/barbonigiorgia-sapienza-universit-di-roma/graph-classification-graphs_sc</a>"
      ],
      "text/plain": [
       "<IPython.core.display.HTML object>"
      ]
     },
     "metadata": {},
     "output_type": "display_data"
    },
    {
     "data": {
      "text/html": [
       " View sweep at <a href='https://wandb.ai/barbonigiorgia-sapienza-universit-di-roma/graph-classification-graphs_sc/sweeps/5tx24pap' target=\"_blank\">https://wandb.ai/barbonigiorgia-sapienza-universit-di-roma/graph-classification-graphs_sc/sweeps/5tx24pap</a>"
      ],
      "text/plain": [
       "<IPython.core.display.HTML object>"
      ]
     },
     "metadata": {},
     "output_type": "display_data"
    },
    {
     "data": {
      "text/html": [
       " View run at <a href='https://wandb.ai/barbonigiorgia-sapienza-universit-di-roma/graph-classification-graphs_sc/runs/6uvrkrq4' target=\"_blank\">https://wandb.ai/barbonigiorgia-sapienza-universit-di-roma/graph-classification-graphs_sc/runs/6uvrkrq4</a>"
      ],
      "text/plain": [
       "<IPython.core.display.HTML object>"
      ]
     },
     "metadata": {},
     "output_type": "display_data"
    },
    {
     "name": "stdout",
     "output_type": "stream",
     "text": [
      "Running with config: {'batch_size': 32, 'in_channels': 6, 'learning_rate': 0.0001, 'num_epochs': 5, 'num_heads': 1, 'optimizer': 'adam', 'out_channels': 16, 'random_state': 42, 'test_size': 0.3, 'weight_decay': 0.0001}\n"
     ]
    },
    {
     "data": {
      "text/html": [
       "<style>\n",
       "    table.wandb td:nth-child(1) { padding: 0 10px; text-align: left ; width: auto;} td:nth-child(2) {text-align: left ; width: 100%}\n",
       "    .wandb-row { display: flex; flex-direction: row; flex-wrap: wrap; justify-content: flex-start; width: 100% }\n",
       "    .wandb-col { display: flex; flex-direction: column; flex-basis: 100%; flex: 1; padding: 10px; }\n",
       "    </style>\n",
       "<div class=\"wandb-row\"><div class=\"wandb-col\"><h3>Run history:</h3><br/><table class=\"wandb\"><tr><td>epoch</td><td>▁▃▅▆█</td></tr><tr><td>train_accuracy</td><td>▁▁▁▁▁</td></tr><tr><td>train_f1</td><td>▁▁▁▁▁</td></tr><tr><td>train_loss</td><td>▁▅▂█▇</td></tr><tr><td>val_accuracy</td><td>▁▁▁▁▁</td></tr><tr><td>val_f1</td><td>▁▁▁▁▁</td></tr><tr><td>val_loss</td><td>█▆▅▃▁</td></tr></table><br/></div><div class=\"wandb-col\"><h3>Run summary:</h3><br/><table class=\"wandb\"><tr><td>epoch</td><td>5</td></tr><tr><td>train_accuracy</td><td>0.568</td></tr><tr><td>train_f1</td><td>0.41151</td></tr><tr><td>train_loss</td><td>0.6926</td></tr><tr><td>val_accuracy</td><td>0.55556</td></tr><tr><td>val_f1</td><td>0.39683</td></tr><tr><td>val_loss</td><td>0.6952</td></tr></table><br/></div></div>"
      ],
      "text/plain": [
       "<IPython.core.display.HTML object>"
      ]
     },
     "metadata": {},
     "output_type": "display_data"
    },
    {
     "data": {
      "text/html": [
       " View run <strong style=\"color:#cdcd00\">lemon-sweep-12</strong> at: <a href='https://wandb.ai/barbonigiorgia-sapienza-universit-di-roma/graph-classification-graphs_sc/runs/6uvrkrq4' target=\"_blank\">https://wandb.ai/barbonigiorgia-sapienza-universit-di-roma/graph-classification-graphs_sc/runs/6uvrkrq4</a><br/> View project at: <a href='https://wandb.ai/barbonigiorgia-sapienza-universit-di-roma/graph-classification-graphs_sc' target=\"_blank\">https://wandb.ai/barbonigiorgia-sapienza-universit-di-roma/graph-classification-graphs_sc</a><br/>Synced 5 W&B file(s), 0 media file(s), 4 artifact file(s) and 0 other file(s)"
      ],
      "text/plain": [
       "<IPython.core.display.HTML object>"
      ]
     },
     "metadata": {},
     "output_type": "display_data"
    },
    {
     "data": {
      "text/html": [
       "Find logs at: <code>.\\wandb\\run-20241115_210326-6uvrkrq4\\logs</code>"
      ],
      "text/plain": [
       "<IPython.core.display.HTML object>"
      ]
     },
     "metadata": {},
     "output_type": "display_data"
    },
    {
     "name": "stderr",
     "output_type": "stream",
     "text": [
      "\u001b[34m\u001b[1mwandb\u001b[0m: Sweep Agent: Waiting for job.\n",
      "\u001b[34m\u001b[1mwandb\u001b[0m: Job received.\n",
      "\u001b[34m\u001b[1mwandb\u001b[0m: Agent Starting Run: 5s2eqx4l with config:\n",
      "\u001b[34m\u001b[1mwandb\u001b[0m: \tbatch_size: 16\n",
      "\u001b[34m\u001b[1mwandb\u001b[0m: \tin_channels: 6\n",
      "\u001b[34m\u001b[1mwandb\u001b[0m: \tlearning_rate: 0.001\n",
      "\u001b[34m\u001b[1mwandb\u001b[0m: \tnum_epochs: 5\n",
      "\u001b[34m\u001b[1mwandb\u001b[0m: \tnum_heads: 1\n",
      "\u001b[34m\u001b[1mwandb\u001b[0m: \toptimizer: sgd\n",
      "\u001b[34m\u001b[1mwandb\u001b[0m: \tout_channels: 16\n",
      "\u001b[34m\u001b[1mwandb\u001b[0m: \trandom_state: 42\n",
      "\u001b[34m\u001b[1mwandb\u001b[0m: \ttest_size: 0.3\n",
      "\u001b[34m\u001b[1mwandb\u001b[0m: \tweight_decay: 1e-05\n"
     ]
    },
    {
     "data": {
      "text/html": [
       "Tracking run with wandb version 0.18.5"
      ],
      "text/plain": [
       "<IPython.core.display.HTML object>"
      ]
     },
     "metadata": {},
     "output_type": "display_data"
    },
    {
     "data": {
      "text/html": [
       "Run data is saved locally in <code>c:\\Users\\barbo\\brain classifier repo\\brain_classifier\\src\\wandb\\run-20241115_210347-5s2eqx4l</code>"
      ],
      "text/plain": [
       "<IPython.core.display.HTML object>"
      ]
     },
     "metadata": {},
     "output_type": "display_data"
    },
    {
     "data": {
      "text/html": [
       "Syncing run <strong><a href='https://wandb.ai/barbonigiorgia-sapienza-universit-di-roma/graph-classification-graphs_sc/runs/5s2eqx4l' target=\"_blank\">expert-sweep-13</a></strong> to <a href='https://wandb.ai/barbonigiorgia-sapienza-universit-di-roma/graph-classification-graphs_sc' target=\"_blank\">Weights & Biases</a> (<a href='https://wandb.me/run' target=\"_blank\">docs</a>)<br/>Sweep page: <a href='https://wandb.ai/barbonigiorgia-sapienza-universit-di-roma/graph-classification-graphs_sc/sweeps/5tx24pap' target=\"_blank\">https://wandb.ai/barbonigiorgia-sapienza-universit-di-roma/graph-classification-graphs_sc/sweeps/5tx24pap</a>"
      ],
      "text/plain": [
       "<IPython.core.display.HTML object>"
      ]
     },
     "metadata": {},
     "output_type": "display_data"
    },
    {
     "data": {
      "text/html": [
       " View project at <a href='https://wandb.ai/barbonigiorgia-sapienza-universit-di-roma/graph-classification-graphs_sc' target=\"_blank\">https://wandb.ai/barbonigiorgia-sapienza-universit-di-roma/graph-classification-graphs_sc</a>"
      ],
      "text/plain": [
       "<IPython.core.display.HTML object>"
      ]
     },
     "metadata": {},
     "output_type": "display_data"
    },
    {
     "data": {
      "text/html": [
       " View sweep at <a href='https://wandb.ai/barbonigiorgia-sapienza-universit-di-roma/graph-classification-graphs_sc/sweeps/5tx24pap' target=\"_blank\">https://wandb.ai/barbonigiorgia-sapienza-universit-di-roma/graph-classification-graphs_sc/sweeps/5tx24pap</a>"
      ],
      "text/plain": [
       "<IPython.core.display.HTML object>"
      ]
     },
     "metadata": {},
     "output_type": "display_data"
    },
    {
     "data": {
      "text/html": [
       " View run at <a href='https://wandb.ai/barbonigiorgia-sapienza-universit-di-roma/graph-classification-graphs_sc/runs/5s2eqx4l' target=\"_blank\">https://wandb.ai/barbonigiorgia-sapienza-universit-di-roma/graph-classification-graphs_sc/runs/5s2eqx4l</a>"
      ],
      "text/plain": [
       "<IPython.core.display.HTML object>"
      ]
     },
     "metadata": {},
     "output_type": "display_data"
    },
    {
     "name": "stdout",
     "output_type": "stream",
     "text": [
      "Running with config: {'batch_size': 16, 'in_channels': 6, 'learning_rate': 0.001, 'num_epochs': 5, 'num_heads': 1, 'optimizer': 'sgd', 'out_channels': 16, 'random_state': 42, 'test_size': 0.3, 'weight_decay': 1e-05}\n"
     ]
    },
    {
     "data": {
      "text/html": [
       "<style>\n",
       "    table.wandb td:nth-child(1) { padding: 0 10px; text-align: left ; width: auto;} td:nth-child(2) {text-align: left ; width: 100%}\n",
       "    .wandb-row { display: flex; flex-direction: row; flex-wrap: wrap; justify-content: flex-start; width: 100% }\n",
       "    .wandb-col { display: flex; flex-direction: column; flex-basis: 100%; flex: 1; padding: 10px; }\n",
       "    </style>\n",
       "<div class=\"wandb-row\"><div class=\"wandb-col\"><h3>Run history:</h3><br/><table class=\"wandb\"><tr><td>epoch</td><td>▁▃▅▆█</td></tr><tr><td>train_accuracy</td><td>▁▁▁▁▁</td></tr><tr><td>train_f1</td><td>▁▁▁▁▁</td></tr><tr><td>train_loss</td><td>▆█▁▆▆</td></tr><tr><td>val_accuracy</td><td>▁▁▁▁▁</td></tr><tr><td>val_f1</td><td>▁▁▁▁▁</td></tr><tr><td>val_loss</td><td>█▇▅▃▁</td></tr></table><br/></div><div class=\"wandb-col\"><h3>Run summary:</h3><br/><table class=\"wandb\"><tr><td>epoch</td><td>5</td></tr><tr><td>train_accuracy</td><td>0.568</td></tr><tr><td>train_f1</td><td>0.41151</td></tr><tr><td>train_loss</td><td>0.69257</td></tr><tr><td>val_accuracy</td><td>0.55556</td></tr><tr><td>val_f1</td><td>0.39683</td></tr><tr><td>val_loss</td><td>0.68821</td></tr></table><br/></div></div>"
      ],
      "text/plain": [
       "<IPython.core.display.HTML object>"
      ]
     },
     "metadata": {},
     "output_type": "display_data"
    },
    {
     "data": {
      "text/html": [
       " View run <strong style=\"color:#cdcd00\">expert-sweep-13</strong> at: <a href='https://wandb.ai/barbonigiorgia-sapienza-universit-di-roma/graph-classification-graphs_sc/runs/5s2eqx4l' target=\"_blank\">https://wandb.ai/barbonigiorgia-sapienza-universit-di-roma/graph-classification-graphs_sc/runs/5s2eqx4l</a><br/> View project at: <a href='https://wandb.ai/barbonigiorgia-sapienza-universit-di-roma/graph-classification-graphs_sc' target=\"_blank\">https://wandb.ai/barbonigiorgia-sapienza-universit-di-roma/graph-classification-graphs_sc</a><br/>Synced 5 W&B file(s), 0 media file(s), 4 artifact file(s) and 0 other file(s)"
      ],
      "text/plain": [
       "<IPython.core.display.HTML object>"
      ]
     },
     "metadata": {},
     "output_type": "display_data"
    },
    {
     "data": {
      "text/html": [
       "Find logs at: <code>.\\wandb\\run-20241115_210347-5s2eqx4l\\logs</code>"
      ],
      "text/plain": [
       "<IPython.core.display.HTML object>"
      ]
     },
     "metadata": {},
     "output_type": "display_data"
    },
    {
     "name": "stderr",
     "output_type": "stream",
     "text": [
      "\u001b[34m\u001b[1mwandb\u001b[0m: Agent Starting Run: i35t3al5 with config:\n",
      "\u001b[34m\u001b[1mwandb\u001b[0m: \tbatch_size: 32\n",
      "\u001b[34m\u001b[1mwandb\u001b[0m: \tin_channels: 6\n",
      "\u001b[34m\u001b[1mwandb\u001b[0m: \tlearning_rate: 0.001\n",
      "\u001b[34m\u001b[1mwandb\u001b[0m: \tnum_epochs: 5\n",
      "\u001b[34m\u001b[1mwandb\u001b[0m: \tnum_heads: 2\n",
      "\u001b[34m\u001b[1mwandb\u001b[0m: \toptimizer: adam\n",
      "\u001b[34m\u001b[1mwandb\u001b[0m: \tout_channels: 4\n",
      "\u001b[34m\u001b[1mwandb\u001b[0m: \trandom_state: 42\n",
      "\u001b[34m\u001b[1mwandb\u001b[0m: \ttest_size: 0.3\n",
      "\u001b[34m\u001b[1mwandb\u001b[0m: \tweight_decay: 0\n"
     ]
    },
    {
     "data": {
      "text/html": [
       "Tracking run with wandb version 0.18.5"
      ],
      "text/plain": [
       "<IPython.core.display.HTML object>"
      ]
     },
     "metadata": {},
     "output_type": "display_data"
    },
    {
     "data": {
      "text/html": [
       "Run data is saved locally in <code>c:\\Users\\barbo\\brain classifier repo\\brain_classifier\\src\\wandb\\run-20241115_210403-i35t3al5</code>"
      ],
      "text/plain": [
       "<IPython.core.display.HTML object>"
      ]
     },
     "metadata": {},
     "output_type": "display_data"
    },
    {
     "data": {
      "text/html": [
       "Syncing run <strong><a href='https://wandb.ai/barbonigiorgia-sapienza-universit-di-roma/graph-classification-graphs_sc/runs/i35t3al5' target=\"_blank\">sleek-sweep-14</a></strong> to <a href='https://wandb.ai/barbonigiorgia-sapienza-universit-di-roma/graph-classification-graphs_sc' target=\"_blank\">Weights & Biases</a> (<a href='https://wandb.me/run' target=\"_blank\">docs</a>)<br/>Sweep page: <a href='https://wandb.ai/barbonigiorgia-sapienza-universit-di-roma/graph-classification-graphs_sc/sweeps/5tx24pap' target=\"_blank\">https://wandb.ai/barbonigiorgia-sapienza-universit-di-roma/graph-classification-graphs_sc/sweeps/5tx24pap</a>"
      ],
      "text/plain": [
       "<IPython.core.display.HTML object>"
      ]
     },
     "metadata": {},
     "output_type": "display_data"
    },
    {
     "data": {
      "text/html": [
       " View project at <a href='https://wandb.ai/barbonigiorgia-sapienza-universit-di-roma/graph-classification-graphs_sc' target=\"_blank\">https://wandb.ai/barbonigiorgia-sapienza-universit-di-roma/graph-classification-graphs_sc</a>"
      ],
      "text/plain": [
       "<IPython.core.display.HTML object>"
      ]
     },
     "metadata": {},
     "output_type": "display_data"
    },
    {
     "data": {
      "text/html": [
       " View sweep at <a href='https://wandb.ai/barbonigiorgia-sapienza-universit-di-roma/graph-classification-graphs_sc/sweeps/5tx24pap' target=\"_blank\">https://wandb.ai/barbonigiorgia-sapienza-universit-di-roma/graph-classification-graphs_sc/sweeps/5tx24pap</a>"
      ],
      "text/plain": [
       "<IPython.core.display.HTML object>"
      ]
     },
     "metadata": {},
     "output_type": "display_data"
    },
    {
     "data": {
      "text/html": [
       " View run at <a href='https://wandb.ai/barbonigiorgia-sapienza-universit-di-roma/graph-classification-graphs_sc/runs/i35t3al5' target=\"_blank\">https://wandb.ai/barbonigiorgia-sapienza-universit-di-roma/graph-classification-graphs_sc/runs/i35t3al5</a>"
      ],
      "text/plain": [
       "<IPython.core.display.HTML object>"
      ]
     },
     "metadata": {},
     "output_type": "display_data"
    },
    {
     "name": "stdout",
     "output_type": "stream",
     "text": [
      "Running with config: {'batch_size': 32, 'in_channels': 6, 'learning_rate': 0.001, 'num_epochs': 5, 'num_heads': 2, 'optimizer': 'adam', 'out_channels': 4, 'random_state': 42, 'test_size': 0.3, 'weight_decay': 0}\n"
     ]
    },
    {
     "data": {
      "text/html": [
       "<style>\n",
       "    table.wandb td:nth-child(1) { padding: 0 10px; text-align: left ; width: auto;} td:nth-child(2) {text-align: left ; width: 100%}\n",
       "    .wandb-row { display: flex; flex-direction: row; flex-wrap: wrap; justify-content: flex-start; width: 100% }\n",
       "    .wandb-col { display: flex; flex-direction: column; flex-basis: 100%; flex: 1; padding: 10px; }\n",
       "    </style>\n",
       "<div class=\"wandb-row\"><div class=\"wandb-col\"><h3>Run history:</h3><br/><table class=\"wandb\"><tr><td>epoch</td><td>▁▃▅▆█</td></tr><tr><td>train_accuracy</td><td>▁▁▁▁▁</td></tr><tr><td>train_f1</td><td>▁▁▁▁▁</td></tr><tr><td>train_loss</td><td>█▇▂▃▁</td></tr><tr><td>val_accuracy</td><td>▁▁▁▁▁</td></tr><tr><td>val_f1</td><td>▁▁▁▁▁</td></tr><tr><td>val_loss</td><td>█▆▅▃▁</td></tr></table><br/></div><div class=\"wandb-col\"><h3>Run summary:</h3><br/><table class=\"wandb\"><tr><td>epoch</td><td>5</td></tr><tr><td>train_accuracy</td><td>0.568</td></tr><tr><td>train_f1</td><td>0.41151</td></tr><tr><td>train_loss</td><td>0.68335</td></tr><tr><td>val_accuracy</td><td>0.55556</td></tr><tr><td>val_f1</td><td>0.39683</td></tr><tr><td>val_loss</td><td>0.68472</td></tr></table><br/></div></div>"
      ],
      "text/plain": [
       "<IPython.core.display.HTML object>"
      ]
     },
     "metadata": {},
     "output_type": "display_data"
    },
    {
     "data": {
      "text/html": [
       " View run <strong style=\"color:#cdcd00\">sleek-sweep-14</strong> at: <a href='https://wandb.ai/barbonigiorgia-sapienza-universit-di-roma/graph-classification-graphs_sc/runs/i35t3al5' target=\"_blank\">https://wandb.ai/barbonigiorgia-sapienza-universit-di-roma/graph-classification-graphs_sc/runs/i35t3al5</a><br/> View project at: <a href='https://wandb.ai/barbonigiorgia-sapienza-universit-di-roma/graph-classification-graphs_sc' target=\"_blank\">https://wandb.ai/barbonigiorgia-sapienza-universit-di-roma/graph-classification-graphs_sc</a><br/>Synced 5 W&B file(s), 0 media file(s), 2 artifact file(s) and 0 other file(s)"
      ],
      "text/plain": [
       "<IPython.core.display.HTML object>"
      ]
     },
     "metadata": {},
     "output_type": "display_data"
    },
    {
     "data": {
      "text/html": [
       "Find logs at: <code>.\\wandb\\run-20241115_210403-i35t3al5\\logs</code>"
      ],
      "text/plain": [
       "<IPython.core.display.HTML object>"
      ]
     },
     "metadata": {},
     "output_type": "display_data"
    },
    {
     "name": "stderr",
     "output_type": "stream",
     "text": [
      "\u001b[34m\u001b[1mwandb\u001b[0m: Sweep Agent: Waiting for job.\n",
      "\u001b[34m\u001b[1mwandb\u001b[0m: Job received.\n",
      "\u001b[34m\u001b[1mwandb\u001b[0m: Agent Starting Run: 3cgi8fgx with config:\n",
      "\u001b[34m\u001b[1mwandb\u001b[0m: \tbatch_size: 8\n",
      "\u001b[34m\u001b[1mwandb\u001b[0m: \tin_channels: 6\n",
      "\u001b[34m\u001b[1mwandb\u001b[0m: \tlearning_rate: 0.1\n",
      "\u001b[34m\u001b[1mwandb\u001b[0m: \tnum_epochs: 5\n",
      "\u001b[34m\u001b[1mwandb\u001b[0m: \tnum_heads: 4\n",
      "\u001b[34m\u001b[1mwandb\u001b[0m: \toptimizer: sgd\n",
      "\u001b[34m\u001b[1mwandb\u001b[0m: \tout_channels: 16\n",
      "\u001b[34m\u001b[1mwandb\u001b[0m: \trandom_state: 42\n",
      "\u001b[34m\u001b[1mwandb\u001b[0m: \ttest_size: 0.3\n",
      "\u001b[34m\u001b[1mwandb\u001b[0m: \tweight_decay: 1e-05\n"
     ]
    },
    {
     "data": {
      "text/html": [
       "Tracking run with wandb version 0.18.5"
      ],
      "text/plain": [
       "<IPython.core.display.HTML object>"
      ]
     },
     "metadata": {},
     "output_type": "display_data"
    },
    {
     "data": {
      "text/html": [
       "Run data is saved locally in <code>c:\\Users\\barbo\\brain classifier repo\\brain_classifier\\src\\wandb\\run-20241115_210423-3cgi8fgx</code>"
      ],
      "text/plain": [
       "<IPython.core.display.HTML object>"
      ]
     },
     "metadata": {},
     "output_type": "display_data"
    },
    {
     "data": {
      "text/html": [
       "Syncing run <strong><a href='https://wandb.ai/barbonigiorgia-sapienza-universit-di-roma/graph-classification-graphs_sc/runs/3cgi8fgx' target=\"_blank\">trim-sweep-15</a></strong> to <a href='https://wandb.ai/barbonigiorgia-sapienza-universit-di-roma/graph-classification-graphs_sc' target=\"_blank\">Weights & Biases</a> (<a href='https://wandb.me/run' target=\"_blank\">docs</a>)<br/>Sweep page: <a href='https://wandb.ai/barbonigiorgia-sapienza-universit-di-roma/graph-classification-graphs_sc/sweeps/5tx24pap' target=\"_blank\">https://wandb.ai/barbonigiorgia-sapienza-universit-di-roma/graph-classification-graphs_sc/sweeps/5tx24pap</a>"
      ],
      "text/plain": [
       "<IPython.core.display.HTML object>"
      ]
     },
     "metadata": {},
     "output_type": "display_data"
    },
    {
     "data": {
      "text/html": [
       " View project at <a href='https://wandb.ai/barbonigiorgia-sapienza-universit-di-roma/graph-classification-graphs_sc' target=\"_blank\">https://wandb.ai/barbonigiorgia-sapienza-universit-di-roma/graph-classification-graphs_sc</a>"
      ],
      "text/plain": [
       "<IPython.core.display.HTML object>"
      ]
     },
     "metadata": {},
     "output_type": "display_data"
    },
    {
     "data": {
      "text/html": [
       " View sweep at <a href='https://wandb.ai/barbonigiorgia-sapienza-universit-di-roma/graph-classification-graphs_sc/sweeps/5tx24pap' target=\"_blank\">https://wandb.ai/barbonigiorgia-sapienza-universit-di-roma/graph-classification-graphs_sc/sweeps/5tx24pap</a>"
      ],
      "text/plain": [
       "<IPython.core.display.HTML object>"
      ]
     },
     "metadata": {},
     "output_type": "display_data"
    },
    {
     "data": {
      "text/html": [
       " View run at <a href='https://wandb.ai/barbonigiorgia-sapienza-universit-di-roma/graph-classification-graphs_sc/runs/3cgi8fgx' target=\"_blank\">https://wandb.ai/barbonigiorgia-sapienza-universit-di-roma/graph-classification-graphs_sc/runs/3cgi8fgx</a>"
      ],
      "text/plain": [
       "<IPython.core.display.HTML object>"
      ]
     },
     "metadata": {},
     "output_type": "display_data"
    },
    {
     "name": "stdout",
     "output_type": "stream",
     "text": [
      "Running with config: {'batch_size': 8, 'in_channels': 6, 'learning_rate': 0.1, 'num_epochs': 5, 'num_heads': 4, 'optimizer': 'sgd', 'out_channels': 16, 'random_state': 42, 'test_size': 0.3, 'weight_decay': 1e-05}\n"
     ]
    },
    {
     "data": {
      "text/html": [
       "<style>\n",
       "    table.wandb td:nth-child(1) { padding: 0 10px; text-align: left ; width: auto;} td:nth-child(2) {text-align: left ; width: 100%}\n",
       "    .wandb-row { display: flex; flex-direction: row; flex-wrap: wrap; justify-content: flex-start; width: 100% }\n",
       "    .wandb-col { display: flex; flex-direction: column; flex-basis: 100%; flex: 1; padding: 10px; }\n",
       "    </style>\n",
       "<div class=\"wandb-row\"><div class=\"wandb-col\"><h3>Run history:</h3><br/><table class=\"wandb\"><tr><td>epoch</td><td>▁▃▅▆█</td></tr><tr><td>train_accuracy</td><td>▁▅█▇▆</td></tr><tr><td>train_f1</td><td>▁▄█▇▆</td></tr><tr><td>train_loss</td><td>█▄▁▁▁</td></tr><tr><td>val_accuracy</td><td>▁▆█▃█</td></tr><tr><td>val_f1</td><td>▁▆█▃█</td></tr><tr><td>val_loss</td><td>█▅▁▃▁</td></tr></table><br/></div><div class=\"wandb-col\"><h3>Run summary:</h3><br/><table class=\"wandb\"><tr><td>epoch</td><td>5</td></tr><tr><td>train_accuracy</td><td>0.688</td></tr><tr><td>train_f1</td><td>0.68677</td></tr><tr><td>train_loss</td><td>0.55825</td></tr><tr><td>val_accuracy</td><td>0.7037</td></tr><tr><td>val_f1</td><td>0.70208</td></tr><tr><td>val_loss</td><td>0.51562</td></tr></table><br/></div></div>"
      ],
      "text/plain": [
       "<IPython.core.display.HTML object>"
      ]
     },
     "metadata": {},
     "output_type": "display_data"
    },
    {
     "data": {
      "text/html": [
       " View run <strong style=\"color:#cdcd00\">trim-sweep-15</strong> at: <a href='https://wandb.ai/barbonigiorgia-sapienza-universit-di-roma/graph-classification-graphs_sc/runs/3cgi8fgx' target=\"_blank\">https://wandb.ai/barbonigiorgia-sapienza-universit-di-roma/graph-classification-graphs_sc/runs/3cgi8fgx</a><br/> View project at: <a href='https://wandb.ai/barbonigiorgia-sapienza-universit-di-roma/graph-classification-graphs_sc' target=\"_blank\">https://wandb.ai/barbonigiorgia-sapienza-universit-di-roma/graph-classification-graphs_sc</a><br/>Synced 5 W&B file(s), 0 media file(s), 8 artifact file(s) and 0 other file(s)"
      ],
      "text/plain": [
       "<IPython.core.display.HTML object>"
      ]
     },
     "metadata": {},
     "output_type": "display_data"
    },
    {
     "data": {
      "text/html": [
       "Find logs at: <code>.\\wandb\\run-20241115_210423-3cgi8fgx\\logs</code>"
      ],
      "text/plain": [
       "<IPython.core.display.HTML object>"
      ]
     },
     "metadata": {},
     "output_type": "display_data"
    },
    {
     "name": "stderr",
     "output_type": "stream",
     "text": [
      "\u001b[34m\u001b[1mwandb\u001b[0m: Agent Starting Run: 8h9f4q48 with config:\n",
      "\u001b[34m\u001b[1mwandb\u001b[0m: \tbatch_size: 32\n",
      "\u001b[34m\u001b[1mwandb\u001b[0m: \tin_channels: 6\n",
      "\u001b[34m\u001b[1mwandb\u001b[0m: \tlearning_rate: 0.0001\n",
      "\u001b[34m\u001b[1mwandb\u001b[0m: \tnum_epochs: 5\n",
      "\u001b[34m\u001b[1mwandb\u001b[0m: \tnum_heads: 1\n",
      "\u001b[34m\u001b[1mwandb\u001b[0m: \toptimizer: sgd\n",
      "\u001b[34m\u001b[1mwandb\u001b[0m: \tout_channels: 4\n",
      "\u001b[34m\u001b[1mwandb\u001b[0m: \trandom_state: 42\n",
      "\u001b[34m\u001b[1mwandb\u001b[0m: \ttest_size: 0.3\n",
      "\u001b[34m\u001b[1mwandb\u001b[0m: \tweight_decay: 0.0001\n"
     ]
    },
    {
     "data": {
      "text/html": [
       "Tracking run with wandb version 0.18.5"
      ],
      "text/plain": [
       "<IPython.core.display.HTML object>"
      ]
     },
     "metadata": {},
     "output_type": "display_data"
    },
    {
     "data": {
      "text/html": [
       "Run data is saved locally in <code>c:\\Users\\barbo\\brain classifier repo\\brain_classifier\\src\\wandb\\run-20241115_210511-8h9f4q48</code>"
      ],
      "text/plain": [
       "<IPython.core.display.HTML object>"
      ]
     },
     "metadata": {},
     "output_type": "display_data"
    },
    {
     "data": {
      "text/html": [
       "Syncing run <strong><a href='https://wandb.ai/barbonigiorgia-sapienza-universit-di-roma/graph-classification-graphs_sc/runs/8h9f4q48' target=\"_blank\">cool-sweep-16</a></strong> to <a href='https://wandb.ai/barbonigiorgia-sapienza-universit-di-roma/graph-classification-graphs_sc' target=\"_blank\">Weights & Biases</a> (<a href='https://wandb.me/run' target=\"_blank\">docs</a>)<br/>Sweep page: <a href='https://wandb.ai/barbonigiorgia-sapienza-universit-di-roma/graph-classification-graphs_sc/sweeps/5tx24pap' target=\"_blank\">https://wandb.ai/barbonigiorgia-sapienza-universit-di-roma/graph-classification-graphs_sc/sweeps/5tx24pap</a>"
      ],
      "text/plain": [
       "<IPython.core.display.HTML object>"
      ]
     },
     "metadata": {},
     "output_type": "display_data"
    },
    {
     "data": {
      "text/html": [
       " View project at <a href='https://wandb.ai/barbonigiorgia-sapienza-universit-di-roma/graph-classification-graphs_sc' target=\"_blank\">https://wandb.ai/barbonigiorgia-sapienza-universit-di-roma/graph-classification-graphs_sc</a>"
      ],
      "text/plain": [
       "<IPython.core.display.HTML object>"
      ]
     },
     "metadata": {},
     "output_type": "display_data"
    },
    {
     "data": {
      "text/html": [
       " View sweep at <a href='https://wandb.ai/barbonigiorgia-sapienza-universit-di-roma/graph-classification-graphs_sc/sweeps/5tx24pap' target=\"_blank\">https://wandb.ai/barbonigiorgia-sapienza-universit-di-roma/graph-classification-graphs_sc/sweeps/5tx24pap</a>"
      ],
      "text/plain": [
       "<IPython.core.display.HTML object>"
      ]
     },
     "metadata": {},
     "output_type": "display_data"
    },
    {
     "data": {
      "text/html": [
       " View run at <a href='https://wandb.ai/barbonigiorgia-sapienza-universit-di-roma/graph-classification-graphs_sc/runs/8h9f4q48' target=\"_blank\">https://wandb.ai/barbonigiorgia-sapienza-universit-di-roma/graph-classification-graphs_sc/runs/8h9f4q48</a>"
      ],
      "text/plain": [
       "<IPython.core.display.HTML object>"
      ]
     },
     "metadata": {},
     "output_type": "display_data"
    },
    {
     "name": "stdout",
     "output_type": "stream",
     "text": [
      "Running with config: {'batch_size': 32, 'in_channels': 6, 'learning_rate': 0.0001, 'num_epochs': 5, 'num_heads': 1, 'optimizer': 'sgd', 'out_channels': 4, 'random_state': 42, 'test_size': 0.3, 'weight_decay': 0.0001}\n"
     ]
    },
    {
     "data": {
      "text/html": [
       "<style>\n",
       "    table.wandb td:nth-child(1) { padding: 0 10px; text-align: left ; width: auto;} td:nth-child(2) {text-align: left ; width: 100%}\n",
       "    .wandb-row { display: flex; flex-direction: row; flex-wrap: wrap; justify-content: flex-start; width: 100% }\n",
       "    .wandb-col { display: flex; flex-direction: column; flex-basis: 100%; flex: 1; padding: 10px; }\n",
       "    </style>\n",
       "<div class=\"wandb-row\"><div class=\"wandb-col\"><h3>Run history:</h3><br/><table class=\"wandb\"><tr><td>epoch</td><td>▁▃▅▆█</td></tr><tr><td>train_accuracy</td><td>▁▁▁▁▁</td></tr><tr><td>train_f1</td><td>▁▁▁▁▁</td></tr><tr><td>train_loss</td><td>▁▅▂██</td></tr><tr><td>val_accuracy</td><td>▁▁▁▁▁</td></tr><tr><td>val_f1</td><td>▁▁▁▁▁</td></tr><tr><td>val_loss</td><td>█▇▅▃▁</td></tr></table><br/></div><div class=\"wandb-col\"><h3>Run summary:</h3><br/><table class=\"wandb\"><tr><td>epoch</td><td>5</td></tr><tr><td>train_accuracy</td><td>0.568</td></tr><tr><td>train_f1</td><td>0.41151</td></tr><tr><td>train_loss</td><td>0.70621</td></tr><tr><td>val_accuracy</td><td>0.55556</td></tr><tr><td>val_f1</td><td>0.39683</td></tr><tr><td>val_loss</td><td>0.71422</td></tr></table><br/></div></div>"
      ],
      "text/plain": [
       "<IPython.core.display.HTML object>"
      ]
     },
     "metadata": {},
     "output_type": "display_data"
    },
    {
     "data": {
      "text/html": [
       " View run <strong style=\"color:#cdcd00\">cool-sweep-16</strong> at: <a href='https://wandb.ai/barbonigiorgia-sapienza-universit-di-roma/graph-classification-graphs_sc/runs/8h9f4q48' target=\"_blank\">https://wandb.ai/barbonigiorgia-sapienza-universit-di-roma/graph-classification-graphs_sc/runs/8h9f4q48</a><br/> View project at: <a href='https://wandb.ai/barbonigiorgia-sapienza-universit-di-roma/graph-classification-graphs_sc' target=\"_blank\">https://wandb.ai/barbonigiorgia-sapienza-universit-di-roma/graph-classification-graphs_sc</a><br/>Synced 5 W&B file(s), 0 media file(s), 2 artifact file(s) and 0 other file(s)"
      ],
      "text/plain": [
       "<IPython.core.display.HTML object>"
      ]
     },
     "metadata": {},
     "output_type": "display_data"
    },
    {
     "data": {
      "text/html": [
       "Find logs at: <code>.\\wandb\\run-20241115_210511-8h9f4q48\\logs</code>"
      ],
      "text/plain": [
       "<IPython.core.display.HTML object>"
      ]
     },
     "metadata": {},
     "output_type": "display_data"
    },
    {
     "name": "stderr",
     "output_type": "stream",
     "text": [
      "\u001b[34m\u001b[1mwandb\u001b[0m: Agent Starting Run: v3mx5d0z with config:\n",
      "\u001b[34m\u001b[1mwandb\u001b[0m: \tbatch_size: 32\n",
      "\u001b[34m\u001b[1mwandb\u001b[0m: \tin_channels: 6\n",
      "\u001b[34m\u001b[1mwandb\u001b[0m: \tlearning_rate: 0.01\n",
      "\u001b[34m\u001b[1mwandb\u001b[0m: \tnum_epochs: 5\n",
      "\u001b[34m\u001b[1mwandb\u001b[0m: \tnum_heads: 4\n",
      "\u001b[34m\u001b[1mwandb\u001b[0m: \toptimizer: sgd\n",
      "\u001b[34m\u001b[1mwandb\u001b[0m: \tout_channels: 4\n",
      "\u001b[34m\u001b[1mwandb\u001b[0m: \trandom_state: 42\n",
      "\u001b[34m\u001b[1mwandb\u001b[0m: \ttest_size: 0.3\n",
      "\u001b[34m\u001b[1mwandb\u001b[0m: \tweight_decay: 0.0001\n"
     ]
    },
    {
     "data": {
      "text/html": [
       "Tracking run with wandb version 0.18.5"
      ],
      "text/plain": [
       "<IPython.core.display.HTML object>"
      ]
     },
     "metadata": {},
     "output_type": "display_data"
    },
    {
     "data": {
      "text/html": [
       "Run data is saved locally in <code>c:\\Users\\barbo\\brain classifier repo\\brain_classifier\\src\\wandb\\run-20241115_210522-v3mx5d0z</code>"
      ],
      "text/plain": [
       "<IPython.core.display.HTML object>"
      ]
     },
     "metadata": {},
     "output_type": "display_data"
    },
    {
     "data": {
      "text/html": [
       "Syncing run <strong><a href='https://wandb.ai/barbonigiorgia-sapienza-universit-di-roma/graph-classification-graphs_sc/runs/v3mx5d0z' target=\"_blank\">sparkling-sweep-17</a></strong> to <a href='https://wandb.ai/barbonigiorgia-sapienza-universit-di-roma/graph-classification-graphs_sc' target=\"_blank\">Weights & Biases</a> (<a href='https://wandb.me/run' target=\"_blank\">docs</a>)<br/>Sweep page: <a href='https://wandb.ai/barbonigiorgia-sapienza-universit-di-roma/graph-classification-graphs_sc/sweeps/5tx24pap' target=\"_blank\">https://wandb.ai/barbonigiorgia-sapienza-universit-di-roma/graph-classification-graphs_sc/sweeps/5tx24pap</a>"
      ],
      "text/plain": [
       "<IPython.core.display.HTML object>"
      ]
     },
     "metadata": {},
     "output_type": "display_data"
    },
    {
     "data": {
      "text/html": [
       " View project at <a href='https://wandb.ai/barbonigiorgia-sapienza-universit-di-roma/graph-classification-graphs_sc' target=\"_blank\">https://wandb.ai/barbonigiorgia-sapienza-universit-di-roma/graph-classification-graphs_sc</a>"
      ],
      "text/plain": [
       "<IPython.core.display.HTML object>"
      ]
     },
     "metadata": {},
     "output_type": "display_data"
    },
    {
     "data": {
      "text/html": [
       " View sweep at <a href='https://wandb.ai/barbonigiorgia-sapienza-universit-di-roma/graph-classification-graphs_sc/sweeps/5tx24pap' target=\"_blank\">https://wandb.ai/barbonigiorgia-sapienza-universit-di-roma/graph-classification-graphs_sc/sweeps/5tx24pap</a>"
      ],
      "text/plain": [
       "<IPython.core.display.HTML object>"
      ]
     },
     "metadata": {},
     "output_type": "display_data"
    },
    {
     "data": {
      "text/html": [
       " View run at <a href='https://wandb.ai/barbonigiorgia-sapienza-universit-di-roma/graph-classification-graphs_sc/runs/v3mx5d0z' target=\"_blank\">https://wandb.ai/barbonigiorgia-sapienza-universit-di-roma/graph-classification-graphs_sc/runs/v3mx5d0z</a>"
      ],
      "text/plain": [
       "<IPython.core.display.HTML object>"
      ]
     },
     "metadata": {},
     "output_type": "display_data"
    },
    {
     "name": "stdout",
     "output_type": "stream",
     "text": [
      "Running with config: {'batch_size': 32, 'in_channels': 6, 'learning_rate': 0.01, 'num_epochs': 5, 'num_heads': 4, 'optimizer': 'sgd', 'out_channels': 4, 'random_state': 42, 'test_size': 0.3, 'weight_decay': 0.0001}\n"
     ]
    },
    {
     "data": {
      "text/html": [
       "<style>\n",
       "    table.wandb td:nth-child(1) { padding: 0 10px; text-align: left ; width: auto;} td:nth-child(2) {text-align: left ; width: 100%}\n",
       "    .wandb-row { display: flex; flex-direction: row; flex-wrap: wrap; justify-content: flex-start; width: 100% }\n",
       "    .wandb-col { display: flex; flex-direction: column; flex-basis: 100%; flex: 1; padding: 10px; }\n",
       "    </style>\n",
       "<div class=\"wandb-row\"><div class=\"wandb-col\"><h3>Run history:</h3><br/><table class=\"wandb\"><tr><td>epoch</td><td>▁▃▅▆█</td></tr><tr><td>train_accuracy</td><td>███▁▁</td></tr><tr><td>train_f1</td><td>▁▁▁▁█</td></tr><tr><td>train_loss</td><td>█▅▃▁▁</td></tr><tr><td>val_accuracy</td><td>████▁</td></tr><tr><td>val_f1</td><td>████▁</td></tr><tr><td>val_loss</td><td>█▅▂▁▁</td></tr></table><br/></div><div class=\"wandb-col\"><h3>Run summary:</h3><br/><table class=\"wandb\"><tr><td>epoch</td><td>5</td></tr><tr><td>train_accuracy</td><td>0.56</td></tr><tr><td>train_f1</td><td>0.47466</td></tr><tr><td>train_loss</td><td>0.69856</td></tr><tr><td>val_accuracy</td><td>0.40741</td></tr><tr><td>val_f1</td><td>0.35802</td></tr><tr><td>val_loss</td><td>0.71431</td></tr></table><br/></div></div>"
      ],
      "text/plain": [
       "<IPython.core.display.HTML object>"
      ]
     },
     "metadata": {},
     "output_type": "display_data"
    },
    {
     "data": {
      "text/html": [
       " View run <strong style=\"color:#cdcd00\">sparkling-sweep-17</strong> at: <a href='https://wandb.ai/barbonigiorgia-sapienza-universit-di-roma/graph-classification-graphs_sc/runs/v3mx5d0z' target=\"_blank\">https://wandb.ai/barbonigiorgia-sapienza-universit-di-roma/graph-classification-graphs_sc/runs/v3mx5d0z</a><br/> View project at: <a href='https://wandb.ai/barbonigiorgia-sapienza-universit-di-roma/graph-classification-graphs_sc' target=\"_blank\">https://wandb.ai/barbonigiorgia-sapienza-universit-di-roma/graph-classification-graphs_sc</a><br/>Synced 5 W&B file(s), 0 media file(s), 2 artifact file(s) and 0 other file(s)"
      ],
      "text/plain": [
       "<IPython.core.display.HTML object>"
      ]
     },
     "metadata": {},
     "output_type": "display_data"
    },
    {
     "data": {
      "text/html": [
       "Find logs at: <code>.\\wandb\\run-20241115_210522-v3mx5d0z\\logs</code>"
      ],
      "text/plain": [
       "<IPython.core.display.HTML object>"
      ]
     },
     "metadata": {},
     "output_type": "display_data"
    },
    {
     "name": "stderr",
     "output_type": "stream",
     "text": [
      "\u001b[34m\u001b[1mwandb\u001b[0m: Agent Starting Run: m8febnl7 with config:\n",
      "\u001b[34m\u001b[1mwandb\u001b[0m: \tbatch_size: 8\n",
      "\u001b[34m\u001b[1mwandb\u001b[0m: \tin_channels: 6\n",
      "\u001b[34m\u001b[1mwandb\u001b[0m: \tlearning_rate: 0.01\n",
      "\u001b[34m\u001b[1mwandb\u001b[0m: \tnum_epochs: 5\n",
      "\u001b[34m\u001b[1mwandb\u001b[0m: \tnum_heads: 2\n",
      "\u001b[34m\u001b[1mwandb\u001b[0m: \toptimizer: sgd\n",
      "\u001b[34m\u001b[1mwandb\u001b[0m: \tout_channels: 8\n",
      "\u001b[34m\u001b[1mwandb\u001b[0m: \trandom_state: 42\n",
      "\u001b[34m\u001b[1mwandb\u001b[0m: \ttest_size: 0.3\n",
      "\u001b[34m\u001b[1mwandb\u001b[0m: \tweight_decay: 1e-05\n"
     ]
    },
    {
     "data": {
      "text/html": [
       "Tracking run with wandb version 0.18.5"
      ],
      "text/plain": [
       "<IPython.core.display.HTML object>"
      ]
     },
     "metadata": {},
     "output_type": "display_data"
    },
    {
     "data": {
      "text/html": [
       "Run data is saved locally in <code>c:\\Users\\barbo\\brain classifier repo\\brain_classifier\\src\\wandb\\run-20241115_210543-m8febnl7</code>"
      ],
      "text/plain": [
       "<IPython.core.display.HTML object>"
      ]
     },
     "metadata": {},
     "output_type": "display_data"
    },
    {
     "data": {
      "text/html": [
       "Syncing run <strong><a href='https://wandb.ai/barbonigiorgia-sapienza-universit-di-roma/graph-classification-graphs_sc/runs/m8febnl7' target=\"_blank\">polar-sweep-18</a></strong> to <a href='https://wandb.ai/barbonigiorgia-sapienza-universit-di-roma/graph-classification-graphs_sc' target=\"_blank\">Weights & Biases</a> (<a href='https://wandb.me/run' target=\"_blank\">docs</a>)<br/>Sweep page: <a href='https://wandb.ai/barbonigiorgia-sapienza-universit-di-roma/graph-classification-graphs_sc/sweeps/5tx24pap' target=\"_blank\">https://wandb.ai/barbonigiorgia-sapienza-universit-di-roma/graph-classification-graphs_sc/sweeps/5tx24pap</a>"
      ],
      "text/plain": [
       "<IPython.core.display.HTML object>"
      ]
     },
     "metadata": {},
     "output_type": "display_data"
    },
    {
     "data": {
      "text/html": [
       " View project at <a href='https://wandb.ai/barbonigiorgia-sapienza-universit-di-roma/graph-classification-graphs_sc' target=\"_blank\">https://wandb.ai/barbonigiorgia-sapienza-universit-di-roma/graph-classification-graphs_sc</a>"
      ],
      "text/plain": [
       "<IPython.core.display.HTML object>"
      ]
     },
     "metadata": {},
     "output_type": "display_data"
    },
    {
     "data": {
      "text/html": [
       " View sweep at <a href='https://wandb.ai/barbonigiorgia-sapienza-universit-di-roma/graph-classification-graphs_sc/sweeps/5tx24pap' target=\"_blank\">https://wandb.ai/barbonigiorgia-sapienza-universit-di-roma/graph-classification-graphs_sc/sweeps/5tx24pap</a>"
      ],
      "text/plain": [
       "<IPython.core.display.HTML object>"
      ]
     },
     "metadata": {},
     "output_type": "display_data"
    },
    {
     "data": {
      "text/html": [
       " View run at <a href='https://wandb.ai/barbonigiorgia-sapienza-universit-di-roma/graph-classification-graphs_sc/runs/m8febnl7' target=\"_blank\">https://wandb.ai/barbonigiorgia-sapienza-universit-di-roma/graph-classification-graphs_sc/runs/m8febnl7</a>"
      ],
      "text/plain": [
       "<IPython.core.display.HTML object>"
      ]
     },
     "metadata": {},
     "output_type": "display_data"
    },
    {
     "name": "stdout",
     "output_type": "stream",
     "text": [
      "Running with config: {'batch_size': 8, 'in_channels': 6, 'learning_rate': 0.01, 'num_epochs': 5, 'num_heads': 2, 'optimizer': 'sgd', 'out_channels': 8, 'random_state': 42, 'test_size': 0.3, 'weight_decay': 1e-05}\n"
     ]
    },
    {
     "data": {
      "text/html": [
       "<style>\n",
       "    table.wandb td:nth-child(1) { padding: 0 10px; text-align: left ; width: auto;} td:nth-child(2) {text-align: left ; width: 100%}\n",
       "    .wandb-row { display: flex; flex-direction: row; flex-wrap: wrap; justify-content: flex-start; width: 100% }\n",
       "    .wandb-col { display: flex; flex-direction: column; flex-basis: 100%; flex: 1; padding: 10px; }\n",
       "    </style>\n",
       "<div class=\"wandb-row\"><div class=\"wandb-col\"><h3>Run history:</h3><br/><table class=\"wandb\"><tr><td>epoch</td><td>▁▃▅▆█</td></tr><tr><td>train_accuracy</td><td>▁████</td></tr><tr><td>train_f1</td><td>▁████</td></tr><tr><td>train_loss</td><td>█▆▃▃▁</td></tr><tr><td>val_accuracy</td><td>▅▁███</td></tr><tr><td>val_f1</td><td>▅▁███</td></tr><tr><td>val_loss</td><td>█▆▄▂▁</td></tr></table><br/></div><div class=\"wandb-col\"><h3>Run summary:</h3><br/><table class=\"wandb\"><tr><td>epoch</td><td>5</td></tr><tr><td>train_accuracy</td><td>0.568</td></tr><tr><td>train_f1</td><td>0.41151</td></tr><tr><td>train_loss</td><td>0.65015</td></tr><tr><td>val_accuracy</td><td>0.62963</td></tr><tr><td>val_f1</td><td>0.54365</td></tr><tr><td>val_loss</td><td>0.64645</td></tr></table><br/></div></div>"
      ],
      "text/plain": [
       "<IPython.core.display.HTML object>"
      ]
     },
     "metadata": {},
     "output_type": "display_data"
    },
    {
     "data": {
      "text/html": [
       " View run <strong style=\"color:#cdcd00\">polar-sweep-18</strong> at: <a href='https://wandb.ai/barbonigiorgia-sapienza-universit-di-roma/graph-classification-graphs_sc/runs/m8febnl7' target=\"_blank\">https://wandb.ai/barbonigiorgia-sapienza-universit-di-roma/graph-classification-graphs_sc/runs/m8febnl7</a><br/> View project at: <a href='https://wandb.ai/barbonigiorgia-sapienza-universit-di-roma/graph-classification-graphs_sc' target=\"_blank\">https://wandb.ai/barbonigiorgia-sapienza-universit-di-roma/graph-classification-graphs_sc</a><br/>Synced 5 W&B file(s), 0 media file(s), 6 artifact file(s) and 0 other file(s)"
      ],
      "text/plain": [
       "<IPython.core.display.HTML object>"
      ]
     },
     "metadata": {},
     "output_type": "display_data"
    },
    {
     "data": {
      "text/html": [
       "Find logs at: <code>.\\wandb\\run-20241115_210543-m8febnl7\\logs</code>"
      ],
      "text/plain": [
       "<IPython.core.display.HTML object>"
      ]
     },
     "metadata": {},
     "output_type": "display_data"
    },
    {
     "name": "stderr",
     "output_type": "stream",
     "text": [
      "\u001b[34m\u001b[1mwandb\u001b[0m: Agent Starting Run: rah8bkc7 with config:\n",
      "\u001b[34m\u001b[1mwandb\u001b[0m: \tbatch_size: 8\n",
      "\u001b[34m\u001b[1mwandb\u001b[0m: \tin_channels: 6\n",
      "\u001b[34m\u001b[1mwandb\u001b[0m: \tlearning_rate: 0.1\n",
      "\u001b[34m\u001b[1mwandb\u001b[0m: \tnum_epochs: 5\n",
      "\u001b[34m\u001b[1mwandb\u001b[0m: \tnum_heads: 3\n",
      "\u001b[34m\u001b[1mwandb\u001b[0m: \toptimizer: sgd\n",
      "\u001b[34m\u001b[1mwandb\u001b[0m: \tout_channels: 8\n",
      "\u001b[34m\u001b[1mwandb\u001b[0m: \trandom_state: 42\n",
      "\u001b[34m\u001b[1mwandb\u001b[0m: \ttest_size: 0.3\n",
      "\u001b[34m\u001b[1mwandb\u001b[0m: \tweight_decay: 1e-05\n"
     ]
    },
    {
     "data": {
      "text/html": [
       "Tracking run with wandb version 0.18.5"
      ],
      "text/plain": [
       "<IPython.core.display.HTML object>"
      ]
     },
     "metadata": {},
     "output_type": "display_data"
    },
    {
     "data": {
      "text/html": [
       "Run data is saved locally in <code>c:\\Users\\barbo\\brain classifier repo\\brain_classifier\\src\\wandb\\run-20241115_210614-rah8bkc7</code>"
      ],
      "text/plain": [
       "<IPython.core.display.HTML object>"
      ]
     },
     "metadata": {},
     "output_type": "display_data"
    },
    {
     "data": {
      "text/html": [
       "Syncing run <strong><a href='https://wandb.ai/barbonigiorgia-sapienza-universit-di-roma/graph-classification-graphs_sc/runs/rah8bkc7' target=\"_blank\">dauntless-sweep-19</a></strong> to <a href='https://wandb.ai/barbonigiorgia-sapienza-universit-di-roma/graph-classification-graphs_sc' target=\"_blank\">Weights & Biases</a> (<a href='https://wandb.me/run' target=\"_blank\">docs</a>)<br/>Sweep page: <a href='https://wandb.ai/barbonigiorgia-sapienza-universit-di-roma/graph-classification-graphs_sc/sweeps/5tx24pap' target=\"_blank\">https://wandb.ai/barbonigiorgia-sapienza-universit-di-roma/graph-classification-graphs_sc/sweeps/5tx24pap</a>"
      ],
      "text/plain": [
       "<IPython.core.display.HTML object>"
      ]
     },
     "metadata": {},
     "output_type": "display_data"
    },
    {
     "data": {
      "text/html": [
       " View project at <a href='https://wandb.ai/barbonigiorgia-sapienza-universit-di-roma/graph-classification-graphs_sc' target=\"_blank\">https://wandb.ai/barbonigiorgia-sapienza-universit-di-roma/graph-classification-graphs_sc</a>"
      ],
      "text/plain": [
       "<IPython.core.display.HTML object>"
      ]
     },
     "metadata": {},
     "output_type": "display_data"
    },
    {
     "data": {
      "text/html": [
       " View sweep at <a href='https://wandb.ai/barbonigiorgia-sapienza-universit-di-roma/graph-classification-graphs_sc/sweeps/5tx24pap' target=\"_blank\">https://wandb.ai/barbonigiorgia-sapienza-universit-di-roma/graph-classification-graphs_sc/sweeps/5tx24pap</a>"
      ],
      "text/plain": [
       "<IPython.core.display.HTML object>"
      ]
     },
     "metadata": {},
     "output_type": "display_data"
    },
    {
     "data": {
      "text/html": [
       " View run at <a href='https://wandb.ai/barbonigiorgia-sapienza-universit-di-roma/graph-classification-graphs_sc/runs/rah8bkc7' target=\"_blank\">https://wandb.ai/barbonigiorgia-sapienza-universit-di-roma/graph-classification-graphs_sc/runs/rah8bkc7</a>"
      ],
      "text/plain": [
       "<IPython.core.display.HTML object>"
      ]
     },
     "metadata": {},
     "output_type": "display_data"
    },
    {
     "name": "stdout",
     "output_type": "stream",
     "text": [
      "Running with config: {'batch_size': 8, 'in_channels': 6, 'learning_rate': 0.1, 'num_epochs': 5, 'num_heads': 3, 'optimizer': 'sgd', 'out_channels': 8, 'random_state': 42, 'test_size': 0.3, 'weight_decay': 1e-05}\n"
     ]
    },
    {
     "data": {
      "text/html": [
       "<style>\n",
       "    table.wandb td:nth-child(1) { padding: 0 10px; text-align: left ; width: auto;} td:nth-child(2) {text-align: left ; width: 100%}\n",
       "    .wandb-row { display: flex; flex-direction: row; flex-wrap: wrap; justify-content: flex-start; width: 100% }\n",
       "    .wandb-col { display: flex; flex-direction: column; flex-basis: 100%; flex: 1; padding: 10px; }\n",
       "    </style>\n",
       "<div class=\"wandb-row\"><div class=\"wandb-col\"><h3>Run history:</h3><br/><table class=\"wandb\"><tr><td>epoch</td><td>▁▃▅▆█</td></tr><tr><td>train_accuracy</td><td>▁▆██▇</td></tr><tr><td>train_f1</td><td>▁▆█▇▇</td></tr><tr><td>train_loss</td><td>█▄▁▁▁</td></tr><tr><td>val_accuracy</td><td>▁█▆▃▆</td></tr><tr><td>val_f1</td><td>▁█▆▄▆</td></tr><tr><td>val_loss</td><td>█▅▂▃▁</td></tr></table><br/></div><div class=\"wandb-col\"><h3>Run summary:</h3><br/><table class=\"wandb\"><tr><td>epoch</td><td>5</td></tr><tr><td>train_accuracy</td><td>0.696</td></tr><tr><td>train_f1</td><td>0.69195</td></tr><tr><td>train_loss</td><td>0.55948</td></tr><tr><td>val_accuracy</td><td>0.7037</td></tr><tr><td>val_f1</td><td>0.70208</td></tr><tr><td>val_loss</td><td>0.51231</td></tr></table><br/></div></div>"
      ],
      "text/plain": [
       "<IPython.core.display.HTML object>"
      ]
     },
     "metadata": {},
     "output_type": "display_data"
    },
    {
     "data": {
      "text/html": [
       " View run <strong style=\"color:#cdcd00\">dauntless-sweep-19</strong> at: <a href='https://wandb.ai/barbonigiorgia-sapienza-universit-di-roma/graph-classification-graphs_sc/runs/rah8bkc7' target=\"_blank\">https://wandb.ai/barbonigiorgia-sapienza-universit-di-roma/graph-classification-graphs_sc/runs/rah8bkc7</a><br/> View project at: <a href='https://wandb.ai/barbonigiorgia-sapienza-universit-di-roma/graph-classification-graphs_sc' target=\"_blank\">https://wandb.ai/barbonigiorgia-sapienza-universit-di-roma/graph-classification-graphs_sc</a><br/>Synced 5 W&B file(s), 0 media file(s), 4 artifact file(s) and 0 other file(s)"
      ],
      "text/plain": [
       "<IPython.core.display.HTML object>"
      ]
     },
     "metadata": {},
     "output_type": "display_data"
    },
    {
     "data": {
      "text/html": [
       "Find logs at: <code>.\\wandb\\run-20241115_210614-rah8bkc7\\logs</code>"
      ],
      "text/plain": [
       "<IPython.core.display.HTML object>"
      ]
     },
     "metadata": {},
     "output_type": "display_data"
    },
    {
     "name": "stderr",
     "output_type": "stream",
     "text": [
      "\u001b[34m\u001b[1mwandb\u001b[0m: Agent Starting Run: ie73pe4a with config:\n",
      "\u001b[34m\u001b[1mwandb\u001b[0m: \tbatch_size: 32\n",
      "\u001b[34m\u001b[1mwandb\u001b[0m: \tin_channels: 6\n",
      "\u001b[34m\u001b[1mwandb\u001b[0m: \tlearning_rate: 0.1\n",
      "\u001b[34m\u001b[1mwandb\u001b[0m: \tnum_epochs: 5\n",
      "\u001b[34m\u001b[1mwandb\u001b[0m: \tnum_heads: 2\n",
      "\u001b[34m\u001b[1mwandb\u001b[0m: \toptimizer: sgd\n",
      "\u001b[34m\u001b[1mwandb\u001b[0m: \tout_channels: 8\n",
      "\u001b[34m\u001b[1mwandb\u001b[0m: \trandom_state: 42\n",
      "\u001b[34m\u001b[1mwandb\u001b[0m: \ttest_size: 0.3\n",
      "\u001b[34m\u001b[1mwandb\u001b[0m: \tweight_decay: 0.0001\n"
     ]
    },
    {
     "data": {
      "text/html": [
       "Tracking run with wandb version 0.18.5"
      ],
      "text/plain": [
       "<IPython.core.display.HTML object>"
      ]
     },
     "metadata": {},
     "output_type": "display_data"
    },
    {
     "data": {
      "text/html": [
       "Run data is saved locally in <code>c:\\Users\\barbo\\brain classifier repo\\brain_classifier\\src\\wandb\\run-20241115_210651-ie73pe4a</code>"
      ],
      "text/plain": [
       "<IPython.core.display.HTML object>"
      ]
     },
     "metadata": {},
     "output_type": "display_data"
    },
    {
     "data": {
      "text/html": [
       "Syncing run <strong><a href='https://wandb.ai/barbonigiorgia-sapienza-universit-di-roma/graph-classification-graphs_sc/runs/ie73pe4a' target=\"_blank\">fragrant-sweep-20</a></strong> to <a href='https://wandb.ai/barbonigiorgia-sapienza-universit-di-roma/graph-classification-graphs_sc' target=\"_blank\">Weights & Biases</a> (<a href='https://wandb.me/run' target=\"_blank\">docs</a>)<br/>Sweep page: <a href='https://wandb.ai/barbonigiorgia-sapienza-universit-di-roma/graph-classification-graphs_sc/sweeps/5tx24pap' target=\"_blank\">https://wandb.ai/barbonigiorgia-sapienza-universit-di-roma/graph-classification-graphs_sc/sweeps/5tx24pap</a>"
      ],
      "text/plain": [
       "<IPython.core.display.HTML object>"
      ]
     },
     "metadata": {},
     "output_type": "display_data"
    },
    {
     "data": {
      "text/html": [
       " View project at <a href='https://wandb.ai/barbonigiorgia-sapienza-universit-di-roma/graph-classification-graphs_sc' target=\"_blank\">https://wandb.ai/barbonigiorgia-sapienza-universit-di-roma/graph-classification-graphs_sc</a>"
      ],
      "text/plain": [
       "<IPython.core.display.HTML object>"
      ]
     },
     "metadata": {},
     "output_type": "display_data"
    },
    {
     "data": {
      "text/html": [
       " View sweep at <a href='https://wandb.ai/barbonigiorgia-sapienza-universit-di-roma/graph-classification-graphs_sc/sweeps/5tx24pap' target=\"_blank\">https://wandb.ai/barbonigiorgia-sapienza-universit-di-roma/graph-classification-graphs_sc/sweeps/5tx24pap</a>"
      ],
      "text/plain": [
       "<IPython.core.display.HTML object>"
      ]
     },
     "metadata": {},
     "output_type": "display_data"
    },
    {
     "data": {
      "text/html": [
       " View run at <a href='https://wandb.ai/barbonigiorgia-sapienza-universit-di-roma/graph-classification-graphs_sc/runs/ie73pe4a' target=\"_blank\">https://wandb.ai/barbonigiorgia-sapienza-universit-di-roma/graph-classification-graphs_sc/runs/ie73pe4a</a>"
      ],
      "text/plain": [
       "<IPython.core.display.HTML object>"
      ]
     },
     "metadata": {},
     "output_type": "display_data"
    },
    {
     "name": "stdout",
     "output_type": "stream",
     "text": [
      "Running with config: {'batch_size': 32, 'in_channels': 6, 'learning_rate': 0.1, 'num_epochs': 5, 'num_heads': 2, 'optimizer': 'sgd', 'out_channels': 8, 'random_state': 42, 'test_size': 0.3, 'weight_decay': 0.0001}\n"
     ]
    },
    {
     "data": {
      "text/html": [
       "<style>\n",
       "    table.wandb td:nth-child(1) { padding: 0 10px; text-align: left ; width: auto;} td:nth-child(2) {text-align: left ; width: 100%}\n",
       "    .wandb-row { display: flex; flex-direction: row; flex-wrap: wrap; justify-content: flex-start; width: 100% }\n",
       "    .wandb-col { display: flex; flex-direction: column; flex-basis: 100%; flex: 1; padding: 10px; }\n",
       "    </style>\n",
       "<div class=\"wandb-row\"><div class=\"wandb-col\"><h3>Run history:</h3><br/><table class=\"wandb\"><tr><td>epoch</td><td>▁▃▅▆█</td></tr><tr><td>train_accuracy</td><td>▃▁▁▁█</td></tr><tr><td>train_f1</td><td>▄▁▁▁█</td></tr><tr><td>train_loss</td><td>█▆▅▃▁</td></tr><tr><td>val_accuracy</td><td>▁▁▃▆█</td></tr><tr><td>val_f1</td><td>▁▁▄▆█</td></tr><tr><td>val_loss</td><td>█▇▅▃▁</td></tr></table><br/></div><div class=\"wandb-col\"><h3>Run summary:</h3><br/><table class=\"wandb\"><tr><td>epoch</td><td>5</td></tr><tr><td>train_accuracy</td><td>0.6</td></tr><tr><td>train_f1</td><td>0.49053</td></tr><tr><td>train_loss</td><td>0.63803</td></tr><tr><td>val_accuracy</td><td>0.66667</td></tr><tr><td>val_f1</td><td>0.60513</td></tr><tr><td>val_loss</td><td>0.63393</td></tr></table><br/></div></div>"
      ],
      "text/plain": [
       "<IPython.core.display.HTML object>"
      ]
     },
     "metadata": {},
     "output_type": "display_data"
    },
    {
     "data": {
      "text/html": [
       " View run <strong style=\"color:#cdcd00\">fragrant-sweep-20</strong> at: <a href='https://wandb.ai/barbonigiorgia-sapienza-universit-di-roma/graph-classification-graphs_sc/runs/ie73pe4a' target=\"_blank\">https://wandb.ai/barbonigiorgia-sapienza-universit-di-roma/graph-classification-graphs_sc/runs/ie73pe4a</a><br/> View project at: <a href='https://wandb.ai/barbonigiorgia-sapienza-universit-di-roma/graph-classification-graphs_sc' target=\"_blank\">https://wandb.ai/barbonigiorgia-sapienza-universit-di-roma/graph-classification-graphs_sc</a><br/>Synced 5 W&B file(s), 0 media file(s), 10 artifact file(s) and 0 other file(s)"
      ],
      "text/plain": [
       "<IPython.core.display.HTML object>"
      ]
     },
     "metadata": {},
     "output_type": "display_data"
    },
    {
     "data": {
      "text/html": [
       "Find logs at: <code>.\\wandb\\run-20241115_210651-ie73pe4a\\logs</code>"
      ],
      "text/plain": [
       "<IPython.core.display.HTML object>"
      ]
     },
     "metadata": {},
     "output_type": "display_data"
    },
    {
     "name": "stderr",
     "output_type": "stream",
     "text": [
      "\u001b[34m\u001b[1mwandb\u001b[0m: Agent Starting Run: tnh3idra with config:\n",
      "\u001b[34m\u001b[1mwandb\u001b[0m: \tbatch_size: 16\n",
      "\u001b[34m\u001b[1mwandb\u001b[0m: \tin_channels: 6\n",
      "\u001b[34m\u001b[1mwandb\u001b[0m: \tlearning_rate: 0.01\n",
      "\u001b[34m\u001b[1mwandb\u001b[0m: \tnum_epochs: 5\n",
      "\u001b[34m\u001b[1mwandb\u001b[0m: \tnum_heads: 4\n",
      "\u001b[34m\u001b[1mwandb\u001b[0m: \toptimizer: adam\n",
      "\u001b[34m\u001b[1mwandb\u001b[0m: \tout_channels: 12\n",
      "\u001b[34m\u001b[1mwandb\u001b[0m: \trandom_state: 42\n",
      "\u001b[34m\u001b[1mwandb\u001b[0m: \ttest_size: 0.3\n",
      "\u001b[34m\u001b[1mwandb\u001b[0m: \tweight_decay: 1e-05\n"
     ]
    },
    {
     "data": {
      "text/html": [
       "Tracking run with wandb version 0.18.5"
      ],
      "text/plain": [
       "<IPython.core.display.HTML object>"
      ]
     },
     "metadata": {},
     "output_type": "display_data"
    },
    {
     "data": {
      "text/html": [
       "Run data is saved locally in <code>c:\\Users\\barbo\\brain classifier repo\\brain_classifier\\src\\wandb\\run-20241115_210712-tnh3idra</code>"
      ],
      "text/plain": [
       "<IPython.core.display.HTML object>"
      ]
     },
     "metadata": {},
     "output_type": "display_data"
    },
    {
     "data": {
      "text/html": [
       "Syncing run <strong><a href='https://wandb.ai/barbonigiorgia-sapienza-universit-di-roma/graph-classification-graphs_sc/runs/tnh3idra' target=\"_blank\">frosty-sweep-21</a></strong> to <a href='https://wandb.ai/barbonigiorgia-sapienza-universit-di-roma/graph-classification-graphs_sc' target=\"_blank\">Weights & Biases</a> (<a href='https://wandb.me/run' target=\"_blank\">docs</a>)<br/>Sweep page: <a href='https://wandb.ai/barbonigiorgia-sapienza-universit-di-roma/graph-classification-graphs_sc/sweeps/5tx24pap' target=\"_blank\">https://wandb.ai/barbonigiorgia-sapienza-universit-di-roma/graph-classification-graphs_sc/sweeps/5tx24pap</a>"
      ],
      "text/plain": [
       "<IPython.core.display.HTML object>"
      ]
     },
     "metadata": {},
     "output_type": "display_data"
    },
    {
     "data": {
      "text/html": [
       " View project at <a href='https://wandb.ai/barbonigiorgia-sapienza-universit-di-roma/graph-classification-graphs_sc' target=\"_blank\">https://wandb.ai/barbonigiorgia-sapienza-universit-di-roma/graph-classification-graphs_sc</a>"
      ],
      "text/plain": [
       "<IPython.core.display.HTML object>"
      ]
     },
     "metadata": {},
     "output_type": "display_data"
    },
    {
     "data": {
      "text/html": [
       " View sweep at <a href='https://wandb.ai/barbonigiorgia-sapienza-universit-di-roma/graph-classification-graphs_sc/sweeps/5tx24pap' target=\"_blank\">https://wandb.ai/barbonigiorgia-sapienza-universit-di-roma/graph-classification-graphs_sc/sweeps/5tx24pap</a>"
      ],
      "text/plain": [
       "<IPython.core.display.HTML object>"
      ]
     },
     "metadata": {},
     "output_type": "display_data"
    },
    {
     "data": {
      "text/html": [
       " View run at <a href='https://wandb.ai/barbonigiorgia-sapienza-universit-di-roma/graph-classification-graphs_sc/runs/tnh3idra' target=\"_blank\">https://wandb.ai/barbonigiorgia-sapienza-universit-di-roma/graph-classification-graphs_sc/runs/tnh3idra</a>"
      ],
      "text/plain": [
       "<IPython.core.display.HTML object>"
      ]
     },
     "metadata": {},
     "output_type": "display_data"
    },
    {
     "name": "stdout",
     "output_type": "stream",
     "text": [
      "Running with config: {'batch_size': 16, 'in_channels': 6, 'learning_rate': 0.01, 'num_epochs': 5, 'num_heads': 4, 'optimizer': 'adam', 'out_channels': 12, 'random_state': 42, 'test_size': 0.3, 'weight_decay': 1e-05}\n"
     ]
    },
    {
     "data": {
      "text/html": [
       "<style>\n",
       "    table.wandb td:nth-child(1) { padding: 0 10px; text-align: left ; width: auto;} td:nth-child(2) {text-align: left ; width: 100%}\n",
       "    .wandb-row { display: flex; flex-direction: row; flex-wrap: wrap; justify-content: flex-start; width: 100% }\n",
       "    .wandb-col { display: flex; flex-direction: column; flex-basis: 100%; flex: 1; padding: 10px; }\n",
       "    </style>\n",
       "<div class=\"wandb-row\"><div class=\"wandb-col\"><h3>Run history:</h3><br/><table class=\"wandb\"><tr><td>epoch</td><td>▁▃▅▆█</td></tr><tr><td>train_accuracy</td><td>▁▆█▇█</td></tr><tr><td>train_f1</td><td>▁▇█▇█</td></tr><tr><td>train_loss</td><td>█▆▄▃▁</td></tr><tr><td>val_accuracy</td><td>▁█▆██</td></tr><tr><td>val_f1</td><td>▁█▆▇█</td></tr><tr><td>val_loss</td><td>█▇▅▂▁</td></tr></table><br/></div><div class=\"wandb-col\"><h3>Run summary:</h3><br/><table class=\"wandb\"><tr><td>epoch</td><td>5</td></tr><tr><td>train_accuracy</td><td>0.752</td></tr><tr><td>train_f1</td><td>0.74685</td></tr><tr><td>train_loss</td><td>0.54112</td></tr><tr><td>val_accuracy</td><td>0.77778</td></tr><tr><td>val_f1</td><td>0.77839</td></tr><tr><td>val_loss</td><td>0.53039</td></tr></table><br/></div></div>"
      ],
      "text/plain": [
       "<IPython.core.display.HTML object>"
      ]
     },
     "metadata": {},
     "output_type": "display_data"
    },
    {
     "data": {
      "text/html": [
       " View run <strong style=\"color:#cdcd00\">frosty-sweep-21</strong> at: <a href='https://wandb.ai/barbonigiorgia-sapienza-universit-di-roma/graph-classification-graphs_sc/runs/tnh3idra' target=\"_blank\">https://wandb.ai/barbonigiorgia-sapienza-universit-di-roma/graph-classification-graphs_sc/runs/tnh3idra</a><br/> View project at: <a href='https://wandb.ai/barbonigiorgia-sapienza-universit-di-roma/graph-classification-graphs_sc' target=\"_blank\">https://wandb.ai/barbonigiorgia-sapienza-universit-di-roma/graph-classification-graphs_sc</a><br/>Synced 5 W&B file(s), 0 media file(s), 4 artifact file(s) and 0 other file(s)"
      ],
      "text/plain": [
       "<IPython.core.display.HTML object>"
      ]
     },
     "metadata": {},
     "output_type": "display_data"
    },
    {
     "data": {
      "text/html": [
       "Find logs at: <code>.\\wandb\\run-20241115_210712-tnh3idra\\logs</code>"
      ],
      "text/plain": [
       "<IPython.core.display.HTML object>"
      ]
     },
     "metadata": {},
     "output_type": "display_data"
    },
    {
     "name": "stderr",
     "output_type": "stream",
     "text": [
      "\u001b[34m\u001b[1mwandb\u001b[0m: Agent Starting Run: mmko7bb4 with config:\n",
      "\u001b[34m\u001b[1mwandb\u001b[0m: \tbatch_size: 8\n",
      "\u001b[34m\u001b[1mwandb\u001b[0m: \tin_channels: 6\n",
      "\u001b[34m\u001b[1mwandb\u001b[0m: \tlearning_rate: 0.01\n",
      "\u001b[34m\u001b[1mwandb\u001b[0m: \tnum_epochs: 5\n",
      "\u001b[34m\u001b[1mwandb\u001b[0m: \tnum_heads: 2\n",
      "\u001b[34m\u001b[1mwandb\u001b[0m: \toptimizer: adam\n",
      "\u001b[34m\u001b[1mwandb\u001b[0m: \tout_channels: 4\n",
      "\u001b[34m\u001b[1mwandb\u001b[0m: \trandom_state: 42\n",
      "\u001b[34m\u001b[1mwandb\u001b[0m: \ttest_size: 0.3\n",
      "\u001b[34m\u001b[1mwandb\u001b[0m: \tweight_decay: 0\n"
     ]
    },
    {
     "data": {
      "text/html": [
       "Tracking run with wandb version 0.18.5"
      ],
      "text/plain": [
       "<IPython.core.display.HTML object>"
      ]
     },
     "metadata": {},
     "output_type": "display_data"
    },
    {
     "data": {
      "text/html": [
       "Run data is saved locally in <code>c:\\Users\\barbo\\brain classifier repo\\brain_classifier\\src\\wandb\\run-20241115_210744-mmko7bb4</code>"
      ],
      "text/plain": [
       "<IPython.core.display.HTML object>"
      ]
     },
     "metadata": {},
     "output_type": "display_data"
    },
    {
     "data": {
      "text/html": [
       "Syncing run <strong><a href='https://wandb.ai/barbonigiorgia-sapienza-universit-di-roma/graph-classification-graphs_sc/runs/mmko7bb4' target=\"_blank\">fancy-sweep-22</a></strong> to <a href='https://wandb.ai/barbonigiorgia-sapienza-universit-di-roma/graph-classification-graphs_sc' target=\"_blank\">Weights & Biases</a> (<a href='https://wandb.me/run' target=\"_blank\">docs</a>)<br/>Sweep page: <a href='https://wandb.ai/barbonigiorgia-sapienza-universit-di-roma/graph-classification-graphs_sc/sweeps/5tx24pap' target=\"_blank\">https://wandb.ai/barbonigiorgia-sapienza-universit-di-roma/graph-classification-graphs_sc/sweeps/5tx24pap</a>"
      ],
      "text/plain": [
       "<IPython.core.display.HTML object>"
      ]
     },
     "metadata": {},
     "output_type": "display_data"
    },
    {
     "data": {
      "text/html": [
       " View project at <a href='https://wandb.ai/barbonigiorgia-sapienza-universit-di-roma/graph-classification-graphs_sc' target=\"_blank\">https://wandb.ai/barbonigiorgia-sapienza-universit-di-roma/graph-classification-graphs_sc</a>"
      ],
      "text/plain": [
       "<IPython.core.display.HTML object>"
      ]
     },
     "metadata": {},
     "output_type": "display_data"
    },
    {
     "data": {
      "text/html": [
       " View sweep at <a href='https://wandb.ai/barbonigiorgia-sapienza-universit-di-roma/graph-classification-graphs_sc/sweeps/5tx24pap' target=\"_blank\">https://wandb.ai/barbonigiorgia-sapienza-universit-di-roma/graph-classification-graphs_sc/sweeps/5tx24pap</a>"
      ],
      "text/plain": [
       "<IPython.core.display.HTML object>"
      ]
     },
     "metadata": {},
     "output_type": "display_data"
    },
    {
     "data": {
      "text/html": [
       " View run at <a href='https://wandb.ai/barbonigiorgia-sapienza-universit-di-roma/graph-classification-graphs_sc/runs/mmko7bb4' target=\"_blank\">https://wandb.ai/barbonigiorgia-sapienza-universit-di-roma/graph-classification-graphs_sc/runs/mmko7bb4</a>"
      ],
      "text/plain": [
       "<IPython.core.display.HTML object>"
      ]
     },
     "metadata": {},
     "output_type": "display_data"
    },
    {
     "name": "stdout",
     "output_type": "stream",
     "text": [
      "Running with config: {'batch_size': 8, 'in_channels': 6, 'learning_rate': 0.01, 'num_epochs': 5, 'num_heads': 2, 'optimizer': 'adam', 'out_channels': 4, 'random_state': 42, 'test_size': 0.3, 'weight_decay': 0}\n"
     ]
    },
    {
     "data": {
      "text/html": [
       "<style>\n",
       "    table.wandb td:nth-child(1) { padding: 0 10px; text-align: left ; width: auto;} td:nth-child(2) {text-align: left ; width: 100%}\n",
       "    .wandb-row { display: flex; flex-direction: row; flex-wrap: wrap; justify-content: flex-start; width: 100% }\n",
       "    .wandb-col { display: flex; flex-direction: column; flex-basis: 100%; flex: 1; padding: 10px; }\n",
       "    </style>\n",
       "<div class=\"wandb-row\"><div class=\"wandb-col\"><h3>Run history:</h3><br/><table class=\"wandb\"><tr><td>epoch</td><td>▁▃▅▆█</td></tr><tr><td>train_accuracy</td><td>▁▁▁▂█</td></tr><tr><td>train_f1</td><td>▁▁▁▂█</td></tr><tr><td>train_loss</td><td>█▇▅▄▁</td></tr><tr><td>val_accuracy</td><td>▁▁▃▅█</td></tr><tr><td>val_f1</td><td>▁▁▄▅█</td></tr><tr><td>val_loss</td><td>█▇▆▄▁</td></tr></table><br/></div><div class=\"wandb-col\"><h3>Run summary:</h3><br/><table class=\"wandb\"><tr><td>epoch</td><td>5</td></tr><tr><td>train_accuracy</td><td>0.664</td></tr><tr><td>train_f1</td><td>0.59544</td></tr><tr><td>train_loss</td><td>0.61452</td></tr><tr><td>val_accuracy</td><td>0.77778</td></tr><tr><td>val_f1</td><td>0.76863</td></tr><tr><td>val_loss</td><td>0.58708</td></tr></table><br/></div></div>"
      ],
      "text/plain": [
       "<IPython.core.display.HTML object>"
      ]
     },
     "metadata": {},
     "output_type": "display_data"
    },
    {
     "data": {
      "text/html": [
       " View run <strong style=\"color:#cdcd00\">fancy-sweep-22</strong> at: <a href='https://wandb.ai/barbonigiorgia-sapienza-universit-di-roma/graph-classification-graphs_sc/runs/mmko7bb4' target=\"_blank\">https://wandb.ai/barbonigiorgia-sapienza-universit-di-roma/graph-classification-graphs_sc/runs/mmko7bb4</a><br/> View project at: <a href='https://wandb.ai/barbonigiorgia-sapienza-universit-di-roma/graph-classification-graphs_sc' target=\"_blank\">https://wandb.ai/barbonigiorgia-sapienza-universit-di-roma/graph-classification-graphs_sc</a><br/>Synced 5 W&B file(s), 0 media file(s), 8 artifact file(s) and 0 other file(s)"
      ],
      "text/plain": [
       "<IPython.core.display.HTML object>"
      ]
     },
     "metadata": {},
     "output_type": "display_data"
    },
    {
     "data": {
      "text/html": [
       "Find logs at: <code>.\\wandb\\run-20241115_210744-mmko7bb4\\logs</code>"
      ],
      "text/plain": [
       "<IPython.core.display.HTML object>"
      ]
     },
     "metadata": {},
     "output_type": "display_data"
    },
    {
     "name": "stderr",
     "output_type": "stream",
     "text": [
      "\u001b[34m\u001b[1mwandb\u001b[0m: Sweep Agent: Waiting for job.\n",
      "\u001b[34m\u001b[1mwandb\u001b[0m: Job received.\n",
      "\u001b[34m\u001b[1mwandb\u001b[0m: Agent Starting Run: q9z7unx1 with config:\n",
      "\u001b[34m\u001b[1mwandb\u001b[0m: \tbatch_size: 16\n",
      "\u001b[34m\u001b[1mwandb\u001b[0m: \tin_channels: 6\n",
      "\u001b[34m\u001b[1mwandb\u001b[0m: \tlearning_rate: 0.001\n",
      "\u001b[34m\u001b[1mwandb\u001b[0m: \tnum_epochs: 5\n",
      "\u001b[34m\u001b[1mwandb\u001b[0m: \tnum_heads: 1\n",
      "\u001b[34m\u001b[1mwandb\u001b[0m: \toptimizer: sgd\n",
      "\u001b[34m\u001b[1mwandb\u001b[0m: \tout_channels: 8\n",
      "\u001b[34m\u001b[1mwandb\u001b[0m: \trandom_state: 42\n",
      "\u001b[34m\u001b[1mwandb\u001b[0m: \ttest_size: 0.3\n",
      "\u001b[34m\u001b[1mwandb\u001b[0m: \tweight_decay: 0.0001\n"
     ]
    },
    {
     "data": {
      "text/html": [
       "Tracking run with wandb version 0.18.5"
      ],
      "text/plain": [
       "<IPython.core.display.HTML object>"
      ]
     },
     "metadata": {},
     "output_type": "display_data"
    },
    {
     "data": {
      "text/html": [
       "Run data is saved locally in <code>c:\\Users\\barbo\\brain classifier repo\\brain_classifier\\src\\wandb\\run-20241115_210820-q9z7unx1</code>"
      ],
      "text/plain": [
       "<IPython.core.display.HTML object>"
      ]
     },
     "metadata": {},
     "output_type": "display_data"
    },
    {
     "data": {
      "text/html": [
       "Syncing run <strong><a href='https://wandb.ai/barbonigiorgia-sapienza-universit-di-roma/graph-classification-graphs_sc/runs/q9z7unx1' target=\"_blank\">stellar-sweep-23</a></strong> to <a href='https://wandb.ai/barbonigiorgia-sapienza-universit-di-roma/graph-classification-graphs_sc' target=\"_blank\">Weights & Biases</a> (<a href='https://wandb.me/run' target=\"_blank\">docs</a>)<br/>Sweep page: <a href='https://wandb.ai/barbonigiorgia-sapienza-universit-di-roma/graph-classification-graphs_sc/sweeps/5tx24pap' target=\"_blank\">https://wandb.ai/barbonigiorgia-sapienza-universit-di-roma/graph-classification-graphs_sc/sweeps/5tx24pap</a>"
      ],
      "text/plain": [
       "<IPython.core.display.HTML object>"
      ]
     },
     "metadata": {},
     "output_type": "display_data"
    },
    {
     "data": {
      "text/html": [
       " View project at <a href='https://wandb.ai/barbonigiorgia-sapienza-universit-di-roma/graph-classification-graphs_sc' target=\"_blank\">https://wandb.ai/barbonigiorgia-sapienza-universit-di-roma/graph-classification-graphs_sc</a>"
      ],
      "text/plain": [
       "<IPython.core.display.HTML object>"
      ]
     },
     "metadata": {},
     "output_type": "display_data"
    },
    {
     "data": {
      "text/html": [
       " View sweep at <a href='https://wandb.ai/barbonigiorgia-sapienza-universit-di-roma/graph-classification-graphs_sc/sweeps/5tx24pap' target=\"_blank\">https://wandb.ai/barbonigiorgia-sapienza-universit-di-roma/graph-classification-graphs_sc/sweeps/5tx24pap</a>"
      ],
      "text/plain": [
       "<IPython.core.display.HTML object>"
      ]
     },
     "metadata": {},
     "output_type": "display_data"
    },
    {
     "data": {
      "text/html": [
       " View run at <a href='https://wandb.ai/barbonigiorgia-sapienza-universit-di-roma/graph-classification-graphs_sc/runs/q9z7unx1' target=\"_blank\">https://wandb.ai/barbonigiorgia-sapienza-universit-di-roma/graph-classification-graphs_sc/runs/q9z7unx1</a>"
      ],
      "text/plain": [
       "<IPython.core.display.HTML object>"
      ]
     },
     "metadata": {},
     "output_type": "display_data"
    },
    {
     "name": "stdout",
     "output_type": "stream",
     "text": [
      "Running with config: {'batch_size': 16, 'in_channels': 6, 'learning_rate': 0.001, 'num_epochs': 5, 'num_heads': 1, 'optimizer': 'sgd', 'out_channels': 8, 'random_state': 42, 'test_size': 0.3, 'weight_decay': 0.0001}\n"
     ]
    },
    {
     "data": {
      "text/html": [
       "<style>\n",
       "    table.wandb td:nth-child(1) { padding: 0 10px; text-align: left ; width: auto;} td:nth-child(2) {text-align: left ; width: 100%}\n",
       "    .wandb-row { display: flex; flex-direction: row; flex-wrap: wrap; justify-content: flex-start; width: 100% }\n",
       "    .wandb-col { display: flex; flex-direction: column; flex-basis: 100%; flex: 1; padding: 10px; }\n",
       "    </style>\n",
       "<div class=\"wandb-row\"><div class=\"wandb-col\"><h3>Run history:</h3><br/><table class=\"wandb\"><tr><td>epoch</td><td>▁▃▅▆█</td></tr><tr><td>train_accuracy</td><td>██▃▁▁</td></tr><tr><td>train_f1</td><td>██▃▁▁</td></tr><tr><td>train_loss</td><td>█▆▂▄▁</td></tr><tr><td>val_accuracy</td><td>██▁▁▁</td></tr><tr><td>val_f1</td><td>██▁▁▁</td></tr><tr><td>val_loss</td><td>█▇▅▃▁</td></tr></table><br/></div><div class=\"wandb-col\"><h3>Run summary:</h3><br/><table class=\"wandb\"><tr><td>epoch</td><td>5</td></tr><tr><td>train_accuracy</td><td>0.576</td></tr><tr><td>train_f1</td><td>0.42933</td></tr><tr><td>train_loss</td><td>0.67287</td></tr><tr><td>val_accuracy</td><td>0.62963</td></tr><tr><td>val_f1</td><td>0.54365</td></tr><tr><td>val_loss</td><td>0.67221</td></tr></table><br/></div></div>"
      ],
      "text/plain": [
       "<IPython.core.display.HTML object>"
      ]
     },
     "metadata": {},
     "output_type": "display_data"
    },
    {
     "data": {
      "text/html": [
       " View run <strong style=\"color:#cdcd00\">stellar-sweep-23</strong> at: <a href='https://wandb.ai/barbonigiorgia-sapienza-universit-di-roma/graph-classification-graphs_sc/runs/q9z7unx1' target=\"_blank\">https://wandb.ai/barbonigiorgia-sapienza-universit-di-roma/graph-classification-graphs_sc/runs/q9z7unx1</a><br/> View project at: <a href='https://wandb.ai/barbonigiorgia-sapienza-universit-di-roma/graph-classification-graphs_sc' target=\"_blank\">https://wandb.ai/barbonigiorgia-sapienza-universit-di-roma/graph-classification-graphs_sc</a><br/>Synced 5 W&B file(s), 0 media file(s), 4 artifact file(s) and 0 other file(s)"
      ],
      "text/plain": [
       "<IPython.core.display.HTML object>"
      ]
     },
     "metadata": {},
     "output_type": "display_data"
    },
    {
     "data": {
      "text/html": [
       "Find logs at: <code>.\\wandb\\run-20241115_210820-q9z7unx1\\logs</code>"
      ],
      "text/plain": [
       "<IPython.core.display.HTML object>"
      ]
     },
     "metadata": {},
     "output_type": "display_data"
    },
    {
     "name": "stderr",
     "output_type": "stream",
     "text": [
      "\u001b[34m\u001b[1mwandb\u001b[0m: Agent Starting Run: r479il94 with config:\n",
      "\u001b[34m\u001b[1mwandb\u001b[0m: \tbatch_size: 8\n",
      "\u001b[34m\u001b[1mwandb\u001b[0m: \tin_channels: 6\n",
      "\u001b[34m\u001b[1mwandb\u001b[0m: \tlearning_rate: 0.01\n",
      "\u001b[34m\u001b[1mwandb\u001b[0m: \tnum_epochs: 5\n",
      "\u001b[34m\u001b[1mwandb\u001b[0m: \tnum_heads: 2\n",
      "\u001b[34m\u001b[1mwandb\u001b[0m: \toptimizer: sgd\n",
      "\u001b[34m\u001b[1mwandb\u001b[0m: \tout_channels: 8\n",
      "\u001b[34m\u001b[1mwandb\u001b[0m: \trandom_state: 42\n",
      "\u001b[34m\u001b[1mwandb\u001b[0m: \ttest_size: 0.3\n",
      "\u001b[34m\u001b[1mwandb\u001b[0m: \tweight_decay: 0.0001\n"
     ]
    },
    {
     "data": {
      "text/html": [
       "Tracking run with wandb version 0.18.5"
      ],
      "text/plain": [
       "<IPython.core.display.HTML object>"
      ]
     },
     "metadata": {},
     "output_type": "display_data"
    },
    {
     "data": {
      "text/html": [
       "Run data is saved locally in <code>c:\\Users\\barbo\\brain classifier repo\\brain_classifier\\src\\wandb\\run-20241115_210836-r479il94</code>"
      ],
      "text/plain": [
       "<IPython.core.display.HTML object>"
      ]
     },
     "metadata": {},
     "output_type": "display_data"
    },
    {
     "data": {
      "text/html": [
       "Syncing run <strong><a href='https://wandb.ai/barbonigiorgia-sapienza-universit-di-roma/graph-classification-graphs_sc/runs/r479il94' target=\"_blank\">visionary-sweep-24</a></strong> to <a href='https://wandb.ai/barbonigiorgia-sapienza-universit-di-roma/graph-classification-graphs_sc' target=\"_blank\">Weights & Biases</a> (<a href='https://wandb.me/run' target=\"_blank\">docs</a>)<br/>Sweep page: <a href='https://wandb.ai/barbonigiorgia-sapienza-universit-di-roma/graph-classification-graphs_sc/sweeps/5tx24pap' target=\"_blank\">https://wandb.ai/barbonigiorgia-sapienza-universit-di-roma/graph-classification-graphs_sc/sweeps/5tx24pap</a>"
      ],
      "text/plain": [
       "<IPython.core.display.HTML object>"
      ]
     },
     "metadata": {},
     "output_type": "display_data"
    },
    {
     "data": {
      "text/html": [
       " View project at <a href='https://wandb.ai/barbonigiorgia-sapienza-universit-di-roma/graph-classification-graphs_sc' target=\"_blank\">https://wandb.ai/barbonigiorgia-sapienza-universit-di-roma/graph-classification-graphs_sc</a>"
      ],
      "text/plain": [
       "<IPython.core.display.HTML object>"
      ]
     },
     "metadata": {},
     "output_type": "display_data"
    },
    {
     "data": {
      "text/html": [
       " View sweep at <a href='https://wandb.ai/barbonigiorgia-sapienza-universit-di-roma/graph-classification-graphs_sc/sweeps/5tx24pap' target=\"_blank\">https://wandb.ai/barbonigiorgia-sapienza-universit-di-roma/graph-classification-graphs_sc/sweeps/5tx24pap</a>"
      ],
      "text/plain": [
       "<IPython.core.display.HTML object>"
      ]
     },
     "metadata": {},
     "output_type": "display_data"
    },
    {
     "data": {
      "text/html": [
       " View run at <a href='https://wandb.ai/barbonigiorgia-sapienza-universit-di-roma/graph-classification-graphs_sc/runs/r479il94' target=\"_blank\">https://wandb.ai/barbonigiorgia-sapienza-universit-di-roma/graph-classification-graphs_sc/runs/r479il94</a>"
      ],
      "text/plain": [
       "<IPython.core.display.HTML object>"
      ]
     },
     "metadata": {},
     "output_type": "display_data"
    },
    {
     "name": "stdout",
     "output_type": "stream",
     "text": [
      "Running with config: {'batch_size': 8, 'in_channels': 6, 'learning_rate': 0.01, 'num_epochs': 5, 'num_heads': 2, 'optimizer': 'sgd', 'out_channels': 8, 'random_state': 42, 'test_size': 0.3, 'weight_decay': 0.0001}\n"
     ]
    },
    {
     "data": {
      "text/html": [
       "<style>\n",
       "    table.wandb td:nth-child(1) { padding: 0 10px; text-align: left ; width: auto;} td:nth-child(2) {text-align: left ; width: 100%}\n",
       "    .wandb-row { display: flex; flex-direction: row; flex-wrap: wrap; justify-content: flex-start; width: 100% }\n",
       "    .wandb-col { display: flex; flex-direction: column; flex-basis: 100%; flex: 1; padding: 10px; }\n",
       "    </style>\n",
       "<div class=\"wandb-row\"><div class=\"wandb-col\"><h3>Run history:</h3><br/><table class=\"wandb\"><tr><td>epoch</td><td>▁▃▅▆█</td></tr><tr><td>train_accuracy</td><td>▁████</td></tr><tr><td>train_f1</td><td>▁████</td></tr><tr><td>train_loss</td><td>█▆▃▃▁</td></tr><tr><td>val_accuracy</td><td>▅▁███</td></tr><tr><td>val_f1</td><td>▅▁███</td></tr><tr><td>val_loss</td><td>█▆▄▂▁</td></tr></table><br/></div><div class=\"wandb-col\"><h3>Run summary:</h3><br/><table class=\"wandb\"><tr><td>epoch</td><td>5</td></tr><tr><td>train_accuracy</td><td>0.568</td></tr><tr><td>train_f1</td><td>0.41151</td></tr><tr><td>train_loss</td><td>0.65019</td></tr><tr><td>val_accuracy</td><td>0.62963</td></tr><tr><td>val_f1</td><td>0.54365</td></tr><tr><td>val_loss</td><td>0.64649</td></tr></table><br/></div></div>"
      ],
      "text/plain": [
       "<IPython.core.display.HTML object>"
      ]
     },
     "metadata": {},
     "output_type": "display_data"
    },
    {
     "data": {
      "text/html": [
       " View run <strong style=\"color:#cdcd00\">visionary-sweep-24</strong> at: <a href='https://wandb.ai/barbonigiorgia-sapienza-universit-di-roma/graph-classification-graphs_sc/runs/r479il94' target=\"_blank\">https://wandb.ai/barbonigiorgia-sapienza-universit-di-roma/graph-classification-graphs_sc/runs/r479il94</a><br/> View project at: <a href='https://wandb.ai/barbonigiorgia-sapienza-universit-di-roma/graph-classification-graphs_sc' target=\"_blank\">https://wandb.ai/barbonigiorgia-sapienza-universit-di-roma/graph-classification-graphs_sc</a><br/>Synced 5 W&B file(s), 0 media file(s), 4 artifact file(s) and 0 other file(s)"
      ],
      "text/plain": [
       "<IPython.core.display.HTML object>"
      ]
     },
     "metadata": {},
     "output_type": "display_data"
    },
    {
     "data": {
      "text/html": [
       "Find logs at: <code>.\\wandb\\run-20241115_210836-r479il94\\logs</code>"
      ],
      "text/plain": [
       "<IPython.core.display.HTML object>"
      ]
     },
     "metadata": {},
     "output_type": "display_data"
    },
    {
     "name": "stderr",
     "output_type": "stream",
     "text": [
      "\u001b[34m\u001b[1mwandb\u001b[0m: Agent Starting Run: iui5b03h with config:\n",
      "\u001b[34m\u001b[1mwandb\u001b[0m: \tbatch_size: 8\n",
      "\u001b[34m\u001b[1mwandb\u001b[0m: \tin_channels: 6\n",
      "\u001b[34m\u001b[1mwandb\u001b[0m: \tlearning_rate: 0.1\n",
      "\u001b[34m\u001b[1mwandb\u001b[0m: \tnum_epochs: 5\n",
      "\u001b[34m\u001b[1mwandb\u001b[0m: \tnum_heads: 1\n",
      "\u001b[34m\u001b[1mwandb\u001b[0m: \toptimizer: adam\n",
      "\u001b[34m\u001b[1mwandb\u001b[0m: \tout_channels: 8\n",
      "\u001b[34m\u001b[1mwandb\u001b[0m: \trandom_state: 42\n",
      "\u001b[34m\u001b[1mwandb\u001b[0m: \ttest_size: 0.3\n",
      "\u001b[34m\u001b[1mwandb\u001b[0m: \tweight_decay: 0.0001\n"
     ]
    },
    {
     "data": {
      "text/html": [
       "Tracking run with wandb version 0.18.5"
      ],
      "text/plain": [
       "<IPython.core.display.HTML object>"
      ]
     },
     "metadata": {},
     "output_type": "display_data"
    },
    {
     "data": {
      "text/html": [
       "Run data is saved locally in <code>c:\\Users\\barbo\\brain classifier repo\\brain_classifier\\src\\wandb\\run-20241115_210903-iui5b03h</code>"
      ],
      "text/plain": [
       "<IPython.core.display.HTML object>"
      ]
     },
     "metadata": {},
     "output_type": "display_data"
    },
    {
     "data": {
      "text/html": [
       "Syncing run <strong><a href='https://wandb.ai/barbonigiorgia-sapienza-universit-di-roma/graph-classification-graphs_sc/runs/iui5b03h' target=\"_blank\">major-sweep-25</a></strong> to <a href='https://wandb.ai/barbonigiorgia-sapienza-universit-di-roma/graph-classification-graphs_sc' target=\"_blank\">Weights & Biases</a> (<a href='https://wandb.me/run' target=\"_blank\">docs</a>)<br/>Sweep page: <a href='https://wandb.ai/barbonigiorgia-sapienza-universit-di-roma/graph-classification-graphs_sc/sweeps/5tx24pap' target=\"_blank\">https://wandb.ai/barbonigiorgia-sapienza-universit-di-roma/graph-classification-graphs_sc/sweeps/5tx24pap</a>"
      ],
      "text/plain": [
       "<IPython.core.display.HTML object>"
      ]
     },
     "metadata": {},
     "output_type": "display_data"
    },
    {
     "data": {
      "text/html": [
       " View project at <a href='https://wandb.ai/barbonigiorgia-sapienza-universit-di-roma/graph-classification-graphs_sc' target=\"_blank\">https://wandb.ai/barbonigiorgia-sapienza-universit-di-roma/graph-classification-graphs_sc</a>"
      ],
      "text/plain": [
       "<IPython.core.display.HTML object>"
      ]
     },
     "metadata": {},
     "output_type": "display_data"
    },
    {
     "data": {
      "text/html": [
       " View sweep at <a href='https://wandb.ai/barbonigiorgia-sapienza-universit-di-roma/graph-classification-graphs_sc/sweeps/5tx24pap' target=\"_blank\">https://wandb.ai/barbonigiorgia-sapienza-universit-di-roma/graph-classification-graphs_sc/sweeps/5tx24pap</a>"
      ],
      "text/plain": [
       "<IPython.core.display.HTML object>"
      ]
     },
     "metadata": {},
     "output_type": "display_data"
    },
    {
     "data": {
      "text/html": [
       " View run at <a href='https://wandb.ai/barbonigiorgia-sapienza-universit-di-roma/graph-classification-graphs_sc/runs/iui5b03h' target=\"_blank\">https://wandb.ai/barbonigiorgia-sapienza-universit-di-roma/graph-classification-graphs_sc/runs/iui5b03h</a>"
      ],
      "text/plain": [
       "<IPython.core.display.HTML object>"
      ]
     },
     "metadata": {},
     "output_type": "display_data"
    },
    {
     "name": "stdout",
     "output_type": "stream",
     "text": [
      "Running with config: {'batch_size': 8, 'in_channels': 6, 'learning_rate': 0.1, 'num_epochs': 5, 'num_heads': 1, 'optimizer': 'adam', 'out_channels': 8, 'random_state': 42, 'test_size': 0.3, 'weight_decay': 0.0001}\n"
     ]
    },
    {
     "data": {
      "text/html": [
       "<style>\n",
       "    table.wandb td:nth-child(1) { padding: 0 10px; text-align: left ; width: auto;} td:nth-child(2) {text-align: left ; width: 100%}\n",
       "    .wandb-row { display: flex; flex-direction: row; flex-wrap: wrap; justify-content: flex-start; width: 100% }\n",
       "    .wandb-col { display: flex; flex-direction: column; flex-basis: 100%; flex: 1; padding: 10px; }\n",
       "    </style>\n",
       "<div class=\"wandb-row\"><div class=\"wandb-col\"><h3>Run history:</h3><br/><table class=\"wandb\"><tr><td>epoch</td><td>▁▃▅▆█</td></tr><tr><td>train_accuracy</td><td>▁▄▇█▇</td></tr><tr><td>train_f1</td><td>▁▃▇██</td></tr><tr><td>train_loss</td><td>█▅▁▁▂</td></tr><tr><td>val_accuracy</td><td>▆▁█▃▃</td></tr><tr><td>val_f1</td><td>▄▁█▃▃</td></tr><tr><td>val_loss</td><td>█▅▁▄▄</td></tr></table><br/></div><div class=\"wandb-col\"><h3>Run summary:</h3><br/><table class=\"wandb\"><tr><td>epoch</td><td>5</td></tr><tr><td>train_accuracy</td><td>0.712</td></tr><tr><td>train_f1</td><td>0.70678</td></tr><tr><td>train_loss</td><td>0.54436</td></tr><tr><td>val_accuracy</td><td>0.7037</td></tr><tr><td>val_f1</td><td>0.70208</td></tr><tr><td>val_loss</td><td>0.48801</td></tr></table><br/></div></div>"
      ],
      "text/plain": [
       "<IPython.core.display.HTML object>"
      ]
     },
     "metadata": {},
     "output_type": "display_data"
    },
    {
     "data": {
      "text/html": [
       " View run <strong style=\"color:#cdcd00\">major-sweep-25</strong> at: <a href='https://wandb.ai/barbonigiorgia-sapienza-universit-di-roma/graph-classification-graphs_sc/runs/iui5b03h' target=\"_blank\">https://wandb.ai/barbonigiorgia-sapienza-universit-di-roma/graph-classification-graphs_sc/runs/iui5b03h</a><br/> View project at: <a href='https://wandb.ai/barbonigiorgia-sapienza-universit-di-roma/graph-classification-graphs_sc' target=\"_blank\">https://wandb.ai/barbonigiorgia-sapienza-universit-di-roma/graph-classification-graphs_sc</a><br/>Synced 5 W&B file(s), 0 media file(s), 6 artifact file(s) and 0 other file(s)"
      ],
      "text/plain": [
       "<IPython.core.display.HTML object>"
      ]
     },
     "metadata": {},
     "output_type": "display_data"
    },
    {
     "data": {
      "text/html": [
       "Find logs at: <code>.\\wandb\\run-20241115_210903-iui5b03h\\logs</code>"
      ],
      "text/plain": [
       "<IPython.core.display.HTML object>"
      ]
     },
     "metadata": {},
     "output_type": "display_data"
    },
    {
     "name": "stderr",
     "output_type": "stream",
     "text": [
      "\u001b[34m\u001b[1mwandb\u001b[0m: Agent Starting Run: m4cuyru7 with config:\n",
      "\u001b[34m\u001b[1mwandb\u001b[0m: \tbatch_size: 8\n",
      "\u001b[34m\u001b[1mwandb\u001b[0m: \tin_channels: 6\n",
      "\u001b[34m\u001b[1mwandb\u001b[0m: \tlearning_rate: 0.01\n",
      "\u001b[34m\u001b[1mwandb\u001b[0m: \tnum_epochs: 5\n",
      "\u001b[34m\u001b[1mwandb\u001b[0m: \tnum_heads: 4\n",
      "\u001b[34m\u001b[1mwandb\u001b[0m: \toptimizer: sgd\n",
      "\u001b[34m\u001b[1mwandb\u001b[0m: \tout_channels: 12\n",
      "\u001b[34m\u001b[1mwandb\u001b[0m: \trandom_state: 42\n",
      "\u001b[34m\u001b[1mwandb\u001b[0m: \ttest_size: 0.3\n",
      "\u001b[34m\u001b[1mwandb\u001b[0m: \tweight_decay: 0.0001\n"
     ]
    },
    {
     "data": {
      "text/html": [
       "Tracking run with wandb version 0.18.5"
      ],
      "text/plain": [
       "<IPython.core.display.HTML object>"
      ]
     },
     "metadata": {},
     "output_type": "display_data"
    },
    {
     "data": {
      "text/html": [
       "Run data is saved locally in <code>c:\\Users\\barbo\\brain classifier repo\\brain_classifier\\src\\wandb\\run-20241115_210923-m4cuyru7</code>"
      ],
      "text/plain": [
       "<IPython.core.display.HTML object>"
      ]
     },
     "metadata": {},
     "output_type": "display_data"
    },
    {
     "data": {
      "text/html": [
       "Syncing run <strong><a href='https://wandb.ai/barbonigiorgia-sapienza-universit-di-roma/graph-classification-graphs_sc/runs/m4cuyru7' target=\"_blank\">gentle-sweep-26</a></strong> to <a href='https://wandb.ai/barbonigiorgia-sapienza-universit-di-roma/graph-classification-graphs_sc' target=\"_blank\">Weights & Biases</a> (<a href='https://wandb.me/run' target=\"_blank\">docs</a>)<br/>Sweep page: <a href='https://wandb.ai/barbonigiorgia-sapienza-universit-di-roma/graph-classification-graphs_sc/sweeps/5tx24pap' target=\"_blank\">https://wandb.ai/barbonigiorgia-sapienza-universit-di-roma/graph-classification-graphs_sc/sweeps/5tx24pap</a>"
      ],
      "text/plain": [
       "<IPython.core.display.HTML object>"
      ]
     },
     "metadata": {},
     "output_type": "display_data"
    },
    {
     "data": {
      "text/html": [
       " View project at <a href='https://wandb.ai/barbonigiorgia-sapienza-universit-di-roma/graph-classification-graphs_sc' target=\"_blank\">https://wandb.ai/barbonigiorgia-sapienza-universit-di-roma/graph-classification-graphs_sc</a>"
      ],
      "text/plain": [
       "<IPython.core.display.HTML object>"
      ]
     },
     "metadata": {},
     "output_type": "display_data"
    },
    {
     "data": {
      "text/html": [
       " View sweep at <a href='https://wandb.ai/barbonigiorgia-sapienza-universit-di-roma/graph-classification-graphs_sc/sweeps/5tx24pap' target=\"_blank\">https://wandb.ai/barbonigiorgia-sapienza-universit-di-roma/graph-classification-graphs_sc/sweeps/5tx24pap</a>"
      ],
      "text/plain": [
       "<IPython.core.display.HTML object>"
      ]
     },
     "metadata": {},
     "output_type": "display_data"
    },
    {
     "data": {
      "text/html": [
       " View run at <a href='https://wandb.ai/barbonigiorgia-sapienza-universit-di-roma/graph-classification-graphs_sc/runs/m4cuyru7' target=\"_blank\">https://wandb.ai/barbonigiorgia-sapienza-universit-di-roma/graph-classification-graphs_sc/runs/m4cuyru7</a>"
      ],
      "text/plain": [
       "<IPython.core.display.HTML object>"
      ]
     },
     "metadata": {},
     "output_type": "display_data"
    },
    {
     "name": "stdout",
     "output_type": "stream",
     "text": [
      "Running with config: {'batch_size': 8, 'in_channels': 6, 'learning_rate': 0.01, 'num_epochs': 5, 'num_heads': 4, 'optimizer': 'sgd', 'out_channels': 12, 'random_state': 42, 'test_size': 0.3, 'weight_decay': 0.0001}\n"
     ]
    },
    {
     "data": {
      "text/html": [
       "<style>\n",
       "    table.wandb td:nth-child(1) { padding: 0 10px; text-align: left ; width: auto;} td:nth-child(2) {text-align: left ; width: 100%}\n",
       "    .wandb-row { display: flex; flex-direction: row; flex-wrap: wrap; justify-content: flex-start; width: 100% }\n",
       "    .wandb-col { display: flex; flex-direction: column; flex-basis: 100%; flex: 1; padding: 10px; }\n",
       "    </style>\n",
       "<div class=\"wandb-row\"><div class=\"wandb-col\"><h3>Run history:</h3><br/><table class=\"wandb\"><tr><td>epoch</td><td>▁▃▅▆█</td></tr><tr><td>train_accuracy</td><td>▁▄█▂▇</td></tr><tr><td>train_f1</td><td>▁▄█▂█</td></tr><tr><td>train_loss</td><td>█▅▄▃▁</td></tr><tr><td>val_accuracy</td><td>▁▆█▆█</td></tr><tr><td>val_f1</td><td>▁▆█▆█</td></tr><tr><td>val_loss</td><td>█▆▄▃▁</td></tr></table><br/></div><div class=\"wandb-col\"><h3>Run summary:</h3><br/><table class=\"wandb\"><tr><td>epoch</td><td>5</td></tr><tr><td>train_accuracy</td><td>0.6</td></tr><tr><td>train_f1</td><td>0.49053</td></tr><tr><td>train_loss</td><td>0.62897</td></tr><tr><td>val_accuracy</td><td>0.66667</td></tr><tr><td>val_f1</td><td>0.60513</td></tr><tr><td>val_loss</td><td>0.63068</td></tr></table><br/></div></div>"
      ],
      "text/plain": [
       "<IPython.core.display.HTML object>"
      ]
     },
     "metadata": {},
     "output_type": "display_data"
    },
    {
     "data": {
      "text/html": [
       " View run <strong style=\"color:#cdcd00\">gentle-sweep-26</strong> at: <a href='https://wandb.ai/barbonigiorgia-sapienza-universit-di-roma/graph-classification-graphs_sc/runs/m4cuyru7' target=\"_blank\">https://wandb.ai/barbonigiorgia-sapienza-universit-di-roma/graph-classification-graphs_sc/runs/m4cuyru7</a><br/> View project at: <a href='https://wandb.ai/barbonigiorgia-sapienza-universit-di-roma/graph-classification-graphs_sc' target=\"_blank\">https://wandb.ai/barbonigiorgia-sapienza-universit-di-roma/graph-classification-graphs_sc</a><br/>Synced 5 W&B file(s), 0 media file(s), 8 artifact file(s) and 0 other file(s)"
      ],
      "text/plain": [
       "<IPython.core.display.HTML object>"
      ]
     },
     "metadata": {},
     "output_type": "display_data"
    },
    {
     "data": {
      "text/html": [
       "Find logs at: <code>.\\wandb\\run-20241115_210923-m4cuyru7\\logs</code>"
      ],
      "text/plain": [
       "<IPython.core.display.HTML object>"
      ]
     },
     "metadata": {},
     "output_type": "display_data"
    },
    {
     "name": "stderr",
     "output_type": "stream",
     "text": [
      "\u001b[34m\u001b[1mwandb\u001b[0m: Agent Starting Run: 8shstn3w with config:\n",
      "\u001b[34m\u001b[1mwandb\u001b[0m: \tbatch_size: 8\n",
      "\u001b[34m\u001b[1mwandb\u001b[0m: \tin_channels: 6\n",
      "\u001b[34m\u001b[1mwandb\u001b[0m: \tlearning_rate: 0.0001\n",
      "\u001b[34m\u001b[1mwandb\u001b[0m: \tnum_epochs: 5\n",
      "\u001b[34m\u001b[1mwandb\u001b[0m: \tnum_heads: 3\n",
      "\u001b[34m\u001b[1mwandb\u001b[0m: \toptimizer: adam\n",
      "\u001b[34m\u001b[1mwandb\u001b[0m: \tout_channels: 12\n",
      "\u001b[34m\u001b[1mwandb\u001b[0m: \trandom_state: 42\n",
      "\u001b[34m\u001b[1mwandb\u001b[0m: \ttest_size: 0.3\n",
      "\u001b[34m\u001b[1mwandb\u001b[0m: \tweight_decay: 0.0001\n"
     ]
    },
    {
     "data": {
      "text/html": [
       "Tracking run with wandb version 0.18.5"
      ],
      "text/plain": [
       "<IPython.core.display.HTML object>"
      ]
     },
     "metadata": {},
     "output_type": "display_data"
    },
    {
     "data": {
      "text/html": [
       "Run data is saved locally in <code>c:\\Users\\barbo\\brain classifier repo\\brain_classifier\\src\\wandb\\run-20241115_211011-8shstn3w</code>"
      ],
      "text/plain": [
       "<IPython.core.display.HTML object>"
      ]
     },
     "metadata": {},
     "output_type": "display_data"
    },
    {
     "data": {
      "text/html": [
       "Syncing run <strong><a href='https://wandb.ai/barbonigiorgia-sapienza-universit-di-roma/graph-classification-graphs_sc/runs/8shstn3w' target=\"_blank\">young-sweep-27</a></strong> to <a href='https://wandb.ai/barbonigiorgia-sapienza-universit-di-roma/graph-classification-graphs_sc' target=\"_blank\">Weights & Biases</a> (<a href='https://wandb.me/run' target=\"_blank\">docs</a>)<br/>Sweep page: <a href='https://wandb.ai/barbonigiorgia-sapienza-universit-di-roma/graph-classification-graphs_sc/sweeps/5tx24pap' target=\"_blank\">https://wandb.ai/barbonigiorgia-sapienza-universit-di-roma/graph-classification-graphs_sc/sweeps/5tx24pap</a>"
      ],
      "text/plain": [
       "<IPython.core.display.HTML object>"
      ]
     },
     "metadata": {},
     "output_type": "display_data"
    },
    {
     "data": {
      "text/html": [
       " View project at <a href='https://wandb.ai/barbonigiorgia-sapienza-universit-di-roma/graph-classification-graphs_sc' target=\"_blank\">https://wandb.ai/barbonigiorgia-sapienza-universit-di-roma/graph-classification-graphs_sc</a>"
      ],
      "text/plain": [
       "<IPython.core.display.HTML object>"
      ]
     },
     "metadata": {},
     "output_type": "display_data"
    },
    {
     "data": {
      "text/html": [
       " View sweep at <a href='https://wandb.ai/barbonigiorgia-sapienza-universit-di-roma/graph-classification-graphs_sc/sweeps/5tx24pap' target=\"_blank\">https://wandb.ai/barbonigiorgia-sapienza-universit-di-roma/graph-classification-graphs_sc/sweeps/5tx24pap</a>"
      ],
      "text/plain": [
       "<IPython.core.display.HTML object>"
      ]
     },
     "metadata": {},
     "output_type": "display_data"
    },
    {
     "data": {
      "text/html": [
       " View run at <a href='https://wandb.ai/barbonigiorgia-sapienza-universit-di-roma/graph-classification-graphs_sc/runs/8shstn3w' target=\"_blank\">https://wandb.ai/barbonigiorgia-sapienza-universit-di-roma/graph-classification-graphs_sc/runs/8shstn3w</a>"
      ],
      "text/plain": [
       "<IPython.core.display.HTML object>"
      ]
     },
     "metadata": {},
     "output_type": "display_data"
    },
    {
     "name": "stdout",
     "output_type": "stream",
     "text": [
      "Running with config: {'batch_size': 8, 'in_channels': 6, 'learning_rate': 0.0001, 'num_epochs': 5, 'num_heads': 3, 'optimizer': 'adam', 'out_channels': 12, 'random_state': 42, 'test_size': 0.3, 'weight_decay': 0.0001}\n"
     ]
    },
    {
     "data": {
      "text/html": [
       "<style>\n",
       "    table.wandb td:nth-child(1) { padding: 0 10px; text-align: left ; width: auto;} td:nth-child(2) {text-align: left ; width: 100%}\n",
       "    .wandb-row { display: flex; flex-direction: row; flex-wrap: wrap; justify-content: flex-start; width: 100% }\n",
       "    .wandb-col { display: flex; flex-direction: column; flex-basis: 100%; flex: 1; padding: 10px; }\n",
       "    </style>\n",
       "<div class=\"wandb-row\"><div class=\"wandb-col\"><h3>Run history:</h3><br/><table class=\"wandb\"><tr><td>epoch</td><td>▁▃▅▆█</td></tr><tr><td>train_accuracy</td><td>▁▃▄▇█</td></tr><tr><td>train_f1</td><td>██▆▆▁</td></tr><tr><td>train_loss</td><td>█▆▃▃▁</td></tr><tr><td>val_accuracy</td><td>▃▁▄██</td></tr><tr><td>val_f1</td><td>▆▁▅██</td></tr><tr><td>val_loss</td><td>█▆▅▃▁</td></tr></table><br/></div><div class=\"wandb-col\"><h3>Run summary:</h3><br/><table class=\"wandb\"><tr><td>epoch</td><td>5</td></tr><tr><td>train_accuracy</td><td>0.536</td></tr><tr><td>train_f1</td><td>0.39642</td></tr><tr><td>train_loss</td><td>0.69204</td></tr><tr><td>val_accuracy</td><td>0.48148</td></tr><tr><td>val_f1</td><td>0.36111</td></tr><tr><td>val_loss</td><td>0.70165</td></tr></table><br/></div></div>"
      ],
      "text/plain": [
       "<IPython.core.display.HTML object>"
      ]
     },
     "metadata": {},
     "output_type": "display_data"
    },
    {
     "data": {
      "text/html": [
       " View run <strong style=\"color:#cdcd00\">young-sweep-27</strong> at: <a href='https://wandb.ai/barbonigiorgia-sapienza-universit-di-roma/graph-classification-graphs_sc/runs/8shstn3w' target=\"_blank\">https://wandb.ai/barbonigiorgia-sapienza-universit-di-roma/graph-classification-graphs_sc/runs/8shstn3w</a><br/> View project at: <a href='https://wandb.ai/barbonigiorgia-sapienza-universit-di-roma/graph-classification-graphs_sc' target=\"_blank\">https://wandb.ai/barbonigiorgia-sapienza-universit-di-roma/graph-classification-graphs_sc</a><br/>Synced 5 W&B file(s), 0 media file(s), 8 artifact file(s) and 0 other file(s)"
      ],
      "text/plain": [
       "<IPython.core.display.HTML object>"
      ]
     },
     "metadata": {},
     "output_type": "display_data"
    },
    {
     "data": {
      "text/html": [
       "Find logs at: <code>.\\wandb\\run-20241115_211011-8shstn3w\\logs</code>"
      ],
      "text/plain": [
       "<IPython.core.display.HTML object>"
      ]
     },
     "metadata": {},
     "output_type": "display_data"
    },
    {
     "name": "stderr",
     "output_type": "stream",
     "text": [
      "\u001b[34m\u001b[1mwandb\u001b[0m: Sweep Agent: Waiting for job.\n",
      "\u001b[34m\u001b[1mwandb\u001b[0m: Job received.\n",
      "\u001b[34m\u001b[1mwandb\u001b[0m: Agent Starting Run: ln3sam8z with config:\n",
      "\u001b[34m\u001b[1mwandb\u001b[0m: \tbatch_size: 16\n",
      "\u001b[34m\u001b[1mwandb\u001b[0m: \tin_channels: 6\n",
      "\u001b[34m\u001b[1mwandb\u001b[0m: \tlearning_rate: 0.01\n",
      "\u001b[34m\u001b[1mwandb\u001b[0m: \tnum_epochs: 5\n",
      "\u001b[34m\u001b[1mwandb\u001b[0m: \tnum_heads: 4\n",
      "\u001b[34m\u001b[1mwandb\u001b[0m: \toptimizer: sgd\n",
      "\u001b[34m\u001b[1mwandb\u001b[0m: \tout_channels: 12\n",
      "\u001b[34m\u001b[1mwandb\u001b[0m: \trandom_state: 42\n",
      "\u001b[34m\u001b[1mwandb\u001b[0m: \ttest_size: 0.3\n",
      "\u001b[34m\u001b[1mwandb\u001b[0m: \tweight_decay: 1e-05\n"
     ]
    },
    {
     "data": {
      "text/html": [
       "Tracking run with wandb version 0.18.5"
      ],
      "text/plain": [
       "<IPython.core.display.HTML object>"
      ]
     },
     "metadata": {},
     "output_type": "display_data"
    },
    {
     "data": {
      "text/html": [
       "Run data is saved locally in <code>c:\\Users\\barbo\\brain classifier repo\\brain_classifier\\src\\wandb\\run-20241115_211058-ln3sam8z</code>"
      ],
      "text/plain": [
       "<IPython.core.display.HTML object>"
      ]
     },
     "metadata": {},
     "output_type": "display_data"
    },
    {
     "data": {
      "text/html": [
       "Syncing run <strong><a href='https://wandb.ai/barbonigiorgia-sapienza-universit-di-roma/graph-classification-graphs_sc/runs/ln3sam8z' target=\"_blank\">major-sweep-28</a></strong> to <a href='https://wandb.ai/barbonigiorgia-sapienza-universit-di-roma/graph-classification-graphs_sc' target=\"_blank\">Weights & Biases</a> (<a href='https://wandb.me/run' target=\"_blank\">docs</a>)<br/>Sweep page: <a href='https://wandb.ai/barbonigiorgia-sapienza-universit-di-roma/graph-classification-graphs_sc/sweeps/5tx24pap' target=\"_blank\">https://wandb.ai/barbonigiorgia-sapienza-universit-di-roma/graph-classification-graphs_sc/sweeps/5tx24pap</a>"
      ],
      "text/plain": [
       "<IPython.core.display.HTML object>"
      ]
     },
     "metadata": {},
     "output_type": "display_data"
    },
    {
     "data": {
      "text/html": [
       " View project at <a href='https://wandb.ai/barbonigiorgia-sapienza-universit-di-roma/graph-classification-graphs_sc' target=\"_blank\">https://wandb.ai/barbonigiorgia-sapienza-universit-di-roma/graph-classification-graphs_sc</a>"
      ],
      "text/plain": [
       "<IPython.core.display.HTML object>"
      ]
     },
     "metadata": {},
     "output_type": "display_data"
    },
    {
     "data": {
      "text/html": [
       " View sweep at <a href='https://wandb.ai/barbonigiorgia-sapienza-universit-di-roma/graph-classification-graphs_sc/sweeps/5tx24pap' target=\"_blank\">https://wandb.ai/barbonigiorgia-sapienza-universit-di-roma/graph-classification-graphs_sc/sweeps/5tx24pap</a>"
      ],
      "text/plain": [
       "<IPython.core.display.HTML object>"
      ]
     },
     "metadata": {},
     "output_type": "display_data"
    },
    {
     "data": {
      "text/html": [
       " View run at <a href='https://wandb.ai/barbonigiorgia-sapienza-universit-di-roma/graph-classification-graphs_sc/runs/ln3sam8z' target=\"_blank\">https://wandb.ai/barbonigiorgia-sapienza-universit-di-roma/graph-classification-graphs_sc/runs/ln3sam8z</a>"
      ],
      "text/plain": [
       "<IPython.core.display.HTML object>"
      ]
     },
     "metadata": {},
     "output_type": "display_data"
    },
    {
     "name": "stdout",
     "output_type": "stream",
     "text": [
      "Running with config: {'batch_size': 16, 'in_channels': 6, 'learning_rate': 0.01, 'num_epochs': 5, 'num_heads': 4, 'optimizer': 'sgd', 'out_channels': 12, 'random_state': 42, 'test_size': 0.3, 'weight_decay': 1e-05}\n"
     ]
    },
    {
     "data": {
      "text/html": [
       "<style>\n",
       "    table.wandb td:nth-child(1) { padding: 0 10px; text-align: left ; width: auto;} td:nth-child(2) {text-align: left ; width: 100%}\n",
       "    .wandb-row { display: flex; flex-direction: row; flex-wrap: wrap; justify-content: flex-start; width: 100% }\n",
       "    .wandb-col { display: flex; flex-direction: column; flex-basis: 100%; flex: 1; padding: 10px; }\n",
       "    </style>\n",
       "<div class=\"wandb-row\"><div class=\"wandb-col\"><h3>Run history:</h3><br/><table class=\"wandb\"><tr><td>epoch</td><td>▁▃▅▆█</td></tr><tr><td>train_accuracy</td><td>▁▁▁▁▁</td></tr><tr><td>train_f1</td><td>▁▁▁▁▁</td></tr><tr><td>train_loss</td><td>█▅▄▂▁</td></tr><tr><td>val_accuracy</td><td>▁▁███</td></tr><tr><td>val_f1</td><td>▁▁███</td></tr><tr><td>val_loss</td><td>█▆▅▃▁</td></tr></table><br/></div><div class=\"wandb-col\"><h3>Run summary:</h3><br/><table class=\"wandb\"><tr><td>epoch</td><td>5</td></tr><tr><td>train_accuracy</td><td>0.568</td></tr><tr><td>train_f1</td><td>0.41151</td></tr><tr><td>train_loss</td><td>0.65316</td></tr><tr><td>val_accuracy</td><td>0.62963</td></tr><tr><td>val_f1</td><td>0.54365</td></tr><tr><td>val_loss</td><td>0.6536</td></tr></table><br/></div></div>"
      ],
      "text/plain": [
       "<IPython.core.display.HTML object>"
      ]
     },
     "metadata": {},
     "output_type": "display_data"
    },
    {
     "data": {
      "text/html": [
       " View run <strong style=\"color:#cdcd00\">major-sweep-28</strong> at: <a href='https://wandb.ai/barbonigiorgia-sapienza-universit-di-roma/graph-classification-graphs_sc/runs/ln3sam8z' target=\"_blank\">https://wandb.ai/barbonigiorgia-sapienza-universit-di-roma/graph-classification-graphs_sc/runs/ln3sam8z</a><br/> View project at: <a href='https://wandb.ai/barbonigiorgia-sapienza-universit-di-roma/graph-classification-graphs_sc' target=\"_blank\">https://wandb.ai/barbonigiorgia-sapienza-universit-di-roma/graph-classification-graphs_sc</a><br/>Synced 5 W&B file(s), 0 media file(s), 4 artifact file(s) and 0 other file(s)"
      ],
      "text/plain": [
       "<IPython.core.display.HTML object>"
      ]
     },
     "metadata": {},
     "output_type": "display_data"
    },
    {
     "data": {
      "text/html": [
       "Find logs at: <code>.\\wandb\\run-20241115_211058-ln3sam8z\\logs</code>"
      ],
      "text/plain": [
       "<IPython.core.display.HTML object>"
      ]
     },
     "metadata": {},
     "output_type": "display_data"
    },
    {
     "name": "stderr",
     "output_type": "stream",
     "text": [
      "\u001b[34m\u001b[1mwandb\u001b[0m: Sweep Agent: Waiting for job.\n",
      "\u001b[34m\u001b[1mwandb\u001b[0m: Job received.\n",
      "\u001b[34m\u001b[1mwandb\u001b[0m: Agent Starting Run: 1pdhuwwy with config:\n",
      "\u001b[34m\u001b[1mwandb\u001b[0m: \tbatch_size: 32\n",
      "\u001b[34m\u001b[1mwandb\u001b[0m: \tin_channels: 6\n",
      "\u001b[34m\u001b[1mwandb\u001b[0m: \tlearning_rate: 0.01\n",
      "\u001b[34m\u001b[1mwandb\u001b[0m: \tnum_epochs: 5\n",
      "\u001b[34m\u001b[1mwandb\u001b[0m: \tnum_heads: 1\n",
      "\u001b[34m\u001b[1mwandb\u001b[0m: \toptimizer: adam\n",
      "\u001b[34m\u001b[1mwandb\u001b[0m: \tout_channels: 8\n",
      "\u001b[34m\u001b[1mwandb\u001b[0m: \trandom_state: 42\n",
      "\u001b[34m\u001b[1mwandb\u001b[0m: \ttest_size: 0.3\n",
      "\u001b[34m\u001b[1mwandb\u001b[0m: \tweight_decay: 0\n"
     ]
    },
    {
     "data": {
      "text/html": [
       "Tracking run with wandb version 0.18.5"
      ],
      "text/plain": [
       "<IPython.core.display.HTML object>"
      ]
     },
     "metadata": {},
     "output_type": "display_data"
    },
    {
     "data": {
      "text/html": [
       "Run data is saved locally in <code>c:\\Users\\barbo\\brain classifier repo\\brain_classifier\\src\\wandb\\run-20241115_211135-1pdhuwwy</code>"
      ],
      "text/plain": [
       "<IPython.core.display.HTML object>"
      ]
     },
     "metadata": {},
     "output_type": "display_data"
    },
    {
     "data": {
      "text/html": [
       "Syncing run <strong><a href='https://wandb.ai/barbonigiorgia-sapienza-universit-di-roma/graph-classification-graphs_sc/runs/1pdhuwwy' target=\"_blank\">daily-sweep-29</a></strong> to <a href='https://wandb.ai/barbonigiorgia-sapienza-universit-di-roma/graph-classification-graphs_sc' target=\"_blank\">Weights & Biases</a> (<a href='https://wandb.me/run' target=\"_blank\">docs</a>)<br/>Sweep page: <a href='https://wandb.ai/barbonigiorgia-sapienza-universit-di-roma/graph-classification-graphs_sc/sweeps/5tx24pap' target=\"_blank\">https://wandb.ai/barbonigiorgia-sapienza-universit-di-roma/graph-classification-graphs_sc/sweeps/5tx24pap</a>"
      ],
      "text/plain": [
       "<IPython.core.display.HTML object>"
      ]
     },
     "metadata": {},
     "output_type": "display_data"
    },
    {
     "data": {
      "text/html": [
       " View project at <a href='https://wandb.ai/barbonigiorgia-sapienza-universit-di-roma/graph-classification-graphs_sc' target=\"_blank\">https://wandb.ai/barbonigiorgia-sapienza-universit-di-roma/graph-classification-graphs_sc</a>"
      ],
      "text/plain": [
       "<IPython.core.display.HTML object>"
      ]
     },
     "metadata": {},
     "output_type": "display_data"
    },
    {
     "data": {
      "text/html": [
       " View sweep at <a href='https://wandb.ai/barbonigiorgia-sapienza-universit-di-roma/graph-classification-graphs_sc/sweeps/5tx24pap' target=\"_blank\">https://wandb.ai/barbonigiorgia-sapienza-universit-di-roma/graph-classification-graphs_sc/sweeps/5tx24pap</a>"
      ],
      "text/plain": [
       "<IPython.core.display.HTML object>"
      ]
     },
     "metadata": {},
     "output_type": "display_data"
    },
    {
     "data": {
      "text/html": [
       " View run at <a href='https://wandb.ai/barbonigiorgia-sapienza-universit-di-roma/graph-classification-graphs_sc/runs/1pdhuwwy' target=\"_blank\">https://wandb.ai/barbonigiorgia-sapienza-universit-di-roma/graph-classification-graphs_sc/runs/1pdhuwwy</a>"
      ],
      "text/plain": [
       "<IPython.core.display.HTML object>"
      ]
     },
     "metadata": {},
     "output_type": "display_data"
    },
    {
     "name": "stdout",
     "output_type": "stream",
     "text": [
      "Running with config: {'batch_size': 32, 'in_channels': 6, 'learning_rate': 0.01, 'num_epochs': 5, 'num_heads': 1, 'optimizer': 'adam', 'out_channels': 8, 'random_state': 42, 'test_size': 0.3, 'weight_decay': 0}\n"
     ]
    },
    {
     "data": {
      "text/html": [
       "<style>\n",
       "    table.wandb td:nth-child(1) { padding: 0 10px; text-align: left ; width: auto;} td:nth-child(2) {text-align: left ; width: 100%}\n",
       "    .wandb-row { display: flex; flex-direction: row; flex-wrap: wrap; justify-content: flex-start; width: 100% }\n",
       "    .wandb-col { display: flex; flex-direction: column; flex-basis: 100%; flex: 1; padding: 10px; }\n",
       "    </style>\n",
       "<div class=\"wandb-row\"><div class=\"wandb-col\"><h3>Run history:</h3><br/><table class=\"wandb\"><tr><td>epoch</td><td>▁▃▅▆█</td></tr><tr><td>train_accuracy</td><td>▁▁▁▃█</td></tr><tr><td>train_f1</td><td>▁▁▁▃█</td></tr><tr><td>train_loss</td><td>█▆▄▃▁</td></tr><tr><td>val_accuracy</td><td>▁████</td></tr><tr><td>val_f1</td><td>▁████</td></tr><tr><td>val_loss</td><td>█▇▅▃▁</td></tr></table><br/></div><div class=\"wandb-col\"><h3>Run summary:</h3><br/><table class=\"wandb\"><tr><td>epoch</td><td>5</td></tr><tr><td>train_accuracy</td><td>0.6</td></tr><tr><td>train_f1</td><td>0.47967</td></tr><tr><td>train_loss</td><td>0.64059</td></tr><tr><td>val_accuracy</td><td>0.62963</td></tr><tr><td>val_f1</td><td>0.54365</td></tr><tr><td>val_loss</td><td>0.63517</td></tr></table><br/></div></div>"
      ],
      "text/plain": [
       "<IPython.core.display.HTML object>"
      ]
     },
     "metadata": {},
     "output_type": "display_data"
    },
    {
     "data": {
      "text/html": [
       " View run <strong style=\"color:#cdcd00\">daily-sweep-29</strong> at: <a href='https://wandb.ai/barbonigiorgia-sapienza-universit-di-roma/graph-classification-graphs_sc/runs/1pdhuwwy' target=\"_blank\">https://wandb.ai/barbonigiorgia-sapienza-universit-di-roma/graph-classification-graphs_sc/runs/1pdhuwwy</a><br/> View project at: <a href='https://wandb.ai/barbonigiorgia-sapienza-universit-di-roma/graph-classification-graphs_sc' target=\"_blank\">https://wandb.ai/barbonigiorgia-sapienza-universit-di-roma/graph-classification-graphs_sc</a><br/>Synced 5 W&B file(s), 0 media file(s), 6 artifact file(s) and 0 other file(s)"
      ],
      "text/plain": [
       "<IPython.core.display.HTML object>"
      ]
     },
     "metadata": {},
     "output_type": "display_data"
    },
    {
     "data": {
      "text/html": [
       "Find logs at: <code>.\\wandb\\run-20241115_211135-1pdhuwwy\\logs</code>"
      ],
      "text/plain": [
       "<IPython.core.display.HTML object>"
      ]
     },
     "metadata": {},
     "output_type": "display_data"
    },
    {
     "name": "stderr",
     "output_type": "stream",
     "text": [
      "\u001b[34m\u001b[1mwandb\u001b[0m: Agent Starting Run: a9h9ls8g with config:\n",
      "\u001b[34m\u001b[1mwandb\u001b[0m: \tbatch_size: 16\n",
      "\u001b[34m\u001b[1mwandb\u001b[0m: \tin_channels: 6\n",
      "\u001b[34m\u001b[1mwandb\u001b[0m: \tlearning_rate: 0.0001\n",
      "\u001b[34m\u001b[1mwandb\u001b[0m: \tnum_epochs: 5\n",
      "\u001b[34m\u001b[1mwandb\u001b[0m: \tnum_heads: 1\n",
      "\u001b[34m\u001b[1mwandb\u001b[0m: \toptimizer: sgd\n",
      "\u001b[34m\u001b[1mwandb\u001b[0m: \tout_channels: 12\n",
      "\u001b[34m\u001b[1mwandb\u001b[0m: \trandom_state: 42\n",
      "\u001b[34m\u001b[1mwandb\u001b[0m: \ttest_size: 0.3\n",
      "\u001b[34m\u001b[1mwandb\u001b[0m: \tweight_decay: 0\n"
     ]
    },
    {
     "data": {
      "text/html": [
       "Tracking run with wandb version 0.18.5"
      ],
      "text/plain": [
       "<IPython.core.display.HTML object>"
      ]
     },
     "metadata": {},
     "output_type": "display_data"
    },
    {
     "data": {
      "text/html": [
       "Run data is saved locally in <code>c:\\Users\\barbo\\brain classifier repo\\brain_classifier\\src\\wandb\\run-20241115_211151-a9h9ls8g</code>"
      ],
      "text/plain": [
       "<IPython.core.display.HTML object>"
      ]
     },
     "metadata": {},
     "output_type": "display_data"
    },
    {
     "data": {
      "text/html": [
       "Syncing run <strong><a href='https://wandb.ai/barbonigiorgia-sapienza-universit-di-roma/graph-classification-graphs_sc/runs/a9h9ls8g' target=\"_blank\">visionary-sweep-30</a></strong> to <a href='https://wandb.ai/barbonigiorgia-sapienza-universit-di-roma/graph-classification-graphs_sc' target=\"_blank\">Weights & Biases</a> (<a href='https://wandb.me/run' target=\"_blank\">docs</a>)<br/>Sweep page: <a href='https://wandb.ai/barbonigiorgia-sapienza-universit-di-roma/graph-classification-graphs_sc/sweeps/5tx24pap' target=\"_blank\">https://wandb.ai/barbonigiorgia-sapienza-universit-di-roma/graph-classification-graphs_sc/sweeps/5tx24pap</a>"
      ],
      "text/plain": [
       "<IPython.core.display.HTML object>"
      ]
     },
     "metadata": {},
     "output_type": "display_data"
    },
    {
     "data": {
      "text/html": [
       " View project at <a href='https://wandb.ai/barbonigiorgia-sapienza-universit-di-roma/graph-classification-graphs_sc' target=\"_blank\">https://wandb.ai/barbonigiorgia-sapienza-universit-di-roma/graph-classification-graphs_sc</a>"
      ],
      "text/plain": [
       "<IPython.core.display.HTML object>"
      ]
     },
     "metadata": {},
     "output_type": "display_data"
    },
    {
     "data": {
      "text/html": [
       " View sweep at <a href='https://wandb.ai/barbonigiorgia-sapienza-universit-di-roma/graph-classification-graphs_sc/sweeps/5tx24pap' target=\"_blank\">https://wandb.ai/barbonigiorgia-sapienza-universit-di-roma/graph-classification-graphs_sc/sweeps/5tx24pap</a>"
      ],
      "text/plain": [
       "<IPython.core.display.HTML object>"
      ]
     },
     "metadata": {},
     "output_type": "display_data"
    },
    {
     "data": {
      "text/html": [
       " View run at <a href='https://wandb.ai/barbonigiorgia-sapienza-universit-di-roma/graph-classification-graphs_sc/runs/a9h9ls8g' target=\"_blank\">https://wandb.ai/barbonigiorgia-sapienza-universit-di-roma/graph-classification-graphs_sc/runs/a9h9ls8g</a>"
      ],
      "text/plain": [
       "<IPython.core.display.HTML object>"
      ]
     },
     "metadata": {},
     "output_type": "display_data"
    },
    {
     "name": "stdout",
     "output_type": "stream",
     "text": [
      "Running with config: {'batch_size': 16, 'in_channels': 6, 'learning_rate': 0.0001, 'num_epochs': 5, 'num_heads': 1, 'optimizer': 'sgd', 'out_channels': 12, 'random_state': 42, 'test_size': 0.3, 'weight_decay': 0}\n"
     ]
    },
    {
     "data": {
      "text/html": [
       "<style>\n",
       "    table.wandb td:nth-child(1) { padding: 0 10px; text-align: left ; width: auto;} td:nth-child(2) {text-align: left ; width: 100%}\n",
       "    .wandb-row { display: flex; flex-direction: row; flex-wrap: wrap; justify-content: flex-start; width: 100% }\n",
       "    .wandb-col { display: flex; flex-direction: column; flex-basis: 100%; flex: 1; padding: 10px; }\n",
       "    </style>\n",
       "<div class=\"wandb-row\"><div class=\"wandb-col\"><h3>Run history:</h3><br/><table class=\"wandb\"><tr><td>epoch</td><td>▁▃▅▆█</td></tr><tr><td>train_accuracy</td><td>▁▁▁▁▁</td></tr><tr><td>train_f1</td><td>▁▁▁▁▁</td></tr><tr><td>train_loss</td><td>▆▄█▂▁</td></tr><tr><td>val_accuracy</td><td>▁▁▁▁▁</td></tr><tr><td>val_f1</td><td>▁▁▁▁▁</td></tr><tr><td>val_loss</td><td>█▇▅▃▁</td></tr></table><br/></div><div class=\"wandb-col\"><h3>Run summary:</h3><br/><table class=\"wandb\"><tr><td>epoch</td><td>5</td></tr><tr><td>train_accuracy</td><td>0.432</td></tr><tr><td>train_f1</td><td>0.26065</td></tr><tr><td>train_loss</td><td>0.72835</td></tr><tr><td>val_accuracy</td><td>0.44444</td></tr><tr><td>val_f1</td><td>0.2735</td></tr><tr><td>val_loss</td><td>0.73225</td></tr></table><br/></div></div>"
      ],
      "text/plain": [
       "<IPython.core.display.HTML object>"
      ]
     },
     "metadata": {},
     "output_type": "display_data"
    },
    {
     "data": {
      "text/html": [
       " View run <strong style=\"color:#cdcd00\">visionary-sweep-30</strong> at: <a href='https://wandb.ai/barbonigiorgia-sapienza-universit-di-roma/graph-classification-graphs_sc/runs/a9h9ls8g' target=\"_blank\">https://wandb.ai/barbonigiorgia-sapienza-universit-di-roma/graph-classification-graphs_sc/runs/a9h9ls8g</a><br/> View project at: <a href='https://wandb.ai/barbonigiorgia-sapienza-universit-di-roma/graph-classification-graphs_sc' target=\"_blank\">https://wandb.ai/barbonigiorgia-sapienza-universit-di-roma/graph-classification-graphs_sc</a><br/>Synced 5 W&B file(s), 0 media file(s), 2 artifact file(s) and 0 other file(s)"
      ],
      "text/plain": [
       "<IPython.core.display.HTML object>"
      ]
     },
     "metadata": {},
     "output_type": "display_data"
    },
    {
     "data": {
      "text/html": [
       "Find logs at: <code>.\\wandb\\run-20241115_211151-a9h9ls8g\\logs</code>"
      ],
      "text/plain": [
       "<IPython.core.display.HTML object>"
      ]
     },
     "metadata": {},
     "output_type": "display_data"
    },
    {
     "name": "stderr",
     "output_type": "stream",
     "text": [
      "\u001b[34m\u001b[1mwandb\u001b[0m: Agent Starting Run: syncxp68 with config:\n",
      "\u001b[34m\u001b[1mwandb\u001b[0m: \tbatch_size: 32\n",
      "\u001b[34m\u001b[1mwandb\u001b[0m: \tin_channels: 6\n",
      "\u001b[34m\u001b[1mwandb\u001b[0m: \tlearning_rate: 0.1\n",
      "\u001b[34m\u001b[1mwandb\u001b[0m: \tnum_epochs: 5\n",
      "\u001b[34m\u001b[1mwandb\u001b[0m: \tnum_heads: 4\n",
      "\u001b[34m\u001b[1mwandb\u001b[0m: \toptimizer: sgd\n",
      "\u001b[34m\u001b[1mwandb\u001b[0m: \tout_channels: 8\n",
      "\u001b[34m\u001b[1mwandb\u001b[0m: \trandom_state: 42\n",
      "\u001b[34m\u001b[1mwandb\u001b[0m: \ttest_size: 0.3\n",
      "\u001b[34m\u001b[1mwandb\u001b[0m: \tweight_decay: 1e-05\n"
     ]
    },
    {
     "data": {
      "text/html": [
       "Tracking run with wandb version 0.18.5"
      ],
      "text/plain": [
       "<IPython.core.display.HTML object>"
      ]
     },
     "metadata": {},
     "output_type": "display_data"
    },
    {
     "data": {
      "text/html": [
       "Run data is saved locally in <code>c:\\Users\\barbo\\brain classifier repo\\brain_classifier\\src\\wandb\\run-20241115_211207-syncxp68</code>"
      ],
      "text/plain": [
       "<IPython.core.display.HTML object>"
      ]
     },
     "metadata": {},
     "output_type": "display_data"
    },
    {
     "data": {
      "text/html": [
       "Syncing run <strong><a href='https://wandb.ai/barbonigiorgia-sapienza-universit-di-roma/graph-classification-graphs_sc/runs/syncxp68' target=\"_blank\">vivid-sweep-31</a></strong> to <a href='https://wandb.ai/barbonigiorgia-sapienza-universit-di-roma/graph-classification-graphs_sc' target=\"_blank\">Weights & Biases</a> (<a href='https://wandb.me/run' target=\"_blank\">docs</a>)<br/>Sweep page: <a href='https://wandb.ai/barbonigiorgia-sapienza-universit-di-roma/graph-classification-graphs_sc/sweeps/5tx24pap' target=\"_blank\">https://wandb.ai/barbonigiorgia-sapienza-universit-di-roma/graph-classification-graphs_sc/sweeps/5tx24pap</a>"
      ],
      "text/plain": [
       "<IPython.core.display.HTML object>"
      ]
     },
     "metadata": {},
     "output_type": "display_data"
    },
    {
     "data": {
      "text/html": [
       " View project at <a href='https://wandb.ai/barbonigiorgia-sapienza-universit-di-roma/graph-classification-graphs_sc' target=\"_blank\">https://wandb.ai/barbonigiorgia-sapienza-universit-di-roma/graph-classification-graphs_sc</a>"
      ],
      "text/plain": [
       "<IPython.core.display.HTML object>"
      ]
     },
     "metadata": {},
     "output_type": "display_data"
    },
    {
     "data": {
      "text/html": [
       " View sweep at <a href='https://wandb.ai/barbonigiorgia-sapienza-universit-di-roma/graph-classification-graphs_sc/sweeps/5tx24pap' target=\"_blank\">https://wandb.ai/barbonigiorgia-sapienza-universit-di-roma/graph-classification-graphs_sc/sweeps/5tx24pap</a>"
      ],
      "text/plain": [
       "<IPython.core.display.HTML object>"
      ]
     },
     "metadata": {},
     "output_type": "display_data"
    },
    {
     "data": {
      "text/html": [
       " View run at <a href='https://wandb.ai/barbonigiorgia-sapienza-universit-di-roma/graph-classification-graphs_sc/runs/syncxp68' target=\"_blank\">https://wandb.ai/barbonigiorgia-sapienza-universit-di-roma/graph-classification-graphs_sc/runs/syncxp68</a>"
      ],
      "text/plain": [
       "<IPython.core.display.HTML object>"
      ]
     },
     "metadata": {},
     "output_type": "display_data"
    },
    {
     "name": "stdout",
     "output_type": "stream",
     "text": [
      "Running with config: {'batch_size': 32, 'in_channels': 6, 'learning_rate': 0.1, 'num_epochs': 5, 'num_heads': 4, 'optimizer': 'sgd', 'out_channels': 8, 'random_state': 42, 'test_size': 0.3, 'weight_decay': 1e-05}\n"
     ]
    },
    {
     "data": {
      "text/html": [
       "<style>\n",
       "    table.wandb td:nth-child(1) { padding: 0 10px; text-align: left ; width: auto;} td:nth-child(2) {text-align: left ; width: 100%}\n",
       "    .wandb-row { display: flex; flex-direction: row; flex-wrap: wrap; justify-content: flex-start; width: 100% }\n",
       "    .wandb-col { display: flex; flex-direction: column; flex-basis: 100%; flex: 1; padding: 10px; }\n",
       "    </style>\n",
       "<div class=\"wandb-row\"><div class=\"wandb-col\"><h3>Run history:</h3><br/><table class=\"wandb\"><tr><td>epoch</td><td>▁▃▅▆█</td></tr><tr><td>train_accuracy</td><td>▁▄▄▄█</td></tr><tr><td>train_f1</td><td>▁▂▂▃█</td></tr><tr><td>train_loss</td><td>█▅▅▃▁</td></tr><tr><td>val_accuracy</td><td>▃▁▁▄█</td></tr><tr><td>val_f1</td><td>▃▁▁▄█</td></tr><tr><td>val_loss</td><td>█▇▅▃▁</td></tr></table><br/></div><div class=\"wandb-col\"><h3>Run summary:</h3><br/><table class=\"wandb\"><tr><td>epoch</td><td>5</td></tr><tr><td>train_accuracy</td><td>0.688</td></tr><tr><td>train_f1</td><td>0.65315</td></tr><tr><td>train_loss</td><td>0.62859</td></tr><tr><td>val_accuracy</td><td>0.7037</td></tr><tr><td>val_f1</td><td>0.6915</td></tr><tr><td>val_loss</td><td>0.62859</td></tr></table><br/></div></div>"
      ],
      "text/plain": [
       "<IPython.core.display.HTML object>"
      ]
     },
     "metadata": {},
     "output_type": "display_data"
    },
    {
     "data": {
      "text/html": [
       " View run <strong style=\"color:#cdcd00\">vivid-sweep-31</strong> at: <a href='https://wandb.ai/barbonigiorgia-sapienza-universit-di-roma/graph-classification-graphs_sc/runs/syncxp68' target=\"_blank\">https://wandb.ai/barbonigiorgia-sapienza-universit-di-roma/graph-classification-graphs_sc/runs/syncxp68</a><br/> View project at: <a href='https://wandb.ai/barbonigiorgia-sapienza-universit-di-roma/graph-classification-graphs_sc' target=\"_blank\">https://wandb.ai/barbonigiorgia-sapienza-universit-di-roma/graph-classification-graphs_sc</a><br/>Synced 5 W&B file(s), 0 media file(s), 6 artifact file(s) and 0 other file(s)"
      ],
      "text/plain": [
       "<IPython.core.display.HTML object>"
      ]
     },
     "metadata": {},
     "output_type": "display_data"
    },
    {
     "data": {
      "text/html": [
       "Find logs at: <code>.\\wandb\\run-20241115_211207-syncxp68\\logs</code>"
      ],
      "text/plain": [
       "<IPython.core.display.HTML object>"
      ]
     },
     "metadata": {},
     "output_type": "display_data"
    },
    {
     "name": "stderr",
     "output_type": "stream",
     "text": [
      "\u001b[34m\u001b[1mwandb\u001b[0m: Agent Starting Run: 95jglm1h with config:\n",
      "\u001b[34m\u001b[1mwandb\u001b[0m: \tbatch_size: 32\n",
      "\u001b[34m\u001b[1mwandb\u001b[0m: \tin_channels: 6\n",
      "\u001b[34m\u001b[1mwandb\u001b[0m: \tlearning_rate: 0.001\n",
      "\u001b[34m\u001b[1mwandb\u001b[0m: \tnum_epochs: 5\n",
      "\u001b[34m\u001b[1mwandb\u001b[0m: \tnum_heads: 3\n",
      "\u001b[34m\u001b[1mwandb\u001b[0m: \toptimizer: sgd\n",
      "\u001b[34m\u001b[1mwandb\u001b[0m: \tout_channels: 4\n",
      "\u001b[34m\u001b[1mwandb\u001b[0m: \trandom_state: 42\n",
      "\u001b[34m\u001b[1mwandb\u001b[0m: \ttest_size: 0.3\n",
      "\u001b[34m\u001b[1mwandb\u001b[0m: \tweight_decay: 0\n"
     ]
    },
    {
     "data": {
      "text/html": [
       "Tracking run with wandb version 0.18.5"
      ],
      "text/plain": [
       "<IPython.core.display.HTML object>"
      ]
     },
     "metadata": {},
     "output_type": "display_data"
    },
    {
     "data": {
      "text/html": [
       "Run data is saved locally in <code>c:\\Users\\barbo\\brain classifier repo\\brain_classifier\\src\\wandb\\run-20241115_211229-95jglm1h</code>"
      ],
      "text/plain": [
       "<IPython.core.display.HTML object>"
      ]
     },
     "metadata": {},
     "output_type": "display_data"
    },
    {
     "data": {
      "text/html": [
       "Syncing run <strong><a href='https://wandb.ai/barbonigiorgia-sapienza-universit-di-roma/graph-classification-graphs_sc/runs/95jglm1h' target=\"_blank\">lively-sweep-32</a></strong> to <a href='https://wandb.ai/barbonigiorgia-sapienza-universit-di-roma/graph-classification-graphs_sc' target=\"_blank\">Weights & Biases</a> (<a href='https://wandb.me/run' target=\"_blank\">docs</a>)<br/>Sweep page: <a href='https://wandb.ai/barbonigiorgia-sapienza-universit-di-roma/graph-classification-graphs_sc/sweeps/5tx24pap' target=\"_blank\">https://wandb.ai/barbonigiorgia-sapienza-universit-di-roma/graph-classification-graphs_sc/sweeps/5tx24pap</a>"
      ],
      "text/plain": [
       "<IPython.core.display.HTML object>"
      ]
     },
     "metadata": {},
     "output_type": "display_data"
    },
    {
     "data": {
      "text/html": [
       " View project at <a href='https://wandb.ai/barbonigiorgia-sapienza-universit-di-roma/graph-classification-graphs_sc' target=\"_blank\">https://wandb.ai/barbonigiorgia-sapienza-universit-di-roma/graph-classification-graphs_sc</a>"
      ],
      "text/plain": [
       "<IPython.core.display.HTML object>"
      ]
     },
     "metadata": {},
     "output_type": "display_data"
    },
    {
     "data": {
      "text/html": [
       " View sweep at <a href='https://wandb.ai/barbonigiorgia-sapienza-universit-di-roma/graph-classification-graphs_sc/sweeps/5tx24pap' target=\"_blank\">https://wandb.ai/barbonigiorgia-sapienza-universit-di-roma/graph-classification-graphs_sc/sweeps/5tx24pap</a>"
      ],
      "text/plain": [
       "<IPython.core.display.HTML object>"
      ]
     },
     "metadata": {},
     "output_type": "display_data"
    },
    {
     "data": {
      "text/html": [
       " View run at <a href='https://wandb.ai/barbonigiorgia-sapienza-universit-di-roma/graph-classification-graphs_sc/runs/95jglm1h' target=\"_blank\">https://wandb.ai/barbonigiorgia-sapienza-universit-di-roma/graph-classification-graphs_sc/runs/95jglm1h</a>"
      ],
      "text/plain": [
       "<IPython.core.display.HTML object>"
      ]
     },
     "metadata": {},
     "output_type": "display_data"
    },
    {
     "name": "stdout",
     "output_type": "stream",
     "text": [
      "Running with config: {'batch_size': 32, 'in_channels': 6, 'learning_rate': 0.001, 'num_epochs': 5, 'num_heads': 3, 'optimizer': 'sgd', 'out_channels': 4, 'random_state': 42, 'test_size': 0.3, 'weight_decay': 0}\n"
     ]
    },
    {
     "data": {
      "text/html": [
       "<style>\n",
       "    table.wandb td:nth-child(1) { padding: 0 10px; text-align: left ; width: auto;} td:nth-child(2) {text-align: left ; width: 100%}\n",
       "    .wandb-row { display: flex; flex-direction: row; flex-wrap: wrap; justify-content: flex-start; width: 100% }\n",
       "    .wandb-col { display: flex; flex-direction: column; flex-basis: 100%; flex: 1; padding: 10px; }\n",
       "    </style>\n",
       "<div class=\"wandb-row\"><div class=\"wandb-col\"><h3>Run history:</h3><br/><table class=\"wandb\"><tr><td>epoch</td><td>▁▃▅▆█</td></tr><tr><td>train_accuracy</td><td>▁▁▁▁▁</td></tr><tr><td>train_f1</td><td>▁▁▁▁▁</td></tr><tr><td>train_loss</td><td>█▇▅▃▁</td></tr><tr><td>val_accuracy</td><td>▁▁▁▁▁</td></tr><tr><td>val_f1</td><td>▁▁▁▁▁</td></tr><tr><td>val_loss</td><td>█▇▅▃▁</td></tr></table><br/></div><div class=\"wandb-col\"><h3>Run summary:</h3><br/><table class=\"wandb\"><tr><td>epoch</td><td>5</td></tr><tr><td>train_accuracy</td><td>0.432</td></tr><tr><td>train_f1</td><td>0.26065</td></tr><tr><td>train_loss</td><td>0.75564</td></tr><tr><td>val_accuracy</td><td>0.44444</td></tr><tr><td>val_f1</td><td>0.2735</td></tr><tr><td>val_loss</td><td>0.70507</td></tr></table><br/></div></div>"
      ],
      "text/plain": [
       "<IPython.core.display.HTML object>"
      ]
     },
     "metadata": {},
     "output_type": "display_data"
    },
    {
     "data": {
      "text/html": [
       " View run <strong style=\"color:#cdcd00\">lively-sweep-32</strong> at: <a href='https://wandb.ai/barbonigiorgia-sapienza-universit-di-roma/graph-classification-graphs_sc/runs/95jglm1h' target=\"_blank\">https://wandb.ai/barbonigiorgia-sapienza-universit-di-roma/graph-classification-graphs_sc/runs/95jglm1h</a><br/> View project at: <a href='https://wandb.ai/barbonigiorgia-sapienza-universit-di-roma/graph-classification-graphs_sc' target=\"_blank\">https://wandb.ai/barbonigiorgia-sapienza-universit-di-roma/graph-classification-graphs_sc</a><br/>Synced 5 W&B file(s), 0 media file(s), 4 artifact file(s) and 0 other file(s)"
      ],
      "text/plain": [
       "<IPython.core.display.HTML object>"
      ]
     },
     "metadata": {},
     "output_type": "display_data"
    },
    {
     "data": {
      "text/html": [
       "Find logs at: <code>.\\wandb\\run-20241115_211229-95jglm1h\\logs</code>"
      ],
      "text/plain": [
       "<IPython.core.display.HTML object>"
      ]
     },
     "metadata": {},
     "output_type": "display_data"
    },
    {
     "name": "stderr",
     "output_type": "stream",
     "text": [
      "\u001b[34m\u001b[1mwandb\u001b[0m: Agent Starting Run: am56lkve with config:\n",
      "\u001b[34m\u001b[1mwandb\u001b[0m: \tbatch_size: 16\n",
      "\u001b[34m\u001b[1mwandb\u001b[0m: \tin_channels: 6\n",
      "\u001b[34m\u001b[1mwandb\u001b[0m: \tlearning_rate: 0.01\n",
      "\u001b[34m\u001b[1mwandb\u001b[0m: \tnum_epochs: 5\n",
      "\u001b[34m\u001b[1mwandb\u001b[0m: \tnum_heads: 3\n",
      "\u001b[34m\u001b[1mwandb\u001b[0m: \toptimizer: adam\n",
      "\u001b[34m\u001b[1mwandb\u001b[0m: \tout_channels: 16\n",
      "\u001b[34m\u001b[1mwandb\u001b[0m: \trandom_state: 42\n",
      "\u001b[34m\u001b[1mwandb\u001b[0m: \ttest_size: 0.3\n",
      "\u001b[34m\u001b[1mwandb\u001b[0m: \tweight_decay: 0.0001\n"
     ]
    },
    {
     "data": {
      "text/html": [
       "Tracking run with wandb version 0.18.5"
      ],
      "text/plain": [
       "<IPython.core.display.HTML object>"
      ]
     },
     "metadata": {},
     "output_type": "display_data"
    },
    {
     "data": {
      "text/html": [
       "Run data is saved locally in <code>c:\\Users\\barbo\\brain classifier repo\\brain_classifier\\src\\wandb\\run-20241115_211250-am56lkve</code>"
      ],
      "text/plain": [
       "<IPython.core.display.HTML object>"
      ]
     },
     "metadata": {},
     "output_type": "display_data"
    },
    {
     "data": {
      "text/html": [
       "Syncing run <strong><a href='https://wandb.ai/barbonigiorgia-sapienza-universit-di-roma/graph-classification-graphs_sc/runs/am56lkve' target=\"_blank\">rosy-sweep-33</a></strong> to <a href='https://wandb.ai/barbonigiorgia-sapienza-universit-di-roma/graph-classification-graphs_sc' target=\"_blank\">Weights & Biases</a> (<a href='https://wandb.me/run' target=\"_blank\">docs</a>)<br/>Sweep page: <a href='https://wandb.ai/barbonigiorgia-sapienza-universit-di-roma/graph-classification-graphs_sc/sweeps/5tx24pap' target=\"_blank\">https://wandb.ai/barbonigiorgia-sapienza-universit-di-roma/graph-classification-graphs_sc/sweeps/5tx24pap</a>"
      ],
      "text/plain": [
       "<IPython.core.display.HTML object>"
      ]
     },
     "metadata": {},
     "output_type": "display_data"
    },
    {
     "data": {
      "text/html": [
       " View project at <a href='https://wandb.ai/barbonigiorgia-sapienza-universit-di-roma/graph-classification-graphs_sc' target=\"_blank\">https://wandb.ai/barbonigiorgia-sapienza-universit-di-roma/graph-classification-graphs_sc</a>"
      ],
      "text/plain": [
       "<IPython.core.display.HTML object>"
      ]
     },
     "metadata": {},
     "output_type": "display_data"
    },
    {
     "data": {
      "text/html": [
       " View sweep at <a href='https://wandb.ai/barbonigiorgia-sapienza-universit-di-roma/graph-classification-graphs_sc/sweeps/5tx24pap' target=\"_blank\">https://wandb.ai/barbonigiorgia-sapienza-universit-di-roma/graph-classification-graphs_sc/sweeps/5tx24pap</a>"
      ],
      "text/plain": [
       "<IPython.core.display.HTML object>"
      ]
     },
     "metadata": {},
     "output_type": "display_data"
    },
    {
     "data": {
      "text/html": [
       " View run at <a href='https://wandb.ai/barbonigiorgia-sapienza-universit-di-roma/graph-classification-graphs_sc/runs/am56lkve' target=\"_blank\">https://wandb.ai/barbonigiorgia-sapienza-universit-di-roma/graph-classification-graphs_sc/runs/am56lkve</a>"
      ],
      "text/plain": [
       "<IPython.core.display.HTML object>"
      ]
     },
     "metadata": {},
     "output_type": "display_data"
    },
    {
     "name": "stdout",
     "output_type": "stream",
     "text": [
      "Running with config: {'batch_size': 16, 'in_channels': 6, 'learning_rate': 0.01, 'num_epochs': 5, 'num_heads': 3, 'optimizer': 'adam', 'out_channels': 16, 'random_state': 42, 'test_size': 0.3, 'weight_decay': 0.0001}\n"
     ]
    },
    {
     "data": {
      "text/html": [
       "<style>\n",
       "    table.wandb td:nth-child(1) { padding: 0 10px; text-align: left ; width: auto;} td:nth-child(2) {text-align: left ; width: 100%}\n",
       "    .wandb-row { display: flex; flex-direction: row; flex-wrap: wrap; justify-content: flex-start; width: 100% }\n",
       "    .wandb-col { display: flex; flex-direction: column; flex-basis: 100%; flex: 1; padding: 10px; }\n",
       "    </style>\n",
       "<div class=\"wandb-row\"><div class=\"wandb-col\"><h3>Run history:</h3><br/><table class=\"wandb\"><tr><td>epoch</td><td>▁▃▅▆█</td></tr><tr><td>train_accuracy</td><td>▁▃▇██</td></tr><tr><td>train_f1</td><td>▂▁▇██</td></tr><tr><td>train_loss</td><td>█▆▄▃▁</td></tr><tr><td>val_accuracy</td><td>▁▄███</td></tr><tr><td>val_f1</td><td>▁▄███</td></tr><tr><td>val_loss</td><td>█▆▅▃▁</td></tr></table><br/></div><div class=\"wandb-col\"><h3>Run summary:</h3><br/><table class=\"wandb\"><tr><td>epoch</td><td>5</td></tr><tr><td>train_accuracy</td><td>0.744</td></tr><tr><td>train_f1</td><td>0.73936</td></tr><tr><td>train_loss</td><td>0.54511</td></tr><tr><td>val_accuracy</td><td>0.77778</td></tr><tr><td>val_f1</td><td>0.77778</td></tr><tr><td>val_loss</td><td>0.52784</td></tr></table><br/></div></div>"
      ],
      "text/plain": [
       "<IPython.core.display.HTML object>"
      ]
     },
     "metadata": {},
     "output_type": "display_data"
    },
    {
     "data": {
      "text/html": [
       " View run <strong style=\"color:#cdcd00\">rosy-sweep-33</strong> at: <a href='https://wandb.ai/barbonigiorgia-sapienza-universit-di-roma/graph-classification-graphs_sc/runs/am56lkve' target=\"_blank\">https://wandb.ai/barbonigiorgia-sapienza-universit-di-roma/graph-classification-graphs_sc/runs/am56lkve</a><br/> View project at: <a href='https://wandb.ai/barbonigiorgia-sapienza-universit-di-roma/graph-classification-graphs_sc' target=\"_blank\">https://wandb.ai/barbonigiorgia-sapienza-universit-di-roma/graph-classification-graphs_sc</a><br/>Synced 5 W&B file(s), 0 media file(s), 8 artifact file(s) and 0 other file(s)"
      ],
      "text/plain": [
       "<IPython.core.display.HTML object>"
      ]
     },
     "metadata": {},
     "output_type": "display_data"
    },
    {
     "data": {
      "text/html": [
       "Find logs at: <code>.\\wandb\\run-20241115_211250-am56lkve\\logs</code>"
      ],
      "text/plain": [
       "<IPython.core.display.HTML object>"
      ]
     },
     "metadata": {},
     "output_type": "display_data"
    },
    {
     "name": "stderr",
     "output_type": "stream",
     "text": [
      "\u001b[34m\u001b[1mwandb\u001b[0m: Sweep Agent: Waiting for job.\n",
      "\u001b[34m\u001b[1mwandb\u001b[0m: Job received.\n",
      "\u001b[34m\u001b[1mwandb\u001b[0m: Agent Starting Run: w2ro9woy with config:\n",
      "\u001b[34m\u001b[1mwandb\u001b[0m: \tbatch_size: 32\n",
      "\u001b[34m\u001b[1mwandb\u001b[0m: \tin_channels: 6\n",
      "\u001b[34m\u001b[1mwandb\u001b[0m: \tlearning_rate: 0.0001\n",
      "\u001b[34m\u001b[1mwandb\u001b[0m: \tnum_epochs: 5\n",
      "\u001b[34m\u001b[1mwandb\u001b[0m: \tnum_heads: 3\n",
      "\u001b[34m\u001b[1mwandb\u001b[0m: \toptimizer: adam\n",
      "\u001b[34m\u001b[1mwandb\u001b[0m: \tout_channels: 12\n",
      "\u001b[34m\u001b[1mwandb\u001b[0m: \trandom_state: 42\n",
      "\u001b[34m\u001b[1mwandb\u001b[0m: \ttest_size: 0.3\n",
      "\u001b[34m\u001b[1mwandb\u001b[0m: \tweight_decay: 0\n"
     ]
    },
    {
     "data": {
      "text/html": [
       "Tracking run with wandb version 0.18.5"
      ],
      "text/plain": [
       "<IPython.core.display.HTML object>"
      ]
     },
     "metadata": {},
     "output_type": "display_data"
    },
    {
     "data": {
      "text/html": [
       "Run data is saved locally in <code>c:\\Users\\barbo\\brain classifier repo\\brain_classifier\\src\\wandb\\run-20241115_211326-w2ro9woy</code>"
      ],
      "text/plain": [
       "<IPython.core.display.HTML object>"
      ]
     },
     "metadata": {},
     "output_type": "display_data"
    },
    {
     "data": {
      "text/html": [
       "Syncing run <strong><a href='https://wandb.ai/barbonigiorgia-sapienza-universit-di-roma/graph-classification-graphs_sc/runs/w2ro9woy' target=\"_blank\">fallen-sweep-34</a></strong> to <a href='https://wandb.ai/barbonigiorgia-sapienza-universit-di-roma/graph-classification-graphs_sc' target=\"_blank\">Weights & Biases</a> (<a href='https://wandb.me/run' target=\"_blank\">docs</a>)<br/>Sweep page: <a href='https://wandb.ai/barbonigiorgia-sapienza-universit-di-roma/graph-classification-graphs_sc/sweeps/5tx24pap' target=\"_blank\">https://wandb.ai/barbonigiorgia-sapienza-universit-di-roma/graph-classification-graphs_sc/sweeps/5tx24pap</a>"
      ],
      "text/plain": [
       "<IPython.core.display.HTML object>"
      ]
     },
     "metadata": {},
     "output_type": "display_data"
    },
    {
     "data": {
      "text/html": [
       " View project at <a href='https://wandb.ai/barbonigiorgia-sapienza-universit-di-roma/graph-classification-graphs_sc' target=\"_blank\">https://wandb.ai/barbonigiorgia-sapienza-universit-di-roma/graph-classification-graphs_sc</a>"
      ],
      "text/plain": [
       "<IPython.core.display.HTML object>"
      ]
     },
     "metadata": {},
     "output_type": "display_data"
    },
    {
     "data": {
      "text/html": [
       " View sweep at <a href='https://wandb.ai/barbonigiorgia-sapienza-universit-di-roma/graph-classification-graphs_sc/sweeps/5tx24pap' target=\"_blank\">https://wandb.ai/barbonigiorgia-sapienza-universit-di-roma/graph-classification-graphs_sc/sweeps/5tx24pap</a>"
      ],
      "text/plain": [
       "<IPython.core.display.HTML object>"
      ]
     },
     "metadata": {},
     "output_type": "display_data"
    },
    {
     "data": {
      "text/html": [
       " View run at <a href='https://wandb.ai/barbonigiorgia-sapienza-universit-di-roma/graph-classification-graphs_sc/runs/w2ro9woy' target=\"_blank\">https://wandb.ai/barbonigiorgia-sapienza-universit-di-roma/graph-classification-graphs_sc/runs/w2ro9woy</a>"
      ],
      "text/plain": [
       "<IPython.core.display.HTML object>"
      ]
     },
     "metadata": {},
     "output_type": "display_data"
    },
    {
     "name": "stdout",
     "output_type": "stream",
     "text": [
      "Running with config: {'batch_size': 32, 'in_channels': 6, 'learning_rate': 0.0001, 'num_epochs': 5, 'num_heads': 3, 'optimizer': 'adam', 'out_channels': 12, 'random_state': 42, 'test_size': 0.3, 'weight_decay': 0}\n"
     ]
    },
    {
     "data": {
      "text/html": [
       "<style>\n",
       "    table.wandb td:nth-child(1) { padding: 0 10px; text-align: left ; width: auto;} td:nth-child(2) {text-align: left ; width: 100%}\n",
       "    .wandb-row { display: flex; flex-direction: row; flex-wrap: wrap; justify-content: flex-start; width: 100% }\n",
       "    .wandb-col { display: flex; flex-direction: column; flex-basis: 100%; flex: 1; padding: 10px; }\n",
       "    </style>\n",
       "<div class=\"wandb-row\"><div class=\"wandb-col\"><h3>Run history:</h3><br/><table class=\"wandb\"><tr><td>epoch</td><td>▁▃▅▆█</td></tr><tr><td>train_accuracy</td><td>▁▄█▄▄</td></tr><tr><td>train_f1</td><td>▇██▅▁</td></tr><tr><td>train_loss</td><td>█▆▄▃▁</td></tr><tr><td>val_accuracy</td><td>███▁▁</td></tr><tr><td>val_f1</td><td>███▁▁</td></tr><tr><td>val_loss</td><td>█▆▅▃▁</td></tr></table><br/></div><div class=\"wandb-col\"><h3>Run summary:</h3><br/><table class=\"wandb\"><tr><td>epoch</td><td>5</td></tr><tr><td>train_accuracy</td><td>0.48</td></tr><tr><td>train_f1</td><td>0.42191</td></tr><tr><td>train_loss</td><td>0.69488</td></tr><tr><td>val_accuracy</td><td>0.33333</td></tr><tr><td>val_f1</td><td>0.27778</td></tr><tr><td>val_loss</td><td>0.70242</td></tr></table><br/></div></div>"
      ],
      "text/plain": [
       "<IPython.core.display.HTML object>"
      ]
     },
     "metadata": {},
     "output_type": "display_data"
    },
    {
     "data": {
      "text/html": [
       " View run <strong style=\"color:#cdcd00\">fallen-sweep-34</strong> at: <a href='https://wandb.ai/barbonigiorgia-sapienza-universit-di-roma/graph-classification-graphs_sc/runs/w2ro9woy' target=\"_blank\">https://wandb.ai/barbonigiorgia-sapienza-universit-di-roma/graph-classification-graphs_sc/runs/w2ro9woy</a><br/> View project at: <a href='https://wandb.ai/barbonigiorgia-sapienza-universit-di-roma/graph-classification-graphs_sc' target=\"_blank\">https://wandb.ai/barbonigiorgia-sapienza-universit-di-roma/graph-classification-graphs_sc</a><br/>Synced 5 W&B file(s), 0 media file(s), 4 artifact file(s) and 0 other file(s)"
      ],
      "text/plain": [
       "<IPython.core.display.HTML object>"
      ]
     },
     "metadata": {},
     "output_type": "display_data"
    },
    {
     "data": {
      "text/html": [
       "Find logs at: <code>.\\wandb\\run-20241115_211326-w2ro9woy\\logs</code>"
      ],
      "text/plain": [
       "<IPython.core.display.HTML object>"
      ]
     },
     "metadata": {},
     "output_type": "display_data"
    },
    {
     "name": "stderr",
     "output_type": "stream",
     "text": [
      "\u001b[34m\u001b[1mwandb\u001b[0m: Agent Starting Run: ebbj8qap with config:\n",
      "\u001b[34m\u001b[1mwandb\u001b[0m: \tbatch_size: 8\n",
      "\u001b[34m\u001b[1mwandb\u001b[0m: \tin_channels: 6\n",
      "\u001b[34m\u001b[1mwandb\u001b[0m: \tlearning_rate: 0.001\n",
      "\u001b[34m\u001b[1mwandb\u001b[0m: \tnum_epochs: 5\n",
      "\u001b[34m\u001b[1mwandb\u001b[0m: \tnum_heads: 4\n",
      "\u001b[34m\u001b[1mwandb\u001b[0m: \toptimizer: sgd\n",
      "\u001b[34m\u001b[1mwandb\u001b[0m: \tout_channels: 12\n",
      "\u001b[34m\u001b[1mwandb\u001b[0m: \trandom_state: 42\n",
      "\u001b[34m\u001b[1mwandb\u001b[0m: \ttest_size: 0.3\n",
      "\u001b[34m\u001b[1mwandb\u001b[0m: \tweight_decay: 0.0001\n"
     ]
    },
    {
     "data": {
      "text/html": [
       "Tracking run with wandb version 0.18.5"
      ],
      "text/plain": [
       "<IPython.core.display.HTML object>"
      ]
     },
     "metadata": {},
     "output_type": "display_data"
    },
    {
     "data": {
      "text/html": [
       "Run data is saved locally in <code>c:\\Users\\barbo\\brain classifier repo\\brain_classifier\\src\\wandb\\run-20241115_211347-ebbj8qap</code>"
      ],
      "text/plain": [
       "<IPython.core.display.HTML object>"
      ]
     },
     "metadata": {},
     "output_type": "display_data"
    },
    {
     "data": {
      "text/html": [
       "Syncing run <strong><a href='https://wandb.ai/barbonigiorgia-sapienza-universit-di-roma/graph-classification-graphs_sc/runs/ebbj8qap' target=\"_blank\">apricot-sweep-35</a></strong> to <a href='https://wandb.ai/barbonigiorgia-sapienza-universit-di-roma/graph-classification-graphs_sc' target=\"_blank\">Weights & Biases</a> (<a href='https://wandb.me/run' target=\"_blank\">docs</a>)<br/>Sweep page: <a href='https://wandb.ai/barbonigiorgia-sapienza-universit-di-roma/graph-classification-graphs_sc/sweeps/5tx24pap' target=\"_blank\">https://wandb.ai/barbonigiorgia-sapienza-universit-di-roma/graph-classification-graphs_sc/sweeps/5tx24pap</a>"
      ],
      "text/plain": [
       "<IPython.core.display.HTML object>"
      ]
     },
     "metadata": {},
     "output_type": "display_data"
    },
    {
     "data": {
      "text/html": [
       " View project at <a href='https://wandb.ai/barbonigiorgia-sapienza-universit-di-roma/graph-classification-graphs_sc' target=\"_blank\">https://wandb.ai/barbonigiorgia-sapienza-universit-di-roma/graph-classification-graphs_sc</a>"
      ],
      "text/plain": [
       "<IPython.core.display.HTML object>"
      ]
     },
     "metadata": {},
     "output_type": "display_data"
    },
    {
     "data": {
      "text/html": [
       " View sweep at <a href='https://wandb.ai/barbonigiorgia-sapienza-universit-di-roma/graph-classification-graphs_sc/sweeps/5tx24pap' target=\"_blank\">https://wandb.ai/barbonigiorgia-sapienza-universit-di-roma/graph-classification-graphs_sc/sweeps/5tx24pap</a>"
      ],
      "text/plain": [
       "<IPython.core.display.HTML object>"
      ]
     },
     "metadata": {},
     "output_type": "display_data"
    },
    {
     "data": {
      "text/html": [
       " View run at <a href='https://wandb.ai/barbonigiorgia-sapienza-universit-di-roma/graph-classification-graphs_sc/runs/ebbj8qap' target=\"_blank\">https://wandb.ai/barbonigiorgia-sapienza-universit-di-roma/graph-classification-graphs_sc/runs/ebbj8qap</a>"
      ],
      "text/plain": [
       "<IPython.core.display.HTML object>"
      ]
     },
     "metadata": {},
     "output_type": "display_data"
    },
    {
     "name": "stdout",
     "output_type": "stream",
     "text": [
      "Running with config: {'batch_size': 8, 'in_channels': 6, 'learning_rate': 0.001, 'num_epochs': 5, 'num_heads': 4, 'optimizer': 'sgd', 'out_channels': 12, 'random_state': 42, 'test_size': 0.3, 'weight_decay': 0.0001}\n"
     ]
    },
    {
     "data": {
      "text/html": [
       "<style>\n",
       "    table.wandb td:nth-child(1) { padding: 0 10px; text-align: left ; width: auto;} td:nth-child(2) {text-align: left ; width: 100%}\n",
       "    .wandb-row { display: flex; flex-direction: row; flex-wrap: wrap; justify-content: flex-start; width: 100% }\n",
       "    .wandb-col { display: flex; flex-direction: column; flex-basis: 100%; flex: 1; padding: 10px; }\n",
       "    </style>\n",
       "<div class=\"wandb-row\"><div class=\"wandb-col\"><h3>Run history:</h3><br/><table class=\"wandb\"><tr><td>epoch</td><td>▁▃▅▆█</td></tr><tr><td>train_accuracy</td><td>▁▁▁▁▁</td></tr><tr><td>train_f1</td><td>▁▁▁▁▁</td></tr><tr><td>train_loss</td><td>█▇▂▃▁</td></tr><tr><td>val_accuracy</td><td>▁▁▁▁▁</td></tr><tr><td>val_f1</td><td>▁▁▁▁▁</td></tr><tr><td>val_loss</td><td>█▆▃▂▁</td></tr></table><br/></div><div class=\"wandb-col\"><h3>Run summary:</h3><br/><table class=\"wandb\"><tr><td>epoch</td><td>5</td></tr><tr><td>train_accuracy</td><td>0.568</td></tr><tr><td>train_f1</td><td>0.41151</td></tr><tr><td>train_loss</td><td>0.66876</td></tr><tr><td>val_accuracy</td><td>0.55556</td></tr><tr><td>val_f1</td><td>0.39683</td></tr><tr><td>val_loss</td><td>0.67502</td></tr></table><br/></div></div>"
      ],
      "text/plain": [
       "<IPython.core.display.HTML object>"
      ]
     },
     "metadata": {},
     "output_type": "display_data"
    },
    {
     "data": {
      "text/html": [
       " View run <strong style=\"color:#cdcd00\">apricot-sweep-35</strong> at: <a href='https://wandb.ai/barbonigiorgia-sapienza-universit-di-roma/graph-classification-graphs_sc/runs/ebbj8qap' target=\"_blank\">https://wandb.ai/barbonigiorgia-sapienza-universit-di-roma/graph-classification-graphs_sc/runs/ebbj8qap</a><br/> View project at: <a href='https://wandb.ai/barbonigiorgia-sapienza-universit-di-roma/graph-classification-graphs_sc' target=\"_blank\">https://wandb.ai/barbonigiorgia-sapienza-universit-di-roma/graph-classification-graphs_sc</a><br/>Synced 5 W&B file(s), 0 media file(s), 2 artifact file(s) and 0 other file(s)"
      ],
      "text/plain": [
       "<IPython.core.display.HTML object>"
      ]
     },
     "metadata": {},
     "output_type": "display_data"
    },
    {
     "data": {
      "text/html": [
       "Find logs at: <code>.\\wandb\\run-20241115_211347-ebbj8qap\\logs</code>"
      ],
      "text/plain": [
       "<IPython.core.display.HTML object>"
      ]
     },
     "metadata": {},
     "output_type": "display_data"
    },
    {
     "name": "stderr",
     "output_type": "stream",
     "text": [
      "\u001b[34m\u001b[1mwandb\u001b[0m: Agent Starting Run: hgcrrwyn with config:\n",
      "\u001b[34m\u001b[1mwandb\u001b[0m: \tbatch_size: 16\n",
      "\u001b[34m\u001b[1mwandb\u001b[0m: \tin_channels: 6\n",
      "\u001b[34m\u001b[1mwandb\u001b[0m: \tlearning_rate: 0.0001\n",
      "\u001b[34m\u001b[1mwandb\u001b[0m: \tnum_epochs: 5\n",
      "\u001b[34m\u001b[1mwandb\u001b[0m: \tnum_heads: 1\n",
      "\u001b[34m\u001b[1mwandb\u001b[0m: \toptimizer: adam\n",
      "\u001b[34m\u001b[1mwandb\u001b[0m: \tout_channels: 12\n",
      "\u001b[34m\u001b[1mwandb\u001b[0m: \trandom_state: 42\n",
      "\u001b[34m\u001b[1mwandb\u001b[0m: \ttest_size: 0.3\n",
      "\u001b[34m\u001b[1mwandb\u001b[0m: \tweight_decay: 1e-05\n"
     ]
    },
    {
     "data": {
      "text/html": [
       "Tracking run with wandb version 0.18.5"
      ],
      "text/plain": [
       "<IPython.core.display.HTML object>"
      ]
     },
     "metadata": {},
     "output_type": "display_data"
    },
    {
     "data": {
      "text/html": [
       "Run data is saved locally in <code>c:\\Users\\barbo\\brain classifier repo\\brain_classifier\\src\\wandb\\run-20241115_211434-hgcrrwyn</code>"
      ],
      "text/plain": [
       "<IPython.core.display.HTML object>"
      ]
     },
     "metadata": {},
     "output_type": "display_data"
    },
    {
     "data": {
      "text/html": [
       "Syncing run <strong><a href='https://wandb.ai/barbonigiorgia-sapienza-universit-di-roma/graph-classification-graphs_sc/runs/hgcrrwyn' target=\"_blank\">still-sweep-36</a></strong> to <a href='https://wandb.ai/barbonigiorgia-sapienza-universit-di-roma/graph-classification-graphs_sc' target=\"_blank\">Weights & Biases</a> (<a href='https://wandb.me/run' target=\"_blank\">docs</a>)<br/>Sweep page: <a href='https://wandb.ai/barbonigiorgia-sapienza-universit-di-roma/graph-classification-graphs_sc/sweeps/5tx24pap' target=\"_blank\">https://wandb.ai/barbonigiorgia-sapienza-universit-di-roma/graph-classification-graphs_sc/sweeps/5tx24pap</a>"
      ],
      "text/plain": [
       "<IPython.core.display.HTML object>"
      ]
     },
     "metadata": {},
     "output_type": "display_data"
    },
    {
     "data": {
      "text/html": [
       " View project at <a href='https://wandb.ai/barbonigiorgia-sapienza-universit-di-roma/graph-classification-graphs_sc' target=\"_blank\">https://wandb.ai/barbonigiorgia-sapienza-universit-di-roma/graph-classification-graphs_sc</a>"
      ],
      "text/plain": [
       "<IPython.core.display.HTML object>"
      ]
     },
     "metadata": {},
     "output_type": "display_data"
    },
    {
     "data": {
      "text/html": [
       " View sweep at <a href='https://wandb.ai/barbonigiorgia-sapienza-universit-di-roma/graph-classification-graphs_sc/sweeps/5tx24pap' target=\"_blank\">https://wandb.ai/barbonigiorgia-sapienza-universit-di-roma/graph-classification-graphs_sc/sweeps/5tx24pap</a>"
      ],
      "text/plain": [
       "<IPython.core.display.HTML object>"
      ]
     },
     "metadata": {},
     "output_type": "display_data"
    },
    {
     "data": {
      "text/html": [
       " View run at <a href='https://wandb.ai/barbonigiorgia-sapienza-universit-di-roma/graph-classification-graphs_sc/runs/hgcrrwyn' target=\"_blank\">https://wandb.ai/barbonigiorgia-sapienza-universit-di-roma/graph-classification-graphs_sc/runs/hgcrrwyn</a>"
      ],
      "text/plain": [
       "<IPython.core.display.HTML object>"
      ]
     },
     "metadata": {},
     "output_type": "display_data"
    },
    {
     "name": "stdout",
     "output_type": "stream",
     "text": [
      "Running with config: {'batch_size': 16, 'in_channels': 6, 'learning_rate': 0.0001, 'num_epochs': 5, 'num_heads': 1, 'optimizer': 'adam', 'out_channels': 12, 'random_state': 42, 'test_size': 0.3, 'weight_decay': 1e-05}\n"
     ]
    },
    {
     "data": {
      "text/html": [
       "<style>\n",
       "    table.wandb td:nth-child(1) { padding: 0 10px; text-align: left ; width: auto;} td:nth-child(2) {text-align: left ; width: 100%}\n",
       "    .wandb-row { display: flex; flex-direction: row; flex-wrap: wrap; justify-content: flex-start; width: 100% }\n",
       "    .wandb-col { display: flex; flex-direction: column; flex-basis: 100%; flex: 1; padding: 10px; }\n",
       "    </style>\n",
       "<div class=\"wandb-row\"><div class=\"wandb-col\"><h3>Run history:</h3><br/><table class=\"wandb\"><tr><td>epoch</td><td>▁▃▅▆█</td></tr><tr><td>train_accuracy</td><td>▁▁▁▁▁</td></tr><tr><td>train_f1</td><td>▁▁▁▁▁</td></tr><tr><td>train_loss</td><td>█▅█▂▁</td></tr><tr><td>val_accuracy</td><td>▁▁▁▁▁</td></tr><tr><td>val_f1</td><td>▁▁▁▁▁</td></tr><tr><td>val_loss</td><td>█▆▅▃▁</td></tr></table><br/></div><div class=\"wandb-col\"><h3>Run summary:</h3><br/><table class=\"wandb\"><tr><td>epoch</td><td>5</td></tr><tr><td>train_accuracy</td><td>0.432</td></tr><tr><td>train_f1</td><td>0.26065</td></tr><tr><td>train_loss</td><td>0.72719</td></tr><tr><td>val_accuracy</td><td>0.44444</td></tr><tr><td>val_f1</td><td>0.2735</td></tr><tr><td>val_loss</td><td>0.73091</td></tr></table><br/></div></div>"
      ],
      "text/plain": [
       "<IPython.core.display.HTML object>"
      ]
     },
     "metadata": {},
     "output_type": "display_data"
    },
    {
     "data": {
      "text/html": [
       " View run <strong style=\"color:#cdcd00\">still-sweep-36</strong> at: <a href='https://wandb.ai/barbonigiorgia-sapienza-universit-di-roma/graph-classification-graphs_sc/runs/hgcrrwyn' target=\"_blank\">https://wandb.ai/barbonigiorgia-sapienza-universit-di-roma/graph-classification-graphs_sc/runs/hgcrrwyn</a><br/> View project at: <a href='https://wandb.ai/barbonigiorgia-sapienza-universit-di-roma/graph-classification-graphs_sc' target=\"_blank\">https://wandb.ai/barbonigiorgia-sapienza-universit-di-roma/graph-classification-graphs_sc</a><br/>Synced 5 W&B file(s), 0 media file(s), 2 artifact file(s) and 0 other file(s)"
      ],
      "text/plain": [
       "<IPython.core.display.HTML object>"
      ]
     },
     "metadata": {},
     "output_type": "display_data"
    },
    {
     "data": {
      "text/html": [
       "Find logs at: <code>.\\wandb\\run-20241115_211434-hgcrrwyn\\logs</code>"
      ],
      "text/plain": [
       "<IPython.core.display.HTML object>"
      ]
     },
     "metadata": {},
     "output_type": "display_data"
    },
    {
     "name": "stderr",
     "output_type": "stream",
     "text": [
      "\u001b[34m\u001b[1mwandb\u001b[0m: Agent Starting Run: rt9df3ds with config:\n",
      "\u001b[34m\u001b[1mwandb\u001b[0m: \tbatch_size: 8\n",
      "\u001b[34m\u001b[1mwandb\u001b[0m: \tin_channels: 6\n",
      "\u001b[34m\u001b[1mwandb\u001b[0m: \tlearning_rate: 0.001\n",
      "\u001b[34m\u001b[1mwandb\u001b[0m: \tnum_epochs: 5\n",
      "\u001b[34m\u001b[1mwandb\u001b[0m: \tnum_heads: 1\n",
      "\u001b[34m\u001b[1mwandb\u001b[0m: \toptimizer: adam\n",
      "\u001b[34m\u001b[1mwandb\u001b[0m: \tout_channels: 4\n",
      "\u001b[34m\u001b[1mwandb\u001b[0m: \trandom_state: 42\n",
      "\u001b[34m\u001b[1mwandb\u001b[0m: \ttest_size: 0.3\n",
      "\u001b[34m\u001b[1mwandb\u001b[0m: \tweight_decay: 0.0001\n"
     ]
    },
    {
     "data": {
      "text/html": [
       "Tracking run with wandb version 0.18.5"
      ],
      "text/plain": [
       "<IPython.core.display.HTML object>"
      ]
     },
     "metadata": {},
     "output_type": "display_data"
    },
    {
     "data": {
      "text/html": [
       "Run data is saved locally in <code>c:\\Users\\barbo\\brain classifier repo\\brain_classifier\\src\\wandb\\run-20241115_211450-rt9df3ds</code>"
      ],
      "text/plain": [
       "<IPython.core.display.HTML object>"
      ]
     },
     "metadata": {},
     "output_type": "display_data"
    },
    {
     "data": {
      "text/html": [
       "Syncing run <strong><a href='https://wandb.ai/barbonigiorgia-sapienza-universit-di-roma/graph-classification-graphs_sc/runs/rt9df3ds' target=\"_blank\">elated-sweep-37</a></strong> to <a href='https://wandb.ai/barbonigiorgia-sapienza-universit-di-roma/graph-classification-graphs_sc' target=\"_blank\">Weights & Biases</a> (<a href='https://wandb.me/run' target=\"_blank\">docs</a>)<br/>Sweep page: <a href='https://wandb.ai/barbonigiorgia-sapienza-universit-di-roma/graph-classification-graphs_sc/sweeps/5tx24pap' target=\"_blank\">https://wandb.ai/barbonigiorgia-sapienza-universit-di-roma/graph-classification-graphs_sc/sweeps/5tx24pap</a>"
      ],
      "text/plain": [
       "<IPython.core.display.HTML object>"
      ]
     },
     "metadata": {},
     "output_type": "display_data"
    },
    {
     "data": {
      "text/html": [
       " View project at <a href='https://wandb.ai/barbonigiorgia-sapienza-universit-di-roma/graph-classification-graphs_sc' target=\"_blank\">https://wandb.ai/barbonigiorgia-sapienza-universit-di-roma/graph-classification-graphs_sc</a>"
      ],
      "text/plain": [
       "<IPython.core.display.HTML object>"
      ]
     },
     "metadata": {},
     "output_type": "display_data"
    },
    {
     "data": {
      "text/html": [
       " View sweep at <a href='https://wandb.ai/barbonigiorgia-sapienza-universit-di-roma/graph-classification-graphs_sc/sweeps/5tx24pap' target=\"_blank\">https://wandb.ai/barbonigiorgia-sapienza-universit-di-roma/graph-classification-graphs_sc/sweeps/5tx24pap</a>"
      ],
      "text/plain": [
       "<IPython.core.display.HTML object>"
      ]
     },
     "metadata": {},
     "output_type": "display_data"
    },
    {
     "data": {
      "text/html": [
       " View run at <a href='https://wandb.ai/barbonigiorgia-sapienza-universit-di-roma/graph-classification-graphs_sc/runs/rt9df3ds' target=\"_blank\">https://wandb.ai/barbonigiorgia-sapienza-universit-di-roma/graph-classification-graphs_sc/runs/rt9df3ds</a>"
      ],
      "text/plain": [
       "<IPython.core.display.HTML object>"
      ]
     },
     "metadata": {},
     "output_type": "display_data"
    },
    {
     "name": "stdout",
     "output_type": "stream",
     "text": [
      "Running with config: {'batch_size': 8, 'in_channels': 6, 'learning_rate': 0.001, 'num_epochs': 5, 'num_heads': 1, 'optimizer': 'adam', 'out_channels': 4, 'random_state': 42, 'test_size': 0.3, 'weight_decay': 0.0001}\n"
     ]
    },
    {
     "data": {
      "text/html": [
       "<style>\n",
       "    table.wandb td:nth-child(1) { padding: 0 10px; text-align: left ; width: auto;} td:nth-child(2) {text-align: left ; width: 100%}\n",
       "    .wandb-row { display: flex; flex-direction: row; flex-wrap: wrap; justify-content: flex-start; width: 100% }\n",
       "    .wandb-col { display: flex; flex-direction: column; flex-basis: 100%; flex: 1; padding: 10px; }\n",
       "    </style>\n",
       "<div class=\"wandb-row\"><div class=\"wandb-col\"><h3>Run history:</h3><br/><table class=\"wandb\"><tr><td>epoch</td><td>▁▃▅▆█</td></tr><tr><td>train_accuracy</td><td>▁▁▁▁▁</td></tr><tr><td>train_f1</td><td>▁▁▁▁▁</td></tr><tr><td>train_loss</td><td>██▁▃▁</td></tr><tr><td>val_accuracy</td><td>▁▁▁▁▁</td></tr><tr><td>val_f1</td><td>▁▁▁▁▁</td></tr><tr><td>val_loss</td><td>█▆▄▂▁</td></tr></table><br/></div><div class=\"wandb-col\"><h3>Run summary:</h3><br/><table class=\"wandb\"><tr><td>epoch</td><td>5</td></tr><tr><td>train_accuracy</td><td>0.568</td></tr><tr><td>train_f1</td><td>0.41151</td></tr><tr><td>train_loss</td><td>0.694</td></tr><tr><td>val_accuracy</td><td>0.55556</td></tr><tr><td>val_f1</td><td>0.39683</td></tr><tr><td>val_loss</td><td>0.69011</td></tr></table><br/></div></div>"
      ],
      "text/plain": [
       "<IPython.core.display.HTML object>"
      ]
     },
     "metadata": {},
     "output_type": "display_data"
    },
    {
     "data": {
      "text/html": [
       " View run <strong style=\"color:#cdcd00\">elated-sweep-37</strong> at: <a href='https://wandb.ai/barbonigiorgia-sapienza-universit-di-roma/graph-classification-graphs_sc/runs/rt9df3ds' target=\"_blank\">https://wandb.ai/barbonigiorgia-sapienza-universit-di-roma/graph-classification-graphs_sc/runs/rt9df3ds</a><br/> View project at: <a href='https://wandb.ai/barbonigiorgia-sapienza-universit-di-roma/graph-classification-graphs_sc' target=\"_blank\">https://wandb.ai/barbonigiorgia-sapienza-universit-di-roma/graph-classification-graphs_sc</a><br/>Synced 5 W&B file(s), 0 media file(s), 4 artifact file(s) and 0 other file(s)"
      ],
      "text/plain": [
       "<IPython.core.display.HTML object>"
      ]
     },
     "metadata": {},
     "output_type": "display_data"
    },
    {
     "data": {
      "text/html": [
       "Find logs at: <code>.\\wandb\\run-20241115_211450-rt9df3ds\\logs</code>"
      ],
      "text/plain": [
       "<IPython.core.display.HTML object>"
      ]
     },
     "metadata": {},
     "output_type": "display_data"
    },
    {
     "name": "stderr",
     "output_type": "stream",
     "text": [
      "\u001b[34m\u001b[1mwandb\u001b[0m: Agent Starting Run: 3cwdrdqu with config:\n",
      "\u001b[34m\u001b[1mwandb\u001b[0m: \tbatch_size: 32\n",
      "\u001b[34m\u001b[1mwandb\u001b[0m: \tin_channels: 6\n",
      "\u001b[34m\u001b[1mwandb\u001b[0m: \tlearning_rate: 0.01\n",
      "\u001b[34m\u001b[1mwandb\u001b[0m: \tnum_epochs: 5\n",
      "\u001b[34m\u001b[1mwandb\u001b[0m: \tnum_heads: 4\n",
      "\u001b[34m\u001b[1mwandb\u001b[0m: \toptimizer: sgd\n",
      "\u001b[34m\u001b[1mwandb\u001b[0m: \tout_channels: 16\n",
      "\u001b[34m\u001b[1mwandb\u001b[0m: \trandom_state: 42\n",
      "\u001b[34m\u001b[1mwandb\u001b[0m: \ttest_size: 0.3\n",
      "\u001b[34m\u001b[1mwandb\u001b[0m: \tweight_decay: 0.0001\n"
     ]
    },
    {
     "data": {
      "text/html": [
       "Tracking run with wandb version 0.18.5"
      ],
      "text/plain": [
       "<IPython.core.display.HTML object>"
      ]
     },
     "metadata": {},
     "output_type": "display_data"
    },
    {
     "data": {
      "text/html": [
       "Run data is saved locally in <code>c:\\Users\\barbo\\brain classifier repo\\brain_classifier\\src\\wandb\\run-20241115_211511-3cwdrdqu</code>"
      ],
      "text/plain": [
       "<IPython.core.display.HTML object>"
      ]
     },
     "metadata": {},
     "output_type": "display_data"
    },
    {
     "data": {
      "text/html": [
       "Syncing run <strong><a href='https://wandb.ai/barbonigiorgia-sapienza-universit-di-roma/graph-classification-graphs_sc/runs/3cwdrdqu' target=\"_blank\">robust-sweep-38</a></strong> to <a href='https://wandb.ai/barbonigiorgia-sapienza-universit-di-roma/graph-classification-graphs_sc' target=\"_blank\">Weights & Biases</a> (<a href='https://wandb.me/run' target=\"_blank\">docs</a>)<br/>Sweep page: <a href='https://wandb.ai/barbonigiorgia-sapienza-universit-di-roma/graph-classification-graphs_sc/sweeps/5tx24pap' target=\"_blank\">https://wandb.ai/barbonigiorgia-sapienza-universit-di-roma/graph-classification-graphs_sc/sweeps/5tx24pap</a>"
      ],
      "text/plain": [
       "<IPython.core.display.HTML object>"
      ]
     },
     "metadata": {},
     "output_type": "display_data"
    },
    {
     "data": {
      "text/html": [
       " View project at <a href='https://wandb.ai/barbonigiorgia-sapienza-universit-di-roma/graph-classification-graphs_sc' target=\"_blank\">https://wandb.ai/barbonigiorgia-sapienza-universit-di-roma/graph-classification-graphs_sc</a>"
      ],
      "text/plain": [
       "<IPython.core.display.HTML object>"
      ]
     },
     "metadata": {},
     "output_type": "display_data"
    },
    {
     "data": {
      "text/html": [
       " View sweep at <a href='https://wandb.ai/barbonigiorgia-sapienza-universit-di-roma/graph-classification-graphs_sc/sweeps/5tx24pap' target=\"_blank\">https://wandb.ai/barbonigiorgia-sapienza-universit-di-roma/graph-classification-graphs_sc/sweeps/5tx24pap</a>"
      ],
      "text/plain": [
       "<IPython.core.display.HTML object>"
      ]
     },
     "metadata": {},
     "output_type": "display_data"
    },
    {
     "data": {
      "text/html": [
       " View run at <a href='https://wandb.ai/barbonigiorgia-sapienza-universit-di-roma/graph-classification-graphs_sc/runs/3cwdrdqu' target=\"_blank\">https://wandb.ai/barbonigiorgia-sapienza-universit-di-roma/graph-classification-graphs_sc/runs/3cwdrdqu</a>"
      ],
      "text/plain": [
       "<IPython.core.display.HTML object>"
      ]
     },
     "metadata": {},
     "output_type": "display_data"
    },
    {
     "name": "stdout",
     "output_type": "stream",
     "text": [
      "Running with config: {'batch_size': 32, 'in_channels': 6, 'learning_rate': 0.01, 'num_epochs': 5, 'num_heads': 4, 'optimizer': 'sgd', 'out_channels': 16, 'random_state': 42, 'test_size': 0.3, 'weight_decay': 0.0001}\n"
     ]
    },
    {
     "data": {
      "text/html": [
       "<style>\n",
       "    table.wandb td:nth-child(1) { padding: 0 10px; text-align: left ; width: auto;} td:nth-child(2) {text-align: left ; width: 100%}\n",
       "    .wandb-row { display: flex; flex-direction: row; flex-wrap: wrap; justify-content: flex-start; width: 100% }\n",
       "    .wandb-col { display: flex; flex-direction: column; flex-basis: 100%; flex: 1; padding: 10px; }\n",
       "    </style>\n",
       "<div class=\"wandb-row\"><div class=\"wandb-col\"><h3>Run history:</h3><br/><table class=\"wandb\"><tr><td>epoch</td><td>▁▃▅▆█</td></tr><tr><td>train_accuracy</td><td>▁████</td></tr><tr><td>train_f1</td><td>▁████</td></tr><tr><td>train_loss</td><td>█▆▄▂▁</td></tr><tr><td>val_accuracy</td><td>▁▁▁▁▁</td></tr><tr><td>val_f1</td><td>▁▁▁▁▁</td></tr><tr><td>val_loss</td><td>█▆▄▂▁</td></tr></table><br/></div><div class=\"wandb-col\"><h3>Run summary:</h3><br/><table class=\"wandb\"><tr><td>epoch</td><td>5</td></tr><tr><td>train_accuracy</td><td>0.568</td></tr><tr><td>train_f1</td><td>0.41151</td></tr><tr><td>train_loss</td><td>0.68033</td></tr><tr><td>val_accuracy</td><td>0.55556</td></tr><tr><td>val_f1</td><td>0.39683</td></tr><tr><td>val_loss</td><td>0.68236</td></tr></table><br/></div></div>"
      ],
      "text/plain": [
       "<IPython.core.display.HTML object>"
      ]
     },
     "metadata": {},
     "output_type": "display_data"
    },
    {
     "data": {
      "text/html": [
       " View run <strong style=\"color:#cdcd00\">robust-sweep-38</strong> at: <a href='https://wandb.ai/barbonigiorgia-sapienza-universit-di-roma/graph-classification-graphs_sc/runs/3cwdrdqu' target=\"_blank\">https://wandb.ai/barbonigiorgia-sapienza-universit-di-roma/graph-classification-graphs_sc/runs/3cwdrdqu</a><br/> View project at: <a href='https://wandb.ai/barbonigiorgia-sapienza-universit-di-roma/graph-classification-graphs_sc' target=\"_blank\">https://wandb.ai/barbonigiorgia-sapienza-universit-di-roma/graph-classification-graphs_sc</a><br/>Synced 5 W&B file(s), 0 media file(s), 4 artifact file(s) and 0 other file(s)"
      ],
      "text/plain": [
       "<IPython.core.display.HTML object>"
      ]
     },
     "metadata": {},
     "output_type": "display_data"
    },
    {
     "data": {
      "text/html": [
       "Find logs at: <code>.\\wandb\\run-20241115_211511-3cwdrdqu\\logs</code>"
      ],
      "text/plain": [
       "<IPython.core.display.HTML object>"
      ]
     },
     "metadata": {},
     "output_type": "display_data"
    },
    {
     "name": "stderr",
     "output_type": "stream",
     "text": [
      "\u001b[34m\u001b[1mwandb\u001b[0m: Agent Starting Run: zc2pvq1p with config:\n",
      "\u001b[34m\u001b[1mwandb\u001b[0m: \tbatch_size: 16\n",
      "\u001b[34m\u001b[1mwandb\u001b[0m: \tin_channels: 6\n",
      "\u001b[34m\u001b[1mwandb\u001b[0m: \tlearning_rate: 0.01\n",
      "\u001b[34m\u001b[1mwandb\u001b[0m: \tnum_epochs: 5\n",
      "\u001b[34m\u001b[1mwandb\u001b[0m: \tnum_heads: 3\n",
      "\u001b[34m\u001b[1mwandb\u001b[0m: \toptimizer: adam\n",
      "\u001b[34m\u001b[1mwandb\u001b[0m: \tout_channels: 12\n",
      "\u001b[34m\u001b[1mwandb\u001b[0m: \trandom_state: 42\n",
      "\u001b[34m\u001b[1mwandb\u001b[0m: \ttest_size: 0.3\n",
      "\u001b[34m\u001b[1mwandb\u001b[0m: \tweight_decay: 1e-05\n"
     ]
    },
    {
     "data": {
      "text/html": [
       "Tracking run with wandb version 0.18.5"
      ],
      "text/plain": [
       "<IPython.core.display.HTML object>"
      ]
     },
     "metadata": {},
     "output_type": "display_data"
    },
    {
     "data": {
      "text/html": [
       "Run data is saved locally in <code>c:\\Users\\barbo\\brain classifier repo\\brain_classifier\\src\\wandb\\run-20241115_211537-zc2pvq1p</code>"
      ],
      "text/plain": [
       "<IPython.core.display.HTML object>"
      ]
     },
     "metadata": {},
     "output_type": "display_data"
    },
    {
     "data": {
      "text/html": [
       "Syncing run <strong><a href='https://wandb.ai/barbonigiorgia-sapienza-universit-di-roma/graph-classification-graphs_sc/runs/zc2pvq1p' target=\"_blank\">driven-sweep-39</a></strong> to <a href='https://wandb.ai/barbonigiorgia-sapienza-universit-di-roma/graph-classification-graphs_sc' target=\"_blank\">Weights & Biases</a> (<a href='https://wandb.me/run' target=\"_blank\">docs</a>)<br/>Sweep page: <a href='https://wandb.ai/barbonigiorgia-sapienza-universit-di-roma/graph-classification-graphs_sc/sweeps/5tx24pap' target=\"_blank\">https://wandb.ai/barbonigiorgia-sapienza-universit-di-roma/graph-classification-graphs_sc/sweeps/5tx24pap</a>"
      ],
      "text/plain": [
       "<IPython.core.display.HTML object>"
      ]
     },
     "metadata": {},
     "output_type": "display_data"
    },
    {
     "data": {
      "text/html": [
       " View project at <a href='https://wandb.ai/barbonigiorgia-sapienza-universit-di-roma/graph-classification-graphs_sc' target=\"_blank\">https://wandb.ai/barbonigiorgia-sapienza-universit-di-roma/graph-classification-graphs_sc</a>"
      ],
      "text/plain": [
       "<IPython.core.display.HTML object>"
      ]
     },
     "metadata": {},
     "output_type": "display_data"
    },
    {
     "data": {
      "text/html": [
       " View sweep at <a href='https://wandb.ai/barbonigiorgia-sapienza-universit-di-roma/graph-classification-graphs_sc/sweeps/5tx24pap' target=\"_blank\">https://wandb.ai/barbonigiorgia-sapienza-universit-di-roma/graph-classification-graphs_sc/sweeps/5tx24pap</a>"
      ],
      "text/plain": [
       "<IPython.core.display.HTML object>"
      ]
     },
     "metadata": {},
     "output_type": "display_data"
    },
    {
     "data": {
      "text/html": [
       " View run at <a href='https://wandb.ai/barbonigiorgia-sapienza-universit-di-roma/graph-classification-graphs_sc/runs/zc2pvq1p' target=\"_blank\">https://wandb.ai/barbonigiorgia-sapienza-universit-di-roma/graph-classification-graphs_sc/runs/zc2pvq1p</a>"
      ],
      "text/plain": [
       "<IPython.core.display.HTML object>"
      ]
     },
     "metadata": {},
     "output_type": "display_data"
    },
    {
     "name": "stdout",
     "output_type": "stream",
     "text": [
      "Running with config: {'batch_size': 16, 'in_channels': 6, 'learning_rate': 0.01, 'num_epochs': 5, 'num_heads': 3, 'optimizer': 'adam', 'out_channels': 12, 'random_state': 42, 'test_size': 0.3, 'weight_decay': 1e-05}\n"
     ]
    },
    {
     "data": {
      "text/html": [
       "<style>\n",
       "    table.wandb td:nth-child(1) { padding: 0 10px; text-align: left ; width: auto;} td:nth-child(2) {text-align: left ; width: 100%}\n",
       "    .wandb-row { display: flex; flex-direction: row; flex-wrap: wrap; justify-content: flex-start; width: 100% }\n",
       "    .wandb-col { display: flex; flex-direction: column; flex-basis: 100%; flex: 1; padding: 10px; }\n",
       "    </style>\n",
       "<div class=\"wandb-row\"><div class=\"wandb-col\"><h3>Run history:</h3><br/><table class=\"wandb\"><tr><td>epoch</td><td>▁▃▅▆█</td></tr><tr><td>train_accuracy</td><td>▁▂▅▅█</td></tr><tr><td>train_f1</td><td>▁▂▆▆█</td></tr><tr><td>train_loss</td><td>█▆▄▃▁</td></tr><tr><td>val_accuracy</td><td>▁▅▅▅█</td></tr><tr><td>val_f1</td><td>▁▅▆▅█</td></tr><tr><td>val_loss</td><td>█▆▅▃▁</td></tr></table><br/></div><div class=\"wandb-col\"><h3>Run summary:</h3><br/><table class=\"wandb\"><tr><td>epoch</td><td>5</td></tr><tr><td>train_accuracy</td><td>0.768</td></tr><tr><td>train_f1</td><td>0.76186</td></tr><tr><td>train_loss</td><td>0.57195</td></tr><tr><td>val_accuracy</td><td>0.74074</td></tr><tr><td>val_f1</td><td>0.74146</td></tr><tr><td>val_loss</td><td>0.58009</td></tr></table><br/></div></div>"
      ],
      "text/plain": [
       "<IPython.core.display.HTML object>"
      ]
     },
     "metadata": {},
     "output_type": "display_data"
    },
    {
     "data": {
      "text/html": [
       " View run <strong style=\"color:#cdcd00\">driven-sweep-39</strong> at: <a href='https://wandb.ai/barbonigiorgia-sapienza-universit-di-roma/graph-classification-graphs_sc/runs/zc2pvq1p' target=\"_blank\">https://wandb.ai/barbonigiorgia-sapienza-universit-di-roma/graph-classification-graphs_sc/runs/zc2pvq1p</a><br/> View project at: <a href='https://wandb.ai/barbonigiorgia-sapienza-universit-di-roma/graph-classification-graphs_sc' target=\"_blank\">https://wandb.ai/barbonigiorgia-sapienza-universit-di-roma/graph-classification-graphs_sc</a><br/>Synced 5 W&B file(s), 0 media file(s), 8 artifact file(s) and 0 other file(s)"
      ],
      "text/plain": [
       "<IPython.core.display.HTML object>"
      ]
     },
     "metadata": {},
     "output_type": "display_data"
    },
    {
     "data": {
      "text/html": [
       "Find logs at: <code>.\\wandb\\run-20241115_211537-zc2pvq1p\\logs</code>"
      ],
      "text/plain": [
       "<IPython.core.display.HTML object>"
      ]
     },
     "metadata": {},
     "output_type": "display_data"
    },
    {
     "name": "stderr",
     "output_type": "stream",
     "text": [
      "\u001b[34m\u001b[1mwandb\u001b[0m: Agent Starting Run: dxgw1v52 with config:\n",
      "\u001b[34m\u001b[1mwandb\u001b[0m: \tbatch_size: 32\n",
      "\u001b[34m\u001b[1mwandb\u001b[0m: \tin_channels: 6\n",
      "\u001b[34m\u001b[1mwandb\u001b[0m: \tlearning_rate: 0.0001\n",
      "\u001b[34m\u001b[1mwandb\u001b[0m: \tnum_epochs: 5\n",
      "\u001b[34m\u001b[1mwandb\u001b[0m: \tnum_heads: 2\n",
      "\u001b[34m\u001b[1mwandb\u001b[0m: \toptimizer: sgd\n",
      "\u001b[34m\u001b[1mwandb\u001b[0m: \tout_channels: 16\n",
      "\u001b[34m\u001b[1mwandb\u001b[0m: \trandom_state: 42\n",
      "\u001b[34m\u001b[1mwandb\u001b[0m: \ttest_size: 0.3\n",
      "\u001b[34m\u001b[1mwandb\u001b[0m: \tweight_decay: 0\n"
     ]
    },
    {
     "data": {
      "text/html": [
       "Tracking run with wandb version 0.18.5"
      ],
      "text/plain": [
       "<IPython.core.display.HTML object>"
      ]
     },
     "metadata": {},
     "output_type": "display_data"
    },
    {
     "data": {
      "text/html": [
       "Run data is saved locally in <code>c:\\Users\\barbo\\brain classifier repo\\brain_classifier\\src\\wandb\\run-20241115_211608-dxgw1v52</code>"
      ],
      "text/plain": [
       "<IPython.core.display.HTML object>"
      ]
     },
     "metadata": {},
     "output_type": "display_data"
    },
    {
     "data": {
      "text/html": [
       "Syncing run <strong><a href='https://wandb.ai/barbonigiorgia-sapienza-universit-di-roma/graph-classification-graphs_sc/runs/dxgw1v52' target=\"_blank\">dry-sweep-40</a></strong> to <a href='https://wandb.ai/barbonigiorgia-sapienza-universit-di-roma/graph-classification-graphs_sc' target=\"_blank\">Weights & Biases</a> (<a href='https://wandb.me/run' target=\"_blank\">docs</a>)<br/>Sweep page: <a href='https://wandb.ai/barbonigiorgia-sapienza-universit-di-roma/graph-classification-graphs_sc/sweeps/5tx24pap' target=\"_blank\">https://wandb.ai/barbonigiorgia-sapienza-universit-di-roma/graph-classification-graphs_sc/sweeps/5tx24pap</a>"
      ],
      "text/plain": [
       "<IPython.core.display.HTML object>"
      ]
     },
     "metadata": {},
     "output_type": "display_data"
    },
    {
     "data": {
      "text/html": [
       " View project at <a href='https://wandb.ai/barbonigiorgia-sapienza-universit-di-roma/graph-classification-graphs_sc' target=\"_blank\">https://wandb.ai/barbonigiorgia-sapienza-universit-di-roma/graph-classification-graphs_sc</a>"
      ],
      "text/plain": [
       "<IPython.core.display.HTML object>"
      ]
     },
     "metadata": {},
     "output_type": "display_data"
    },
    {
     "data": {
      "text/html": [
       " View sweep at <a href='https://wandb.ai/barbonigiorgia-sapienza-universit-di-roma/graph-classification-graphs_sc/sweeps/5tx24pap' target=\"_blank\">https://wandb.ai/barbonigiorgia-sapienza-universit-di-roma/graph-classification-graphs_sc/sweeps/5tx24pap</a>"
      ],
      "text/plain": [
       "<IPython.core.display.HTML object>"
      ]
     },
     "metadata": {},
     "output_type": "display_data"
    },
    {
     "data": {
      "text/html": [
       " View run at <a href='https://wandb.ai/barbonigiorgia-sapienza-universit-di-roma/graph-classification-graphs_sc/runs/dxgw1v52' target=\"_blank\">https://wandb.ai/barbonigiorgia-sapienza-universit-di-roma/graph-classification-graphs_sc/runs/dxgw1v52</a>"
      ],
      "text/plain": [
       "<IPython.core.display.HTML object>"
      ]
     },
     "metadata": {},
     "output_type": "display_data"
    },
    {
     "name": "stdout",
     "output_type": "stream",
     "text": [
      "Running with config: {'batch_size': 32, 'in_channels': 6, 'learning_rate': 0.0001, 'num_epochs': 5, 'num_heads': 2, 'optimizer': 'sgd', 'out_channels': 16, 'random_state': 42, 'test_size': 0.3, 'weight_decay': 0}\n"
     ]
    },
    {
     "data": {
      "text/html": [
       "<style>\n",
       "    table.wandb td:nth-child(1) { padding: 0 10px; text-align: left ; width: auto;} td:nth-child(2) {text-align: left ; width: 100%}\n",
       "    .wandb-row { display: flex; flex-direction: row; flex-wrap: wrap; justify-content: flex-start; width: 100% }\n",
       "    .wandb-col { display: flex; flex-direction: column; flex-basis: 100%; flex: 1; padding: 10px; }\n",
       "    </style>\n",
       "<div class=\"wandb-row\"><div class=\"wandb-col\"><h3>Run history:</h3><br/><table class=\"wandb\"><tr><td>epoch</td><td>▁▃▅▆█</td></tr><tr><td>train_accuracy</td><td>▁▁▁▁▁</td></tr><tr><td>train_f1</td><td>▁▁▁▁▁</td></tr><tr><td>train_loss</td><td>█▆▆▂▁</td></tr><tr><td>val_accuracy</td><td>▁▁▁▁▁</td></tr><tr><td>val_f1</td><td>▁▁▁▁▁</td></tr><tr><td>val_loss</td><td>█▇▅▃▁</td></tr></table><br/></div><div class=\"wandb-col\"><h3>Run summary:</h3><br/><table class=\"wandb\"><tr><td>epoch</td><td>5</td></tr><tr><td>train_accuracy</td><td>0.432</td></tr><tr><td>train_f1</td><td>0.26065</td></tr><tr><td>train_loss</td><td>0.7308</td></tr><tr><td>val_accuracy</td><td>0.44444</td></tr><tr><td>val_f1</td><td>0.2735</td></tr><tr><td>val_loss</td><td>0.72321</td></tr></table><br/></div></div>"
      ],
      "text/plain": [
       "<IPython.core.display.HTML object>"
      ]
     },
     "metadata": {},
     "output_type": "display_data"
    },
    {
     "data": {
      "text/html": [
       " View run <strong style=\"color:#cdcd00\">dry-sweep-40</strong> at: <a href='https://wandb.ai/barbonigiorgia-sapienza-universit-di-roma/graph-classification-graphs_sc/runs/dxgw1v52' target=\"_blank\">https://wandb.ai/barbonigiorgia-sapienza-universit-di-roma/graph-classification-graphs_sc/runs/dxgw1v52</a><br/> View project at: <a href='https://wandb.ai/barbonigiorgia-sapienza-universit-di-roma/graph-classification-graphs_sc' target=\"_blank\">https://wandb.ai/barbonigiorgia-sapienza-universit-di-roma/graph-classification-graphs_sc</a><br/>Synced 5 W&B file(s), 0 media file(s), 2 artifact file(s) and 0 other file(s)"
      ],
      "text/plain": [
       "<IPython.core.display.HTML object>"
      ]
     },
     "metadata": {},
     "output_type": "display_data"
    },
    {
     "data": {
      "text/html": [
       "Find logs at: <code>.\\wandb\\run-20241115_211608-dxgw1v52\\logs</code>"
      ],
      "text/plain": [
       "<IPython.core.display.HTML object>"
      ]
     },
     "metadata": {},
     "output_type": "display_data"
    },
    {
     "name": "stderr",
     "output_type": "stream",
     "text": [
      "\u001b[34m\u001b[1mwandb\u001b[0m: Agent Starting Run: wavox7u6 with config:\n",
      "\u001b[34m\u001b[1mwandb\u001b[0m: \tbatch_size: 16\n",
      "\u001b[34m\u001b[1mwandb\u001b[0m: \tin_channels: 6\n",
      "\u001b[34m\u001b[1mwandb\u001b[0m: \tlearning_rate: 0.001\n",
      "\u001b[34m\u001b[1mwandb\u001b[0m: \tnum_epochs: 5\n",
      "\u001b[34m\u001b[1mwandb\u001b[0m: \tnum_heads: 4\n",
      "\u001b[34m\u001b[1mwandb\u001b[0m: \toptimizer: sgd\n",
      "\u001b[34m\u001b[1mwandb\u001b[0m: \tout_channels: 4\n",
      "\u001b[34m\u001b[1mwandb\u001b[0m: \trandom_state: 42\n",
      "\u001b[34m\u001b[1mwandb\u001b[0m: \ttest_size: 0.3\n",
      "\u001b[34m\u001b[1mwandb\u001b[0m: \tweight_decay: 0\n"
     ]
    },
    {
     "data": {
      "text/html": [
       "Tracking run with wandb version 0.18.5"
      ],
      "text/plain": [
       "<IPython.core.display.HTML object>"
      ]
     },
     "metadata": {},
     "output_type": "display_data"
    },
    {
     "data": {
      "text/html": [
       "Run data is saved locally in <code>c:\\Users\\barbo\\brain classifier repo\\brain_classifier\\src\\wandb\\run-20241115_211624-wavox7u6</code>"
      ],
      "text/plain": [
       "<IPython.core.display.HTML object>"
      ]
     },
     "metadata": {},
     "output_type": "display_data"
    },
    {
     "data": {
      "text/html": [
       "Syncing run <strong><a href='https://wandb.ai/barbonigiorgia-sapienza-universit-di-roma/graph-classification-graphs_sc/runs/wavox7u6' target=\"_blank\">playful-sweep-41</a></strong> to <a href='https://wandb.ai/barbonigiorgia-sapienza-universit-di-roma/graph-classification-graphs_sc' target=\"_blank\">Weights & Biases</a> (<a href='https://wandb.me/run' target=\"_blank\">docs</a>)<br/>Sweep page: <a href='https://wandb.ai/barbonigiorgia-sapienza-universit-di-roma/graph-classification-graphs_sc/sweeps/5tx24pap' target=\"_blank\">https://wandb.ai/barbonigiorgia-sapienza-universit-di-roma/graph-classification-graphs_sc/sweeps/5tx24pap</a>"
      ],
      "text/plain": [
       "<IPython.core.display.HTML object>"
      ]
     },
     "metadata": {},
     "output_type": "display_data"
    },
    {
     "data": {
      "text/html": [
       " View project at <a href='https://wandb.ai/barbonigiorgia-sapienza-universit-di-roma/graph-classification-graphs_sc' target=\"_blank\">https://wandb.ai/barbonigiorgia-sapienza-universit-di-roma/graph-classification-graphs_sc</a>"
      ],
      "text/plain": [
       "<IPython.core.display.HTML object>"
      ]
     },
     "metadata": {},
     "output_type": "display_data"
    },
    {
     "data": {
      "text/html": [
       " View sweep at <a href='https://wandb.ai/barbonigiorgia-sapienza-universit-di-roma/graph-classification-graphs_sc/sweeps/5tx24pap' target=\"_blank\">https://wandb.ai/barbonigiorgia-sapienza-universit-di-roma/graph-classification-graphs_sc/sweeps/5tx24pap</a>"
      ],
      "text/plain": [
       "<IPython.core.display.HTML object>"
      ]
     },
     "metadata": {},
     "output_type": "display_data"
    },
    {
     "data": {
      "text/html": [
       " View run at <a href='https://wandb.ai/barbonigiorgia-sapienza-universit-di-roma/graph-classification-graphs_sc/runs/wavox7u6' target=\"_blank\">https://wandb.ai/barbonigiorgia-sapienza-universit-di-roma/graph-classification-graphs_sc/runs/wavox7u6</a>"
      ],
      "text/plain": [
       "<IPython.core.display.HTML object>"
      ]
     },
     "metadata": {},
     "output_type": "display_data"
    },
    {
     "name": "stdout",
     "output_type": "stream",
     "text": [
      "Running with config: {'batch_size': 16, 'in_channels': 6, 'learning_rate': 0.001, 'num_epochs': 5, 'num_heads': 4, 'optimizer': 'sgd', 'out_channels': 4, 'random_state': 42, 'test_size': 0.3, 'weight_decay': 0}\n"
     ]
    },
    {
     "data": {
      "text/html": [
       "<style>\n",
       "    table.wandb td:nth-child(1) { padding: 0 10px; text-align: left ; width: auto;} td:nth-child(2) {text-align: left ; width: 100%}\n",
       "    .wandb-row { display: flex; flex-direction: row; flex-wrap: wrap; justify-content: flex-start; width: 100% }\n",
       "    .wandb-col { display: flex; flex-direction: column; flex-basis: 100%; flex: 1; padding: 10px; }\n",
       "    </style>\n",
       "<div class=\"wandb-row\"><div class=\"wandb-col\"><h3>Run history:</h3><br/><table class=\"wandb\"><tr><td>epoch</td><td>▁▃▅▆█</td></tr><tr><td>train_accuracy</td><td>▁▁▁▁▁</td></tr><tr><td>train_f1</td><td>▁▁▁▁▁</td></tr><tr><td>train_loss</td><td>█▇▃▃▁</td></tr><tr><td>val_accuracy</td><td>▁▁▁▁▁</td></tr><tr><td>val_f1</td><td>▁▁▁▁▁</td></tr><tr><td>val_loss</td><td>█▆▄▂▁</td></tr></table><br/></div><div class=\"wandb-col\"><h3>Run summary:</h3><br/><table class=\"wandb\"><tr><td>epoch</td><td>5</td></tr><tr><td>train_accuracy</td><td>0.568</td></tr><tr><td>train_f1</td><td>0.41151</td></tr><tr><td>train_loss</td><td>0.71391</td></tr><tr><td>val_accuracy</td><td>0.55556</td></tr><tr><td>val_f1</td><td>0.39683</td></tr><tr><td>val_loss</td><td>0.72764</td></tr></table><br/></div></div>"
      ],
      "text/plain": [
       "<IPython.core.display.HTML object>"
      ]
     },
     "metadata": {},
     "output_type": "display_data"
    },
    {
     "data": {
      "text/html": [
       " View run <strong style=\"color:#cdcd00\">playful-sweep-41</strong> at: <a href='https://wandb.ai/barbonigiorgia-sapienza-universit-di-roma/graph-classification-graphs_sc/runs/wavox7u6' target=\"_blank\">https://wandb.ai/barbonigiorgia-sapienza-universit-di-roma/graph-classification-graphs_sc/runs/wavox7u6</a><br/> View project at: <a href='https://wandb.ai/barbonigiorgia-sapienza-universit-di-roma/graph-classification-graphs_sc' target=\"_blank\">https://wandb.ai/barbonigiorgia-sapienza-universit-di-roma/graph-classification-graphs_sc</a><br/>Synced 5 W&B file(s), 0 media file(s), 4 artifact file(s) and 0 other file(s)"
      ],
      "text/plain": [
       "<IPython.core.display.HTML object>"
      ]
     },
     "metadata": {},
     "output_type": "display_data"
    },
    {
     "data": {
      "text/html": [
       "Find logs at: <code>.\\wandb\\run-20241115_211624-wavox7u6\\logs</code>"
      ],
      "text/plain": [
       "<IPython.core.display.HTML object>"
      ]
     },
     "metadata": {},
     "output_type": "display_data"
    },
    {
     "name": "stderr",
     "output_type": "stream",
     "text": [
      "\u001b[34m\u001b[1mwandb\u001b[0m: Sweep Agent: Waiting for job.\n",
      "\u001b[34m\u001b[1mwandb\u001b[0m: Job received.\n",
      "\u001b[34m\u001b[1mwandb\u001b[0m: Agent Starting Run: rd12pl16 with config:\n",
      "\u001b[34m\u001b[1mwandb\u001b[0m: \tbatch_size: 16\n",
      "\u001b[34m\u001b[1mwandb\u001b[0m: \tin_channels: 6\n",
      "\u001b[34m\u001b[1mwandb\u001b[0m: \tlearning_rate: 0.1\n",
      "\u001b[34m\u001b[1mwandb\u001b[0m: \tnum_epochs: 5\n",
      "\u001b[34m\u001b[1mwandb\u001b[0m: \tnum_heads: 1\n",
      "\u001b[34m\u001b[1mwandb\u001b[0m: \toptimizer: sgd\n",
      "\u001b[34m\u001b[1mwandb\u001b[0m: \tout_channels: 4\n",
      "\u001b[34m\u001b[1mwandb\u001b[0m: \trandom_state: 42\n",
      "\u001b[34m\u001b[1mwandb\u001b[0m: \ttest_size: 0.3\n",
      "\u001b[34m\u001b[1mwandb\u001b[0m: \tweight_decay: 0.0001\n"
     ]
    },
    {
     "data": {
      "text/html": [
       "Tracking run with wandb version 0.18.5"
      ],
      "text/plain": [
       "<IPython.core.display.HTML object>"
      ]
     },
     "metadata": {},
     "output_type": "display_data"
    },
    {
     "data": {
      "text/html": [
       "Run data is saved locally in <code>c:\\Users\\barbo\\brain classifier repo\\brain_classifier\\src\\wandb\\run-20241115_211700-rd12pl16</code>"
      ],
      "text/plain": [
       "<IPython.core.display.HTML object>"
      ]
     },
     "metadata": {},
     "output_type": "display_data"
    },
    {
     "data": {
      "text/html": [
       "Syncing run <strong><a href='https://wandb.ai/barbonigiorgia-sapienza-universit-di-roma/graph-classification-graphs_sc/runs/rd12pl16' target=\"_blank\">polar-sweep-42</a></strong> to <a href='https://wandb.ai/barbonigiorgia-sapienza-universit-di-roma/graph-classification-graphs_sc' target=\"_blank\">Weights & Biases</a> (<a href='https://wandb.me/run' target=\"_blank\">docs</a>)<br/>Sweep page: <a href='https://wandb.ai/barbonigiorgia-sapienza-universit-di-roma/graph-classification-graphs_sc/sweeps/5tx24pap' target=\"_blank\">https://wandb.ai/barbonigiorgia-sapienza-universit-di-roma/graph-classification-graphs_sc/sweeps/5tx24pap</a>"
      ],
      "text/plain": [
       "<IPython.core.display.HTML object>"
      ]
     },
     "metadata": {},
     "output_type": "display_data"
    },
    {
     "data": {
      "text/html": [
       " View project at <a href='https://wandb.ai/barbonigiorgia-sapienza-universit-di-roma/graph-classification-graphs_sc' target=\"_blank\">https://wandb.ai/barbonigiorgia-sapienza-universit-di-roma/graph-classification-graphs_sc</a>"
      ],
      "text/plain": [
       "<IPython.core.display.HTML object>"
      ]
     },
     "metadata": {},
     "output_type": "display_data"
    },
    {
     "data": {
      "text/html": [
       " View sweep at <a href='https://wandb.ai/barbonigiorgia-sapienza-universit-di-roma/graph-classification-graphs_sc/sweeps/5tx24pap' target=\"_blank\">https://wandb.ai/barbonigiorgia-sapienza-universit-di-roma/graph-classification-graphs_sc/sweeps/5tx24pap</a>"
      ],
      "text/plain": [
       "<IPython.core.display.HTML object>"
      ]
     },
     "metadata": {},
     "output_type": "display_data"
    },
    {
     "data": {
      "text/html": [
       " View run at <a href='https://wandb.ai/barbonigiorgia-sapienza-universit-di-roma/graph-classification-graphs_sc/runs/rd12pl16' target=\"_blank\">https://wandb.ai/barbonigiorgia-sapienza-universit-di-roma/graph-classification-graphs_sc/runs/rd12pl16</a>"
      ],
      "text/plain": [
       "<IPython.core.display.HTML object>"
      ]
     },
     "metadata": {},
     "output_type": "display_data"
    },
    {
     "name": "stdout",
     "output_type": "stream",
     "text": [
      "Running with config: {'batch_size': 16, 'in_channels': 6, 'learning_rate': 0.1, 'num_epochs': 5, 'num_heads': 1, 'optimizer': 'sgd', 'out_channels': 4, 'random_state': 42, 'test_size': 0.3, 'weight_decay': 0.0001}\n"
     ]
    },
    {
     "data": {
      "text/html": [
       "<style>\n",
       "    table.wandb td:nth-child(1) { padding: 0 10px; text-align: left ; width: auto;} td:nth-child(2) {text-align: left ; width: 100%}\n",
       "    .wandb-row { display: flex; flex-direction: row; flex-wrap: wrap; justify-content: flex-start; width: 100% }\n",
       "    .wandb-col { display: flex; flex-direction: column; flex-basis: 100%; flex: 1; padding: 10px; }\n",
       "    </style>\n",
       "<div class=\"wandb-row\"><div class=\"wandb-col\"><h3>Run history:</h3><br/><table class=\"wandb\"><tr><td>epoch</td><td>▁▃▅▆█</td></tr><tr><td>train_accuracy</td><td>█▁███</td></tr><tr><td>train_f1</td><td>▁█▁▁▁</td></tr><tr><td>train_loss</td><td>█▄▂▃▁</td></tr><tr><td>val_accuracy</td><td>▁▁▁▁▁</td></tr><tr><td>val_f1</td><td>▁▁▁▁▁</td></tr><tr><td>val_loss</td><td>▆█▂▁▁</td></tr></table><br/></div><div class=\"wandb-col\"><h3>Run summary:</h3><br/><table class=\"wandb\"><tr><td>epoch</td><td>5</td></tr><tr><td>train_accuracy</td><td>0.568</td></tr><tr><td>train_f1</td><td>0.41151</td></tr><tr><td>train_loss</td><td>0.67894</td></tr><tr><td>val_accuracy</td><td>0.55556</td></tr><tr><td>val_f1</td><td>0.39683</td></tr><tr><td>val_loss</td><td>0.67403</td></tr></table><br/></div></div>"
      ],
      "text/plain": [
       "<IPython.core.display.HTML object>"
      ]
     },
     "metadata": {},
     "output_type": "display_data"
    },
    {
     "data": {
      "text/html": [
       " View run <strong style=\"color:#cdcd00\">polar-sweep-42</strong> at: <a href='https://wandb.ai/barbonigiorgia-sapienza-universit-di-roma/graph-classification-graphs_sc/runs/rd12pl16' target=\"_blank\">https://wandb.ai/barbonigiorgia-sapienza-universit-di-roma/graph-classification-graphs_sc/runs/rd12pl16</a><br/> View project at: <a href='https://wandb.ai/barbonigiorgia-sapienza-universit-di-roma/graph-classification-graphs_sc' target=\"_blank\">https://wandb.ai/barbonigiorgia-sapienza-universit-di-roma/graph-classification-graphs_sc</a><br/>Synced 5 W&B file(s), 0 media file(s), 4 artifact file(s) and 0 other file(s)"
      ],
      "text/plain": [
       "<IPython.core.display.HTML object>"
      ]
     },
     "metadata": {},
     "output_type": "display_data"
    },
    {
     "data": {
      "text/html": [
       "Find logs at: <code>.\\wandb\\run-20241115_211700-rd12pl16\\logs</code>"
      ],
      "text/plain": [
       "<IPython.core.display.HTML object>"
      ]
     },
     "metadata": {},
     "output_type": "display_data"
    },
    {
     "name": "stderr",
     "output_type": "stream",
     "text": [
      "\u001b[34m\u001b[1mwandb\u001b[0m: Agent Starting Run: hlwek084 with config:\n",
      "\u001b[34m\u001b[1mwandb\u001b[0m: \tbatch_size: 32\n",
      "\u001b[34m\u001b[1mwandb\u001b[0m: \tin_channels: 6\n",
      "\u001b[34m\u001b[1mwandb\u001b[0m: \tlearning_rate: 0.001\n",
      "\u001b[34m\u001b[1mwandb\u001b[0m: \tnum_epochs: 5\n",
      "\u001b[34m\u001b[1mwandb\u001b[0m: \tnum_heads: 2\n",
      "\u001b[34m\u001b[1mwandb\u001b[0m: \toptimizer: adam\n",
      "\u001b[34m\u001b[1mwandb\u001b[0m: \tout_channels: 12\n",
      "\u001b[34m\u001b[1mwandb\u001b[0m: \trandom_state: 42\n",
      "\u001b[34m\u001b[1mwandb\u001b[0m: \ttest_size: 0.3\n",
      "\u001b[34m\u001b[1mwandb\u001b[0m: \tweight_decay: 1e-05\n"
     ]
    },
    {
     "data": {
      "text/html": [
       "Tracking run with wandb version 0.18.5"
      ],
      "text/plain": [
       "<IPython.core.display.HTML object>"
      ]
     },
     "metadata": {},
     "output_type": "display_data"
    },
    {
     "data": {
      "text/html": [
       "Run data is saved locally in <code>c:\\Users\\barbo\\brain classifier repo\\brain_classifier\\src\\wandb\\run-20241115_211717-hlwek084</code>"
      ],
      "text/plain": [
       "<IPython.core.display.HTML object>"
      ]
     },
     "metadata": {},
     "output_type": "display_data"
    },
    {
     "data": {
      "text/html": [
       "Syncing run <strong><a href='https://wandb.ai/barbonigiorgia-sapienza-universit-di-roma/graph-classification-graphs_sc/runs/hlwek084' target=\"_blank\">quiet-sweep-43</a></strong> to <a href='https://wandb.ai/barbonigiorgia-sapienza-universit-di-roma/graph-classification-graphs_sc' target=\"_blank\">Weights & Biases</a> (<a href='https://wandb.me/run' target=\"_blank\">docs</a>)<br/>Sweep page: <a href='https://wandb.ai/barbonigiorgia-sapienza-universit-di-roma/graph-classification-graphs_sc/sweeps/5tx24pap' target=\"_blank\">https://wandb.ai/barbonigiorgia-sapienza-universit-di-roma/graph-classification-graphs_sc/sweeps/5tx24pap</a>"
      ],
      "text/plain": [
       "<IPython.core.display.HTML object>"
      ]
     },
     "metadata": {},
     "output_type": "display_data"
    },
    {
     "data": {
      "text/html": [
       " View project at <a href='https://wandb.ai/barbonigiorgia-sapienza-universit-di-roma/graph-classification-graphs_sc' target=\"_blank\">https://wandb.ai/barbonigiorgia-sapienza-universit-di-roma/graph-classification-graphs_sc</a>"
      ],
      "text/plain": [
       "<IPython.core.display.HTML object>"
      ]
     },
     "metadata": {},
     "output_type": "display_data"
    },
    {
     "data": {
      "text/html": [
       " View sweep at <a href='https://wandb.ai/barbonigiorgia-sapienza-universit-di-roma/graph-classification-graphs_sc/sweeps/5tx24pap' target=\"_blank\">https://wandb.ai/barbonigiorgia-sapienza-universit-di-roma/graph-classification-graphs_sc/sweeps/5tx24pap</a>"
      ],
      "text/plain": [
       "<IPython.core.display.HTML object>"
      ]
     },
     "metadata": {},
     "output_type": "display_data"
    },
    {
     "data": {
      "text/html": [
       " View run at <a href='https://wandb.ai/barbonigiorgia-sapienza-universit-di-roma/graph-classification-graphs_sc/runs/hlwek084' target=\"_blank\">https://wandb.ai/barbonigiorgia-sapienza-universit-di-roma/graph-classification-graphs_sc/runs/hlwek084</a>"
      ],
      "text/plain": [
       "<IPython.core.display.HTML object>"
      ]
     },
     "metadata": {},
     "output_type": "display_data"
    },
    {
     "name": "stdout",
     "output_type": "stream",
     "text": [
      "Running with config: {'batch_size': 32, 'in_channels': 6, 'learning_rate': 0.001, 'num_epochs': 5, 'num_heads': 2, 'optimizer': 'adam', 'out_channels': 12, 'random_state': 42, 'test_size': 0.3, 'weight_decay': 1e-05}\n"
     ]
    },
    {
     "data": {
      "text/html": [
       "<style>\n",
       "    table.wandb td:nth-child(1) { padding: 0 10px; text-align: left ; width: auto;} td:nth-child(2) {text-align: left ; width: 100%}\n",
       "    .wandb-row { display: flex; flex-direction: row; flex-wrap: wrap; justify-content: flex-start; width: 100% }\n",
       "    .wandb-col { display: flex; flex-direction: column; flex-basis: 100%; flex: 1; padding: 10px; }\n",
       "    </style>\n",
       "<div class=\"wandb-row\"><div class=\"wandb-col\"><h3>Run history:</h3><br/><table class=\"wandb\"><tr><td>epoch</td><td>▁▃▅▆█</td></tr><tr><td>train_accuracy</td><td>▁▁▁▁▁</td></tr><tr><td>train_f1</td><td>▁▁▁▁▁</td></tr><tr><td>train_loss</td><td>█▆▄▂▁</td></tr><tr><td>val_accuracy</td><td>▁▁▁▁▁</td></tr><tr><td>val_f1</td><td>▁▁▁▁▁</td></tr><tr><td>val_loss</td><td>█▆▄▃▁</td></tr></table><br/></div><div class=\"wandb-col\"><h3>Run summary:</h3><br/><table class=\"wandb\"><tr><td>epoch</td><td>5</td></tr><tr><td>train_accuracy</td><td>0.432</td></tr><tr><td>train_f1</td><td>0.26065</td></tr><tr><td>train_loss</td><td>0.69202</td></tr><tr><td>val_accuracy</td><td>0.44444</td></tr><tr><td>val_f1</td><td>0.2735</td></tr><tr><td>val_loss</td><td>0.68953</td></tr></table><br/></div></div>"
      ],
      "text/plain": [
       "<IPython.core.display.HTML object>"
      ]
     },
     "metadata": {},
     "output_type": "display_data"
    },
    {
     "data": {
      "text/html": [
       " View run <strong style=\"color:#cdcd00\">quiet-sweep-43</strong> at: <a href='https://wandb.ai/barbonigiorgia-sapienza-universit-di-roma/graph-classification-graphs_sc/runs/hlwek084' target=\"_blank\">https://wandb.ai/barbonigiorgia-sapienza-universit-di-roma/graph-classification-graphs_sc/runs/hlwek084</a><br/> View project at: <a href='https://wandb.ai/barbonigiorgia-sapienza-universit-di-roma/graph-classification-graphs_sc' target=\"_blank\">https://wandb.ai/barbonigiorgia-sapienza-universit-di-roma/graph-classification-graphs_sc</a><br/>Synced 5 W&B file(s), 0 media file(s), 2 artifact file(s) and 0 other file(s)"
      ],
      "text/plain": [
       "<IPython.core.display.HTML object>"
      ]
     },
     "metadata": {},
     "output_type": "display_data"
    },
    {
     "data": {
      "text/html": [
       "Find logs at: <code>.\\wandb\\run-20241115_211717-hlwek084\\logs</code>"
      ],
      "text/plain": [
       "<IPython.core.display.HTML object>"
      ]
     },
     "metadata": {},
     "output_type": "display_data"
    },
    {
     "name": "stderr",
     "output_type": "stream",
     "text": [
      "\u001b[34m\u001b[1mwandb\u001b[0m: Agent Starting Run: prstqklm with config:\n",
      "\u001b[34m\u001b[1mwandb\u001b[0m: \tbatch_size: 16\n",
      "\u001b[34m\u001b[1mwandb\u001b[0m: \tin_channels: 6\n",
      "\u001b[34m\u001b[1mwandb\u001b[0m: \tlearning_rate: 0.001\n",
      "\u001b[34m\u001b[1mwandb\u001b[0m: \tnum_epochs: 5\n",
      "\u001b[34m\u001b[1mwandb\u001b[0m: \tnum_heads: 4\n",
      "\u001b[34m\u001b[1mwandb\u001b[0m: \toptimizer: adam\n",
      "\u001b[34m\u001b[1mwandb\u001b[0m: \tout_channels: 8\n",
      "\u001b[34m\u001b[1mwandb\u001b[0m: \trandom_state: 42\n",
      "\u001b[34m\u001b[1mwandb\u001b[0m: \ttest_size: 0.3\n",
      "\u001b[34m\u001b[1mwandb\u001b[0m: \tweight_decay: 0\n"
     ]
    },
    {
     "data": {
      "text/html": [
       "Tracking run with wandb version 0.18.5"
      ],
      "text/plain": [
       "<IPython.core.display.HTML object>"
      ]
     },
     "metadata": {},
     "output_type": "display_data"
    },
    {
     "data": {
      "text/html": [
       "Run data is saved locally in <code>c:\\Users\\barbo\\brain classifier repo\\brain_classifier\\src\\wandb\\run-20241115_211732-prstqklm</code>"
      ],
      "text/plain": [
       "<IPython.core.display.HTML object>"
      ]
     },
     "metadata": {},
     "output_type": "display_data"
    },
    {
     "data": {
      "text/html": [
       "Syncing run <strong><a href='https://wandb.ai/barbonigiorgia-sapienza-universit-di-roma/graph-classification-graphs_sc/runs/prstqklm' target=\"_blank\">rosy-sweep-44</a></strong> to <a href='https://wandb.ai/barbonigiorgia-sapienza-universit-di-roma/graph-classification-graphs_sc' target=\"_blank\">Weights & Biases</a> (<a href='https://wandb.me/run' target=\"_blank\">docs</a>)<br/>Sweep page: <a href='https://wandb.ai/barbonigiorgia-sapienza-universit-di-roma/graph-classification-graphs_sc/sweeps/5tx24pap' target=\"_blank\">https://wandb.ai/barbonigiorgia-sapienza-universit-di-roma/graph-classification-graphs_sc/sweeps/5tx24pap</a>"
      ],
      "text/plain": [
       "<IPython.core.display.HTML object>"
      ]
     },
     "metadata": {},
     "output_type": "display_data"
    },
    {
     "data": {
      "text/html": [
       " View project at <a href='https://wandb.ai/barbonigiorgia-sapienza-universit-di-roma/graph-classification-graphs_sc' target=\"_blank\">https://wandb.ai/barbonigiorgia-sapienza-universit-di-roma/graph-classification-graphs_sc</a>"
      ],
      "text/plain": [
       "<IPython.core.display.HTML object>"
      ]
     },
     "metadata": {},
     "output_type": "display_data"
    },
    {
     "data": {
      "text/html": [
       " View sweep at <a href='https://wandb.ai/barbonigiorgia-sapienza-universit-di-roma/graph-classification-graphs_sc/sweeps/5tx24pap' target=\"_blank\">https://wandb.ai/barbonigiorgia-sapienza-universit-di-roma/graph-classification-graphs_sc/sweeps/5tx24pap</a>"
      ],
      "text/plain": [
       "<IPython.core.display.HTML object>"
      ]
     },
     "metadata": {},
     "output_type": "display_data"
    },
    {
     "data": {
      "text/html": [
       " View run at <a href='https://wandb.ai/barbonigiorgia-sapienza-universit-di-roma/graph-classification-graphs_sc/runs/prstqklm' target=\"_blank\">https://wandb.ai/barbonigiorgia-sapienza-universit-di-roma/graph-classification-graphs_sc/runs/prstqklm</a>"
      ],
      "text/plain": [
       "<IPython.core.display.HTML object>"
      ]
     },
     "metadata": {},
     "output_type": "display_data"
    },
    {
     "name": "stdout",
     "output_type": "stream",
     "text": [
      "Running with config: {'batch_size': 16, 'in_channels': 6, 'learning_rate': 0.001, 'num_epochs': 5, 'num_heads': 4, 'optimizer': 'adam', 'out_channels': 8, 'random_state': 42, 'test_size': 0.3, 'weight_decay': 0}\n"
     ]
    },
    {
     "data": {
      "text/html": [
       "<style>\n",
       "    table.wandb td:nth-child(1) { padding: 0 10px; text-align: left ; width: auto;} td:nth-child(2) {text-align: left ; width: 100%}\n",
       "    .wandb-row { display: flex; flex-direction: row; flex-wrap: wrap; justify-content: flex-start; width: 100% }\n",
       "    .wandb-col { display: flex; flex-direction: column; flex-basis: 100%; flex: 1; padding: 10px; }\n",
       "    </style>\n",
       "<div class=\"wandb-row\"><div class=\"wandb-col\"><h3>Run history:</h3><br/><table class=\"wandb\"><tr><td>epoch</td><td>▁▃▅▆█</td></tr><tr><td>train_accuracy</td><td>▁▁▃██</td></tr><tr><td>train_f1</td><td>▁▁▃██</td></tr><tr><td>train_loss</td><td>█▆▄▂▁</td></tr><tr><td>val_accuracy</td><td>▁▁▂▆█</td></tr><tr><td>val_f1</td><td>▁▁▃██</td></tr><tr><td>val_loss</td><td>█▆▄▂▁</td></tr></table><br/></div><div class=\"wandb-col\"><h3>Run summary:</h3><br/><table class=\"wandb\"><tr><td>epoch</td><td>5</td></tr><tr><td>train_accuracy</td><td>0.616</td></tr><tr><td>train_f1</td><td>0.59264</td></tr><tr><td>train_loss</td><td>0.6799</td></tr><tr><td>val_accuracy</td><td>0.66667</td></tr><tr><td>val_f1</td><td>0.60513</td></tr><tr><td>val_loss</td><td>0.67807</td></tr></table><br/></div></div>"
      ],
      "text/plain": [
       "<IPython.core.display.HTML object>"
      ]
     },
     "metadata": {},
     "output_type": "display_data"
    },
    {
     "data": {
      "text/html": [
       " View run <strong style=\"color:#cdcd00\">rosy-sweep-44</strong> at: <a href='https://wandb.ai/barbonigiorgia-sapienza-universit-di-roma/graph-classification-graphs_sc/runs/prstqklm' target=\"_blank\">https://wandb.ai/barbonigiorgia-sapienza-universit-di-roma/graph-classification-graphs_sc/runs/prstqklm</a><br/> View project at: <a href='https://wandb.ai/barbonigiorgia-sapienza-universit-di-roma/graph-classification-graphs_sc' target=\"_blank\">https://wandb.ai/barbonigiorgia-sapienza-universit-di-roma/graph-classification-graphs_sc</a><br/>Synced 5 W&B file(s), 0 media file(s), 10 artifact file(s) and 0 other file(s)"
      ],
      "text/plain": [
       "<IPython.core.display.HTML object>"
      ]
     },
     "metadata": {},
     "output_type": "display_data"
    },
    {
     "data": {
      "text/html": [
       "Find logs at: <code>.\\wandb\\run-20241115_211732-prstqklm\\logs</code>"
      ],
      "text/plain": [
       "<IPython.core.display.HTML object>"
      ]
     },
     "metadata": {},
     "output_type": "display_data"
    },
    {
     "name": "stderr",
     "output_type": "stream",
     "text": [
      "\u001b[34m\u001b[1mwandb\u001b[0m: Agent Starting Run: wsln3wln with config:\n",
      "\u001b[34m\u001b[1mwandb\u001b[0m: \tbatch_size: 32\n",
      "\u001b[34m\u001b[1mwandb\u001b[0m: \tin_channels: 6\n",
      "\u001b[34m\u001b[1mwandb\u001b[0m: \tlearning_rate: 0.1\n",
      "\u001b[34m\u001b[1mwandb\u001b[0m: \tnum_epochs: 5\n",
      "\u001b[34m\u001b[1mwandb\u001b[0m: \tnum_heads: 1\n",
      "\u001b[34m\u001b[1mwandb\u001b[0m: \toptimizer: adam\n",
      "\u001b[34m\u001b[1mwandb\u001b[0m: \tout_channels: 8\n",
      "\u001b[34m\u001b[1mwandb\u001b[0m: \trandom_state: 42\n",
      "\u001b[34m\u001b[1mwandb\u001b[0m: \ttest_size: 0.3\n",
      "\u001b[34m\u001b[1mwandb\u001b[0m: \tweight_decay: 1e-05\n"
     ]
    },
    {
     "data": {
      "text/html": [
       "Tracking run with wandb version 0.18.5"
      ],
      "text/plain": [
       "<IPython.core.display.HTML object>"
      ]
     },
     "metadata": {},
     "output_type": "display_data"
    },
    {
     "data": {
      "text/html": [
       "Run data is saved locally in <code>c:\\Users\\barbo\\brain classifier repo\\brain_classifier\\src\\wandb\\run-20241115_211804-wsln3wln</code>"
      ],
      "text/plain": [
       "<IPython.core.display.HTML object>"
      ]
     },
     "metadata": {},
     "output_type": "display_data"
    },
    {
     "data": {
      "text/html": [
       "Syncing run <strong><a href='https://wandb.ai/barbonigiorgia-sapienza-universit-di-roma/graph-classification-graphs_sc/runs/wsln3wln' target=\"_blank\">drawn-sweep-45</a></strong> to <a href='https://wandb.ai/barbonigiorgia-sapienza-universit-di-roma/graph-classification-graphs_sc' target=\"_blank\">Weights & Biases</a> (<a href='https://wandb.me/run' target=\"_blank\">docs</a>)<br/>Sweep page: <a href='https://wandb.ai/barbonigiorgia-sapienza-universit-di-roma/graph-classification-graphs_sc/sweeps/5tx24pap' target=\"_blank\">https://wandb.ai/barbonigiorgia-sapienza-universit-di-roma/graph-classification-graphs_sc/sweeps/5tx24pap</a>"
      ],
      "text/plain": [
       "<IPython.core.display.HTML object>"
      ]
     },
     "metadata": {},
     "output_type": "display_data"
    },
    {
     "data": {
      "text/html": [
       " View project at <a href='https://wandb.ai/barbonigiorgia-sapienza-universit-di-roma/graph-classification-graphs_sc' target=\"_blank\">https://wandb.ai/barbonigiorgia-sapienza-universit-di-roma/graph-classification-graphs_sc</a>"
      ],
      "text/plain": [
       "<IPython.core.display.HTML object>"
      ]
     },
     "metadata": {},
     "output_type": "display_data"
    },
    {
     "data": {
      "text/html": [
       " View sweep at <a href='https://wandb.ai/barbonigiorgia-sapienza-universit-di-roma/graph-classification-graphs_sc/sweeps/5tx24pap' target=\"_blank\">https://wandb.ai/barbonigiorgia-sapienza-universit-di-roma/graph-classification-graphs_sc/sweeps/5tx24pap</a>"
      ],
      "text/plain": [
       "<IPython.core.display.HTML object>"
      ]
     },
     "metadata": {},
     "output_type": "display_data"
    },
    {
     "data": {
      "text/html": [
       " View run at <a href='https://wandb.ai/barbonigiorgia-sapienza-universit-di-roma/graph-classification-graphs_sc/runs/wsln3wln' target=\"_blank\">https://wandb.ai/barbonigiorgia-sapienza-universit-di-roma/graph-classification-graphs_sc/runs/wsln3wln</a>"
      ],
      "text/plain": [
       "<IPython.core.display.HTML object>"
      ]
     },
     "metadata": {},
     "output_type": "display_data"
    },
    {
     "name": "stdout",
     "output_type": "stream",
     "text": [
      "Running with config: {'batch_size': 32, 'in_channels': 6, 'learning_rate': 0.1, 'num_epochs': 5, 'num_heads': 1, 'optimizer': 'adam', 'out_channels': 8, 'random_state': 42, 'test_size': 0.3, 'weight_decay': 1e-05}\n"
     ]
    },
    {
     "data": {
      "text/html": [
       "<style>\n",
       "    table.wandb td:nth-child(1) { padding: 0 10px; text-align: left ; width: auto;} td:nth-child(2) {text-align: left ; width: 100%}\n",
       "    .wandb-row { display: flex; flex-direction: row; flex-wrap: wrap; justify-content: flex-start; width: 100% }\n",
       "    .wandb-col { display: flex; flex-direction: column; flex-basis: 100%; flex: 1; padding: 10px; }\n",
       "    </style>\n",
       "<div class=\"wandb-row\"><div class=\"wandb-col\"><h3>Run history:</h3><br/><table class=\"wandb\"><tr><td>epoch</td><td>▁▃▅▆█</td></tr><tr><td>train_accuracy</td><td>▁▇██▇</td></tr><tr><td>train_f1</td><td>▁███▇</td></tr><tr><td>train_loss</td><td>█▅▃▁▃</td></tr><tr><td>val_accuracy</td><td>▁▁█▆▆</td></tr><tr><td>val_f1</td><td>▁▂█▆▆</td></tr><tr><td>val_loss</td><td>█▆▃▂▁</td></tr></table><br/></div><div class=\"wandb-col\"><h3>Run summary:</h3><br/><table class=\"wandb\"><tr><td>epoch</td><td>5</td></tr><tr><td>train_accuracy</td><td>0.712</td></tr><tr><td>train_f1</td><td>0.71041</td></tr><tr><td>train_loss</td><td>0.55341</td></tr><tr><td>val_accuracy</td><td>0.77778</td></tr><tr><td>val_f1</td><td>0.77462</td></tr><tr><td>val_loss</td><td>0.42433</td></tr></table><br/></div></div>"
      ],
      "text/plain": [
       "<IPython.core.display.HTML object>"
      ]
     },
     "metadata": {},
     "output_type": "display_data"
    },
    {
     "data": {
      "text/html": [
       " View run <strong style=\"color:#cdcd00\">drawn-sweep-45</strong> at: <a href='https://wandb.ai/barbonigiorgia-sapienza-universit-di-roma/graph-classification-graphs_sc/runs/wsln3wln' target=\"_blank\">https://wandb.ai/barbonigiorgia-sapienza-universit-di-roma/graph-classification-graphs_sc/runs/wsln3wln</a><br/> View project at: <a href='https://wandb.ai/barbonigiorgia-sapienza-universit-di-roma/graph-classification-graphs_sc' target=\"_blank\">https://wandb.ai/barbonigiorgia-sapienza-universit-di-roma/graph-classification-graphs_sc</a><br/>Synced 5 W&B file(s), 0 media file(s), 6 artifact file(s) and 0 other file(s)"
      ],
      "text/plain": [
       "<IPython.core.display.HTML object>"
      ]
     },
     "metadata": {},
     "output_type": "display_data"
    },
    {
     "data": {
      "text/html": [
       "Find logs at: <code>.\\wandb\\run-20241115_211804-wsln3wln\\logs</code>"
      ],
      "text/plain": [
       "<IPython.core.display.HTML object>"
      ]
     },
     "metadata": {},
     "output_type": "display_data"
    },
    {
     "name": "stderr",
     "output_type": "stream",
     "text": [
      "\u001b[34m\u001b[1mwandb\u001b[0m: Agent Starting Run: o0pughig with config:\n",
      "\u001b[34m\u001b[1mwandb\u001b[0m: \tbatch_size: 32\n",
      "\u001b[34m\u001b[1mwandb\u001b[0m: \tin_channels: 6\n",
      "\u001b[34m\u001b[1mwandb\u001b[0m: \tlearning_rate: 0.001\n",
      "\u001b[34m\u001b[1mwandb\u001b[0m: \tnum_epochs: 5\n",
      "\u001b[34m\u001b[1mwandb\u001b[0m: \tnum_heads: 3\n",
      "\u001b[34m\u001b[1mwandb\u001b[0m: \toptimizer: sgd\n",
      "\u001b[34m\u001b[1mwandb\u001b[0m: \tout_channels: 8\n",
      "\u001b[34m\u001b[1mwandb\u001b[0m: \trandom_state: 42\n",
      "\u001b[34m\u001b[1mwandb\u001b[0m: \ttest_size: 0.3\n",
      "\u001b[34m\u001b[1mwandb\u001b[0m: \tweight_decay: 0\n"
     ]
    },
    {
     "data": {
      "text/html": [
       "Tracking run with wandb version 0.18.5"
      ],
      "text/plain": [
       "<IPython.core.display.HTML object>"
      ]
     },
     "metadata": {},
     "output_type": "display_data"
    },
    {
     "data": {
      "text/html": [
       "Run data is saved locally in <code>c:\\Users\\barbo\\brain classifier repo\\brain_classifier\\src\\wandb\\run-20241115_211820-o0pughig</code>"
      ],
      "text/plain": [
       "<IPython.core.display.HTML object>"
      ]
     },
     "metadata": {},
     "output_type": "display_data"
    },
    {
     "data": {
      "text/html": [
       "Syncing run <strong><a href='https://wandb.ai/barbonigiorgia-sapienza-universit-di-roma/graph-classification-graphs_sc/runs/o0pughig' target=\"_blank\">charmed-sweep-46</a></strong> to <a href='https://wandb.ai/barbonigiorgia-sapienza-universit-di-roma/graph-classification-graphs_sc' target=\"_blank\">Weights & Biases</a> (<a href='https://wandb.me/run' target=\"_blank\">docs</a>)<br/>Sweep page: <a href='https://wandb.ai/barbonigiorgia-sapienza-universit-di-roma/graph-classification-graphs_sc/sweeps/5tx24pap' target=\"_blank\">https://wandb.ai/barbonigiorgia-sapienza-universit-di-roma/graph-classification-graphs_sc/sweeps/5tx24pap</a>"
      ],
      "text/plain": [
       "<IPython.core.display.HTML object>"
      ]
     },
     "metadata": {},
     "output_type": "display_data"
    },
    {
     "data": {
      "text/html": [
       " View project at <a href='https://wandb.ai/barbonigiorgia-sapienza-universit-di-roma/graph-classification-graphs_sc' target=\"_blank\">https://wandb.ai/barbonigiorgia-sapienza-universit-di-roma/graph-classification-graphs_sc</a>"
      ],
      "text/plain": [
       "<IPython.core.display.HTML object>"
      ]
     },
     "metadata": {},
     "output_type": "display_data"
    },
    {
     "data": {
      "text/html": [
       " View sweep at <a href='https://wandb.ai/barbonigiorgia-sapienza-universit-di-roma/graph-classification-graphs_sc/sweeps/5tx24pap' target=\"_blank\">https://wandb.ai/barbonigiorgia-sapienza-universit-di-roma/graph-classification-graphs_sc/sweeps/5tx24pap</a>"
      ],
      "text/plain": [
       "<IPython.core.display.HTML object>"
      ]
     },
     "metadata": {},
     "output_type": "display_data"
    },
    {
     "data": {
      "text/html": [
       " View run at <a href='https://wandb.ai/barbonigiorgia-sapienza-universit-di-roma/graph-classification-graphs_sc/runs/o0pughig' target=\"_blank\">https://wandb.ai/barbonigiorgia-sapienza-universit-di-roma/graph-classification-graphs_sc/runs/o0pughig</a>"
      ],
      "text/plain": [
       "<IPython.core.display.HTML object>"
      ]
     },
     "metadata": {},
     "output_type": "display_data"
    },
    {
     "name": "stdout",
     "output_type": "stream",
     "text": [
      "Running with config: {'batch_size': 32, 'in_channels': 6, 'learning_rate': 0.001, 'num_epochs': 5, 'num_heads': 3, 'optimizer': 'sgd', 'out_channels': 8, 'random_state': 42, 'test_size': 0.3, 'weight_decay': 0}\n"
     ]
    },
    {
     "data": {
      "text/html": [
       "<style>\n",
       "    table.wandb td:nth-child(1) { padding: 0 10px; text-align: left ; width: auto;} td:nth-child(2) {text-align: left ; width: 100%}\n",
       "    .wandb-row { display: flex; flex-direction: row; flex-wrap: wrap; justify-content: flex-start; width: 100% }\n",
       "    .wandb-col { display: flex; flex-direction: column; flex-basis: 100%; flex: 1; padding: 10px; }\n",
       "    </style>\n",
       "<div class=\"wandb-row\"><div class=\"wandb-col\"><h3>Run history:</h3><br/><table class=\"wandb\"><tr><td>epoch</td><td>▁▃▅▆█</td></tr><tr><td>train_accuracy</td><td>▁▁▁▁▁</td></tr><tr><td>train_f1</td><td>▁▁▁▁▁</td></tr><tr><td>train_loss</td><td>█▆▅▃▁</td></tr><tr><td>val_accuracy</td><td>▁▁▁▁▁</td></tr><tr><td>val_f1</td><td>▁▁▁▁▁</td></tr><tr><td>val_loss</td><td>█▇▅▃▁</td></tr></table><br/></div><div class=\"wandb-col\"><h3>Run summary:</h3><br/><table class=\"wandb\"><tr><td>epoch</td><td>5</td></tr><tr><td>train_accuracy</td><td>0.432</td></tr><tr><td>train_f1</td><td>0.26065</td></tr><tr><td>train_loss</td><td>0.70185</td></tr><tr><td>val_accuracy</td><td>0.44444</td></tr><tr><td>val_f1</td><td>0.2735</td></tr><tr><td>val_loss</td><td>0.70092</td></tr></table><br/></div></div>"
      ],
      "text/plain": [
       "<IPython.core.display.HTML object>"
      ]
     },
     "metadata": {},
     "output_type": "display_data"
    },
    {
     "data": {
      "text/html": [
       " View run <strong style=\"color:#cdcd00\">charmed-sweep-46</strong> at: <a href='https://wandb.ai/barbonigiorgia-sapienza-universit-di-roma/graph-classification-graphs_sc/runs/o0pughig' target=\"_blank\">https://wandb.ai/barbonigiorgia-sapienza-universit-di-roma/graph-classification-graphs_sc/runs/o0pughig</a><br/> View project at: <a href='https://wandb.ai/barbonigiorgia-sapienza-universit-di-roma/graph-classification-graphs_sc' target=\"_blank\">https://wandb.ai/barbonigiorgia-sapienza-universit-di-roma/graph-classification-graphs_sc</a><br/>Synced 5 W&B file(s), 0 media file(s), 4 artifact file(s) and 0 other file(s)"
      ],
      "text/plain": [
       "<IPython.core.display.HTML object>"
      ]
     },
     "metadata": {},
     "output_type": "display_data"
    },
    {
     "data": {
      "text/html": [
       "Find logs at: <code>.\\wandb\\run-20241115_211820-o0pughig\\logs</code>"
      ],
      "text/plain": [
       "<IPython.core.display.HTML object>"
      ]
     },
     "metadata": {},
     "output_type": "display_data"
    },
    {
     "name": "stderr",
     "output_type": "stream",
     "text": [
      "\u001b[34m\u001b[1mwandb\u001b[0m: Agent Starting Run: 4p7f901h with config:\n",
      "\u001b[34m\u001b[1mwandb\u001b[0m: \tbatch_size: 32\n",
      "\u001b[34m\u001b[1mwandb\u001b[0m: \tin_channels: 6\n",
      "\u001b[34m\u001b[1mwandb\u001b[0m: \tlearning_rate: 0.1\n",
      "\u001b[34m\u001b[1mwandb\u001b[0m: \tnum_epochs: 5\n",
      "\u001b[34m\u001b[1mwandb\u001b[0m: \tnum_heads: 2\n",
      "\u001b[34m\u001b[1mwandb\u001b[0m: \toptimizer: adam\n",
      "\u001b[34m\u001b[1mwandb\u001b[0m: \tout_channels: 8\n",
      "\u001b[34m\u001b[1mwandb\u001b[0m: \trandom_state: 42\n",
      "\u001b[34m\u001b[1mwandb\u001b[0m: \ttest_size: 0.3\n",
      "\u001b[34m\u001b[1mwandb\u001b[0m: \tweight_decay: 0\n"
     ]
    },
    {
     "data": {
      "text/html": [
       "Tracking run with wandb version 0.18.5"
      ],
      "text/plain": [
       "<IPython.core.display.HTML object>"
      ]
     },
     "metadata": {},
     "output_type": "display_data"
    },
    {
     "data": {
      "text/html": [
       "Run data is saved locally in <code>c:\\Users\\barbo\\brain classifier repo\\brain_classifier\\src\\wandb\\run-20241115_211841-4p7f901h</code>"
      ],
      "text/plain": [
       "<IPython.core.display.HTML object>"
      ]
     },
     "metadata": {},
     "output_type": "display_data"
    },
    {
     "data": {
      "text/html": [
       "Syncing run <strong><a href='https://wandb.ai/barbonigiorgia-sapienza-universit-di-roma/graph-classification-graphs_sc/runs/4p7f901h' target=\"_blank\">mild-sweep-47</a></strong> to <a href='https://wandb.ai/barbonigiorgia-sapienza-universit-di-roma/graph-classification-graphs_sc' target=\"_blank\">Weights & Biases</a> (<a href='https://wandb.me/run' target=\"_blank\">docs</a>)<br/>Sweep page: <a href='https://wandb.ai/barbonigiorgia-sapienza-universit-di-roma/graph-classification-graphs_sc/sweeps/5tx24pap' target=\"_blank\">https://wandb.ai/barbonigiorgia-sapienza-universit-di-roma/graph-classification-graphs_sc/sweeps/5tx24pap</a>"
      ],
      "text/plain": [
       "<IPython.core.display.HTML object>"
      ]
     },
     "metadata": {},
     "output_type": "display_data"
    },
    {
     "data": {
      "text/html": [
       " View project at <a href='https://wandb.ai/barbonigiorgia-sapienza-universit-di-roma/graph-classification-graphs_sc' target=\"_blank\">https://wandb.ai/barbonigiorgia-sapienza-universit-di-roma/graph-classification-graphs_sc</a>"
      ],
      "text/plain": [
       "<IPython.core.display.HTML object>"
      ]
     },
     "metadata": {},
     "output_type": "display_data"
    },
    {
     "data": {
      "text/html": [
       " View sweep at <a href='https://wandb.ai/barbonigiorgia-sapienza-universit-di-roma/graph-classification-graphs_sc/sweeps/5tx24pap' target=\"_blank\">https://wandb.ai/barbonigiorgia-sapienza-universit-di-roma/graph-classification-graphs_sc/sweeps/5tx24pap</a>"
      ],
      "text/plain": [
       "<IPython.core.display.HTML object>"
      ]
     },
     "metadata": {},
     "output_type": "display_data"
    },
    {
     "data": {
      "text/html": [
       " View run at <a href='https://wandb.ai/barbonigiorgia-sapienza-universit-di-roma/graph-classification-graphs_sc/runs/4p7f901h' target=\"_blank\">https://wandb.ai/barbonigiorgia-sapienza-universit-di-roma/graph-classification-graphs_sc/runs/4p7f901h</a>"
      ],
      "text/plain": [
       "<IPython.core.display.HTML object>"
      ]
     },
     "metadata": {},
     "output_type": "display_data"
    },
    {
     "name": "stdout",
     "output_type": "stream",
     "text": [
      "Running with config: {'batch_size': 32, 'in_channels': 6, 'learning_rate': 0.1, 'num_epochs': 5, 'num_heads': 2, 'optimizer': 'adam', 'out_channels': 8, 'random_state': 42, 'test_size': 0.3, 'weight_decay': 0}\n"
     ]
    },
    {
     "data": {
      "text/html": [
       "<style>\n",
       "    table.wandb td:nth-child(1) { padding: 0 10px; text-align: left ; width: auto;} td:nth-child(2) {text-align: left ; width: 100%}\n",
       "    .wandb-row { display: flex; flex-direction: row; flex-wrap: wrap; justify-content: flex-start; width: 100% }\n",
       "    .wandb-col { display: flex; flex-direction: column; flex-basis: 100%; flex: 1; padding: 10px; }\n",
       "    </style>\n",
       "<div class=\"wandb-row\"><div class=\"wandb-col\"><h3>Run history:</h3><br/><table class=\"wandb\"><tr><td>epoch</td><td>▁▃▅▆█</td></tr><tr><td>train_accuracy</td><td>▁█▇█▆</td></tr><tr><td>train_f1</td><td>▁███▇</td></tr><tr><td>train_loss</td><td>█▄▁▁▃</td></tr><tr><td>val_accuracy</td><td>█▆█▁▆</td></tr><tr><td>val_f1</td><td>█▆█▁▆</td></tr><tr><td>val_loss</td><td>█▄▁▃▁</td></tr></table><br/></div><div class=\"wandb-col\"><h3>Run summary:</h3><br/><table class=\"wandb\"><tr><td>epoch</td><td>5</td></tr><tr><td>train_accuracy</td><td>0.712</td></tr><tr><td>train_f1</td><td>0.71041</td></tr><tr><td>train_loss</td><td>0.57099</td></tr><tr><td>val_accuracy</td><td>0.77778</td></tr><tr><td>val_f1</td><td>0.77462</td></tr><tr><td>val_loss</td><td>0.43952</td></tr></table><br/></div></div>"
      ],
      "text/plain": [
       "<IPython.core.display.HTML object>"
      ]
     },
     "metadata": {},
     "output_type": "display_data"
    },
    {
     "data": {
      "text/html": [
       " View run <strong style=\"color:#cdcd00\">mild-sweep-47</strong> at: <a href='https://wandb.ai/barbonigiorgia-sapienza-universit-di-roma/graph-classification-graphs_sc/runs/4p7f901h' target=\"_blank\">https://wandb.ai/barbonigiorgia-sapienza-universit-di-roma/graph-classification-graphs_sc/runs/4p7f901h</a><br/> View project at: <a href='https://wandb.ai/barbonigiorgia-sapienza-universit-di-roma/graph-classification-graphs_sc' target=\"_blank\">https://wandb.ai/barbonigiorgia-sapienza-universit-di-roma/graph-classification-graphs_sc</a><br/>Synced 5 W&B file(s), 0 media file(s), 4 artifact file(s) and 0 other file(s)"
      ],
      "text/plain": [
       "<IPython.core.display.HTML object>"
      ]
     },
     "metadata": {},
     "output_type": "display_data"
    },
    {
     "data": {
      "text/html": [
       "Find logs at: <code>.\\wandb\\run-20241115_211841-4p7f901h\\logs</code>"
      ],
      "text/plain": [
       "<IPython.core.display.HTML object>"
      ]
     },
     "metadata": {},
     "output_type": "display_data"
    },
    {
     "name": "stderr",
     "output_type": "stream",
     "text": [
      "\u001b[34m\u001b[1mwandb\u001b[0m: Agent Starting Run: 79drs3cn with config:\n",
      "\u001b[34m\u001b[1mwandb\u001b[0m: \tbatch_size: 16\n",
      "\u001b[34m\u001b[1mwandb\u001b[0m: \tin_channels: 6\n",
      "\u001b[34m\u001b[1mwandb\u001b[0m: \tlearning_rate: 0.0001\n",
      "\u001b[34m\u001b[1mwandb\u001b[0m: \tnum_epochs: 5\n",
      "\u001b[34m\u001b[1mwandb\u001b[0m: \tnum_heads: 1\n",
      "\u001b[34m\u001b[1mwandb\u001b[0m: \toptimizer: sgd\n",
      "\u001b[34m\u001b[1mwandb\u001b[0m: \tout_channels: 8\n",
      "\u001b[34m\u001b[1mwandb\u001b[0m: \trandom_state: 42\n",
      "\u001b[34m\u001b[1mwandb\u001b[0m: \ttest_size: 0.3\n",
      "\u001b[34m\u001b[1mwandb\u001b[0m: \tweight_decay: 1e-05\n"
     ]
    },
    {
     "data": {
      "text/html": [
       "Tracking run with wandb version 0.18.5"
      ],
      "text/plain": [
       "<IPython.core.display.HTML object>"
      ]
     },
     "metadata": {},
     "output_type": "display_data"
    },
    {
     "data": {
      "text/html": [
       "Run data is saved locally in <code>c:\\Users\\barbo\\brain classifier repo\\brain_classifier\\src\\wandb\\run-20241115_211857-79drs3cn</code>"
      ],
      "text/plain": [
       "<IPython.core.display.HTML object>"
      ]
     },
     "metadata": {},
     "output_type": "display_data"
    },
    {
     "data": {
      "text/html": [
       "Syncing run <strong><a href='https://wandb.ai/barbonigiorgia-sapienza-universit-di-roma/graph-classification-graphs_sc/runs/79drs3cn' target=\"_blank\">generous-sweep-48</a></strong> to <a href='https://wandb.ai/barbonigiorgia-sapienza-universit-di-roma/graph-classification-graphs_sc' target=\"_blank\">Weights & Biases</a> (<a href='https://wandb.me/run' target=\"_blank\">docs</a>)<br/>Sweep page: <a href='https://wandb.ai/barbonigiorgia-sapienza-universit-di-roma/graph-classification-graphs_sc/sweeps/5tx24pap' target=\"_blank\">https://wandb.ai/barbonigiorgia-sapienza-universit-di-roma/graph-classification-graphs_sc/sweeps/5tx24pap</a>"
      ],
      "text/plain": [
       "<IPython.core.display.HTML object>"
      ]
     },
     "metadata": {},
     "output_type": "display_data"
    },
    {
     "data": {
      "text/html": [
       " View project at <a href='https://wandb.ai/barbonigiorgia-sapienza-universit-di-roma/graph-classification-graphs_sc' target=\"_blank\">https://wandb.ai/barbonigiorgia-sapienza-universit-di-roma/graph-classification-graphs_sc</a>"
      ],
      "text/plain": [
       "<IPython.core.display.HTML object>"
      ]
     },
     "metadata": {},
     "output_type": "display_data"
    },
    {
     "data": {
      "text/html": [
       " View sweep at <a href='https://wandb.ai/barbonigiorgia-sapienza-universit-di-roma/graph-classification-graphs_sc/sweeps/5tx24pap' target=\"_blank\">https://wandb.ai/barbonigiorgia-sapienza-universit-di-roma/graph-classification-graphs_sc/sweeps/5tx24pap</a>"
      ],
      "text/plain": [
       "<IPython.core.display.HTML object>"
      ]
     },
     "metadata": {},
     "output_type": "display_data"
    },
    {
     "data": {
      "text/html": [
       " View run at <a href='https://wandb.ai/barbonigiorgia-sapienza-universit-di-roma/graph-classification-graphs_sc/runs/79drs3cn' target=\"_blank\">https://wandb.ai/barbonigiorgia-sapienza-universit-di-roma/graph-classification-graphs_sc/runs/79drs3cn</a>"
      ],
      "text/plain": [
       "<IPython.core.display.HTML object>"
      ]
     },
     "metadata": {},
     "output_type": "display_data"
    },
    {
     "name": "stdout",
     "output_type": "stream",
     "text": [
      "Running with config: {'batch_size': 16, 'in_channels': 6, 'learning_rate': 0.0001, 'num_epochs': 5, 'num_heads': 1, 'optimizer': 'sgd', 'out_channels': 8, 'random_state': 42, 'test_size': 0.3, 'weight_decay': 1e-05}\n"
     ]
    },
    {
     "data": {
      "text/html": [
       "<style>\n",
       "    table.wandb td:nth-child(1) { padding: 0 10px; text-align: left ; width: auto;} td:nth-child(2) {text-align: left ; width: 100%}\n",
       "    .wandb-row { display: flex; flex-direction: row; flex-wrap: wrap; justify-content: flex-start; width: 100% }\n",
       "    .wandb-col { display: flex; flex-direction: column; flex-basis: 100%; flex: 1; padding: 10px; }\n",
       "    </style>\n",
       "<div class=\"wandb-row\"><div class=\"wandb-col\"><h3>Run history:</h3><br/><table class=\"wandb\"><tr><td>epoch</td><td>▁▃▅▆█</td></tr><tr><td>train_accuracy</td><td>▁▁▁▁▁</td></tr><tr><td>train_f1</td><td>▁▁▁▁▁</td></tr><tr><td>train_loss</td><td>█▇▁▇▅</td></tr><tr><td>val_accuracy</td><td>▁▁▁▁▁</td></tr><tr><td>val_f1</td><td>▁▁▁▁▁</td></tr><tr><td>val_loss</td><td>█▇▅▃▁</td></tr></table><br/></div><div class=\"wandb-col\"><h3>Run summary:</h3><br/><table class=\"wandb\"><tr><td>epoch</td><td>5</td></tr><tr><td>train_accuracy</td><td>0.6</td></tr><tr><td>train_f1</td><td>0.47967</td></tr><tr><td>train_loss</td><td>0.67419</td></tr><tr><td>val_accuracy</td><td>0.66667</td></tr><tr><td>val_f1</td><td>0.60513</td></tr><tr><td>val_loss</td><td>0.67443</td></tr></table><br/></div></div>"
      ],
      "text/plain": [
       "<IPython.core.display.HTML object>"
      ]
     },
     "metadata": {},
     "output_type": "display_data"
    },
    {
     "data": {
      "text/html": [
       " View run <strong style=\"color:#cdcd00\">generous-sweep-48</strong> at: <a href='https://wandb.ai/barbonigiorgia-sapienza-universit-di-roma/graph-classification-graphs_sc/runs/79drs3cn' target=\"_blank\">https://wandb.ai/barbonigiorgia-sapienza-universit-di-roma/graph-classification-graphs_sc/runs/79drs3cn</a><br/> View project at: <a href='https://wandb.ai/barbonigiorgia-sapienza-universit-di-roma/graph-classification-graphs_sc' target=\"_blank\">https://wandb.ai/barbonigiorgia-sapienza-universit-di-roma/graph-classification-graphs_sc</a><br/>Synced 5 W&B file(s), 0 media file(s), 4 artifact file(s) and 0 other file(s)"
      ],
      "text/plain": [
       "<IPython.core.display.HTML object>"
      ]
     },
     "metadata": {},
     "output_type": "display_data"
    },
    {
     "data": {
      "text/html": [
       "Find logs at: <code>.\\wandb\\run-20241115_211857-79drs3cn\\logs</code>"
      ],
      "text/plain": [
       "<IPython.core.display.HTML object>"
      ]
     },
     "metadata": {},
     "output_type": "display_data"
    },
    {
     "name": "stderr",
     "output_type": "stream",
     "text": [
      "\u001b[34m\u001b[1mwandb\u001b[0m: Agent Starting Run: dsi1f6pj with config:\n",
      "\u001b[34m\u001b[1mwandb\u001b[0m: \tbatch_size: 16\n",
      "\u001b[34m\u001b[1mwandb\u001b[0m: \tin_channels: 6\n",
      "\u001b[34m\u001b[1mwandb\u001b[0m: \tlearning_rate: 0.01\n",
      "\u001b[34m\u001b[1mwandb\u001b[0m: \tnum_epochs: 5\n",
      "\u001b[34m\u001b[1mwandb\u001b[0m: \tnum_heads: 2\n",
      "\u001b[34m\u001b[1mwandb\u001b[0m: \toptimizer: sgd\n",
      "\u001b[34m\u001b[1mwandb\u001b[0m: \tout_channels: 4\n",
      "\u001b[34m\u001b[1mwandb\u001b[0m: \trandom_state: 42\n",
      "\u001b[34m\u001b[1mwandb\u001b[0m: \ttest_size: 0.3\n",
      "\u001b[34m\u001b[1mwandb\u001b[0m: \tweight_decay: 0.0001\n"
     ]
    },
    {
     "data": {
      "text/html": [
       "Tracking run with wandb version 0.18.5"
      ],
      "text/plain": [
       "<IPython.core.display.HTML object>"
      ]
     },
     "metadata": {},
     "output_type": "display_data"
    },
    {
     "data": {
      "text/html": [
       "Run data is saved locally in <code>c:\\Users\\barbo\\brain classifier repo\\brain_classifier\\src\\wandb\\run-20241115_211914-dsi1f6pj</code>"
      ],
      "text/plain": [
       "<IPython.core.display.HTML object>"
      ]
     },
     "metadata": {},
     "output_type": "display_data"
    },
    {
     "data": {
      "text/html": [
       "Syncing run <strong><a href='https://wandb.ai/barbonigiorgia-sapienza-universit-di-roma/graph-classification-graphs_sc/runs/dsi1f6pj' target=\"_blank\">resilient-sweep-49</a></strong> to <a href='https://wandb.ai/barbonigiorgia-sapienza-universit-di-roma/graph-classification-graphs_sc' target=\"_blank\">Weights & Biases</a> (<a href='https://wandb.me/run' target=\"_blank\">docs</a>)<br/>Sweep page: <a href='https://wandb.ai/barbonigiorgia-sapienza-universit-di-roma/graph-classification-graphs_sc/sweeps/5tx24pap' target=\"_blank\">https://wandb.ai/barbonigiorgia-sapienza-universit-di-roma/graph-classification-graphs_sc/sweeps/5tx24pap</a>"
      ],
      "text/plain": [
       "<IPython.core.display.HTML object>"
      ]
     },
     "metadata": {},
     "output_type": "display_data"
    },
    {
     "data": {
      "text/html": [
       " View project at <a href='https://wandb.ai/barbonigiorgia-sapienza-universit-di-roma/graph-classification-graphs_sc' target=\"_blank\">https://wandb.ai/barbonigiorgia-sapienza-universit-di-roma/graph-classification-graphs_sc</a>"
      ],
      "text/plain": [
       "<IPython.core.display.HTML object>"
      ]
     },
     "metadata": {},
     "output_type": "display_data"
    },
    {
     "data": {
      "text/html": [
       " View sweep at <a href='https://wandb.ai/barbonigiorgia-sapienza-universit-di-roma/graph-classification-graphs_sc/sweeps/5tx24pap' target=\"_blank\">https://wandb.ai/barbonigiorgia-sapienza-universit-di-roma/graph-classification-graphs_sc/sweeps/5tx24pap</a>"
      ],
      "text/plain": [
       "<IPython.core.display.HTML object>"
      ]
     },
     "metadata": {},
     "output_type": "display_data"
    },
    {
     "data": {
      "text/html": [
       " View run at <a href='https://wandb.ai/barbonigiorgia-sapienza-universit-di-roma/graph-classification-graphs_sc/runs/dsi1f6pj' target=\"_blank\">https://wandb.ai/barbonigiorgia-sapienza-universit-di-roma/graph-classification-graphs_sc/runs/dsi1f6pj</a>"
      ],
      "text/plain": [
       "<IPython.core.display.HTML object>"
      ]
     },
     "metadata": {},
     "output_type": "display_data"
    },
    {
     "name": "stdout",
     "output_type": "stream",
     "text": [
      "Running with config: {'batch_size': 16, 'in_channels': 6, 'learning_rate': 0.01, 'num_epochs': 5, 'num_heads': 2, 'optimizer': 'sgd', 'out_channels': 4, 'random_state': 42, 'test_size': 0.3, 'weight_decay': 0.0001}\n"
     ]
    },
    {
     "data": {
      "text/html": [
       "<style>\n",
       "    table.wandb td:nth-child(1) { padding: 0 10px; text-align: left ; width: auto;} td:nth-child(2) {text-align: left ; width: 100%}\n",
       "    .wandb-row { display: flex; flex-direction: row; flex-wrap: wrap; justify-content: flex-start; width: 100% }\n",
       "    .wandb-col { display: flex; flex-direction: column; flex-basis: 100%; flex: 1; padding: 10px; }\n",
       "    </style>\n",
       "<div class=\"wandb-row\"><div class=\"wandb-col\"><h3>Run history:</h3><br/><table class=\"wandb\"><tr><td>epoch</td><td>▁▃▅▆█</td></tr><tr><td>train_accuracy</td><td>▁▁▁▁▁</td></tr><tr><td>train_f1</td><td>▁▁▁▁▁</td></tr><tr><td>train_loss</td><td>█▆▁▂▂</td></tr><tr><td>val_accuracy</td><td>▁▁▁▁▁</td></tr><tr><td>val_f1</td><td>▁▁▁▁▁</td></tr><tr><td>val_loss</td><td>█▆▄▂▁</td></tr></table><br/></div><div class=\"wandb-col\"><h3>Run summary:</h3><br/><table class=\"wandb\"><tr><td>epoch</td><td>5</td></tr><tr><td>train_accuracy</td><td>0.568</td></tr><tr><td>train_f1</td><td>0.41151</td></tr><tr><td>train_loss</td><td>0.6827</td></tr><tr><td>val_accuracy</td><td>0.55556</td></tr><tr><td>val_f1</td><td>0.39683</td></tr><tr><td>val_loss</td><td>0.67726</td></tr></table><br/></div></div>"
      ],
      "text/plain": [
       "<IPython.core.display.HTML object>"
      ]
     },
     "metadata": {},
     "output_type": "display_data"
    },
    {
     "data": {
      "text/html": [
       " View run <strong style=\"color:#cdcd00\">resilient-sweep-49</strong> at: <a href='https://wandb.ai/barbonigiorgia-sapienza-universit-di-roma/graph-classification-graphs_sc/runs/dsi1f6pj' target=\"_blank\">https://wandb.ai/barbonigiorgia-sapienza-universit-di-roma/graph-classification-graphs_sc/runs/dsi1f6pj</a><br/> View project at: <a href='https://wandb.ai/barbonigiorgia-sapienza-universit-di-roma/graph-classification-graphs_sc' target=\"_blank\">https://wandb.ai/barbonigiorgia-sapienza-universit-di-roma/graph-classification-graphs_sc</a><br/>Synced 5 W&B file(s), 0 media file(s), 4 artifact file(s) and 0 other file(s)"
      ],
      "text/plain": [
       "<IPython.core.display.HTML object>"
      ]
     },
     "metadata": {},
     "output_type": "display_data"
    },
    {
     "data": {
      "text/html": [
       "Find logs at: <code>.\\wandb\\run-20241115_211914-dsi1f6pj\\logs</code>"
      ],
      "text/plain": [
       "<IPython.core.display.HTML object>"
      ]
     },
     "metadata": {},
     "output_type": "display_data"
    },
    {
     "name": "stderr",
     "output_type": "stream",
     "text": [
      "\u001b[34m\u001b[1mwandb\u001b[0m: Agent Starting Run: v809rifa with config:\n",
      "\u001b[34m\u001b[1mwandb\u001b[0m: \tbatch_size: 32\n",
      "\u001b[34m\u001b[1mwandb\u001b[0m: \tin_channels: 6\n",
      "\u001b[34m\u001b[1mwandb\u001b[0m: \tlearning_rate: 0.001\n",
      "\u001b[34m\u001b[1mwandb\u001b[0m: \tnum_epochs: 5\n",
      "\u001b[34m\u001b[1mwandb\u001b[0m: \tnum_heads: 1\n",
      "\u001b[34m\u001b[1mwandb\u001b[0m: \toptimizer: sgd\n",
      "\u001b[34m\u001b[1mwandb\u001b[0m: \tout_channels: 16\n",
      "\u001b[34m\u001b[1mwandb\u001b[0m: \trandom_state: 42\n",
      "\u001b[34m\u001b[1mwandb\u001b[0m: \ttest_size: 0.3\n",
      "\u001b[34m\u001b[1mwandb\u001b[0m: \tweight_decay: 1e-05\n"
     ]
    },
    {
     "data": {
      "text/html": [
       "Tracking run with wandb version 0.18.5"
      ],
      "text/plain": [
       "<IPython.core.display.HTML object>"
      ]
     },
     "metadata": {},
     "output_type": "display_data"
    },
    {
     "data": {
      "text/html": [
       "Run data is saved locally in <code>c:\\Users\\barbo\\brain classifier repo\\brain_classifier\\src\\wandb\\run-20241115_211935-v809rifa</code>"
      ],
      "text/plain": [
       "<IPython.core.display.HTML object>"
      ]
     },
     "metadata": {},
     "output_type": "display_data"
    },
    {
     "data": {
      "text/html": [
       "Syncing run <strong><a href='https://wandb.ai/barbonigiorgia-sapienza-universit-di-roma/graph-classification-graphs_sc/runs/v809rifa' target=\"_blank\">hopeful-sweep-50</a></strong> to <a href='https://wandb.ai/barbonigiorgia-sapienza-universit-di-roma/graph-classification-graphs_sc' target=\"_blank\">Weights & Biases</a> (<a href='https://wandb.me/run' target=\"_blank\">docs</a>)<br/>Sweep page: <a href='https://wandb.ai/barbonigiorgia-sapienza-universit-di-roma/graph-classification-graphs_sc/sweeps/5tx24pap' target=\"_blank\">https://wandb.ai/barbonigiorgia-sapienza-universit-di-roma/graph-classification-graphs_sc/sweeps/5tx24pap</a>"
      ],
      "text/plain": [
       "<IPython.core.display.HTML object>"
      ]
     },
     "metadata": {},
     "output_type": "display_data"
    },
    {
     "data": {
      "text/html": [
       " View project at <a href='https://wandb.ai/barbonigiorgia-sapienza-universit-di-roma/graph-classification-graphs_sc' target=\"_blank\">https://wandb.ai/barbonigiorgia-sapienza-universit-di-roma/graph-classification-graphs_sc</a>"
      ],
      "text/plain": [
       "<IPython.core.display.HTML object>"
      ]
     },
     "metadata": {},
     "output_type": "display_data"
    },
    {
     "data": {
      "text/html": [
       " View sweep at <a href='https://wandb.ai/barbonigiorgia-sapienza-universit-di-roma/graph-classification-graphs_sc/sweeps/5tx24pap' target=\"_blank\">https://wandb.ai/barbonigiorgia-sapienza-universit-di-roma/graph-classification-graphs_sc/sweeps/5tx24pap</a>"
      ],
      "text/plain": [
       "<IPython.core.display.HTML object>"
      ]
     },
     "metadata": {},
     "output_type": "display_data"
    },
    {
     "data": {
      "text/html": [
       " View run at <a href='https://wandb.ai/barbonigiorgia-sapienza-universit-di-roma/graph-classification-graphs_sc/runs/v809rifa' target=\"_blank\">https://wandb.ai/barbonigiorgia-sapienza-universit-di-roma/graph-classification-graphs_sc/runs/v809rifa</a>"
      ],
      "text/plain": [
       "<IPython.core.display.HTML object>"
      ]
     },
     "metadata": {},
     "output_type": "display_data"
    },
    {
     "name": "stdout",
     "output_type": "stream",
     "text": [
      "Running with config: {'batch_size': 32, 'in_channels': 6, 'learning_rate': 0.001, 'num_epochs': 5, 'num_heads': 1, 'optimizer': 'sgd', 'out_channels': 16, 'random_state': 42, 'test_size': 0.3, 'weight_decay': 1e-05}\n"
     ]
    },
    {
     "data": {
      "text/html": [
       "<style>\n",
       "    table.wandb td:nth-child(1) { padding: 0 10px; text-align: left ; width: auto;} td:nth-child(2) {text-align: left ; width: 100%}\n",
       "    .wandb-row { display: flex; flex-direction: row; flex-wrap: wrap; justify-content: flex-start; width: 100% }\n",
       "    .wandb-col { display: flex; flex-direction: column; flex-basis: 100%; flex: 1; padding: 10px; }\n",
       "    </style>\n",
       "<div class=\"wandb-row\"><div class=\"wandb-col\"><h3>Run history:</h3><br/><table class=\"wandb\"><tr><td>epoch</td><td>▁▃▅▆█</td></tr><tr><td>train_accuracy</td><td>▁▁▁▁▁</td></tr><tr><td>train_f1</td><td>▁▁▁▁▁</td></tr><tr><td>train_loss</td><td>▁▅▂█▇</td></tr><tr><td>val_accuracy</td><td>▁▁▁▁▁</td></tr><tr><td>val_f1</td><td>▁▁▁▁▁</td></tr><tr><td>val_loss</td><td>█▇▅▃▁</td></tr></table><br/></div><div class=\"wandb-col\"><h3>Run summary:</h3><br/><table class=\"wandb\"><tr><td>epoch</td><td>5</td></tr><tr><td>train_accuracy</td><td>0.568</td></tr><tr><td>train_f1</td><td>0.41151</td></tr><tr><td>train_loss</td><td>0.69275</td></tr><tr><td>val_accuracy</td><td>0.55556</td></tr><tr><td>val_f1</td><td>0.39683</td></tr><tr><td>val_loss</td><td>0.69534</td></tr></table><br/></div></div>"
      ],
      "text/plain": [
       "<IPython.core.display.HTML object>"
      ]
     },
     "metadata": {},
     "output_type": "display_data"
    },
    {
     "data": {
      "text/html": [
       " View run <strong style=\"color:#cdcd00\">hopeful-sweep-50</strong> at: <a href='https://wandb.ai/barbonigiorgia-sapienza-universit-di-roma/graph-classification-graphs_sc/runs/v809rifa' target=\"_blank\">https://wandb.ai/barbonigiorgia-sapienza-universit-di-roma/graph-classification-graphs_sc/runs/v809rifa</a><br/> View project at: <a href='https://wandb.ai/barbonigiorgia-sapienza-universit-di-roma/graph-classification-graphs_sc' target=\"_blank\">https://wandb.ai/barbonigiorgia-sapienza-universit-di-roma/graph-classification-graphs_sc</a><br/>Synced 5 W&B file(s), 0 media file(s), 4 artifact file(s) and 0 other file(s)"
      ],
      "text/plain": [
       "<IPython.core.display.HTML object>"
      ]
     },
     "metadata": {},
     "output_type": "display_data"
    },
    {
     "data": {
      "text/html": [
       "Find logs at: <code>.\\wandb\\run-20241115_211935-v809rifa\\logs</code>"
      ],
      "text/plain": [
       "<IPython.core.display.HTML object>"
      ]
     },
     "metadata": {},
     "output_type": "display_data"
    },
    {
     "name": "stdout",
     "output_type": "stream",
     "text": [
      "\n",
      "Top 10 runs for graphs_sc:\n"
     ]
    },
    {
     "data": {
      "text/html": [
       "<div>\n",
       "<style scoped>\n",
       "    .dataframe tbody tr th:only-of-type {\n",
       "        vertical-align: middle;\n",
       "    }\n",
       "\n",
       "    .dataframe tbody tr th {\n",
       "        vertical-align: top;\n",
       "    }\n",
       "\n",
       "    .dataframe thead th {\n",
       "        text-align: right;\n",
       "    }\n",
       "</style>\n",
       "<table border=\"1\" class=\"dataframe\">\n",
       "  <thead>\n",
       "    <tr style=\"text-align: right;\">\n",
       "      <th></th>\n",
       "      <th>run_id</th>\n",
       "      <th>run_name</th>\n",
       "      <th>val_f1</th>\n",
       "      <th>learning_rate</th>\n",
       "      <th>out_channels</th>\n",
       "      <th>num_heads</th>\n",
       "      <th>weight_decay</th>\n",
       "    </tr>\n",
       "  </thead>\n",
       "  <tbody>\n",
       "    <tr>\n",
       "      <th>1</th>\n",
       "      <td>hszbmnab</td>\n",
       "      <td>stellar-sweep-2</td>\n",
       "      <td>0.778388</td>\n",
       "      <td>0.10</td>\n",
       "      <td>4</td>\n",
       "      <td>3</td>\n",
       "      <td>0.00000</td>\n",
       "    </tr>\n",
       "    <tr>\n",
       "      <th>20</th>\n",
       "      <td>tnh3idra</td>\n",
       "      <td>frosty-sweep-21</td>\n",
       "      <td>0.778388</td>\n",
       "      <td>0.01</td>\n",
       "      <td>12</td>\n",
       "      <td>4</td>\n",
       "      <td>0.00001</td>\n",
       "    </tr>\n",
       "    <tr>\n",
       "      <th>5</th>\n",
       "      <td>9vywgjp4</td>\n",
       "      <td>apricot-sweep-6</td>\n",
       "      <td>0.777778</td>\n",
       "      <td>0.10</td>\n",
       "      <td>4</td>\n",
       "      <td>4</td>\n",
       "      <td>0.00010</td>\n",
       "    </tr>\n",
       "    <tr>\n",
       "      <th>32</th>\n",
       "      <td>am56lkve</td>\n",
       "      <td>rosy-sweep-33</td>\n",
       "      <td>0.777778</td>\n",
       "      <td>0.01</td>\n",
       "      <td>16</td>\n",
       "      <td>3</td>\n",
       "      <td>0.00010</td>\n",
       "    </tr>\n",
       "    <tr>\n",
       "      <th>44</th>\n",
       "      <td>wsln3wln</td>\n",
       "      <td>drawn-sweep-45</td>\n",
       "      <td>0.774621</td>\n",
       "      <td>0.10</td>\n",
       "      <td>8</td>\n",
       "      <td>1</td>\n",
       "      <td>0.00001</td>\n",
       "    </tr>\n",
       "    <tr>\n",
       "      <th>46</th>\n",
       "      <td>4p7f901h</td>\n",
       "      <td>mild-sweep-47</td>\n",
       "      <td>0.774621</td>\n",
       "      <td>0.10</td>\n",
       "      <td>8</td>\n",
       "      <td>2</td>\n",
       "      <td>0.00000</td>\n",
       "    </tr>\n",
       "    <tr>\n",
       "      <th>21</th>\n",
       "      <td>mmko7bb4</td>\n",
       "      <td>fancy-sweep-22</td>\n",
       "      <td>0.768627</td>\n",
       "      <td>0.01</td>\n",
       "      <td>4</td>\n",
       "      <td>2</td>\n",
       "      <td>0.00000</td>\n",
       "    </tr>\n",
       "    <tr>\n",
       "      <th>38</th>\n",
       "      <td>zc2pvq1p</td>\n",
       "      <td>driven-sweep-39</td>\n",
       "      <td>0.741456</td>\n",
       "      <td>0.01</td>\n",
       "      <td>12</td>\n",
       "      <td>3</td>\n",
       "      <td>0.00001</td>\n",
       "    </tr>\n",
       "    <tr>\n",
       "      <th>7</th>\n",
       "      <td>pp6xfd4i</td>\n",
       "      <td>dutiful-sweep-8</td>\n",
       "      <td>0.739286</td>\n",
       "      <td>0.01</td>\n",
       "      <td>16</td>\n",
       "      <td>4</td>\n",
       "      <td>0.00010</td>\n",
       "    </tr>\n",
       "    <tr>\n",
       "      <th>6</th>\n",
       "      <td>1e70nqta</td>\n",
       "      <td>woven-sweep-7</td>\n",
       "      <td>0.711888</td>\n",
       "      <td>0.01</td>\n",
       "      <td>8</td>\n",
       "      <td>4</td>\n",
       "      <td>0.00001</td>\n",
       "    </tr>\n",
       "  </tbody>\n",
       "</table>\n",
       "</div>"
      ],
      "text/plain": [
       "      run_id         run_name    val_f1  learning_rate  out_channels  \\\n",
       "1   hszbmnab  stellar-sweep-2  0.778388           0.10             4   \n",
       "20  tnh3idra  frosty-sweep-21  0.778388           0.01            12   \n",
       "5   9vywgjp4  apricot-sweep-6  0.777778           0.10             4   \n",
       "32  am56lkve    rosy-sweep-33  0.777778           0.01            16   \n",
       "44  wsln3wln   drawn-sweep-45  0.774621           0.10             8   \n",
       "46  4p7f901h    mild-sweep-47  0.774621           0.10             8   \n",
       "21  mmko7bb4   fancy-sweep-22  0.768627           0.01             4   \n",
       "38  zc2pvq1p  driven-sweep-39  0.741456           0.01            12   \n",
       "7   pp6xfd4i  dutiful-sweep-8  0.739286           0.01            16   \n",
       "6   1e70nqta    woven-sweep-7  0.711888           0.01             8   \n",
       "\n",
       "    num_heads  weight_decay  \n",
       "1           3       0.00000  \n",
       "20          4       0.00001  \n",
       "5           4       0.00010  \n",
       "32          3       0.00010  \n",
       "44          1       0.00001  \n",
       "46          2       0.00000  \n",
       "21          2       0.00000  \n",
       "38          3       0.00001  \n",
       "7           4       0.00010  \n",
       "6           4       0.00001  "
      ]
     },
     "metadata": {},
     "output_type": "display_data"
    }
   ],
   "source": [
    "# Run the grid search for the first dataset\n",
    "all_runs_df_sc, top_runs_df_sc = run_grid_search(graphs_sc, labels_sc, sweep_config_sc, 'graphs_sc', top_x= 10, sweep_count = 50)"
   ]
  },
  {
   "cell_type": "code",
   "execution_count": 11,
   "metadata": {},
   "outputs": [
    {
     "data": {
      "text/html": [
       "<div>\n",
       "<style scoped>\n",
       "    .dataframe tbody tr th:only-of-type {\n",
       "        vertical-align: middle;\n",
       "    }\n",
       "\n",
       "    .dataframe tbody tr th {\n",
       "        vertical-align: top;\n",
       "    }\n",
       "\n",
       "    .dataframe thead th {\n",
       "        text-align: right;\n",
       "    }\n",
       "</style>\n",
       "<table border=\"1\" class=\"dataframe\">\n",
       "  <thead>\n",
       "    <tr style=\"text-align: right;\">\n",
       "      <th></th>\n",
       "      <th>run_id</th>\n",
       "      <th>val_f1</th>\n",
       "      <th>num_heads</th>\n",
       "      <th>optimizer</th>\n",
       "      <th>test_size</th>\n",
       "      <th>batch_size</th>\n",
       "      <th>num_epochs</th>\n",
       "      <th>in_channels</th>\n",
       "      <th>out_channels</th>\n",
       "      <th>random_state</th>\n",
       "      <th>weight_decay</th>\n",
       "      <th>learning_rate</th>\n",
       "    </tr>\n",
       "  </thead>\n",
       "  <tbody>\n",
       "    <tr>\n",
       "      <th>1</th>\n",
       "      <td>hszbmnab</td>\n",
       "      <td>0.778388</td>\n",
       "      <td>3</td>\n",
       "      <td>adam</td>\n",
       "      <td>0.3</td>\n",
       "      <td>8</td>\n",
       "      <td>5</td>\n",
       "      <td>6</td>\n",
       "      <td>4</td>\n",
       "      <td>42</td>\n",
       "      <td>0.00000</td>\n",
       "      <td>0.10</td>\n",
       "    </tr>\n",
       "    <tr>\n",
       "      <th>20</th>\n",
       "      <td>tnh3idra</td>\n",
       "      <td>0.778388</td>\n",
       "      <td>4</td>\n",
       "      <td>adam</td>\n",
       "      <td>0.3</td>\n",
       "      <td>16</td>\n",
       "      <td>5</td>\n",
       "      <td>6</td>\n",
       "      <td>12</td>\n",
       "      <td>42</td>\n",
       "      <td>0.00001</td>\n",
       "      <td>0.01</td>\n",
       "    </tr>\n",
       "    <tr>\n",
       "      <th>5</th>\n",
       "      <td>9vywgjp4</td>\n",
       "      <td>0.777778</td>\n",
       "      <td>4</td>\n",
       "      <td>adam</td>\n",
       "      <td>0.3</td>\n",
       "      <td>8</td>\n",
       "      <td>5</td>\n",
       "      <td>6</td>\n",
       "      <td>4</td>\n",
       "      <td>42</td>\n",
       "      <td>0.00010</td>\n",
       "      <td>0.10</td>\n",
       "    </tr>\n",
       "    <tr>\n",
       "      <th>32</th>\n",
       "      <td>am56lkve</td>\n",
       "      <td>0.777778</td>\n",
       "      <td>3</td>\n",
       "      <td>adam</td>\n",
       "      <td>0.3</td>\n",
       "      <td>16</td>\n",
       "      <td>5</td>\n",
       "      <td>6</td>\n",
       "      <td>16</td>\n",
       "      <td>42</td>\n",
       "      <td>0.00010</td>\n",
       "      <td>0.01</td>\n",
       "    </tr>\n",
       "    <tr>\n",
       "      <th>44</th>\n",
       "      <td>wsln3wln</td>\n",
       "      <td>0.774621</td>\n",
       "      <td>1</td>\n",
       "      <td>adam</td>\n",
       "      <td>0.3</td>\n",
       "      <td>32</td>\n",
       "      <td>5</td>\n",
       "      <td>6</td>\n",
       "      <td>8</td>\n",
       "      <td>42</td>\n",
       "      <td>0.00001</td>\n",
       "      <td>0.10</td>\n",
       "    </tr>\n",
       "    <tr>\n",
       "      <th>46</th>\n",
       "      <td>4p7f901h</td>\n",
       "      <td>0.774621</td>\n",
       "      <td>2</td>\n",
       "      <td>adam</td>\n",
       "      <td>0.3</td>\n",
       "      <td>32</td>\n",
       "      <td>5</td>\n",
       "      <td>6</td>\n",
       "      <td>8</td>\n",
       "      <td>42</td>\n",
       "      <td>0.00000</td>\n",
       "      <td>0.10</td>\n",
       "    </tr>\n",
       "    <tr>\n",
       "      <th>21</th>\n",
       "      <td>mmko7bb4</td>\n",
       "      <td>0.768627</td>\n",
       "      <td>2</td>\n",
       "      <td>adam</td>\n",
       "      <td>0.3</td>\n",
       "      <td>8</td>\n",
       "      <td>5</td>\n",
       "      <td>6</td>\n",
       "      <td>4</td>\n",
       "      <td>42</td>\n",
       "      <td>0.00000</td>\n",
       "      <td>0.01</td>\n",
       "    </tr>\n",
       "    <tr>\n",
       "      <th>38</th>\n",
       "      <td>zc2pvq1p</td>\n",
       "      <td>0.741456</td>\n",
       "      <td>3</td>\n",
       "      <td>adam</td>\n",
       "      <td>0.3</td>\n",
       "      <td>16</td>\n",
       "      <td>5</td>\n",
       "      <td>6</td>\n",
       "      <td>12</td>\n",
       "      <td>42</td>\n",
       "      <td>0.00001</td>\n",
       "      <td>0.01</td>\n",
       "    </tr>\n",
       "    <tr>\n",
       "      <th>7</th>\n",
       "      <td>pp6xfd4i</td>\n",
       "      <td>0.739286</td>\n",
       "      <td>4</td>\n",
       "      <td>adam</td>\n",
       "      <td>0.3</td>\n",
       "      <td>8</td>\n",
       "      <td>5</td>\n",
       "      <td>6</td>\n",
       "      <td>16</td>\n",
       "      <td>42</td>\n",
       "      <td>0.00010</td>\n",
       "      <td>0.01</td>\n",
       "    </tr>\n",
       "    <tr>\n",
       "      <th>6</th>\n",
       "      <td>1e70nqta</td>\n",
       "      <td>0.711888</td>\n",
       "      <td>4</td>\n",
       "      <td>adam</td>\n",
       "      <td>0.3</td>\n",
       "      <td>32</td>\n",
       "      <td>5</td>\n",
       "      <td>6</td>\n",
       "      <td>8</td>\n",
       "      <td>42</td>\n",
       "      <td>0.00001</td>\n",
       "      <td>0.01</td>\n",
       "    </tr>\n",
       "  </tbody>\n",
       "</table>\n",
       "</div>"
      ],
      "text/plain": [
       "      run_id    val_f1  num_heads optimizer  test_size  batch_size  \\\n",
       "1   hszbmnab  0.778388          3      adam        0.3           8   \n",
       "20  tnh3idra  0.778388          4      adam        0.3          16   \n",
       "5   9vywgjp4  0.777778          4      adam        0.3           8   \n",
       "32  am56lkve  0.777778          3      adam        0.3          16   \n",
       "44  wsln3wln  0.774621          1      adam        0.3          32   \n",
       "46  4p7f901h  0.774621          2      adam        0.3          32   \n",
       "21  mmko7bb4  0.768627          2      adam        0.3           8   \n",
       "38  zc2pvq1p  0.741456          3      adam        0.3          16   \n",
       "7   pp6xfd4i  0.739286          4      adam        0.3           8   \n",
       "6   1e70nqta  0.711888          4      adam        0.3          32   \n",
       "\n",
       "    num_epochs  in_channels  out_channels  random_state  weight_decay  \\\n",
       "1            5            6             4            42       0.00000   \n",
       "20           5            6            12            42       0.00001   \n",
       "5            5            6             4            42       0.00010   \n",
       "32           5            6            16            42       0.00010   \n",
       "44           5            6             8            42       0.00001   \n",
       "46           5            6             8            42       0.00000   \n",
       "21           5            6             4            42       0.00000   \n",
       "38           5            6            12            42       0.00001   \n",
       "7            5            6            16            42       0.00010   \n",
       "6            5            6             8            42       0.00001   \n",
       "\n",
       "    learning_rate  \n",
       "1            0.10  \n",
       "20           0.01  \n",
       "5            0.10  \n",
       "32           0.01  \n",
       "44           0.10  \n",
       "46           0.10  \n",
       "21           0.01  \n",
       "38           0.01  \n",
       "7            0.01  \n",
       "6            0.01  "
      ]
     },
     "metadata": {},
     "output_type": "display_data"
    },
    {
     "name": "stdout",
     "output_type": "stream",
     "text": [
      "\\begin{tabular}{lrrlrrrrrrrr}\n",
      "\\toprule\n",
      "run_id & val_f1 & num_heads & optimizer & test_size & batch_size & num_epochs & in_channels & out_channels & random_state & weight_decay & learning_rate \\\\\n",
      "\\midrule\n",
      "hszbmnab & 0.778388 & 3 & adam & 0.300000 & 8 & 5 & 6 & 4 & 42 & 0.000000 & 0.100000 \\\\\n",
      "tnh3idra & 0.778388 & 4 & adam & 0.300000 & 16 & 5 & 6 & 12 & 42 & 0.000010 & 0.010000 \\\\\n",
      "9vywgjp4 & 0.777778 & 4 & adam & 0.300000 & 8 & 5 & 6 & 4 & 42 & 0.000100 & 0.100000 \\\\\n",
      "am56lkve & 0.777778 & 3 & adam & 0.300000 & 16 & 5 & 6 & 16 & 42 & 0.000100 & 0.010000 \\\\\n",
      "wsln3wln & 0.774621 & 1 & adam & 0.300000 & 32 & 5 & 6 & 8 & 42 & 0.000010 & 0.100000 \\\\\n",
      "4p7f901h & 0.774621 & 2 & adam & 0.300000 & 32 & 5 & 6 & 8 & 42 & 0.000000 & 0.100000 \\\\\n",
      "mmko7bb4 & 0.768627 & 2 & adam & 0.300000 & 8 & 5 & 6 & 4 & 42 & 0.000000 & 0.010000 \\\\\n",
      "zc2pvq1p & 0.741456 & 3 & adam & 0.300000 & 16 & 5 & 6 & 12 & 42 & 0.000010 & 0.010000 \\\\\n",
      "pp6xfd4i & 0.739286 & 4 & adam & 0.300000 & 8 & 5 & 6 & 16 & 42 & 0.000100 & 0.010000 \\\\\n",
      "1e70nqta & 0.711888 & 4 & adam & 0.300000 & 32 & 5 & 6 & 8 & 42 & 0.000010 & 0.010000 \\\\\n",
      "\\bottomrule\n",
      "\\end{tabular}\n",
      "\n"
     ]
    }
   ],
   "source": [
    "hyperparameter_columns = ['run_id', 'val_f1', 'num_heads', 'optimizer', 'test_size', 'batch_size', 'num_epochs', 'in_channels', 'out_channels', 'random_state', 'weight_decay', 'learning_rate']\n",
    "display(top_runs_df_sc[hyperparameter_columns])\n",
    "print(top_runs_df_sc[hyperparameter_columns].to_latex(index=False))"
   ]
  },
  {
   "cell_type": "code",
   "execution_count": 23,
   "metadata": {},
   "outputs": [],
   "source": [
    "# refine the sweep config\n",
    "\n",
    "sweep_config_sc.update({\n",
    "    'method': 'grid', #since few combinations\n",
    "    'metric': {\n",
    "        'name': 'val_f1',\n",
    "        'goal': 'maximize'\n",
    "    },\n",
    "    'parameters': {\n",
    "        'optimizer': {\n",
    "            'values': ['adam']\n",
    "        },\n",
    "        'test_size': {\n",
    "            'value': 0.3\n",
    "        },\n",
    "        'learning_rate': {\n",
    "            'values': [1e-2]  # low importance (0.027) and high negative correlation (-0.989), fix it to a lower value (1e-3)\n",
    "        },\n",
    "        'in_channels': {\n",
    "            'value': 6\n",
    "        },\n",
    "        'out_channels': {\n",
    "            'values': [4, 8, 12]  # importance of 0.209 and positive correlation (0.781).\n",
    "        },\n",
    "        'num_heads': {\n",
    "            'values': [3, 4]  # high importance (0.28) and strong positive correlation (0.932)\n",
    "        },\n",
    "        'num_epochs': {\n",
    "            'value': 10\n",
    "        },\n",
    "        'weight_decay': {\n",
    "            'values': [0, 1e-5, 1e-4]  # moderate importance\n",
    "        },\n",
    "        'batch_size': {\n",
    "            'values': [8]  #low importance (0.023) and high negative correlation (-0.989)\n",
    "        },\n",
    "        'random_state': {\n",
    "            'value': 42\n",
    "        }\n",
    "    }\n",
    "}) "
   ]
  },
  {
   "cell_type": "code",
   "execution_count": 24,
   "metadata": {},
   "outputs": [
    {
     "data": {
      "text/plain": [
       "{'value': 6}"
      ]
     },
     "execution_count": 24,
     "metadata": {},
     "output_type": "execute_result"
    }
   ],
   "source": [
    "sweep_config_sc['parameters']['in_channels']"
   ]
  },
  {
   "cell_type": "code",
   "execution_count": 25,
   "metadata": {},
   "outputs": [
    {
     "name": "stdout",
     "output_type": "stream",
     "text": [
      "Create sweep with ID: lhemejv7\n",
      "Sweep URL: https://wandb.ai/barbonigiorgia-sapienza-universit-di-roma/graph-classification-graphs_sc/sweeps/lhemejv7\n"
     ]
    },
    {
     "name": "stderr",
     "output_type": "stream",
     "text": [
      "\u001b[34m\u001b[1mwandb\u001b[0m: Agent Starting Run: oc9lk03y with config:\n",
      "\u001b[34m\u001b[1mwandb\u001b[0m: \tbatch_size: 8\n",
      "\u001b[34m\u001b[1mwandb\u001b[0m: \tin_channels: 6\n",
      "\u001b[34m\u001b[1mwandb\u001b[0m: \tlearning_rate: 0.01\n",
      "\u001b[34m\u001b[1mwandb\u001b[0m: \tnum_epochs: 10\n",
      "\u001b[34m\u001b[1mwandb\u001b[0m: \tnum_heads: 3\n",
      "\u001b[34m\u001b[1mwandb\u001b[0m: \toptimizer: adam\n",
      "\u001b[34m\u001b[1mwandb\u001b[0m: \tout_channels: 4\n",
      "\u001b[34m\u001b[1mwandb\u001b[0m: \trandom_state: 42\n",
      "\u001b[34m\u001b[1mwandb\u001b[0m: \ttest_size: 0.3\n",
      "\u001b[34m\u001b[1mwandb\u001b[0m: \tweight_decay: 0\n"
     ]
    },
    {
     "data": {
      "text/html": [
       "Tracking run with wandb version 0.18.5"
      ],
      "text/plain": [
       "<IPython.core.display.HTML object>"
      ]
     },
     "metadata": {},
     "output_type": "display_data"
    },
    {
     "data": {
      "text/html": [
       "Run data is saved locally in <code>c:\\Users\\barbo\\brain classifier repo\\brain_classifier\\src\\wandb\\run-20241115_231015-oc9lk03y</code>"
      ],
      "text/plain": [
       "<IPython.core.display.HTML object>"
      ]
     },
     "metadata": {},
     "output_type": "display_data"
    },
    {
     "data": {
      "text/html": [
       "Syncing run <strong><a href='https://wandb.ai/barbonigiorgia-sapienza-universit-di-roma/graph-classification-graphs_sc/runs/oc9lk03y' target=\"_blank\">pretty-sweep-1</a></strong> to <a href='https://wandb.ai/barbonigiorgia-sapienza-universit-di-roma/graph-classification-graphs_sc' target=\"_blank\">Weights & Biases</a> (<a href='https://wandb.me/run' target=\"_blank\">docs</a>)<br/>Sweep page: <a href='https://wandb.ai/barbonigiorgia-sapienza-universit-di-roma/graph-classification-graphs_sc/sweeps/lhemejv7' target=\"_blank\">https://wandb.ai/barbonigiorgia-sapienza-universit-di-roma/graph-classification-graphs_sc/sweeps/lhemejv7</a>"
      ],
      "text/plain": [
       "<IPython.core.display.HTML object>"
      ]
     },
     "metadata": {},
     "output_type": "display_data"
    },
    {
     "data": {
      "text/html": [
       " View project at <a href='https://wandb.ai/barbonigiorgia-sapienza-universit-di-roma/graph-classification-graphs_sc' target=\"_blank\">https://wandb.ai/barbonigiorgia-sapienza-universit-di-roma/graph-classification-graphs_sc</a>"
      ],
      "text/plain": [
       "<IPython.core.display.HTML object>"
      ]
     },
     "metadata": {},
     "output_type": "display_data"
    },
    {
     "data": {
      "text/html": [
       " View sweep at <a href='https://wandb.ai/barbonigiorgia-sapienza-universit-di-roma/graph-classification-graphs_sc/sweeps/lhemejv7' target=\"_blank\">https://wandb.ai/barbonigiorgia-sapienza-universit-di-roma/graph-classification-graphs_sc/sweeps/lhemejv7</a>"
      ],
      "text/plain": [
       "<IPython.core.display.HTML object>"
      ]
     },
     "metadata": {},
     "output_type": "display_data"
    },
    {
     "data": {
      "text/html": [
       " View run at <a href='https://wandb.ai/barbonigiorgia-sapienza-universit-di-roma/graph-classification-graphs_sc/runs/oc9lk03y' target=\"_blank\">https://wandb.ai/barbonigiorgia-sapienza-universit-di-roma/graph-classification-graphs_sc/runs/oc9lk03y</a>"
      ],
      "text/plain": [
       "<IPython.core.display.HTML object>"
      ]
     },
     "metadata": {},
     "output_type": "display_data"
    },
    {
     "name": "stdout",
     "output_type": "stream",
     "text": [
      "Running with config: {'batch_size': 8, 'in_channels': 6, 'learning_rate': 0.01, 'num_epochs': 10, 'num_heads': 3, 'optimizer': 'adam', 'out_channels': 4, 'random_state': 42, 'test_size': 0.3, 'weight_decay': 0}\n"
     ]
    },
    {
     "data": {
      "text/html": [
       "<style>\n",
       "    table.wandb td:nth-child(1) { padding: 0 10px; text-align: left ; width: auto;} td:nth-child(2) {text-align: left ; width: 100%}\n",
       "    .wandb-row { display: flex; flex-direction: row; flex-wrap: wrap; justify-content: flex-start; width: 100% }\n",
       "    .wandb-col { display: flex; flex-direction: column; flex-basis: 100%; flex: 1; padding: 10px; }\n",
       "    </style>\n",
       "<div class=\"wandb-row\"><div class=\"wandb-col\"><h3>Run history:</h3><br/><table class=\"wandb\"><tr><td>epoch</td><td>▁▂▃▃▄▅▆▆▇█</td></tr><tr><td>train_accuracy</td><td>▁▂▄▄▅▇▇█▇▇</td></tr><tr><td>train_f1</td><td>▄▁▄▄▆▇██▇▇</td></tr><tr><td>train_loss</td><td>█▆▅▄▃▃▂▂▁▁</td></tr><tr><td>val_accuracy</td><td>▁▁▅▄▆█▆▆█▇</td></tr><tr><td>val_f1</td><td>▁▁▅▅▇█▆▇█▇</td></tr><tr><td>val_loss</td><td>█▇▆▅▃▂▂▁▁▁</td></tr></table><br/></div><div class=\"wandb-col\"><h3>Run summary:</h3><br/><table class=\"wandb\"><tr><td>epoch</td><td>10</td></tr><tr><td>train_accuracy</td><td>0.736</td></tr><tr><td>train_f1</td><td>0.72901</td></tr><tr><td>train_loss</td><td>0.54237</td></tr><tr><td>val_accuracy</td><td>0.81481</td></tr><tr><td>val_f1</td><td>0.81</td></tr><tr><td>val_loss</td><td>0.50619</td></tr></table><br/></div></div>"
      ],
      "text/plain": [
       "<IPython.core.display.HTML object>"
      ]
     },
     "metadata": {},
     "output_type": "display_data"
    },
    {
     "data": {
      "text/html": [
       " View run <strong style=\"color:#cdcd00\">pretty-sweep-1</strong> at: <a href='https://wandb.ai/barbonigiorgia-sapienza-universit-di-roma/graph-classification-graphs_sc/runs/oc9lk03y' target=\"_blank\">https://wandb.ai/barbonigiorgia-sapienza-universit-di-roma/graph-classification-graphs_sc/runs/oc9lk03y</a><br/> View project at: <a href='https://wandb.ai/barbonigiorgia-sapienza-universit-di-roma/graph-classification-graphs_sc' target=\"_blank\">https://wandb.ai/barbonigiorgia-sapienza-universit-di-roma/graph-classification-graphs_sc</a><br/>Synced 5 W&B file(s), 0 media file(s), 10 artifact file(s) and 0 other file(s)"
      ],
      "text/plain": [
       "<IPython.core.display.HTML object>"
      ]
     },
     "metadata": {},
     "output_type": "display_data"
    },
    {
     "data": {
      "text/html": [
       "Find logs at: <code>.\\wandb\\run-20241115_231015-oc9lk03y\\logs</code>"
      ],
      "text/plain": [
       "<IPython.core.display.HTML object>"
      ]
     },
     "metadata": {},
     "output_type": "display_data"
    },
    {
     "name": "stderr",
     "output_type": "stream",
     "text": [
      "\u001b[34m\u001b[1mwandb\u001b[0m: Agent Starting Run: i679l3dt with config:\n",
      "\u001b[34m\u001b[1mwandb\u001b[0m: \tbatch_size: 8\n",
      "\u001b[34m\u001b[1mwandb\u001b[0m: \tin_channels: 6\n",
      "\u001b[34m\u001b[1mwandb\u001b[0m: \tlearning_rate: 0.01\n",
      "\u001b[34m\u001b[1mwandb\u001b[0m: \tnum_epochs: 10\n",
      "\u001b[34m\u001b[1mwandb\u001b[0m: \tnum_heads: 3\n",
      "\u001b[34m\u001b[1mwandb\u001b[0m: \toptimizer: adam\n",
      "\u001b[34m\u001b[1mwandb\u001b[0m: \tout_channels: 4\n",
      "\u001b[34m\u001b[1mwandb\u001b[0m: \trandom_state: 42\n",
      "\u001b[34m\u001b[1mwandb\u001b[0m: \ttest_size: 0.3\n",
      "\u001b[34m\u001b[1mwandb\u001b[0m: \tweight_decay: 1e-05\n"
     ]
    },
    {
     "data": {
      "text/html": [
       "Tracking run with wandb version 0.18.5"
      ],
      "text/plain": [
       "<IPython.core.display.HTML object>"
      ]
     },
     "metadata": {},
     "output_type": "display_data"
    },
    {
     "data": {
      "text/html": [
       "Run data is saved locally in <code>c:\\Users\\barbo\\brain classifier repo\\brain_classifier\\src\\wandb\\run-20241115_231117-i679l3dt</code>"
      ],
      "text/plain": [
       "<IPython.core.display.HTML object>"
      ]
     },
     "metadata": {},
     "output_type": "display_data"
    },
    {
     "data": {
      "text/html": [
       "Syncing run <strong><a href='https://wandb.ai/barbonigiorgia-sapienza-universit-di-roma/graph-classification-graphs_sc/runs/i679l3dt' target=\"_blank\">stoic-sweep-2</a></strong> to <a href='https://wandb.ai/barbonigiorgia-sapienza-universit-di-roma/graph-classification-graphs_sc' target=\"_blank\">Weights & Biases</a> (<a href='https://wandb.me/run' target=\"_blank\">docs</a>)<br/>Sweep page: <a href='https://wandb.ai/barbonigiorgia-sapienza-universit-di-roma/graph-classification-graphs_sc/sweeps/lhemejv7' target=\"_blank\">https://wandb.ai/barbonigiorgia-sapienza-universit-di-roma/graph-classification-graphs_sc/sweeps/lhemejv7</a>"
      ],
      "text/plain": [
       "<IPython.core.display.HTML object>"
      ]
     },
     "metadata": {},
     "output_type": "display_data"
    },
    {
     "data": {
      "text/html": [
       " View project at <a href='https://wandb.ai/barbonigiorgia-sapienza-universit-di-roma/graph-classification-graphs_sc' target=\"_blank\">https://wandb.ai/barbonigiorgia-sapienza-universit-di-roma/graph-classification-graphs_sc</a>"
      ],
      "text/plain": [
       "<IPython.core.display.HTML object>"
      ]
     },
     "metadata": {},
     "output_type": "display_data"
    },
    {
     "data": {
      "text/html": [
       " View sweep at <a href='https://wandb.ai/barbonigiorgia-sapienza-universit-di-roma/graph-classification-graphs_sc/sweeps/lhemejv7' target=\"_blank\">https://wandb.ai/barbonigiorgia-sapienza-universit-di-roma/graph-classification-graphs_sc/sweeps/lhemejv7</a>"
      ],
      "text/plain": [
       "<IPython.core.display.HTML object>"
      ]
     },
     "metadata": {},
     "output_type": "display_data"
    },
    {
     "data": {
      "text/html": [
       " View run at <a href='https://wandb.ai/barbonigiorgia-sapienza-universit-di-roma/graph-classification-graphs_sc/runs/i679l3dt' target=\"_blank\">https://wandb.ai/barbonigiorgia-sapienza-universit-di-roma/graph-classification-graphs_sc/runs/i679l3dt</a>"
      ],
      "text/plain": [
       "<IPython.core.display.HTML object>"
      ]
     },
     "metadata": {},
     "output_type": "display_data"
    },
    {
     "name": "stdout",
     "output_type": "stream",
     "text": [
      "Running with config: {'batch_size': 8, 'in_channels': 6, 'learning_rate': 0.01, 'num_epochs': 10, 'num_heads': 3, 'optimizer': 'adam', 'out_channels': 4, 'random_state': 42, 'test_size': 0.3, 'weight_decay': 1e-05}\n"
     ]
    },
    {
     "data": {
      "text/html": [
       "<style>\n",
       "    table.wandb td:nth-child(1) { padding: 0 10px; text-align: left ; width: auto;} td:nth-child(2) {text-align: left ; width: 100%}\n",
       "    .wandb-row { display: flex; flex-direction: row; flex-wrap: wrap; justify-content: flex-start; width: 100% }\n",
       "    .wandb-col { display: flex; flex-direction: column; flex-basis: 100%; flex: 1; padding: 10px; }\n",
       "    </style>\n",
       "<div class=\"wandb-row\"><div class=\"wandb-col\"><h3>Run history:</h3><br/><table class=\"wandb\"><tr><td>epoch</td><td>▁▂▃▃▄▅▆▆▇█</td></tr><tr><td>train_accuracy</td><td>▁▂▄▄▅▇▇█▇▇</td></tr><tr><td>train_f1</td><td>▄▁▄▄▆▇██▇▇</td></tr><tr><td>train_loss</td><td>█▆▅▄▃▃▂▂▁▁</td></tr><tr><td>val_accuracy</td><td>▁▁▅▄▆█▆▆█▇</td></tr><tr><td>val_f1</td><td>▁▁▅▅▇█▆▇█▇</td></tr><tr><td>val_loss</td><td>█▇▆▅▃▂▂▁▁▁</td></tr></table><br/></div><div class=\"wandb-col\"><h3>Run summary:</h3><br/><table class=\"wandb\"><tr><td>epoch</td><td>10</td></tr><tr><td>train_accuracy</td><td>0.736</td></tr><tr><td>train_f1</td><td>0.72901</td></tr><tr><td>train_loss</td><td>0.54251</td></tr><tr><td>val_accuracy</td><td>0.81481</td></tr><tr><td>val_f1</td><td>0.81</td></tr><tr><td>val_loss</td><td>0.5064</td></tr></table><br/></div></div>"
      ],
      "text/plain": [
       "<IPython.core.display.HTML object>"
      ]
     },
     "metadata": {},
     "output_type": "display_data"
    },
    {
     "data": {
      "text/html": [
       " View run <strong style=\"color:#cdcd00\">stoic-sweep-2</strong> at: <a href='https://wandb.ai/barbonigiorgia-sapienza-universit-di-roma/graph-classification-graphs_sc/runs/i679l3dt' target=\"_blank\">https://wandb.ai/barbonigiorgia-sapienza-universit-di-roma/graph-classification-graphs_sc/runs/i679l3dt</a><br/> View project at: <a href='https://wandb.ai/barbonigiorgia-sapienza-universit-di-roma/graph-classification-graphs_sc' target=\"_blank\">https://wandb.ai/barbonigiorgia-sapienza-universit-di-roma/graph-classification-graphs_sc</a><br/>Synced 5 W&B file(s), 0 media file(s), 10 artifact file(s) and 0 other file(s)"
      ],
      "text/plain": [
       "<IPython.core.display.HTML object>"
      ]
     },
     "metadata": {},
     "output_type": "display_data"
    },
    {
     "data": {
      "text/html": [
       "Find logs at: <code>.\\wandb\\run-20241115_231117-i679l3dt\\logs</code>"
      ],
      "text/plain": [
       "<IPython.core.display.HTML object>"
      ]
     },
     "metadata": {},
     "output_type": "display_data"
    },
    {
     "name": "stderr",
     "output_type": "stream",
     "text": [
      "\u001b[34m\u001b[1mwandb\u001b[0m: Agent Starting Run: 4y6v9ufy with config:\n",
      "\u001b[34m\u001b[1mwandb\u001b[0m: \tbatch_size: 8\n",
      "\u001b[34m\u001b[1mwandb\u001b[0m: \tin_channels: 6\n",
      "\u001b[34m\u001b[1mwandb\u001b[0m: \tlearning_rate: 0.01\n",
      "\u001b[34m\u001b[1mwandb\u001b[0m: \tnum_epochs: 10\n",
      "\u001b[34m\u001b[1mwandb\u001b[0m: \tnum_heads: 3\n",
      "\u001b[34m\u001b[1mwandb\u001b[0m: \toptimizer: adam\n",
      "\u001b[34m\u001b[1mwandb\u001b[0m: \tout_channels: 4\n",
      "\u001b[34m\u001b[1mwandb\u001b[0m: \trandom_state: 42\n",
      "\u001b[34m\u001b[1mwandb\u001b[0m: \ttest_size: 0.3\n",
      "\u001b[34m\u001b[1mwandb\u001b[0m: \tweight_decay: 0.0001\n"
     ]
    },
    {
     "data": {
      "text/html": [
       "Tracking run with wandb version 0.18.5"
      ],
      "text/plain": [
       "<IPython.core.display.HTML object>"
      ]
     },
     "metadata": {},
     "output_type": "display_data"
    },
    {
     "data": {
      "text/html": [
       "Run data is saved locally in <code>c:\\Users\\barbo\\brain classifier repo\\brain_classifier\\src\\wandb\\run-20241115_231219-4y6v9ufy</code>"
      ],
      "text/plain": [
       "<IPython.core.display.HTML object>"
      ]
     },
     "metadata": {},
     "output_type": "display_data"
    },
    {
     "data": {
      "text/html": [
       "Syncing run <strong><a href='https://wandb.ai/barbonigiorgia-sapienza-universit-di-roma/graph-classification-graphs_sc/runs/4y6v9ufy' target=\"_blank\">silvery-sweep-3</a></strong> to <a href='https://wandb.ai/barbonigiorgia-sapienza-universit-di-roma/graph-classification-graphs_sc' target=\"_blank\">Weights & Biases</a> (<a href='https://wandb.me/run' target=\"_blank\">docs</a>)<br/>Sweep page: <a href='https://wandb.ai/barbonigiorgia-sapienza-universit-di-roma/graph-classification-graphs_sc/sweeps/lhemejv7' target=\"_blank\">https://wandb.ai/barbonigiorgia-sapienza-universit-di-roma/graph-classification-graphs_sc/sweeps/lhemejv7</a>"
      ],
      "text/plain": [
       "<IPython.core.display.HTML object>"
      ]
     },
     "metadata": {},
     "output_type": "display_data"
    },
    {
     "data": {
      "text/html": [
       " View project at <a href='https://wandb.ai/barbonigiorgia-sapienza-universit-di-roma/graph-classification-graphs_sc' target=\"_blank\">https://wandb.ai/barbonigiorgia-sapienza-universit-di-roma/graph-classification-graphs_sc</a>"
      ],
      "text/plain": [
       "<IPython.core.display.HTML object>"
      ]
     },
     "metadata": {},
     "output_type": "display_data"
    },
    {
     "data": {
      "text/html": [
       " View sweep at <a href='https://wandb.ai/barbonigiorgia-sapienza-universit-di-roma/graph-classification-graphs_sc/sweeps/lhemejv7' target=\"_blank\">https://wandb.ai/barbonigiorgia-sapienza-universit-di-roma/graph-classification-graphs_sc/sweeps/lhemejv7</a>"
      ],
      "text/plain": [
       "<IPython.core.display.HTML object>"
      ]
     },
     "metadata": {},
     "output_type": "display_data"
    },
    {
     "data": {
      "text/html": [
       " View run at <a href='https://wandb.ai/barbonigiorgia-sapienza-universit-di-roma/graph-classification-graphs_sc/runs/4y6v9ufy' target=\"_blank\">https://wandb.ai/barbonigiorgia-sapienza-universit-di-roma/graph-classification-graphs_sc/runs/4y6v9ufy</a>"
      ],
      "text/plain": [
       "<IPython.core.display.HTML object>"
      ]
     },
     "metadata": {},
     "output_type": "display_data"
    },
    {
     "name": "stdout",
     "output_type": "stream",
     "text": [
      "Running with config: {'batch_size': 8, 'in_channels': 6, 'learning_rate': 0.01, 'num_epochs': 10, 'num_heads': 3, 'optimizer': 'adam', 'out_channels': 4, 'random_state': 42, 'test_size': 0.3, 'weight_decay': 0.0001}\n"
     ]
    },
    {
     "data": {
      "text/html": [
       "<style>\n",
       "    table.wandb td:nth-child(1) { padding: 0 10px; text-align: left ; width: auto;} td:nth-child(2) {text-align: left ; width: 100%}\n",
       "    .wandb-row { display: flex; flex-direction: row; flex-wrap: wrap; justify-content: flex-start; width: 100% }\n",
       "    .wandb-col { display: flex; flex-direction: column; flex-basis: 100%; flex: 1; padding: 10px; }\n",
       "    </style>\n",
       "<div class=\"wandb-row\"><div class=\"wandb-col\"><h3>Run history:</h3><br/><table class=\"wandb\"><tr><td>epoch</td><td>▁▂▃▃▄▅▆▆▇█</td></tr><tr><td>train_accuracy</td><td>▁▂▄▄▆▇██▇▇</td></tr><tr><td>train_f1</td><td>▄▁▄▄▆▇████</td></tr><tr><td>train_loss</td><td>█▆▅▄▃▃▂▂▁▁</td></tr><tr><td>val_accuracy</td><td>▁▁▅▄▆█▆▆██</td></tr><tr><td>val_f1</td><td>▁▁▅▅▇█▆▇██</td></tr><tr><td>val_loss</td><td>█▇▆▅▃▂▂▁▁▁</td></tr></table><br/></div><div class=\"wandb-col\"><h3>Run summary:</h3><br/><table class=\"wandb\"><tr><td>epoch</td><td>10</td></tr><tr><td>train_accuracy</td><td>0.736</td></tr><tr><td>train_f1</td><td>0.72901</td></tr><tr><td>train_loss</td><td>0.54392</td></tr><tr><td>val_accuracy</td><td>0.85185</td></tr><tr><td>val_f1</td><td>0.84575</td></tr><tr><td>val_loss</td><td>0.50791</td></tr></table><br/></div></div>"
      ],
      "text/plain": [
       "<IPython.core.display.HTML object>"
      ]
     },
     "metadata": {},
     "output_type": "display_data"
    },
    {
     "data": {
      "text/html": [
       " View run <strong style=\"color:#cdcd00\">silvery-sweep-3</strong> at: <a href='https://wandb.ai/barbonigiorgia-sapienza-universit-di-roma/graph-classification-graphs_sc/runs/4y6v9ufy' target=\"_blank\">https://wandb.ai/barbonigiorgia-sapienza-universit-di-roma/graph-classification-graphs_sc/runs/4y6v9ufy</a><br/> View project at: <a href='https://wandb.ai/barbonigiorgia-sapienza-universit-di-roma/graph-classification-graphs_sc' target=\"_blank\">https://wandb.ai/barbonigiorgia-sapienza-universit-di-roma/graph-classification-graphs_sc</a><br/>Synced 5 W&B file(s), 0 media file(s), 10 artifact file(s) and 0 other file(s)"
      ],
      "text/plain": [
       "<IPython.core.display.HTML object>"
      ]
     },
     "metadata": {},
     "output_type": "display_data"
    },
    {
     "data": {
      "text/html": [
       "Find logs at: <code>.\\wandb\\run-20241115_231219-4y6v9ufy\\logs</code>"
      ],
      "text/plain": [
       "<IPython.core.display.HTML object>"
      ]
     },
     "metadata": {},
     "output_type": "display_data"
    },
    {
     "name": "stderr",
     "output_type": "stream",
     "text": [
      "\u001b[34m\u001b[1mwandb\u001b[0m: Agent Starting Run: l4u470t8 with config:\n",
      "\u001b[34m\u001b[1mwandb\u001b[0m: \tbatch_size: 8\n",
      "\u001b[34m\u001b[1mwandb\u001b[0m: \tin_channels: 6\n",
      "\u001b[34m\u001b[1mwandb\u001b[0m: \tlearning_rate: 0.01\n",
      "\u001b[34m\u001b[1mwandb\u001b[0m: \tnum_epochs: 10\n",
      "\u001b[34m\u001b[1mwandb\u001b[0m: \tnum_heads: 3\n",
      "\u001b[34m\u001b[1mwandb\u001b[0m: \toptimizer: adam\n",
      "\u001b[34m\u001b[1mwandb\u001b[0m: \tout_channels: 8\n",
      "\u001b[34m\u001b[1mwandb\u001b[0m: \trandom_state: 42\n",
      "\u001b[34m\u001b[1mwandb\u001b[0m: \ttest_size: 0.3\n",
      "\u001b[34m\u001b[1mwandb\u001b[0m: \tweight_decay: 0\n"
     ]
    },
    {
     "data": {
      "text/html": [
       "Tracking run with wandb version 0.18.5"
      ],
      "text/plain": [
       "<IPython.core.display.HTML object>"
      ]
     },
     "metadata": {},
     "output_type": "display_data"
    },
    {
     "data": {
      "text/html": [
       "Run data is saved locally in <code>c:\\Users\\barbo\\brain classifier repo\\brain_classifier\\src\\wandb\\run-20241115_231322-l4u470t8</code>"
      ],
      "text/plain": [
       "<IPython.core.display.HTML object>"
      ]
     },
     "metadata": {},
     "output_type": "display_data"
    },
    {
     "data": {
      "text/html": [
       "Syncing run <strong><a href='https://wandb.ai/barbonigiorgia-sapienza-universit-di-roma/graph-classification-graphs_sc/runs/l4u470t8' target=\"_blank\">dark-sweep-4</a></strong> to <a href='https://wandb.ai/barbonigiorgia-sapienza-universit-di-roma/graph-classification-graphs_sc' target=\"_blank\">Weights & Biases</a> (<a href='https://wandb.me/run' target=\"_blank\">docs</a>)<br/>Sweep page: <a href='https://wandb.ai/barbonigiorgia-sapienza-universit-di-roma/graph-classification-graphs_sc/sweeps/lhemejv7' target=\"_blank\">https://wandb.ai/barbonigiorgia-sapienza-universit-di-roma/graph-classification-graphs_sc/sweeps/lhemejv7</a>"
      ],
      "text/plain": [
       "<IPython.core.display.HTML object>"
      ]
     },
     "metadata": {},
     "output_type": "display_data"
    },
    {
     "data": {
      "text/html": [
       " View project at <a href='https://wandb.ai/barbonigiorgia-sapienza-universit-di-roma/graph-classification-graphs_sc' target=\"_blank\">https://wandb.ai/barbonigiorgia-sapienza-universit-di-roma/graph-classification-graphs_sc</a>"
      ],
      "text/plain": [
       "<IPython.core.display.HTML object>"
      ]
     },
     "metadata": {},
     "output_type": "display_data"
    },
    {
     "data": {
      "text/html": [
       " View sweep at <a href='https://wandb.ai/barbonigiorgia-sapienza-universit-di-roma/graph-classification-graphs_sc/sweeps/lhemejv7' target=\"_blank\">https://wandb.ai/barbonigiorgia-sapienza-universit-di-roma/graph-classification-graphs_sc/sweeps/lhemejv7</a>"
      ],
      "text/plain": [
       "<IPython.core.display.HTML object>"
      ]
     },
     "metadata": {},
     "output_type": "display_data"
    },
    {
     "data": {
      "text/html": [
       " View run at <a href='https://wandb.ai/barbonigiorgia-sapienza-universit-di-roma/graph-classification-graphs_sc/runs/l4u470t8' target=\"_blank\">https://wandb.ai/barbonigiorgia-sapienza-universit-di-roma/graph-classification-graphs_sc/runs/l4u470t8</a>"
      ],
      "text/plain": [
       "<IPython.core.display.HTML object>"
      ]
     },
     "metadata": {},
     "output_type": "display_data"
    },
    {
     "name": "stdout",
     "output_type": "stream",
     "text": [
      "Running with config: {'batch_size': 8, 'in_channels': 6, 'learning_rate': 0.01, 'num_epochs': 10, 'num_heads': 3, 'optimizer': 'adam', 'out_channels': 8, 'random_state': 42, 'test_size': 0.3, 'weight_decay': 0}\n"
     ]
    },
    {
     "data": {
      "text/html": [
       "<style>\n",
       "    table.wandb td:nth-child(1) { padding: 0 10px; text-align: left ; width: auto;} td:nth-child(2) {text-align: left ; width: 100%}\n",
       "    .wandb-row { display: flex; flex-direction: row; flex-wrap: wrap; justify-content: flex-start; width: 100% }\n",
       "    .wandb-col { display: flex; flex-direction: column; flex-basis: 100%; flex: 1; padding: 10px; }\n",
       "    </style>\n",
       "<div class=\"wandb-row\"><div class=\"wandb-col\"><h3>Run history:</h3><br/><table class=\"wandb\"><tr><td>epoch</td><td>▁▂▃▃▄▅▆▆▇█</td></tr><tr><td>train_accuracy</td><td>▁▅█▇██████</td></tr><tr><td>train_f1</td><td>▁▃█▇██████</td></tr><tr><td>train_loss</td><td>█▆▄▃▂▂▁▂▁▁</td></tr><tr><td>val_accuracy</td><td>▁▅▄▇▄████▇</td></tr><tr><td>val_f1</td><td>▁▅▅▇▅████▇</td></tr><tr><td>val_loss</td><td>█▇▅▄▃▂▁▁▁▂</td></tr></table><br/></div><div class=\"wandb-col\"><h3>Run summary:</h3><br/><table class=\"wandb\"><tr><td>epoch</td><td>10</td></tr><tr><td>train_accuracy</td><td>0.752</td></tr><tr><td>train_f1</td><td>0.75102</td></tr><tr><td>train_loss</td><td>0.50836</td></tr><tr><td>val_accuracy</td><td>0.77778</td></tr><tr><td>val_f1</td><td>0.77778</td></tr><tr><td>val_loss</td><td>0.43657</td></tr></table><br/></div></div>"
      ],
      "text/plain": [
       "<IPython.core.display.HTML object>"
      ]
     },
     "metadata": {},
     "output_type": "display_data"
    },
    {
     "data": {
      "text/html": [
       " View run <strong style=\"color:#cdcd00\">dark-sweep-4</strong> at: <a href='https://wandb.ai/barbonigiorgia-sapienza-universit-di-roma/graph-classification-graphs_sc/runs/l4u470t8' target=\"_blank\">https://wandb.ai/barbonigiorgia-sapienza-universit-di-roma/graph-classification-graphs_sc/runs/l4u470t8</a><br/> View project at: <a href='https://wandb.ai/barbonigiorgia-sapienza-universit-di-roma/graph-classification-graphs_sc' target=\"_blank\">https://wandb.ai/barbonigiorgia-sapienza-universit-di-roma/graph-classification-graphs_sc</a><br/>Synced 5 W&B file(s), 0 media file(s), 10 artifact file(s) and 0 other file(s)"
      ],
      "text/plain": [
       "<IPython.core.display.HTML object>"
      ]
     },
     "metadata": {},
     "output_type": "display_data"
    },
    {
     "data": {
      "text/html": [
       "Find logs at: <code>.\\wandb\\run-20241115_231322-l4u470t8\\logs</code>"
      ],
      "text/plain": [
       "<IPython.core.display.HTML object>"
      ]
     },
     "metadata": {},
     "output_type": "display_data"
    },
    {
     "name": "stderr",
     "output_type": "stream",
     "text": [
      "\u001b[34m\u001b[1mwandb\u001b[0m: Sweep Agent: Waiting for job.\n",
      "\u001b[34m\u001b[1mwandb\u001b[0m: Job received.\n",
      "\u001b[34m\u001b[1mwandb\u001b[0m: Agent Starting Run: xio9hcnn with config:\n",
      "\u001b[34m\u001b[1mwandb\u001b[0m: \tbatch_size: 8\n",
      "\u001b[34m\u001b[1mwandb\u001b[0m: \tin_channels: 6\n",
      "\u001b[34m\u001b[1mwandb\u001b[0m: \tlearning_rate: 0.01\n",
      "\u001b[34m\u001b[1mwandb\u001b[0m: \tnum_epochs: 10\n",
      "\u001b[34m\u001b[1mwandb\u001b[0m: \tnum_heads: 3\n",
      "\u001b[34m\u001b[1mwandb\u001b[0m: \toptimizer: adam\n",
      "\u001b[34m\u001b[1mwandb\u001b[0m: \tout_channels: 8\n",
      "\u001b[34m\u001b[1mwandb\u001b[0m: \trandom_state: 42\n",
      "\u001b[34m\u001b[1mwandb\u001b[0m: \ttest_size: 0.3\n",
      "\u001b[34m\u001b[1mwandb\u001b[0m: \tweight_decay: 1e-05\n"
     ]
    },
    {
     "data": {
      "text/html": [
       "Tracking run with wandb version 0.18.5"
      ],
      "text/plain": [
       "<IPython.core.display.HTML object>"
      ]
     },
     "metadata": {},
     "output_type": "display_data"
    },
    {
     "data": {
      "text/html": [
       "Run data is saved locally in <code>c:\\Users\\barbo\\brain classifier repo\\brain_classifier\\src\\wandb\\run-20241115_231440-xio9hcnn</code>"
      ],
      "text/plain": [
       "<IPython.core.display.HTML object>"
      ]
     },
     "metadata": {},
     "output_type": "display_data"
    },
    {
     "data": {
      "text/html": [
       "Syncing run <strong><a href='https://wandb.ai/barbonigiorgia-sapienza-universit-di-roma/graph-classification-graphs_sc/runs/xio9hcnn' target=\"_blank\">dauntless-sweep-5</a></strong> to <a href='https://wandb.ai/barbonigiorgia-sapienza-universit-di-roma/graph-classification-graphs_sc' target=\"_blank\">Weights & Biases</a> (<a href='https://wandb.me/run' target=\"_blank\">docs</a>)<br/>Sweep page: <a href='https://wandb.ai/barbonigiorgia-sapienza-universit-di-roma/graph-classification-graphs_sc/sweeps/lhemejv7' target=\"_blank\">https://wandb.ai/barbonigiorgia-sapienza-universit-di-roma/graph-classification-graphs_sc/sweeps/lhemejv7</a>"
      ],
      "text/plain": [
       "<IPython.core.display.HTML object>"
      ]
     },
     "metadata": {},
     "output_type": "display_data"
    },
    {
     "data": {
      "text/html": [
       " View project at <a href='https://wandb.ai/barbonigiorgia-sapienza-universit-di-roma/graph-classification-graphs_sc' target=\"_blank\">https://wandb.ai/barbonigiorgia-sapienza-universit-di-roma/graph-classification-graphs_sc</a>"
      ],
      "text/plain": [
       "<IPython.core.display.HTML object>"
      ]
     },
     "metadata": {},
     "output_type": "display_data"
    },
    {
     "data": {
      "text/html": [
       " View sweep at <a href='https://wandb.ai/barbonigiorgia-sapienza-universit-di-roma/graph-classification-graphs_sc/sweeps/lhemejv7' target=\"_blank\">https://wandb.ai/barbonigiorgia-sapienza-universit-di-roma/graph-classification-graphs_sc/sweeps/lhemejv7</a>"
      ],
      "text/plain": [
       "<IPython.core.display.HTML object>"
      ]
     },
     "metadata": {},
     "output_type": "display_data"
    },
    {
     "data": {
      "text/html": [
       " View run at <a href='https://wandb.ai/barbonigiorgia-sapienza-universit-di-roma/graph-classification-graphs_sc/runs/xio9hcnn' target=\"_blank\">https://wandb.ai/barbonigiorgia-sapienza-universit-di-roma/graph-classification-graphs_sc/runs/xio9hcnn</a>"
      ],
      "text/plain": [
       "<IPython.core.display.HTML object>"
      ]
     },
     "metadata": {},
     "output_type": "display_data"
    },
    {
     "name": "stdout",
     "output_type": "stream",
     "text": [
      "Running with config: {'batch_size': 8, 'in_channels': 6, 'learning_rate': 0.01, 'num_epochs': 10, 'num_heads': 3, 'optimizer': 'adam', 'out_channels': 8, 'random_state': 42, 'test_size': 0.3, 'weight_decay': 1e-05}\n"
     ]
    },
    {
     "data": {
      "text/html": [
       "<style>\n",
       "    table.wandb td:nth-child(1) { padding: 0 10px; text-align: left ; width: auto;} td:nth-child(2) {text-align: left ; width: 100%}\n",
       "    .wandb-row { display: flex; flex-direction: row; flex-wrap: wrap; justify-content: flex-start; width: 100% }\n",
       "    .wandb-col { display: flex; flex-direction: column; flex-basis: 100%; flex: 1; padding: 10px; }\n",
       "    </style>\n",
       "<div class=\"wandb-row\"><div class=\"wandb-col\"><h3>Run history:</h3><br/><table class=\"wandb\"><tr><td>epoch</td><td>▁▂▃▃▄▅▆▆▇█</td></tr><tr><td>train_accuracy</td><td>▁▅█▇██████</td></tr><tr><td>train_f1</td><td>▁▃█▇██████</td></tr><tr><td>train_loss</td><td>█▆▄▃▂▂▁▂▁▁</td></tr><tr><td>val_accuracy</td><td>▁▅▄▇▄████▇</td></tr><tr><td>val_f1</td><td>▁▅▅▇▅████▇</td></tr><tr><td>val_loss</td><td>█▇▅▄▃▂▁▁▁▂</td></tr></table><br/></div><div class=\"wandb-col\"><h3>Run summary:</h3><br/><table class=\"wandb\"><tr><td>epoch</td><td>10</td></tr><tr><td>train_accuracy</td><td>0.752</td></tr><tr><td>train_f1</td><td>0.75102</td></tr><tr><td>train_loss</td><td>0.5084</td></tr><tr><td>val_accuracy</td><td>0.77778</td></tr><tr><td>val_f1</td><td>0.77778</td></tr><tr><td>val_loss</td><td>0.43666</td></tr></table><br/></div></div>"
      ],
      "text/plain": [
       "<IPython.core.display.HTML object>"
      ]
     },
     "metadata": {},
     "output_type": "display_data"
    },
    {
     "data": {
      "text/html": [
       " View run <strong style=\"color:#cdcd00\">dauntless-sweep-5</strong> at: <a href='https://wandb.ai/barbonigiorgia-sapienza-universit-di-roma/graph-classification-graphs_sc/runs/xio9hcnn' target=\"_blank\">https://wandb.ai/barbonigiorgia-sapienza-universit-di-roma/graph-classification-graphs_sc/runs/xio9hcnn</a><br/> View project at: <a href='https://wandb.ai/barbonigiorgia-sapienza-universit-di-roma/graph-classification-graphs_sc' target=\"_blank\">https://wandb.ai/barbonigiorgia-sapienza-universit-di-roma/graph-classification-graphs_sc</a><br/>Synced 5 W&B file(s), 0 media file(s), 10 artifact file(s) and 0 other file(s)"
      ],
      "text/plain": [
       "<IPython.core.display.HTML object>"
      ]
     },
     "metadata": {},
     "output_type": "display_data"
    },
    {
     "data": {
      "text/html": [
       "Find logs at: <code>.\\wandb\\run-20241115_231440-xio9hcnn\\logs</code>"
      ],
      "text/plain": [
       "<IPython.core.display.HTML object>"
      ]
     },
     "metadata": {},
     "output_type": "display_data"
    },
    {
     "name": "stderr",
     "output_type": "stream",
     "text": [
      "\u001b[34m\u001b[1mwandb\u001b[0m: Agent Starting Run: ms2bs2pv with config:\n",
      "\u001b[34m\u001b[1mwandb\u001b[0m: \tbatch_size: 8\n",
      "\u001b[34m\u001b[1mwandb\u001b[0m: \tin_channels: 6\n",
      "\u001b[34m\u001b[1mwandb\u001b[0m: \tlearning_rate: 0.01\n",
      "\u001b[34m\u001b[1mwandb\u001b[0m: \tnum_epochs: 10\n",
      "\u001b[34m\u001b[1mwandb\u001b[0m: \tnum_heads: 3\n",
      "\u001b[34m\u001b[1mwandb\u001b[0m: \toptimizer: adam\n",
      "\u001b[34m\u001b[1mwandb\u001b[0m: \tout_channels: 8\n",
      "\u001b[34m\u001b[1mwandb\u001b[0m: \trandom_state: 42\n",
      "\u001b[34m\u001b[1mwandb\u001b[0m: \ttest_size: 0.3\n",
      "\u001b[34m\u001b[1mwandb\u001b[0m: \tweight_decay: 0.0001\n"
     ]
    },
    {
     "data": {
      "text/html": [
       "Tracking run with wandb version 0.18.5"
      ],
      "text/plain": [
       "<IPython.core.display.HTML object>"
      ]
     },
     "metadata": {},
     "output_type": "display_data"
    },
    {
     "data": {
      "text/html": [
       "Run data is saved locally in <code>c:\\Users\\barbo\\brain classifier repo\\brain_classifier\\src\\wandb\\run-20241115_231543-ms2bs2pv</code>"
      ],
      "text/plain": [
       "<IPython.core.display.HTML object>"
      ]
     },
     "metadata": {},
     "output_type": "display_data"
    },
    {
     "data": {
      "text/html": [
       "Syncing run <strong><a href='https://wandb.ai/barbonigiorgia-sapienza-universit-di-roma/graph-classification-graphs_sc/runs/ms2bs2pv' target=\"_blank\">icy-sweep-6</a></strong> to <a href='https://wandb.ai/barbonigiorgia-sapienza-universit-di-roma/graph-classification-graphs_sc' target=\"_blank\">Weights & Biases</a> (<a href='https://wandb.me/run' target=\"_blank\">docs</a>)<br/>Sweep page: <a href='https://wandb.ai/barbonigiorgia-sapienza-universit-di-roma/graph-classification-graphs_sc/sweeps/lhemejv7' target=\"_blank\">https://wandb.ai/barbonigiorgia-sapienza-universit-di-roma/graph-classification-graphs_sc/sweeps/lhemejv7</a>"
      ],
      "text/plain": [
       "<IPython.core.display.HTML object>"
      ]
     },
     "metadata": {},
     "output_type": "display_data"
    },
    {
     "data": {
      "text/html": [
       " View project at <a href='https://wandb.ai/barbonigiorgia-sapienza-universit-di-roma/graph-classification-graphs_sc' target=\"_blank\">https://wandb.ai/barbonigiorgia-sapienza-universit-di-roma/graph-classification-graphs_sc</a>"
      ],
      "text/plain": [
       "<IPython.core.display.HTML object>"
      ]
     },
     "metadata": {},
     "output_type": "display_data"
    },
    {
     "data": {
      "text/html": [
       " View sweep at <a href='https://wandb.ai/barbonigiorgia-sapienza-universit-di-roma/graph-classification-graphs_sc/sweeps/lhemejv7' target=\"_blank\">https://wandb.ai/barbonigiorgia-sapienza-universit-di-roma/graph-classification-graphs_sc/sweeps/lhemejv7</a>"
      ],
      "text/plain": [
       "<IPython.core.display.HTML object>"
      ]
     },
     "metadata": {},
     "output_type": "display_data"
    },
    {
     "data": {
      "text/html": [
       " View run at <a href='https://wandb.ai/barbonigiorgia-sapienza-universit-di-roma/graph-classification-graphs_sc/runs/ms2bs2pv' target=\"_blank\">https://wandb.ai/barbonigiorgia-sapienza-universit-di-roma/graph-classification-graphs_sc/runs/ms2bs2pv</a>"
      ],
      "text/plain": [
       "<IPython.core.display.HTML object>"
      ]
     },
     "metadata": {},
     "output_type": "display_data"
    },
    {
     "name": "stdout",
     "output_type": "stream",
     "text": [
      "Running with config: {'batch_size': 8, 'in_channels': 6, 'learning_rate': 0.01, 'num_epochs': 10, 'num_heads': 3, 'optimizer': 'adam', 'out_channels': 8, 'random_state': 42, 'test_size': 0.3, 'weight_decay': 0.0001}\n"
     ]
    },
    {
     "data": {
      "text/html": [
       "<style>\n",
       "    table.wandb td:nth-child(1) { padding: 0 10px; text-align: left ; width: auto;} td:nth-child(2) {text-align: left ; width: 100%}\n",
       "    .wandb-row { display: flex; flex-direction: row; flex-wrap: wrap; justify-content: flex-start; width: 100% }\n",
       "    .wandb-col { display: flex; flex-direction: column; flex-basis: 100%; flex: 1; padding: 10px; }\n",
       "    </style>\n",
       "<div class=\"wandb-row\"><div class=\"wandb-col\"><h3>Run history:</h3><br/><table class=\"wandb\"><tr><td>epoch</td><td>▁▂▃▃▄▅▆▆▇█</td></tr><tr><td>train_accuracy</td><td>▁▅▇▇██████</td></tr><tr><td>train_f1</td><td>▁▃▇▇██████</td></tr><tr><td>train_loss</td><td>█▆▄▃▂▂▁▂▁▁</td></tr><tr><td>val_accuracy</td><td>▁▅▄▇▄████▇</td></tr><tr><td>val_f1</td><td>▁▅▅▇▅████▇</td></tr><tr><td>val_loss</td><td>█▇▅▄▃▂▁▁▁▂</td></tr></table><br/></div><div class=\"wandb-col\"><h3>Run summary:</h3><br/><table class=\"wandb\"><tr><td>epoch</td><td>10</td></tr><tr><td>train_accuracy</td><td>0.752</td></tr><tr><td>train_f1</td><td>0.75102</td></tr><tr><td>train_loss</td><td>0.50876</td></tr><tr><td>val_accuracy</td><td>0.77778</td></tr><tr><td>val_f1</td><td>0.77778</td></tr><tr><td>val_loss</td><td>0.43726</td></tr></table><br/></div></div>"
      ],
      "text/plain": [
       "<IPython.core.display.HTML object>"
      ]
     },
     "metadata": {},
     "output_type": "display_data"
    },
    {
     "data": {
      "text/html": [
       " View run <strong style=\"color:#cdcd00\">icy-sweep-6</strong> at: <a href='https://wandb.ai/barbonigiorgia-sapienza-universit-di-roma/graph-classification-graphs_sc/runs/ms2bs2pv' target=\"_blank\">https://wandb.ai/barbonigiorgia-sapienza-universit-di-roma/graph-classification-graphs_sc/runs/ms2bs2pv</a><br/> View project at: <a href='https://wandb.ai/barbonigiorgia-sapienza-universit-di-roma/graph-classification-graphs_sc' target=\"_blank\">https://wandb.ai/barbonigiorgia-sapienza-universit-di-roma/graph-classification-graphs_sc</a><br/>Synced 5 W&B file(s), 0 media file(s), 10 artifact file(s) and 0 other file(s)"
      ],
      "text/plain": [
       "<IPython.core.display.HTML object>"
      ]
     },
     "metadata": {},
     "output_type": "display_data"
    },
    {
     "data": {
      "text/html": [
       "Find logs at: <code>.\\wandb\\run-20241115_231543-ms2bs2pv\\logs</code>"
      ],
      "text/plain": [
       "<IPython.core.display.HTML object>"
      ]
     },
     "metadata": {},
     "output_type": "display_data"
    },
    {
     "name": "stderr",
     "output_type": "stream",
     "text": [
      "\u001b[34m\u001b[1mwandb\u001b[0m: Agent Starting Run: iewqf03c with config:\n",
      "\u001b[34m\u001b[1mwandb\u001b[0m: \tbatch_size: 8\n",
      "\u001b[34m\u001b[1mwandb\u001b[0m: \tin_channels: 6\n",
      "\u001b[34m\u001b[1mwandb\u001b[0m: \tlearning_rate: 0.01\n",
      "\u001b[34m\u001b[1mwandb\u001b[0m: \tnum_epochs: 10\n",
      "\u001b[34m\u001b[1mwandb\u001b[0m: \tnum_heads: 3\n",
      "\u001b[34m\u001b[1mwandb\u001b[0m: \toptimizer: adam\n",
      "\u001b[34m\u001b[1mwandb\u001b[0m: \tout_channels: 12\n",
      "\u001b[34m\u001b[1mwandb\u001b[0m: \trandom_state: 42\n",
      "\u001b[34m\u001b[1mwandb\u001b[0m: \ttest_size: 0.3\n",
      "\u001b[34m\u001b[1mwandb\u001b[0m: \tweight_decay: 0\n"
     ]
    },
    {
     "data": {
      "text/html": [
       "Tracking run with wandb version 0.18.5"
      ],
      "text/plain": [
       "<IPython.core.display.HTML object>"
      ]
     },
     "metadata": {},
     "output_type": "display_data"
    },
    {
     "data": {
      "text/html": [
       "Run data is saved locally in <code>c:\\Users\\barbo\\brain classifier repo\\brain_classifier\\src\\wandb\\run-20241115_231645-iewqf03c</code>"
      ],
      "text/plain": [
       "<IPython.core.display.HTML object>"
      ]
     },
     "metadata": {},
     "output_type": "display_data"
    },
    {
     "data": {
      "text/html": [
       "Syncing run <strong><a href='https://wandb.ai/barbonigiorgia-sapienza-universit-di-roma/graph-classification-graphs_sc/runs/iewqf03c' target=\"_blank\">easy-sweep-7</a></strong> to <a href='https://wandb.ai/barbonigiorgia-sapienza-universit-di-roma/graph-classification-graphs_sc' target=\"_blank\">Weights & Biases</a> (<a href='https://wandb.me/run' target=\"_blank\">docs</a>)<br/>Sweep page: <a href='https://wandb.ai/barbonigiorgia-sapienza-universit-di-roma/graph-classification-graphs_sc/sweeps/lhemejv7' target=\"_blank\">https://wandb.ai/barbonigiorgia-sapienza-universit-di-roma/graph-classification-graphs_sc/sweeps/lhemejv7</a>"
      ],
      "text/plain": [
       "<IPython.core.display.HTML object>"
      ]
     },
     "metadata": {},
     "output_type": "display_data"
    },
    {
     "data": {
      "text/html": [
       " View project at <a href='https://wandb.ai/barbonigiorgia-sapienza-universit-di-roma/graph-classification-graphs_sc' target=\"_blank\">https://wandb.ai/barbonigiorgia-sapienza-universit-di-roma/graph-classification-graphs_sc</a>"
      ],
      "text/plain": [
       "<IPython.core.display.HTML object>"
      ]
     },
     "metadata": {},
     "output_type": "display_data"
    },
    {
     "data": {
      "text/html": [
       " View sweep at <a href='https://wandb.ai/barbonigiorgia-sapienza-universit-di-roma/graph-classification-graphs_sc/sweeps/lhemejv7' target=\"_blank\">https://wandb.ai/barbonigiorgia-sapienza-universit-di-roma/graph-classification-graphs_sc/sweeps/lhemejv7</a>"
      ],
      "text/plain": [
       "<IPython.core.display.HTML object>"
      ]
     },
     "metadata": {},
     "output_type": "display_data"
    },
    {
     "data": {
      "text/html": [
       " View run at <a href='https://wandb.ai/barbonigiorgia-sapienza-universit-di-roma/graph-classification-graphs_sc/runs/iewqf03c' target=\"_blank\">https://wandb.ai/barbonigiorgia-sapienza-universit-di-roma/graph-classification-graphs_sc/runs/iewqf03c</a>"
      ],
      "text/plain": [
       "<IPython.core.display.HTML object>"
      ]
     },
     "metadata": {},
     "output_type": "display_data"
    },
    {
     "name": "stdout",
     "output_type": "stream",
     "text": [
      "Running with config: {'batch_size': 8, 'in_channels': 6, 'learning_rate': 0.01, 'num_epochs': 10, 'num_heads': 3, 'optimizer': 'adam', 'out_channels': 12, 'random_state': 42, 'test_size': 0.3, 'weight_decay': 0}\n"
     ]
    },
    {
     "data": {
      "text/html": [
       "<style>\n",
       "    table.wandb td:nth-child(1) { padding: 0 10px; text-align: left ; width: auto;} td:nth-child(2) {text-align: left ; width: 100%}\n",
       "    .wandb-row { display: flex; flex-direction: row; flex-wrap: wrap; justify-content: flex-start; width: 100% }\n",
       "    .wandb-col { display: flex; flex-direction: column; flex-basis: 100%; flex: 1; padding: 10px; }\n",
       "    </style>\n",
       "<div class=\"wandb-row\"><div class=\"wandb-col\"><h3>Run history:</h3><br/><table class=\"wandb\"><tr><td>epoch</td><td>▁▂▃▃▄▅▆▆▇█</td></tr><tr><td>train_accuracy</td><td>▁▅▆▆▆▇▇▇█▇</td></tr><tr><td>train_f1</td><td>▁▆▇▇▇▇█▇██</td></tr><tr><td>train_loss</td><td>█▆▄▃▂▂▁▂▁▁</td></tr><tr><td>val_accuracy</td><td>▁▃█▇▇▆█▇▆▇</td></tr><tr><td>val_f1</td><td>▁▃█▇▇▆█▇▆▇</td></tr><tr><td>val_loss</td><td>█▇▅▄▃▂▂▁▂▁</td></tr></table><br/></div><div class=\"wandb-col\"><h3>Run summary:</h3><br/><table class=\"wandb\"><tr><td>epoch</td><td>10</td></tr><tr><td>train_accuracy</td><td>0.752</td></tr><tr><td>train_f1</td><td>0.75171</td></tr><tr><td>train_loss</td><td>0.51655</td></tr><tr><td>val_accuracy</td><td>0.77778</td></tr><tr><td>val_f1</td><td>0.77462</td></tr><tr><td>val_loss</td><td>0.46585</td></tr></table><br/></div></div>"
      ],
      "text/plain": [
       "<IPython.core.display.HTML object>"
      ]
     },
     "metadata": {},
     "output_type": "display_data"
    },
    {
     "data": {
      "text/html": [
       " View run <strong style=\"color:#cdcd00\">easy-sweep-7</strong> at: <a href='https://wandb.ai/barbonigiorgia-sapienza-universit-di-roma/graph-classification-graphs_sc/runs/iewqf03c' target=\"_blank\">https://wandb.ai/barbonigiorgia-sapienza-universit-di-roma/graph-classification-graphs_sc/runs/iewqf03c</a><br/> View project at: <a href='https://wandb.ai/barbonigiorgia-sapienza-universit-di-roma/graph-classification-graphs_sc' target=\"_blank\">https://wandb.ai/barbonigiorgia-sapienza-universit-di-roma/graph-classification-graphs_sc</a><br/>Synced 5 W&B file(s), 0 media file(s), 8 artifact file(s) and 0 other file(s)"
      ],
      "text/plain": [
       "<IPython.core.display.HTML object>"
      ]
     },
     "metadata": {},
     "output_type": "display_data"
    },
    {
     "data": {
      "text/html": [
       "Find logs at: <code>.\\wandb\\run-20241115_231645-iewqf03c\\logs</code>"
      ],
      "text/plain": [
       "<IPython.core.display.HTML object>"
      ]
     },
     "metadata": {},
     "output_type": "display_data"
    },
    {
     "name": "stderr",
     "output_type": "stream",
     "text": [
      "\u001b[34m\u001b[1mwandb\u001b[0m: Agent Starting Run: tmzm9st6 with config:\n",
      "\u001b[34m\u001b[1mwandb\u001b[0m: \tbatch_size: 8\n",
      "\u001b[34m\u001b[1mwandb\u001b[0m: \tin_channels: 6\n",
      "\u001b[34m\u001b[1mwandb\u001b[0m: \tlearning_rate: 0.01\n",
      "\u001b[34m\u001b[1mwandb\u001b[0m: \tnum_epochs: 10\n",
      "\u001b[34m\u001b[1mwandb\u001b[0m: \tnum_heads: 3\n",
      "\u001b[34m\u001b[1mwandb\u001b[0m: \toptimizer: adam\n",
      "\u001b[34m\u001b[1mwandb\u001b[0m: \tout_channels: 12\n",
      "\u001b[34m\u001b[1mwandb\u001b[0m: \trandom_state: 42\n",
      "\u001b[34m\u001b[1mwandb\u001b[0m: \ttest_size: 0.3\n",
      "\u001b[34m\u001b[1mwandb\u001b[0m: \tweight_decay: 1e-05\n"
     ]
    },
    {
     "data": {
      "text/html": [
       "Tracking run with wandb version 0.18.5"
      ],
      "text/plain": [
       "<IPython.core.display.HTML object>"
      ]
     },
     "metadata": {},
     "output_type": "display_data"
    },
    {
     "data": {
      "text/html": [
       "Run data is saved locally in <code>c:\\Users\\barbo\\brain classifier repo\\brain_classifier\\src\\wandb\\run-20241115_231748-tmzm9st6</code>"
      ],
      "text/plain": [
       "<IPython.core.display.HTML object>"
      ]
     },
     "metadata": {},
     "output_type": "display_data"
    },
    {
     "data": {
      "text/html": [
       "Syncing run <strong><a href='https://wandb.ai/barbonigiorgia-sapienza-universit-di-roma/graph-classification-graphs_sc/runs/tmzm9st6' target=\"_blank\">stoic-sweep-8</a></strong> to <a href='https://wandb.ai/barbonigiorgia-sapienza-universit-di-roma/graph-classification-graphs_sc' target=\"_blank\">Weights & Biases</a> (<a href='https://wandb.me/run' target=\"_blank\">docs</a>)<br/>Sweep page: <a href='https://wandb.ai/barbonigiorgia-sapienza-universit-di-roma/graph-classification-graphs_sc/sweeps/lhemejv7' target=\"_blank\">https://wandb.ai/barbonigiorgia-sapienza-universit-di-roma/graph-classification-graphs_sc/sweeps/lhemejv7</a>"
      ],
      "text/plain": [
       "<IPython.core.display.HTML object>"
      ]
     },
     "metadata": {},
     "output_type": "display_data"
    },
    {
     "data": {
      "text/html": [
       " View project at <a href='https://wandb.ai/barbonigiorgia-sapienza-universit-di-roma/graph-classification-graphs_sc' target=\"_blank\">https://wandb.ai/barbonigiorgia-sapienza-universit-di-roma/graph-classification-graphs_sc</a>"
      ],
      "text/plain": [
       "<IPython.core.display.HTML object>"
      ]
     },
     "metadata": {},
     "output_type": "display_data"
    },
    {
     "data": {
      "text/html": [
       " View sweep at <a href='https://wandb.ai/barbonigiorgia-sapienza-universit-di-roma/graph-classification-graphs_sc/sweeps/lhemejv7' target=\"_blank\">https://wandb.ai/barbonigiorgia-sapienza-universit-di-roma/graph-classification-graphs_sc/sweeps/lhemejv7</a>"
      ],
      "text/plain": [
       "<IPython.core.display.HTML object>"
      ]
     },
     "metadata": {},
     "output_type": "display_data"
    },
    {
     "data": {
      "text/html": [
       " View run at <a href='https://wandb.ai/barbonigiorgia-sapienza-universit-di-roma/graph-classification-graphs_sc/runs/tmzm9st6' target=\"_blank\">https://wandb.ai/barbonigiorgia-sapienza-universit-di-roma/graph-classification-graphs_sc/runs/tmzm9st6</a>"
      ],
      "text/plain": [
       "<IPython.core.display.HTML object>"
      ]
     },
     "metadata": {},
     "output_type": "display_data"
    },
    {
     "name": "stdout",
     "output_type": "stream",
     "text": [
      "Running with config: {'batch_size': 8, 'in_channels': 6, 'learning_rate': 0.01, 'num_epochs': 10, 'num_heads': 3, 'optimizer': 'adam', 'out_channels': 12, 'random_state': 42, 'test_size': 0.3, 'weight_decay': 1e-05}\n"
     ]
    },
    {
     "data": {
      "text/html": [
       "<style>\n",
       "    table.wandb td:nth-child(1) { padding: 0 10px; text-align: left ; width: auto;} td:nth-child(2) {text-align: left ; width: 100%}\n",
       "    .wandb-row { display: flex; flex-direction: row; flex-wrap: wrap; justify-content: flex-start; width: 100% }\n",
       "    .wandb-col { display: flex; flex-direction: column; flex-basis: 100%; flex: 1; padding: 10px; }\n",
       "    </style>\n",
       "<div class=\"wandb-row\"><div class=\"wandb-col\"><h3>Run history:</h3><br/><table class=\"wandb\"><tr><td>epoch</td><td>▁▂▃▃▄▅▆▆▇█</td></tr><tr><td>train_accuracy</td><td>▁▅▆▆▆▇▇▇█▇</td></tr><tr><td>train_f1</td><td>▁▆▇▇▇▇█▇██</td></tr><tr><td>train_loss</td><td>█▆▄▃▂▂▁▂▁▁</td></tr><tr><td>val_accuracy</td><td>▁▃█▇▇▆█▇▆▇</td></tr><tr><td>val_f1</td><td>▁▃█▇▇▆█▇▆▇</td></tr><tr><td>val_loss</td><td>█▇▅▄▃▂▂▁▂▁</td></tr></table><br/></div><div class=\"wandb-col\"><h3>Run summary:</h3><br/><table class=\"wandb\"><tr><td>epoch</td><td>10</td></tr><tr><td>train_accuracy</td><td>0.752</td></tr><tr><td>train_f1</td><td>0.75171</td></tr><tr><td>train_loss</td><td>0.51668</td></tr><tr><td>val_accuracy</td><td>0.77778</td></tr><tr><td>val_f1</td><td>0.77462</td></tr><tr><td>val_loss</td><td>0.46623</td></tr></table><br/></div></div>"
      ],
      "text/plain": [
       "<IPython.core.display.HTML object>"
      ]
     },
     "metadata": {},
     "output_type": "display_data"
    },
    {
     "data": {
      "text/html": [
       " View run <strong style=\"color:#cdcd00\">stoic-sweep-8</strong> at: <a href='https://wandb.ai/barbonigiorgia-sapienza-universit-di-roma/graph-classification-graphs_sc/runs/tmzm9st6' target=\"_blank\">https://wandb.ai/barbonigiorgia-sapienza-universit-di-roma/graph-classification-graphs_sc/runs/tmzm9st6</a><br/> View project at: <a href='https://wandb.ai/barbonigiorgia-sapienza-universit-di-roma/graph-classification-graphs_sc' target=\"_blank\">https://wandb.ai/barbonigiorgia-sapienza-universit-di-roma/graph-classification-graphs_sc</a><br/>Synced 5 W&B file(s), 0 media file(s), 8 artifact file(s) and 0 other file(s)"
      ],
      "text/plain": [
       "<IPython.core.display.HTML object>"
      ]
     },
     "metadata": {},
     "output_type": "display_data"
    },
    {
     "data": {
      "text/html": [
       "Find logs at: <code>.\\wandb\\run-20241115_231748-tmzm9st6\\logs</code>"
      ],
      "text/plain": [
       "<IPython.core.display.HTML object>"
      ]
     },
     "metadata": {},
     "output_type": "display_data"
    },
    {
     "name": "stderr",
     "output_type": "stream",
     "text": [
      "\u001b[34m\u001b[1mwandb\u001b[0m: Agent Starting Run: 46saklfz with config:\n",
      "\u001b[34m\u001b[1mwandb\u001b[0m: \tbatch_size: 8\n",
      "\u001b[34m\u001b[1mwandb\u001b[0m: \tin_channels: 6\n",
      "\u001b[34m\u001b[1mwandb\u001b[0m: \tlearning_rate: 0.01\n",
      "\u001b[34m\u001b[1mwandb\u001b[0m: \tnum_epochs: 10\n",
      "\u001b[34m\u001b[1mwandb\u001b[0m: \tnum_heads: 3\n",
      "\u001b[34m\u001b[1mwandb\u001b[0m: \toptimizer: adam\n",
      "\u001b[34m\u001b[1mwandb\u001b[0m: \tout_channels: 12\n",
      "\u001b[34m\u001b[1mwandb\u001b[0m: \trandom_state: 42\n",
      "\u001b[34m\u001b[1mwandb\u001b[0m: \ttest_size: 0.3\n",
      "\u001b[34m\u001b[1mwandb\u001b[0m: \tweight_decay: 0.0001\n"
     ]
    },
    {
     "data": {
      "text/html": [
       "Tracking run with wandb version 0.18.5"
      ],
      "text/plain": [
       "<IPython.core.display.HTML object>"
      ]
     },
     "metadata": {},
     "output_type": "display_data"
    },
    {
     "data": {
      "text/html": [
       "Run data is saved locally in <code>c:\\Users\\barbo\\brain classifier repo\\brain_classifier\\src\\wandb\\run-20241115_231851-46saklfz</code>"
      ],
      "text/plain": [
       "<IPython.core.display.HTML object>"
      ]
     },
     "metadata": {},
     "output_type": "display_data"
    },
    {
     "data": {
      "text/html": [
       "Syncing run <strong><a href='https://wandb.ai/barbonigiorgia-sapienza-universit-di-roma/graph-classification-graphs_sc/runs/46saklfz' target=\"_blank\">pious-sweep-9</a></strong> to <a href='https://wandb.ai/barbonigiorgia-sapienza-universit-di-roma/graph-classification-graphs_sc' target=\"_blank\">Weights & Biases</a> (<a href='https://wandb.me/run' target=\"_blank\">docs</a>)<br/>Sweep page: <a href='https://wandb.ai/barbonigiorgia-sapienza-universit-di-roma/graph-classification-graphs_sc/sweeps/lhemejv7' target=\"_blank\">https://wandb.ai/barbonigiorgia-sapienza-universit-di-roma/graph-classification-graphs_sc/sweeps/lhemejv7</a>"
      ],
      "text/plain": [
       "<IPython.core.display.HTML object>"
      ]
     },
     "metadata": {},
     "output_type": "display_data"
    },
    {
     "data": {
      "text/html": [
       " View project at <a href='https://wandb.ai/barbonigiorgia-sapienza-universit-di-roma/graph-classification-graphs_sc' target=\"_blank\">https://wandb.ai/barbonigiorgia-sapienza-universit-di-roma/graph-classification-graphs_sc</a>"
      ],
      "text/plain": [
       "<IPython.core.display.HTML object>"
      ]
     },
     "metadata": {},
     "output_type": "display_data"
    },
    {
     "data": {
      "text/html": [
       " View sweep at <a href='https://wandb.ai/barbonigiorgia-sapienza-universit-di-roma/graph-classification-graphs_sc/sweeps/lhemejv7' target=\"_blank\">https://wandb.ai/barbonigiorgia-sapienza-universit-di-roma/graph-classification-graphs_sc/sweeps/lhemejv7</a>"
      ],
      "text/plain": [
       "<IPython.core.display.HTML object>"
      ]
     },
     "metadata": {},
     "output_type": "display_data"
    },
    {
     "data": {
      "text/html": [
       " View run at <a href='https://wandb.ai/barbonigiorgia-sapienza-universit-di-roma/graph-classification-graphs_sc/runs/46saklfz' target=\"_blank\">https://wandb.ai/barbonigiorgia-sapienza-universit-di-roma/graph-classification-graphs_sc/runs/46saklfz</a>"
      ],
      "text/plain": [
       "<IPython.core.display.HTML object>"
      ]
     },
     "metadata": {},
     "output_type": "display_data"
    },
    {
     "name": "stdout",
     "output_type": "stream",
     "text": [
      "Running with config: {'batch_size': 8, 'in_channels': 6, 'learning_rate': 0.01, 'num_epochs': 10, 'num_heads': 3, 'optimizer': 'adam', 'out_channels': 12, 'random_state': 42, 'test_size': 0.3, 'weight_decay': 0.0001}\n"
     ]
    },
    {
     "data": {
      "text/html": [
       "<style>\n",
       "    table.wandb td:nth-child(1) { padding: 0 10px; text-align: left ; width: auto;} td:nth-child(2) {text-align: left ; width: 100%}\n",
       "    .wandb-row { display: flex; flex-direction: row; flex-wrap: wrap; justify-content: flex-start; width: 100% }\n",
       "    .wandb-col { display: flex; flex-direction: column; flex-basis: 100%; flex: 1; padding: 10px; }\n",
       "    </style>\n",
       "<div class=\"wandb-row\"><div class=\"wandb-col\"><h3>Run history:</h3><br/><table class=\"wandb\"><tr><td>epoch</td><td>▁▂▃▃▄▅▆▆▇█</td></tr><tr><td>train_accuracy</td><td>▁▅▇▇▆██▇██</td></tr><tr><td>train_f1</td><td>▁▆▇▇▇█████</td></tr><tr><td>train_loss</td><td>█▆▄▃▂▂▁▂▁▁</td></tr><tr><td>val_accuracy</td><td>▁▂▇▇▇▅█▇▅▇</td></tr><tr><td>val_f1</td><td>▁▂▇▇▇▆█▇▆▇</td></tr><tr><td>val_loss</td><td>█▇▅▄▃▂▂▁▂▁</td></tr></table><br/></div><div class=\"wandb-col\"><h3>Run summary:</h3><br/><table class=\"wandb\"><tr><td>epoch</td><td>10</td></tr><tr><td>train_accuracy</td><td>0.752</td></tr><tr><td>train_f1</td><td>0.75171</td></tr><tr><td>train_loss</td><td>0.51767</td></tr><tr><td>val_accuracy</td><td>0.77778</td></tr><tr><td>val_f1</td><td>0.77462</td></tr><tr><td>val_loss</td><td>0.46938</td></tr></table><br/></div></div>"
      ],
      "text/plain": [
       "<IPython.core.display.HTML object>"
      ]
     },
     "metadata": {},
     "output_type": "display_data"
    },
    {
     "data": {
      "text/html": [
       " View run <strong style=\"color:#cdcd00\">pious-sweep-9</strong> at: <a href='https://wandb.ai/barbonigiorgia-sapienza-universit-di-roma/graph-classification-graphs_sc/runs/46saklfz' target=\"_blank\">https://wandb.ai/barbonigiorgia-sapienza-universit-di-roma/graph-classification-graphs_sc/runs/46saklfz</a><br/> View project at: <a href='https://wandb.ai/barbonigiorgia-sapienza-universit-di-roma/graph-classification-graphs_sc' target=\"_blank\">https://wandb.ai/barbonigiorgia-sapienza-universit-di-roma/graph-classification-graphs_sc</a><br/>Synced 5 W&B file(s), 0 media file(s), 10 artifact file(s) and 0 other file(s)"
      ],
      "text/plain": [
       "<IPython.core.display.HTML object>"
      ]
     },
     "metadata": {},
     "output_type": "display_data"
    },
    {
     "data": {
      "text/html": [
       "Find logs at: <code>.\\wandb\\run-20241115_231851-46saklfz\\logs</code>"
      ],
      "text/plain": [
       "<IPython.core.display.HTML object>"
      ]
     },
     "metadata": {},
     "output_type": "display_data"
    },
    {
     "name": "stderr",
     "output_type": "stream",
     "text": [
      "\u001b[34m\u001b[1mwandb\u001b[0m: Agent Starting Run: 2803hxhf with config:\n",
      "\u001b[34m\u001b[1mwandb\u001b[0m: \tbatch_size: 8\n",
      "\u001b[34m\u001b[1mwandb\u001b[0m: \tin_channels: 6\n",
      "\u001b[34m\u001b[1mwandb\u001b[0m: \tlearning_rate: 0.01\n",
      "\u001b[34m\u001b[1mwandb\u001b[0m: \tnum_epochs: 10\n",
      "\u001b[34m\u001b[1mwandb\u001b[0m: \tnum_heads: 4\n",
      "\u001b[34m\u001b[1mwandb\u001b[0m: \toptimizer: adam\n",
      "\u001b[34m\u001b[1mwandb\u001b[0m: \tout_channels: 4\n",
      "\u001b[34m\u001b[1mwandb\u001b[0m: \trandom_state: 42\n",
      "\u001b[34m\u001b[1mwandb\u001b[0m: \ttest_size: 0.3\n",
      "\u001b[34m\u001b[1mwandb\u001b[0m: \tweight_decay: 0\n"
     ]
    },
    {
     "data": {
      "text/html": [
       "Tracking run with wandb version 0.18.5"
      ],
      "text/plain": [
       "<IPython.core.display.HTML object>"
      ]
     },
     "metadata": {},
     "output_type": "display_data"
    },
    {
     "data": {
      "text/html": [
       "Run data is saved locally in <code>c:\\Users\\barbo\\brain classifier repo\\brain_classifier\\src\\wandb\\run-20241115_231959-2803hxhf</code>"
      ],
      "text/plain": [
       "<IPython.core.display.HTML object>"
      ]
     },
     "metadata": {},
     "output_type": "display_data"
    },
    {
     "data": {
      "text/html": [
       "Syncing run <strong><a href='https://wandb.ai/barbonigiorgia-sapienza-universit-di-roma/graph-classification-graphs_sc/runs/2803hxhf' target=\"_blank\">radiant-sweep-10</a></strong> to <a href='https://wandb.ai/barbonigiorgia-sapienza-universit-di-roma/graph-classification-graphs_sc' target=\"_blank\">Weights & Biases</a> (<a href='https://wandb.me/run' target=\"_blank\">docs</a>)<br/>Sweep page: <a href='https://wandb.ai/barbonigiorgia-sapienza-universit-di-roma/graph-classification-graphs_sc/sweeps/lhemejv7' target=\"_blank\">https://wandb.ai/barbonigiorgia-sapienza-universit-di-roma/graph-classification-graphs_sc/sweeps/lhemejv7</a>"
      ],
      "text/plain": [
       "<IPython.core.display.HTML object>"
      ]
     },
     "metadata": {},
     "output_type": "display_data"
    },
    {
     "data": {
      "text/html": [
       " View project at <a href='https://wandb.ai/barbonigiorgia-sapienza-universit-di-roma/graph-classification-graphs_sc' target=\"_blank\">https://wandb.ai/barbonigiorgia-sapienza-universit-di-roma/graph-classification-graphs_sc</a>"
      ],
      "text/plain": [
       "<IPython.core.display.HTML object>"
      ]
     },
     "metadata": {},
     "output_type": "display_data"
    },
    {
     "data": {
      "text/html": [
       " View sweep at <a href='https://wandb.ai/barbonigiorgia-sapienza-universit-di-roma/graph-classification-graphs_sc/sweeps/lhemejv7' target=\"_blank\">https://wandb.ai/barbonigiorgia-sapienza-universit-di-roma/graph-classification-graphs_sc/sweeps/lhemejv7</a>"
      ],
      "text/plain": [
       "<IPython.core.display.HTML object>"
      ]
     },
     "metadata": {},
     "output_type": "display_data"
    },
    {
     "data": {
      "text/html": [
       " View run at <a href='https://wandb.ai/barbonigiorgia-sapienza-universit-di-roma/graph-classification-graphs_sc/runs/2803hxhf' target=\"_blank\">https://wandb.ai/barbonigiorgia-sapienza-universit-di-roma/graph-classification-graphs_sc/runs/2803hxhf</a>"
      ],
      "text/plain": [
       "<IPython.core.display.HTML object>"
      ]
     },
     "metadata": {},
     "output_type": "display_data"
    },
    {
     "name": "stdout",
     "output_type": "stream",
     "text": [
      "Running with config: {'batch_size': 8, 'in_channels': 6, 'learning_rate': 0.01, 'num_epochs': 10, 'num_heads': 4, 'optimizer': 'adam', 'out_channels': 4, 'random_state': 42, 'test_size': 0.3, 'weight_decay': 0}\n"
     ]
    },
    {
     "data": {
      "text/html": [
       "<style>\n",
       "    table.wandb td:nth-child(1) { padding: 0 10px; text-align: left ; width: auto;} td:nth-child(2) {text-align: left ; width: 100%}\n",
       "    .wandb-row { display: flex; flex-direction: row; flex-wrap: wrap; justify-content: flex-start; width: 100% }\n",
       "    .wandb-col { display: flex; flex-direction: column; flex-basis: 100%; flex: 1; padding: 10px; }\n",
       "    </style>\n",
       "<div class=\"wandb-row\"><div class=\"wandb-col\"><h3>Run history:</h3><br/><table class=\"wandb\"><tr><td>epoch</td><td>▁▂▃▃▄▅▆▆▇█</td></tr><tr><td>train_accuracy</td><td>▁▁▃▃▆▇▇▇██</td></tr><tr><td>train_f1</td><td>▁▃▁▂▆▇▇▇██</td></tr><tr><td>train_loss</td><td>█▇▅▅▄▃▂▂▁▁</td></tr><tr><td>val_accuracy</td><td>▁▅▅▅▅▆▆▇▇█</td></tr><tr><td>val_f1</td><td>▁▄▅▅▆▆▆▇▇█</td></tr><tr><td>val_loss</td><td>█▇▆▆▅▄▃▂▁▁</td></tr></table><br/></div><div class=\"wandb-col\"><h3>Run summary:</h3><br/><table class=\"wandb\"><tr><td>epoch</td><td>10</td></tr><tr><td>train_accuracy</td><td>0.784</td></tr><tr><td>train_f1</td><td>0.78159</td></tr><tr><td>train_loss</td><td>0.5255</td></tr><tr><td>val_accuracy</td><td>0.81481</td></tr><tr><td>val_f1</td><td>0.81378</td></tr><tr><td>val_loss</td><td>0.51662</td></tr></table><br/></div></div>"
      ],
      "text/plain": [
       "<IPython.core.display.HTML object>"
      ]
     },
     "metadata": {},
     "output_type": "display_data"
    },
    {
     "data": {
      "text/html": [
       " View run <strong style=\"color:#cdcd00\">radiant-sweep-10</strong> at: <a href='https://wandb.ai/barbonigiorgia-sapienza-universit-di-roma/graph-classification-graphs_sc/runs/2803hxhf' target=\"_blank\">https://wandb.ai/barbonigiorgia-sapienza-universit-di-roma/graph-classification-graphs_sc/runs/2803hxhf</a><br/> View project at: <a href='https://wandb.ai/barbonigiorgia-sapienza-universit-di-roma/graph-classification-graphs_sc' target=\"_blank\">https://wandb.ai/barbonigiorgia-sapienza-universit-di-roma/graph-classification-graphs_sc</a><br/>Synced 5 W&B file(s), 0 media file(s), 14 artifact file(s) and 0 other file(s)"
      ],
      "text/plain": [
       "<IPython.core.display.HTML object>"
      ]
     },
     "metadata": {},
     "output_type": "display_data"
    },
    {
     "data": {
      "text/html": [
       "Find logs at: <code>.\\wandb\\run-20241115_231959-2803hxhf\\logs</code>"
      ],
      "text/plain": [
       "<IPython.core.display.HTML object>"
      ]
     },
     "metadata": {},
     "output_type": "display_data"
    },
    {
     "name": "stderr",
     "output_type": "stream",
     "text": [
      "\u001b[34m\u001b[1mwandb\u001b[0m: Agent Starting Run: y9aivvns with config:\n",
      "\u001b[34m\u001b[1mwandb\u001b[0m: \tbatch_size: 8\n",
      "\u001b[34m\u001b[1mwandb\u001b[0m: \tin_channels: 6\n",
      "\u001b[34m\u001b[1mwandb\u001b[0m: \tlearning_rate: 0.01\n",
      "\u001b[34m\u001b[1mwandb\u001b[0m: \tnum_epochs: 10\n",
      "\u001b[34m\u001b[1mwandb\u001b[0m: \tnum_heads: 4\n",
      "\u001b[34m\u001b[1mwandb\u001b[0m: \toptimizer: adam\n",
      "\u001b[34m\u001b[1mwandb\u001b[0m: \tout_channels: 4\n",
      "\u001b[34m\u001b[1mwandb\u001b[0m: \trandom_state: 42\n",
      "\u001b[34m\u001b[1mwandb\u001b[0m: \ttest_size: 0.3\n",
      "\u001b[34m\u001b[1mwandb\u001b[0m: \tweight_decay: 1e-05\n"
     ]
    },
    {
     "data": {
      "text/html": [
       "Tracking run with wandb version 0.18.5"
      ],
      "text/plain": [
       "<IPython.core.display.HTML object>"
      ]
     },
     "metadata": {},
     "output_type": "display_data"
    },
    {
     "data": {
      "text/html": [
       "Run data is saved locally in <code>c:\\Users\\barbo\\brain classifier repo\\brain_classifier\\src\\wandb\\run-20241115_232128-y9aivvns</code>"
      ],
      "text/plain": [
       "<IPython.core.display.HTML object>"
      ]
     },
     "metadata": {},
     "output_type": "display_data"
    },
    {
     "data": {
      "text/html": [
       "Syncing run <strong><a href='https://wandb.ai/barbonigiorgia-sapienza-universit-di-roma/graph-classification-graphs_sc/runs/y9aivvns' target=\"_blank\">different-sweep-11</a></strong> to <a href='https://wandb.ai/barbonigiorgia-sapienza-universit-di-roma/graph-classification-graphs_sc' target=\"_blank\">Weights & Biases</a> (<a href='https://wandb.me/run' target=\"_blank\">docs</a>)<br/>Sweep page: <a href='https://wandb.ai/barbonigiorgia-sapienza-universit-di-roma/graph-classification-graphs_sc/sweeps/lhemejv7' target=\"_blank\">https://wandb.ai/barbonigiorgia-sapienza-universit-di-roma/graph-classification-graphs_sc/sweeps/lhemejv7</a>"
      ],
      "text/plain": [
       "<IPython.core.display.HTML object>"
      ]
     },
     "metadata": {},
     "output_type": "display_data"
    },
    {
     "data": {
      "text/html": [
       " View project at <a href='https://wandb.ai/barbonigiorgia-sapienza-universit-di-roma/graph-classification-graphs_sc' target=\"_blank\">https://wandb.ai/barbonigiorgia-sapienza-universit-di-roma/graph-classification-graphs_sc</a>"
      ],
      "text/plain": [
       "<IPython.core.display.HTML object>"
      ]
     },
     "metadata": {},
     "output_type": "display_data"
    },
    {
     "data": {
      "text/html": [
       " View sweep at <a href='https://wandb.ai/barbonigiorgia-sapienza-universit-di-roma/graph-classification-graphs_sc/sweeps/lhemejv7' target=\"_blank\">https://wandb.ai/barbonigiorgia-sapienza-universit-di-roma/graph-classification-graphs_sc/sweeps/lhemejv7</a>"
      ],
      "text/plain": [
       "<IPython.core.display.HTML object>"
      ]
     },
     "metadata": {},
     "output_type": "display_data"
    },
    {
     "data": {
      "text/html": [
       " View run at <a href='https://wandb.ai/barbonigiorgia-sapienza-universit-di-roma/graph-classification-graphs_sc/runs/y9aivvns' target=\"_blank\">https://wandb.ai/barbonigiorgia-sapienza-universit-di-roma/graph-classification-graphs_sc/runs/y9aivvns</a>"
      ],
      "text/plain": [
       "<IPython.core.display.HTML object>"
      ]
     },
     "metadata": {},
     "output_type": "display_data"
    },
    {
     "name": "stdout",
     "output_type": "stream",
     "text": [
      "Running with config: {'batch_size': 8, 'in_channels': 6, 'learning_rate': 0.01, 'num_epochs': 10, 'num_heads': 4, 'optimizer': 'adam', 'out_channels': 4, 'random_state': 42, 'test_size': 0.3, 'weight_decay': 1e-05}\n"
     ]
    },
    {
     "data": {
      "text/html": [
       "<style>\n",
       "    table.wandb td:nth-child(1) { padding: 0 10px; text-align: left ; width: auto;} td:nth-child(2) {text-align: left ; width: 100%}\n",
       "    .wandb-row { display: flex; flex-direction: row; flex-wrap: wrap; justify-content: flex-start; width: 100% }\n",
       "    .wandb-col { display: flex; flex-direction: column; flex-basis: 100%; flex: 1; padding: 10px; }\n",
       "    </style>\n",
       "<div class=\"wandb-row\"><div class=\"wandb-col\"><h3>Run history:</h3><br/><table class=\"wandb\"><tr><td>epoch</td><td>▁▂▃▃▄▅▆▆▇█</td></tr><tr><td>train_accuracy</td><td>▁▁▃▃▆▇▇▇██</td></tr><tr><td>train_f1</td><td>▁▃▁▂▆▇▇▇██</td></tr><tr><td>train_loss</td><td>█▇▅▅▄▃▂▂▁▁</td></tr><tr><td>val_accuracy</td><td>▁▅▅▅▅▆▆▇▇█</td></tr><tr><td>val_f1</td><td>▁▄▅▅▆▆▆▇▇█</td></tr><tr><td>val_loss</td><td>█▇▆▆▅▄▃▂▁▁</td></tr></table><br/></div><div class=\"wandb-col\"><h3>Run summary:</h3><br/><table class=\"wandb\"><tr><td>epoch</td><td>10</td></tr><tr><td>train_accuracy</td><td>0.784</td></tr><tr><td>train_f1</td><td>0.78159</td></tr><tr><td>train_loss</td><td>0.52565</td></tr><tr><td>val_accuracy</td><td>0.81481</td></tr><tr><td>val_f1</td><td>0.81378</td></tr><tr><td>val_loss</td><td>0.51675</td></tr></table><br/></div></div>"
      ],
      "text/plain": [
       "<IPython.core.display.HTML object>"
      ]
     },
     "metadata": {},
     "output_type": "display_data"
    },
    {
     "data": {
      "text/html": [
       " View run <strong style=\"color:#cdcd00\">different-sweep-11</strong> at: <a href='https://wandb.ai/barbonigiorgia-sapienza-universit-di-roma/graph-classification-graphs_sc/runs/y9aivvns' target=\"_blank\">https://wandb.ai/barbonigiorgia-sapienza-universit-di-roma/graph-classification-graphs_sc/runs/y9aivvns</a><br/> View project at: <a href='https://wandb.ai/barbonigiorgia-sapienza-universit-di-roma/graph-classification-graphs_sc' target=\"_blank\">https://wandb.ai/barbonigiorgia-sapienza-universit-di-roma/graph-classification-graphs_sc</a><br/>Synced 5 W&B file(s), 0 media file(s), 14 artifact file(s) and 0 other file(s)"
      ],
      "text/plain": [
       "<IPython.core.display.HTML object>"
      ]
     },
     "metadata": {},
     "output_type": "display_data"
    },
    {
     "data": {
      "text/html": [
       "Find logs at: <code>.\\wandb\\run-20241115_232128-y9aivvns\\logs</code>"
      ],
      "text/plain": [
       "<IPython.core.display.HTML object>"
      ]
     },
     "metadata": {},
     "output_type": "display_data"
    },
    {
     "name": "stderr",
     "output_type": "stream",
     "text": [
      "\u001b[34m\u001b[1mwandb\u001b[0m: Agent Starting Run: jarf2dru with config:\n",
      "\u001b[34m\u001b[1mwandb\u001b[0m: \tbatch_size: 8\n",
      "\u001b[34m\u001b[1mwandb\u001b[0m: \tin_channels: 6\n",
      "\u001b[34m\u001b[1mwandb\u001b[0m: \tlearning_rate: 0.01\n",
      "\u001b[34m\u001b[1mwandb\u001b[0m: \tnum_epochs: 10\n",
      "\u001b[34m\u001b[1mwandb\u001b[0m: \tnum_heads: 4\n",
      "\u001b[34m\u001b[1mwandb\u001b[0m: \toptimizer: adam\n",
      "\u001b[34m\u001b[1mwandb\u001b[0m: \tout_channels: 4\n",
      "\u001b[34m\u001b[1mwandb\u001b[0m: \trandom_state: 42\n",
      "\u001b[34m\u001b[1mwandb\u001b[0m: \ttest_size: 0.3\n",
      "\u001b[34m\u001b[1mwandb\u001b[0m: \tweight_decay: 0.0001\n"
     ]
    },
    {
     "data": {
      "text/html": [
       "Tracking run with wandb version 0.18.5"
      ],
      "text/plain": [
       "<IPython.core.display.HTML object>"
      ]
     },
     "metadata": {},
     "output_type": "display_data"
    },
    {
     "data": {
      "text/html": [
       "Run data is saved locally in <code>c:\\Users\\barbo\\brain classifier repo\\brain_classifier\\src\\wandb\\run-20241115_232256-jarf2dru</code>"
      ],
      "text/plain": [
       "<IPython.core.display.HTML object>"
      ]
     },
     "metadata": {},
     "output_type": "display_data"
    },
    {
     "data": {
      "text/html": [
       "Syncing run <strong><a href='https://wandb.ai/barbonigiorgia-sapienza-universit-di-roma/graph-classification-graphs_sc/runs/jarf2dru' target=\"_blank\">spring-sweep-12</a></strong> to <a href='https://wandb.ai/barbonigiorgia-sapienza-universit-di-roma/graph-classification-graphs_sc' target=\"_blank\">Weights & Biases</a> (<a href='https://wandb.me/run' target=\"_blank\">docs</a>)<br/>Sweep page: <a href='https://wandb.ai/barbonigiorgia-sapienza-universit-di-roma/graph-classification-graphs_sc/sweeps/lhemejv7' target=\"_blank\">https://wandb.ai/barbonigiorgia-sapienza-universit-di-roma/graph-classification-graphs_sc/sweeps/lhemejv7</a>"
      ],
      "text/plain": [
       "<IPython.core.display.HTML object>"
      ]
     },
     "metadata": {},
     "output_type": "display_data"
    },
    {
     "data": {
      "text/html": [
       " View project at <a href='https://wandb.ai/barbonigiorgia-sapienza-universit-di-roma/graph-classification-graphs_sc' target=\"_blank\">https://wandb.ai/barbonigiorgia-sapienza-universit-di-roma/graph-classification-graphs_sc</a>"
      ],
      "text/plain": [
       "<IPython.core.display.HTML object>"
      ]
     },
     "metadata": {},
     "output_type": "display_data"
    },
    {
     "data": {
      "text/html": [
       " View sweep at <a href='https://wandb.ai/barbonigiorgia-sapienza-universit-di-roma/graph-classification-graphs_sc/sweeps/lhemejv7' target=\"_blank\">https://wandb.ai/barbonigiorgia-sapienza-universit-di-roma/graph-classification-graphs_sc/sweeps/lhemejv7</a>"
      ],
      "text/plain": [
       "<IPython.core.display.HTML object>"
      ]
     },
     "metadata": {},
     "output_type": "display_data"
    },
    {
     "data": {
      "text/html": [
       " View run at <a href='https://wandb.ai/barbonigiorgia-sapienza-universit-di-roma/graph-classification-graphs_sc/runs/jarf2dru' target=\"_blank\">https://wandb.ai/barbonigiorgia-sapienza-universit-di-roma/graph-classification-graphs_sc/runs/jarf2dru</a>"
      ],
      "text/plain": [
       "<IPython.core.display.HTML object>"
      ]
     },
     "metadata": {},
     "output_type": "display_data"
    },
    {
     "name": "stdout",
     "output_type": "stream",
     "text": [
      "Running with config: {'batch_size': 8, 'in_channels': 6, 'learning_rate': 0.01, 'num_epochs': 10, 'num_heads': 4, 'optimizer': 'adam', 'out_channels': 4, 'random_state': 42, 'test_size': 0.3, 'weight_decay': 0.0001}\n"
     ]
    },
    {
     "data": {
      "text/html": [
       "<style>\n",
       "    table.wandb td:nth-child(1) { padding: 0 10px; text-align: left ; width: auto;} td:nth-child(2) {text-align: left ; width: 100%}\n",
       "    .wandb-row { display: flex; flex-direction: row; flex-wrap: wrap; justify-content: flex-start; width: 100% }\n",
       "    .wandb-col { display: flex; flex-direction: column; flex-basis: 100%; flex: 1; padding: 10px; }\n",
       "    </style>\n",
       "<div class=\"wandb-row\"><div class=\"wandb-col\"><h3>Run history:</h3><br/><table class=\"wandb\"><tr><td>epoch</td><td>▁▂▃▃▄▅▆▆▇█</td></tr><tr><td>train_accuracy</td><td>▁▁▃▃▆▇▇▇▇█</td></tr><tr><td>train_f1</td><td>▁▃▁▂▆▇▇▇▇█</td></tr><tr><td>train_loss</td><td>█▇▅▅▄▃▂▂▁▁</td></tr><tr><td>val_accuracy</td><td>▁▅▅▅▅▆▆▇▇█</td></tr><tr><td>val_f1</td><td>▁▄▄▅▆▆▆▇▇█</td></tr><tr><td>val_loss</td><td>█▇▆▆▅▄▃▂▁▁</td></tr></table><br/></div><div class=\"wandb-col\"><h3>Run summary:</h3><br/><table class=\"wandb\"><tr><td>epoch</td><td>10</td></tr><tr><td>train_accuracy</td><td>0.792</td></tr><tr><td>train_f1</td><td>0.7901</td></tr><tr><td>train_loss</td><td>0.52689</td></tr><tr><td>val_accuracy</td><td>0.81481</td></tr><tr><td>val_f1</td><td>0.81378</td></tr><tr><td>val_loss</td><td>0.51752</td></tr></table><br/></div></div>"
      ],
      "text/plain": [
       "<IPython.core.display.HTML object>"
      ]
     },
     "metadata": {},
     "output_type": "display_data"
    },
    {
     "data": {
      "text/html": [
       " View run <strong style=\"color:#cdcd00\">spring-sweep-12</strong> at: <a href='https://wandb.ai/barbonigiorgia-sapienza-universit-di-roma/graph-classification-graphs_sc/runs/jarf2dru' target=\"_blank\">https://wandb.ai/barbonigiorgia-sapienza-universit-di-roma/graph-classification-graphs_sc/runs/jarf2dru</a><br/> View project at: <a href='https://wandb.ai/barbonigiorgia-sapienza-universit-di-roma/graph-classification-graphs_sc' target=\"_blank\">https://wandb.ai/barbonigiorgia-sapienza-universit-di-roma/graph-classification-graphs_sc</a><br/>Synced 5 W&B file(s), 0 media file(s), 14 artifact file(s) and 0 other file(s)"
      ],
      "text/plain": [
       "<IPython.core.display.HTML object>"
      ]
     },
     "metadata": {},
     "output_type": "display_data"
    },
    {
     "data": {
      "text/html": [
       "Find logs at: <code>.\\wandb\\run-20241115_232256-jarf2dru\\logs</code>"
      ],
      "text/plain": [
       "<IPython.core.display.HTML object>"
      ]
     },
     "metadata": {},
     "output_type": "display_data"
    },
    {
     "name": "stderr",
     "output_type": "stream",
     "text": [
      "\u001b[34m\u001b[1mwandb\u001b[0m: Agent Starting Run: cxluy3xb with config:\n",
      "\u001b[34m\u001b[1mwandb\u001b[0m: \tbatch_size: 8\n",
      "\u001b[34m\u001b[1mwandb\u001b[0m: \tin_channels: 6\n",
      "\u001b[34m\u001b[1mwandb\u001b[0m: \tlearning_rate: 0.01\n",
      "\u001b[34m\u001b[1mwandb\u001b[0m: \tnum_epochs: 10\n",
      "\u001b[34m\u001b[1mwandb\u001b[0m: \tnum_heads: 4\n",
      "\u001b[34m\u001b[1mwandb\u001b[0m: \toptimizer: adam\n",
      "\u001b[34m\u001b[1mwandb\u001b[0m: \tout_channels: 8\n",
      "\u001b[34m\u001b[1mwandb\u001b[0m: \trandom_state: 42\n",
      "\u001b[34m\u001b[1mwandb\u001b[0m: \ttest_size: 0.3\n",
      "\u001b[34m\u001b[1mwandb\u001b[0m: \tweight_decay: 0\n"
     ]
    },
    {
     "data": {
      "text/html": [
       "Tracking run with wandb version 0.18.5"
      ],
      "text/plain": [
       "<IPython.core.display.HTML object>"
      ]
     },
     "metadata": {},
     "output_type": "display_data"
    },
    {
     "data": {
      "text/html": [
       "Run data is saved locally in <code>c:\\Users\\barbo\\brain classifier repo\\brain_classifier\\src\\wandb\\run-20241115_232425-cxluy3xb</code>"
      ],
      "text/plain": [
       "<IPython.core.display.HTML object>"
      ]
     },
     "metadata": {},
     "output_type": "display_data"
    },
    {
     "data": {
      "text/html": [
       "Syncing run <strong><a href='https://wandb.ai/barbonigiorgia-sapienza-universit-di-roma/graph-classification-graphs_sc/runs/cxluy3xb' target=\"_blank\">royal-sweep-13</a></strong> to <a href='https://wandb.ai/barbonigiorgia-sapienza-universit-di-roma/graph-classification-graphs_sc' target=\"_blank\">Weights & Biases</a> (<a href='https://wandb.me/run' target=\"_blank\">docs</a>)<br/>Sweep page: <a href='https://wandb.ai/barbonigiorgia-sapienza-universit-di-roma/graph-classification-graphs_sc/sweeps/lhemejv7' target=\"_blank\">https://wandb.ai/barbonigiorgia-sapienza-universit-di-roma/graph-classification-graphs_sc/sweeps/lhemejv7</a>"
      ],
      "text/plain": [
       "<IPython.core.display.HTML object>"
      ]
     },
     "metadata": {},
     "output_type": "display_data"
    },
    {
     "data": {
      "text/html": [
       " View project at <a href='https://wandb.ai/barbonigiorgia-sapienza-universit-di-roma/graph-classification-graphs_sc' target=\"_blank\">https://wandb.ai/barbonigiorgia-sapienza-universit-di-roma/graph-classification-graphs_sc</a>"
      ],
      "text/plain": [
       "<IPython.core.display.HTML object>"
      ]
     },
     "metadata": {},
     "output_type": "display_data"
    },
    {
     "data": {
      "text/html": [
       " View sweep at <a href='https://wandb.ai/barbonigiorgia-sapienza-universit-di-roma/graph-classification-graphs_sc/sweeps/lhemejv7' target=\"_blank\">https://wandb.ai/barbonigiorgia-sapienza-universit-di-roma/graph-classification-graphs_sc/sweeps/lhemejv7</a>"
      ],
      "text/plain": [
       "<IPython.core.display.HTML object>"
      ]
     },
     "metadata": {},
     "output_type": "display_data"
    },
    {
     "data": {
      "text/html": [
       " View run at <a href='https://wandb.ai/barbonigiorgia-sapienza-universit-di-roma/graph-classification-graphs_sc/runs/cxluy3xb' target=\"_blank\">https://wandb.ai/barbonigiorgia-sapienza-universit-di-roma/graph-classification-graphs_sc/runs/cxluy3xb</a>"
      ],
      "text/plain": [
       "<IPython.core.display.HTML object>"
      ]
     },
     "metadata": {},
     "output_type": "display_data"
    },
    {
     "name": "stdout",
     "output_type": "stream",
     "text": [
      "Running with config: {'batch_size': 8, 'in_channels': 6, 'learning_rate': 0.01, 'num_epochs': 10, 'num_heads': 4, 'optimizer': 'adam', 'out_channels': 8, 'random_state': 42, 'test_size': 0.3, 'weight_decay': 0}\n"
     ]
    },
    {
     "data": {
      "text/html": [
       "<style>\n",
       "    table.wandb td:nth-child(1) { padding: 0 10px; text-align: left ; width: auto;} td:nth-child(2) {text-align: left ; width: 100%}\n",
       "    .wandb-row { display: flex; flex-direction: row; flex-wrap: wrap; justify-content: flex-start; width: 100% }\n",
       "    .wandb-col { display: flex; flex-direction: column; flex-basis: 100%; flex: 1; padding: 10px; }\n",
       "    </style>\n",
       "<div class=\"wandb-row\"><div class=\"wandb-col\"><h3>Run history:</h3><br/><table class=\"wandb\"><tr><td>epoch</td><td>▁▂▃▃▄▅▆▆▇█</td></tr><tr><td>train_accuracy</td><td>▁▅▇▇█▇██▇█</td></tr><tr><td>train_f1</td><td>▁▅▇▇█▇██▇█</td></tr><tr><td>train_loss</td><td>█▆▄▃▂▂▁▂▁▁</td></tr><tr><td>val_accuracy</td><td>▁▃▃▆▁▆███▆</td></tr><tr><td>val_f1</td><td>▁▄▅▆▃▆███▆</td></tr><tr><td>val_loss</td><td>█▇▅▃▃▂▁▁▁▂</td></tr></table><br/></div><div class=\"wandb-col\"><h3>Run summary:</h3><br/><table class=\"wandb\"><tr><td>epoch</td><td>10</td></tr><tr><td>train_accuracy</td><td>0.752</td></tr><tr><td>train_f1</td><td>0.75102</td></tr><tr><td>train_loss</td><td>0.50865</td></tr><tr><td>val_accuracy</td><td>0.77778</td></tr><tr><td>val_f1</td><td>0.77778</td></tr><tr><td>val_loss</td><td>0.43736</td></tr></table><br/></div></div>"
      ],
      "text/plain": [
       "<IPython.core.display.HTML object>"
      ]
     },
     "metadata": {},
     "output_type": "display_data"
    },
    {
     "data": {
      "text/html": [
       " View run <strong style=\"color:#cdcd00\">royal-sweep-13</strong> at: <a href='https://wandb.ai/barbonigiorgia-sapienza-universit-di-roma/graph-classification-graphs_sc/runs/cxluy3xb' target=\"_blank\">https://wandb.ai/barbonigiorgia-sapienza-universit-di-roma/graph-classification-graphs_sc/runs/cxluy3xb</a><br/> View project at: <a href='https://wandb.ai/barbonigiorgia-sapienza-universit-di-roma/graph-classification-graphs_sc' target=\"_blank\">https://wandb.ai/barbonigiorgia-sapienza-universit-di-roma/graph-classification-graphs_sc</a><br/>Synced 5 W&B file(s), 0 media file(s), 10 artifact file(s) and 0 other file(s)"
      ],
      "text/plain": [
       "<IPython.core.display.HTML object>"
      ]
     },
     "metadata": {},
     "output_type": "display_data"
    },
    {
     "data": {
      "text/html": [
       "Find logs at: <code>.\\wandb\\run-20241115_232425-cxluy3xb\\logs</code>"
      ],
      "text/plain": [
       "<IPython.core.display.HTML object>"
      ]
     },
     "metadata": {},
     "output_type": "display_data"
    },
    {
     "name": "stderr",
     "output_type": "stream",
     "text": [
      "\u001b[34m\u001b[1mwandb\u001b[0m: Agent Starting Run: wzowgdeu with config:\n",
      "\u001b[34m\u001b[1mwandb\u001b[0m: \tbatch_size: 8\n",
      "\u001b[34m\u001b[1mwandb\u001b[0m: \tin_channels: 6\n",
      "\u001b[34m\u001b[1mwandb\u001b[0m: \tlearning_rate: 0.01\n",
      "\u001b[34m\u001b[1mwandb\u001b[0m: \tnum_epochs: 10\n",
      "\u001b[34m\u001b[1mwandb\u001b[0m: \tnum_heads: 4\n",
      "\u001b[34m\u001b[1mwandb\u001b[0m: \toptimizer: adam\n",
      "\u001b[34m\u001b[1mwandb\u001b[0m: \tout_channels: 8\n",
      "\u001b[34m\u001b[1mwandb\u001b[0m: \trandom_state: 42\n",
      "\u001b[34m\u001b[1mwandb\u001b[0m: \ttest_size: 0.3\n",
      "\u001b[34m\u001b[1mwandb\u001b[0m: \tweight_decay: 1e-05\n"
     ]
    },
    {
     "data": {
      "text/html": [
       "Tracking run with wandb version 0.18.5"
      ],
      "text/plain": [
       "<IPython.core.display.HTML object>"
      ]
     },
     "metadata": {},
     "output_type": "display_data"
    },
    {
     "data": {
      "text/html": [
       "Run data is saved locally in <code>c:\\Users\\barbo\\brain classifier repo\\brain_classifier\\src\\wandb\\run-20241115_232553-wzowgdeu</code>"
      ],
      "text/plain": [
       "<IPython.core.display.HTML object>"
      ]
     },
     "metadata": {},
     "output_type": "display_data"
    },
    {
     "data": {
      "text/html": [
       "Syncing run <strong><a href='https://wandb.ai/barbonigiorgia-sapienza-universit-di-roma/graph-classification-graphs_sc/runs/wzowgdeu' target=\"_blank\">jolly-sweep-14</a></strong> to <a href='https://wandb.ai/barbonigiorgia-sapienza-universit-di-roma/graph-classification-graphs_sc' target=\"_blank\">Weights & Biases</a> (<a href='https://wandb.me/run' target=\"_blank\">docs</a>)<br/>Sweep page: <a href='https://wandb.ai/barbonigiorgia-sapienza-universit-di-roma/graph-classification-graphs_sc/sweeps/lhemejv7' target=\"_blank\">https://wandb.ai/barbonigiorgia-sapienza-universit-di-roma/graph-classification-graphs_sc/sweeps/lhemejv7</a>"
      ],
      "text/plain": [
       "<IPython.core.display.HTML object>"
      ]
     },
     "metadata": {},
     "output_type": "display_data"
    },
    {
     "data": {
      "text/html": [
       " View project at <a href='https://wandb.ai/barbonigiorgia-sapienza-universit-di-roma/graph-classification-graphs_sc' target=\"_blank\">https://wandb.ai/barbonigiorgia-sapienza-universit-di-roma/graph-classification-graphs_sc</a>"
      ],
      "text/plain": [
       "<IPython.core.display.HTML object>"
      ]
     },
     "metadata": {},
     "output_type": "display_data"
    },
    {
     "data": {
      "text/html": [
       " View sweep at <a href='https://wandb.ai/barbonigiorgia-sapienza-universit-di-roma/graph-classification-graphs_sc/sweeps/lhemejv7' target=\"_blank\">https://wandb.ai/barbonigiorgia-sapienza-universit-di-roma/graph-classification-graphs_sc/sweeps/lhemejv7</a>"
      ],
      "text/plain": [
       "<IPython.core.display.HTML object>"
      ]
     },
     "metadata": {},
     "output_type": "display_data"
    },
    {
     "data": {
      "text/html": [
       " View run at <a href='https://wandb.ai/barbonigiorgia-sapienza-universit-di-roma/graph-classification-graphs_sc/runs/wzowgdeu' target=\"_blank\">https://wandb.ai/barbonigiorgia-sapienza-universit-di-roma/graph-classification-graphs_sc/runs/wzowgdeu</a>"
      ],
      "text/plain": [
       "<IPython.core.display.HTML object>"
      ]
     },
     "metadata": {},
     "output_type": "display_data"
    },
    {
     "name": "stdout",
     "output_type": "stream",
     "text": [
      "Running with config: {'batch_size': 8, 'in_channels': 6, 'learning_rate': 0.01, 'num_epochs': 10, 'num_heads': 4, 'optimizer': 'adam', 'out_channels': 8, 'random_state': 42, 'test_size': 0.3, 'weight_decay': 1e-05}\n"
     ]
    },
    {
     "data": {
      "text/html": [
       "<style>\n",
       "    table.wandb td:nth-child(1) { padding: 0 10px; text-align: left ; width: auto;} td:nth-child(2) {text-align: left ; width: 100%}\n",
       "    .wandb-row { display: flex; flex-direction: row; flex-wrap: wrap; justify-content: flex-start; width: 100% }\n",
       "    .wandb-col { display: flex; flex-direction: column; flex-basis: 100%; flex: 1; padding: 10px; }\n",
       "    </style>\n",
       "<div class=\"wandb-row\"><div class=\"wandb-col\"><h3>Run history:</h3><br/><table class=\"wandb\"><tr><td>epoch</td><td>▁▂▃▃▄▅▆▆▇█</td></tr><tr><td>train_accuracy</td><td>▁▅▇▇█▇██▇█</td></tr><tr><td>train_f1</td><td>▁▅▇▇█▇██▇█</td></tr><tr><td>train_loss</td><td>█▆▄▃▂▂▁▂▁▁</td></tr><tr><td>val_accuracy</td><td>▁▃▃▆▁▆███▆</td></tr><tr><td>val_f1</td><td>▁▄▅▆▃▆███▆</td></tr><tr><td>val_loss</td><td>█▇▅▃▃▂▁▁▁▂</td></tr></table><br/></div><div class=\"wandb-col\"><h3>Run summary:</h3><br/><table class=\"wandb\"><tr><td>epoch</td><td>10</td></tr><tr><td>train_accuracy</td><td>0.752</td></tr><tr><td>train_f1</td><td>0.75102</td></tr><tr><td>train_loss</td><td>0.50873</td></tr><tr><td>val_accuracy</td><td>0.77778</td></tr><tr><td>val_f1</td><td>0.77778</td></tr><tr><td>val_loss</td><td>0.43754</td></tr></table><br/></div></div>"
      ],
      "text/plain": [
       "<IPython.core.display.HTML object>"
      ]
     },
     "metadata": {},
     "output_type": "display_data"
    },
    {
     "data": {
      "text/html": [
       " View run <strong style=\"color:#cdcd00\">jolly-sweep-14</strong> at: <a href='https://wandb.ai/barbonigiorgia-sapienza-universit-di-roma/graph-classification-graphs_sc/runs/wzowgdeu' target=\"_blank\">https://wandb.ai/barbonigiorgia-sapienza-universit-di-roma/graph-classification-graphs_sc/runs/wzowgdeu</a><br/> View project at: <a href='https://wandb.ai/barbonigiorgia-sapienza-universit-di-roma/graph-classification-graphs_sc' target=\"_blank\">https://wandb.ai/barbonigiorgia-sapienza-universit-di-roma/graph-classification-graphs_sc</a><br/>Synced 5 W&B file(s), 0 media file(s), 10 artifact file(s) and 0 other file(s)"
      ],
      "text/plain": [
       "<IPython.core.display.HTML object>"
      ]
     },
     "metadata": {},
     "output_type": "display_data"
    },
    {
     "data": {
      "text/html": [
       "Find logs at: <code>.\\wandb\\run-20241115_232553-wzowgdeu\\logs</code>"
      ],
      "text/plain": [
       "<IPython.core.display.HTML object>"
      ]
     },
     "metadata": {},
     "output_type": "display_data"
    },
    {
     "name": "stderr",
     "output_type": "stream",
     "text": [
      "\u001b[34m\u001b[1mwandb\u001b[0m: Agent Starting Run: z19wny3e with config:\n",
      "\u001b[34m\u001b[1mwandb\u001b[0m: \tbatch_size: 8\n",
      "\u001b[34m\u001b[1mwandb\u001b[0m: \tin_channels: 6\n",
      "\u001b[34m\u001b[1mwandb\u001b[0m: \tlearning_rate: 0.01\n",
      "\u001b[34m\u001b[1mwandb\u001b[0m: \tnum_epochs: 10\n",
      "\u001b[34m\u001b[1mwandb\u001b[0m: \tnum_heads: 4\n",
      "\u001b[34m\u001b[1mwandb\u001b[0m: \toptimizer: adam\n",
      "\u001b[34m\u001b[1mwandb\u001b[0m: \tout_channels: 8\n",
      "\u001b[34m\u001b[1mwandb\u001b[0m: \trandom_state: 42\n",
      "\u001b[34m\u001b[1mwandb\u001b[0m: \ttest_size: 0.3\n",
      "\u001b[34m\u001b[1mwandb\u001b[0m: \tweight_decay: 0.0001\n"
     ]
    },
    {
     "data": {
      "text/html": [
       "Tracking run with wandb version 0.18.5"
      ],
      "text/plain": [
       "<IPython.core.display.HTML object>"
      ]
     },
     "metadata": {},
     "output_type": "display_data"
    },
    {
     "data": {
      "text/html": [
       "Run data is saved locally in <code>c:\\Users\\barbo\\brain classifier repo\\brain_classifier\\src\\wandb\\run-20241115_232727-z19wny3e</code>"
      ],
      "text/plain": [
       "<IPython.core.display.HTML object>"
      ]
     },
     "metadata": {},
     "output_type": "display_data"
    },
    {
     "data": {
      "text/html": [
       "Syncing run <strong><a href='https://wandb.ai/barbonigiorgia-sapienza-universit-di-roma/graph-classification-graphs_sc/runs/z19wny3e' target=\"_blank\">major-sweep-15</a></strong> to <a href='https://wandb.ai/barbonigiorgia-sapienza-universit-di-roma/graph-classification-graphs_sc' target=\"_blank\">Weights & Biases</a> (<a href='https://wandb.me/run' target=\"_blank\">docs</a>)<br/>Sweep page: <a href='https://wandb.ai/barbonigiorgia-sapienza-universit-di-roma/graph-classification-graphs_sc/sweeps/lhemejv7' target=\"_blank\">https://wandb.ai/barbonigiorgia-sapienza-universit-di-roma/graph-classification-graphs_sc/sweeps/lhemejv7</a>"
      ],
      "text/plain": [
       "<IPython.core.display.HTML object>"
      ]
     },
     "metadata": {},
     "output_type": "display_data"
    },
    {
     "data": {
      "text/html": [
       " View project at <a href='https://wandb.ai/barbonigiorgia-sapienza-universit-di-roma/graph-classification-graphs_sc' target=\"_blank\">https://wandb.ai/barbonigiorgia-sapienza-universit-di-roma/graph-classification-graphs_sc</a>"
      ],
      "text/plain": [
       "<IPython.core.display.HTML object>"
      ]
     },
     "metadata": {},
     "output_type": "display_data"
    },
    {
     "data": {
      "text/html": [
       " View sweep at <a href='https://wandb.ai/barbonigiorgia-sapienza-universit-di-roma/graph-classification-graphs_sc/sweeps/lhemejv7' target=\"_blank\">https://wandb.ai/barbonigiorgia-sapienza-universit-di-roma/graph-classification-graphs_sc/sweeps/lhemejv7</a>"
      ],
      "text/plain": [
       "<IPython.core.display.HTML object>"
      ]
     },
     "metadata": {},
     "output_type": "display_data"
    },
    {
     "data": {
      "text/html": [
       " View run at <a href='https://wandb.ai/barbonigiorgia-sapienza-universit-di-roma/graph-classification-graphs_sc/runs/z19wny3e' target=\"_blank\">https://wandb.ai/barbonigiorgia-sapienza-universit-di-roma/graph-classification-graphs_sc/runs/z19wny3e</a>"
      ],
      "text/plain": [
       "<IPython.core.display.HTML object>"
      ]
     },
     "metadata": {},
     "output_type": "display_data"
    },
    {
     "name": "stdout",
     "output_type": "stream",
     "text": [
      "Running with config: {'batch_size': 8, 'in_channels': 6, 'learning_rate': 0.01, 'num_epochs': 10, 'num_heads': 4, 'optimizer': 'adam', 'out_channels': 8, 'random_state': 42, 'test_size': 0.3, 'weight_decay': 0.0001}\n"
     ]
    },
    {
     "data": {
      "text/html": [
       "<style>\n",
       "    table.wandb td:nth-child(1) { padding: 0 10px; text-align: left ; width: auto;} td:nth-child(2) {text-align: left ; width: 100%}\n",
       "    .wandb-row { display: flex; flex-direction: row; flex-wrap: wrap; justify-content: flex-start; width: 100% }\n",
       "    .wandb-col { display: flex; flex-direction: column; flex-basis: 100%; flex: 1; padding: 10px; }\n",
       "    </style>\n",
       "<div class=\"wandb-row\"><div class=\"wandb-col\"><h3>Run history:</h3><br/><table class=\"wandb\"><tr><td>epoch</td><td>▁▂▃▃▄▅▆▆▇█</td></tr><tr><td>train_accuracy</td><td>▁▅▇▇█▇██▇▇</td></tr><tr><td>train_f1</td><td>▁▅▇▇████▇▇</td></tr><tr><td>train_loss</td><td>█▆▄▃▂▂▁▂▁▁</td></tr><tr><td>val_accuracy</td><td>▁▆▃▆▁▆███▆</td></tr><tr><td>val_f1</td><td>▁▆▅▆▃▆███▆</td></tr><tr><td>val_loss</td><td>█▇▅▃▃▂▁▁▁▂</td></tr></table><br/></div><div class=\"wandb-col\"><h3>Run summary:</h3><br/><table class=\"wandb\"><tr><td>epoch</td><td>10</td></tr><tr><td>train_accuracy</td><td>0.744</td></tr><tr><td>train_f1</td><td>0.74258</td></tr><tr><td>train_loss</td><td>0.50937</td></tr><tr><td>val_accuracy</td><td>0.77778</td></tr><tr><td>val_f1</td><td>0.77778</td></tr><tr><td>val_loss</td><td>0.43851</td></tr></table><br/></div></div>"
      ],
      "text/plain": [
       "<IPython.core.display.HTML object>"
      ]
     },
     "metadata": {},
     "output_type": "display_data"
    },
    {
     "data": {
      "text/html": [
       " View run <strong style=\"color:#cdcd00\">major-sweep-15</strong> at: <a href='https://wandb.ai/barbonigiorgia-sapienza-universit-di-roma/graph-classification-graphs_sc/runs/z19wny3e' target=\"_blank\">https://wandb.ai/barbonigiorgia-sapienza-universit-di-roma/graph-classification-graphs_sc/runs/z19wny3e</a><br/> View project at: <a href='https://wandb.ai/barbonigiorgia-sapienza-universit-di-roma/graph-classification-graphs_sc' target=\"_blank\">https://wandb.ai/barbonigiorgia-sapienza-universit-di-roma/graph-classification-graphs_sc</a><br/>Synced 5 W&B file(s), 0 media file(s), 8 artifact file(s) and 0 other file(s)"
      ],
      "text/plain": [
       "<IPython.core.display.HTML object>"
      ]
     },
     "metadata": {},
     "output_type": "display_data"
    },
    {
     "data": {
      "text/html": [
       "Find logs at: <code>.\\wandb\\run-20241115_232727-z19wny3e\\logs</code>"
      ],
      "text/plain": [
       "<IPython.core.display.HTML object>"
      ]
     },
     "metadata": {},
     "output_type": "display_data"
    },
    {
     "name": "stderr",
     "output_type": "stream",
     "text": [
      "\u001b[34m\u001b[1mwandb\u001b[0m: Agent Starting Run: 4pzgjme6 with config:\n",
      "\u001b[34m\u001b[1mwandb\u001b[0m: \tbatch_size: 8\n",
      "\u001b[34m\u001b[1mwandb\u001b[0m: \tin_channels: 6\n",
      "\u001b[34m\u001b[1mwandb\u001b[0m: \tlearning_rate: 0.01\n",
      "\u001b[34m\u001b[1mwandb\u001b[0m: \tnum_epochs: 10\n",
      "\u001b[34m\u001b[1mwandb\u001b[0m: \tnum_heads: 4\n",
      "\u001b[34m\u001b[1mwandb\u001b[0m: \toptimizer: adam\n",
      "\u001b[34m\u001b[1mwandb\u001b[0m: \tout_channels: 12\n",
      "\u001b[34m\u001b[1mwandb\u001b[0m: \trandom_state: 42\n",
      "\u001b[34m\u001b[1mwandb\u001b[0m: \ttest_size: 0.3\n",
      "\u001b[34m\u001b[1mwandb\u001b[0m: \tweight_decay: 0\n"
     ]
    },
    {
     "data": {
      "text/html": [
       "Tracking run with wandb version 0.18.5"
      ],
      "text/plain": [
       "<IPython.core.display.HTML object>"
      ]
     },
     "metadata": {},
     "output_type": "display_data"
    },
    {
     "data": {
      "text/html": [
       "Run data is saved locally in <code>c:\\Users\\barbo\\brain classifier repo\\brain_classifier\\src\\wandb\\run-20241115_232906-4pzgjme6</code>"
      ],
      "text/plain": [
       "<IPython.core.display.HTML object>"
      ]
     },
     "metadata": {},
     "output_type": "display_data"
    },
    {
     "data": {
      "text/html": [
       "Syncing run <strong><a href='https://wandb.ai/barbonigiorgia-sapienza-universit-di-roma/graph-classification-graphs_sc/runs/4pzgjme6' target=\"_blank\">morning-sweep-16</a></strong> to <a href='https://wandb.ai/barbonigiorgia-sapienza-universit-di-roma/graph-classification-graphs_sc' target=\"_blank\">Weights & Biases</a> (<a href='https://wandb.me/run' target=\"_blank\">docs</a>)<br/>Sweep page: <a href='https://wandb.ai/barbonigiorgia-sapienza-universit-di-roma/graph-classification-graphs_sc/sweeps/lhemejv7' target=\"_blank\">https://wandb.ai/barbonigiorgia-sapienza-universit-di-roma/graph-classification-graphs_sc/sweeps/lhemejv7</a>"
      ],
      "text/plain": [
       "<IPython.core.display.HTML object>"
      ]
     },
     "metadata": {},
     "output_type": "display_data"
    },
    {
     "data": {
      "text/html": [
       " View project at <a href='https://wandb.ai/barbonigiorgia-sapienza-universit-di-roma/graph-classification-graphs_sc' target=\"_blank\">https://wandb.ai/barbonigiorgia-sapienza-universit-di-roma/graph-classification-graphs_sc</a>"
      ],
      "text/plain": [
       "<IPython.core.display.HTML object>"
      ]
     },
     "metadata": {},
     "output_type": "display_data"
    },
    {
     "data": {
      "text/html": [
       " View sweep at <a href='https://wandb.ai/barbonigiorgia-sapienza-universit-di-roma/graph-classification-graphs_sc/sweeps/lhemejv7' target=\"_blank\">https://wandb.ai/barbonigiorgia-sapienza-universit-di-roma/graph-classification-graphs_sc/sweeps/lhemejv7</a>"
      ],
      "text/plain": [
       "<IPython.core.display.HTML object>"
      ]
     },
     "metadata": {},
     "output_type": "display_data"
    },
    {
     "data": {
      "text/html": [
       " View run at <a href='https://wandb.ai/barbonigiorgia-sapienza-universit-di-roma/graph-classification-graphs_sc/runs/4pzgjme6' target=\"_blank\">https://wandb.ai/barbonigiorgia-sapienza-universit-di-roma/graph-classification-graphs_sc/runs/4pzgjme6</a>"
      ],
      "text/plain": [
       "<IPython.core.display.HTML object>"
      ]
     },
     "metadata": {},
     "output_type": "display_data"
    },
    {
     "name": "stdout",
     "output_type": "stream",
     "text": [
      "Running with config: {'batch_size': 8, 'in_channels': 6, 'learning_rate': 0.01, 'num_epochs': 10, 'num_heads': 4, 'optimizer': 'adam', 'out_channels': 12, 'random_state': 42, 'test_size': 0.3, 'weight_decay': 0}\n"
     ]
    },
    {
     "data": {
      "text/html": [
       "<style>\n",
       "    table.wandb td:nth-child(1) { padding: 0 10px; text-align: left ; width: auto;} td:nth-child(2) {text-align: left ; width: 100%}\n",
       "    .wandb-row { display: flex; flex-direction: row; flex-wrap: wrap; justify-content: flex-start; width: 100% }\n",
       "    .wandb-col { display: flex; flex-direction: column; flex-basis: 100%; flex: 1; padding: 10px; }\n",
       "    </style>\n",
       "<div class=\"wandb-row\"><div class=\"wandb-col\"><h3>Run history:</h3><br/><table class=\"wandb\"><tr><td>epoch</td><td>▁▂▃▃▄▅▆▆▇█</td></tr><tr><td>train_accuracy</td><td>▁▆█▇█▇████</td></tr><tr><td>train_f1</td><td>▁▇█▇█▇████</td></tr><tr><td>train_loss</td><td>█▆▄▃▂▂▁▂▁▁</td></tr><tr><td>val_accuracy</td><td>▁▅▇█▇▆▇▇▇█</td></tr><tr><td>val_f1</td><td>▁▅▇█▇▆▇▇▇█</td></tr><tr><td>val_loss</td><td>█▆▄▃▂▂▂▁▂▂</td></tr></table><br/></div><div class=\"wandb-col\"><h3>Run summary:</h3><br/><table class=\"wandb\"><tr><td>epoch</td><td>10</td></tr><tr><td>train_accuracy</td><td>0.768</td></tr><tr><td>train_f1</td><td>0.76773</td></tr><tr><td>train_loss</td><td>0.49089</td></tr><tr><td>val_accuracy</td><td>0.81481</td></tr><tr><td>val_f1</td><td>0.81378</td></tr><tr><td>val_loss</td><td>0.43155</td></tr></table><br/></div></div>"
      ],
      "text/plain": [
       "<IPython.core.display.HTML object>"
      ]
     },
     "metadata": {},
     "output_type": "display_data"
    },
    {
     "data": {
      "text/html": [
       " View run <strong style=\"color:#cdcd00\">morning-sweep-16</strong> at: <a href='https://wandb.ai/barbonigiorgia-sapienza-universit-di-roma/graph-classification-graphs_sc/runs/4pzgjme6' target=\"_blank\">https://wandb.ai/barbonigiorgia-sapienza-universit-di-roma/graph-classification-graphs_sc/runs/4pzgjme6</a><br/> View project at: <a href='https://wandb.ai/barbonigiorgia-sapienza-universit-di-roma/graph-classification-graphs_sc' target=\"_blank\">https://wandb.ai/barbonigiorgia-sapienza-universit-di-roma/graph-classification-graphs_sc</a><br/>Synced 5 W&B file(s), 0 media file(s), 10 artifact file(s) and 0 other file(s)"
      ],
      "text/plain": [
       "<IPython.core.display.HTML object>"
      ]
     },
     "metadata": {},
     "output_type": "display_data"
    },
    {
     "data": {
      "text/html": [
       "Find logs at: <code>.\\wandb\\run-20241115_232906-4pzgjme6\\logs</code>"
      ],
      "text/plain": [
       "<IPython.core.display.HTML object>"
      ]
     },
     "metadata": {},
     "output_type": "display_data"
    },
    {
     "name": "stderr",
     "output_type": "stream",
     "text": [
      "\u001b[34m\u001b[1mwandb\u001b[0m: Agent Starting Run: amyeaa7p with config:\n",
      "\u001b[34m\u001b[1mwandb\u001b[0m: \tbatch_size: 8\n",
      "\u001b[34m\u001b[1mwandb\u001b[0m: \tin_channels: 6\n",
      "\u001b[34m\u001b[1mwandb\u001b[0m: \tlearning_rate: 0.01\n",
      "\u001b[34m\u001b[1mwandb\u001b[0m: \tnum_epochs: 10\n",
      "\u001b[34m\u001b[1mwandb\u001b[0m: \tnum_heads: 4\n",
      "\u001b[34m\u001b[1mwandb\u001b[0m: \toptimizer: adam\n",
      "\u001b[34m\u001b[1mwandb\u001b[0m: \tout_channels: 12\n",
      "\u001b[34m\u001b[1mwandb\u001b[0m: \trandom_state: 42\n",
      "\u001b[34m\u001b[1mwandb\u001b[0m: \ttest_size: 0.3\n",
      "\u001b[34m\u001b[1mwandb\u001b[0m: \tweight_decay: 1e-05\n"
     ]
    },
    {
     "data": {
      "text/html": [
       "Tracking run with wandb version 0.18.5"
      ],
      "text/plain": [
       "<IPython.core.display.HTML object>"
      ]
     },
     "metadata": {},
     "output_type": "display_data"
    },
    {
     "data": {
      "text/html": [
       "Run data is saved locally in <code>c:\\Users\\barbo\\brain classifier repo\\brain_classifier\\src\\wandb\\run-20241115_233046-amyeaa7p</code>"
      ],
      "text/plain": [
       "<IPython.core.display.HTML object>"
      ]
     },
     "metadata": {},
     "output_type": "display_data"
    },
    {
     "data": {
      "text/html": [
       "Syncing run <strong><a href='https://wandb.ai/barbonigiorgia-sapienza-universit-di-roma/graph-classification-graphs_sc/runs/amyeaa7p' target=\"_blank\">cool-sweep-17</a></strong> to <a href='https://wandb.ai/barbonigiorgia-sapienza-universit-di-roma/graph-classification-graphs_sc' target=\"_blank\">Weights & Biases</a> (<a href='https://wandb.me/run' target=\"_blank\">docs</a>)<br/>Sweep page: <a href='https://wandb.ai/barbonigiorgia-sapienza-universit-di-roma/graph-classification-graphs_sc/sweeps/lhemejv7' target=\"_blank\">https://wandb.ai/barbonigiorgia-sapienza-universit-di-roma/graph-classification-graphs_sc/sweeps/lhemejv7</a>"
      ],
      "text/plain": [
       "<IPython.core.display.HTML object>"
      ]
     },
     "metadata": {},
     "output_type": "display_data"
    },
    {
     "data": {
      "text/html": [
       " View project at <a href='https://wandb.ai/barbonigiorgia-sapienza-universit-di-roma/graph-classification-graphs_sc' target=\"_blank\">https://wandb.ai/barbonigiorgia-sapienza-universit-di-roma/graph-classification-graphs_sc</a>"
      ],
      "text/plain": [
       "<IPython.core.display.HTML object>"
      ]
     },
     "metadata": {},
     "output_type": "display_data"
    },
    {
     "data": {
      "text/html": [
       " View sweep at <a href='https://wandb.ai/barbonigiorgia-sapienza-universit-di-roma/graph-classification-graphs_sc/sweeps/lhemejv7' target=\"_blank\">https://wandb.ai/barbonigiorgia-sapienza-universit-di-roma/graph-classification-graphs_sc/sweeps/lhemejv7</a>"
      ],
      "text/plain": [
       "<IPython.core.display.HTML object>"
      ]
     },
     "metadata": {},
     "output_type": "display_data"
    },
    {
     "data": {
      "text/html": [
       " View run at <a href='https://wandb.ai/barbonigiorgia-sapienza-universit-di-roma/graph-classification-graphs_sc/runs/amyeaa7p' target=\"_blank\">https://wandb.ai/barbonigiorgia-sapienza-universit-di-roma/graph-classification-graphs_sc/runs/amyeaa7p</a>"
      ],
      "text/plain": [
       "<IPython.core.display.HTML object>"
      ]
     },
     "metadata": {},
     "output_type": "display_data"
    },
    {
     "name": "stdout",
     "output_type": "stream",
     "text": [
      "Running with config: {'batch_size': 8, 'in_channels': 6, 'learning_rate': 0.01, 'num_epochs': 10, 'num_heads': 4, 'optimizer': 'adam', 'out_channels': 12, 'random_state': 42, 'test_size': 0.3, 'weight_decay': 1e-05}\n"
     ]
    },
    {
     "data": {
      "text/html": [
       "<style>\n",
       "    table.wandb td:nth-child(1) { padding: 0 10px; text-align: left ; width: auto;} td:nth-child(2) {text-align: left ; width: 100%}\n",
       "    .wandb-row { display: flex; flex-direction: row; flex-wrap: wrap; justify-content: flex-start; width: 100% }\n",
       "    .wandb-col { display: flex; flex-direction: column; flex-basis: 100%; flex: 1; padding: 10px; }\n",
       "    </style>\n",
       "<div class=\"wandb-row\"><div class=\"wandb-col\"><h3>Run history:</h3><br/><table class=\"wandb\"><tr><td>epoch</td><td>▁▂▃▃▄▅▆▆▇█</td></tr><tr><td>train_accuracy</td><td>▁▆█▇█▇████</td></tr><tr><td>train_f1</td><td>▁▇█▇█▇████</td></tr><tr><td>train_loss</td><td>█▆▄▃▂▂▁▂▁▁</td></tr><tr><td>val_accuracy</td><td>▁▅▇█▇▆▇▇▇█</td></tr><tr><td>val_f1</td><td>▁▄▇█▇▆▇▇▇█</td></tr><tr><td>val_loss</td><td>█▆▅▃▂▂▂▁▂▂</td></tr></table><br/></div><div class=\"wandb-col\"><h3>Run summary:</h3><br/><table class=\"wandb\"><tr><td>epoch</td><td>10</td></tr><tr><td>train_accuracy</td><td>0.768</td></tr><tr><td>train_f1</td><td>0.76773</td></tr><tr><td>train_loss</td><td>0.49099</td></tr><tr><td>val_accuracy</td><td>0.81481</td></tr><tr><td>val_f1</td><td>0.81378</td></tr><tr><td>val_loss</td><td>0.43172</td></tr></table><br/></div></div>"
      ],
      "text/plain": [
       "<IPython.core.display.HTML object>"
      ]
     },
     "metadata": {},
     "output_type": "display_data"
    },
    {
     "data": {
      "text/html": [
       " View run <strong style=\"color:#cdcd00\">cool-sweep-17</strong> at: <a href='https://wandb.ai/barbonigiorgia-sapienza-universit-di-roma/graph-classification-graphs_sc/runs/amyeaa7p' target=\"_blank\">https://wandb.ai/barbonigiorgia-sapienza-universit-di-roma/graph-classification-graphs_sc/runs/amyeaa7p</a><br/> View project at: <a href='https://wandb.ai/barbonigiorgia-sapienza-universit-di-roma/graph-classification-graphs_sc' target=\"_blank\">https://wandb.ai/barbonigiorgia-sapienza-universit-di-roma/graph-classification-graphs_sc</a><br/>Synced 5 W&B file(s), 0 media file(s), 10 artifact file(s) and 0 other file(s)"
      ],
      "text/plain": [
       "<IPython.core.display.HTML object>"
      ]
     },
     "metadata": {},
     "output_type": "display_data"
    },
    {
     "data": {
      "text/html": [
       "Find logs at: <code>.\\wandb\\run-20241115_233046-amyeaa7p\\logs</code>"
      ],
      "text/plain": [
       "<IPython.core.display.HTML object>"
      ]
     },
     "metadata": {},
     "output_type": "display_data"
    },
    {
     "name": "stderr",
     "output_type": "stream",
     "text": [
      "\u001b[34m\u001b[1mwandb\u001b[0m: Agent Starting Run: cgo9348n with config:\n",
      "\u001b[34m\u001b[1mwandb\u001b[0m: \tbatch_size: 8\n",
      "\u001b[34m\u001b[1mwandb\u001b[0m: \tin_channels: 6\n",
      "\u001b[34m\u001b[1mwandb\u001b[0m: \tlearning_rate: 0.01\n",
      "\u001b[34m\u001b[1mwandb\u001b[0m: \tnum_epochs: 10\n",
      "\u001b[34m\u001b[1mwandb\u001b[0m: \tnum_heads: 4\n",
      "\u001b[34m\u001b[1mwandb\u001b[0m: \toptimizer: adam\n",
      "\u001b[34m\u001b[1mwandb\u001b[0m: \tout_channels: 12\n",
      "\u001b[34m\u001b[1mwandb\u001b[0m: \trandom_state: 42\n",
      "\u001b[34m\u001b[1mwandb\u001b[0m: \ttest_size: 0.3\n",
      "\u001b[34m\u001b[1mwandb\u001b[0m: \tweight_decay: 0.0001\n"
     ]
    },
    {
     "data": {
      "text/html": [
       "Tracking run with wandb version 0.18.5"
      ],
      "text/plain": [
       "<IPython.core.display.HTML object>"
      ]
     },
     "metadata": {},
     "output_type": "display_data"
    },
    {
     "data": {
      "text/html": [
       "Run data is saved locally in <code>c:\\Users\\barbo\\brain classifier repo\\brain_classifier\\src\\wandb\\run-20241115_233208-cgo9348n</code>"
      ],
      "text/plain": [
       "<IPython.core.display.HTML object>"
      ]
     },
     "metadata": {},
     "output_type": "display_data"
    },
    {
     "data": {
      "text/html": [
       "Syncing run <strong><a href='https://wandb.ai/barbonigiorgia-sapienza-universit-di-roma/graph-classification-graphs_sc/runs/cgo9348n' target=\"_blank\">silver-sweep-18</a></strong> to <a href='https://wandb.ai/barbonigiorgia-sapienza-universit-di-roma/graph-classification-graphs_sc' target=\"_blank\">Weights & Biases</a> (<a href='https://wandb.me/run' target=\"_blank\">docs</a>)<br/>Sweep page: <a href='https://wandb.ai/barbonigiorgia-sapienza-universit-di-roma/graph-classification-graphs_sc/sweeps/lhemejv7' target=\"_blank\">https://wandb.ai/barbonigiorgia-sapienza-universit-di-roma/graph-classification-graphs_sc/sweeps/lhemejv7</a>"
      ],
      "text/plain": [
       "<IPython.core.display.HTML object>"
      ]
     },
     "metadata": {},
     "output_type": "display_data"
    },
    {
     "data": {
      "text/html": [
       " View project at <a href='https://wandb.ai/barbonigiorgia-sapienza-universit-di-roma/graph-classification-graphs_sc' target=\"_blank\">https://wandb.ai/barbonigiorgia-sapienza-universit-di-roma/graph-classification-graphs_sc</a>"
      ],
      "text/plain": [
       "<IPython.core.display.HTML object>"
      ]
     },
     "metadata": {},
     "output_type": "display_data"
    },
    {
     "data": {
      "text/html": [
       " View sweep at <a href='https://wandb.ai/barbonigiorgia-sapienza-universit-di-roma/graph-classification-graphs_sc/sweeps/lhemejv7' target=\"_blank\">https://wandb.ai/barbonigiorgia-sapienza-universit-di-roma/graph-classification-graphs_sc/sweeps/lhemejv7</a>"
      ],
      "text/plain": [
       "<IPython.core.display.HTML object>"
      ]
     },
     "metadata": {},
     "output_type": "display_data"
    },
    {
     "data": {
      "text/html": [
       " View run at <a href='https://wandb.ai/barbonigiorgia-sapienza-universit-di-roma/graph-classification-graphs_sc/runs/cgo9348n' target=\"_blank\">https://wandb.ai/barbonigiorgia-sapienza-universit-di-roma/graph-classification-graphs_sc/runs/cgo9348n</a>"
      ],
      "text/plain": [
       "<IPython.core.display.HTML object>"
      ]
     },
     "metadata": {},
     "output_type": "display_data"
    },
    {
     "name": "stdout",
     "output_type": "stream",
     "text": [
      "Running with config: {'batch_size': 8, 'in_channels': 6, 'learning_rate': 0.01, 'num_epochs': 10, 'num_heads': 4, 'optimizer': 'adam', 'out_channels': 12, 'random_state': 42, 'test_size': 0.3, 'weight_decay': 0.0001}\n"
     ]
    },
    {
     "data": {
      "text/html": [
       "<style>\n",
       "    table.wandb td:nth-child(1) { padding: 0 10px; text-align: left ; width: auto;} td:nth-child(2) {text-align: left ; width: 100%}\n",
       "    .wandb-row { display: flex; flex-direction: row; flex-wrap: wrap; justify-content: flex-start; width: 100% }\n",
       "    .wandb-col { display: flex; flex-direction: column; flex-basis: 100%; flex: 1; padding: 10px; }\n",
       "    </style>\n",
       "<div class=\"wandb-row\"><div class=\"wandb-col\"><h3>Run history:</h3><br/><table class=\"wandb\"><tr><td>epoch</td><td>▁▂▃▃▄▅▆▆▇█</td></tr><tr><td>train_accuracy</td><td>▁▆█▇█▇█▇▇█</td></tr><tr><td>train_f1</td><td>▁▇█▇█▇█▇▇█</td></tr><tr><td>train_loss</td><td>█▆▄▃▂▂▁▂▁▁</td></tr><tr><td>val_accuracy</td><td>▁▅▇█▇▆▇▇▇█</td></tr><tr><td>val_f1</td><td>▁▄▇█▇▆▇▇▇█</td></tr><tr><td>val_loss</td><td>█▆▅▃▂▂▂▁▂▂</td></tr></table><br/></div><div class=\"wandb-col\"><h3>Run summary:</h3><br/><table class=\"wandb\"><tr><td>epoch</td><td>10</td></tr><tr><td>train_accuracy</td><td>0.768</td></tr><tr><td>train_f1</td><td>0.76773</td></tr><tr><td>train_loss</td><td>0.49202</td></tr><tr><td>val_accuracy</td><td>0.81481</td></tr><tr><td>val_f1</td><td>0.81378</td></tr><tr><td>val_loss</td><td>0.4335</td></tr></table><br/></div></div>"
      ],
      "text/plain": [
       "<IPython.core.display.HTML object>"
      ]
     },
     "metadata": {},
     "output_type": "display_data"
    },
    {
     "data": {
      "text/html": [
       " View run <strong style=\"color:#cdcd00\">silver-sweep-18</strong> at: <a href='https://wandb.ai/barbonigiorgia-sapienza-universit-di-roma/graph-classification-graphs_sc/runs/cgo9348n' target=\"_blank\">https://wandb.ai/barbonigiorgia-sapienza-universit-di-roma/graph-classification-graphs_sc/runs/cgo9348n</a><br/> View project at: <a href='https://wandb.ai/barbonigiorgia-sapienza-universit-di-roma/graph-classification-graphs_sc' target=\"_blank\">https://wandb.ai/barbonigiorgia-sapienza-universit-di-roma/graph-classification-graphs_sc</a><br/>Synced 5 W&B file(s), 0 media file(s), 10 artifact file(s) and 0 other file(s)"
      ],
      "text/plain": [
       "<IPython.core.display.HTML object>"
      ]
     },
     "metadata": {},
     "output_type": "display_data"
    },
    {
     "data": {
      "text/html": [
       "Find logs at: <code>.\\wandb\\run-20241115_233208-cgo9348n\\logs</code>"
      ],
      "text/plain": [
       "<IPython.core.display.HTML object>"
      ]
     },
     "metadata": {},
     "output_type": "display_data"
    },
    {
     "name": "stderr",
     "output_type": "stream",
     "text": [
      "\u001b[34m\u001b[1mwandb\u001b[0m: Sweep Agent: Waiting for job.\n",
      "\u001b[34m\u001b[1mwandb\u001b[0m: Sweep Agent: Exiting.\n"
     ]
    },
    {
     "name": "stdout",
     "output_type": "stream",
     "text": [
      "\n",
      "Top 10 runs for graphs_sc:\n"
     ]
    },
    {
     "data": {
      "text/html": [
       "<div>\n",
       "<style scoped>\n",
       "    .dataframe tbody tr th:only-of-type {\n",
       "        vertical-align: middle;\n",
       "    }\n",
       "\n",
       "    .dataframe tbody tr th {\n",
       "        vertical-align: top;\n",
       "    }\n",
       "\n",
       "    .dataframe thead th {\n",
       "        text-align: right;\n",
       "    }\n",
       "</style>\n",
       "<table border=\"1\" class=\"dataframe\">\n",
       "  <thead>\n",
       "    <tr style=\"text-align: right;\">\n",
       "      <th></th>\n",
       "      <th>run_id</th>\n",
       "      <th>run_name</th>\n",
       "      <th>val_f1</th>\n",
       "      <th>learning_rate</th>\n",
       "      <th>out_channels</th>\n",
       "      <th>num_heads</th>\n",
       "      <th>weight_decay</th>\n",
       "    </tr>\n",
       "  </thead>\n",
       "  <tbody>\n",
       "    <tr>\n",
       "      <th>2</th>\n",
       "      <td>4y6v9ufy</td>\n",
       "      <td>silvery-sweep-3</td>\n",
       "      <td>0.845752</td>\n",
       "      <td>0.01</td>\n",
       "      <td>4</td>\n",
       "      <td>3</td>\n",
       "      <td>0.00010</td>\n",
       "    </tr>\n",
       "    <tr>\n",
       "      <th>9</th>\n",
       "      <td>2803hxhf</td>\n",
       "      <td>radiant-sweep-10</td>\n",
       "      <td>0.813776</td>\n",
       "      <td>0.01</td>\n",
       "      <td>4</td>\n",
       "      <td>4</td>\n",
       "      <td>0.00000</td>\n",
       "    </tr>\n",
       "    <tr>\n",
       "      <th>10</th>\n",
       "      <td>y9aivvns</td>\n",
       "      <td>different-sweep-11</td>\n",
       "      <td>0.813776</td>\n",
       "      <td>0.01</td>\n",
       "      <td>4</td>\n",
       "      <td>4</td>\n",
       "      <td>0.00001</td>\n",
       "    </tr>\n",
       "    <tr>\n",
       "      <th>11</th>\n",
       "      <td>jarf2dru</td>\n",
       "      <td>spring-sweep-12</td>\n",
       "      <td>0.813776</td>\n",
       "      <td>0.01</td>\n",
       "      <td>4</td>\n",
       "      <td>4</td>\n",
       "      <td>0.00010</td>\n",
       "    </tr>\n",
       "    <tr>\n",
       "      <th>15</th>\n",
       "      <td>4pzgjme6</td>\n",
       "      <td>morning-sweep-16</td>\n",
       "      <td>0.813776</td>\n",
       "      <td>0.01</td>\n",
       "      <td>12</td>\n",
       "      <td>4</td>\n",
       "      <td>0.00000</td>\n",
       "    </tr>\n",
       "    <tr>\n",
       "      <th>16</th>\n",
       "      <td>amyeaa7p</td>\n",
       "      <td>cool-sweep-17</td>\n",
       "      <td>0.813776</td>\n",
       "      <td>0.01</td>\n",
       "      <td>12</td>\n",
       "      <td>4</td>\n",
       "      <td>0.00001</td>\n",
       "    </tr>\n",
       "    <tr>\n",
       "      <th>17</th>\n",
       "      <td>cgo9348n</td>\n",
       "      <td>silver-sweep-18</td>\n",
       "      <td>0.813776</td>\n",
       "      <td>0.01</td>\n",
       "      <td>12</td>\n",
       "      <td>4</td>\n",
       "      <td>0.00010</td>\n",
       "    </tr>\n",
       "    <tr>\n",
       "      <th>0</th>\n",
       "      <td>oc9lk03y</td>\n",
       "      <td>pretty-sweep-1</td>\n",
       "      <td>0.810005</td>\n",
       "      <td>0.01</td>\n",
       "      <td>4</td>\n",
       "      <td>3</td>\n",
       "      <td>0.00000</td>\n",
       "    </tr>\n",
       "    <tr>\n",
       "      <th>1</th>\n",
       "      <td>i679l3dt</td>\n",
       "      <td>stoic-sweep-2</td>\n",
       "      <td>0.810005</td>\n",
       "      <td>0.01</td>\n",
       "      <td>4</td>\n",
       "      <td>3</td>\n",
       "      <td>0.00001</td>\n",
       "    </tr>\n",
       "    <tr>\n",
       "      <th>3</th>\n",
       "      <td>l4u470t8</td>\n",
       "      <td>dark-sweep-4</td>\n",
       "      <td>0.777778</td>\n",
       "      <td>0.01</td>\n",
       "      <td>8</td>\n",
       "      <td>3</td>\n",
       "      <td>0.00000</td>\n",
       "    </tr>\n",
       "  </tbody>\n",
       "</table>\n",
       "</div>"
      ],
      "text/plain": [
       "      run_id            run_name    val_f1  learning_rate  out_channels  \\\n",
       "2   4y6v9ufy     silvery-sweep-3  0.845752           0.01             4   \n",
       "9   2803hxhf    radiant-sweep-10  0.813776           0.01             4   \n",
       "10  y9aivvns  different-sweep-11  0.813776           0.01             4   \n",
       "11  jarf2dru     spring-sweep-12  0.813776           0.01             4   \n",
       "15  4pzgjme6    morning-sweep-16  0.813776           0.01            12   \n",
       "16  amyeaa7p       cool-sweep-17  0.813776           0.01            12   \n",
       "17  cgo9348n     silver-sweep-18  0.813776           0.01            12   \n",
       "0   oc9lk03y      pretty-sweep-1  0.810005           0.01             4   \n",
       "1   i679l3dt       stoic-sweep-2  0.810005           0.01             4   \n",
       "3   l4u470t8        dark-sweep-4  0.777778           0.01             8   \n",
       "\n",
       "    num_heads  weight_decay  \n",
       "2           3       0.00010  \n",
       "9           4       0.00000  \n",
       "10          4       0.00001  \n",
       "11          4       0.00010  \n",
       "15          4       0.00000  \n",
       "16          4       0.00001  \n",
       "17          4       0.00010  \n",
       "0           3       0.00000  \n",
       "1           3       0.00001  \n",
       "3           3       0.00000  "
      ]
     },
     "metadata": {},
     "output_type": "display_data"
    }
   ],
   "source": [
    "# Run the grid search for the second time\n",
    "\n",
    "all_runs_df_sc_1, top_runs_df_sc_1 = run_grid_search(graphs_sc, labels_sc, sweep_config_sc, 'graphs_sc', top_x= 10)\n"
   ]
  },
  {
   "cell_type": "code",
   "execution_count": 36,
   "metadata": {},
   "outputs": [
    {
     "data": {
      "text/html": [
       "<div>\n",
       "<style scoped>\n",
       "    .dataframe tbody tr th:only-of-type {\n",
       "        vertical-align: middle;\n",
       "    }\n",
       "\n",
       "    .dataframe tbody tr th {\n",
       "        vertical-align: top;\n",
       "    }\n",
       "\n",
       "    .dataframe thead th {\n",
       "        text-align: right;\n",
       "    }\n",
       "</style>\n",
       "<table border=\"1\" class=\"dataframe\">\n",
       "  <thead>\n",
       "    <tr style=\"text-align: right;\">\n",
       "      <th></th>\n",
       "      <th>run_id</th>\n",
       "      <th>val_f1</th>\n",
       "      <th>num_heads</th>\n",
       "      <th>optimizer</th>\n",
       "      <th>test_size</th>\n",
       "      <th>batch_size</th>\n",
       "      <th>num_epochs</th>\n",
       "      <th>in_channels</th>\n",
       "      <th>out_channels</th>\n",
       "      <th>random_state</th>\n",
       "      <th>weight_decay</th>\n",
       "      <th>learning_rate</th>\n",
       "    </tr>\n",
       "  </thead>\n",
       "  <tbody>\n",
       "    <tr>\n",
       "      <th>2</th>\n",
       "      <td>4y6v9ufy</td>\n",
       "      <td>0.845752</td>\n",
       "      <td>3</td>\n",
       "      <td>adam</td>\n",
       "      <td>0.3</td>\n",
       "      <td>8</td>\n",
       "      <td>10</td>\n",
       "      <td>6</td>\n",
       "      <td>4</td>\n",
       "      <td>42</td>\n",
       "      <td>0.00010</td>\n",
       "      <td>0.01</td>\n",
       "    </tr>\n",
       "    <tr>\n",
       "      <th>9</th>\n",
       "      <td>2803hxhf</td>\n",
       "      <td>0.813776</td>\n",
       "      <td>4</td>\n",
       "      <td>adam</td>\n",
       "      <td>0.3</td>\n",
       "      <td>8</td>\n",
       "      <td>10</td>\n",
       "      <td>6</td>\n",
       "      <td>4</td>\n",
       "      <td>42</td>\n",
       "      <td>0.00000</td>\n",
       "      <td>0.01</td>\n",
       "    </tr>\n",
       "    <tr>\n",
       "      <th>10</th>\n",
       "      <td>y9aivvns</td>\n",
       "      <td>0.813776</td>\n",
       "      <td>4</td>\n",
       "      <td>adam</td>\n",
       "      <td>0.3</td>\n",
       "      <td>8</td>\n",
       "      <td>10</td>\n",
       "      <td>6</td>\n",
       "      <td>4</td>\n",
       "      <td>42</td>\n",
       "      <td>0.00001</td>\n",
       "      <td>0.01</td>\n",
       "    </tr>\n",
       "    <tr>\n",
       "      <th>11</th>\n",
       "      <td>jarf2dru</td>\n",
       "      <td>0.813776</td>\n",
       "      <td>4</td>\n",
       "      <td>adam</td>\n",
       "      <td>0.3</td>\n",
       "      <td>8</td>\n",
       "      <td>10</td>\n",
       "      <td>6</td>\n",
       "      <td>4</td>\n",
       "      <td>42</td>\n",
       "      <td>0.00010</td>\n",
       "      <td>0.01</td>\n",
       "    </tr>\n",
       "    <tr>\n",
       "      <th>15</th>\n",
       "      <td>4pzgjme6</td>\n",
       "      <td>0.813776</td>\n",
       "      <td>4</td>\n",
       "      <td>adam</td>\n",
       "      <td>0.3</td>\n",
       "      <td>8</td>\n",
       "      <td>10</td>\n",
       "      <td>6</td>\n",
       "      <td>12</td>\n",
       "      <td>42</td>\n",
       "      <td>0.00000</td>\n",
       "      <td>0.01</td>\n",
       "    </tr>\n",
       "    <tr>\n",
       "      <th>16</th>\n",
       "      <td>amyeaa7p</td>\n",
       "      <td>0.813776</td>\n",
       "      <td>4</td>\n",
       "      <td>adam</td>\n",
       "      <td>0.3</td>\n",
       "      <td>8</td>\n",
       "      <td>10</td>\n",
       "      <td>6</td>\n",
       "      <td>12</td>\n",
       "      <td>42</td>\n",
       "      <td>0.00001</td>\n",
       "      <td>0.01</td>\n",
       "    </tr>\n",
       "    <tr>\n",
       "      <th>17</th>\n",
       "      <td>cgo9348n</td>\n",
       "      <td>0.813776</td>\n",
       "      <td>4</td>\n",
       "      <td>adam</td>\n",
       "      <td>0.3</td>\n",
       "      <td>8</td>\n",
       "      <td>10</td>\n",
       "      <td>6</td>\n",
       "      <td>12</td>\n",
       "      <td>42</td>\n",
       "      <td>0.00010</td>\n",
       "      <td>0.01</td>\n",
       "    </tr>\n",
       "    <tr>\n",
       "      <th>0</th>\n",
       "      <td>oc9lk03y</td>\n",
       "      <td>0.810005</td>\n",
       "      <td>3</td>\n",
       "      <td>adam</td>\n",
       "      <td>0.3</td>\n",
       "      <td>8</td>\n",
       "      <td>10</td>\n",
       "      <td>6</td>\n",
       "      <td>4</td>\n",
       "      <td>42</td>\n",
       "      <td>0.00000</td>\n",
       "      <td>0.01</td>\n",
       "    </tr>\n",
       "    <tr>\n",
       "      <th>1</th>\n",
       "      <td>i679l3dt</td>\n",
       "      <td>0.810005</td>\n",
       "      <td>3</td>\n",
       "      <td>adam</td>\n",
       "      <td>0.3</td>\n",
       "      <td>8</td>\n",
       "      <td>10</td>\n",
       "      <td>6</td>\n",
       "      <td>4</td>\n",
       "      <td>42</td>\n",
       "      <td>0.00001</td>\n",
       "      <td>0.01</td>\n",
       "    </tr>\n",
       "    <tr>\n",
       "      <th>3</th>\n",
       "      <td>l4u470t8</td>\n",
       "      <td>0.777778</td>\n",
       "      <td>3</td>\n",
       "      <td>adam</td>\n",
       "      <td>0.3</td>\n",
       "      <td>8</td>\n",
       "      <td>10</td>\n",
       "      <td>6</td>\n",
       "      <td>8</td>\n",
       "      <td>42</td>\n",
       "      <td>0.00000</td>\n",
       "      <td>0.01</td>\n",
       "    </tr>\n",
       "  </tbody>\n",
       "</table>\n",
       "</div>"
      ],
      "text/plain": [
       "      run_id    val_f1  num_heads optimizer  test_size  batch_size  \\\n",
       "2   4y6v9ufy  0.845752          3      adam        0.3           8   \n",
       "9   2803hxhf  0.813776          4      adam        0.3           8   \n",
       "10  y9aivvns  0.813776          4      adam        0.3           8   \n",
       "11  jarf2dru  0.813776          4      adam        0.3           8   \n",
       "15  4pzgjme6  0.813776          4      adam        0.3           8   \n",
       "16  amyeaa7p  0.813776          4      adam        0.3           8   \n",
       "17  cgo9348n  0.813776          4      adam        0.3           8   \n",
       "0   oc9lk03y  0.810005          3      adam        0.3           8   \n",
       "1   i679l3dt  0.810005          3      adam        0.3           8   \n",
       "3   l4u470t8  0.777778          3      adam        0.3           8   \n",
       "\n",
       "    num_epochs  in_channels  out_channels  random_state  weight_decay  \\\n",
       "2           10            6             4            42       0.00010   \n",
       "9           10            6             4            42       0.00000   \n",
       "10          10            6             4            42       0.00001   \n",
       "11          10            6             4            42       0.00010   \n",
       "15          10            6            12            42       0.00000   \n",
       "16          10            6            12            42       0.00001   \n",
       "17          10            6            12            42       0.00010   \n",
       "0           10            6             4            42       0.00000   \n",
       "1           10            6             4            42       0.00001   \n",
       "3           10            6             8            42       0.00000   \n",
       "\n",
       "    learning_rate  \n",
       "2            0.01  \n",
       "9            0.01  \n",
       "10           0.01  \n",
       "11           0.01  \n",
       "15           0.01  \n",
       "16           0.01  \n",
       "17           0.01  \n",
       "0            0.01  \n",
       "1            0.01  \n",
       "3            0.01  "
      ]
     },
     "metadata": {},
     "output_type": "display_data"
    },
    {
     "name": "stdout",
     "output_type": "stream",
     "text": [
      "\\begin{tabular}{lrrlrrrrrrrr}\n",
      "\\toprule\n",
      "run_id & val_f1 & num_heads & optimizer & test_size & batch_size & num_epochs & in_channels & out_channels & random_state & weight_decay & learning_rate \\\\\n",
      "\\midrule\n",
      "4y6v9ufy & 0.845752 & 3 & adam & 0.300000 & 8 & 10 & 6 & 4 & 42 & 0.000100 & 0.010000 \\\\\n",
      "2803hxhf & 0.813776 & 4 & adam & 0.300000 & 8 & 10 & 6 & 4 & 42 & 0.000000 & 0.010000 \\\\\n",
      "y9aivvns & 0.813776 & 4 & adam & 0.300000 & 8 & 10 & 6 & 4 & 42 & 0.000010 & 0.010000 \\\\\n",
      "jarf2dru & 0.813776 & 4 & adam & 0.300000 & 8 & 10 & 6 & 4 & 42 & 0.000100 & 0.010000 \\\\\n",
      "4pzgjme6 & 0.813776 & 4 & adam & 0.300000 & 8 & 10 & 6 & 12 & 42 & 0.000000 & 0.010000 \\\\\n",
      "amyeaa7p & 0.813776 & 4 & adam & 0.300000 & 8 & 10 & 6 & 12 & 42 & 0.000010 & 0.010000 \\\\\n",
      "cgo9348n & 0.813776 & 4 & adam & 0.300000 & 8 & 10 & 6 & 12 & 42 & 0.000100 & 0.010000 \\\\\n",
      "oc9lk03y & 0.810005 & 3 & adam & 0.300000 & 8 & 10 & 6 & 4 & 42 & 0.000000 & 0.010000 \\\\\n",
      "i679l3dt & 0.810005 & 3 & adam & 0.300000 & 8 & 10 & 6 & 4 & 42 & 0.000010 & 0.010000 \\\\\n",
      "l4u470t8 & 0.777778 & 3 & adam & 0.300000 & 8 & 10 & 6 & 8 & 42 & 0.000000 & 0.010000 \\\\\n",
      "\\bottomrule\n",
      "\\end{tabular}\n",
      "\n"
     ]
    }
   ],
   "source": [
    "# Display the top runs\n",
    "display(top_runs_df_sc_1[hyperparameter_columns])\n",
    "print(top_runs_df_sc_1[hyperparameter_columns].to_latex(index=False))"
   ]
  },
  {
   "cell_type": "code",
   "execution_count": 37,
   "metadata": {},
   "outputs": [
    {
     "name": "stdout",
     "output_type": "stream",
     "text": [
      "Run ID: 4y6v9ufy\n",
      "Run Name: silvery-sweep-3\n",
      "Run Config: {'num_heads': 3, 'optimizer': 'adam', 'test_size': 0.3, 'batch_size': 8, 'num_epochs': 10, 'in_channels': 6, 'out_channels': 4, 'random_state': 42, 'weight_decay': 0.0001, 'learning_rate': 0.01}\n",
      "Run Metrics: {'_runtime': 57.0718015, '_step': 9, '_timestamp': 1731708796.8167634, '_wandb': {'runtime': 57}, 'epoch': 10, 'gradients/graph_55classifier.bias': {'_type': 'histogram'}, 'gradients/graph_55classifier.weight': {'_type': 'histogram'}, 'gradients/graph_55gat1.heads.0.attn_fc.weight': {'_type': 'histogram'}, 'gradients/graph_55gat1.heads.0.fc.weight': {'_type': 'histogram'}, 'gradients/graph_55gat1.heads.1.attn_fc.weight': {'_type': 'histogram'}, 'gradients/graph_55gat1.heads.1.fc.weight': {'_type': 'histogram'}, 'gradients/graph_55gat1.heads.2.attn_fc.weight': {'_type': 'histogram'}, 'gradients/graph_55gat1.heads.2.fc.weight': {'_type': 'histogram'}, 'parameters/graph_55classifier.bias': {'_type': 'histogram'}, 'parameters/graph_55classifier.weight': {'_type': 'histogram'}, 'parameters/graph_55gat1.heads.0.attn_fc.weight': {'_type': 'histogram'}, 'parameters/graph_55gat1.heads.0.fc.weight': {'_type': 'histogram'}, 'parameters/graph_55gat1.heads.1.attn_fc.weight': {'_type': 'histogram'}, 'parameters/graph_55gat1.heads.1.fc.weight': {'_type': 'histogram'}, 'parameters/graph_55gat1.heads.2.attn_fc.weight': {'_type': 'histogram'}, 'parameters/graph_55gat1.heads.2.fc.weight': {'_type': 'histogram'}, 'train_accuracy': 0.736, 'train_f1': 0.7290078098471986, 'train_loss': 0.5439229477196932, 'val_accuracy': 0.8518518518518519, 'val_f1': 0.8457516339869281, 'val_loss': 0.5079125836491585}\n",
      "Run Tags: ['top_performing']\n",
      "Run Notes: None\n"
     ]
    }
   ],
   "source": [
    "import wandb\n",
    "\n",
    "# Initialize the API\n",
    "api = wandb.Api()\n",
    "\n",
    "# Get the run\n",
    "run = api.run(\"graph-classification-graphs_sc/4y6v9ufy\")\n",
    "\n",
    "# Print run information\n",
    "print(f\"Run ID: {run.id}\")\n",
    "print(f\"Run Name: {run.name}\")\n",
    "print(f\"Run Config: {run.config}\")\n",
    "print(f\"Run Metrics: {run.summary}\")\n",
    "print(f\"Run Tags: {run.tags}\")\n",
    "print(f\"Run Notes: {run.notes}\")"
   ]
  },
  {
   "cell_type": "code",
   "execution_count": 38,
   "metadata": {},
   "outputs": [
    {
     "data": {
      "image/png": "[encoded data removed]",
      "text/plain": [
       "<Figure size 1000x600 with 1 Axes>"
      ]
     },
     "metadata": {},
     "output_type": "display_data"
    },
    {
     "data": {
      "image/png": "[encoded data removed]",
      "text/plain": [
       "<Figure size 1000x600 with 1 Axes>"
      ]
     },
     "metadata": {},
     "output_type": "display_data"
    },
    {
     "data": {
      "image/png": "[encoded data removed]",
      "text/plain": [
       "<Figure size 1000x600 with 1 Axes>"
      ]
     },
     "metadata": {},
     "output_type": "display_data"
    }
   ],
   "source": [
    "# Plot train and validation curves for different metrics\n",
    "metrics = ['loss', 'accuracy', 'f1']\n",
    "run_id = '4y6v9ufy'  \n",
    "project_name = 'graph-classification-graphs_sc'\n",
    "\n",
    "for metric in metrics:\n",
    "    plot_train_val_curves(run_id, metric, project_name=project_name)\n"
   ]
  }
 ],
 "metadata": {
  "kernelspec": {
   "display_name": ".venv",
   "language": "python",
   "name": "python3"
  },
  "language_info": {
   "codemirror_mode": {
    "name": "ipython",
    "version": 3
   },
   "file_extension": ".py",
   "mimetype": "text/x-python",
   "name": "python",
   "nbconvert_exporter": "python",
   "pygments_lexer": "ipython3",
   "version": "3.10.11"
  }
 },
 "nbformat": 4,
 "nbformat_minor": 2
}
