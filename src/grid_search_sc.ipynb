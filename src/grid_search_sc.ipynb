{
 "cells": [
  {
   "cell_type": "code",
   "execution_count": 1,
   "metadata": {},
   "outputs": [
    {
     "name": "stderr",
     "output_type": "stream",
     "text": [
      "c:\\Users\\barbo\\brain classifier repo\\brain_classifier\\.venv\\lib\\site-packages\\torchdata\\datapipes\\__init__.py:18: UserWarning: \n",
      "################################################################################\n",
      "WARNING!\n",
      "The 'datapipes', 'dataloader2' modules are deprecated and will be removed in a\n",
      "future torchdata release! Please see https://github.com/pytorch/data/issues/1196\n",
      "to learn more and leave feedback.\n",
      "################################################################################\n",
      "\n",
      "  deprecation_warning()\n",
      "c:\\Users\\barbo\\brain classifier repo\\brain_classifier\\.venv\\lib\\site-packages\\tqdm\\auto.py:21: TqdmWarning: IProgress not found. Please update jupyter and ipywidgets. See https://ipywidgets.readthedocs.io/en/stable/user_install.html\n",
      "  from .autonotebook import tqdm as notebook_tqdm\n"
     ]
    },
    {
     "name": "stdout",
     "output_type": "stream",
     "text": [
      "Search space size: 36\n"
     ]
    }
   ],
   "source": [
    "# grid_search.py\n",
    "\n",
    "import os\n",
    "import copy\n",
    "from run_sweep import run_sweep\n",
    "from ingestion import prepare_datasets\n",
    "from fetch_and_visualize import plot_hyperparameter_performance, compute_correlation\n",
    "from sweep_config import sweep_config\n",
    "from run_grid_search import run_grid_search"
   ]
  },
  {
   "cell_type": "code",
   "execution_count": 2,
   "metadata": {},
   "outputs": [],
   "source": [
    "# Prepare datasets\n",
    "base_dir = os.path.dirname(os.getcwd())\n",
    "graphs_sc, labels_sc, graphs_sc_combined, labels_sc_combined, feature_names = prepare_datasets(base_dir)"
   ]
  },
  {
   "cell_type": "code",
   "execution_count": 4,
   "metadata": {},
   "outputs": [],
   "source": [
    "# Create copies of the sweep config for each dataset\n",
    "sweep_config_sc = copy.deepcopy(sweep_config)\n",
    "\n",
    "# Update the sweep config with the in_channels\n",
    "sweep_config_sc['parameters']['in_channels'] = {\n",
    "    'value': 6\n",
    "}"
   ]
  },
  {
   "cell_type": "code",
   "execution_count": 6,
   "metadata": {},
   "outputs": [
    {
     "name": "stdout",
     "output_type": "stream",
     "text": [
      "{'method': 'grid', 'metric': {'name': 'val_f1', 'goal': 'maximize'}, 'parameters': {'optimizer': {'values': ['adam']}, 'test_size': {'value': 0.3}, 'learning_rate': {'values': [0.001]}, 'out_channels': {'values': [8]}, 'num_heads': {'values': [4]}, 'num_epochs': {'value': 1}, 'weight_decay': {'values': [0.01]}, 'batch_size': {'values': [32]}, 'random_state': {'value': 42}, 'in_channels': {'value': 6}}}\n"
     ]
    }
   ],
   "source": [
    "print(sweep_config_sc)"
   ]
  },
  {
   "cell_type": "code",
   "execution_count": null,
   "metadata": {},
   "outputs": [],
   "source": [
    "# Run the grid search for the first dataset\n",
    "all_runs_df_sc, top_runs_df_sc = run_grid_search(graphs_sc, labels_sc, sweep_config_sc, 'graphs_sc', top_x= 5)"
   ]
  },
  {
   "cell_type": "code",
   "execution_count": 10,
   "metadata": {},
   "outputs": [
    {
     "data": {
      "text/html": [
       "<div>\n",
       "<style scoped>\n",
       "    .dataframe tbody tr th:only-of-type {\n",
       "        vertical-align: middle;\n",
       "    }\n",
       "\n",
       "    .dataframe tbody tr th {\n",
       "        vertical-align: top;\n",
       "    }\n",
       "\n",
       "    .dataframe thead th {\n",
       "        text-align: right;\n",
       "    }\n",
       "</style>\n",
       "<table border=\"1\" class=\"dataframe\">\n",
       "  <thead>\n",
       "    <tr style=\"text-align: right;\">\n",
       "      <th></th>\n",
       "      <th>run_name</th>\n",
       "      <th>run_id</th>\n",
       "      <th>num_heads</th>\n",
       "      <th>learning_rate</th>\n",
       "      <th>weight_decay</th>\n",
       "      <th>out_channels</th>\n",
       "    </tr>\n",
       "  </thead>\n",
       "  <tbody>\n",
       "    <tr>\n",
       "      <th>9</th>\n",
       "      <td>confused-sweep-10</td>\n",
       "      <td>wrp2w1sx</td>\n",
       "      <td>4</td>\n",
       "      <td>0.00100</td>\n",
       "      <td>0.0000</td>\n",
       "      <td>16</td>\n",
       "    </tr>\n",
       "    <tr>\n",
       "      <th>25</th>\n",
       "      <td>fallen-sweep-26</td>\n",
       "      <td>yau1yteh</td>\n",
       "      <td>2</td>\n",
       "      <td>0.00001</td>\n",
       "      <td>0.0001</td>\n",
       "      <td>8</td>\n",
       "    </tr>\n",
       "    <tr>\n",
       "      <th>13</th>\n",
       "      <td>whole-sweep-14</td>\n",
       "      <td>2zim3ydf</td>\n",
       "      <td>2</td>\n",
       "      <td>0.00010</td>\n",
       "      <td>0.0001</td>\n",
       "      <td>8</td>\n",
       "    </tr>\n",
       "    <tr>\n",
       "      <th>15</th>\n",
       "      <td>comic-sweep-16</td>\n",
       "      <td>y13o3jmd</td>\n",
       "      <td>2</td>\n",
       "      <td>0.00010</td>\n",
       "      <td>0.0000</td>\n",
       "      <td>16</td>\n",
       "    </tr>\n",
       "    <tr>\n",
       "      <th>14</th>\n",
       "      <td>lunar-sweep-15</td>\n",
       "      <td>9no0sklo</td>\n",
       "      <td>2</td>\n",
       "      <td>0.00010</td>\n",
       "      <td>0.0100</td>\n",
       "      <td>8</td>\n",
       "    </tr>\n",
       "  </tbody>\n",
       "</table>\n",
       "</div>"
      ],
      "text/plain": [
       "             run_name    run_id  num_heads  learning_rate  weight_decay  \\\n",
       "9   confused-sweep-10  wrp2w1sx          4        0.00100        0.0000   \n",
       "25    fallen-sweep-26  yau1yteh          2        0.00001        0.0001   \n",
       "13     whole-sweep-14  2zim3ydf          2        0.00010        0.0001   \n",
       "15     comic-sweep-16  y13o3jmd          2        0.00010        0.0000   \n",
       "14     lunar-sweep-15  9no0sklo          2        0.00010        0.0100   \n",
       "\n",
       "    out_channels  \n",
       "9             16  \n",
       "25             8  \n",
       "13             8  \n",
       "15            16  \n",
       "14             8  "
      ]
     },
     "metadata": {},
     "output_type": "display_data"
    },
    {
     "name": "stdout",
     "output_type": "stream",
     "text": [
      "             run_name    run_id  num_heads  learning_rate  weight_decay  \\\n",
      "9   confused-sweep-10  wrp2w1sx          4        0.00100        0.0000   \n",
      "25    fallen-sweep-26  yau1yteh          2        0.00001        0.0001   \n",
      "13     whole-sweep-14  2zim3ydf          2        0.00010        0.0001   \n",
      "15     comic-sweep-16  y13o3jmd          2        0.00010        0.0000   \n",
      "14     lunar-sweep-15  9no0sklo          2        0.00010        0.0100   \n",
      "\n",
      "    out_channels  \n",
      "9             16  \n",
      "25             8  \n",
      "13             8  \n",
      "15            16  \n",
      "14             8  \n"
     ]
    }
   ],
   "source": [
    "from IPython.display import display\n",
    "\n",
    "top_5_runs_df_sc = all_runs_df_sc.sort_values(by='val_f1', ascending=False).head(5)\n",
    "display(top_5_runs_df_sc[['run_name', 'run_id', 'num_heads', 'learning_rate', 'weight_decay', 'out_channels']])\n",
    "\n",
    "print(top_5_runs_df_sc[['run_name', 'run_id', 'num_heads', 'learning_rate', 'weight_decay', 'out_channels']])"
   ]
  },
  {
   "cell_type": "code",
   "execution_count": null,
   "metadata": {},
   "outputs": [],
   "source": [
    "\"\"\"\n",
    "# Plot hyperparameter performance\n",
    "plot_hyperparameter_performance(all_runs_df_sc, hyperparameter='learning_rate', metric=metric)\n",
    "\n",
    "# Compute correlations between hyperparameters and the metric\n",
    "correlations_sc = compute_correlation(all_runs_df_sc, 'learning_rate', 'val_f1')\n",
    "print(\"\\nCorrelations for 'sc' dataset:\")\n",
    "print(correlations_sc)\n",
    "\"\"\""
   ]
  },
  {
   "cell_type": "code",
   "execution_count": null,
   "metadata": {},
   "outputs": [],
   "source": [
    "sweep_config_sc['parameters'].update({\n",
    "    'learning_rate': {\n",
    "        'values': [5e-5, 1e-4, 5e-4]\n",
    "    },\n",
    "    'out_channels': {\n",
    "        'values': [8] \n",
    "    },\n",
    "    'num_heads': {\n",
    "        'values': [1,2] \n",
    "    },\n",
    "    'num_epochs': {\n",
    "        'value': 1\n",
    "    },\n",
    "    'weight_decay': {\n",
    "        'values': [0.01] \n",
    "    }\n",
    "})\n"
   ]
  }
 ],
 "metadata": {
  "kernelspec": {
   "display_name": ".venv",
   "language": "python",
   "name": "python3"
  },
  "language_info": {
   "codemirror_mode": {
    "name": "ipython",
    "version": 3
   },
   "file_extension": ".py",
   "mimetype": "text/x-python",
   "name": "python",
   "nbconvert_exporter": "python",
   "pygments_lexer": "ipython3",
   "version": "3.10.11"
  }
 },
 "nbformat": 4,
 "nbformat_minor": 2
}
