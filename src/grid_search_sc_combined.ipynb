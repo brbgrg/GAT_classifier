{
 "cells": [
  {
   "cell_type": "code",
   "execution_count": 1,
   "metadata": {},
   "outputs": [
    {
     "name": "stderr",
     "output_type": "stream",
     "text": [
      "c:\\Users\\barbo\\brain classifier repo\\brain_classifier\\.venv\\lib\\site-packages\\torchdata\\datapipes\\__init__.py:18: UserWarning: \n",
      "################################################################################\n",
      "WARNING!\n",
      "The 'datapipes', 'dataloader2' modules are deprecated and will be removed in a\n",
      "future torchdata release! Please see https://github.com/pytorch/data/issues/1196\n",
      "to learn more and leave feedback.\n",
      "################################################################################\n",
      "\n",
      "  deprecation_warning()\n",
      "c:\\Users\\barbo\\brain classifier repo\\brain_classifier\\.venv\\lib\\site-packages\\tqdm\\auto.py:21: TqdmWarning: IProgress not found. Please update jupyter and ipywidgets. See https://ipywidgets.readthedocs.io/en/stable/user_install.html\n",
      "  from .autonotebook import tqdm as notebook_tqdm\n"
     ]
    },
    {
     "name": "stdout",
     "output_type": "stream",
     "text": [
      "Search space size: 36\n"
     ]
    }
   ],
   "source": [
    "# grid_search.py\n",
    "\n",
    "import os\n",
    "import copy\n",
    "from run_sweep import run_sweep\n",
    "from ingestion import prepare_datasets\n",
    "from fetch_and_visualize import plot_hyperparameter_performance, compute_correlation\n",
    "from sweep_config import sweep_config\n",
    "from run_grid_search import run_grid_search"
   ]
  },
  {
   "cell_type": "code",
   "execution_count": 2,
   "metadata": {},
   "outputs": [],
   "source": [
    "# Prepare datasets\n",
    "base_dir = os.path.dirname(os.getcwd())\n",
    "graphs_sc, labels_sc, graphs_sc_combined, labels_sc_combined, feature_names = prepare_datasets(base_dir)\n",
    "\n",
    "# Create copies of the sweep config for each dataset\n",
    "sweep_config_sc_combined = copy.deepcopy(sweep_config)\n",
    "\n",
    "# Update the sweep config with the in_channels\n",
    "\n",
    "sweep_config_sc_combined['parameters']['in_channels'] = {\n",
    "    'value': 8\n",
    "}"
   ]
  }
 ],
 "metadata": {
  "kernelspec": {
   "display_name": ".venv",
   "language": "python",
   "name": "python3"
  },
  "language_info": {
   "codemirror_mode": {
    "name": "ipython",
    "version": 3
   },
   "file_extension": ".py",
   "mimetype": "text/x-python",
   "name": "python",
   "nbconvert_exporter": "python",
   "pygments_lexer": "ipython3",
   "version": "3.10.11"
  }
 },
 "nbformat": 4,
 "nbformat_minor": 2
}
