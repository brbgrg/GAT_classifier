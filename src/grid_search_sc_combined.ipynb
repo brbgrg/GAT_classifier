{
 "cells": [
  {
   "cell_type": "code",
   "execution_count": 5,
   "metadata": {},
   "outputs": [
    {
     "ename": "ImportError",
     "evalue": "cannot import name 'plot_train_val_curves' from 'fetch_and_visualize' (c:\\Users\\barbo\\brain classifier repo\\brain_classifier\\src\\fetch_and_visualize.py)",
     "output_type": "error",
     "traceback": [
      "\u001b[1;31m---------------------------------------------------------------------------\u001b[0m",
      "\u001b[1;31mImportError\u001b[0m                               Traceback (most recent call last)",
      "Cell \u001b[1;32mIn[5], line 7\u001b[0m\n\u001b[0;32m      5\u001b[0m \u001b[38;5;28;01mfrom\u001b[39;00m \u001b[38;5;21;01mrun_sweep\u001b[39;00m \u001b[38;5;28;01mimport\u001b[39;00m run_sweep\n\u001b[0;32m      6\u001b[0m \u001b[38;5;28;01mfrom\u001b[39;00m \u001b[38;5;21;01mingestion\u001b[39;00m \u001b[38;5;28;01mimport\u001b[39;00m prepare_datasets\n\u001b[1;32m----> 7\u001b[0m \u001b[38;5;28;01mfrom\u001b[39;00m \u001b[38;5;21;01mfetch_and_visualize\u001b[39;00m \u001b[38;5;28;01mimport\u001b[39;00m get_top_runs, plot_hyperparameter_performance, compute_correlation, plot_train_val_curves\n\u001b[0;32m      8\u001b[0m \u001b[38;5;28;01mfrom\u001b[39;00m \u001b[38;5;21;01msweep_config\u001b[39;00m \u001b[38;5;28;01mimport\u001b[39;00m sweep_config\n\u001b[0;32m      9\u001b[0m \u001b[38;5;28;01mfrom\u001b[39;00m \u001b[38;5;21;01mrun_grid_search\u001b[39;00m \u001b[38;5;28;01mimport\u001b[39;00m run_grid_search\n",
      "\u001b[1;31mImportError\u001b[0m: cannot import name 'plot_train_val_curves' from 'fetch_and_visualize' (c:\\Users\\barbo\\brain classifier repo\\brain_classifier\\src\\fetch_and_visualize.py)"
     ]
    }
   ],
   "source": [
    "# grid_search_sc_combined.py\n",
    "\n",
    "import os\n",
    "import copy\n",
    "from run_sweep import run_sweep\n",
    "from ingestion import prepare_datasets\n",
    "from fetch_and_visualize import get_top_runs, plot_hyperparameter_performance, compute_correlation, plot_train_val_curves\n",
    "from sweep_config import sweep_config\n",
    "from run_grid_search import run_grid_search"
   ]
  },
  {
   "cell_type": "code",
   "execution_count": null,
   "metadata": {},
   "outputs": [],
   "source": [
    "# Prepare datasets\n",
    "base_dir = os.path.dirname(os.getcwd())\n",
    "graphs_sc, labels_sc, graphs_sc_combined, labels_sc_combined, feature_names = prepare_datasets(base_dir)"
   ]
  },
  {
   "cell_type": "code",
   "execution_count": null,
   "metadata": {},
   "outputs": [],
   "source": [
    "# Create copies of the sweep config for each dataset\n",
    "sweep_config_sc_combined = copy.deepcopy(sweep_config)\n",
    "\n",
    "# Update the sweep config with the in_channels\n",
    "sweep_config_sc_combined['parameters'].update({\n",
    "    'in_channels': {\n",
    "        'value': 6\n",
    "    }\n",
    "    'num_heads': {\n",
    "        'values': [2,3,4,5,6] \n",
    "    }\n",
    "})"
   ]
  }
 ],
 "metadata": {
  "kernelspec": {
   "display_name": ".venv",
   "language": "python",
   "name": "python3"
  },
  "language_info": {
   "codemirror_mode": {
    "name": "ipython",
    "version": 3
   },
   "file_extension": ".py",
   "mimetype": "text/x-python",
   "name": "python",
   "nbconvert_exporter": "python",
   "pygments_lexer": "ipython3",
   "version": "3.10.11"
  }
 },
 "nbformat": 4,
 "nbformat_minor": 2
}
