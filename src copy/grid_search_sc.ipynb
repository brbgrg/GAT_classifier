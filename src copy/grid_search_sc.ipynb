{
 "cells": [
  {
   "cell_type": "code",
   "execution_count": null,
   "metadata": {},
   "outputs": [
    {
     "name": "stderr",
     "output_type": "stream",
     "text": [
      "c:\\Users\\barbo\\brain classifier repo\\brain_classifier\\.venv\\lib\\site-packages\\torchdata\\datapipes\\__init__.py:18: UserWarning: \n",
      "################################################################################\n",
      "WARNING!\n",
      "The 'datapipes', 'dataloader2' modules are deprecated and will be removed in a\n",
      "future torchdata release! Please see https://github.com/pytorch/data/issues/1196\n",
      "to learn more and leave feedback.\n",
      "################################################################################\n",
      "\n",
      "  deprecation_warning()\n",
      "c:\\Users\\barbo\\brain classifier repo\\brain_classifier\\.venv\\lib\\site-packages\\tqdm\\auto.py:21: TqdmWarning: IProgress not found. Please update jupyter and ipywidgets. See https://ipywidgets.readthedocs.io/en/stable/user_install.html\n",
      "  from .autonotebook import tqdm as notebook_tqdm\n"
     ]
    },
    {
     "name": "stdout",
     "output_type": "stream",
     "text": [
      "Search space size: 1152\n"
     ]
    }
   ],
   "source": [
    "# grid_search_sc.py\n",
    "\n",
    "import os\n",
    "import copy\n",
    "from run_sweep import run_sweep\n",
    "from ingestion import prepare_datasets\n",
    "from fetch_and_visualize import fetch_runs_dataframe, get_top_runs, plot_hyperparameter_performance, compute_correlation, plot_train_val_curves, get_config, fetch_top_runs, plot_hyperparameter_heatmaps, plot_hyperparameter_boxplots\n",
    "from sweep_config import sweep_config\n",
    "from run_grid_search import run_grid_search\n",
    "from train_best_model_early_stopping import train_best_model_early_stopping"
   ]
  },
  {
   "cell_type": "code",
   "execution_count": 2,
   "metadata": {},
   "outputs": [],
   "source": [
    "base_dir = os.path.dirname(os.getcwd())\n",
    "project_name = 'graph-classification-graphs_sc'\n",
    "dataset_name = 'graphs_sc'"
   ]
  },
  {
   "cell_type": "code",
   "execution_count": 3,
   "metadata": {},
   "outputs": [],
   "source": [
    "# Prepare datasets\n",
    "graphs_sc, labels_sc, graphs_sc_combined, labels_sc_combined, feature_names = prepare_datasets(base_dir)"
   ]
  },
  {
   "cell_type": "code",
   "execution_count": 6,
   "metadata": {},
   "outputs": [],
   "source": [
    "sweep_config_sc = {\n",
    "    'method': 'grid',  # Choose 'grid', 'random', or 'bayes'\n",
    "    'metric': {\n",
    "        'name': 'val_f1',\n",
    "        'goal': 'maximize'\n",
    "    },\n",
    "    'parameters': {\n",
    "        'optimizer': {\n",
    "            'values': ['adam'] \n",
    "        },\n",
    "        'test_size': {\n",
    "            'value': 0.3\n",
    "        },\n",
    "        'learning_rate': {\n",
    "            'values': [1e-1, 1e-2, 1e-3, 1e-4]\n",
    "        },\n",
    "        'in_channels': {\n",
    "            'value': 6\n",
    "        },\n",
    "        'out_channels': {\n",
    "            'values': [8, 16]\n",
    "        },\n",
    "        'num_heads': {\n",
    "            'values': [1, 2, 3, 4]\n",
    "        },\n",
    "        'num_epochs': {\n",
    "            'value': 5\n",
    "        },\n",
    "        'weight_decay': {\n",
    "            'values': [0, 1e-5, 1e-4]\n",
    "        },\n",
    "        'batch_size': {\n",
    "            'values': [32]\n",
    "        },\n",
    "        'random_state': {\n",
    "            'value': 42\n",
    "        }\n",
    "    }\n",
    "}"
   ]
  },
  {
   "cell_type": "code",
   "execution_count": null,
   "metadata": {},
   "outputs": [
    {
     "name": "stdout",
     "output_type": "stream",
     "text": [
      "Create sweep with ID: f8yd3ova\n",
      "Sweep URL: https://wandb.ai/barbonigiorgia-sapienza-universit-di-roma/graph-classification-graphs_sc/sweeps/f8yd3ova\n"
     ]
    },
    {
     "name": "stderr",
     "output_type": "stream",
     "text": [
      "\u001b[34m\u001b[1mwandb\u001b[0m: Agent Starting Run: uzszq1zl with config:\n",
      "\u001b[34m\u001b[1mwandb\u001b[0m: \tbatch_size: 32\n",
      "\u001b[34m\u001b[1mwandb\u001b[0m: \tin_channels: 6\n",
      "\u001b[34m\u001b[1mwandb\u001b[0m: \tlearning_rate: 0.1\n",
      "\u001b[34m\u001b[1mwandb\u001b[0m: \tnum_epochs: 5\n",
      "\u001b[34m\u001b[1mwandb\u001b[0m: \tnum_heads: 1\n",
      "\u001b[34m\u001b[1mwandb\u001b[0m: \toptimizer: adam\n",
      "\u001b[34m\u001b[1mwandb\u001b[0m: \tout_channels: 8\n",
      "\u001b[34m\u001b[1mwandb\u001b[0m: \trandom_state: 42\n",
      "\u001b[34m\u001b[1mwandb\u001b[0m: \ttest_size: 0.3\n",
      "\u001b[34m\u001b[1mwandb\u001b[0m: \tweight_decay: 0\n"
     ]
    },
    {
     "data": {
      "text/html": [
       "Tracking run with wandb version 0.18.5"
      ],
      "text/plain": [
       "<IPython.core.display.HTML object>"
      ]
     },
     "metadata": {},
     "output_type": "display_data"
    },
    {
     "data": {
      "text/html": [
       "Run data is saved locally in <code>c:\\Users\\barbo\\brain classifier repo\\brain_classifier\\src\\wandb\\run-20241119_161222-uzszq1zl</code>"
      ],
      "text/plain": [
       "<IPython.core.display.HTML object>"
      ]
     },
     "metadata": {},
     "output_type": "display_data"
    },
    {
     "data": {
      "text/html": [
       "Syncing run <strong><a href='https://wandb.ai/barbonigiorgia-sapienza-universit-di-roma/graph-classification-graphs_sc/runs/uzszq1zl' target=\"_blank\">fragrant-sweep-1</a></strong> to <a href='https://wandb.ai/barbonigiorgia-sapienza-universit-di-roma/graph-classification-graphs_sc' target=\"_blank\">Weights & Biases</a> (<a href='https://wandb.me/run' target=\"_blank\">docs</a>)<br/>Sweep page: <a href='https://wandb.ai/barbonigiorgia-sapienza-universit-di-roma/graph-classification-graphs_sc/sweeps/f8yd3ova' target=\"_blank\">https://wandb.ai/barbonigiorgia-sapienza-universit-di-roma/graph-classification-graphs_sc/sweeps/f8yd3ova</a>"
      ],
      "text/plain": [
       "<IPython.core.display.HTML object>"
      ]
     },
     "metadata": {},
     "output_type": "display_data"
    },
    {
     "data": {
      "text/html": [
       " View project at <a href='https://wandb.ai/barbonigiorgia-sapienza-universit-di-roma/graph-classification-graphs_sc' target=\"_blank\">https://wandb.ai/barbonigiorgia-sapienza-universit-di-roma/graph-classification-graphs_sc</a>"
      ],
      "text/plain": [
       "<IPython.core.display.HTML object>"
      ]
     },
     "metadata": {},
     "output_type": "display_data"
    },
    {
     "data": {
      "text/html": [
       " View sweep at <a href='https://wandb.ai/barbonigiorgia-sapienza-universit-di-roma/graph-classification-graphs_sc/sweeps/f8yd3ova' target=\"_blank\">https://wandb.ai/barbonigiorgia-sapienza-universit-di-roma/graph-classification-graphs_sc/sweeps/f8yd3ova</a>"
      ],
      "text/plain": [
       "<IPython.core.display.HTML object>"
      ]
     },
     "metadata": {},
     "output_type": "display_data"
    },
    {
     "data": {
      "text/html": [
       " View run at <a href='https://wandb.ai/barbonigiorgia-sapienza-universit-di-roma/graph-classification-graphs_sc/runs/uzszq1zl' target=\"_blank\">https://wandb.ai/barbonigiorgia-sapienza-universit-di-roma/graph-classification-graphs_sc/runs/uzszq1zl</a>"
      ],
      "text/plain": [
       "<IPython.core.display.HTML object>"
      ]
     },
     "metadata": {},
     "output_type": "display_data"
    },
    {
     "name": "stdout",
     "output_type": "stream",
     "text": [
      "Running with config: {'batch_size': 32, 'in_channels': 6, 'learning_rate': 0.1, 'num_epochs': 5, 'num_heads': 1, 'optimizer': 'adam', 'out_channels': 8, 'random_state': 42, 'test_size': 0.3, 'weight_decay': 0}\n"
     ]
    },
    {
     "data": {
      "text/html": [
       "<style>\n",
       "    table.wandb td:nth-child(1) { padding: 0 10px; text-align: left ; width: auto;} td:nth-child(2) {text-align: left ; width: 100%}\n",
       "    .wandb-row { display: flex; flex-direction: row; flex-wrap: wrap; justify-content: flex-start; width: 100% }\n",
       "    .wandb-col { display: flex; flex-direction: column; flex-basis: 100%; flex: 1; padding: 10px; }\n",
       "    </style>\n",
       "<div class=\"wandb-row\"><div class=\"wandb-col\"><h3>Run history:</h3><br/><table class=\"wandb\"><tr><td>epoch</td><td>▁▃▅▆█</td></tr><tr><td>train_accuracy</td><td>▁▇██▇</td></tr><tr><td>train_f1</td><td>▁███▇</td></tr><tr><td>train_loss</td><td>█▅▃▁▃</td></tr><tr><td>val_accuracy</td><td>▁▁█▆▆</td></tr><tr><td>val_f1</td><td>▁▂█▆▆</td></tr><tr><td>val_loss</td><td>█▆▃▂▁</td></tr></table><br/></div><div class=\"wandb-col\"><h3>Run summary:</h3><br/><table class=\"wandb\"><tr><td>epoch</td><td>5</td></tr><tr><td>train_accuracy</td><td>0.712</td></tr><tr><td>train_f1</td><td>0.71041</td></tr><tr><td>train_loss</td><td>0.55348</td></tr><tr><td>val_accuracy</td><td>0.77778</td></tr><tr><td>val_f1</td><td>0.77462</td></tr><tr><td>val_loss</td><td>0.42435</td></tr></table><br/></div></div>"
      ],
      "text/plain": [
       "<IPython.core.display.HTML object>"
      ]
     },
     "metadata": {},
     "output_type": "display_data"
    },
    {
     "data": {
      "text/html": [
       " View run <strong style=\"color:#cdcd00\">fragrant-sweep-1</strong> at: <a href='https://wandb.ai/barbonigiorgia-sapienza-universit-di-roma/graph-classification-graphs_sc/runs/uzszq1zl' target=\"_blank\">https://wandb.ai/barbonigiorgia-sapienza-universit-di-roma/graph-classification-graphs_sc/runs/uzszq1zl</a><br/> View project at: <a href='https://wandb.ai/barbonigiorgia-sapienza-universit-di-roma/graph-classification-graphs_sc' target=\"_blank\">https://wandb.ai/barbonigiorgia-sapienza-universit-di-roma/graph-classification-graphs_sc</a><br/>Synced 5 W&B file(s), 0 media file(s), 4 artifact file(s) and 0 other file(s)"
      ],
      "text/plain": [
       "<IPython.core.display.HTML object>"
      ]
     },
     "metadata": {},
     "output_type": "display_data"
    },
    {
     "data": {
      "text/html": [
       "Find logs at: <code>.\\wandb\\run-20241119_161222-uzszq1zl\\logs</code>"
      ],
      "text/plain": [
       "<IPython.core.display.HTML object>"
      ]
     },
     "metadata": {},
     "output_type": "display_data"
    },
    {
     "name": "stderr",
     "output_type": "stream",
     "text": [
      "\u001b[34m\u001b[1mwandb\u001b[0m: Agent Starting Run: nx30r4zb with config:\n",
      "\u001b[34m\u001b[1mwandb\u001b[0m: \tbatch_size: 32\n",
      "\u001b[34m\u001b[1mwandb\u001b[0m: \tin_channels: 6\n",
      "\u001b[34m\u001b[1mwandb\u001b[0m: \tlearning_rate: 0.1\n",
      "\u001b[34m\u001b[1mwandb\u001b[0m: \tnum_epochs: 5\n",
      "\u001b[34m\u001b[1mwandb\u001b[0m: \tnum_heads: 1\n",
      "\u001b[34m\u001b[1mwandb\u001b[0m: \toptimizer: adam\n",
      "\u001b[34m\u001b[1mwandb\u001b[0m: \tout_channels: 8\n",
      "\u001b[34m\u001b[1mwandb\u001b[0m: \trandom_state: 42\n",
      "\u001b[34m\u001b[1mwandb\u001b[0m: \ttest_size: 0.3\n",
      "\u001b[34m\u001b[1mwandb\u001b[0m: \tweight_decay: 1e-05\n"
     ]
    },
    {
     "data": {
      "text/html": [
       "Tracking run with wandb version 0.18.5"
      ],
      "text/plain": [
       "<IPython.core.display.HTML object>"
      ]
     },
     "metadata": {},
     "output_type": "display_data"
    },
    {
     "data": {
      "text/html": [
       "Run data is saved locally in <code>c:\\Users\\barbo\\brain classifier repo\\brain_classifier\\src\\wandb\\run-20241119_161232-nx30r4zb</code>"
      ],
      "text/plain": [
       "<IPython.core.display.HTML object>"
      ]
     },
     "metadata": {},
     "output_type": "display_data"
    },
    {
     "data": {
      "text/html": [
       "Syncing run <strong><a href='https://wandb.ai/barbonigiorgia-sapienza-universit-di-roma/graph-classification-graphs_sc/runs/nx30r4zb' target=\"_blank\">comfy-sweep-2</a></strong> to <a href='https://wandb.ai/barbonigiorgia-sapienza-universit-di-roma/graph-classification-graphs_sc' target=\"_blank\">Weights & Biases</a> (<a href='https://wandb.me/run' target=\"_blank\">docs</a>)<br/>Sweep page: <a href='https://wandb.ai/barbonigiorgia-sapienza-universit-di-roma/graph-classification-graphs_sc/sweeps/f8yd3ova' target=\"_blank\">https://wandb.ai/barbonigiorgia-sapienza-universit-di-roma/graph-classification-graphs_sc/sweeps/f8yd3ova</a>"
      ],
      "text/plain": [
       "<IPython.core.display.HTML object>"
      ]
     },
     "metadata": {},
     "output_type": "display_data"
    },
    {
     "data": {
      "text/html": [
       " View project at <a href='https://wandb.ai/barbonigiorgia-sapienza-universit-di-roma/graph-classification-graphs_sc' target=\"_blank\">https://wandb.ai/barbonigiorgia-sapienza-universit-di-roma/graph-classification-graphs_sc</a>"
      ],
      "text/plain": [
       "<IPython.core.display.HTML object>"
      ]
     },
     "metadata": {},
     "output_type": "display_data"
    },
    {
     "data": {
      "text/html": [
       " View sweep at <a href='https://wandb.ai/barbonigiorgia-sapienza-universit-di-roma/graph-classification-graphs_sc/sweeps/f8yd3ova' target=\"_blank\">https://wandb.ai/barbonigiorgia-sapienza-universit-di-roma/graph-classification-graphs_sc/sweeps/f8yd3ova</a>"
      ],
      "text/plain": [
       "<IPython.core.display.HTML object>"
      ]
     },
     "metadata": {},
     "output_type": "display_data"
    },
    {
     "data": {
      "text/html": [
       " View run at <a href='https://wandb.ai/barbonigiorgia-sapienza-universit-di-roma/graph-classification-graphs_sc/runs/nx30r4zb' target=\"_blank\">https://wandb.ai/barbonigiorgia-sapienza-universit-di-roma/graph-classification-graphs_sc/runs/nx30r4zb</a>"
      ],
      "text/plain": [
       "<IPython.core.display.HTML object>"
      ]
     },
     "metadata": {},
     "output_type": "display_data"
    },
    {
     "name": "stdout",
     "output_type": "stream",
     "text": [
      "Running with config: {'batch_size': 32, 'in_channels': 6, 'learning_rate': 0.1, 'num_epochs': 5, 'num_heads': 1, 'optimizer': 'adam', 'out_channels': 8, 'random_state': 42, 'test_size': 0.3, 'weight_decay': 1e-05}\n"
     ]
    },
    {
     "data": {
      "text/html": [
       "<style>\n",
       "    table.wandb td:nth-child(1) { padding: 0 10px; text-align: left ; width: auto;} td:nth-child(2) {text-align: left ; width: 100%}\n",
       "    .wandb-row { display: flex; flex-direction: row; flex-wrap: wrap; justify-content: flex-start; width: 100% }\n",
       "    .wandb-col { display: flex; flex-direction: column; flex-basis: 100%; flex: 1; padding: 10px; }\n",
       "    </style>\n",
       "<div class=\"wandb-row\"><div class=\"wandb-col\"><h3>Run history:</h3><br/><table class=\"wandb\"><tr><td>epoch</td><td>▁▃▅▆█</td></tr><tr><td>train_accuracy</td><td>▁▇██▇</td></tr><tr><td>train_f1</td><td>▁███▇</td></tr><tr><td>train_loss</td><td>█▅▃▁▃</td></tr><tr><td>val_accuracy</td><td>▁▁█▆▆</td></tr><tr><td>val_f1</td><td>▁▂█▆▆</td></tr><tr><td>val_loss</td><td>█▆▃▂▁</td></tr></table><br/></div><div class=\"wandb-col\"><h3>Run summary:</h3><br/><table class=\"wandb\"><tr><td>epoch</td><td>5</td></tr><tr><td>train_accuracy</td><td>0.712</td></tr><tr><td>train_f1</td><td>0.71041</td></tr><tr><td>train_loss</td><td>0.55341</td></tr><tr><td>val_accuracy</td><td>0.77778</td></tr><tr><td>val_f1</td><td>0.77462</td></tr><tr><td>val_loss</td><td>0.42433</td></tr></table><br/></div></div>"
      ],
      "text/plain": [
       "<IPython.core.display.HTML object>"
      ]
     },
     "metadata": {},
     "output_type": "display_data"
    },
    {
     "data": {
      "text/html": [
       " View run <strong style=\"color:#cdcd00\">comfy-sweep-2</strong> at: <a href='https://wandb.ai/barbonigiorgia-sapienza-universit-di-roma/graph-classification-graphs_sc/runs/nx30r4zb' target=\"_blank\">https://wandb.ai/barbonigiorgia-sapienza-universit-di-roma/graph-classification-graphs_sc/runs/nx30r4zb</a><br/> View project at: <a href='https://wandb.ai/barbonigiorgia-sapienza-universit-di-roma/graph-classification-graphs_sc' target=\"_blank\">https://wandb.ai/barbonigiorgia-sapienza-universit-di-roma/graph-classification-graphs_sc</a><br/>Synced 5 W&B file(s), 0 media file(s), 4 artifact file(s) and 0 other file(s)"
      ],
      "text/plain": [
       "<IPython.core.display.HTML object>"
      ]
     },
     "metadata": {},
     "output_type": "display_data"
    },
    {
     "data": {
      "text/html": [
       "Find logs at: <code>.\\wandb\\run-20241119_161232-nx30r4zb\\logs</code>"
      ],
      "text/plain": [
       "<IPython.core.display.HTML object>"
      ]
     },
     "metadata": {},
     "output_type": "display_data"
    },
    {
     "name": "stderr",
     "output_type": "stream",
     "text": [
      "\u001b[34m\u001b[1mwandb\u001b[0m: Agent Starting Run: fk9tm7ml with config:\n",
      "\u001b[34m\u001b[1mwandb\u001b[0m: \tbatch_size: 32\n",
      "\u001b[34m\u001b[1mwandb\u001b[0m: \tin_channels: 6\n",
      "\u001b[34m\u001b[1mwandb\u001b[0m: \tlearning_rate: 0.1\n",
      "\u001b[34m\u001b[1mwandb\u001b[0m: \tnum_epochs: 5\n",
      "\u001b[34m\u001b[1mwandb\u001b[0m: \tnum_heads: 1\n",
      "\u001b[34m\u001b[1mwandb\u001b[0m: \toptimizer: adam\n",
      "\u001b[34m\u001b[1mwandb\u001b[0m: \tout_channels: 8\n",
      "\u001b[34m\u001b[1mwandb\u001b[0m: \trandom_state: 42\n",
      "\u001b[34m\u001b[1mwandb\u001b[0m: \ttest_size: 0.3\n",
      "\u001b[34m\u001b[1mwandb\u001b[0m: \tweight_decay: 0.0001\n"
     ]
    },
    {
     "data": {
      "text/html": [
       "Tracking run with wandb version 0.18.5"
      ],
      "text/plain": [
       "<IPython.core.display.HTML object>"
      ]
     },
     "metadata": {},
     "output_type": "display_data"
    },
    {
     "data": {
      "text/html": [
       "Run data is saved locally in <code>c:\\Users\\barbo\\brain classifier repo\\brain_classifier\\src\\wandb\\run-20241119_161244-fk9tm7ml</code>"
      ],
      "text/plain": [
       "<IPython.core.display.HTML object>"
      ]
     },
     "metadata": {},
     "output_type": "display_data"
    },
    {
     "data": {
      "text/html": [
       "Syncing run <strong><a href='https://wandb.ai/barbonigiorgia-sapienza-universit-di-roma/graph-classification-graphs_sc/runs/fk9tm7ml' target=\"_blank\">fragrant-sweep-3</a></strong> to <a href='https://wandb.ai/barbonigiorgia-sapienza-universit-di-roma/graph-classification-graphs_sc' target=\"_blank\">Weights & Biases</a> (<a href='https://wandb.me/run' target=\"_blank\">docs</a>)<br/>Sweep page: <a href='https://wandb.ai/barbonigiorgia-sapienza-universit-di-roma/graph-classification-graphs_sc/sweeps/f8yd3ova' target=\"_blank\">https://wandb.ai/barbonigiorgia-sapienza-universit-di-roma/graph-classification-graphs_sc/sweeps/f8yd3ova</a>"
      ],
      "text/plain": [
       "<IPython.core.display.HTML object>"
      ]
     },
     "metadata": {},
     "output_type": "display_data"
    },
    {
     "data": {
      "text/html": [
       " View project at <a href='https://wandb.ai/barbonigiorgia-sapienza-universit-di-roma/graph-classification-graphs_sc' target=\"_blank\">https://wandb.ai/barbonigiorgia-sapienza-universit-di-roma/graph-classification-graphs_sc</a>"
      ],
      "text/plain": [
       "<IPython.core.display.HTML object>"
      ]
     },
     "metadata": {},
     "output_type": "display_data"
    },
    {
     "data": {
      "text/html": [
       " View sweep at <a href='https://wandb.ai/barbonigiorgia-sapienza-universit-di-roma/graph-classification-graphs_sc/sweeps/f8yd3ova' target=\"_blank\">https://wandb.ai/barbonigiorgia-sapienza-universit-di-roma/graph-classification-graphs_sc/sweeps/f8yd3ova</a>"
      ],
      "text/plain": [
       "<IPython.core.display.HTML object>"
      ]
     },
     "metadata": {},
     "output_type": "display_data"
    },
    {
     "data": {
      "text/html": [
       " View run at <a href='https://wandb.ai/barbonigiorgia-sapienza-universit-di-roma/graph-classification-graphs_sc/runs/fk9tm7ml' target=\"_blank\">https://wandb.ai/barbonigiorgia-sapienza-universit-di-roma/graph-classification-graphs_sc/runs/fk9tm7ml</a>"
      ],
      "text/plain": [
       "<IPython.core.display.HTML object>"
      ]
     },
     "metadata": {},
     "output_type": "display_data"
    },
    {
     "name": "stdout",
     "output_type": "stream",
     "text": [
      "Running with config: {'batch_size': 32, 'in_channels': 6, 'learning_rate': 0.1, 'num_epochs': 5, 'num_heads': 1, 'optimizer': 'adam', 'out_channels': 8, 'random_state': 42, 'test_size': 0.3, 'weight_decay': 0.0001}\n"
     ]
    },
    {
     "data": {
      "text/html": [
       "<style>\n",
       "    table.wandb td:nth-child(1) { padding: 0 10px; text-align: left ; width: auto;} td:nth-child(2) {text-align: left ; width: 100%}\n",
       "    .wandb-row { display: flex; flex-direction: row; flex-wrap: wrap; justify-content: flex-start; width: 100% }\n",
       "    .wandb-col { display: flex; flex-direction: column; flex-basis: 100%; flex: 1; padding: 10px; }\n",
       "    </style>\n",
       "<div class=\"wandb-row\"><div class=\"wandb-col\"><h3>Run history:</h3><br/><table class=\"wandb\"><tr><td>epoch</td><td>▁▃▅▆█</td></tr><tr><td>train_accuracy</td><td>▁▇██▇</td></tr><tr><td>train_f1</td><td>▁▇██▇</td></tr><tr><td>train_loss</td><td>█▅▃▁▂</td></tr><tr><td>val_accuracy</td><td>▁▁█▆▆</td></tr><tr><td>val_f1</td><td>▁▂█▆▆</td></tr><tr><td>val_loss</td><td>█▆▃▂▁</td></tr></table><br/></div><div class=\"wandb-col\"><h3>Run summary:</h3><br/><table class=\"wandb\"><tr><td>epoch</td><td>5</td></tr><tr><td>train_accuracy</td><td>0.712</td></tr><tr><td>train_f1</td><td>0.71041</td></tr><tr><td>train_loss</td><td>0.55216</td></tr><tr><td>val_accuracy</td><td>0.77778</td></tr><tr><td>val_f1</td><td>0.77462</td></tr><tr><td>val_loss</td><td>0.42418</td></tr></table><br/></div></div>"
      ],
      "text/plain": [
       "<IPython.core.display.HTML object>"
      ]
     },
     "metadata": {},
     "output_type": "display_data"
    },
    {
     "data": {
      "text/html": [
       " View run <strong style=\"color:#cdcd00\">fragrant-sweep-3</strong> at: <a href='https://wandb.ai/barbonigiorgia-sapienza-universit-di-roma/graph-classification-graphs_sc/runs/fk9tm7ml' target=\"_blank\">https://wandb.ai/barbonigiorgia-sapienza-universit-di-roma/graph-classification-graphs_sc/runs/fk9tm7ml</a><br/> View project at: <a href='https://wandb.ai/barbonigiorgia-sapienza-universit-di-roma/graph-classification-graphs_sc' target=\"_blank\">https://wandb.ai/barbonigiorgia-sapienza-universit-di-roma/graph-classification-graphs_sc</a><br/>Synced 5 W&B file(s), 0 media file(s), 4 artifact file(s) and 0 other file(s)"
      ],
      "text/plain": [
       "<IPython.core.display.HTML object>"
      ]
     },
     "metadata": {},
     "output_type": "display_data"
    },
    {
     "data": {
      "text/html": [
       "Find logs at: <code>.\\wandb\\run-20241119_161244-fk9tm7ml\\logs</code>"
      ],
      "text/plain": [
       "<IPython.core.display.HTML object>"
      ]
     },
     "metadata": {},
     "output_type": "display_data"
    },
    {
     "name": "stderr",
     "output_type": "stream",
     "text": [
      "\u001b[34m\u001b[1mwandb\u001b[0m: Agent Starting Run: zwtlc0wx with config:\n",
      "\u001b[34m\u001b[1mwandb\u001b[0m: \tbatch_size: 32\n",
      "\u001b[34m\u001b[1mwandb\u001b[0m: \tin_channels: 6\n",
      "\u001b[34m\u001b[1mwandb\u001b[0m: \tlearning_rate: 0.1\n",
      "\u001b[34m\u001b[1mwandb\u001b[0m: \tnum_epochs: 5\n",
      "\u001b[34m\u001b[1mwandb\u001b[0m: \tnum_heads: 1\n",
      "\u001b[34m\u001b[1mwandb\u001b[0m: \toptimizer: adam\n",
      "\u001b[34m\u001b[1mwandb\u001b[0m: \tout_channels: 16\n",
      "\u001b[34m\u001b[1mwandb\u001b[0m: \trandom_state: 42\n",
      "\u001b[34m\u001b[1mwandb\u001b[0m: \ttest_size: 0.3\n",
      "\u001b[34m\u001b[1mwandb\u001b[0m: \tweight_decay: 0\n"
     ]
    },
    {
     "data": {
      "text/html": [
       "Tracking run with wandb version 0.18.5"
      ],
      "text/plain": [
       "<IPython.core.display.HTML object>"
      ]
     },
     "metadata": {},
     "output_type": "display_data"
    },
    {
     "data": {
      "text/html": [
       "Run data is saved locally in <code>c:\\Users\\barbo\\brain classifier repo\\brain_classifier\\src\\wandb\\run-20241119_161254-zwtlc0wx</code>"
      ],
      "text/plain": [
       "<IPython.core.display.HTML object>"
      ]
     },
     "metadata": {},
     "output_type": "display_data"
    },
    {
     "data": {
      "text/html": [
       "Syncing run <strong><a href='https://wandb.ai/barbonigiorgia-sapienza-universit-di-roma/graph-classification-graphs_sc/runs/zwtlc0wx' target=\"_blank\">quiet-sweep-4</a></strong> to <a href='https://wandb.ai/barbonigiorgia-sapienza-universit-di-roma/graph-classification-graphs_sc' target=\"_blank\">Weights & Biases</a> (<a href='https://wandb.me/run' target=\"_blank\">docs</a>)<br/>Sweep page: <a href='https://wandb.ai/barbonigiorgia-sapienza-universit-di-roma/graph-classification-graphs_sc/sweeps/f8yd3ova' target=\"_blank\">https://wandb.ai/barbonigiorgia-sapienza-universit-di-roma/graph-classification-graphs_sc/sweeps/f8yd3ova</a>"
      ],
      "text/plain": [
       "<IPython.core.display.HTML object>"
      ]
     },
     "metadata": {},
     "output_type": "display_data"
    },
    {
     "data": {
      "text/html": [
       " View project at <a href='https://wandb.ai/barbonigiorgia-sapienza-universit-di-roma/graph-classification-graphs_sc' target=\"_blank\">https://wandb.ai/barbonigiorgia-sapienza-universit-di-roma/graph-classification-graphs_sc</a>"
      ],
      "text/plain": [
       "<IPython.core.display.HTML object>"
      ]
     },
     "metadata": {},
     "output_type": "display_data"
    },
    {
     "data": {
      "text/html": [
       " View sweep at <a href='https://wandb.ai/barbonigiorgia-sapienza-universit-di-roma/graph-classification-graphs_sc/sweeps/f8yd3ova' target=\"_blank\">https://wandb.ai/barbonigiorgia-sapienza-universit-di-roma/graph-classification-graphs_sc/sweeps/f8yd3ova</a>"
      ],
      "text/plain": [
       "<IPython.core.display.HTML object>"
      ]
     },
     "metadata": {},
     "output_type": "display_data"
    },
    {
     "data": {
      "text/html": [
       " View run at <a href='https://wandb.ai/barbonigiorgia-sapienza-universit-di-roma/graph-classification-graphs_sc/runs/zwtlc0wx' target=\"_blank\">https://wandb.ai/barbonigiorgia-sapienza-universit-di-roma/graph-classification-graphs_sc/runs/zwtlc0wx</a>"
      ],
      "text/plain": [
       "<IPython.core.display.HTML object>"
      ]
     },
     "metadata": {},
     "output_type": "display_data"
    },
    {
     "name": "stdout",
     "output_type": "stream",
     "text": [
      "Running with config: {'batch_size': 32, 'in_channels': 6, 'learning_rate': 0.1, 'num_epochs': 5, 'num_heads': 1, 'optimizer': 'adam', 'out_channels': 16, 'random_state': 42, 'test_size': 0.3, 'weight_decay': 0}\n"
     ]
    },
    {
     "data": {
      "text/html": [
       "<style>\n",
       "    table.wandb td:nth-child(1) { padding: 0 10px; text-align: left ; width: auto;} td:nth-child(2) {text-align: left ; width: 100%}\n",
       "    .wandb-row { display: flex; flex-direction: row; flex-wrap: wrap; justify-content: flex-start; width: 100% }\n",
       "    .wandb-col { display: flex; flex-direction: column; flex-basis: 100%; flex: 1; padding: 10px; }\n",
       "    </style>\n",
       "<div class=\"wandb-row\"><div class=\"wandb-col\"><h3>Run history:</h3><br/><table class=\"wandb\"><tr><td>epoch</td><td>▁▃▅▆█</td></tr><tr><td>train_accuracy</td><td>▁▇▇▇█</td></tr><tr><td>train_f1</td><td>▁▇▇▇█</td></tr><tr><td>train_loss</td><td>█▃▁▃▁</td></tr><tr><td>val_accuracy</td><td>▁▇▇▇█</td></tr><tr><td>val_f1</td><td>▁▇▇▇█</td></tr><tr><td>val_loss</td><td>█▃▂▁▂</td></tr></table><br/></div><div class=\"wandb-col\"><h3>Run summary:</h3><br/><table class=\"wandb\"><tr><td>epoch</td><td>5</td></tr><tr><td>train_accuracy</td><td>0.744</td></tr><tr><td>train_f1</td><td>0.744</td></tr><tr><td>train_loss</td><td>0.51478</td></tr><tr><td>val_accuracy</td><td>0.85185</td></tr><tr><td>val_f1</td><td>0.85185</td></tr><tr><td>val_loss</td><td>0.4401</td></tr></table><br/></div></div>"
      ],
      "text/plain": [
       "<IPython.core.display.HTML object>"
      ]
     },
     "metadata": {},
     "output_type": "display_data"
    },
    {
     "data": {
      "text/html": [
       " View run <strong style=\"color:#cdcd00\">quiet-sweep-4</strong> at: <a href='https://wandb.ai/barbonigiorgia-sapienza-universit-di-roma/graph-classification-graphs_sc/runs/zwtlc0wx' target=\"_blank\">https://wandb.ai/barbonigiorgia-sapienza-universit-di-roma/graph-classification-graphs_sc/runs/zwtlc0wx</a><br/> View project at: <a href='https://wandb.ai/barbonigiorgia-sapienza-universit-di-roma/graph-classification-graphs_sc' target=\"_blank\">https://wandb.ai/barbonigiorgia-sapienza-universit-di-roma/graph-classification-graphs_sc</a><br/>Synced 5 W&B file(s), 0 media file(s), 8 artifact file(s) and 0 other file(s)"
      ],
      "text/plain": [
       "<IPython.core.display.HTML object>"
      ]
     },
     "metadata": {},
     "output_type": "display_data"
    },
    {
     "data": {
      "text/html": [
       "Find logs at: <code>.\\wandb\\run-20241119_161254-zwtlc0wx\\logs</code>"
      ],
      "text/plain": [
       "<IPython.core.display.HTML object>"
      ]
     },
     "metadata": {},
     "output_type": "display_data"
    },
    {
     "name": "stderr",
     "output_type": "stream",
     "text": [
      "\u001b[34m\u001b[1mwandb\u001b[0m: Agent Starting Run: ned9fywn with config:\n",
      "\u001b[34m\u001b[1mwandb\u001b[0m: \tbatch_size: 32\n",
      "\u001b[34m\u001b[1mwandb\u001b[0m: \tin_channels: 6\n",
      "\u001b[34m\u001b[1mwandb\u001b[0m: \tlearning_rate: 0.1\n",
      "\u001b[34m\u001b[1mwandb\u001b[0m: \tnum_epochs: 5\n",
      "\u001b[34m\u001b[1mwandb\u001b[0m: \tnum_heads: 1\n",
      "\u001b[34m\u001b[1mwandb\u001b[0m: \toptimizer: adam\n",
      "\u001b[34m\u001b[1mwandb\u001b[0m: \tout_channels: 16\n",
      "\u001b[34m\u001b[1mwandb\u001b[0m: \trandom_state: 42\n",
      "\u001b[34m\u001b[1mwandb\u001b[0m: \ttest_size: 0.3\n",
      "\u001b[34m\u001b[1mwandb\u001b[0m: \tweight_decay: 1e-05\n"
     ]
    },
    {
     "data": {
      "text/html": [
       "Tracking run with wandb version 0.18.5"
      ],
      "text/plain": [
       "<IPython.core.display.HTML object>"
      ]
     },
     "metadata": {},
     "output_type": "display_data"
    },
    {
     "data": {
      "text/html": [
       "Run data is saved locally in <code>c:\\Users\\barbo\\brain classifier repo\\brain_classifier\\src\\wandb\\run-20241119_161315-ned9fywn</code>"
      ],
      "text/plain": [
       "<IPython.core.display.HTML object>"
      ]
     },
     "metadata": {},
     "output_type": "display_data"
    },
    {
     "data": {
      "text/html": [
       "Syncing run <strong><a href='https://wandb.ai/barbonigiorgia-sapienza-universit-di-roma/graph-classification-graphs_sc/runs/ned9fywn' target=\"_blank\">rich-sweep-5</a></strong> to <a href='https://wandb.ai/barbonigiorgia-sapienza-universit-di-roma/graph-classification-graphs_sc' target=\"_blank\">Weights & Biases</a> (<a href='https://wandb.me/run' target=\"_blank\">docs</a>)<br/>Sweep page: <a href='https://wandb.ai/barbonigiorgia-sapienza-universit-di-roma/graph-classification-graphs_sc/sweeps/f8yd3ova' target=\"_blank\">https://wandb.ai/barbonigiorgia-sapienza-universit-di-roma/graph-classification-graphs_sc/sweeps/f8yd3ova</a>"
      ],
      "text/plain": [
       "<IPython.core.display.HTML object>"
      ]
     },
     "metadata": {},
     "output_type": "display_data"
    },
    {
     "data": {
      "text/html": [
       " View project at <a href='https://wandb.ai/barbonigiorgia-sapienza-universit-di-roma/graph-classification-graphs_sc' target=\"_blank\">https://wandb.ai/barbonigiorgia-sapienza-universit-di-roma/graph-classification-graphs_sc</a>"
      ],
      "text/plain": [
       "<IPython.core.display.HTML object>"
      ]
     },
     "metadata": {},
     "output_type": "display_data"
    },
    {
     "data": {
      "text/html": [
       " View sweep at <a href='https://wandb.ai/barbonigiorgia-sapienza-universit-di-roma/graph-classification-graphs_sc/sweeps/f8yd3ova' target=\"_blank\">https://wandb.ai/barbonigiorgia-sapienza-universit-di-roma/graph-classification-graphs_sc/sweeps/f8yd3ova</a>"
      ],
      "text/plain": [
       "<IPython.core.display.HTML object>"
      ]
     },
     "metadata": {},
     "output_type": "display_data"
    },
    {
     "data": {
      "text/html": [
       " View run at <a href='https://wandb.ai/barbonigiorgia-sapienza-universit-di-roma/graph-classification-graphs_sc/runs/ned9fywn' target=\"_blank\">https://wandb.ai/barbonigiorgia-sapienza-universit-di-roma/graph-classification-graphs_sc/runs/ned9fywn</a>"
      ],
      "text/plain": [
       "<IPython.core.display.HTML object>"
      ]
     },
     "metadata": {},
     "output_type": "display_data"
    },
    {
     "name": "stdout",
     "output_type": "stream",
     "text": [
      "Running with config: {'batch_size': 32, 'in_channels': 6, 'learning_rate': 0.1, 'num_epochs': 5, 'num_heads': 1, 'optimizer': 'adam', 'out_channels': 16, 'random_state': 42, 'test_size': 0.3, 'weight_decay': 1e-05}\n"
     ]
    },
    {
     "data": {
      "text/html": [
       "<style>\n",
       "    table.wandb td:nth-child(1) { padding: 0 10px; text-align: left ; width: auto;} td:nth-child(2) {text-align: left ; width: 100%}\n",
       "    .wandb-row { display: flex; flex-direction: row; flex-wrap: wrap; justify-content: flex-start; width: 100% }\n",
       "    .wandb-col { display: flex; flex-direction: column; flex-basis: 100%; flex: 1; padding: 10px; }\n",
       "    </style>\n",
       "<div class=\"wandb-row\"><div class=\"wandb-col\"><h3>Run history:</h3><br/><table class=\"wandb\"><tr><td>epoch</td><td>▁▃▅▆█</td></tr><tr><td>train_accuracy</td><td>▁▇▇▇█</td></tr><tr><td>train_f1</td><td>▁▇▇▇█</td></tr><tr><td>train_loss</td><td>█▃▁▃▁</td></tr><tr><td>val_accuracy</td><td>▁▇▇▇█</td></tr><tr><td>val_f1</td><td>▁▇▇▇█</td></tr><tr><td>val_loss</td><td>█▃▂▁▂</td></tr></table><br/></div><div class=\"wandb-col\"><h3>Run summary:</h3><br/><table class=\"wandb\"><tr><td>epoch</td><td>5</td></tr><tr><td>train_accuracy</td><td>0.744</td></tr><tr><td>train_f1</td><td>0.744</td></tr><tr><td>train_loss</td><td>0.51489</td></tr><tr><td>val_accuracy</td><td>0.85185</td></tr><tr><td>val_f1</td><td>0.85185</td></tr><tr><td>val_loss</td><td>0.44004</td></tr></table><br/></div></div>"
      ],
      "text/plain": [
       "<IPython.core.display.HTML object>"
      ]
     },
     "metadata": {},
     "output_type": "display_data"
    },
    {
     "data": {
      "text/html": [
       " View run <strong style=\"color:#cdcd00\">rich-sweep-5</strong> at: <a href='https://wandb.ai/barbonigiorgia-sapienza-universit-di-roma/graph-classification-graphs_sc/runs/ned9fywn' target=\"_blank\">https://wandb.ai/barbonigiorgia-sapienza-universit-di-roma/graph-classification-graphs_sc/runs/ned9fywn</a><br/> View project at: <a href='https://wandb.ai/barbonigiorgia-sapienza-universit-di-roma/graph-classification-graphs_sc' target=\"_blank\">https://wandb.ai/barbonigiorgia-sapienza-universit-di-roma/graph-classification-graphs_sc</a><br/>Synced 5 W&B file(s), 0 media file(s), 8 artifact file(s) and 0 other file(s)"
      ],
      "text/plain": [
       "<IPython.core.display.HTML object>"
      ]
     },
     "metadata": {},
     "output_type": "display_data"
    },
    {
     "data": {
      "text/html": [
       "Find logs at: <code>.\\wandb\\run-20241119_161315-ned9fywn\\logs</code>"
      ],
      "text/plain": [
       "<IPython.core.display.HTML object>"
      ]
     },
     "metadata": {},
     "output_type": "display_data"
    },
    {
     "name": "stderr",
     "output_type": "stream",
     "text": [
      "\u001b[34m\u001b[1mwandb\u001b[0m: Agent Starting Run: 3l2ec3cy with config:\n",
      "\u001b[34m\u001b[1mwandb\u001b[0m: \tbatch_size: 32\n",
      "\u001b[34m\u001b[1mwandb\u001b[0m: \tin_channels: 6\n",
      "\u001b[34m\u001b[1mwandb\u001b[0m: \tlearning_rate: 0.1\n",
      "\u001b[34m\u001b[1mwandb\u001b[0m: \tnum_epochs: 5\n",
      "\u001b[34m\u001b[1mwandb\u001b[0m: \tnum_heads: 1\n",
      "\u001b[34m\u001b[1mwandb\u001b[0m: \toptimizer: adam\n",
      "\u001b[34m\u001b[1mwandb\u001b[0m: \tout_channels: 16\n",
      "\u001b[34m\u001b[1mwandb\u001b[0m: \trandom_state: 42\n",
      "\u001b[34m\u001b[1mwandb\u001b[0m: \ttest_size: 0.3\n",
      "\u001b[34m\u001b[1mwandb\u001b[0m: \tweight_decay: 0.0001\n"
     ]
    },
    {
     "data": {
      "text/html": [
       "Tracking run with wandb version 0.18.5"
      ],
      "text/plain": [
       "<IPython.core.display.HTML object>"
      ]
     },
     "metadata": {},
     "output_type": "display_data"
    },
    {
     "data": {
      "text/html": [
       "Run data is saved locally in <code>c:\\Users\\barbo\\brain classifier repo\\brain_classifier\\src\\wandb\\run-20241119_161331-3l2ec3cy</code>"
      ],
      "text/plain": [
       "<IPython.core.display.HTML object>"
      ]
     },
     "metadata": {},
     "output_type": "display_data"
    },
    {
     "data": {
      "text/html": [
       "Syncing run <strong><a href='https://wandb.ai/barbonigiorgia-sapienza-universit-di-roma/graph-classification-graphs_sc/runs/3l2ec3cy' target=\"_blank\">fearless-sweep-6</a></strong> to <a href='https://wandb.ai/barbonigiorgia-sapienza-universit-di-roma/graph-classification-graphs_sc' target=\"_blank\">Weights & Biases</a> (<a href='https://wandb.me/run' target=\"_blank\">docs</a>)<br/>Sweep page: <a href='https://wandb.ai/barbonigiorgia-sapienza-universit-di-roma/graph-classification-graphs_sc/sweeps/f8yd3ova' target=\"_blank\">https://wandb.ai/barbonigiorgia-sapienza-universit-di-roma/graph-classification-graphs_sc/sweeps/f8yd3ova</a>"
      ],
      "text/plain": [
       "<IPython.core.display.HTML object>"
      ]
     },
     "metadata": {},
     "output_type": "display_data"
    },
    {
     "data": {
      "text/html": [
       " View project at <a href='https://wandb.ai/barbonigiorgia-sapienza-universit-di-roma/graph-classification-graphs_sc' target=\"_blank\">https://wandb.ai/barbonigiorgia-sapienza-universit-di-roma/graph-classification-graphs_sc</a>"
      ],
      "text/plain": [
       "<IPython.core.display.HTML object>"
      ]
     },
     "metadata": {},
     "output_type": "display_data"
    },
    {
     "data": {
      "text/html": [
       " View sweep at <a href='https://wandb.ai/barbonigiorgia-sapienza-universit-di-roma/graph-classification-graphs_sc/sweeps/f8yd3ova' target=\"_blank\">https://wandb.ai/barbonigiorgia-sapienza-universit-di-roma/graph-classification-graphs_sc/sweeps/f8yd3ova</a>"
      ],
      "text/plain": [
       "<IPython.core.display.HTML object>"
      ]
     },
     "metadata": {},
     "output_type": "display_data"
    },
    {
     "data": {
      "text/html": [
       " View run at <a href='https://wandb.ai/barbonigiorgia-sapienza-universit-di-roma/graph-classification-graphs_sc/runs/3l2ec3cy' target=\"_blank\">https://wandb.ai/barbonigiorgia-sapienza-universit-di-roma/graph-classification-graphs_sc/runs/3l2ec3cy</a>"
      ],
      "text/plain": [
       "<IPython.core.display.HTML object>"
      ]
     },
     "metadata": {},
     "output_type": "display_data"
    },
    {
     "name": "stdout",
     "output_type": "stream",
     "text": [
      "Running with config: {'batch_size': 32, 'in_channels': 6, 'learning_rate': 0.1, 'num_epochs': 5, 'num_heads': 1, 'optimizer': 'adam', 'out_channels': 16, 'random_state': 42, 'test_size': 0.3, 'weight_decay': 0.0001}\n"
     ]
    },
    {
     "data": {
      "text/html": [
       "<style>\n",
       "    table.wandb td:nth-child(1) { padding: 0 10px; text-align: left ; width: auto;} td:nth-child(2) {text-align: left ; width: 100%}\n",
       "    .wandb-row { display: flex; flex-direction: row; flex-wrap: wrap; justify-content: flex-start; width: 100% }\n",
       "    .wandb-col { display: flex; flex-direction: column; flex-basis: 100%; flex: 1; padding: 10px; }\n",
       "    </style>\n",
       "<div class=\"wandb-row\"><div class=\"wandb-col\"><h3>Run history:</h3><br/><table class=\"wandb\"><tr><td>epoch</td><td>▁▃▅▆█</td></tr><tr><td>train_accuracy</td><td>▁▇▇▇█</td></tr><tr><td>train_f1</td><td>▁█▇▇█</td></tr><tr><td>train_loss</td><td>█▃▁▃▁</td></tr><tr><td>val_accuracy</td><td>▁▇▆▆█</td></tr><tr><td>val_f1</td><td>▁▇▆▆█</td></tr><tr><td>val_loss</td><td>█▃▂▁▂</td></tr></table><br/></div><div class=\"wandb-col\"><h3>Run summary:</h3><br/><table class=\"wandb\"><tr><td>epoch</td><td>5</td></tr><tr><td>train_accuracy</td><td>0.736</td></tr><tr><td>train_f1</td><td>0.73569</td></tr><tr><td>train_loss</td><td>0.51257</td></tr><tr><td>val_accuracy</td><td>0.85185</td></tr><tr><td>val_f1</td><td>0.85185</td></tr><tr><td>val_loss</td><td>0.44429</td></tr></table><br/></div></div>"
      ],
      "text/plain": [
       "<IPython.core.display.HTML object>"
      ]
     },
     "metadata": {},
     "output_type": "display_data"
    },
    {
     "data": {
      "text/html": [
       " View run <strong style=\"color:#cdcd00\">fearless-sweep-6</strong> at: <a href='https://wandb.ai/barbonigiorgia-sapienza-universit-di-roma/graph-classification-graphs_sc/runs/3l2ec3cy' target=\"_blank\">https://wandb.ai/barbonigiorgia-sapienza-universit-di-roma/graph-classification-graphs_sc/runs/3l2ec3cy</a><br/> View project at: <a href='https://wandb.ai/barbonigiorgia-sapienza-universit-di-roma/graph-classification-graphs_sc' target=\"_blank\">https://wandb.ai/barbonigiorgia-sapienza-universit-di-roma/graph-classification-graphs_sc</a><br/>Synced 5 W&B file(s), 0 media file(s), 8 artifact file(s) and 0 other file(s)"
      ],
      "text/plain": [
       "<IPython.core.display.HTML object>"
      ]
     },
     "metadata": {},
     "output_type": "display_data"
    },
    {
     "data": {
      "text/html": [
       "Find logs at: <code>.\\wandb\\run-20241119_161331-3l2ec3cy\\logs</code>"
      ],
      "text/plain": [
       "<IPython.core.display.HTML object>"
      ]
     },
     "metadata": {},
     "output_type": "display_data"
    },
    {
     "name": "stderr",
     "output_type": "stream",
     "text": [
      "\u001b[34m\u001b[1mwandb\u001b[0m: Agent Starting Run: 6wg4zgrv with config:\n",
      "\u001b[34m\u001b[1mwandb\u001b[0m: \tbatch_size: 32\n",
      "\u001b[34m\u001b[1mwandb\u001b[0m: \tin_channels: 6\n",
      "\u001b[34m\u001b[1mwandb\u001b[0m: \tlearning_rate: 0.1\n",
      "\u001b[34m\u001b[1mwandb\u001b[0m: \tnum_epochs: 5\n",
      "\u001b[34m\u001b[1mwandb\u001b[0m: \tnum_heads: 2\n",
      "\u001b[34m\u001b[1mwandb\u001b[0m: \toptimizer: adam\n",
      "\u001b[34m\u001b[1mwandb\u001b[0m: \tout_channels: 8\n",
      "\u001b[34m\u001b[1mwandb\u001b[0m: \trandom_state: 42\n",
      "\u001b[34m\u001b[1mwandb\u001b[0m: \ttest_size: 0.3\n",
      "\u001b[34m\u001b[1mwandb\u001b[0m: \tweight_decay: 0\n"
     ]
    },
    {
     "data": {
      "text/html": [
       "Tracking run with wandb version 0.18.5"
      ],
      "text/plain": [
       "<IPython.core.display.HTML object>"
      ]
     },
     "metadata": {},
     "output_type": "display_data"
    },
    {
     "data": {
      "text/html": [
       "Run data is saved locally in <code>c:\\Users\\barbo\\brain classifier repo\\brain_classifier\\src\\wandb\\run-20241119_161346-6wg4zgrv</code>"
      ],
      "text/plain": [
       "<IPython.core.display.HTML object>"
      ]
     },
     "metadata": {},
     "output_type": "display_data"
    },
    {
     "data": {
      "text/html": [
       "Syncing run <strong><a href='https://wandb.ai/barbonigiorgia-sapienza-universit-di-roma/graph-classification-graphs_sc/runs/6wg4zgrv' target=\"_blank\">different-sweep-7</a></strong> to <a href='https://wandb.ai/barbonigiorgia-sapienza-universit-di-roma/graph-classification-graphs_sc' target=\"_blank\">Weights & Biases</a> (<a href='https://wandb.me/run' target=\"_blank\">docs</a>)<br/>Sweep page: <a href='https://wandb.ai/barbonigiorgia-sapienza-universit-di-roma/graph-classification-graphs_sc/sweeps/f8yd3ova' target=\"_blank\">https://wandb.ai/barbonigiorgia-sapienza-universit-di-roma/graph-classification-graphs_sc/sweeps/f8yd3ova</a>"
      ],
      "text/plain": [
       "<IPython.core.display.HTML object>"
      ]
     },
     "metadata": {},
     "output_type": "display_data"
    },
    {
     "data": {
      "text/html": [
       " View project at <a href='https://wandb.ai/barbonigiorgia-sapienza-universit-di-roma/graph-classification-graphs_sc' target=\"_blank\">https://wandb.ai/barbonigiorgia-sapienza-universit-di-roma/graph-classification-graphs_sc</a>"
      ],
      "text/plain": [
       "<IPython.core.display.HTML object>"
      ]
     },
     "metadata": {},
     "output_type": "display_data"
    },
    {
     "data": {
      "text/html": [
       " View sweep at <a href='https://wandb.ai/barbonigiorgia-sapienza-universit-di-roma/graph-classification-graphs_sc/sweeps/f8yd3ova' target=\"_blank\">https://wandb.ai/barbonigiorgia-sapienza-universit-di-roma/graph-classification-graphs_sc/sweeps/f8yd3ova</a>"
      ],
      "text/plain": [
       "<IPython.core.display.HTML object>"
      ]
     },
     "metadata": {},
     "output_type": "display_data"
    },
    {
     "data": {
      "text/html": [
       " View run at <a href='https://wandb.ai/barbonigiorgia-sapienza-universit-di-roma/graph-classification-graphs_sc/runs/6wg4zgrv' target=\"_blank\">https://wandb.ai/barbonigiorgia-sapienza-universit-di-roma/graph-classification-graphs_sc/runs/6wg4zgrv</a>"
      ],
      "text/plain": [
       "<IPython.core.display.HTML object>"
      ]
     },
     "metadata": {},
     "output_type": "display_data"
    },
    {
     "name": "stdout",
     "output_type": "stream",
     "text": [
      "Running with config: {'batch_size': 32, 'in_channels': 6, 'learning_rate': 0.1, 'num_epochs': 5, 'num_heads': 2, 'optimizer': 'adam', 'out_channels': 8, 'random_state': 42, 'test_size': 0.3, 'weight_decay': 0}\n"
     ]
    },
    {
     "data": {
      "text/html": [
       "<style>\n",
       "    table.wandb td:nth-child(1) { padding: 0 10px; text-align: left ; width: auto;} td:nth-child(2) {text-align: left ; width: 100%}\n",
       "    .wandb-row { display: flex; flex-direction: row; flex-wrap: wrap; justify-content: flex-start; width: 100% }\n",
       "    .wandb-col { display: flex; flex-direction: column; flex-basis: 100%; flex: 1; padding: 10px; }\n",
       "    </style>\n",
       "<div class=\"wandb-row\"><div class=\"wandb-col\"><h3>Run history:</h3><br/><table class=\"wandb\"><tr><td>epoch</td><td>▁▃▅▆█</td></tr><tr><td>train_accuracy</td><td>▁█▇█▆</td></tr><tr><td>train_f1</td><td>▁███▇</td></tr><tr><td>train_loss</td><td>█▄▁▁▃</td></tr><tr><td>val_accuracy</td><td>█▆█▁▆</td></tr><tr><td>val_f1</td><td>█▆█▁▆</td></tr><tr><td>val_loss</td><td>█▄▁▃▁</td></tr></table><br/></div><div class=\"wandb-col\"><h3>Run summary:</h3><br/><table class=\"wandb\"><tr><td>epoch</td><td>5</td></tr><tr><td>train_accuracy</td><td>0.712</td></tr><tr><td>train_f1</td><td>0.71041</td></tr><tr><td>train_loss</td><td>0.57099</td></tr><tr><td>val_accuracy</td><td>0.77778</td></tr><tr><td>val_f1</td><td>0.77462</td></tr><tr><td>val_loss</td><td>0.43952</td></tr></table><br/></div></div>"
      ],
      "text/plain": [
       "<IPython.core.display.HTML object>"
      ]
     },
     "metadata": {},
     "output_type": "display_data"
    },
    {
     "data": {
      "text/html": [
       " View run <strong style=\"color:#cdcd00\">different-sweep-7</strong> at: <a href='https://wandb.ai/barbonigiorgia-sapienza-universit-di-roma/graph-classification-graphs_sc/runs/6wg4zgrv' target=\"_blank\">https://wandb.ai/barbonigiorgia-sapienza-universit-di-roma/graph-classification-graphs_sc/runs/6wg4zgrv</a><br/> View project at: <a href='https://wandb.ai/barbonigiorgia-sapienza-universit-di-roma/graph-classification-graphs_sc' target=\"_blank\">https://wandb.ai/barbonigiorgia-sapienza-universit-di-roma/graph-classification-graphs_sc</a><br/>Synced 5 W&B file(s), 0 media file(s), 2 artifact file(s) and 0 other file(s)"
      ],
      "text/plain": [
       "<IPython.core.display.HTML object>"
      ]
     },
     "metadata": {},
     "output_type": "display_data"
    },
    {
     "data": {
      "text/html": [
       "Find logs at: <code>.\\wandb\\run-20241119_161346-6wg4zgrv\\logs</code>"
      ],
      "text/plain": [
       "<IPython.core.display.HTML object>"
      ]
     },
     "metadata": {},
     "output_type": "display_data"
    },
    {
     "name": "stderr",
     "output_type": "stream",
     "text": [
      "\u001b[34m\u001b[1mwandb\u001b[0m: Agent Starting Run: u7h1cvoh with config:\n",
      "\u001b[34m\u001b[1mwandb\u001b[0m: \tbatch_size: 32\n",
      "\u001b[34m\u001b[1mwandb\u001b[0m: \tin_channels: 6\n",
      "\u001b[34m\u001b[1mwandb\u001b[0m: \tlearning_rate: 0.1\n",
      "\u001b[34m\u001b[1mwandb\u001b[0m: \tnum_epochs: 5\n",
      "\u001b[34m\u001b[1mwandb\u001b[0m: \tnum_heads: 2\n",
      "\u001b[34m\u001b[1mwandb\u001b[0m: \toptimizer: adam\n",
      "\u001b[34m\u001b[1mwandb\u001b[0m: \tout_channels: 8\n",
      "\u001b[34m\u001b[1mwandb\u001b[0m: \trandom_state: 42\n",
      "\u001b[34m\u001b[1mwandb\u001b[0m: \ttest_size: 0.3\n",
      "\u001b[34m\u001b[1mwandb\u001b[0m: \tweight_decay: 1e-05\n"
     ]
    },
    {
     "data": {
      "text/html": [
       "Tracking run with wandb version 0.18.5"
      ],
      "text/plain": [
       "<IPython.core.display.HTML object>"
      ]
     },
     "metadata": {},
     "output_type": "display_data"
    },
    {
     "data": {
      "text/html": [
       "Run data is saved locally in <code>c:\\Users\\barbo\\brain classifier repo\\brain_classifier\\src\\wandb\\run-20241119_161357-u7h1cvoh</code>"
      ],
      "text/plain": [
       "<IPython.core.display.HTML object>"
      ]
     },
     "metadata": {},
     "output_type": "display_data"
    },
    {
     "data": {
      "text/html": [
       "Syncing run <strong><a href='https://wandb.ai/barbonigiorgia-sapienza-universit-di-roma/graph-classification-graphs_sc/runs/u7h1cvoh' target=\"_blank\">rose-sweep-8</a></strong> to <a href='https://wandb.ai/barbonigiorgia-sapienza-universit-di-roma/graph-classification-graphs_sc' target=\"_blank\">Weights & Biases</a> (<a href='https://wandb.me/run' target=\"_blank\">docs</a>)<br/>Sweep page: <a href='https://wandb.ai/barbonigiorgia-sapienza-universit-di-roma/graph-classification-graphs_sc/sweeps/f8yd3ova' target=\"_blank\">https://wandb.ai/barbonigiorgia-sapienza-universit-di-roma/graph-classification-graphs_sc/sweeps/f8yd3ova</a>"
      ],
      "text/plain": [
       "<IPython.core.display.HTML object>"
      ]
     },
     "metadata": {},
     "output_type": "display_data"
    },
    {
     "data": {
      "text/html": [
       " View project at <a href='https://wandb.ai/barbonigiorgia-sapienza-universit-di-roma/graph-classification-graphs_sc' target=\"_blank\">https://wandb.ai/barbonigiorgia-sapienza-universit-di-roma/graph-classification-graphs_sc</a>"
      ],
      "text/plain": [
       "<IPython.core.display.HTML object>"
      ]
     },
     "metadata": {},
     "output_type": "display_data"
    },
    {
     "data": {
      "text/html": [
       " View sweep at <a href='https://wandb.ai/barbonigiorgia-sapienza-universit-di-roma/graph-classification-graphs_sc/sweeps/f8yd3ova' target=\"_blank\">https://wandb.ai/barbonigiorgia-sapienza-universit-di-roma/graph-classification-graphs_sc/sweeps/f8yd3ova</a>"
      ],
      "text/plain": [
       "<IPython.core.display.HTML object>"
      ]
     },
     "metadata": {},
     "output_type": "display_data"
    },
    {
     "data": {
      "text/html": [
       " View run at <a href='https://wandb.ai/barbonigiorgia-sapienza-universit-di-roma/graph-classification-graphs_sc/runs/u7h1cvoh' target=\"_blank\">https://wandb.ai/barbonigiorgia-sapienza-universit-di-roma/graph-classification-graphs_sc/runs/u7h1cvoh</a>"
      ],
      "text/plain": [
       "<IPython.core.display.HTML object>"
      ]
     },
     "metadata": {},
     "output_type": "display_data"
    },
    {
     "name": "stdout",
     "output_type": "stream",
     "text": [
      "Running with config: {'batch_size': 32, 'in_channels': 6, 'learning_rate': 0.1, 'num_epochs': 5, 'num_heads': 2, 'optimizer': 'adam', 'out_channels': 8, 'random_state': 42, 'test_size': 0.3, 'weight_decay': 1e-05}\n"
     ]
    },
    {
     "data": {
      "text/html": [
       "<style>\n",
       "    table.wandb td:nth-child(1) { padding: 0 10px; text-align: left ; width: auto;} td:nth-child(2) {text-align: left ; width: 100%}\n",
       "    .wandb-row { display: flex; flex-direction: row; flex-wrap: wrap; justify-content: flex-start; width: 100% }\n",
       "    .wandb-col { display: flex; flex-direction: column; flex-basis: 100%; flex: 1; padding: 10px; }\n",
       "    </style>\n",
       "<div class=\"wandb-row\"><div class=\"wandb-col\"><h3>Run history:</h3><br/><table class=\"wandb\"><tr><td>epoch</td><td>▁▃▅▆█</td></tr><tr><td>train_accuracy</td><td>▁█▇█▆</td></tr><tr><td>train_f1</td><td>▁███▇</td></tr><tr><td>train_loss</td><td>█▄▁▁▃</td></tr><tr><td>val_accuracy</td><td>█▆█▁▆</td></tr><tr><td>val_f1</td><td>█▆█▁▆</td></tr><tr><td>val_loss</td><td>█▄▁▃▁</td></tr></table><br/></div><div class=\"wandb-col\"><h3>Run summary:</h3><br/><table class=\"wandb\"><tr><td>epoch</td><td>5</td></tr><tr><td>train_accuracy</td><td>0.712</td></tr><tr><td>train_f1</td><td>0.71041</td></tr><tr><td>train_loss</td><td>0.57088</td></tr><tr><td>val_accuracy</td><td>0.77778</td></tr><tr><td>val_f1</td><td>0.77462</td></tr><tr><td>val_loss</td><td>0.43946</td></tr></table><br/></div></div>"
      ],
      "text/plain": [
       "<IPython.core.display.HTML object>"
      ]
     },
     "metadata": {},
     "output_type": "display_data"
    },
    {
     "data": {
      "text/html": [
       " View run <strong style=\"color:#cdcd00\">rose-sweep-8</strong> at: <a href='https://wandb.ai/barbonigiorgia-sapienza-universit-di-roma/graph-classification-graphs_sc/runs/u7h1cvoh' target=\"_blank\">https://wandb.ai/barbonigiorgia-sapienza-universit-di-roma/graph-classification-graphs_sc/runs/u7h1cvoh</a><br/> View project at: <a href='https://wandb.ai/barbonigiorgia-sapienza-universit-di-roma/graph-classification-graphs_sc' target=\"_blank\">https://wandb.ai/barbonigiorgia-sapienza-universit-di-roma/graph-classification-graphs_sc</a><br/>Synced 5 W&B file(s), 0 media file(s), 2 artifact file(s) and 0 other file(s)"
      ],
      "text/plain": [
       "<IPython.core.display.HTML object>"
      ]
     },
     "metadata": {},
     "output_type": "display_data"
    },
    {
     "data": {
      "text/html": [
       "Find logs at: <code>.\\wandb\\run-20241119_161357-u7h1cvoh\\logs</code>"
      ],
      "text/plain": [
       "<IPython.core.display.HTML object>"
      ]
     },
     "metadata": {},
     "output_type": "display_data"
    },
    {
     "name": "stderr",
     "output_type": "stream",
     "text": [
      "\u001b[34m\u001b[1mwandb\u001b[0m: Agent Starting Run: of5ry1nk with config:\n",
      "\u001b[34m\u001b[1mwandb\u001b[0m: \tbatch_size: 32\n",
      "\u001b[34m\u001b[1mwandb\u001b[0m: \tin_channels: 6\n",
      "\u001b[34m\u001b[1mwandb\u001b[0m: \tlearning_rate: 0.1\n",
      "\u001b[34m\u001b[1mwandb\u001b[0m: \tnum_epochs: 5\n",
      "\u001b[34m\u001b[1mwandb\u001b[0m: \tnum_heads: 2\n",
      "\u001b[34m\u001b[1mwandb\u001b[0m: \toptimizer: adam\n",
      "\u001b[34m\u001b[1mwandb\u001b[0m: \tout_channels: 8\n",
      "\u001b[34m\u001b[1mwandb\u001b[0m: \trandom_state: 42\n",
      "\u001b[34m\u001b[1mwandb\u001b[0m: \ttest_size: 0.3\n",
      "\u001b[34m\u001b[1mwandb\u001b[0m: \tweight_decay: 0.0001\n"
     ]
    },
    {
     "data": {
      "text/html": [
       "Tracking run with wandb version 0.18.5"
      ],
      "text/plain": [
       "<IPython.core.display.HTML object>"
      ]
     },
     "metadata": {},
     "output_type": "display_data"
    },
    {
     "data": {
      "text/html": [
       "Run data is saved locally in <code>c:\\Users\\barbo\\brain classifier repo\\brain_classifier\\src\\wandb\\run-20241119_161412-of5ry1nk</code>"
      ],
      "text/plain": [
       "<IPython.core.display.HTML object>"
      ]
     },
     "metadata": {},
     "output_type": "display_data"
    },
    {
     "data": {
      "text/html": [
       "Syncing run <strong><a href='https://wandb.ai/barbonigiorgia-sapienza-universit-di-roma/graph-classification-graphs_sc/runs/of5ry1nk' target=\"_blank\">stoic-sweep-9</a></strong> to <a href='https://wandb.ai/barbonigiorgia-sapienza-universit-di-roma/graph-classification-graphs_sc' target=\"_blank\">Weights & Biases</a> (<a href='https://wandb.me/run' target=\"_blank\">docs</a>)<br/>Sweep page: <a href='https://wandb.ai/barbonigiorgia-sapienza-universit-di-roma/graph-classification-graphs_sc/sweeps/f8yd3ova' target=\"_blank\">https://wandb.ai/barbonigiorgia-sapienza-universit-di-roma/graph-classification-graphs_sc/sweeps/f8yd3ova</a>"
      ],
      "text/plain": [
       "<IPython.core.display.HTML object>"
      ]
     },
     "metadata": {},
     "output_type": "display_data"
    },
    {
     "data": {
      "text/html": [
       " View project at <a href='https://wandb.ai/barbonigiorgia-sapienza-universit-di-roma/graph-classification-graphs_sc' target=\"_blank\">https://wandb.ai/barbonigiorgia-sapienza-universit-di-roma/graph-classification-graphs_sc</a>"
      ],
      "text/plain": [
       "<IPython.core.display.HTML object>"
      ]
     },
     "metadata": {},
     "output_type": "display_data"
    },
    {
     "data": {
      "text/html": [
       " View sweep at <a href='https://wandb.ai/barbonigiorgia-sapienza-universit-di-roma/graph-classification-graphs_sc/sweeps/f8yd3ova' target=\"_blank\">https://wandb.ai/barbonigiorgia-sapienza-universit-di-roma/graph-classification-graphs_sc/sweeps/f8yd3ova</a>"
      ],
      "text/plain": [
       "<IPython.core.display.HTML object>"
      ]
     },
     "metadata": {},
     "output_type": "display_data"
    },
    {
     "data": {
      "text/html": [
       " View run at <a href='https://wandb.ai/barbonigiorgia-sapienza-universit-di-roma/graph-classification-graphs_sc/runs/of5ry1nk' target=\"_blank\">https://wandb.ai/barbonigiorgia-sapienza-universit-di-roma/graph-classification-graphs_sc/runs/of5ry1nk</a>"
      ],
      "text/plain": [
       "<IPython.core.display.HTML object>"
      ]
     },
     "metadata": {},
     "output_type": "display_data"
    },
    {
     "name": "stdout",
     "output_type": "stream",
     "text": [
      "Running with config: {'batch_size': 32, 'in_channels': 6, 'learning_rate': 0.1, 'num_epochs': 5, 'num_heads': 2, 'optimizer': 'adam', 'out_channels': 8, 'random_state': 42, 'test_size': 0.3, 'weight_decay': 0.0001}\n"
     ]
    },
    {
     "data": {
      "text/html": [
       "<style>\n",
       "    table.wandb td:nth-child(1) { padding: 0 10px; text-align: left ; width: auto;} td:nth-child(2) {text-align: left ; width: 100%}\n",
       "    .wandb-row { display: flex; flex-direction: row; flex-wrap: wrap; justify-content: flex-start; width: 100% }\n",
       "    .wandb-col { display: flex; flex-direction: column; flex-basis: 100%; flex: 1; padding: 10px; }\n",
       "    </style>\n",
       "<div class=\"wandb-row\"><div class=\"wandb-col\"><h3>Run history:</h3><br/><table class=\"wandb\"><tr><td>epoch</td><td>▁▃▅▆█</td></tr><tr><td>train_accuracy</td><td>▁█▇█▆</td></tr><tr><td>train_f1</td><td>▁███▇</td></tr><tr><td>train_loss</td><td>█▄▁▁▃</td></tr><tr><td>val_accuracy</td><td>▆▆█▁▆</td></tr><tr><td>val_f1</td><td>▆▆█▁▆</td></tr><tr><td>val_loss</td><td>█▄▁▃▁</td></tr></table><br/></div><div class=\"wandb-col\"><h3>Run summary:</h3><br/><table class=\"wandb\"><tr><td>epoch</td><td>5</td></tr><tr><td>train_accuracy</td><td>0.712</td></tr><tr><td>train_f1</td><td>0.71041</td></tr><tr><td>train_loss</td><td>0.57088</td></tr><tr><td>val_accuracy</td><td>0.77778</td></tr><tr><td>val_f1</td><td>0.77462</td></tr><tr><td>val_loss</td><td>0.43927</td></tr></table><br/></div></div>"
      ],
      "text/plain": [
       "<IPython.core.display.HTML object>"
      ]
     },
     "metadata": {},
     "output_type": "display_data"
    },
    {
     "data": {
      "text/html": [
       " View run <strong style=\"color:#cdcd00\">stoic-sweep-9</strong> at: <a href='https://wandb.ai/barbonigiorgia-sapienza-universit-di-roma/graph-classification-graphs_sc/runs/of5ry1nk' target=\"_blank\">https://wandb.ai/barbonigiorgia-sapienza-universit-di-roma/graph-classification-graphs_sc/runs/of5ry1nk</a><br/> View project at: <a href='https://wandb.ai/barbonigiorgia-sapienza-universit-di-roma/graph-classification-graphs_sc' target=\"_blank\">https://wandb.ai/barbonigiorgia-sapienza-universit-di-roma/graph-classification-graphs_sc</a><br/>Synced 5 W&B file(s), 0 media file(s), 4 artifact file(s) and 0 other file(s)"
      ],
      "text/plain": [
       "<IPython.core.display.HTML object>"
      ]
     },
     "metadata": {},
     "output_type": "display_data"
    },
    {
     "data": {
      "text/html": [
       "Find logs at: <code>.\\wandb\\run-20241119_161412-of5ry1nk\\logs</code>"
      ],
      "text/plain": [
       "<IPython.core.display.HTML object>"
      ]
     },
     "metadata": {},
     "output_type": "display_data"
    },
    {
     "name": "stderr",
     "output_type": "stream",
     "text": [
      "\u001b[34m\u001b[1mwandb\u001b[0m: Agent Starting Run: jknbebfx with config:\n",
      "\u001b[34m\u001b[1mwandb\u001b[0m: \tbatch_size: 32\n",
      "\u001b[34m\u001b[1mwandb\u001b[0m: \tin_channels: 6\n",
      "\u001b[34m\u001b[1mwandb\u001b[0m: \tlearning_rate: 0.1\n",
      "\u001b[34m\u001b[1mwandb\u001b[0m: \tnum_epochs: 5\n",
      "\u001b[34m\u001b[1mwandb\u001b[0m: \tnum_heads: 2\n",
      "\u001b[34m\u001b[1mwandb\u001b[0m: \toptimizer: adam\n",
      "\u001b[34m\u001b[1mwandb\u001b[0m: \tout_channels: 16\n",
      "\u001b[34m\u001b[1mwandb\u001b[0m: \trandom_state: 42\n",
      "\u001b[34m\u001b[1mwandb\u001b[0m: \ttest_size: 0.3\n",
      "\u001b[34m\u001b[1mwandb\u001b[0m: \tweight_decay: 0\n"
     ]
    },
    {
     "data": {
      "text/html": [
       "Tracking run with wandb version 0.18.5"
      ],
      "text/plain": [
       "<IPython.core.display.HTML object>"
      ]
     },
     "metadata": {},
     "output_type": "display_data"
    },
    {
     "data": {
      "text/html": [
       "Run data is saved locally in <code>c:\\Users\\barbo\\brain classifier repo\\brain_classifier\\src\\wandb\\run-20241119_161423-jknbebfx</code>"
      ],
      "text/plain": [
       "<IPython.core.display.HTML object>"
      ]
     },
     "metadata": {},
     "output_type": "display_data"
    },
    {
     "data": {
      "text/html": [
       "Syncing run <strong><a href='https://wandb.ai/barbonigiorgia-sapienza-universit-di-roma/graph-classification-graphs_sc/runs/jknbebfx' target=\"_blank\">iconic-sweep-10</a></strong> to <a href='https://wandb.ai/barbonigiorgia-sapienza-universit-di-roma/graph-classification-graphs_sc' target=\"_blank\">Weights & Biases</a> (<a href='https://wandb.me/run' target=\"_blank\">docs</a>)<br/>Sweep page: <a href='https://wandb.ai/barbonigiorgia-sapienza-universit-di-roma/graph-classification-graphs_sc/sweeps/f8yd3ova' target=\"_blank\">https://wandb.ai/barbonigiorgia-sapienza-universit-di-roma/graph-classification-graphs_sc/sweeps/f8yd3ova</a>"
      ],
      "text/plain": [
       "<IPython.core.display.HTML object>"
      ]
     },
     "metadata": {},
     "output_type": "display_data"
    },
    {
     "data": {
      "text/html": [
       " View project at <a href='https://wandb.ai/barbonigiorgia-sapienza-universit-di-roma/graph-classification-graphs_sc' target=\"_blank\">https://wandb.ai/barbonigiorgia-sapienza-universit-di-roma/graph-classification-graphs_sc</a>"
      ],
      "text/plain": [
       "<IPython.core.display.HTML object>"
      ]
     },
     "metadata": {},
     "output_type": "display_data"
    },
    {
     "data": {
      "text/html": [
       " View sweep at <a href='https://wandb.ai/barbonigiorgia-sapienza-universit-di-roma/graph-classification-graphs_sc/sweeps/f8yd3ova' target=\"_blank\">https://wandb.ai/barbonigiorgia-sapienza-universit-di-roma/graph-classification-graphs_sc/sweeps/f8yd3ova</a>"
      ],
      "text/plain": [
       "<IPython.core.display.HTML object>"
      ]
     },
     "metadata": {},
     "output_type": "display_data"
    },
    {
     "data": {
      "text/html": [
       " View run at <a href='https://wandb.ai/barbonigiorgia-sapienza-universit-di-roma/graph-classification-graphs_sc/runs/jknbebfx' target=\"_blank\">https://wandb.ai/barbonigiorgia-sapienza-universit-di-roma/graph-classification-graphs_sc/runs/jknbebfx</a>"
      ],
      "text/plain": [
       "<IPython.core.display.HTML object>"
      ]
     },
     "metadata": {},
     "output_type": "display_data"
    },
    {
     "name": "stdout",
     "output_type": "stream",
     "text": [
      "Running with config: {'batch_size': 32, 'in_channels': 6, 'learning_rate': 0.1, 'num_epochs': 5, 'num_heads': 2, 'optimizer': 'adam', 'out_channels': 16, 'random_state': 42, 'test_size': 0.3, 'weight_decay': 0}\n"
     ]
    },
    {
     "data": {
      "text/html": [
       "<style>\n",
       "    table.wandb td:nth-child(1) { padding: 0 10px; text-align: left ; width: auto;} td:nth-child(2) {text-align: left ; width: 100%}\n",
       "    .wandb-row { display: flex; flex-direction: row; flex-wrap: wrap; justify-content: flex-start; width: 100% }\n",
       "    .wandb-col { display: flex; flex-direction: column; flex-basis: 100%; flex: 1; padding: 10px; }\n",
       "    </style>\n",
       "<div class=\"wandb-row\"><div class=\"wandb-col\"><h3>Run history:</h3><br/><table class=\"wandb\"><tr><td>epoch</td><td>▁▃▅▆█</td></tr><tr><td>train_accuracy</td><td>▁████</td></tr><tr><td>train_f1</td><td>▁████</td></tr><tr><td>train_loss</td><td>█▂▁▂▁</td></tr><tr><td>val_accuracy</td><td>▁▇██▇</td></tr><tr><td>val_f1</td><td>▁▇██▇</td></tr><tr><td>val_loss</td><td>█▂▁▁▂</td></tr></table><br/></div><div class=\"wandb-col\"><h3>Run summary:</h3><br/><table class=\"wandb\"><tr><td>epoch</td><td>5</td></tr><tr><td>train_accuracy</td><td>0.744</td></tr><tr><td>train_f1</td><td>0.744</td></tr><tr><td>train_loss</td><td>0.50359</td></tr><tr><td>val_accuracy</td><td>0.81481</td></tr><tr><td>val_f1</td><td>0.81378</td></tr><tr><td>val_loss</td><td>0.44387</td></tr></table><br/></div></div>"
      ],
      "text/plain": [
       "<IPython.core.display.HTML object>"
      ]
     },
     "metadata": {},
     "output_type": "display_data"
    },
    {
     "data": {
      "text/html": [
       " View run <strong style=\"color:#cdcd00\">iconic-sweep-10</strong> at: <a href='https://wandb.ai/barbonigiorgia-sapienza-universit-di-roma/graph-classification-graphs_sc/runs/jknbebfx' target=\"_blank\">https://wandb.ai/barbonigiorgia-sapienza-universit-di-roma/graph-classification-graphs_sc/runs/jknbebfx</a><br/> View project at: <a href='https://wandb.ai/barbonigiorgia-sapienza-universit-di-roma/graph-classification-graphs_sc' target=\"_blank\">https://wandb.ai/barbonigiorgia-sapienza-universit-di-roma/graph-classification-graphs_sc</a><br/>Synced 5 W&B file(s), 0 media file(s), 8 artifact file(s) and 0 other file(s)"
      ],
      "text/plain": [
       "<IPython.core.display.HTML object>"
      ]
     },
     "metadata": {},
     "output_type": "display_data"
    },
    {
     "data": {
      "text/html": [
       "Find logs at: <code>.\\wandb\\run-20241119_161423-jknbebfx\\logs</code>"
      ],
      "text/plain": [
       "<IPython.core.display.HTML object>"
      ]
     },
     "metadata": {},
     "output_type": "display_data"
    },
    {
     "name": "stderr",
     "output_type": "stream",
     "text": [
      "\u001b[34m\u001b[1mwandb\u001b[0m: Sweep Agent: Waiting for job.\n",
      "\u001b[34m\u001b[1mwandb\u001b[0m: Job received.\n",
      "\u001b[34m\u001b[1mwandb\u001b[0m: Agent Starting Run: 38tzbkj2 with config:\n",
      "\u001b[34m\u001b[1mwandb\u001b[0m: \tbatch_size: 32\n",
      "\u001b[34m\u001b[1mwandb\u001b[0m: \tin_channels: 6\n",
      "\u001b[34m\u001b[1mwandb\u001b[0m: \tlearning_rate: 0.1\n",
      "\u001b[34m\u001b[1mwandb\u001b[0m: \tnum_epochs: 5\n",
      "\u001b[34m\u001b[1mwandb\u001b[0m: \tnum_heads: 2\n",
      "\u001b[34m\u001b[1mwandb\u001b[0m: \toptimizer: adam\n",
      "\u001b[34m\u001b[1mwandb\u001b[0m: \tout_channels: 16\n",
      "\u001b[34m\u001b[1mwandb\u001b[0m: \trandom_state: 42\n",
      "\u001b[34m\u001b[1mwandb\u001b[0m: \ttest_size: 0.3\n",
      "\u001b[34m\u001b[1mwandb\u001b[0m: \tweight_decay: 1e-05\n"
     ]
    },
    {
     "data": {
      "text/html": [
       "Tracking run with wandb version 0.18.5"
      ],
      "text/plain": [
       "<IPython.core.display.HTML object>"
      ]
     },
     "metadata": {},
     "output_type": "display_data"
    },
    {
     "data": {
      "text/html": [
       "Run data is saved locally in <code>c:\\Users\\barbo\\brain classifier repo\\brain_classifier\\src\\wandb\\run-20241119_161449-38tzbkj2</code>"
      ],
      "text/plain": [
       "<IPython.core.display.HTML object>"
      ]
     },
     "metadata": {},
     "output_type": "display_data"
    },
    {
     "data": {
      "text/html": [
       "Syncing run <strong><a href='https://wandb.ai/barbonigiorgia-sapienza-universit-di-roma/graph-classification-graphs_sc/runs/38tzbkj2' target=\"_blank\">giddy-sweep-11</a></strong> to <a href='https://wandb.ai/barbonigiorgia-sapienza-universit-di-roma/graph-classification-graphs_sc' target=\"_blank\">Weights & Biases</a> (<a href='https://wandb.me/run' target=\"_blank\">docs</a>)<br/>Sweep page: <a href='https://wandb.ai/barbonigiorgia-sapienza-universit-di-roma/graph-classification-graphs_sc/sweeps/f8yd3ova' target=\"_blank\">https://wandb.ai/barbonigiorgia-sapienza-universit-di-roma/graph-classification-graphs_sc/sweeps/f8yd3ova</a>"
      ],
      "text/plain": [
       "<IPython.core.display.HTML object>"
      ]
     },
     "metadata": {},
     "output_type": "display_data"
    },
    {
     "data": {
      "text/html": [
       " View project at <a href='https://wandb.ai/barbonigiorgia-sapienza-universit-di-roma/graph-classification-graphs_sc' target=\"_blank\">https://wandb.ai/barbonigiorgia-sapienza-universit-di-roma/graph-classification-graphs_sc</a>"
      ],
      "text/plain": [
       "<IPython.core.display.HTML object>"
      ]
     },
     "metadata": {},
     "output_type": "display_data"
    },
    {
     "data": {
      "text/html": [
       " View sweep at <a href='https://wandb.ai/barbonigiorgia-sapienza-universit-di-roma/graph-classification-graphs_sc/sweeps/f8yd3ova' target=\"_blank\">https://wandb.ai/barbonigiorgia-sapienza-universit-di-roma/graph-classification-graphs_sc/sweeps/f8yd3ova</a>"
      ],
      "text/plain": [
       "<IPython.core.display.HTML object>"
      ]
     },
     "metadata": {},
     "output_type": "display_data"
    },
    {
     "data": {
      "text/html": [
       " View run at <a href='https://wandb.ai/barbonigiorgia-sapienza-universit-di-roma/graph-classification-graphs_sc/runs/38tzbkj2' target=\"_blank\">https://wandb.ai/barbonigiorgia-sapienza-universit-di-roma/graph-classification-graphs_sc/runs/38tzbkj2</a>"
      ],
      "text/plain": [
       "<IPython.core.display.HTML object>"
      ]
     },
     "metadata": {},
     "output_type": "display_data"
    },
    {
     "name": "stdout",
     "output_type": "stream",
     "text": [
      "Running with config: {'batch_size': 32, 'in_channels': 6, 'learning_rate': 0.1, 'num_epochs': 5, 'num_heads': 2, 'optimizer': 'adam', 'out_channels': 16, 'random_state': 42, 'test_size': 0.3, 'weight_decay': 1e-05}\n"
     ]
    },
    {
     "data": {
      "text/html": [
       "<style>\n",
       "    table.wandb td:nth-child(1) { padding: 0 10px; text-align: left ; width: auto;} td:nth-child(2) {text-align: left ; width: 100%}\n",
       "    .wandb-row { display: flex; flex-direction: row; flex-wrap: wrap; justify-content: flex-start; width: 100% }\n",
       "    .wandb-col { display: flex; flex-direction: column; flex-basis: 100%; flex: 1; padding: 10px; }\n",
       "    </style>\n",
       "<div class=\"wandb-row\"><div class=\"wandb-col\"><h3>Run history:</h3><br/><table class=\"wandb\"><tr><td>epoch</td><td>▁▃▅▆█</td></tr><tr><td>train_accuracy</td><td>▁████</td></tr><tr><td>train_f1</td><td>▁████</td></tr><tr><td>train_loss</td><td>█▂▁▂▁</td></tr><tr><td>val_accuracy</td><td>▁▇██▇</td></tr><tr><td>val_f1</td><td>▁▇██▇</td></tr><tr><td>val_loss</td><td>█▂▁▁▁</td></tr></table><br/></div><div class=\"wandb-col\"><h3>Run summary:</h3><br/><table class=\"wandb\"><tr><td>epoch</td><td>5</td></tr><tr><td>train_accuracy</td><td>0.744</td></tr><tr><td>train_f1</td><td>0.744</td></tr><tr><td>train_loss</td><td>0.50377</td></tr><tr><td>val_accuracy</td><td>0.81481</td></tr><tr><td>val_f1</td><td>0.81378</td></tr><tr><td>val_loss</td><td>0.44379</td></tr></table><br/></div></div>"
      ],
      "text/plain": [
       "<IPython.core.display.HTML object>"
      ]
     },
     "metadata": {},
     "output_type": "display_data"
    },
    {
     "data": {
      "text/html": [
       " View run <strong style=\"color:#cdcd00\">giddy-sweep-11</strong> at: <a href='https://wandb.ai/barbonigiorgia-sapienza-universit-di-roma/graph-classification-graphs_sc/runs/38tzbkj2' target=\"_blank\">https://wandb.ai/barbonigiorgia-sapienza-universit-di-roma/graph-classification-graphs_sc/runs/38tzbkj2</a><br/> View project at: <a href='https://wandb.ai/barbonigiorgia-sapienza-universit-di-roma/graph-classification-graphs_sc' target=\"_blank\">https://wandb.ai/barbonigiorgia-sapienza-universit-di-roma/graph-classification-graphs_sc</a><br/>Synced 5 W&B file(s), 0 media file(s), 8 artifact file(s) and 0 other file(s)"
      ],
      "text/plain": [
       "<IPython.core.display.HTML object>"
      ]
     },
     "metadata": {},
     "output_type": "display_data"
    },
    {
     "data": {
      "text/html": [
       "Find logs at: <code>.\\wandb\\run-20241119_161449-38tzbkj2\\logs</code>"
      ],
      "text/plain": [
       "<IPython.core.display.HTML object>"
      ]
     },
     "metadata": {},
     "output_type": "display_data"
    },
    {
     "name": "stderr",
     "output_type": "stream",
     "text": [
      "\u001b[34m\u001b[1mwandb\u001b[0m: Agent Starting Run: e2l02p3u with config:\n",
      "\u001b[34m\u001b[1mwandb\u001b[0m: \tbatch_size: 32\n",
      "\u001b[34m\u001b[1mwandb\u001b[0m: \tin_channels: 6\n",
      "\u001b[34m\u001b[1mwandb\u001b[0m: \tlearning_rate: 0.1\n",
      "\u001b[34m\u001b[1mwandb\u001b[0m: \tnum_epochs: 5\n",
      "\u001b[34m\u001b[1mwandb\u001b[0m: \tnum_heads: 2\n",
      "\u001b[34m\u001b[1mwandb\u001b[0m: \toptimizer: adam\n",
      "\u001b[34m\u001b[1mwandb\u001b[0m: \tout_channels: 16\n",
      "\u001b[34m\u001b[1mwandb\u001b[0m: \trandom_state: 42\n",
      "\u001b[34m\u001b[1mwandb\u001b[0m: \ttest_size: 0.3\n",
      "\u001b[34m\u001b[1mwandb\u001b[0m: \tweight_decay: 0.0001\n"
     ]
    },
    {
     "data": {
      "text/html": [
       "Tracking run with wandb version 0.18.5"
      ],
      "text/plain": [
       "<IPython.core.display.HTML object>"
      ]
     },
     "metadata": {},
     "output_type": "display_data"
    },
    {
     "data": {
      "text/html": [
       "Run data is saved locally in <code>c:\\Users\\barbo\\brain classifier repo\\brain_classifier\\src\\wandb\\run-20241119_161506-e2l02p3u</code>"
      ],
      "text/plain": [
       "<IPython.core.display.HTML object>"
      ]
     },
     "metadata": {},
     "output_type": "display_data"
    },
    {
     "data": {
      "text/html": [
       "Syncing run <strong><a href='https://wandb.ai/barbonigiorgia-sapienza-universit-di-roma/graph-classification-graphs_sc/runs/e2l02p3u' target=\"_blank\">tough-sweep-12</a></strong> to <a href='https://wandb.ai/barbonigiorgia-sapienza-universit-di-roma/graph-classification-graphs_sc' target=\"_blank\">Weights & Biases</a> (<a href='https://wandb.me/run' target=\"_blank\">docs</a>)<br/>Sweep page: <a href='https://wandb.ai/barbonigiorgia-sapienza-universit-di-roma/graph-classification-graphs_sc/sweeps/f8yd3ova' target=\"_blank\">https://wandb.ai/barbonigiorgia-sapienza-universit-di-roma/graph-classification-graphs_sc/sweeps/f8yd3ova</a>"
      ],
      "text/plain": [
       "<IPython.core.display.HTML object>"
      ]
     },
     "metadata": {},
     "output_type": "display_data"
    },
    {
     "data": {
      "text/html": [
       " View project at <a href='https://wandb.ai/barbonigiorgia-sapienza-universit-di-roma/graph-classification-graphs_sc' target=\"_blank\">https://wandb.ai/barbonigiorgia-sapienza-universit-di-roma/graph-classification-graphs_sc</a>"
      ],
      "text/plain": [
       "<IPython.core.display.HTML object>"
      ]
     },
     "metadata": {},
     "output_type": "display_data"
    },
    {
     "data": {
      "text/html": [
       " View sweep at <a href='https://wandb.ai/barbonigiorgia-sapienza-universit-di-roma/graph-classification-graphs_sc/sweeps/f8yd3ova' target=\"_blank\">https://wandb.ai/barbonigiorgia-sapienza-universit-di-roma/graph-classification-graphs_sc/sweeps/f8yd3ova</a>"
      ],
      "text/plain": [
       "<IPython.core.display.HTML object>"
      ]
     },
     "metadata": {},
     "output_type": "display_data"
    },
    {
     "data": {
      "text/html": [
       " View run at <a href='https://wandb.ai/barbonigiorgia-sapienza-universit-di-roma/graph-classification-graphs_sc/runs/e2l02p3u' target=\"_blank\">https://wandb.ai/barbonigiorgia-sapienza-universit-di-roma/graph-classification-graphs_sc/runs/e2l02p3u</a>"
      ],
      "text/plain": [
       "<IPython.core.display.HTML object>"
      ]
     },
     "metadata": {},
     "output_type": "display_data"
    },
    {
     "name": "stdout",
     "output_type": "stream",
     "text": [
      "Running with config: {'batch_size': 32, 'in_channels': 6, 'learning_rate': 0.1, 'num_epochs': 5, 'num_heads': 2, 'optimizer': 'adam', 'out_channels': 16, 'random_state': 42, 'test_size': 0.3, 'weight_decay': 0.0001}\n"
     ]
    },
    {
     "data": {
      "text/html": [
       "<style>\n",
       "    table.wandb td:nth-child(1) { padding: 0 10px; text-align: left ; width: auto;} td:nth-child(2) {text-align: left ; width: 100%}\n",
       "    .wandb-row { display: flex; flex-direction: row; flex-wrap: wrap; justify-content: flex-start; width: 100% }\n",
       "    .wandb-col { display: flex; flex-direction: column; flex-basis: 100%; flex: 1; padding: 10px; }\n",
       "    </style>\n",
       "<div class=\"wandb-row\"><div class=\"wandb-col\"><h3>Run history:</h3><br/><table class=\"wandb\"><tr><td>epoch</td><td>▁▃▅▆█</td></tr><tr><td>train_accuracy</td><td>▁████</td></tr><tr><td>train_f1</td><td>▁████</td></tr><tr><td>train_loss</td><td>█▂▁▂▁</td></tr><tr><td>val_accuracy</td><td>▁▇█▇▇</td></tr><tr><td>val_f1</td><td>▁▇█▇▇</td></tr><tr><td>val_loss</td><td>█▂▁▁▁</td></tr></table><br/></div><div class=\"wandb-col\"><h3>Run summary:</h3><br/><table class=\"wandb\"><tr><td>epoch</td><td>5</td></tr><tr><td>train_accuracy</td><td>0.744</td></tr><tr><td>train_f1</td><td>0.744</td></tr><tr><td>train_loss</td><td>0.50805</td></tr><tr><td>val_accuracy</td><td>0.81481</td></tr><tr><td>val_f1</td><td>0.81378</td></tr><tr><td>val_loss</td><td>0.44165</td></tr></table><br/></div></div>"
      ],
      "text/plain": [
       "<IPython.core.display.HTML object>"
      ]
     },
     "metadata": {},
     "output_type": "display_data"
    },
    {
     "data": {
      "text/html": [
       " View run <strong style=\"color:#cdcd00\">tough-sweep-12</strong> at: <a href='https://wandb.ai/barbonigiorgia-sapienza-universit-di-roma/graph-classification-graphs_sc/runs/e2l02p3u' target=\"_blank\">https://wandb.ai/barbonigiorgia-sapienza-universit-di-roma/graph-classification-graphs_sc/runs/e2l02p3u</a><br/> View project at: <a href='https://wandb.ai/barbonigiorgia-sapienza-universit-di-roma/graph-classification-graphs_sc' target=\"_blank\">https://wandb.ai/barbonigiorgia-sapienza-universit-di-roma/graph-classification-graphs_sc</a><br/>Synced 5 W&B file(s), 0 media file(s), 8 artifact file(s) and 0 other file(s)"
      ],
      "text/plain": [
       "<IPython.core.display.HTML object>"
      ]
     },
     "metadata": {},
     "output_type": "display_data"
    },
    {
     "data": {
      "text/html": [
       "Find logs at: <code>.\\wandb\\run-20241119_161506-e2l02p3u\\logs</code>"
      ],
      "text/plain": [
       "<IPython.core.display.HTML object>"
      ]
     },
     "metadata": {},
     "output_type": "display_data"
    },
    {
     "name": "stderr",
     "output_type": "stream",
     "text": [
      "\u001b[34m\u001b[1mwandb\u001b[0m: Agent Starting Run: snepwhlv with config:\n",
      "\u001b[34m\u001b[1mwandb\u001b[0m: \tbatch_size: 32\n",
      "\u001b[34m\u001b[1mwandb\u001b[0m: \tin_channels: 6\n",
      "\u001b[34m\u001b[1mwandb\u001b[0m: \tlearning_rate: 0.1\n",
      "\u001b[34m\u001b[1mwandb\u001b[0m: \tnum_epochs: 5\n",
      "\u001b[34m\u001b[1mwandb\u001b[0m: \tnum_heads: 3\n",
      "\u001b[34m\u001b[1mwandb\u001b[0m: \toptimizer: adam\n",
      "\u001b[34m\u001b[1mwandb\u001b[0m: \tout_channels: 8\n",
      "\u001b[34m\u001b[1mwandb\u001b[0m: \trandom_state: 42\n",
      "\u001b[34m\u001b[1mwandb\u001b[0m: \ttest_size: 0.3\n",
      "\u001b[34m\u001b[1mwandb\u001b[0m: \tweight_decay: 0\n"
     ]
    },
    {
     "data": {
      "text/html": [
       "Tracking run with wandb version 0.18.5"
      ],
      "text/plain": [
       "<IPython.core.display.HTML object>"
      ]
     },
     "metadata": {},
     "output_type": "display_data"
    },
    {
     "data": {
      "text/html": [
       "Run data is saved locally in <code>c:\\Users\\barbo\\brain classifier repo\\brain_classifier\\src\\wandb\\run-20241119_161522-snepwhlv</code>"
      ],
      "text/plain": [
       "<IPython.core.display.HTML object>"
      ]
     },
     "metadata": {},
     "output_type": "display_data"
    },
    {
     "data": {
      "text/html": [
       "Syncing run <strong><a href='https://wandb.ai/barbonigiorgia-sapienza-universit-di-roma/graph-classification-graphs_sc/runs/snepwhlv' target=\"_blank\">deep-sweep-13</a></strong> to <a href='https://wandb.ai/barbonigiorgia-sapienza-universit-di-roma/graph-classification-graphs_sc' target=\"_blank\">Weights & Biases</a> (<a href='https://wandb.me/run' target=\"_blank\">docs</a>)<br/>Sweep page: <a href='https://wandb.ai/barbonigiorgia-sapienza-universit-di-roma/graph-classification-graphs_sc/sweeps/f8yd3ova' target=\"_blank\">https://wandb.ai/barbonigiorgia-sapienza-universit-di-roma/graph-classification-graphs_sc/sweeps/f8yd3ova</a>"
      ],
      "text/plain": [
       "<IPython.core.display.HTML object>"
      ]
     },
     "metadata": {},
     "output_type": "display_data"
    },
    {
     "data": {
      "text/html": [
       " View project at <a href='https://wandb.ai/barbonigiorgia-sapienza-universit-di-roma/graph-classification-graphs_sc' target=\"_blank\">https://wandb.ai/barbonigiorgia-sapienza-universit-di-roma/graph-classification-graphs_sc</a>"
      ],
      "text/plain": [
       "<IPython.core.display.HTML object>"
      ]
     },
     "metadata": {},
     "output_type": "display_data"
    },
    {
     "data": {
      "text/html": [
       " View sweep at <a href='https://wandb.ai/barbonigiorgia-sapienza-universit-di-roma/graph-classification-graphs_sc/sweeps/f8yd3ova' target=\"_blank\">https://wandb.ai/barbonigiorgia-sapienza-universit-di-roma/graph-classification-graphs_sc/sweeps/f8yd3ova</a>"
      ],
      "text/plain": [
       "<IPython.core.display.HTML object>"
      ]
     },
     "metadata": {},
     "output_type": "display_data"
    },
    {
     "data": {
      "text/html": [
       " View run at <a href='https://wandb.ai/barbonigiorgia-sapienza-universit-di-roma/graph-classification-graphs_sc/runs/snepwhlv' target=\"_blank\">https://wandb.ai/barbonigiorgia-sapienza-universit-di-roma/graph-classification-graphs_sc/runs/snepwhlv</a>"
      ],
      "text/plain": [
       "<IPython.core.display.HTML object>"
      ]
     },
     "metadata": {},
     "output_type": "display_data"
    },
    {
     "name": "stdout",
     "output_type": "stream",
     "text": [
      "Running with config: {'batch_size': 32, 'in_channels': 6, 'learning_rate': 0.1, 'num_epochs': 5, 'num_heads': 3, 'optimizer': 'adam', 'out_channels': 8, 'random_state': 42, 'test_size': 0.3, 'weight_decay': 0}\n"
     ]
    },
    {
     "data": {
      "text/html": [
       "<style>\n",
       "    table.wandb td:nth-child(1) { padding: 0 10px; text-align: left ; width: auto;} td:nth-child(2) {text-align: left ; width: 100%}\n",
       "    .wandb-row { display: flex; flex-direction: row; flex-wrap: wrap; justify-content: flex-start; width: 100% }\n",
       "    .wandb-col { display: flex; flex-direction: column; flex-basis: 100%; flex: 1; padding: 10px; }\n",
       "    </style>\n",
       "<div class=\"wandb-row\"><div class=\"wandb-col\"><h3>Run history:</h3><br/><table class=\"wandb\"><tr><td>epoch</td><td>▁▃▅▆█</td></tr><tr><td>train_accuracy</td><td>▁███▇</td></tr><tr><td>train_f1</td><td>▁███▇</td></tr><tr><td>train_loss</td><td>█▃▁▂▃</td></tr><tr><td>val_accuracy</td><td>▃▆█▁▆</td></tr><tr><td>val_f1</td><td>▃▆█▁▆</td></tr><tr><td>val_loss</td><td>█▄▁▃▁</td></tr></table><br/></div><div class=\"wandb-col\"><h3>Run summary:</h3><br/><table class=\"wandb\"><tr><td>epoch</td><td>5</td></tr><tr><td>train_accuracy</td><td>0.728</td></tr><tr><td>train_f1</td><td>0.728</td></tr><tr><td>train_loss</td><td>0.56156</td></tr><tr><td>val_accuracy</td><td>0.77778</td></tr><tr><td>val_f1</td><td>0.77462</td></tr><tr><td>val_loss</td><td>0.43348</td></tr></table><br/></div></div>"
      ],
      "text/plain": [
       "<IPython.core.display.HTML object>"
      ]
     },
     "metadata": {},
     "output_type": "display_data"
    },
    {
     "data": {
      "text/html": [
       " View run <strong style=\"color:#cdcd00\">deep-sweep-13</strong> at: <a href='https://wandb.ai/barbonigiorgia-sapienza-universit-di-roma/graph-classification-graphs_sc/runs/snepwhlv' target=\"_blank\">https://wandb.ai/barbonigiorgia-sapienza-universit-di-roma/graph-classification-graphs_sc/runs/snepwhlv</a><br/> View project at: <a href='https://wandb.ai/barbonigiorgia-sapienza-universit-di-roma/graph-classification-graphs_sc' target=\"_blank\">https://wandb.ai/barbonigiorgia-sapienza-universit-di-roma/graph-classification-graphs_sc</a><br/>Synced 5 W&B file(s), 0 media file(s), 6 artifact file(s) and 0 other file(s)"
      ],
      "text/plain": [
       "<IPython.core.display.HTML object>"
      ]
     },
     "metadata": {},
     "output_type": "display_data"
    },
    {
     "data": {
      "text/html": [
       "Find logs at: <code>.\\wandb\\run-20241119_161522-snepwhlv\\logs</code>"
      ],
      "text/plain": [
       "<IPython.core.display.HTML object>"
      ]
     },
     "metadata": {},
     "output_type": "display_data"
    },
    {
     "name": "stderr",
     "output_type": "stream",
     "text": [
      "\u001b[34m\u001b[1mwandb\u001b[0m: Agent Starting Run: bhh90adg with config:\n",
      "\u001b[34m\u001b[1mwandb\u001b[0m: \tbatch_size: 32\n",
      "\u001b[34m\u001b[1mwandb\u001b[0m: \tin_channels: 6\n",
      "\u001b[34m\u001b[1mwandb\u001b[0m: \tlearning_rate: 0.1\n",
      "\u001b[34m\u001b[1mwandb\u001b[0m: \tnum_epochs: 5\n",
      "\u001b[34m\u001b[1mwandb\u001b[0m: \tnum_heads: 3\n",
      "\u001b[34m\u001b[1mwandb\u001b[0m: \toptimizer: adam\n",
      "\u001b[34m\u001b[1mwandb\u001b[0m: \tout_channels: 8\n",
      "\u001b[34m\u001b[1mwandb\u001b[0m: \trandom_state: 42\n",
      "\u001b[34m\u001b[1mwandb\u001b[0m: \ttest_size: 0.3\n",
      "\u001b[34m\u001b[1mwandb\u001b[0m: \tweight_decay: 1e-05\n"
     ]
    },
    {
     "data": {
      "text/html": [
       "Tracking run with wandb version 0.18.5"
      ],
      "text/plain": [
       "<IPython.core.display.HTML object>"
      ]
     },
     "metadata": {},
     "output_type": "display_data"
    },
    {
     "data": {
      "text/html": [
       "Run data is saved locally in <code>c:\\Users\\barbo\\brain classifier repo\\brain_classifier\\src\\wandb\\run-20241119_161538-bhh90adg</code>"
      ],
      "text/plain": [
       "<IPython.core.display.HTML object>"
      ]
     },
     "metadata": {},
     "output_type": "display_data"
    },
    {
     "data": {
      "text/html": [
       "Syncing run <strong><a href='https://wandb.ai/barbonigiorgia-sapienza-universit-di-roma/graph-classification-graphs_sc/runs/bhh90adg' target=\"_blank\">serene-sweep-14</a></strong> to <a href='https://wandb.ai/barbonigiorgia-sapienza-universit-di-roma/graph-classification-graphs_sc' target=\"_blank\">Weights & Biases</a> (<a href='https://wandb.me/run' target=\"_blank\">docs</a>)<br/>Sweep page: <a href='https://wandb.ai/barbonigiorgia-sapienza-universit-di-roma/graph-classification-graphs_sc/sweeps/f8yd3ova' target=\"_blank\">https://wandb.ai/barbonigiorgia-sapienza-universit-di-roma/graph-classification-graphs_sc/sweeps/f8yd3ova</a>"
      ],
      "text/plain": [
       "<IPython.core.display.HTML object>"
      ]
     },
     "metadata": {},
     "output_type": "display_data"
    },
    {
     "data": {
      "text/html": [
       " View project at <a href='https://wandb.ai/barbonigiorgia-sapienza-universit-di-roma/graph-classification-graphs_sc' target=\"_blank\">https://wandb.ai/barbonigiorgia-sapienza-universit-di-roma/graph-classification-graphs_sc</a>"
      ],
      "text/plain": [
       "<IPython.core.display.HTML object>"
      ]
     },
     "metadata": {},
     "output_type": "display_data"
    },
    {
     "data": {
      "text/html": [
       " View sweep at <a href='https://wandb.ai/barbonigiorgia-sapienza-universit-di-roma/graph-classification-graphs_sc/sweeps/f8yd3ova' target=\"_blank\">https://wandb.ai/barbonigiorgia-sapienza-universit-di-roma/graph-classification-graphs_sc/sweeps/f8yd3ova</a>"
      ],
      "text/plain": [
       "<IPython.core.display.HTML object>"
      ]
     },
     "metadata": {},
     "output_type": "display_data"
    },
    {
     "data": {
      "text/html": [
       " View run at <a href='https://wandb.ai/barbonigiorgia-sapienza-universit-di-roma/graph-classification-graphs_sc/runs/bhh90adg' target=\"_blank\">https://wandb.ai/barbonigiorgia-sapienza-universit-di-roma/graph-classification-graphs_sc/runs/bhh90adg</a>"
      ],
      "text/plain": [
       "<IPython.core.display.HTML object>"
      ]
     },
     "metadata": {},
     "output_type": "display_data"
    },
    {
     "name": "stdout",
     "output_type": "stream",
     "text": [
      "Running with config: {'batch_size': 32, 'in_channels': 6, 'learning_rate': 0.1, 'num_epochs': 5, 'num_heads': 3, 'optimizer': 'adam', 'out_channels': 8, 'random_state': 42, 'test_size': 0.3, 'weight_decay': 1e-05}\n"
     ]
    },
    {
     "data": {
      "text/html": [
       "<style>\n",
       "    table.wandb td:nth-child(1) { padding: 0 10px; text-align: left ; width: auto;} td:nth-child(2) {text-align: left ; width: 100%}\n",
       "    .wandb-row { display: flex; flex-direction: row; flex-wrap: wrap; justify-content: flex-start; width: 100% }\n",
       "    .wandb-col { display: flex; flex-direction: column; flex-basis: 100%; flex: 1; padding: 10px; }\n",
       "    </style>\n",
       "<div class=\"wandb-row\"><div class=\"wandb-col\"><h3>Run history:</h3><br/><table class=\"wandb\"><tr><td>epoch</td><td>▁▃▅▆█</td></tr><tr><td>train_accuracy</td><td>▁███▇</td></tr><tr><td>train_f1</td><td>▁███▇</td></tr><tr><td>train_loss</td><td>█▃▁▂▃</td></tr><tr><td>val_accuracy</td><td>▃▆█▁▆</td></tr><tr><td>val_f1</td><td>▃▆█▁▆</td></tr><tr><td>val_loss</td><td>█▄▁▃▁</td></tr></table><br/></div><div class=\"wandb-col\"><h3>Run summary:</h3><br/><table class=\"wandb\"><tr><td>epoch</td><td>5</td></tr><tr><td>train_accuracy</td><td>0.728</td></tr><tr><td>train_f1</td><td>0.728</td></tr><tr><td>train_loss</td><td>0.56151</td></tr><tr><td>val_accuracy</td><td>0.77778</td></tr><tr><td>val_f1</td><td>0.77462</td></tr><tr><td>val_loss</td><td>0.4334</td></tr></table><br/></div></div>"
      ],
      "text/plain": [
       "<IPython.core.display.HTML object>"
      ]
     },
     "metadata": {},
     "output_type": "display_data"
    },
    {
     "data": {
      "text/html": [
       " View run <strong style=\"color:#cdcd00\">serene-sweep-14</strong> at: <a href='https://wandb.ai/barbonigiorgia-sapienza-universit-di-roma/graph-classification-graphs_sc/runs/bhh90adg' target=\"_blank\">https://wandb.ai/barbonigiorgia-sapienza-universit-di-roma/graph-classification-graphs_sc/runs/bhh90adg</a><br/> View project at: <a href='https://wandb.ai/barbonigiorgia-sapienza-universit-di-roma/graph-classification-graphs_sc' target=\"_blank\">https://wandb.ai/barbonigiorgia-sapienza-universit-di-roma/graph-classification-graphs_sc</a><br/>Synced 5 W&B file(s), 0 media file(s), 6 artifact file(s) and 0 other file(s)"
      ],
      "text/plain": [
       "<IPython.core.display.HTML object>"
      ]
     },
     "metadata": {},
     "output_type": "display_data"
    },
    {
     "data": {
      "text/html": [
       "Find logs at: <code>.\\wandb\\run-20241119_161538-bhh90adg\\logs</code>"
      ],
      "text/plain": [
       "<IPython.core.display.HTML object>"
      ]
     },
     "metadata": {},
     "output_type": "display_data"
    },
    {
     "name": "stderr",
     "output_type": "stream",
     "text": [
      "\u001b[34m\u001b[1mwandb\u001b[0m: Agent Starting Run: nff09qri with config:\n",
      "\u001b[34m\u001b[1mwandb\u001b[0m: \tbatch_size: 32\n",
      "\u001b[34m\u001b[1mwandb\u001b[0m: \tin_channels: 6\n",
      "\u001b[34m\u001b[1mwandb\u001b[0m: \tlearning_rate: 0.1\n",
      "\u001b[34m\u001b[1mwandb\u001b[0m: \tnum_epochs: 5\n",
      "\u001b[34m\u001b[1mwandb\u001b[0m: \tnum_heads: 3\n",
      "\u001b[34m\u001b[1mwandb\u001b[0m: \toptimizer: adam\n",
      "\u001b[34m\u001b[1mwandb\u001b[0m: \tout_channels: 8\n",
      "\u001b[34m\u001b[1mwandb\u001b[0m: \trandom_state: 42\n",
      "\u001b[34m\u001b[1mwandb\u001b[0m: \ttest_size: 0.3\n",
      "\u001b[34m\u001b[1mwandb\u001b[0m: \tweight_decay: 0.0001\n"
     ]
    },
    {
     "data": {
      "text/html": [
       "Tracking run with wandb version 0.18.5"
      ],
      "text/plain": [
       "<IPython.core.display.HTML object>"
      ]
     },
     "metadata": {},
     "output_type": "display_data"
    },
    {
     "data": {
      "text/html": [
       "Run data is saved locally in <code>c:\\Users\\barbo\\brain classifier repo\\brain_classifier\\src\\wandb\\run-20241119_161554-nff09qri</code>"
      ],
      "text/plain": [
       "<IPython.core.display.HTML object>"
      ]
     },
     "metadata": {},
     "output_type": "display_data"
    },
    {
     "data": {
      "text/html": [
       "Syncing run <strong><a href='https://wandb.ai/barbonigiorgia-sapienza-universit-di-roma/graph-classification-graphs_sc/runs/nff09qri' target=\"_blank\">dandy-sweep-15</a></strong> to <a href='https://wandb.ai/barbonigiorgia-sapienza-universit-di-roma/graph-classification-graphs_sc' target=\"_blank\">Weights & Biases</a> (<a href='https://wandb.me/run' target=\"_blank\">docs</a>)<br/>Sweep page: <a href='https://wandb.ai/barbonigiorgia-sapienza-universit-di-roma/graph-classification-graphs_sc/sweeps/f8yd3ova' target=\"_blank\">https://wandb.ai/barbonigiorgia-sapienza-universit-di-roma/graph-classification-graphs_sc/sweeps/f8yd3ova</a>"
      ],
      "text/plain": [
       "<IPython.core.display.HTML object>"
      ]
     },
     "metadata": {},
     "output_type": "display_data"
    },
    {
     "data": {
      "text/html": [
       " View project at <a href='https://wandb.ai/barbonigiorgia-sapienza-universit-di-roma/graph-classification-graphs_sc' target=\"_blank\">https://wandb.ai/barbonigiorgia-sapienza-universit-di-roma/graph-classification-graphs_sc</a>"
      ],
      "text/plain": [
       "<IPython.core.display.HTML object>"
      ]
     },
     "metadata": {},
     "output_type": "display_data"
    },
    {
     "data": {
      "text/html": [
       " View sweep at <a href='https://wandb.ai/barbonigiorgia-sapienza-universit-di-roma/graph-classification-graphs_sc/sweeps/f8yd3ova' target=\"_blank\">https://wandb.ai/barbonigiorgia-sapienza-universit-di-roma/graph-classification-graphs_sc/sweeps/f8yd3ova</a>"
      ],
      "text/plain": [
       "<IPython.core.display.HTML object>"
      ]
     },
     "metadata": {},
     "output_type": "display_data"
    },
    {
     "data": {
      "text/html": [
       " View run at <a href='https://wandb.ai/barbonigiorgia-sapienza-universit-di-roma/graph-classification-graphs_sc/runs/nff09qri' target=\"_blank\">https://wandb.ai/barbonigiorgia-sapienza-universit-di-roma/graph-classification-graphs_sc/runs/nff09qri</a>"
      ],
      "text/plain": [
       "<IPython.core.display.HTML object>"
      ]
     },
     "metadata": {},
     "output_type": "display_data"
    },
    {
     "name": "stdout",
     "output_type": "stream",
     "text": [
      "Running with config: {'batch_size': 32, 'in_channels': 6, 'learning_rate': 0.1, 'num_epochs': 5, 'num_heads': 3, 'optimizer': 'adam', 'out_channels': 8, 'random_state': 42, 'test_size': 0.3, 'weight_decay': 0.0001}\n"
     ]
    },
    {
     "data": {
      "text/html": [
       "<style>\n",
       "    table.wandb td:nth-child(1) { padding: 0 10px; text-align: left ; width: auto;} td:nth-child(2) {text-align: left ; width: 100%}\n",
       "    .wandb-row { display: flex; flex-direction: row; flex-wrap: wrap; justify-content: flex-start; width: 100% }\n",
       "    .wandb-col { display: flex; flex-direction: column; flex-basis: 100%; flex: 1; padding: 10px; }\n",
       "    </style>\n",
       "<div class=\"wandb-row\"><div class=\"wandb-col\"><h3>Run history:</h3><br/><table class=\"wandb\"><tr><td>epoch</td><td>▁▃▅▆█</td></tr><tr><td>train_accuracy</td><td>▁███▇</td></tr><tr><td>train_f1</td><td>▁███▇</td></tr><tr><td>train_loss</td><td>█▄▁▂▃</td></tr><tr><td>val_accuracy</td><td>▃▆█▁▆</td></tr><tr><td>val_f1</td><td>▃▆█▁▆</td></tr><tr><td>val_loss</td><td>█▄▁▃▁</td></tr></table><br/></div><div class=\"wandb-col\"><h3>Run summary:</h3><br/><table class=\"wandb\"><tr><td>epoch</td><td>5</td></tr><tr><td>train_accuracy</td><td>0.728</td></tr><tr><td>train_f1</td><td>0.728</td></tr><tr><td>train_loss</td><td>0.56084</td></tr><tr><td>val_accuracy</td><td>0.77778</td></tr><tr><td>val_f1</td><td>0.77462</td></tr><tr><td>val_loss</td><td>0.43378</td></tr></table><br/></div></div>"
      ],
      "text/plain": [
       "<IPython.core.display.HTML object>"
      ]
     },
     "metadata": {},
     "output_type": "display_data"
    },
    {
     "data": {
      "text/html": [
       " View run <strong style=\"color:#cdcd00\">dandy-sweep-15</strong> at: <a href='https://wandb.ai/barbonigiorgia-sapienza-universit-di-roma/graph-classification-graphs_sc/runs/nff09qri' target=\"_blank\">https://wandb.ai/barbonigiorgia-sapienza-universit-di-roma/graph-classification-graphs_sc/runs/nff09qri</a><br/> View project at: <a href='https://wandb.ai/barbonigiorgia-sapienza-universit-di-roma/graph-classification-graphs_sc' target=\"_blank\">https://wandb.ai/barbonigiorgia-sapienza-universit-di-roma/graph-classification-graphs_sc</a><br/>Synced 5 W&B file(s), 0 media file(s), 6 artifact file(s) and 0 other file(s)"
      ],
      "text/plain": [
       "<IPython.core.display.HTML object>"
      ]
     },
     "metadata": {},
     "output_type": "display_data"
    },
    {
     "data": {
      "text/html": [
       "Find logs at: <code>.\\wandb\\run-20241119_161554-nff09qri\\logs</code>"
      ],
      "text/plain": [
       "<IPython.core.display.HTML object>"
      ]
     },
     "metadata": {},
     "output_type": "display_data"
    },
    {
     "name": "stderr",
     "output_type": "stream",
     "text": [
      "\u001b[34m\u001b[1mwandb\u001b[0m: Agent Starting Run: 57ki86ha with config:\n",
      "\u001b[34m\u001b[1mwandb\u001b[0m: \tbatch_size: 32\n",
      "\u001b[34m\u001b[1mwandb\u001b[0m: \tin_channels: 6\n",
      "\u001b[34m\u001b[1mwandb\u001b[0m: \tlearning_rate: 0.1\n",
      "\u001b[34m\u001b[1mwandb\u001b[0m: \tnum_epochs: 5\n",
      "\u001b[34m\u001b[1mwandb\u001b[0m: \tnum_heads: 3\n",
      "\u001b[34m\u001b[1mwandb\u001b[0m: \toptimizer: adam\n",
      "\u001b[34m\u001b[1mwandb\u001b[0m: \tout_channels: 16\n",
      "\u001b[34m\u001b[1mwandb\u001b[0m: \trandom_state: 42\n",
      "\u001b[34m\u001b[1mwandb\u001b[0m: \ttest_size: 0.3\n",
      "\u001b[34m\u001b[1mwandb\u001b[0m: \tweight_decay: 0\n"
     ]
    },
    {
     "data": {
      "text/html": [
       "Tracking run with wandb version 0.18.5"
      ],
      "text/plain": [
       "<IPython.core.display.HTML object>"
      ]
     },
     "metadata": {},
     "output_type": "display_data"
    },
    {
     "data": {
      "text/html": [
       "Run data is saved locally in <code>c:\\Users\\barbo\\brain classifier repo\\brain_classifier\\src\\wandb\\run-20241119_161609-57ki86ha</code>"
      ],
      "text/plain": [
       "<IPython.core.display.HTML object>"
      ]
     },
     "metadata": {},
     "output_type": "display_data"
    },
    {
     "data": {
      "text/html": [
       "Syncing run <strong><a href='https://wandb.ai/barbonigiorgia-sapienza-universit-di-roma/graph-classification-graphs_sc/runs/57ki86ha' target=\"_blank\">royal-sweep-16</a></strong> to <a href='https://wandb.ai/barbonigiorgia-sapienza-universit-di-roma/graph-classification-graphs_sc' target=\"_blank\">Weights & Biases</a> (<a href='https://wandb.me/run' target=\"_blank\">docs</a>)<br/>Sweep page: <a href='https://wandb.ai/barbonigiorgia-sapienza-universit-di-roma/graph-classification-graphs_sc/sweeps/f8yd3ova' target=\"_blank\">https://wandb.ai/barbonigiorgia-sapienza-universit-di-roma/graph-classification-graphs_sc/sweeps/f8yd3ova</a>"
      ],
      "text/plain": [
       "<IPython.core.display.HTML object>"
      ]
     },
     "metadata": {},
     "output_type": "display_data"
    },
    {
     "data": {
      "text/html": [
       " View project at <a href='https://wandb.ai/barbonigiorgia-sapienza-universit-di-roma/graph-classification-graphs_sc' target=\"_blank\">https://wandb.ai/barbonigiorgia-sapienza-universit-di-roma/graph-classification-graphs_sc</a>"
      ],
      "text/plain": [
       "<IPython.core.display.HTML object>"
      ]
     },
     "metadata": {},
     "output_type": "display_data"
    },
    {
     "data": {
      "text/html": [
       " View sweep at <a href='https://wandb.ai/barbonigiorgia-sapienza-universit-di-roma/graph-classification-graphs_sc/sweeps/f8yd3ova' target=\"_blank\">https://wandb.ai/barbonigiorgia-sapienza-universit-di-roma/graph-classification-graphs_sc/sweeps/f8yd3ova</a>"
      ],
      "text/plain": [
       "<IPython.core.display.HTML object>"
      ]
     },
     "metadata": {},
     "output_type": "display_data"
    },
    {
     "data": {
      "text/html": [
       " View run at <a href='https://wandb.ai/barbonigiorgia-sapienza-universit-di-roma/graph-classification-graphs_sc/runs/57ki86ha' target=\"_blank\">https://wandb.ai/barbonigiorgia-sapienza-universit-di-roma/graph-classification-graphs_sc/runs/57ki86ha</a>"
      ],
      "text/plain": [
       "<IPython.core.display.HTML object>"
      ]
     },
     "metadata": {},
     "output_type": "display_data"
    },
    {
     "name": "stdout",
     "output_type": "stream",
     "text": [
      "Running with config: {'batch_size': 32, 'in_channels': 6, 'learning_rate': 0.1, 'num_epochs': 5, 'num_heads': 3, 'optimizer': 'adam', 'out_channels': 16, 'random_state': 42, 'test_size': 0.3, 'weight_decay': 0}\n"
     ]
    },
    {
     "data": {
      "text/html": [
       "<style>\n",
       "    table.wandb td:nth-child(1) { padding: 0 10px; text-align: left ; width: auto;} td:nth-child(2) {text-align: left ; width: 100%}\n",
       "    .wandb-row { display: flex; flex-direction: row; flex-wrap: wrap; justify-content: flex-start; width: 100% }\n",
       "    .wandb-col { display: flex; flex-direction: column; flex-basis: 100%; flex: 1; padding: 10px; }\n",
       "    </style>\n",
       "<div class=\"wandb-row\"><div class=\"wandb-col\"><h3>Run history:</h3><br/><table class=\"wandb\"><tr><td>epoch</td><td>▁▃▅▆█</td></tr><tr><td>train_accuracy</td><td>▁▅▇██</td></tr><tr><td>train_f1</td><td>▁▅▇▇█</td></tr><tr><td>train_loss</td><td>█▃▂▃▁</td></tr><tr><td>val_accuracy</td><td>▁▆▆█▇</td></tr><tr><td>val_f1</td><td>▁▆▇██</td></tr><tr><td>val_loss</td><td>█▄▂▁▁</td></tr></table><br/></div><div class=\"wandb-col\"><h3>Run summary:</h3><br/><table class=\"wandb\"><tr><td>epoch</td><td>5</td></tr><tr><td>train_accuracy</td><td>0.76</td></tr><tr><td>train_f1</td><td>0.76102</td></tr><tr><td>train_loss</td><td>0.52778</td></tr><tr><td>val_accuracy</td><td>0.81481</td></tr><tr><td>val_f1</td><td>0.81378</td></tr><tr><td>val_loss</td><td>0.44314</td></tr></table><br/></div></div>"
      ],
      "text/plain": [
       "<IPython.core.display.HTML object>"
      ]
     },
     "metadata": {},
     "output_type": "display_data"
    },
    {
     "data": {
      "text/html": [
       " View run <strong style=\"color:#cdcd00\">royal-sweep-16</strong> at: <a href='https://wandb.ai/barbonigiorgia-sapienza-universit-di-roma/graph-classification-graphs_sc/runs/57ki86ha' target=\"_blank\">https://wandb.ai/barbonigiorgia-sapienza-universit-di-roma/graph-classification-graphs_sc/runs/57ki86ha</a><br/> View project at: <a href='https://wandb.ai/barbonigiorgia-sapienza-universit-di-roma/graph-classification-graphs_sc' target=\"_blank\">https://wandb.ai/barbonigiorgia-sapienza-universit-di-roma/graph-classification-graphs_sc</a><br/>Synced 5 W&B file(s), 0 media file(s), 8 artifact file(s) and 0 other file(s)"
      ],
      "text/plain": [
       "<IPython.core.display.HTML object>"
      ]
     },
     "metadata": {},
     "output_type": "display_data"
    },
    {
     "data": {
      "text/html": [
       "Find logs at: <code>.\\wandb\\run-20241119_161609-57ki86ha\\logs</code>"
      ],
      "text/plain": [
       "<IPython.core.display.HTML object>"
      ]
     },
     "metadata": {},
     "output_type": "display_data"
    },
    {
     "name": "stderr",
     "output_type": "stream",
     "text": [
      "\u001b[34m\u001b[1mwandb\u001b[0m: Sweep Agent: Waiting for job.\n",
      "\u001b[34m\u001b[1mwandb\u001b[0m: Job received.\n",
      "\u001b[34m\u001b[1mwandb\u001b[0m: Agent Starting Run: xlhok0v0 with config:\n",
      "\u001b[34m\u001b[1mwandb\u001b[0m: \tbatch_size: 32\n",
      "\u001b[34m\u001b[1mwandb\u001b[0m: \tin_channels: 6\n",
      "\u001b[34m\u001b[1mwandb\u001b[0m: \tlearning_rate: 0.1\n",
      "\u001b[34m\u001b[1mwandb\u001b[0m: \tnum_epochs: 5\n",
      "\u001b[34m\u001b[1mwandb\u001b[0m: \tnum_heads: 3\n",
      "\u001b[34m\u001b[1mwandb\u001b[0m: \toptimizer: adam\n",
      "\u001b[34m\u001b[1mwandb\u001b[0m: \tout_channels: 16\n",
      "\u001b[34m\u001b[1mwandb\u001b[0m: \trandom_state: 42\n",
      "\u001b[34m\u001b[1mwandb\u001b[0m: \ttest_size: 0.3\n",
      "\u001b[34m\u001b[1mwandb\u001b[0m: \tweight_decay: 1e-05\n"
     ]
    },
    {
     "data": {
      "text/html": [
       "Tracking run with wandb version 0.18.5"
      ],
      "text/plain": [
       "<IPython.core.display.HTML object>"
      ]
     },
     "metadata": {},
     "output_type": "display_data"
    },
    {
     "data": {
      "text/html": [
       "Run data is saved locally in <code>c:\\Users\\barbo\\brain classifier repo\\brain_classifier\\src\\wandb\\run-20241119_161635-xlhok0v0</code>"
      ],
      "text/plain": [
       "<IPython.core.display.HTML object>"
      ]
     },
     "metadata": {},
     "output_type": "display_data"
    },
    {
     "data": {
      "text/html": [
       "Syncing run <strong><a href='https://wandb.ai/barbonigiorgia-sapienza-universit-di-roma/graph-classification-graphs_sc/runs/xlhok0v0' target=\"_blank\">devoted-sweep-17</a></strong> to <a href='https://wandb.ai/barbonigiorgia-sapienza-universit-di-roma/graph-classification-graphs_sc' target=\"_blank\">Weights & Biases</a> (<a href='https://wandb.me/run' target=\"_blank\">docs</a>)<br/>Sweep page: <a href='https://wandb.ai/barbonigiorgia-sapienza-universit-di-roma/graph-classification-graphs_sc/sweeps/f8yd3ova' target=\"_blank\">https://wandb.ai/barbonigiorgia-sapienza-universit-di-roma/graph-classification-graphs_sc/sweeps/f8yd3ova</a>"
      ],
      "text/plain": [
       "<IPython.core.display.HTML object>"
      ]
     },
     "metadata": {},
     "output_type": "display_data"
    },
    {
     "data": {
      "text/html": [
       " View project at <a href='https://wandb.ai/barbonigiorgia-sapienza-universit-di-roma/graph-classification-graphs_sc' target=\"_blank\">https://wandb.ai/barbonigiorgia-sapienza-universit-di-roma/graph-classification-graphs_sc</a>"
      ],
      "text/plain": [
       "<IPython.core.display.HTML object>"
      ]
     },
     "metadata": {},
     "output_type": "display_data"
    },
    {
     "data": {
      "text/html": [
       " View sweep at <a href='https://wandb.ai/barbonigiorgia-sapienza-universit-di-roma/graph-classification-graphs_sc/sweeps/f8yd3ova' target=\"_blank\">https://wandb.ai/barbonigiorgia-sapienza-universit-di-roma/graph-classification-graphs_sc/sweeps/f8yd3ova</a>"
      ],
      "text/plain": [
       "<IPython.core.display.HTML object>"
      ]
     },
     "metadata": {},
     "output_type": "display_data"
    },
    {
     "data": {
      "text/html": [
       " View run at <a href='https://wandb.ai/barbonigiorgia-sapienza-universit-di-roma/graph-classification-graphs_sc/runs/xlhok0v0' target=\"_blank\">https://wandb.ai/barbonigiorgia-sapienza-universit-di-roma/graph-classification-graphs_sc/runs/xlhok0v0</a>"
      ],
      "text/plain": [
       "<IPython.core.display.HTML object>"
      ]
     },
     "metadata": {},
     "output_type": "display_data"
    },
    {
     "name": "stdout",
     "output_type": "stream",
     "text": [
      "Running with config: {'batch_size': 32, 'in_channels': 6, 'learning_rate': 0.1, 'num_epochs': 5, 'num_heads': 3, 'optimizer': 'adam', 'out_channels': 16, 'random_state': 42, 'test_size': 0.3, 'weight_decay': 1e-05}\n"
     ]
    },
    {
     "data": {
      "text/html": [
       "<style>\n",
       "    table.wandb td:nth-child(1) { padding: 0 10px; text-align: left ; width: auto;} td:nth-child(2) {text-align: left ; width: 100%}\n",
       "    .wandb-row { display: flex; flex-direction: row; flex-wrap: wrap; justify-content: flex-start; width: 100% }\n",
       "    .wandb-col { display: flex; flex-direction: column; flex-basis: 100%; flex: 1; padding: 10px; }\n",
       "    </style>\n",
       "<div class=\"wandb-row\"><div class=\"wandb-col\"><h3>Run history:</h3><br/><table class=\"wandb\"><tr><td>epoch</td><td>▁▃▅▆█</td></tr><tr><td>train_accuracy</td><td>▁▅▇██</td></tr><tr><td>train_f1</td><td>▁▅▇▇█</td></tr><tr><td>train_loss</td><td>█▃▂▃▁</td></tr><tr><td>val_accuracy</td><td>▁▆▆█▇</td></tr><tr><td>val_f1</td><td>▁▆▇██</td></tr><tr><td>val_loss</td><td>█▄▂▁▁</td></tr></table><br/></div><div class=\"wandb-col\"><h3>Run summary:</h3><br/><table class=\"wandb\"><tr><td>epoch</td><td>5</td></tr><tr><td>train_accuracy</td><td>0.76</td></tr><tr><td>train_f1</td><td>0.76102</td></tr><tr><td>train_loss</td><td>0.52772</td></tr><tr><td>val_accuracy</td><td>0.81481</td></tr><tr><td>val_f1</td><td>0.81378</td></tr><tr><td>val_loss</td><td>0.44339</td></tr></table><br/></div></div>"
      ],
      "text/plain": [
       "<IPython.core.display.HTML object>"
      ]
     },
     "metadata": {},
     "output_type": "display_data"
    },
    {
     "data": {
      "text/html": [
       " View run <strong style=\"color:#cdcd00\">devoted-sweep-17</strong> at: <a href='https://wandb.ai/barbonigiorgia-sapienza-universit-di-roma/graph-classification-graphs_sc/runs/xlhok0v0' target=\"_blank\">https://wandb.ai/barbonigiorgia-sapienza-universit-di-roma/graph-classification-graphs_sc/runs/xlhok0v0</a><br/> View project at: <a href='https://wandb.ai/barbonigiorgia-sapienza-universit-di-roma/graph-classification-graphs_sc' target=\"_blank\">https://wandb.ai/barbonigiorgia-sapienza-universit-di-roma/graph-classification-graphs_sc</a><br/>Synced 5 W&B file(s), 0 media file(s), 8 artifact file(s) and 0 other file(s)"
      ],
      "text/plain": [
       "<IPython.core.display.HTML object>"
      ]
     },
     "metadata": {},
     "output_type": "display_data"
    },
    {
     "data": {
      "text/html": [
       "Find logs at: <code>.\\wandb\\run-20241119_161635-xlhok0v0\\logs</code>"
      ],
      "text/plain": [
       "<IPython.core.display.HTML object>"
      ]
     },
     "metadata": {},
     "output_type": "display_data"
    },
    {
     "name": "stderr",
     "output_type": "stream",
     "text": [
      "\u001b[34m\u001b[1mwandb\u001b[0m: Agent Starting Run: toqmel3z with config:\n",
      "\u001b[34m\u001b[1mwandb\u001b[0m: \tbatch_size: 32\n",
      "\u001b[34m\u001b[1mwandb\u001b[0m: \tin_channels: 6\n",
      "\u001b[34m\u001b[1mwandb\u001b[0m: \tlearning_rate: 0.1\n",
      "\u001b[34m\u001b[1mwandb\u001b[0m: \tnum_epochs: 5\n",
      "\u001b[34m\u001b[1mwandb\u001b[0m: \tnum_heads: 3\n",
      "\u001b[34m\u001b[1mwandb\u001b[0m: \toptimizer: adam\n",
      "\u001b[34m\u001b[1mwandb\u001b[0m: \tout_channels: 16\n",
      "\u001b[34m\u001b[1mwandb\u001b[0m: \trandom_state: 42\n",
      "\u001b[34m\u001b[1mwandb\u001b[0m: \ttest_size: 0.3\n",
      "\u001b[34m\u001b[1mwandb\u001b[0m: \tweight_decay: 0.0001\n"
     ]
    },
    {
     "data": {
      "text/html": [
       "Tracking run with wandb version 0.18.5"
      ],
      "text/plain": [
       "<IPython.core.display.HTML object>"
      ]
     },
     "metadata": {},
     "output_type": "display_data"
    },
    {
     "data": {
      "text/html": [
       "Run data is saved locally in <code>c:\\Users\\barbo\\brain classifier repo\\brain_classifier\\src\\wandb\\run-20241119_161651-toqmel3z</code>"
      ],
      "text/plain": [
       "<IPython.core.display.HTML object>"
      ]
     },
     "metadata": {},
     "output_type": "display_data"
    },
    {
     "data": {
      "text/html": [
       "Syncing run <strong><a href='https://wandb.ai/barbonigiorgia-sapienza-universit-di-roma/graph-classification-graphs_sc/runs/toqmel3z' target=\"_blank\">sandy-sweep-18</a></strong> to <a href='https://wandb.ai/barbonigiorgia-sapienza-universit-di-roma/graph-classification-graphs_sc' target=\"_blank\">Weights & Biases</a> (<a href='https://wandb.me/run' target=\"_blank\">docs</a>)<br/>Sweep page: <a href='https://wandb.ai/barbonigiorgia-sapienza-universit-di-roma/graph-classification-graphs_sc/sweeps/f8yd3ova' target=\"_blank\">https://wandb.ai/barbonigiorgia-sapienza-universit-di-roma/graph-classification-graphs_sc/sweeps/f8yd3ova</a>"
      ],
      "text/plain": [
       "<IPython.core.display.HTML object>"
      ]
     },
     "metadata": {},
     "output_type": "display_data"
    },
    {
     "data": {
      "text/html": [
       " View project at <a href='https://wandb.ai/barbonigiorgia-sapienza-universit-di-roma/graph-classification-graphs_sc' target=\"_blank\">https://wandb.ai/barbonigiorgia-sapienza-universit-di-roma/graph-classification-graphs_sc</a>"
      ],
      "text/plain": [
       "<IPython.core.display.HTML object>"
      ]
     },
     "metadata": {},
     "output_type": "display_data"
    },
    {
     "data": {
      "text/html": [
       " View sweep at <a href='https://wandb.ai/barbonigiorgia-sapienza-universit-di-roma/graph-classification-graphs_sc/sweeps/f8yd3ova' target=\"_blank\">https://wandb.ai/barbonigiorgia-sapienza-universit-di-roma/graph-classification-graphs_sc/sweeps/f8yd3ova</a>"
      ],
      "text/plain": [
       "<IPython.core.display.HTML object>"
      ]
     },
     "metadata": {},
     "output_type": "display_data"
    },
    {
     "data": {
      "text/html": [
       " View run at <a href='https://wandb.ai/barbonigiorgia-sapienza-universit-di-roma/graph-classification-graphs_sc/runs/toqmel3z' target=\"_blank\">https://wandb.ai/barbonigiorgia-sapienza-universit-di-roma/graph-classification-graphs_sc/runs/toqmel3z</a>"
      ],
      "text/plain": [
       "<IPython.core.display.HTML object>"
      ]
     },
     "metadata": {},
     "output_type": "display_data"
    },
    {
     "name": "stdout",
     "output_type": "stream",
     "text": [
      "Running with config: {'batch_size': 32, 'in_channels': 6, 'learning_rate': 0.1, 'num_epochs': 5, 'num_heads': 3, 'optimizer': 'adam', 'out_channels': 16, 'random_state': 42, 'test_size': 0.3, 'weight_decay': 0.0001}\n"
     ]
    },
    {
     "data": {
      "text/html": [
       "<style>\n",
       "    table.wandb td:nth-child(1) { padding: 0 10px; text-align: left ; width: auto;} td:nth-child(2) {text-align: left ; width: 100%}\n",
       "    .wandb-row { display: flex; flex-direction: row; flex-wrap: wrap; justify-content: flex-start; width: 100% }\n",
       "    .wandb-col { display: flex; flex-direction: column; flex-basis: 100%; flex: 1; padding: 10px; }\n",
       "    </style>\n",
       "<div class=\"wandb-row\"><div class=\"wandb-col\"><h3>Run history:</h3><br/><table class=\"wandb\"><tr><td>epoch</td><td>▁▃▅▆█</td></tr><tr><td>train_accuracy</td><td>▁▅▇██</td></tr><tr><td>train_f1</td><td>▁▅▇▇█</td></tr><tr><td>train_loss</td><td>█▃▂▃▁</td></tr><tr><td>val_accuracy</td><td>▁▆▆██</td></tr><tr><td>val_f1</td><td>▁▆▇██</td></tr><tr><td>val_loss</td><td>█▄▂▁▁</td></tr></table><br/></div><div class=\"wandb-col\"><h3>Run summary:</h3><br/><table class=\"wandb\"><tr><td>epoch</td><td>5</td></tr><tr><td>train_accuracy</td><td>0.76</td></tr><tr><td>train_f1</td><td>0.76102</td></tr><tr><td>train_loss</td><td>0.52772</td></tr><tr><td>val_accuracy</td><td>0.85185</td></tr><tr><td>val_f1</td><td>0.85185</td></tr><tr><td>val_loss</td><td>0.44551</td></tr></table><br/></div></div>"
      ],
      "text/plain": [
       "<IPython.core.display.HTML object>"
      ]
     },
     "metadata": {},
     "output_type": "display_data"
    },
    {
     "data": {
      "text/html": [
       " View run <strong style=\"color:#cdcd00\">sandy-sweep-18</strong> at: <a href='https://wandb.ai/barbonigiorgia-sapienza-universit-di-roma/graph-classification-graphs_sc/runs/toqmel3z' target=\"_blank\">https://wandb.ai/barbonigiorgia-sapienza-universit-di-roma/graph-classification-graphs_sc/runs/toqmel3z</a><br/> View project at: <a href='https://wandb.ai/barbonigiorgia-sapienza-universit-di-roma/graph-classification-graphs_sc' target=\"_blank\">https://wandb.ai/barbonigiorgia-sapienza-universit-di-roma/graph-classification-graphs_sc</a><br/>Synced 5 W&B file(s), 0 media file(s), 8 artifact file(s) and 0 other file(s)"
      ],
      "text/plain": [
       "<IPython.core.display.HTML object>"
      ]
     },
     "metadata": {},
     "output_type": "display_data"
    },
    {
     "data": {
      "text/html": [
       "Find logs at: <code>.\\wandb\\run-20241119_161651-toqmel3z\\logs</code>"
      ],
      "text/plain": [
       "<IPython.core.display.HTML object>"
      ]
     },
     "metadata": {},
     "output_type": "display_data"
    },
    {
     "name": "stderr",
     "output_type": "stream",
     "text": [
      "\u001b[34m\u001b[1mwandb\u001b[0m: Agent Starting Run: pq9v9tob with config:\n",
      "\u001b[34m\u001b[1mwandb\u001b[0m: \tbatch_size: 32\n",
      "\u001b[34m\u001b[1mwandb\u001b[0m: \tin_channels: 6\n",
      "\u001b[34m\u001b[1mwandb\u001b[0m: \tlearning_rate: 0.1\n",
      "\u001b[34m\u001b[1mwandb\u001b[0m: \tnum_epochs: 5\n",
      "\u001b[34m\u001b[1mwandb\u001b[0m: \tnum_heads: 4\n",
      "\u001b[34m\u001b[1mwandb\u001b[0m: \toptimizer: adam\n",
      "\u001b[34m\u001b[1mwandb\u001b[0m: \tout_channels: 8\n",
      "\u001b[34m\u001b[1mwandb\u001b[0m: \trandom_state: 42\n",
      "\u001b[34m\u001b[1mwandb\u001b[0m: \ttest_size: 0.3\n",
      "\u001b[34m\u001b[1mwandb\u001b[0m: \tweight_decay: 0\n"
     ]
    },
    {
     "data": {
      "text/html": [
       "Tracking run with wandb version 0.18.5"
      ],
      "text/plain": [
       "<IPython.core.display.HTML object>"
      ]
     },
     "metadata": {},
     "output_type": "display_data"
    },
    {
     "data": {
      "text/html": [
       "Run data is saved locally in <code>c:\\Users\\barbo\\brain classifier repo\\brain_classifier\\src\\wandb\\run-20241119_161712-pq9v9tob</code>"
      ],
      "text/plain": [
       "<IPython.core.display.HTML object>"
      ]
     },
     "metadata": {},
     "output_type": "display_data"
    },
    {
     "data": {
      "text/html": [
       "Syncing run <strong><a href='https://wandb.ai/barbonigiorgia-sapienza-universit-di-roma/graph-classification-graphs_sc/runs/pq9v9tob' target=\"_blank\">light-sweep-19</a></strong> to <a href='https://wandb.ai/barbonigiorgia-sapienza-universit-di-roma/graph-classification-graphs_sc' target=\"_blank\">Weights & Biases</a> (<a href='https://wandb.me/run' target=\"_blank\">docs</a>)<br/>Sweep page: <a href='https://wandb.ai/barbonigiorgia-sapienza-universit-di-roma/graph-classification-graphs_sc/sweeps/f8yd3ova' target=\"_blank\">https://wandb.ai/barbonigiorgia-sapienza-universit-di-roma/graph-classification-graphs_sc/sweeps/f8yd3ova</a>"
      ],
      "text/plain": [
       "<IPython.core.display.HTML object>"
      ]
     },
     "metadata": {},
     "output_type": "display_data"
    },
    {
     "data": {
      "text/html": [
       " View project at <a href='https://wandb.ai/barbonigiorgia-sapienza-universit-di-roma/graph-classification-graphs_sc' target=\"_blank\">https://wandb.ai/barbonigiorgia-sapienza-universit-di-roma/graph-classification-graphs_sc</a>"
      ],
      "text/plain": [
       "<IPython.core.display.HTML object>"
      ]
     },
     "metadata": {},
     "output_type": "display_data"
    },
    {
     "data": {
      "text/html": [
       " View sweep at <a href='https://wandb.ai/barbonigiorgia-sapienza-universit-di-roma/graph-classification-graphs_sc/sweeps/f8yd3ova' target=\"_blank\">https://wandb.ai/barbonigiorgia-sapienza-universit-di-roma/graph-classification-graphs_sc/sweeps/f8yd3ova</a>"
      ],
      "text/plain": [
       "<IPython.core.display.HTML object>"
      ]
     },
     "metadata": {},
     "output_type": "display_data"
    },
    {
     "data": {
      "text/html": [
       " View run at <a href='https://wandb.ai/barbonigiorgia-sapienza-universit-di-roma/graph-classification-graphs_sc/runs/pq9v9tob' target=\"_blank\">https://wandb.ai/barbonigiorgia-sapienza-universit-di-roma/graph-classification-graphs_sc/runs/pq9v9tob</a>"
      ],
      "text/plain": [
       "<IPython.core.display.HTML object>"
      ]
     },
     "metadata": {},
     "output_type": "display_data"
    },
    {
     "name": "stdout",
     "output_type": "stream",
     "text": [
      "Running with config: {'batch_size': 32, 'in_channels': 6, 'learning_rate': 0.1, 'num_epochs': 5, 'num_heads': 4, 'optimizer': 'adam', 'out_channels': 8, 'random_state': 42, 'test_size': 0.3, 'weight_decay': 0}\n"
     ]
    },
    {
     "data": {
      "text/html": [
       "<style>\n",
       "    table.wandb td:nth-child(1) { padding: 0 10px; text-align: left ; width: auto;} td:nth-child(2) {text-align: left ; width: 100%}\n",
       "    .wandb-row { display: flex; flex-direction: row; flex-wrap: wrap; justify-content: flex-start; width: 100% }\n",
       "    .wandb-col { display: flex; flex-direction: column; flex-basis: 100%; flex: 1; padding: 10px; }\n",
       "    </style>\n",
       "<div class=\"wandb-row\"><div class=\"wandb-col\"><h3>Run history:</h3><br/><table class=\"wandb\"><tr><td>epoch</td><td>▁▃▅▆█</td></tr><tr><td>train_accuracy</td><td>▁▆▆▇█</td></tr><tr><td>train_f1</td><td>▁▆▆▇█</td></tr><tr><td>train_loss</td><td>█▄▂▂▁</td></tr><tr><td>val_accuracy</td><td>▁▆▆█▆</td></tr><tr><td>val_f1</td><td>▁▆▇█▇</td></tr><tr><td>val_loss</td><td>█▅▃▁▂</td></tr></table><br/></div><div class=\"wandb-col\"><h3>Run summary:</h3><br/><table class=\"wandb\"><tr><td>epoch</td><td>5</td></tr><tr><td>train_accuracy</td><td>0.76</td></tr><tr><td>train_f1</td><td>0.75565</td></tr><tr><td>train_loss</td><td>0.51795</td></tr><tr><td>val_accuracy</td><td>0.66667</td></tr><tr><td>val_f1</td><td>0.66207</td></tr><tr><td>val_loss</td><td>0.49443</td></tr></table><br/></div></div>"
      ],
      "text/plain": [
       "<IPython.core.display.HTML object>"
      ]
     },
     "metadata": {},
     "output_type": "display_data"
    },
    {
     "data": {
      "text/html": [
       " View run <strong style=\"color:#cdcd00\">light-sweep-19</strong> at: <a href='https://wandb.ai/barbonigiorgia-sapienza-universit-di-roma/graph-classification-graphs_sc/runs/pq9v9tob' target=\"_blank\">https://wandb.ai/barbonigiorgia-sapienza-universit-di-roma/graph-classification-graphs_sc/runs/pq9v9tob</a><br/> View project at: <a href='https://wandb.ai/barbonigiorgia-sapienza-universit-di-roma/graph-classification-graphs_sc' target=\"_blank\">https://wandb.ai/barbonigiorgia-sapienza-universit-di-roma/graph-classification-graphs_sc</a><br/>Synced 5 W&B file(s), 0 media file(s), 6 artifact file(s) and 0 other file(s)"
      ],
      "text/plain": [
       "<IPython.core.display.HTML object>"
      ]
     },
     "metadata": {},
     "output_type": "display_data"
    },
    {
     "data": {
      "text/html": [
       "Find logs at: <code>.\\wandb\\run-20241119_161712-pq9v9tob\\logs</code>"
      ],
      "text/plain": [
       "<IPython.core.display.HTML object>"
      ]
     },
     "metadata": {},
     "output_type": "display_data"
    },
    {
     "name": "stderr",
     "output_type": "stream",
     "text": [
      "\u001b[34m\u001b[1mwandb\u001b[0m: Agent Starting Run: o9co0yv3 with config:\n",
      "\u001b[34m\u001b[1mwandb\u001b[0m: \tbatch_size: 32\n",
      "\u001b[34m\u001b[1mwandb\u001b[0m: \tin_channels: 6\n",
      "\u001b[34m\u001b[1mwandb\u001b[0m: \tlearning_rate: 0.1\n",
      "\u001b[34m\u001b[1mwandb\u001b[0m: \tnum_epochs: 5\n",
      "\u001b[34m\u001b[1mwandb\u001b[0m: \tnum_heads: 4\n",
      "\u001b[34m\u001b[1mwandb\u001b[0m: \toptimizer: adam\n",
      "\u001b[34m\u001b[1mwandb\u001b[0m: \tout_channels: 8\n",
      "\u001b[34m\u001b[1mwandb\u001b[0m: \trandom_state: 42\n",
      "\u001b[34m\u001b[1mwandb\u001b[0m: \ttest_size: 0.3\n",
      "\u001b[34m\u001b[1mwandb\u001b[0m: \tweight_decay: 1e-05\n"
     ]
    },
    {
     "data": {
      "text/html": [
       "Tracking run with wandb version 0.18.5"
      ],
      "text/plain": [
       "<IPython.core.display.HTML object>"
      ]
     },
     "metadata": {},
     "output_type": "display_data"
    },
    {
     "data": {
      "text/html": [
       "Run data is saved locally in <code>c:\\Users\\barbo\\brain classifier repo\\brain_classifier\\src\\wandb\\run-20241119_161733-o9co0yv3</code>"
      ],
      "text/plain": [
       "<IPython.core.display.HTML object>"
      ]
     },
     "metadata": {},
     "output_type": "display_data"
    },
    {
     "data": {
      "text/html": [
       "Syncing run <strong><a href='https://wandb.ai/barbonigiorgia-sapienza-universit-di-roma/graph-classification-graphs_sc/runs/o9co0yv3' target=\"_blank\">brisk-sweep-20</a></strong> to <a href='https://wandb.ai/barbonigiorgia-sapienza-universit-di-roma/graph-classification-graphs_sc' target=\"_blank\">Weights & Biases</a> (<a href='https://wandb.me/run' target=\"_blank\">docs</a>)<br/>Sweep page: <a href='https://wandb.ai/barbonigiorgia-sapienza-universit-di-roma/graph-classification-graphs_sc/sweeps/f8yd3ova' target=\"_blank\">https://wandb.ai/barbonigiorgia-sapienza-universit-di-roma/graph-classification-graphs_sc/sweeps/f8yd3ova</a>"
      ],
      "text/plain": [
       "<IPython.core.display.HTML object>"
      ]
     },
     "metadata": {},
     "output_type": "display_data"
    },
    {
     "data": {
      "text/html": [
       " View project at <a href='https://wandb.ai/barbonigiorgia-sapienza-universit-di-roma/graph-classification-graphs_sc' target=\"_blank\">https://wandb.ai/barbonigiorgia-sapienza-universit-di-roma/graph-classification-graphs_sc</a>"
      ],
      "text/plain": [
       "<IPython.core.display.HTML object>"
      ]
     },
     "metadata": {},
     "output_type": "display_data"
    },
    {
     "data": {
      "text/html": [
       " View sweep at <a href='https://wandb.ai/barbonigiorgia-sapienza-universit-di-roma/graph-classification-graphs_sc/sweeps/f8yd3ova' target=\"_blank\">https://wandb.ai/barbonigiorgia-sapienza-universit-di-roma/graph-classification-graphs_sc/sweeps/f8yd3ova</a>"
      ],
      "text/plain": [
       "<IPython.core.display.HTML object>"
      ]
     },
     "metadata": {},
     "output_type": "display_data"
    },
    {
     "data": {
      "text/html": [
       " View run at <a href='https://wandb.ai/barbonigiorgia-sapienza-universit-di-roma/graph-classification-graphs_sc/runs/o9co0yv3' target=\"_blank\">https://wandb.ai/barbonigiorgia-sapienza-universit-di-roma/graph-classification-graphs_sc/runs/o9co0yv3</a>"
      ],
      "text/plain": [
       "<IPython.core.display.HTML object>"
      ]
     },
     "metadata": {},
     "output_type": "display_data"
    },
    {
     "name": "stdout",
     "output_type": "stream",
     "text": [
      "Running with config: {'batch_size': 32, 'in_channels': 6, 'learning_rate': 0.1, 'num_epochs': 5, 'num_heads': 4, 'optimizer': 'adam', 'out_channels': 8, 'random_state': 42, 'test_size': 0.3, 'weight_decay': 1e-05}\n"
     ]
    },
    {
     "data": {
      "text/html": [
       "<style>\n",
       "    table.wandb td:nth-child(1) { padding: 0 10px; text-align: left ; width: auto;} td:nth-child(2) {text-align: left ; width: 100%}\n",
       "    .wandb-row { display: flex; flex-direction: row; flex-wrap: wrap; justify-content: flex-start; width: 100% }\n",
       "    .wandb-col { display: flex; flex-direction: column; flex-basis: 100%; flex: 1; padding: 10px; }\n",
       "    </style>\n",
       "<div class=\"wandb-row\"><div class=\"wandb-col\"><h3>Run history:</h3><br/><table class=\"wandb\"><tr><td>epoch</td><td>▁▃▅▆█</td></tr><tr><td>train_accuracy</td><td>▁▆▆▇█</td></tr><tr><td>train_f1</td><td>▁▆▆▇█</td></tr><tr><td>train_loss</td><td>█▄▂▂▁</td></tr><tr><td>val_accuracy</td><td>▁▆▆█▆</td></tr><tr><td>val_f1</td><td>▁▆▇█▇</td></tr><tr><td>val_loss</td><td>█▅▃▁▂</td></tr></table><br/></div><div class=\"wandb-col\"><h3>Run summary:</h3><br/><table class=\"wandb\"><tr><td>epoch</td><td>5</td></tr><tr><td>train_accuracy</td><td>0.76</td></tr><tr><td>train_f1</td><td>0.75565</td></tr><tr><td>train_loss</td><td>0.51806</td></tr><tr><td>val_accuracy</td><td>0.66667</td></tr><tr><td>val_f1</td><td>0.66207</td></tr><tr><td>val_loss</td><td>0.49406</td></tr></table><br/></div></div>"
      ],
      "text/plain": [
       "<IPython.core.display.HTML object>"
      ]
     },
     "metadata": {},
     "output_type": "display_data"
    },
    {
     "data": {
      "text/html": [
       " View run <strong style=\"color:#cdcd00\">brisk-sweep-20</strong> at: <a href='https://wandb.ai/barbonigiorgia-sapienza-universit-di-roma/graph-classification-graphs_sc/runs/o9co0yv3' target=\"_blank\">https://wandb.ai/barbonigiorgia-sapienza-universit-di-roma/graph-classification-graphs_sc/runs/o9co0yv3</a><br/> View project at: <a href='https://wandb.ai/barbonigiorgia-sapienza-universit-di-roma/graph-classification-graphs_sc' target=\"_blank\">https://wandb.ai/barbonigiorgia-sapienza-universit-di-roma/graph-classification-graphs_sc</a><br/>Synced 5 W&B file(s), 0 media file(s), 6 artifact file(s) and 0 other file(s)"
      ],
      "text/plain": [
       "<IPython.core.display.HTML object>"
      ]
     },
     "metadata": {},
     "output_type": "display_data"
    },
    {
     "data": {
      "text/html": [
       "Find logs at: <code>.\\wandb\\run-20241119_161733-o9co0yv3\\logs</code>"
      ],
      "text/plain": [
       "<IPython.core.display.HTML object>"
      ]
     },
     "metadata": {},
     "output_type": "display_data"
    },
    {
     "name": "stderr",
     "output_type": "stream",
     "text": [
      "\u001b[34m\u001b[1mwandb\u001b[0m: Agent Starting Run: 7np0y3cf with config:\n",
      "\u001b[34m\u001b[1mwandb\u001b[0m: \tbatch_size: 32\n",
      "\u001b[34m\u001b[1mwandb\u001b[0m: \tin_channels: 6\n",
      "\u001b[34m\u001b[1mwandb\u001b[0m: \tlearning_rate: 0.1\n",
      "\u001b[34m\u001b[1mwandb\u001b[0m: \tnum_epochs: 5\n",
      "\u001b[34m\u001b[1mwandb\u001b[0m: \tnum_heads: 4\n",
      "\u001b[34m\u001b[1mwandb\u001b[0m: \toptimizer: adam\n",
      "\u001b[34m\u001b[1mwandb\u001b[0m: \tout_channels: 8\n",
      "\u001b[34m\u001b[1mwandb\u001b[0m: \trandom_state: 42\n",
      "\u001b[34m\u001b[1mwandb\u001b[0m: \ttest_size: 0.3\n",
      "\u001b[34m\u001b[1mwandb\u001b[0m: \tweight_decay: 0.0001\n"
     ]
    },
    {
     "data": {
      "text/html": [
       "Tracking run with wandb version 0.18.5"
      ],
      "text/plain": [
       "<IPython.core.display.HTML object>"
      ]
     },
     "metadata": {},
     "output_type": "display_data"
    },
    {
     "data": {
      "text/html": [
       "Run data is saved locally in <code>c:\\Users\\barbo\\brain classifier repo\\brain_classifier\\src\\wandb\\run-20241119_161754-7np0y3cf</code>"
      ],
      "text/plain": [
       "<IPython.core.display.HTML object>"
      ]
     },
     "metadata": {},
     "output_type": "display_data"
    },
    {
     "data": {
      "text/html": [
       "Syncing run <strong><a href='https://wandb.ai/barbonigiorgia-sapienza-universit-di-roma/graph-classification-graphs_sc/runs/7np0y3cf' target=\"_blank\">driven-sweep-21</a></strong> to <a href='https://wandb.ai/barbonigiorgia-sapienza-universit-di-roma/graph-classification-graphs_sc' target=\"_blank\">Weights & Biases</a> (<a href='https://wandb.me/run' target=\"_blank\">docs</a>)<br/>Sweep page: <a href='https://wandb.ai/barbonigiorgia-sapienza-universit-di-roma/graph-classification-graphs_sc/sweeps/f8yd3ova' target=\"_blank\">https://wandb.ai/barbonigiorgia-sapienza-universit-di-roma/graph-classification-graphs_sc/sweeps/f8yd3ova</a>"
      ],
      "text/plain": [
       "<IPython.core.display.HTML object>"
      ]
     },
     "metadata": {},
     "output_type": "display_data"
    },
    {
     "data": {
      "text/html": [
       " View project at <a href='https://wandb.ai/barbonigiorgia-sapienza-universit-di-roma/graph-classification-graphs_sc' target=\"_blank\">https://wandb.ai/barbonigiorgia-sapienza-universit-di-roma/graph-classification-graphs_sc</a>"
      ],
      "text/plain": [
       "<IPython.core.display.HTML object>"
      ]
     },
     "metadata": {},
     "output_type": "display_data"
    },
    {
     "data": {
      "text/html": [
       " View sweep at <a href='https://wandb.ai/barbonigiorgia-sapienza-universit-di-roma/graph-classification-graphs_sc/sweeps/f8yd3ova' target=\"_blank\">https://wandb.ai/barbonigiorgia-sapienza-universit-di-roma/graph-classification-graphs_sc/sweeps/f8yd3ova</a>"
      ],
      "text/plain": [
       "<IPython.core.display.HTML object>"
      ]
     },
     "metadata": {},
     "output_type": "display_data"
    },
    {
     "data": {
      "text/html": [
       " View run at <a href='https://wandb.ai/barbonigiorgia-sapienza-universit-di-roma/graph-classification-graphs_sc/runs/7np0y3cf' target=\"_blank\">https://wandb.ai/barbonigiorgia-sapienza-universit-di-roma/graph-classification-graphs_sc/runs/7np0y3cf</a>"
      ],
      "text/plain": [
       "<IPython.core.display.HTML object>"
      ]
     },
     "metadata": {},
     "output_type": "display_data"
    },
    {
     "name": "stdout",
     "output_type": "stream",
     "text": [
      "Running with config: {'batch_size': 32, 'in_channels': 6, 'learning_rate': 0.1, 'num_epochs': 5, 'num_heads': 4, 'optimizer': 'adam', 'out_channels': 8, 'random_state': 42, 'test_size': 0.3, 'weight_decay': 0.0001}\n"
     ]
    },
    {
     "data": {
      "text/html": [
       "<style>\n",
       "    table.wandb td:nth-child(1) { padding: 0 10px; text-align: left ; width: auto;} td:nth-child(2) {text-align: left ; width: 100%}\n",
       "    .wandb-row { display: flex; flex-direction: row; flex-wrap: wrap; justify-content: flex-start; width: 100% }\n",
       "    .wandb-col { display: flex; flex-direction: column; flex-basis: 100%; flex: 1; padding: 10px; }\n",
       "    </style>\n",
       "<div class=\"wandb-row\"><div class=\"wandb-col\"><h3>Run history:</h3><br/><table class=\"wandb\"><tr><td>epoch</td><td>▁▃▅▆█</td></tr><tr><td>train_accuracy</td><td>▁▆▆▇█</td></tr><tr><td>train_f1</td><td>▁▆▆▇█</td></tr><tr><td>train_loss</td><td>█▄▂▂▁</td></tr><tr><td>val_accuracy</td><td>▁▇▇█▇</td></tr><tr><td>val_f1</td><td>▁▆▇█▇</td></tr><tr><td>val_loss</td><td>█▅▃▁▂</td></tr></table><br/></div><div class=\"wandb-col\"><h3>Run summary:</h3><br/><table class=\"wandb\"><tr><td>epoch</td><td>5</td></tr><tr><td>train_accuracy</td><td>0.76</td></tr><tr><td>train_f1</td><td>0.75565</td></tr><tr><td>train_loss</td><td>0.5169</td></tr><tr><td>val_accuracy</td><td>0.66667</td></tr><tr><td>val_f1</td><td>0.66207</td></tr><tr><td>val_loss</td><td>0.49377</td></tr></table><br/></div></div>"
      ],
      "text/plain": [
       "<IPython.core.display.HTML object>"
      ]
     },
     "metadata": {},
     "output_type": "display_data"
    },
    {
     "data": {
      "text/html": [
       " View run <strong style=\"color:#cdcd00\">driven-sweep-21</strong> at: <a href='https://wandb.ai/barbonigiorgia-sapienza-universit-di-roma/graph-classification-graphs_sc/runs/7np0y3cf' target=\"_blank\">https://wandb.ai/barbonigiorgia-sapienza-universit-di-roma/graph-classification-graphs_sc/runs/7np0y3cf</a><br/> View project at: <a href='https://wandb.ai/barbonigiorgia-sapienza-universit-di-roma/graph-classification-graphs_sc' target=\"_blank\">https://wandb.ai/barbonigiorgia-sapienza-universit-di-roma/graph-classification-graphs_sc</a><br/>Synced 5 W&B file(s), 0 media file(s), 6 artifact file(s) and 0 other file(s)"
      ],
      "text/plain": [
       "<IPython.core.display.HTML object>"
      ]
     },
     "metadata": {},
     "output_type": "display_data"
    },
    {
     "data": {
      "text/html": [
       "Find logs at: <code>.\\wandb\\run-20241119_161754-7np0y3cf\\logs</code>"
      ],
      "text/plain": [
       "<IPython.core.display.HTML object>"
      ]
     },
     "metadata": {},
     "output_type": "display_data"
    },
    {
     "name": "stderr",
     "output_type": "stream",
     "text": [
      "\u001b[34m\u001b[1mwandb\u001b[0m: Agent Starting Run: z4eimpwz with config:\n",
      "\u001b[34m\u001b[1mwandb\u001b[0m: \tbatch_size: 32\n",
      "\u001b[34m\u001b[1mwandb\u001b[0m: \tin_channels: 6\n",
      "\u001b[34m\u001b[1mwandb\u001b[0m: \tlearning_rate: 0.1\n",
      "\u001b[34m\u001b[1mwandb\u001b[0m: \tnum_epochs: 5\n",
      "\u001b[34m\u001b[1mwandb\u001b[0m: \tnum_heads: 4\n",
      "\u001b[34m\u001b[1mwandb\u001b[0m: \toptimizer: adam\n",
      "\u001b[34m\u001b[1mwandb\u001b[0m: \tout_channels: 16\n",
      "\u001b[34m\u001b[1mwandb\u001b[0m: \trandom_state: 42\n",
      "\u001b[34m\u001b[1mwandb\u001b[0m: \ttest_size: 0.3\n",
      "\u001b[34m\u001b[1mwandb\u001b[0m: \tweight_decay: 0\n"
     ]
    },
    {
     "data": {
      "text/html": [
       "Tracking run with wandb version 0.18.5"
      ],
      "text/plain": [
       "<IPython.core.display.HTML object>"
      ]
     },
     "metadata": {},
     "output_type": "display_data"
    },
    {
     "data": {
      "text/html": [
       "Run data is saved locally in <code>c:\\Users\\barbo\\brain classifier repo\\brain_classifier\\src\\wandb\\run-20241119_161815-z4eimpwz</code>"
      ],
      "text/plain": [
       "<IPython.core.display.HTML object>"
      ]
     },
     "metadata": {},
     "output_type": "display_data"
    },
    {
     "data": {
      "text/html": [
       "Syncing run <strong><a href='https://wandb.ai/barbonigiorgia-sapienza-universit-di-roma/graph-classification-graphs_sc/runs/z4eimpwz' target=\"_blank\">easy-sweep-22</a></strong> to <a href='https://wandb.ai/barbonigiorgia-sapienza-universit-di-roma/graph-classification-graphs_sc' target=\"_blank\">Weights & Biases</a> (<a href='https://wandb.me/run' target=\"_blank\">docs</a>)<br/>Sweep page: <a href='https://wandb.ai/barbonigiorgia-sapienza-universit-di-roma/graph-classification-graphs_sc/sweeps/f8yd3ova' target=\"_blank\">https://wandb.ai/barbonigiorgia-sapienza-universit-di-roma/graph-classification-graphs_sc/sweeps/f8yd3ova</a>"
      ],
      "text/plain": [
       "<IPython.core.display.HTML object>"
      ]
     },
     "metadata": {},
     "output_type": "display_data"
    },
    {
     "data": {
      "text/html": [
       " View project at <a href='https://wandb.ai/barbonigiorgia-sapienza-universit-di-roma/graph-classification-graphs_sc' target=\"_blank\">https://wandb.ai/barbonigiorgia-sapienza-universit-di-roma/graph-classification-graphs_sc</a>"
      ],
      "text/plain": [
       "<IPython.core.display.HTML object>"
      ]
     },
     "metadata": {},
     "output_type": "display_data"
    },
    {
     "data": {
      "text/html": [
       " View sweep at <a href='https://wandb.ai/barbonigiorgia-sapienza-universit-di-roma/graph-classification-graphs_sc/sweeps/f8yd3ova' target=\"_blank\">https://wandb.ai/barbonigiorgia-sapienza-universit-di-roma/graph-classification-graphs_sc/sweeps/f8yd3ova</a>"
      ],
      "text/plain": [
       "<IPython.core.display.HTML object>"
      ]
     },
     "metadata": {},
     "output_type": "display_data"
    },
    {
     "data": {
      "text/html": [
       " View run at <a href='https://wandb.ai/barbonigiorgia-sapienza-universit-di-roma/graph-classification-graphs_sc/runs/z4eimpwz' target=\"_blank\">https://wandb.ai/barbonigiorgia-sapienza-universit-di-roma/graph-classification-graphs_sc/runs/z4eimpwz</a>"
      ],
      "text/plain": [
       "<IPython.core.display.HTML object>"
      ]
     },
     "metadata": {},
     "output_type": "display_data"
    },
    {
     "name": "stdout",
     "output_type": "stream",
     "text": [
      "Running with config: {'batch_size': 32, 'in_channels': 6, 'learning_rate': 0.1, 'num_epochs': 5, 'num_heads': 4, 'optimizer': 'adam', 'out_channels': 16, 'random_state': 42, 'test_size': 0.3, 'weight_decay': 0}\n"
     ]
    },
    {
     "data": {
      "text/html": [
       "<style>\n",
       "    table.wandb td:nth-child(1) { padding: 0 10px; text-align: left ; width: auto;} td:nth-child(2) {text-align: left ; width: 100%}\n",
       "    .wandb-row { display: flex; flex-direction: row; flex-wrap: wrap; justify-content: flex-start; width: 100% }\n",
       "    .wandb-col { display: flex; flex-direction: column; flex-basis: 100%; flex: 1; padding: 10px; }\n",
       "    </style>\n",
       "<div class=\"wandb-row\"><div class=\"wandb-col\"><h3>Run history:</h3><br/><table class=\"wandb\"><tr><td>epoch</td><td>▁▃▅▆█</td></tr><tr><td>train_accuracy</td><td>▁▄▆▇█</td></tr><tr><td>train_f1</td><td>▁▄▆▇█</td></tr><tr><td>train_loss</td><td>█▄▂▂▁</td></tr><tr><td>val_accuracy</td><td>▁▅▄▇█</td></tr><tr><td>val_f1</td><td>▁▅▅▇█</td></tr><tr><td>val_loss</td><td>█▅▅▁▁</td></tr></table><br/></div><div class=\"wandb-col\"><h3>Run summary:</h3><br/><table class=\"wandb\"><tr><td>epoch</td><td>5</td></tr><tr><td>train_accuracy</td><td>0.744</td></tr><tr><td>train_f1</td><td>0.7328</td></tr><tr><td>train_loss</td><td>0.50992</td></tr><tr><td>val_accuracy</td><td>0.77778</td></tr><tr><td>val_f1</td><td>0.77839</td></tr><tr><td>val_loss</td><td>0.43966</td></tr></table><br/></div></div>"
      ],
      "text/plain": [
       "<IPython.core.display.HTML object>"
      ]
     },
     "metadata": {},
     "output_type": "display_data"
    },
    {
     "data": {
      "text/html": [
       " View run <strong style=\"color:#cdcd00\">easy-sweep-22</strong> at: <a href='https://wandb.ai/barbonigiorgia-sapienza-universit-di-roma/graph-classification-graphs_sc/runs/z4eimpwz' target=\"_blank\">https://wandb.ai/barbonigiorgia-sapienza-universit-di-roma/graph-classification-graphs_sc/runs/z4eimpwz</a><br/> View project at: <a href='https://wandb.ai/barbonigiorgia-sapienza-universit-di-roma/graph-classification-graphs_sc' target=\"_blank\">https://wandb.ai/barbonigiorgia-sapienza-universit-di-roma/graph-classification-graphs_sc</a><br/>Synced 5 W&B file(s), 0 media file(s), 10 artifact file(s) and 0 other file(s)"
      ],
      "text/plain": [
       "<IPython.core.display.HTML object>"
      ]
     },
     "metadata": {},
     "output_type": "display_data"
    },
    {
     "data": {
      "text/html": [
       "Find logs at: <code>.\\wandb\\run-20241119_161815-z4eimpwz\\logs</code>"
      ],
      "text/plain": [
       "<IPython.core.display.HTML object>"
      ]
     },
     "metadata": {},
     "output_type": "display_data"
    },
    {
     "name": "stderr",
     "output_type": "stream",
     "text": [
      "\u001b[34m\u001b[1mwandb\u001b[0m: Sweep Agent: Waiting for job.\n",
      "\u001b[34m\u001b[1mwandb\u001b[0m: Job received.\n",
      "\u001b[34m\u001b[1mwandb\u001b[0m: Agent Starting Run: quijqa7k with config:\n",
      "\u001b[34m\u001b[1mwandb\u001b[0m: \tbatch_size: 32\n",
      "\u001b[34m\u001b[1mwandb\u001b[0m: \tin_channels: 6\n",
      "\u001b[34m\u001b[1mwandb\u001b[0m: \tlearning_rate: 0.1\n",
      "\u001b[34m\u001b[1mwandb\u001b[0m: \tnum_epochs: 5\n",
      "\u001b[34m\u001b[1mwandb\u001b[0m: \tnum_heads: 4\n",
      "\u001b[34m\u001b[1mwandb\u001b[0m: \toptimizer: adam\n",
      "\u001b[34m\u001b[1mwandb\u001b[0m: \tout_channels: 16\n",
      "\u001b[34m\u001b[1mwandb\u001b[0m: \trandom_state: 42\n",
      "\u001b[34m\u001b[1mwandb\u001b[0m: \ttest_size: 0.3\n",
      "\u001b[34m\u001b[1mwandb\u001b[0m: \tweight_decay: 1e-05\n"
     ]
    },
    {
     "data": {
      "text/html": [
       "Tracking run with wandb version 0.18.5"
      ],
      "text/plain": [
       "<IPython.core.display.HTML object>"
      ]
     },
     "metadata": {},
     "output_type": "display_data"
    },
    {
     "data": {
      "text/html": [
       "Run data is saved locally in <code>c:\\Users\\barbo\\brain classifier repo\\brain_classifier\\src\\wandb\\run-20241119_161846-quijqa7k</code>"
      ],
      "text/plain": [
       "<IPython.core.display.HTML object>"
      ]
     },
     "metadata": {},
     "output_type": "display_data"
    },
    {
     "data": {
      "text/html": [
       "Syncing run <strong><a href='https://wandb.ai/barbonigiorgia-sapienza-universit-di-roma/graph-classification-graphs_sc/runs/quijqa7k' target=\"_blank\">volcanic-sweep-23</a></strong> to <a href='https://wandb.ai/barbonigiorgia-sapienza-universit-di-roma/graph-classification-graphs_sc' target=\"_blank\">Weights & Biases</a> (<a href='https://wandb.me/run' target=\"_blank\">docs</a>)<br/>Sweep page: <a href='https://wandb.ai/barbonigiorgia-sapienza-universit-di-roma/graph-classification-graphs_sc/sweeps/f8yd3ova' target=\"_blank\">https://wandb.ai/barbonigiorgia-sapienza-universit-di-roma/graph-classification-graphs_sc/sweeps/f8yd3ova</a>"
      ],
      "text/plain": [
       "<IPython.core.display.HTML object>"
      ]
     },
     "metadata": {},
     "output_type": "display_data"
    },
    {
     "data": {
      "text/html": [
       " View project at <a href='https://wandb.ai/barbonigiorgia-sapienza-universit-di-roma/graph-classification-graphs_sc' target=\"_blank\">https://wandb.ai/barbonigiorgia-sapienza-universit-di-roma/graph-classification-graphs_sc</a>"
      ],
      "text/plain": [
       "<IPython.core.display.HTML object>"
      ]
     },
     "metadata": {},
     "output_type": "display_data"
    },
    {
     "data": {
      "text/html": [
       " View sweep at <a href='https://wandb.ai/barbonigiorgia-sapienza-universit-di-roma/graph-classification-graphs_sc/sweeps/f8yd3ova' target=\"_blank\">https://wandb.ai/barbonigiorgia-sapienza-universit-di-roma/graph-classification-graphs_sc/sweeps/f8yd3ova</a>"
      ],
      "text/plain": [
       "<IPython.core.display.HTML object>"
      ]
     },
     "metadata": {},
     "output_type": "display_data"
    },
    {
     "data": {
      "text/html": [
       " View run at <a href='https://wandb.ai/barbonigiorgia-sapienza-universit-di-roma/graph-classification-graphs_sc/runs/quijqa7k' target=\"_blank\">https://wandb.ai/barbonigiorgia-sapienza-universit-di-roma/graph-classification-graphs_sc/runs/quijqa7k</a>"
      ],
      "text/plain": [
       "<IPython.core.display.HTML object>"
      ]
     },
     "metadata": {},
     "output_type": "display_data"
    },
    {
     "name": "stdout",
     "output_type": "stream",
     "text": [
      "Running with config: {'batch_size': 32, 'in_channels': 6, 'learning_rate': 0.1, 'num_epochs': 5, 'num_heads': 4, 'optimizer': 'adam', 'out_channels': 16, 'random_state': 42, 'test_size': 0.3, 'weight_decay': 1e-05}\n"
     ]
    },
    {
     "data": {
      "text/html": [
       "<style>\n",
       "    table.wandb td:nth-child(1) { padding: 0 10px; text-align: left ; width: auto;} td:nth-child(2) {text-align: left ; width: 100%}\n",
       "    .wandb-row { display: flex; flex-direction: row; flex-wrap: wrap; justify-content: flex-start; width: 100% }\n",
       "    .wandb-col { display: flex; flex-direction: column; flex-basis: 100%; flex: 1; padding: 10px; }\n",
       "    </style>\n",
       "<div class=\"wandb-row\"><div class=\"wandb-col\"><h3>Run history:</h3><br/><table class=\"wandb\"><tr><td>epoch</td><td>▁▃▅▆█</td></tr><tr><td>train_accuracy</td><td>▁▄▆▇█</td></tr><tr><td>train_f1</td><td>▁▄▆▇█</td></tr><tr><td>train_loss</td><td>█▄▂▂▁</td></tr><tr><td>val_accuracy</td><td>▁▆▅▇█</td></tr><tr><td>val_f1</td><td>▁▆▅▇█</td></tr><tr><td>val_loss</td><td>█▅▅▁▁</td></tr></table><br/></div><div class=\"wandb-col\"><h3>Run summary:</h3><br/><table class=\"wandb\"><tr><td>epoch</td><td>5</td></tr><tr><td>train_accuracy</td><td>0.752</td></tr><tr><td>train_f1</td><td>0.74016</td></tr><tr><td>train_loss</td><td>0.50932</td></tr><tr><td>val_accuracy</td><td>0.77778</td></tr><tr><td>val_f1</td><td>0.77839</td></tr><tr><td>val_loss</td><td>0.4416</td></tr></table><br/></div></div>"
      ],
      "text/plain": [
       "<IPython.core.display.HTML object>"
      ]
     },
     "metadata": {},
     "output_type": "display_data"
    },
    {
     "data": {
      "text/html": [
       " View run <strong style=\"color:#cdcd00\">volcanic-sweep-23</strong> at: <a href='https://wandb.ai/barbonigiorgia-sapienza-universit-di-roma/graph-classification-graphs_sc/runs/quijqa7k' target=\"_blank\">https://wandb.ai/barbonigiorgia-sapienza-universit-di-roma/graph-classification-graphs_sc/runs/quijqa7k</a><br/> View project at: <a href='https://wandb.ai/barbonigiorgia-sapienza-universit-di-roma/graph-classification-graphs_sc' target=\"_blank\">https://wandb.ai/barbonigiorgia-sapienza-universit-di-roma/graph-classification-graphs_sc</a><br/>Synced 5 W&B file(s), 0 media file(s), 10 artifact file(s) and 0 other file(s)"
      ],
      "text/plain": [
       "<IPython.core.display.HTML object>"
      ]
     },
     "metadata": {},
     "output_type": "display_data"
    },
    {
     "data": {
      "text/html": [
       "Find logs at: <code>.\\wandb\\run-20241119_161846-quijqa7k\\logs</code>"
      ],
      "text/plain": [
       "<IPython.core.display.HTML object>"
      ]
     },
     "metadata": {},
     "output_type": "display_data"
    },
    {
     "name": "stderr",
     "output_type": "stream",
     "text": [
      "\u001b[34m\u001b[1mwandb\u001b[0m: Agent Starting Run: 38as8g1l with config:\n",
      "\u001b[34m\u001b[1mwandb\u001b[0m: \tbatch_size: 32\n",
      "\u001b[34m\u001b[1mwandb\u001b[0m: \tin_channels: 6\n",
      "\u001b[34m\u001b[1mwandb\u001b[0m: \tlearning_rate: 0.1\n",
      "\u001b[34m\u001b[1mwandb\u001b[0m: \tnum_epochs: 5\n",
      "\u001b[34m\u001b[1mwandb\u001b[0m: \tnum_heads: 4\n",
      "\u001b[34m\u001b[1mwandb\u001b[0m: \toptimizer: adam\n",
      "\u001b[34m\u001b[1mwandb\u001b[0m: \tout_channels: 16\n",
      "\u001b[34m\u001b[1mwandb\u001b[0m: \trandom_state: 42\n",
      "\u001b[34m\u001b[1mwandb\u001b[0m: \ttest_size: 0.3\n",
      "\u001b[34m\u001b[1mwandb\u001b[0m: \tweight_decay: 0.0001\n"
     ]
    },
    {
     "data": {
      "text/html": [
       "Tracking run with wandb version 0.18.5"
      ],
      "text/plain": [
       "<IPython.core.display.HTML object>"
      ]
     },
     "metadata": {},
     "output_type": "display_data"
    },
    {
     "data": {
      "text/html": [
       "Run data is saved locally in <code>c:\\Users\\barbo\\brain classifier repo\\brain_classifier\\src\\wandb\\run-20241119_161912-38as8g1l</code>"
      ],
      "text/plain": [
       "<IPython.core.display.HTML object>"
      ]
     },
     "metadata": {},
     "output_type": "display_data"
    },
    {
     "data": {
      "text/html": [
       "Syncing run <strong><a href='https://wandb.ai/barbonigiorgia-sapienza-universit-di-roma/graph-classification-graphs_sc/runs/38as8g1l' target=\"_blank\">visionary-sweep-24</a></strong> to <a href='https://wandb.ai/barbonigiorgia-sapienza-universit-di-roma/graph-classification-graphs_sc' target=\"_blank\">Weights & Biases</a> (<a href='https://wandb.me/run' target=\"_blank\">docs</a>)<br/>Sweep page: <a href='https://wandb.ai/barbonigiorgia-sapienza-universit-di-roma/graph-classification-graphs_sc/sweeps/f8yd3ova' target=\"_blank\">https://wandb.ai/barbonigiorgia-sapienza-universit-di-roma/graph-classification-graphs_sc/sweeps/f8yd3ova</a>"
      ],
      "text/plain": [
       "<IPython.core.display.HTML object>"
      ]
     },
     "metadata": {},
     "output_type": "display_data"
    },
    {
     "data": {
      "text/html": [
       " View project at <a href='https://wandb.ai/barbonigiorgia-sapienza-universit-di-roma/graph-classification-graphs_sc' target=\"_blank\">https://wandb.ai/barbonigiorgia-sapienza-universit-di-roma/graph-classification-graphs_sc</a>"
      ],
      "text/plain": [
       "<IPython.core.display.HTML object>"
      ]
     },
     "metadata": {},
     "output_type": "display_data"
    },
    {
     "data": {
      "text/html": [
       " View sweep at <a href='https://wandb.ai/barbonigiorgia-sapienza-universit-di-roma/graph-classification-graphs_sc/sweeps/f8yd3ova' target=\"_blank\">https://wandb.ai/barbonigiorgia-sapienza-universit-di-roma/graph-classification-graphs_sc/sweeps/f8yd3ova</a>"
      ],
      "text/plain": [
       "<IPython.core.display.HTML object>"
      ]
     },
     "metadata": {},
     "output_type": "display_data"
    },
    {
     "data": {
      "text/html": [
       " View run at <a href='https://wandb.ai/barbonigiorgia-sapienza-universit-di-roma/graph-classification-graphs_sc/runs/38as8g1l' target=\"_blank\">https://wandb.ai/barbonigiorgia-sapienza-universit-di-roma/graph-classification-graphs_sc/runs/38as8g1l</a>"
      ],
      "text/plain": [
       "<IPython.core.display.HTML object>"
      ]
     },
     "metadata": {},
     "output_type": "display_data"
    },
    {
     "name": "stdout",
     "output_type": "stream",
     "text": [
      "Running with config: {'batch_size': 32, 'in_channels': 6, 'learning_rate': 0.1, 'num_epochs': 5, 'num_heads': 4, 'optimizer': 'adam', 'out_channels': 16, 'random_state': 42, 'test_size': 0.3, 'weight_decay': 0.0001}\n"
     ]
    },
    {
     "data": {
      "text/html": [
       "<style>\n",
       "    table.wandb td:nth-child(1) { padding: 0 10px; text-align: left ; width: auto;} td:nth-child(2) {text-align: left ; width: 100%}\n",
       "    .wandb-row { display: flex; flex-direction: row; flex-wrap: wrap; justify-content: flex-start; width: 100% }\n",
       "    .wandb-col { display: flex; flex-direction: column; flex-basis: 100%; flex: 1; padding: 10px; }\n",
       "    </style>\n",
       "<div class=\"wandb-row\"><div class=\"wandb-col\"><h3>Run history:</h3><br/><table class=\"wandb\"><tr><td>epoch</td><td>▁▃▅▆█</td></tr><tr><td>train_accuracy</td><td>▁▄▇▇█</td></tr><tr><td>train_f1</td><td>▁▄▇▇█</td></tr><tr><td>train_loss</td><td>█▄▂▂▁</td></tr><tr><td>val_accuracy</td><td>▁▆▅█▇</td></tr><tr><td>val_f1</td><td>▁▆▆██</td></tr><tr><td>val_loss</td><td>█▅▅▁▁</td></tr></table><br/></div><div class=\"wandb-col\"><h3>Run summary:</h3><br/><table class=\"wandb\"><tr><td>epoch</td><td>5</td></tr><tr><td>train_accuracy</td><td>0.736</td></tr><tr><td>train_f1</td><td>0.72114</td></tr><tr><td>train_loss</td><td>0.51125</td></tr><tr><td>val_accuracy</td><td>0.74074</td></tr><tr><td>val_f1</td><td>0.74074</td></tr><tr><td>val_loss</td><td>0.46474</td></tr></table><br/></div></div>"
      ],
      "text/plain": [
       "<IPython.core.display.HTML object>"
      ]
     },
     "metadata": {},
     "output_type": "display_data"
    },
    {
     "data": {
      "text/html": [
       " View run <strong style=\"color:#cdcd00\">visionary-sweep-24</strong> at: <a href='https://wandb.ai/barbonigiorgia-sapienza-universit-di-roma/graph-classification-graphs_sc/runs/38as8g1l' target=\"_blank\">https://wandb.ai/barbonigiorgia-sapienza-universit-di-roma/graph-classification-graphs_sc/runs/38as8g1l</a><br/> View project at: <a href='https://wandb.ai/barbonigiorgia-sapienza-universit-di-roma/graph-classification-graphs_sc' target=\"_blank\">https://wandb.ai/barbonigiorgia-sapienza-universit-di-roma/graph-classification-graphs_sc</a><br/>Synced 5 W&B file(s), 0 media file(s), 8 artifact file(s) and 0 other file(s)"
      ],
      "text/plain": [
       "<IPython.core.display.HTML object>"
      ]
     },
     "metadata": {},
     "output_type": "display_data"
    },
    {
     "data": {
      "text/html": [
       "Find logs at: <code>.\\wandb\\run-20241119_161912-38as8g1l\\logs</code>"
      ],
      "text/plain": [
       "<IPython.core.display.HTML object>"
      ]
     },
     "metadata": {},
     "output_type": "display_data"
    },
    {
     "name": "stderr",
     "output_type": "stream",
     "text": [
      "\u001b[34m\u001b[1mwandb\u001b[0m: Agent Starting Run: tr5bjgw1 with config:\n",
      "\u001b[34m\u001b[1mwandb\u001b[0m: \tbatch_size: 32\n",
      "\u001b[34m\u001b[1mwandb\u001b[0m: \tin_channels: 6\n",
      "\u001b[34m\u001b[1mwandb\u001b[0m: \tlearning_rate: 0.01\n",
      "\u001b[34m\u001b[1mwandb\u001b[0m: \tnum_epochs: 5\n",
      "\u001b[34m\u001b[1mwandb\u001b[0m: \tnum_heads: 1\n",
      "\u001b[34m\u001b[1mwandb\u001b[0m: \toptimizer: adam\n",
      "\u001b[34m\u001b[1mwandb\u001b[0m: \tout_channels: 8\n",
      "\u001b[34m\u001b[1mwandb\u001b[0m: \trandom_state: 42\n",
      "\u001b[34m\u001b[1mwandb\u001b[0m: \ttest_size: 0.3\n",
      "\u001b[34m\u001b[1mwandb\u001b[0m: \tweight_decay: 0\n"
     ]
    },
    {
     "data": {
      "text/html": [
       "Tracking run with wandb version 0.18.5"
      ],
      "text/plain": [
       "<IPython.core.display.HTML object>"
      ]
     },
     "metadata": {},
     "output_type": "display_data"
    },
    {
     "data": {
      "text/html": [
       "Run data is saved locally in <code>c:\\Users\\barbo\\brain classifier repo\\brain_classifier\\src\\wandb\\run-20241119_161933-tr5bjgw1</code>"
      ],
      "text/plain": [
       "<IPython.core.display.HTML object>"
      ]
     },
     "metadata": {},
     "output_type": "display_data"
    },
    {
     "data": {
      "text/html": [
       "Syncing run <strong><a href='https://wandb.ai/barbonigiorgia-sapienza-universit-di-roma/graph-classification-graphs_sc/runs/tr5bjgw1' target=\"_blank\">jumping-sweep-25</a></strong> to <a href='https://wandb.ai/barbonigiorgia-sapienza-universit-di-roma/graph-classification-graphs_sc' target=\"_blank\">Weights & Biases</a> (<a href='https://wandb.me/run' target=\"_blank\">docs</a>)<br/>Sweep page: <a href='https://wandb.ai/barbonigiorgia-sapienza-universit-di-roma/graph-classification-graphs_sc/sweeps/f8yd3ova' target=\"_blank\">https://wandb.ai/barbonigiorgia-sapienza-universit-di-roma/graph-classification-graphs_sc/sweeps/f8yd3ova</a>"
      ],
      "text/plain": [
       "<IPython.core.display.HTML object>"
      ]
     },
     "metadata": {},
     "output_type": "display_data"
    },
    {
     "data": {
      "text/html": [
       " View project at <a href='https://wandb.ai/barbonigiorgia-sapienza-universit-di-roma/graph-classification-graphs_sc' target=\"_blank\">https://wandb.ai/barbonigiorgia-sapienza-universit-di-roma/graph-classification-graphs_sc</a>"
      ],
      "text/plain": [
       "<IPython.core.display.HTML object>"
      ]
     },
     "metadata": {},
     "output_type": "display_data"
    },
    {
     "data": {
      "text/html": [
       " View sweep at <a href='https://wandb.ai/barbonigiorgia-sapienza-universit-di-roma/graph-classification-graphs_sc/sweeps/f8yd3ova' target=\"_blank\">https://wandb.ai/barbonigiorgia-sapienza-universit-di-roma/graph-classification-graphs_sc/sweeps/f8yd3ova</a>"
      ],
      "text/plain": [
       "<IPython.core.display.HTML object>"
      ]
     },
     "metadata": {},
     "output_type": "display_data"
    },
    {
     "data": {
      "text/html": [
       " View run at <a href='https://wandb.ai/barbonigiorgia-sapienza-universit-di-roma/graph-classification-graphs_sc/runs/tr5bjgw1' target=\"_blank\">https://wandb.ai/barbonigiorgia-sapienza-universit-di-roma/graph-classification-graphs_sc/runs/tr5bjgw1</a>"
      ],
      "text/plain": [
       "<IPython.core.display.HTML object>"
      ]
     },
     "metadata": {},
     "output_type": "display_data"
    },
    {
     "name": "stdout",
     "output_type": "stream",
     "text": [
      "Running with config: {'batch_size': 32, 'in_channels': 6, 'learning_rate': 0.01, 'num_epochs': 5, 'num_heads': 1, 'optimizer': 'adam', 'out_channels': 8, 'random_state': 42, 'test_size': 0.3, 'weight_decay': 0}\n"
     ]
    },
    {
     "data": {
      "text/html": [
       "<style>\n",
       "    table.wandb td:nth-child(1) { padding: 0 10px; text-align: left ; width: auto;} td:nth-child(2) {text-align: left ; width: 100%}\n",
       "    .wandb-row { display: flex; flex-direction: row; flex-wrap: wrap; justify-content: flex-start; width: 100% }\n",
       "    .wandb-col { display: flex; flex-direction: column; flex-basis: 100%; flex: 1; padding: 10px; }\n",
       "    </style>\n",
       "<div class=\"wandb-row\"><div class=\"wandb-col\"><h3>Run history:</h3><br/><table class=\"wandb\"><tr><td>epoch</td><td>▁▃▅▆█</td></tr><tr><td>train_accuracy</td><td>▁▁▁▃█</td></tr><tr><td>train_f1</td><td>▁▁▁▃█</td></tr><tr><td>train_loss</td><td>█▆▄▃▁</td></tr><tr><td>val_accuracy</td><td>▁████</td></tr><tr><td>val_f1</td><td>▁████</td></tr><tr><td>val_loss</td><td>█▇▅▃▁</td></tr></table><br/></div><div class=\"wandb-col\"><h3>Run summary:</h3><br/><table class=\"wandb\"><tr><td>epoch</td><td>5</td></tr><tr><td>train_accuracy</td><td>0.6</td></tr><tr><td>train_f1</td><td>0.47967</td></tr><tr><td>train_loss</td><td>0.64059</td></tr><tr><td>val_accuracy</td><td>0.62963</td></tr><tr><td>val_f1</td><td>0.54365</td></tr><tr><td>val_loss</td><td>0.63517</td></tr></table><br/></div></div>"
      ],
      "text/plain": [
       "<IPython.core.display.HTML object>"
      ]
     },
     "metadata": {},
     "output_type": "display_data"
    },
    {
     "data": {
      "text/html": [
       " View run <strong style=\"color:#cdcd00\">jumping-sweep-25</strong> at: <a href='https://wandb.ai/barbonigiorgia-sapienza-universit-di-roma/graph-classification-graphs_sc/runs/tr5bjgw1' target=\"_blank\">https://wandb.ai/barbonigiorgia-sapienza-universit-di-roma/graph-classification-graphs_sc/runs/tr5bjgw1</a><br/> View project at: <a href='https://wandb.ai/barbonigiorgia-sapienza-universit-di-roma/graph-classification-graphs_sc' target=\"_blank\">https://wandb.ai/barbonigiorgia-sapienza-universit-di-roma/graph-classification-graphs_sc</a><br/>Synced 5 W&B file(s), 0 media file(s), 4 artifact file(s) and 0 other file(s)"
      ],
      "text/plain": [
       "<IPython.core.display.HTML object>"
      ]
     },
     "metadata": {},
     "output_type": "display_data"
    },
    {
     "data": {
      "text/html": [
       "Find logs at: <code>.\\wandb\\run-20241119_161933-tr5bjgw1\\logs</code>"
      ],
      "text/plain": [
       "<IPython.core.display.HTML object>"
      ]
     },
     "metadata": {},
     "output_type": "display_data"
    },
    {
     "name": "stderr",
     "output_type": "stream",
     "text": [
      "\u001b[34m\u001b[1mwandb\u001b[0m: Agent Starting Run: 0heplpx5 with config:\n",
      "\u001b[34m\u001b[1mwandb\u001b[0m: \tbatch_size: 32\n",
      "\u001b[34m\u001b[1mwandb\u001b[0m: \tin_channels: 6\n",
      "\u001b[34m\u001b[1mwandb\u001b[0m: \tlearning_rate: 0.01\n",
      "\u001b[34m\u001b[1mwandb\u001b[0m: \tnum_epochs: 5\n",
      "\u001b[34m\u001b[1mwandb\u001b[0m: \tnum_heads: 1\n",
      "\u001b[34m\u001b[1mwandb\u001b[0m: \toptimizer: adam\n",
      "\u001b[34m\u001b[1mwandb\u001b[0m: \tout_channels: 8\n",
      "\u001b[34m\u001b[1mwandb\u001b[0m: \trandom_state: 42\n",
      "\u001b[34m\u001b[1mwandb\u001b[0m: \ttest_size: 0.3\n",
      "\u001b[34m\u001b[1mwandb\u001b[0m: \tweight_decay: 1e-05\n"
     ]
    },
    {
     "data": {
      "text/html": [
       "Tracking run with wandb version 0.18.5"
      ],
      "text/plain": [
       "<IPython.core.display.HTML object>"
      ]
     },
     "metadata": {},
     "output_type": "display_data"
    },
    {
     "data": {
      "text/html": [
       "Run data is saved locally in <code>c:\\Users\\barbo\\brain classifier repo\\brain_classifier\\src\\wandb\\run-20241119_161943-0heplpx5</code>"
      ],
      "text/plain": [
       "<IPython.core.display.HTML object>"
      ]
     },
     "metadata": {},
     "output_type": "display_data"
    },
    {
     "data": {
      "text/html": [
       "Syncing run <strong><a href='https://wandb.ai/barbonigiorgia-sapienza-universit-di-roma/graph-classification-graphs_sc/runs/0heplpx5' target=\"_blank\">scarlet-sweep-26</a></strong> to <a href='https://wandb.ai/barbonigiorgia-sapienza-universit-di-roma/graph-classification-graphs_sc' target=\"_blank\">Weights & Biases</a> (<a href='https://wandb.me/run' target=\"_blank\">docs</a>)<br/>Sweep page: <a href='https://wandb.ai/barbonigiorgia-sapienza-universit-di-roma/graph-classification-graphs_sc/sweeps/f8yd3ova' target=\"_blank\">https://wandb.ai/barbonigiorgia-sapienza-universit-di-roma/graph-classification-graphs_sc/sweeps/f8yd3ova</a>"
      ],
      "text/plain": [
       "<IPython.core.display.HTML object>"
      ]
     },
     "metadata": {},
     "output_type": "display_data"
    },
    {
     "data": {
      "text/html": [
       " View project at <a href='https://wandb.ai/barbonigiorgia-sapienza-universit-di-roma/graph-classification-graphs_sc' target=\"_blank\">https://wandb.ai/barbonigiorgia-sapienza-universit-di-roma/graph-classification-graphs_sc</a>"
      ],
      "text/plain": [
       "<IPython.core.display.HTML object>"
      ]
     },
     "metadata": {},
     "output_type": "display_data"
    },
    {
     "data": {
      "text/html": [
       " View sweep at <a href='https://wandb.ai/barbonigiorgia-sapienza-universit-di-roma/graph-classification-graphs_sc/sweeps/f8yd3ova' target=\"_blank\">https://wandb.ai/barbonigiorgia-sapienza-universit-di-roma/graph-classification-graphs_sc/sweeps/f8yd3ova</a>"
      ],
      "text/plain": [
       "<IPython.core.display.HTML object>"
      ]
     },
     "metadata": {},
     "output_type": "display_data"
    },
    {
     "data": {
      "text/html": [
       " View run at <a href='https://wandb.ai/barbonigiorgia-sapienza-universit-di-roma/graph-classification-graphs_sc/runs/0heplpx5' target=\"_blank\">https://wandb.ai/barbonigiorgia-sapienza-universit-di-roma/graph-classification-graphs_sc/runs/0heplpx5</a>"
      ],
      "text/plain": [
       "<IPython.core.display.HTML object>"
      ]
     },
     "metadata": {},
     "output_type": "display_data"
    },
    {
     "name": "stdout",
     "output_type": "stream",
     "text": [
      "Running with config: {'batch_size': 32, 'in_channels': 6, 'learning_rate': 0.01, 'num_epochs': 5, 'num_heads': 1, 'optimizer': 'adam', 'out_channels': 8, 'random_state': 42, 'test_size': 0.3, 'weight_decay': 1e-05}\n"
     ]
    },
    {
     "data": {
      "text/html": [
       "<style>\n",
       "    table.wandb td:nth-child(1) { padding: 0 10px; text-align: left ; width: auto;} td:nth-child(2) {text-align: left ; width: 100%}\n",
       "    .wandb-row { display: flex; flex-direction: row; flex-wrap: wrap; justify-content: flex-start; width: 100% }\n",
       "    .wandb-col { display: flex; flex-direction: column; flex-basis: 100%; flex: 1; padding: 10px; }\n",
       "    </style>\n",
       "<div class=\"wandb-row\"><div class=\"wandb-col\"><h3>Run history:</h3><br/><table class=\"wandb\"><tr><td>epoch</td><td>▁▃▅▆█</td></tr><tr><td>train_accuracy</td><td>▁▁▁▃█</td></tr><tr><td>train_f1</td><td>▁▁▁▃█</td></tr><tr><td>train_loss</td><td>█▆▄▃▁</td></tr><tr><td>val_accuracy</td><td>▁████</td></tr><tr><td>val_f1</td><td>▁████</td></tr><tr><td>val_loss</td><td>█▇▅▃▁</td></tr></table><br/></div><div class=\"wandb-col\"><h3>Run summary:</h3><br/><table class=\"wandb\"><tr><td>epoch</td><td>5</td></tr><tr><td>train_accuracy</td><td>0.6</td></tr><tr><td>train_f1</td><td>0.47967</td></tr><tr><td>train_loss</td><td>0.6406</td></tr><tr><td>val_accuracy</td><td>0.62963</td></tr><tr><td>val_f1</td><td>0.54365</td></tr><tr><td>val_loss</td><td>0.63517</td></tr></table><br/></div></div>"
      ],
      "text/plain": [
       "<IPython.core.display.HTML object>"
      ]
     },
     "metadata": {},
     "output_type": "display_data"
    },
    {
     "data": {
      "text/html": [
       " View run <strong style=\"color:#cdcd00\">scarlet-sweep-26</strong> at: <a href='https://wandb.ai/barbonigiorgia-sapienza-universit-di-roma/graph-classification-graphs_sc/runs/0heplpx5' target=\"_blank\">https://wandb.ai/barbonigiorgia-sapienza-universit-di-roma/graph-classification-graphs_sc/runs/0heplpx5</a><br/> View project at: <a href='https://wandb.ai/barbonigiorgia-sapienza-universit-di-roma/graph-classification-graphs_sc' target=\"_blank\">https://wandb.ai/barbonigiorgia-sapienza-universit-di-roma/graph-classification-graphs_sc</a><br/>Synced 5 W&B file(s), 0 media file(s), 4 artifact file(s) and 0 other file(s)"
      ],
      "text/plain": [
       "<IPython.core.display.HTML object>"
      ]
     },
     "metadata": {},
     "output_type": "display_data"
    },
    {
     "data": {
      "text/html": [
       "Find logs at: <code>.\\wandb\\run-20241119_161943-0heplpx5\\logs</code>"
      ],
      "text/plain": [
       "<IPython.core.display.HTML object>"
      ]
     },
     "metadata": {},
     "output_type": "display_data"
    },
    {
     "name": "stderr",
     "output_type": "stream",
     "text": [
      "\u001b[34m\u001b[1mwandb\u001b[0m: Agent Starting Run: puluh3hg with config:\n",
      "\u001b[34m\u001b[1mwandb\u001b[0m: \tbatch_size: 32\n",
      "\u001b[34m\u001b[1mwandb\u001b[0m: \tin_channels: 6\n",
      "\u001b[34m\u001b[1mwandb\u001b[0m: \tlearning_rate: 0.01\n",
      "\u001b[34m\u001b[1mwandb\u001b[0m: \tnum_epochs: 5\n",
      "\u001b[34m\u001b[1mwandb\u001b[0m: \tnum_heads: 1\n",
      "\u001b[34m\u001b[1mwandb\u001b[0m: \toptimizer: adam\n",
      "\u001b[34m\u001b[1mwandb\u001b[0m: \tout_channels: 8\n",
      "\u001b[34m\u001b[1mwandb\u001b[0m: \trandom_state: 42\n",
      "\u001b[34m\u001b[1mwandb\u001b[0m: \ttest_size: 0.3\n",
      "\u001b[34m\u001b[1mwandb\u001b[0m: \tweight_decay: 0.0001\n"
     ]
    },
    {
     "data": {
      "text/html": [
       "Tracking run with wandb version 0.18.5"
      ],
      "text/plain": [
       "<IPython.core.display.HTML object>"
      ]
     },
     "metadata": {},
     "output_type": "display_data"
    },
    {
     "data": {
      "text/html": [
       "Run data is saved locally in <code>c:\\Users\\barbo\\brain classifier repo\\brain_classifier\\src\\wandb\\run-20241119_161954-puluh3hg</code>"
      ],
      "text/plain": [
       "<IPython.core.display.HTML object>"
      ]
     },
     "metadata": {},
     "output_type": "display_data"
    },
    {
     "data": {
      "text/html": [
       "Syncing run <strong><a href='https://wandb.ai/barbonigiorgia-sapienza-universit-di-roma/graph-classification-graphs_sc/runs/puluh3hg' target=\"_blank\">misunderstood-sweep-27</a></strong> to <a href='https://wandb.ai/barbonigiorgia-sapienza-universit-di-roma/graph-classification-graphs_sc' target=\"_blank\">Weights & Biases</a> (<a href='https://wandb.me/run' target=\"_blank\">docs</a>)<br/>Sweep page: <a href='https://wandb.ai/barbonigiorgia-sapienza-universit-di-roma/graph-classification-graphs_sc/sweeps/f8yd3ova' target=\"_blank\">https://wandb.ai/barbonigiorgia-sapienza-universit-di-roma/graph-classification-graphs_sc/sweeps/f8yd3ova</a>"
      ],
      "text/plain": [
       "<IPython.core.display.HTML object>"
      ]
     },
     "metadata": {},
     "output_type": "display_data"
    },
    {
     "data": {
      "text/html": [
       " View project at <a href='https://wandb.ai/barbonigiorgia-sapienza-universit-di-roma/graph-classification-graphs_sc' target=\"_blank\">https://wandb.ai/barbonigiorgia-sapienza-universit-di-roma/graph-classification-graphs_sc</a>"
      ],
      "text/plain": [
       "<IPython.core.display.HTML object>"
      ]
     },
     "metadata": {},
     "output_type": "display_data"
    },
    {
     "data": {
      "text/html": [
       " View sweep at <a href='https://wandb.ai/barbonigiorgia-sapienza-universit-di-roma/graph-classification-graphs_sc/sweeps/f8yd3ova' target=\"_blank\">https://wandb.ai/barbonigiorgia-sapienza-universit-di-roma/graph-classification-graphs_sc/sweeps/f8yd3ova</a>"
      ],
      "text/plain": [
       "<IPython.core.display.HTML object>"
      ]
     },
     "metadata": {},
     "output_type": "display_data"
    },
    {
     "data": {
      "text/html": [
       " View run at <a href='https://wandb.ai/barbonigiorgia-sapienza-universit-di-roma/graph-classification-graphs_sc/runs/puluh3hg' target=\"_blank\">https://wandb.ai/barbonigiorgia-sapienza-universit-di-roma/graph-classification-graphs_sc/runs/puluh3hg</a>"
      ],
      "text/plain": [
       "<IPython.core.display.HTML object>"
      ]
     },
     "metadata": {},
     "output_type": "display_data"
    },
    {
     "name": "stdout",
     "output_type": "stream",
     "text": [
      "Running with config: {'batch_size': 32, 'in_channels': 6, 'learning_rate': 0.01, 'num_epochs': 5, 'num_heads': 1, 'optimizer': 'adam', 'out_channels': 8, 'random_state': 42, 'test_size': 0.3, 'weight_decay': 0.0001}\n"
     ]
    },
    {
     "data": {
      "text/html": [
       "<style>\n",
       "    table.wandb td:nth-child(1) { padding: 0 10px; text-align: left ; width: auto;} td:nth-child(2) {text-align: left ; width: 100%}\n",
       "    .wandb-row { display: flex; flex-direction: row; flex-wrap: wrap; justify-content: flex-start; width: 100% }\n",
       "    .wandb-col { display: flex; flex-direction: column; flex-basis: 100%; flex: 1; padding: 10px; }\n",
       "    </style>\n",
       "<div class=\"wandb-row\"><div class=\"wandb-col\"><h3>Run history:</h3><br/><table class=\"wandb\"><tr><td>epoch</td><td>▁▃▅▆█</td></tr><tr><td>train_accuracy</td><td>▁▁▁▃█</td></tr><tr><td>train_f1</td><td>▁▁▁▃█</td></tr><tr><td>train_loss</td><td>█▆▄▃▁</td></tr><tr><td>val_accuracy</td><td>▁████</td></tr><tr><td>val_f1</td><td>▁████</td></tr><tr><td>val_loss</td><td>█▇▅▃▁</td></tr></table><br/></div><div class=\"wandb-col\"><h3>Run summary:</h3><br/><table class=\"wandb\"><tr><td>epoch</td><td>5</td></tr><tr><td>train_accuracy</td><td>0.6</td></tr><tr><td>train_f1</td><td>0.47967</td></tr><tr><td>train_loss</td><td>0.64061</td></tr><tr><td>val_accuracy</td><td>0.62963</td></tr><tr><td>val_f1</td><td>0.54365</td></tr><tr><td>val_loss</td><td>0.63517</td></tr></table><br/></div></div>"
      ],
      "text/plain": [
       "<IPython.core.display.HTML object>"
      ]
     },
     "metadata": {},
     "output_type": "display_data"
    },
    {
     "data": {
      "text/html": [
       " View run <strong style=\"color:#cdcd00\">misunderstood-sweep-27</strong> at: <a href='https://wandb.ai/barbonigiorgia-sapienza-universit-di-roma/graph-classification-graphs_sc/runs/puluh3hg' target=\"_blank\">https://wandb.ai/barbonigiorgia-sapienza-universit-di-roma/graph-classification-graphs_sc/runs/puluh3hg</a><br/> View project at: <a href='https://wandb.ai/barbonigiorgia-sapienza-universit-di-roma/graph-classification-graphs_sc' target=\"_blank\">https://wandb.ai/barbonigiorgia-sapienza-universit-di-roma/graph-classification-graphs_sc</a><br/>Synced 5 W&B file(s), 0 media file(s), 4 artifact file(s) and 0 other file(s)"
      ],
      "text/plain": [
       "<IPython.core.display.HTML object>"
      ]
     },
     "metadata": {},
     "output_type": "display_data"
    },
    {
     "data": {
      "text/html": [
       "Find logs at: <code>.\\wandb\\run-20241119_161954-puluh3hg\\logs</code>"
      ],
      "text/plain": [
       "<IPython.core.display.HTML object>"
      ]
     },
     "metadata": {},
     "output_type": "display_data"
    },
    {
     "name": "stderr",
     "output_type": "stream",
     "text": [
      "\u001b[34m\u001b[1mwandb\u001b[0m: Agent Starting Run: o6geddli with config:\n",
      "\u001b[34m\u001b[1mwandb\u001b[0m: \tbatch_size: 32\n",
      "\u001b[34m\u001b[1mwandb\u001b[0m: \tin_channels: 6\n",
      "\u001b[34m\u001b[1mwandb\u001b[0m: \tlearning_rate: 0.01\n",
      "\u001b[34m\u001b[1mwandb\u001b[0m: \tnum_epochs: 5\n",
      "\u001b[34m\u001b[1mwandb\u001b[0m: \tnum_heads: 1\n",
      "\u001b[34m\u001b[1mwandb\u001b[0m: \toptimizer: adam\n",
      "\u001b[34m\u001b[1mwandb\u001b[0m: \tout_channels: 16\n",
      "\u001b[34m\u001b[1mwandb\u001b[0m: \trandom_state: 42\n",
      "\u001b[34m\u001b[1mwandb\u001b[0m: \ttest_size: 0.3\n",
      "\u001b[34m\u001b[1mwandb\u001b[0m: \tweight_decay: 0\n"
     ]
    },
    {
     "data": {
      "text/html": [
       "Tracking run with wandb version 0.18.5"
      ],
      "text/plain": [
       "<IPython.core.display.HTML object>"
      ]
     },
     "metadata": {},
     "output_type": "display_data"
    },
    {
     "data": {
      "text/html": [
       "Run data is saved locally in <code>c:\\Users\\barbo\\brain classifier repo\\brain_classifier\\src\\wandb\\run-20241119_162005-o6geddli</code>"
      ],
      "text/plain": [
       "<IPython.core.display.HTML object>"
      ]
     },
     "metadata": {},
     "output_type": "display_data"
    },
    {
     "data": {
      "text/html": [
       "Syncing run <strong><a href='https://wandb.ai/barbonigiorgia-sapienza-universit-di-roma/graph-classification-graphs_sc/runs/o6geddli' target=\"_blank\">sleek-sweep-28</a></strong> to <a href='https://wandb.ai/barbonigiorgia-sapienza-universit-di-roma/graph-classification-graphs_sc' target=\"_blank\">Weights & Biases</a> (<a href='https://wandb.me/run' target=\"_blank\">docs</a>)<br/>Sweep page: <a href='https://wandb.ai/barbonigiorgia-sapienza-universit-di-roma/graph-classification-graphs_sc/sweeps/f8yd3ova' target=\"_blank\">https://wandb.ai/barbonigiorgia-sapienza-universit-di-roma/graph-classification-graphs_sc/sweeps/f8yd3ova</a>"
      ],
      "text/plain": [
       "<IPython.core.display.HTML object>"
      ]
     },
     "metadata": {},
     "output_type": "display_data"
    },
    {
     "data": {
      "text/html": [
       " View project at <a href='https://wandb.ai/barbonigiorgia-sapienza-universit-di-roma/graph-classification-graphs_sc' target=\"_blank\">https://wandb.ai/barbonigiorgia-sapienza-universit-di-roma/graph-classification-graphs_sc</a>"
      ],
      "text/plain": [
       "<IPython.core.display.HTML object>"
      ]
     },
     "metadata": {},
     "output_type": "display_data"
    },
    {
     "data": {
      "text/html": [
       " View sweep at <a href='https://wandb.ai/barbonigiorgia-sapienza-universit-di-roma/graph-classification-graphs_sc/sweeps/f8yd3ova' target=\"_blank\">https://wandb.ai/barbonigiorgia-sapienza-universit-di-roma/graph-classification-graphs_sc/sweeps/f8yd3ova</a>"
      ],
      "text/plain": [
       "<IPython.core.display.HTML object>"
      ]
     },
     "metadata": {},
     "output_type": "display_data"
    },
    {
     "data": {
      "text/html": [
       " View run at <a href='https://wandb.ai/barbonigiorgia-sapienza-universit-di-roma/graph-classification-graphs_sc/runs/o6geddli' target=\"_blank\">https://wandb.ai/barbonigiorgia-sapienza-universit-di-roma/graph-classification-graphs_sc/runs/o6geddli</a>"
      ],
      "text/plain": [
       "<IPython.core.display.HTML object>"
      ]
     },
     "metadata": {},
     "output_type": "display_data"
    },
    {
     "name": "stdout",
     "output_type": "stream",
     "text": [
      "Running with config: {'batch_size': 32, 'in_channels': 6, 'learning_rate': 0.01, 'num_epochs': 5, 'num_heads': 1, 'optimizer': 'adam', 'out_channels': 16, 'random_state': 42, 'test_size': 0.3, 'weight_decay': 0}\n"
     ]
    },
    {
     "data": {
      "text/html": [
       "<style>\n",
       "    table.wandb td:nth-child(1) { padding: 0 10px; text-align: left ; width: auto;} td:nth-child(2) {text-align: left ; width: 100%}\n",
       "    .wandb-row { display: flex; flex-direction: row; flex-wrap: wrap; justify-content: flex-start; width: 100% }\n",
       "    .wandb-col { display: flex; flex-direction: column; flex-basis: 100%; flex: 1; padding: 10px; }\n",
       "    </style>\n",
       "<div class=\"wandb-row\"><div class=\"wandb-col\"><h3>Run history:</h3><br/><table class=\"wandb\"><tr><td>epoch</td><td>▁▃▅▆█</td></tr><tr><td>train_accuracy</td><td>▁▁▁▁█</td></tr><tr><td>train_f1</td><td>▁▁▁▁█</td></tr><tr><td>train_loss</td><td>█▆▅▃▁</td></tr><tr><td>val_accuracy</td><td>▁▁▁▃█</td></tr><tr><td>val_f1</td><td>▁▁▁▄█</td></tr><tr><td>val_loss</td><td>█▇▅▃▁</td></tr></table><br/></div><div class=\"wandb-col\"><h3>Run summary:</h3><br/><table class=\"wandb\"><tr><td>epoch</td><td>5</td></tr><tr><td>train_accuracy</td><td>0.584</td></tr><tr><td>train_f1</td><td>0.44661</td></tr><tr><td>train_loss</td><td>0.65073</td></tr><tr><td>val_accuracy</td><td>0.66667</td></tr><tr><td>val_f1</td><td>0.60513</td></tr><tr><td>val_loss</td><td>0.64014</td></tr></table><br/></div></div>"
      ],
      "text/plain": [
       "<IPython.core.display.HTML object>"
      ]
     },
     "metadata": {},
     "output_type": "display_data"
    },
    {
     "data": {
      "text/html": [
       " View run <strong style=\"color:#cdcd00\">sleek-sweep-28</strong> at: <a href='https://wandb.ai/barbonigiorgia-sapienza-universit-di-roma/graph-classification-graphs_sc/runs/o6geddli' target=\"_blank\">https://wandb.ai/barbonigiorgia-sapienza-universit-di-roma/graph-classification-graphs_sc/runs/o6geddli</a><br/> View project at: <a href='https://wandb.ai/barbonigiorgia-sapienza-universit-di-roma/graph-classification-graphs_sc' target=\"_blank\">https://wandb.ai/barbonigiorgia-sapienza-universit-di-roma/graph-classification-graphs_sc</a><br/>Synced 5 W&B file(s), 0 media file(s), 8 artifact file(s) and 0 other file(s)"
      ],
      "text/plain": [
       "<IPython.core.display.HTML object>"
      ]
     },
     "metadata": {},
     "output_type": "display_data"
    },
    {
     "data": {
      "text/html": [
       "Find logs at: <code>.\\wandb\\run-20241119_162005-o6geddli\\logs</code>"
      ],
      "text/plain": [
       "<IPython.core.display.HTML object>"
      ]
     },
     "metadata": {},
     "output_type": "display_data"
    },
    {
     "name": "stderr",
     "output_type": "stream",
     "text": [
      "\u001b[34m\u001b[1mwandb\u001b[0m: Agent Starting Run: d6uu4iuw with config:\n",
      "\u001b[34m\u001b[1mwandb\u001b[0m: \tbatch_size: 32\n",
      "\u001b[34m\u001b[1mwandb\u001b[0m: \tin_channels: 6\n",
      "\u001b[34m\u001b[1mwandb\u001b[0m: \tlearning_rate: 0.01\n",
      "\u001b[34m\u001b[1mwandb\u001b[0m: \tnum_epochs: 5\n",
      "\u001b[34m\u001b[1mwandb\u001b[0m: \tnum_heads: 1\n",
      "\u001b[34m\u001b[1mwandb\u001b[0m: \toptimizer: adam\n",
      "\u001b[34m\u001b[1mwandb\u001b[0m: \tout_channels: 16\n",
      "\u001b[34m\u001b[1mwandb\u001b[0m: \trandom_state: 42\n",
      "\u001b[34m\u001b[1mwandb\u001b[0m: \ttest_size: 0.3\n",
      "\u001b[34m\u001b[1mwandb\u001b[0m: \tweight_decay: 1e-05\n"
     ]
    },
    {
     "data": {
      "text/html": [
       "Tracking run with wandb version 0.18.5"
      ],
      "text/plain": [
       "<IPython.core.display.HTML object>"
      ]
     },
     "metadata": {},
     "output_type": "display_data"
    },
    {
     "data": {
      "text/html": [
       "Run data is saved locally in <code>c:\\Users\\barbo\\brain classifier repo\\brain_classifier\\src\\wandb\\run-20241119_162021-d6uu4iuw</code>"
      ],
      "text/plain": [
       "<IPython.core.display.HTML object>"
      ]
     },
     "metadata": {},
     "output_type": "display_data"
    },
    {
     "data": {
      "text/html": [
       "Syncing run <strong><a href='https://wandb.ai/barbonigiorgia-sapienza-universit-di-roma/graph-classification-graphs_sc/runs/d6uu4iuw' target=\"_blank\">likely-sweep-29</a></strong> to <a href='https://wandb.ai/barbonigiorgia-sapienza-universit-di-roma/graph-classification-graphs_sc' target=\"_blank\">Weights & Biases</a> (<a href='https://wandb.me/run' target=\"_blank\">docs</a>)<br/>Sweep page: <a href='https://wandb.ai/barbonigiorgia-sapienza-universit-di-roma/graph-classification-graphs_sc/sweeps/f8yd3ova' target=\"_blank\">https://wandb.ai/barbonigiorgia-sapienza-universit-di-roma/graph-classification-graphs_sc/sweeps/f8yd3ova</a>"
      ],
      "text/plain": [
       "<IPython.core.display.HTML object>"
      ]
     },
     "metadata": {},
     "output_type": "display_data"
    },
    {
     "data": {
      "text/html": [
       " View project at <a href='https://wandb.ai/barbonigiorgia-sapienza-universit-di-roma/graph-classification-graphs_sc' target=\"_blank\">https://wandb.ai/barbonigiorgia-sapienza-universit-di-roma/graph-classification-graphs_sc</a>"
      ],
      "text/plain": [
       "<IPython.core.display.HTML object>"
      ]
     },
     "metadata": {},
     "output_type": "display_data"
    },
    {
     "data": {
      "text/html": [
       " View sweep at <a href='https://wandb.ai/barbonigiorgia-sapienza-universit-di-roma/graph-classification-graphs_sc/sweeps/f8yd3ova' target=\"_blank\">https://wandb.ai/barbonigiorgia-sapienza-universit-di-roma/graph-classification-graphs_sc/sweeps/f8yd3ova</a>"
      ],
      "text/plain": [
       "<IPython.core.display.HTML object>"
      ]
     },
     "metadata": {},
     "output_type": "display_data"
    },
    {
     "data": {
      "text/html": [
       " View run at <a href='https://wandb.ai/barbonigiorgia-sapienza-universit-di-roma/graph-classification-graphs_sc/runs/d6uu4iuw' target=\"_blank\">https://wandb.ai/barbonigiorgia-sapienza-universit-di-roma/graph-classification-graphs_sc/runs/d6uu4iuw</a>"
      ],
      "text/plain": [
       "<IPython.core.display.HTML object>"
      ]
     },
     "metadata": {},
     "output_type": "display_data"
    },
    {
     "name": "stdout",
     "output_type": "stream",
     "text": [
      "Running with config: {'batch_size': 32, 'in_channels': 6, 'learning_rate': 0.01, 'num_epochs': 5, 'num_heads': 1, 'optimizer': 'adam', 'out_channels': 16, 'random_state': 42, 'test_size': 0.3, 'weight_decay': 1e-05}\n"
     ]
    },
    {
     "data": {
      "text/html": [
       "<style>\n",
       "    table.wandb td:nth-child(1) { padding: 0 10px; text-align: left ; width: auto;} td:nth-child(2) {text-align: left ; width: 100%}\n",
       "    .wandb-row { display: flex; flex-direction: row; flex-wrap: wrap; justify-content: flex-start; width: 100% }\n",
       "    .wandb-col { display: flex; flex-direction: column; flex-basis: 100%; flex: 1; padding: 10px; }\n",
       "    </style>\n",
       "<div class=\"wandb-row\"><div class=\"wandb-col\"><h3>Run history:</h3><br/><table class=\"wandb\"><tr><td>epoch</td><td>▁▃▅▆█</td></tr><tr><td>train_accuracy</td><td>▁▁▁▁█</td></tr><tr><td>train_f1</td><td>▁▁▁▁█</td></tr><tr><td>train_loss</td><td>█▆▅▃▁</td></tr><tr><td>val_accuracy</td><td>▁▁▁▃█</td></tr><tr><td>val_f1</td><td>▁▁▁▄█</td></tr><tr><td>val_loss</td><td>█▇▅▃▁</td></tr></table><br/></div><div class=\"wandb-col\"><h3>Run summary:</h3><br/><table class=\"wandb\"><tr><td>epoch</td><td>5</td></tr><tr><td>train_accuracy</td><td>0.584</td></tr><tr><td>train_f1</td><td>0.44661</td></tr><tr><td>train_loss</td><td>0.65077</td></tr><tr><td>val_accuracy</td><td>0.66667</td></tr><tr><td>val_f1</td><td>0.60513</td></tr><tr><td>val_loss</td><td>0.6402</td></tr></table><br/></div></div>"
      ],
      "text/plain": [
       "<IPython.core.display.HTML object>"
      ]
     },
     "metadata": {},
     "output_type": "display_data"
    },
    {
     "data": {
      "text/html": [
       " View run <strong style=\"color:#cdcd00\">likely-sweep-29</strong> at: <a href='https://wandb.ai/barbonigiorgia-sapienza-universit-di-roma/graph-classification-graphs_sc/runs/d6uu4iuw' target=\"_blank\">https://wandb.ai/barbonigiorgia-sapienza-universit-di-roma/graph-classification-graphs_sc/runs/d6uu4iuw</a><br/> View project at: <a href='https://wandb.ai/barbonigiorgia-sapienza-universit-di-roma/graph-classification-graphs_sc' target=\"_blank\">https://wandb.ai/barbonigiorgia-sapienza-universit-di-roma/graph-classification-graphs_sc</a><br/>Synced 5 W&B file(s), 0 media file(s), 8 artifact file(s) and 0 other file(s)"
      ],
      "text/plain": [
       "<IPython.core.display.HTML object>"
      ]
     },
     "metadata": {},
     "output_type": "display_data"
    },
    {
     "data": {
      "text/html": [
       "Find logs at: <code>.\\wandb\\run-20241119_162021-d6uu4iuw\\logs</code>"
      ],
      "text/plain": [
       "<IPython.core.display.HTML object>"
      ]
     },
     "metadata": {},
     "output_type": "display_data"
    },
    {
     "name": "stderr",
     "output_type": "stream",
     "text": [
      "\u001b[34m\u001b[1mwandb\u001b[0m: Agent Starting Run: 3tcpmd5n with config:\n",
      "\u001b[34m\u001b[1mwandb\u001b[0m: \tbatch_size: 32\n",
      "\u001b[34m\u001b[1mwandb\u001b[0m: \tin_channels: 6\n",
      "\u001b[34m\u001b[1mwandb\u001b[0m: \tlearning_rate: 0.01\n",
      "\u001b[34m\u001b[1mwandb\u001b[0m: \tnum_epochs: 5\n",
      "\u001b[34m\u001b[1mwandb\u001b[0m: \tnum_heads: 1\n",
      "\u001b[34m\u001b[1mwandb\u001b[0m: \toptimizer: adam\n",
      "\u001b[34m\u001b[1mwandb\u001b[0m: \tout_channels: 16\n",
      "\u001b[34m\u001b[1mwandb\u001b[0m: \trandom_state: 42\n",
      "\u001b[34m\u001b[1mwandb\u001b[0m: \ttest_size: 0.3\n",
      "\u001b[34m\u001b[1mwandb\u001b[0m: \tweight_decay: 0.0001\n"
     ]
    },
    {
     "data": {
      "text/html": [
       "Tracking run with wandb version 0.18.5"
      ],
      "text/plain": [
       "<IPython.core.display.HTML object>"
      ]
     },
     "metadata": {},
     "output_type": "display_data"
    },
    {
     "data": {
      "text/html": [
       "Run data is saved locally in <code>c:\\Users\\barbo\\brain classifier repo\\brain_classifier\\src\\wandb\\run-20241119_162036-3tcpmd5n</code>"
      ],
      "text/plain": [
       "<IPython.core.display.HTML object>"
      ]
     },
     "metadata": {},
     "output_type": "display_data"
    },
    {
     "data": {
      "text/html": [
       "Syncing run <strong><a href='https://wandb.ai/barbonigiorgia-sapienza-universit-di-roma/graph-classification-graphs_sc/runs/3tcpmd5n' target=\"_blank\">peach-sweep-30</a></strong> to <a href='https://wandb.ai/barbonigiorgia-sapienza-universit-di-roma/graph-classification-graphs_sc' target=\"_blank\">Weights & Biases</a> (<a href='https://wandb.me/run' target=\"_blank\">docs</a>)<br/>Sweep page: <a href='https://wandb.ai/barbonigiorgia-sapienza-universit-di-roma/graph-classification-graphs_sc/sweeps/f8yd3ova' target=\"_blank\">https://wandb.ai/barbonigiorgia-sapienza-universit-di-roma/graph-classification-graphs_sc/sweeps/f8yd3ova</a>"
      ],
      "text/plain": [
       "<IPython.core.display.HTML object>"
      ]
     },
     "metadata": {},
     "output_type": "display_data"
    },
    {
     "data": {
      "text/html": [
       " View project at <a href='https://wandb.ai/barbonigiorgia-sapienza-universit-di-roma/graph-classification-graphs_sc' target=\"_blank\">https://wandb.ai/barbonigiorgia-sapienza-universit-di-roma/graph-classification-graphs_sc</a>"
      ],
      "text/plain": [
       "<IPython.core.display.HTML object>"
      ]
     },
     "metadata": {},
     "output_type": "display_data"
    },
    {
     "data": {
      "text/html": [
       " View sweep at <a href='https://wandb.ai/barbonigiorgia-sapienza-universit-di-roma/graph-classification-graphs_sc/sweeps/f8yd3ova' target=\"_blank\">https://wandb.ai/barbonigiorgia-sapienza-universit-di-roma/graph-classification-graphs_sc/sweeps/f8yd3ova</a>"
      ],
      "text/plain": [
       "<IPython.core.display.HTML object>"
      ]
     },
     "metadata": {},
     "output_type": "display_data"
    },
    {
     "data": {
      "text/html": [
       " View run at <a href='https://wandb.ai/barbonigiorgia-sapienza-universit-di-roma/graph-classification-graphs_sc/runs/3tcpmd5n' target=\"_blank\">https://wandb.ai/barbonigiorgia-sapienza-universit-di-roma/graph-classification-graphs_sc/runs/3tcpmd5n</a>"
      ],
      "text/plain": [
       "<IPython.core.display.HTML object>"
      ]
     },
     "metadata": {},
     "output_type": "display_data"
    },
    {
     "name": "stdout",
     "output_type": "stream",
     "text": [
      "Running with config: {'batch_size': 32, 'in_channels': 6, 'learning_rate': 0.01, 'num_epochs': 5, 'num_heads': 1, 'optimizer': 'adam', 'out_channels': 16, 'random_state': 42, 'test_size': 0.3, 'weight_decay': 0.0001}\n"
     ]
    },
    {
     "data": {
      "text/html": [
       "<style>\n",
       "    table.wandb td:nth-child(1) { padding: 0 10px; text-align: left ; width: auto;} td:nth-child(2) {text-align: left ; width: 100%}\n",
       "    .wandb-row { display: flex; flex-direction: row; flex-wrap: wrap; justify-content: flex-start; width: 100% }\n",
       "    .wandb-col { display: flex; flex-direction: column; flex-basis: 100%; flex: 1; padding: 10px; }\n",
       "    </style>\n",
       "<div class=\"wandb-row\"><div class=\"wandb-col\"><h3>Run history:</h3><br/><table class=\"wandb\"><tr><td>epoch</td><td>▁▃▅▆█</td></tr><tr><td>train_accuracy</td><td>▁▁▁▁█</td></tr><tr><td>train_f1</td><td>▁▁▁▁█</td></tr><tr><td>train_loss</td><td>█▆▅▃▁</td></tr><tr><td>val_accuracy</td><td>▁▁▁▅█</td></tr><tr><td>val_f1</td><td>▁▁▁▅█</td></tr><tr><td>val_loss</td><td>█▇▅▃▁</td></tr></table><br/></div><div class=\"wandb-col\"><h3>Run summary:</h3><br/><table class=\"wandb\"><tr><td>epoch</td><td>5</td></tr><tr><td>train_accuracy</td><td>0.576</td></tr><tr><td>train_f1</td><td>0.42933</td></tr><tr><td>train_loss</td><td>0.65122</td></tr><tr><td>val_accuracy</td><td>0.62963</td></tr><tr><td>val_f1</td><td>0.54365</td></tr><tr><td>val_loss</td><td>0.64097</td></tr></table><br/></div></div>"
      ],
      "text/plain": [
       "<IPython.core.display.HTML object>"
      ]
     },
     "metadata": {},
     "output_type": "display_data"
    },
    {
     "data": {
      "text/html": [
       " View run <strong style=\"color:#cdcd00\">peach-sweep-30</strong> at: <a href='https://wandb.ai/barbonigiorgia-sapienza-universit-di-roma/graph-classification-graphs_sc/runs/3tcpmd5n' target=\"_blank\">https://wandb.ai/barbonigiorgia-sapienza-universit-di-roma/graph-classification-graphs_sc/runs/3tcpmd5n</a><br/> View project at: <a href='https://wandb.ai/barbonigiorgia-sapienza-universit-di-roma/graph-classification-graphs_sc' target=\"_blank\">https://wandb.ai/barbonigiorgia-sapienza-universit-di-roma/graph-classification-graphs_sc</a><br/>Synced 5 W&B file(s), 0 media file(s), 8 artifact file(s) and 0 other file(s)"
      ],
      "text/plain": [
       "<IPython.core.display.HTML object>"
      ]
     },
     "metadata": {},
     "output_type": "display_data"
    },
    {
     "data": {
      "text/html": [
       "Find logs at: <code>.\\wandb\\run-20241119_162036-3tcpmd5n\\logs</code>"
      ],
      "text/plain": [
       "<IPython.core.display.HTML object>"
      ]
     },
     "metadata": {},
     "output_type": "display_data"
    },
    {
     "name": "stderr",
     "output_type": "stream",
     "text": [
      "\u001b[34m\u001b[1mwandb\u001b[0m: Agent Starting Run: nls4s22g with config:\n",
      "\u001b[34m\u001b[1mwandb\u001b[0m: \tbatch_size: 32\n",
      "\u001b[34m\u001b[1mwandb\u001b[0m: \tin_channels: 6\n",
      "\u001b[34m\u001b[1mwandb\u001b[0m: \tlearning_rate: 0.01\n",
      "\u001b[34m\u001b[1mwandb\u001b[0m: \tnum_epochs: 5\n",
      "\u001b[34m\u001b[1mwandb\u001b[0m: \tnum_heads: 2\n",
      "\u001b[34m\u001b[1mwandb\u001b[0m: \toptimizer: adam\n",
      "\u001b[34m\u001b[1mwandb\u001b[0m: \tout_channels: 8\n",
      "\u001b[34m\u001b[1mwandb\u001b[0m: \trandom_state: 42\n",
      "\u001b[34m\u001b[1mwandb\u001b[0m: \ttest_size: 0.3\n",
      "\u001b[34m\u001b[1mwandb\u001b[0m: \tweight_decay: 0\n"
     ]
    },
    {
     "data": {
      "text/html": [
       "Tracking run with wandb version 0.18.5"
      ],
      "text/plain": [
       "<IPython.core.display.HTML object>"
      ]
     },
     "metadata": {},
     "output_type": "display_data"
    },
    {
     "data": {
      "text/html": [
       "Run data is saved locally in <code>c:\\Users\\barbo\\brain classifier repo\\brain_classifier\\src\\wandb\\run-20241119_162052-nls4s22g</code>"
      ],
      "text/plain": [
       "<IPython.core.display.HTML object>"
      ]
     },
     "metadata": {},
     "output_type": "display_data"
    },
    {
     "data": {
      "text/html": [
       "Syncing run <strong><a href='https://wandb.ai/barbonigiorgia-sapienza-universit-di-roma/graph-classification-graphs_sc/runs/nls4s22g' target=\"_blank\">olive-sweep-31</a></strong> to <a href='https://wandb.ai/barbonigiorgia-sapienza-universit-di-roma/graph-classification-graphs_sc' target=\"_blank\">Weights & Biases</a> (<a href='https://wandb.me/run' target=\"_blank\">docs</a>)<br/>Sweep page: <a href='https://wandb.ai/barbonigiorgia-sapienza-universit-di-roma/graph-classification-graphs_sc/sweeps/f8yd3ova' target=\"_blank\">https://wandb.ai/barbonigiorgia-sapienza-universit-di-roma/graph-classification-graphs_sc/sweeps/f8yd3ova</a>"
      ],
      "text/plain": [
       "<IPython.core.display.HTML object>"
      ]
     },
     "metadata": {},
     "output_type": "display_data"
    },
    {
     "data": {
      "text/html": [
       " View project at <a href='https://wandb.ai/barbonigiorgia-sapienza-universit-di-roma/graph-classification-graphs_sc' target=\"_blank\">https://wandb.ai/barbonigiorgia-sapienza-universit-di-roma/graph-classification-graphs_sc</a>"
      ],
      "text/plain": [
       "<IPython.core.display.HTML object>"
      ]
     },
     "metadata": {},
     "output_type": "display_data"
    },
    {
     "data": {
      "text/html": [
       " View sweep at <a href='https://wandb.ai/barbonigiorgia-sapienza-universit-di-roma/graph-classification-graphs_sc/sweeps/f8yd3ova' target=\"_blank\">https://wandb.ai/barbonigiorgia-sapienza-universit-di-roma/graph-classification-graphs_sc/sweeps/f8yd3ova</a>"
      ],
      "text/plain": [
       "<IPython.core.display.HTML object>"
      ]
     },
     "metadata": {},
     "output_type": "display_data"
    },
    {
     "data": {
      "text/html": [
       " View run at <a href='https://wandb.ai/barbonigiorgia-sapienza-universit-di-roma/graph-classification-graphs_sc/runs/nls4s22g' target=\"_blank\">https://wandb.ai/barbonigiorgia-sapienza-universit-di-roma/graph-classification-graphs_sc/runs/nls4s22g</a>"
      ],
      "text/plain": [
       "<IPython.core.display.HTML object>"
      ]
     },
     "metadata": {},
     "output_type": "display_data"
    },
    {
     "name": "stdout",
     "output_type": "stream",
     "text": [
      "Running with config: {'batch_size': 32, 'in_channels': 6, 'learning_rate': 0.01, 'num_epochs': 5, 'num_heads': 2, 'optimizer': 'adam', 'out_channels': 8, 'random_state': 42, 'test_size': 0.3, 'weight_decay': 0}\n"
     ]
    },
    {
     "data": {
      "text/html": [
       "<style>\n",
       "    table.wandb td:nth-child(1) { padding: 0 10px; text-align: left ; width: auto;} td:nth-child(2) {text-align: left ; width: 100%}\n",
       "    .wandb-row { display: flex; flex-direction: row; flex-wrap: wrap; justify-content: flex-start; width: 100% }\n",
       "    .wandb-col { display: flex; flex-direction: column; flex-basis: 100%; flex: 1; padding: 10px; }\n",
       "    </style>\n",
       "<div class=\"wandb-row\"><div class=\"wandb-col\"><h3>Run history:</h3><br/><table class=\"wandb\"><tr><td>epoch</td><td>▁▃▅▆█</td></tr><tr><td>train_accuracy</td><td>▁▁▂▄█</td></tr><tr><td>train_f1</td><td>▁▁▃▅█</td></tr><tr><td>train_loss</td><td>█▆▄▃▁</td></tr><tr><td>val_accuracy</td><td>▁▃▃▅█</td></tr><tr><td>val_f1</td><td>▁▃▃▅█</td></tr><tr><td>val_loss</td><td>█▇▅▃▁</td></tr></table><br/></div><div class=\"wandb-col\"><h3>Run summary:</h3><br/><table class=\"wandb\"><tr><td>epoch</td><td>5</td></tr><tr><td>train_accuracy</td><td>0.688</td></tr><tr><td>train_f1</td><td>0.64878</td></tr><tr><td>train_loss</td><td>0.6217</td></tr><tr><td>val_accuracy</td><td>0.74074</td></tr><tr><td>val_f1</td><td>0.71189</td></tr><tr><td>val_loss</td><td>0.61135</td></tr></table><br/></div></div>"
      ],
      "text/plain": [
       "<IPython.core.display.HTML object>"
      ]
     },
     "metadata": {},
     "output_type": "display_data"
    },
    {
     "data": {
      "text/html": [
       " View run <strong style=\"color:#cdcd00\">olive-sweep-31</strong> at: <a href='https://wandb.ai/barbonigiorgia-sapienza-universit-di-roma/graph-classification-graphs_sc/runs/nls4s22g' target=\"_blank\">https://wandb.ai/barbonigiorgia-sapienza-universit-di-roma/graph-classification-graphs_sc/runs/nls4s22g</a><br/> View project at: <a href='https://wandb.ai/barbonigiorgia-sapienza-universit-di-roma/graph-classification-graphs_sc' target=\"_blank\">https://wandb.ai/barbonigiorgia-sapienza-universit-di-roma/graph-classification-graphs_sc</a><br/>Synced 5 W&B file(s), 0 media file(s), 8 artifact file(s) and 0 other file(s)"
      ],
      "text/plain": [
       "<IPython.core.display.HTML object>"
      ]
     },
     "metadata": {},
     "output_type": "display_data"
    },
    {
     "data": {
      "text/html": [
       "Find logs at: <code>.\\wandb\\run-20241119_162052-nls4s22g\\logs</code>"
      ],
      "text/plain": [
       "<IPython.core.display.HTML object>"
      ]
     },
     "metadata": {},
     "output_type": "display_data"
    },
    {
     "name": "stderr",
     "output_type": "stream",
     "text": [
      "\u001b[34m\u001b[1mwandb\u001b[0m: Agent Starting Run: eo7clegf with config:\n",
      "\u001b[34m\u001b[1mwandb\u001b[0m: \tbatch_size: 32\n",
      "\u001b[34m\u001b[1mwandb\u001b[0m: \tin_channels: 6\n",
      "\u001b[34m\u001b[1mwandb\u001b[0m: \tlearning_rate: 0.01\n",
      "\u001b[34m\u001b[1mwandb\u001b[0m: \tnum_epochs: 5\n",
      "\u001b[34m\u001b[1mwandb\u001b[0m: \tnum_heads: 2\n",
      "\u001b[34m\u001b[1mwandb\u001b[0m: \toptimizer: adam\n",
      "\u001b[34m\u001b[1mwandb\u001b[0m: \tout_channels: 8\n",
      "\u001b[34m\u001b[1mwandb\u001b[0m: \trandom_state: 42\n",
      "\u001b[34m\u001b[1mwandb\u001b[0m: \ttest_size: 0.3\n",
      "\u001b[34m\u001b[1mwandb\u001b[0m: \tweight_decay: 1e-05\n"
     ]
    },
    {
     "data": {
      "text/html": [
       "Tracking run with wandb version 0.18.5"
      ],
      "text/plain": [
       "<IPython.core.display.HTML object>"
      ]
     },
     "metadata": {},
     "output_type": "display_data"
    },
    {
     "data": {
      "text/html": [
       "Run data is saved locally in <code>c:\\Users\\barbo\\brain classifier repo\\brain_classifier\\src\\wandb\\run-20241119_162108-eo7clegf</code>"
      ],
      "text/plain": [
       "<IPython.core.display.HTML object>"
      ]
     },
     "metadata": {},
     "output_type": "display_data"
    },
    {
     "data": {
      "text/html": [
       "Syncing run <strong><a href='https://wandb.ai/barbonigiorgia-sapienza-universit-di-roma/graph-classification-graphs_sc/runs/eo7clegf' target=\"_blank\">cosmic-sweep-32</a></strong> to <a href='https://wandb.ai/barbonigiorgia-sapienza-universit-di-roma/graph-classification-graphs_sc' target=\"_blank\">Weights & Biases</a> (<a href='https://wandb.me/run' target=\"_blank\">docs</a>)<br/>Sweep page: <a href='https://wandb.ai/barbonigiorgia-sapienza-universit-di-roma/graph-classification-graphs_sc/sweeps/f8yd3ova' target=\"_blank\">https://wandb.ai/barbonigiorgia-sapienza-universit-di-roma/graph-classification-graphs_sc/sweeps/f8yd3ova</a>"
      ],
      "text/plain": [
       "<IPython.core.display.HTML object>"
      ]
     },
     "metadata": {},
     "output_type": "display_data"
    },
    {
     "data": {
      "text/html": [
       " View project at <a href='https://wandb.ai/barbonigiorgia-sapienza-universit-di-roma/graph-classification-graphs_sc' target=\"_blank\">https://wandb.ai/barbonigiorgia-sapienza-universit-di-roma/graph-classification-graphs_sc</a>"
      ],
      "text/plain": [
       "<IPython.core.display.HTML object>"
      ]
     },
     "metadata": {},
     "output_type": "display_data"
    },
    {
     "data": {
      "text/html": [
       " View sweep at <a href='https://wandb.ai/barbonigiorgia-sapienza-universit-di-roma/graph-classification-graphs_sc/sweeps/f8yd3ova' target=\"_blank\">https://wandb.ai/barbonigiorgia-sapienza-universit-di-roma/graph-classification-graphs_sc/sweeps/f8yd3ova</a>"
      ],
      "text/plain": [
       "<IPython.core.display.HTML object>"
      ]
     },
     "metadata": {},
     "output_type": "display_data"
    },
    {
     "data": {
      "text/html": [
       " View run at <a href='https://wandb.ai/barbonigiorgia-sapienza-universit-di-roma/graph-classification-graphs_sc/runs/eo7clegf' target=\"_blank\">https://wandb.ai/barbonigiorgia-sapienza-universit-di-roma/graph-classification-graphs_sc/runs/eo7clegf</a>"
      ],
      "text/plain": [
       "<IPython.core.display.HTML object>"
      ]
     },
     "metadata": {},
     "output_type": "display_data"
    },
    {
     "name": "stdout",
     "output_type": "stream",
     "text": [
      "Running with config: {'batch_size': 32, 'in_channels': 6, 'learning_rate': 0.01, 'num_epochs': 5, 'num_heads': 2, 'optimizer': 'adam', 'out_channels': 8, 'random_state': 42, 'test_size': 0.3, 'weight_decay': 1e-05}\n"
     ]
    },
    {
     "data": {
      "text/html": [
       "<style>\n",
       "    table.wandb td:nth-child(1) { padding: 0 10px; text-align: left ; width: auto;} td:nth-child(2) {text-align: left ; width: 100%}\n",
       "    .wandb-row { display: flex; flex-direction: row; flex-wrap: wrap; justify-content: flex-start; width: 100% }\n",
       "    .wandb-col { display: flex; flex-direction: column; flex-basis: 100%; flex: 1; padding: 10px; }\n",
       "    </style>\n",
       "<div class=\"wandb-row\"><div class=\"wandb-col\"><h3>Run history:</h3><br/><table class=\"wandb\"><tr><td>epoch</td><td>▁▃▅▆█</td></tr><tr><td>train_accuracy</td><td>▁▁▂▄█</td></tr><tr><td>train_f1</td><td>▁▁▃▅█</td></tr><tr><td>train_loss</td><td>█▆▄▃▁</td></tr><tr><td>val_accuracy</td><td>▁▃▃▅█</td></tr><tr><td>val_f1</td><td>▁▃▃▅█</td></tr><tr><td>val_loss</td><td>█▇▅▃▁</td></tr></table><br/></div><div class=\"wandb-col\"><h3>Run summary:</h3><br/><table class=\"wandb\"><tr><td>epoch</td><td>5</td></tr><tr><td>train_accuracy</td><td>0.688</td></tr><tr><td>train_f1</td><td>0.64878</td></tr><tr><td>train_loss</td><td>0.62175</td></tr><tr><td>val_accuracy</td><td>0.74074</td></tr><tr><td>val_f1</td><td>0.71189</td></tr><tr><td>val_loss</td><td>0.61141</td></tr></table><br/></div></div>"
      ],
      "text/plain": [
       "<IPython.core.display.HTML object>"
      ]
     },
     "metadata": {},
     "output_type": "display_data"
    },
    {
     "data": {
      "text/html": [
       " View run <strong style=\"color:#cdcd00\">cosmic-sweep-32</strong> at: <a href='https://wandb.ai/barbonigiorgia-sapienza-universit-di-roma/graph-classification-graphs_sc/runs/eo7clegf' target=\"_blank\">https://wandb.ai/barbonigiorgia-sapienza-universit-di-roma/graph-classification-graphs_sc/runs/eo7clegf</a><br/> View project at: <a href='https://wandb.ai/barbonigiorgia-sapienza-universit-di-roma/graph-classification-graphs_sc' target=\"_blank\">https://wandb.ai/barbonigiorgia-sapienza-universit-di-roma/graph-classification-graphs_sc</a><br/>Synced 5 W&B file(s), 0 media file(s), 8 artifact file(s) and 0 other file(s)"
      ],
      "text/plain": [
       "<IPython.core.display.HTML object>"
      ]
     },
     "metadata": {},
     "output_type": "display_data"
    },
    {
     "data": {
      "text/html": [
       "Find logs at: <code>.\\wandb\\run-20241119_162108-eo7clegf\\logs</code>"
      ],
      "text/plain": [
       "<IPython.core.display.HTML object>"
      ]
     },
     "metadata": {},
     "output_type": "display_data"
    },
    {
     "name": "stderr",
     "output_type": "stream",
     "text": [
      "\u001b[34m\u001b[1mwandb\u001b[0m: Agent Starting Run: g7zr7o4k with config:\n",
      "\u001b[34m\u001b[1mwandb\u001b[0m: \tbatch_size: 32\n",
      "\u001b[34m\u001b[1mwandb\u001b[0m: \tin_channels: 6\n",
      "\u001b[34m\u001b[1mwandb\u001b[0m: \tlearning_rate: 0.01\n",
      "\u001b[34m\u001b[1mwandb\u001b[0m: \tnum_epochs: 5\n",
      "\u001b[34m\u001b[1mwandb\u001b[0m: \tnum_heads: 2\n",
      "\u001b[34m\u001b[1mwandb\u001b[0m: \toptimizer: adam\n",
      "\u001b[34m\u001b[1mwandb\u001b[0m: \tout_channels: 8\n",
      "\u001b[34m\u001b[1mwandb\u001b[0m: \trandom_state: 42\n",
      "\u001b[34m\u001b[1mwandb\u001b[0m: \ttest_size: 0.3\n",
      "\u001b[34m\u001b[1mwandb\u001b[0m: \tweight_decay: 0.0001\n"
     ]
    },
    {
     "data": {
      "text/html": [
       "Tracking run with wandb version 0.18.5"
      ],
      "text/plain": [
       "<IPython.core.display.HTML object>"
      ]
     },
     "metadata": {},
     "output_type": "display_data"
    },
    {
     "data": {
      "text/html": [
       "Run data is saved locally in <code>c:\\Users\\barbo\\brain classifier repo\\brain_classifier\\src\\wandb\\run-20241119_162129-g7zr7o4k</code>"
      ],
      "text/plain": [
       "<IPython.core.display.HTML object>"
      ]
     },
     "metadata": {},
     "output_type": "display_data"
    },
    {
     "data": {
      "text/html": [
       "Syncing run <strong><a href='https://wandb.ai/barbonigiorgia-sapienza-universit-di-roma/graph-classification-graphs_sc/runs/g7zr7o4k' target=\"_blank\">avid-sweep-33</a></strong> to <a href='https://wandb.ai/barbonigiorgia-sapienza-universit-di-roma/graph-classification-graphs_sc' target=\"_blank\">Weights & Biases</a> (<a href='https://wandb.me/run' target=\"_blank\">docs</a>)<br/>Sweep page: <a href='https://wandb.ai/barbonigiorgia-sapienza-universit-di-roma/graph-classification-graphs_sc/sweeps/f8yd3ova' target=\"_blank\">https://wandb.ai/barbonigiorgia-sapienza-universit-di-roma/graph-classification-graphs_sc/sweeps/f8yd3ova</a>"
      ],
      "text/plain": [
       "<IPython.core.display.HTML object>"
      ]
     },
     "metadata": {},
     "output_type": "display_data"
    },
    {
     "data": {
      "text/html": [
       " View project at <a href='https://wandb.ai/barbonigiorgia-sapienza-universit-di-roma/graph-classification-graphs_sc' target=\"_blank\">https://wandb.ai/barbonigiorgia-sapienza-universit-di-roma/graph-classification-graphs_sc</a>"
      ],
      "text/plain": [
       "<IPython.core.display.HTML object>"
      ]
     },
     "metadata": {},
     "output_type": "display_data"
    },
    {
     "data": {
      "text/html": [
       " View sweep at <a href='https://wandb.ai/barbonigiorgia-sapienza-universit-di-roma/graph-classification-graphs_sc/sweeps/f8yd3ova' target=\"_blank\">https://wandb.ai/barbonigiorgia-sapienza-universit-di-roma/graph-classification-graphs_sc/sweeps/f8yd3ova</a>"
      ],
      "text/plain": [
       "<IPython.core.display.HTML object>"
      ]
     },
     "metadata": {},
     "output_type": "display_data"
    },
    {
     "data": {
      "text/html": [
       " View run at <a href='https://wandb.ai/barbonigiorgia-sapienza-universit-di-roma/graph-classification-graphs_sc/runs/g7zr7o4k' target=\"_blank\">https://wandb.ai/barbonigiorgia-sapienza-universit-di-roma/graph-classification-graphs_sc/runs/g7zr7o4k</a>"
      ],
      "text/plain": [
       "<IPython.core.display.HTML object>"
      ]
     },
     "metadata": {},
     "output_type": "display_data"
    },
    {
     "name": "stdout",
     "output_type": "stream",
     "text": [
      "Running with config: {'batch_size': 32, 'in_channels': 6, 'learning_rate': 0.01, 'num_epochs': 5, 'num_heads': 2, 'optimizer': 'adam', 'out_channels': 8, 'random_state': 42, 'test_size': 0.3, 'weight_decay': 0.0001}\n"
     ]
    },
    {
     "data": {
      "text/html": [
       "<style>\n",
       "    table.wandb td:nth-child(1) { padding: 0 10px; text-align: left ; width: auto;} td:nth-child(2) {text-align: left ; width: 100%}\n",
       "    .wandb-row { display: flex; flex-direction: row; flex-wrap: wrap; justify-content: flex-start; width: 100% }\n",
       "    .wandb-col { display: flex; flex-direction: column; flex-basis: 100%; flex: 1; padding: 10px; }\n",
       "    </style>\n",
       "<div class=\"wandb-row\"><div class=\"wandb-col\"><h3>Run history:</h3><br/><table class=\"wandb\"><tr><td>epoch</td><td>▁▃▅▆█</td></tr><tr><td>train_accuracy</td><td>▁▁▂▅█</td></tr><tr><td>train_f1</td><td>▁▁▃▅█</td></tr><tr><td>train_loss</td><td>█▆▄▃▁</td></tr><tr><td>val_accuracy</td><td>▁▃▃▅█</td></tr><tr><td>val_f1</td><td>▁▃▃▅█</td></tr><tr><td>val_loss</td><td>█▇▅▃▁</td></tr></table><br/></div><div class=\"wandb-col\"><h3>Run summary:</h3><br/><table class=\"wandb\"><tr><td>epoch</td><td>5</td></tr><tr><td>train_accuracy</td><td>0.688</td></tr><tr><td>train_f1</td><td>0.64878</td></tr><tr><td>train_loss</td><td>0.62216</td></tr><tr><td>val_accuracy</td><td>0.74074</td></tr><tr><td>val_f1</td><td>0.71189</td></tr><tr><td>val_loss</td><td>0.61195</td></tr></table><br/></div></div>"
      ],
      "text/plain": [
       "<IPython.core.display.HTML object>"
      ]
     },
     "metadata": {},
     "output_type": "display_data"
    },
    {
     "data": {
      "text/html": [
       " View run <strong style=\"color:#cdcd00\">avid-sweep-33</strong> at: <a href='https://wandb.ai/barbonigiorgia-sapienza-universit-di-roma/graph-classification-graphs_sc/runs/g7zr7o4k' target=\"_blank\">https://wandb.ai/barbonigiorgia-sapienza-universit-di-roma/graph-classification-graphs_sc/runs/g7zr7o4k</a><br/> View project at: <a href='https://wandb.ai/barbonigiorgia-sapienza-universit-di-roma/graph-classification-graphs_sc' target=\"_blank\">https://wandb.ai/barbonigiorgia-sapienza-universit-di-roma/graph-classification-graphs_sc</a><br/>Synced 5 W&B file(s), 0 media file(s), 8 artifact file(s) and 0 other file(s)"
      ],
      "text/plain": [
       "<IPython.core.display.HTML object>"
      ]
     },
     "metadata": {},
     "output_type": "display_data"
    },
    {
     "data": {
      "text/html": [
       "Find logs at: <code>.\\wandb\\run-20241119_162129-g7zr7o4k\\logs</code>"
      ],
      "text/plain": [
       "<IPython.core.display.HTML object>"
      ]
     },
     "metadata": {},
     "output_type": "display_data"
    },
    {
     "name": "stderr",
     "output_type": "stream",
     "text": [
      "\u001b[34m\u001b[1mwandb\u001b[0m: Agent Starting Run: fnxdh579 with config:\n",
      "\u001b[34m\u001b[1mwandb\u001b[0m: \tbatch_size: 32\n",
      "\u001b[34m\u001b[1mwandb\u001b[0m: \tin_channels: 6\n",
      "\u001b[34m\u001b[1mwandb\u001b[0m: \tlearning_rate: 0.01\n",
      "\u001b[34m\u001b[1mwandb\u001b[0m: \tnum_epochs: 5\n",
      "\u001b[34m\u001b[1mwandb\u001b[0m: \tnum_heads: 2\n",
      "\u001b[34m\u001b[1mwandb\u001b[0m: \toptimizer: adam\n",
      "\u001b[34m\u001b[1mwandb\u001b[0m: \tout_channels: 16\n",
      "\u001b[34m\u001b[1mwandb\u001b[0m: \trandom_state: 42\n",
      "\u001b[34m\u001b[1mwandb\u001b[0m: \ttest_size: 0.3\n",
      "\u001b[34m\u001b[1mwandb\u001b[0m: \tweight_decay: 0\n"
     ]
    },
    {
     "data": {
      "text/html": [
       "Tracking run with wandb version 0.18.5"
      ],
      "text/plain": [
       "<IPython.core.display.HTML object>"
      ]
     },
     "metadata": {},
     "output_type": "display_data"
    },
    {
     "data": {
      "text/html": [
       "Run data is saved locally in <code>c:\\Users\\barbo\\brain classifier repo\\brain_classifier\\src\\wandb\\run-20241119_162145-fnxdh579</code>"
      ],
      "text/plain": [
       "<IPython.core.display.HTML object>"
      ]
     },
     "metadata": {},
     "output_type": "display_data"
    },
    {
     "data": {
      "text/html": [
       "Syncing run <strong><a href='https://wandb.ai/barbonigiorgia-sapienza-universit-di-roma/graph-classification-graphs_sc/runs/fnxdh579' target=\"_blank\">happy-sweep-34</a></strong> to <a href='https://wandb.ai/barbonigiorgia-sapienza-universit-di-roma/graph-classification-graphs_sc' target=\"_blank\">Weights & Biases</a> (<a href='https://wandb.me/run' target=\"_blank\">docs</a>)<br/>Sweep page: <a href='https://wandb.ai/barbonigiorgia-sapienza-universit-di-roma/graph-classification-graphs_sc/sweeps/f8yd3ova' target=\"_blank\">https://wandb.ai/barbonigiorgia-sapienza-universit-di-roma/graph-classification-graphs_sc/sweeps/f8yd3ova</a>"
      ],
      "text/plain": [
       "<IPython.core.display.HTML object>"
      ]
     },
     "metadata": {},
     "output_type": "display_data"
    },
    {
     "data": {
      "text/html": [
       " View project at <a href='https://wandb.ai/barbonigiorgia-sapienza-universit-di-roma/graph-classification-graphs_sc' target=\"_blank\">https://wandb.ai/barbonigiorgia-sapienza-universit-di-roma/graph-classification-graphs_sc</a>"
      ],
      "text/plain": [
       "<IPython.core.display.HTML object>"
      ]
     },
     "metadata": {},
     "output_type": "display_data"
    },
    {
     "data": {
      "text/html": [
       " View sweep at <a href='https://wandb.ai/barbonigiorgia-sapienza-universit-di-roma/graph-classification-graphs_sc/sweeps/f8yd3ova' target=\"_blank\">https://wandb.ai/barbonigiorgia-sapienza-universit-di-roma/graph-classification-graphs_sc/sweeps/f8yd3ova</a>"
      ],
      "text/plain": [
       "<IPython.core.display.HTML object>"
      ]
     },
     "metadata": {},
     "output_type": "display_data"
    },
    {
     "data": {
      "text/html": [
       " View run at <a href='https://wandb.ai/barbonigiorgia-sapienza-universit-di-roma/graph-classification-graphs_sc/runs/fnxdh579' target=\"_blank\">https://wandb.ai/barbonigiorgia-sapienza-universit-di-roma/graph-classification-graphs_sc/runs/fnxdh579</a>"
      ],
      "text/plain": [
       "<IPython.core.display.HTML object>"
      ]
     },
     "metadata": {},
     "output_type": "display_data"
    },
    {
     "name": "stdout",
     "output_type": "stream",
     "text": [
      "Running with config: {'batch_size': 32, 'in_channels': 6, 'learning_rate': 0.01, 'num_epochs': 5, 'num_heads': 2, 'optimizer': 'adam', 'out_channels': 16, 'random_state': 42, 'test_size': 0.3, 'weight_decay': 0}\n"
     ]
    },
    {
     "data": {
      "text/html": [
       "<style>\n",
       "    table.wandb td:nth-child(1) { padding: 0 10px; text-align: left ; width: auto;} td:nth-child(2) {text-align: left ; width: 100%}\n",
       "    .wandb-row { display: flex; flex-direction: row; flex-wrap: wrap; justify-content: flex-start; width: 100% }\n",
       "    .wandb-col { display: flex; flex-direction: column; flex-basis: 100%; flex: 1; padding: 10px; }\n",
       "    </style>\n",
       "<div class=\"wandb-row\"><div class=\"wandb-col\"><h3>Run history:</h3><br/><table class=\"wandb\"><tr><td>epoch</td><td>▁▃▅▆█</td></tr><tr><td>train_accuracy</td><td>▁█▆▆▇</td></tr><tr><td>train_f1</td><td>▁█▄▄▆</td></tr><tr><td>train_loss</td><td>█▅▃▂▁</td></tr><tr><td>val_accuracy</td><td>▃▁▁▃█</td></tr><tr><td>val_f1</td><td>▆▁▁▄█</td></tr><tr><td>val_loss</td><td>█▆▅▃▁</td></tr></table><br/></div><div class=\"wandb-col\"><h3>Run summary:</h3><br/><table class=\"wandb\"><tr><td>epoch</td><td>5</td></tr><tr><td>train_accuracy</td><td>0.608</td></tr><tr><td>train_f1</td><td>0.4955</td></tr><tr><td>train_loss</td><td>0.62692</td></tr><tr><td>val_accuracy</td><td>0.7037</td></tr><tr><td>val_f1</td><td>0.66082</td></tr><tr><td>val_loss</td><td>0.61267</td></tr></table><br/></div></div>"
      ],
      "text/plain": [
       "<IPython.core.display.HTML object>"
      ]
     },
     "metadata": {},
     "output_type": "display_data"
    },
    {
     "data": {
      "text/html": [
       " View run <strong style=\"color:#cdcd00\">happy-sweep-34</strong> at: <a href='https://wandb.ai/barbonigiorgia-sapienza-universit-di-roma/graph-classification-graphs_sc/runs/fnxdh579' target=\"_blank\">https://wandb.ai/barbonigiorgia-sapienza-universit-di-roma/graph-classification-graphs_sc/runs/fnxdh579</a><br/> View project at: <a href='https://wandb.ai/barbonigiorgia-sapienza-universit-di-roma/graph-classification-graphs_sc' target=\"_blank\">https://wandb.ai/barbonigiorgia-sapienza-universit-di-roma/graph-classification-graphs_sc</a><br/>Synced 5 W&B file(s), 0 media file(s), 6 artifact file(s) and 0 other file(s)"
      ],
      "text/plain": [
       "<IPython.core.display.HTML object>"
      ]
     },
     "metadata": {},
     "output_type": "display_data"
    },
    {
     "data": {
      "text/html": [
       "Find logs at: <code>.\\wandb\\run-20241119_162145-fnxdh579\\logs</code>"
      ],
      "text/plain": [
       "<IPython.core.display.HTML object>"
      ]
     },
     "metadata": {},
     "output_type": "display_data"
    },
    {
     "name": "stderr",
     "output_type": "stream",
     "text": [
      "\u001b[34m\u001b[1mwandb\u001b[0m: Sweep Agent: Waiting for job.\n",
      "\u001b[34m\u001b[1mwandb\u001b[0m: Job received.\n",
      "\u001b[34m\u001b[1mwandb\u001b[0m: Agent Starting Run: jd8wo7m1 with config:\n",
      "\u001b[34m\u001b[1mwandb\u001b[0m: \tbatch_size: 32\n",
      "\u001b[34m\u001b[1mwandb\u001b[0m: \tin_channels: 6\n",
      "\u001b[34m\u001b[1mwandb\u001b[0m: \tlearning_rate: 0.01\n",
      "\u001b[34m\u001b[1mwandb\u001b[0m: \tnum_epochs: 5\n",
      "\u001b[34m\u001b[1mwandb\u001b[0m: \tnum_heads: 2\n",
      "\u001b[34m\u001b[1mwandb\u001b[0m: \toptimizer: adam\n",
      "\u001b[34m\u001b[1mwandb\u001b[0m: \tout_channels: 16\n",
      "\u001b[34m\u001b[1mwandb\u001b[0m: \trandom_state: 42\n",
      "\u001b[34m\u001b[1mwandb\u001b[0m: \ttest_size: 0.3\n",
      "\u001b[34m\u001b[1mwandb\u001b[0m: \tweight_decay: 1e-05\n"
     ]
    },
    {
     "data": {
      "text/html": [
       "Tracking run with wandb version 0.18.5"
      ],
      "text/plain": [
       "<IPython.core.display.HTML object>"
      ]
     },
     "metadata": {},
     "output_type": "display_data"
    },
    {
     "data": {
      "text/html": [
       "Run data is saved locally in <code>c:\\Users\\barbo\\brain classifier repo\\brain_classifier\\src\\wandb\\run-20241119_162210-jd8wo7m1</code>"
      ],
      "text/plain": [
       "<IPython.core.display.HTML object>"
      ]
     },
     "metadata": {},
     "output_type": "display_data"
    },
    {
     "data": {
      "text/html": [
       "Syncing run <strong><a href='https://wandb.ai/barbonigiorgia-sapienza-universit-di-roma/graph-classification-graphs_sc/runs/jd8wo7m1' target=\"_blank\">sage-sweep-35</a></strong> to <a href='https://wandb.ai/barbonigiorgia-sapienza-universit-di-roma/graph-classification-graphs_sc' target=\"_blank\">Weights & Biases</a> (<a href='https://wandb.me/run' target=\"_blank\">docs</a>)<br/>Sweep page: <a href='https://wandb.ai/barbonigiorgia-sapienza-universit-di-roma/graph-classification-graphs_sc/sweeps/f8yd3ova' target=\"_blank\">https://wandb.ai/barbonigiorgia-sapienza-universit-di-roma/graph-classification-graphs_sc/sweeps/f8yd3ova</a>"
      ],
      "text/plain": [
       "<IPython.core.display.HTML object>"
      ]
     },
     "metadata": {},
     "output_type": "display_data"
    },
    {
     "data": {
      "text/html": [
       " View project at <a href='https://wandb.ai/barbonigiorgia-sapienza-universit-di-roma/graph-classification-graphs_sc' target=\"_blank\">https://wandb.ai/barbonigiorgia-sapienza-universit-di-roma/graph-classification-graphs_sc</a>"
      ],
      "text/plain": [
       "<IPython.core.display.HTML object>"
      ]
     },
     "metadata": {},
     "output_type": "display_data"
    },
    {
     "data": {
      "text/html": [
       " View sweep at <a href='https://wandb.ai/barbonigiorgia-sapienza-universit-di-roma/graph-classification-graphs_sc/sweeps/f8yd3ova' target=\"_blank\">https://wandb.ai/barbonigiorgia-sapienza-universit-di-roma/graph-classification-graphs_sc/sweeps/f8yd3ova</a>"
      ],
      "text/plain": [
       "<IPython.core.display.HTML object>"
      ]
     },
     "metadata": {},
     "output_type": "display_data"
    },
    {
     "data": {
      "text/html": [
       " View run at <a href='https://wandb.ai/barbonigiorgia-sapienza-universit-di-roma/graph-classification-graphs_sc/runs/jd8wo7m1' target=\"_blank\">https://wandb.ai/barbonigiorgia-sapienza-universit-di-roma/graph-classification-graphs_sc/runs/jd8wo7m1</a>"
      ],
      "text/plain": [
       "<IPython.core.display.HTML object>"
      ]
     },
     "metadata": {},
     "output_type": "display_data"
    },
    {
     "name": "stdout",
     "output_type": "stream",
     "text": [
      "Running with config: {'batch_size': 32, 'in_channels': 6, 'learning_rate': 0.01, 'num_epochs': 5, 'num_heads': 2, 'optimizer': 'adam', 'out_channels': 16, 'random_state': 42, 'test_size': 0.3, 'weight_decay': 1e-05}\n"
     ]
    },
    {
     "data": {
      "text/html": [
       "<style>\n",
       "    table.wandb td:nth-child(1) { padding: 0 10px; text-align: left ; width: auto;} td:nth-child(2) {text-align: left ; width: 100%}\n",
       "    .wandb-row { display: flex; flex-direction: row; flex-wrap: wrap; justify-content: flex-start; width: 100% }\n",
       "    .wandb-col { display: flex; flex-direction: column; flex-basis: 100%; flex: 1; padding: 10px; }\n",
       "    </style>\n",
       "<div class=\"wandb-row\"><div class=\"wandb-col\"><h3>Run history:</h3><br/><table class=\"wandb\"><tr><td>epoch</td><td>▁▃▅▆█</td></tr><tr><td>train_accuracy</td><td>▁█▆▆▇</td></tr><tr><td>train_f1</td><td>▁█▄▄▆</td></tr><tr><td>train_loss</td><td>█▅▃▂▁</td></tr><tr><td>val_accuracy</td><td>▃▁▁▃█</td></tr><tr><td>val_f1</td><td>▆▁▁▄█</td></tr><tr><td>val_loss</td><td>█▆▅▃▁</td></tr></table><br/></div><div class=\"wandb-col\"><h3>Run summary:</h3><br/><table class=\"wandb\"><tr><td>epoch</td><td>5</td></tr><tr><td>train_accuracy</td><td>0.608</td></tr><tr><td>train_f1</td><td>0.4955</td></tr><tr><td>train_loss</td><td>0.62697</td></tr><tr><td>val_accuracy</td><td>0.7037</td></tr><tr><td>val_f1</td><td>0.66082</td></tr><tr><td>val_loss</td><td>0.61273</td></tr></table><br/></div></div>"
      ],
      "text/plain": [
       "<IPython.core.display.HTML object>"
      ]
     },
     "metadata": {},
     "output_type": "display_data"
    },
    {
     "data": {
      "text/html": [
       " View run <strong style=\"color:#cdcd00\">sage-sweep-35</strong> at: <a href='https://wandb.ai/barbonigiorgia-sapienza-universit-di-roma/graph-classification-graphs_sc/runs/jd8wo7m1' target=\"_blank\">https://wandb.ai/barbonigiorgia-sapienza-universit-di-roma/graph-classification-graphs_sc/runs/jd8wo7m1</a><br/> View project at: <a href='https://wandb.ai/barbonigiorgia-sapienza-universit-di-roma/graph-classification-graphs_sc' target=\"_blank\">https://wandb.ai/barbonigiorgia-sapienza-universit-di-roma/graph-classification-graphs_sc</a><br/>Synced 5 W&B file(s), 0 media file(s), 6 artifact file(s) and 0 other file(s)"
      ],
      "text/plain": [
       "<IPython.core.display.HTML object>"
      ]
     },
     "metadata": {},
     "output_type": "display_data"
    },
    {
     "data": {
      "text/html": [
       "Find logs at: <code>.\\wandb\\run-20241119_162210-jd8wo7m1\\logs</code>"
      ],
      "text/plain": [
       "<IPython.core.display.HTML object>"
      ]
     },
     "metadata": {},
     "output_type": "display_data"
    },
    {
     "name": "stderr",
     "output_type": "stream",
     "text": [
      "\u001b[34m\u001b[1mwandb\u001b[0m: Agent Starting Run: ozn8qby9 with config:\n",
      "\u001b[34m\u001b[1mwandb\u001b[0m: \tbatch_size: 32\n",
      "\u001b[34m\u001b[1mwandb\u001b[0m: \tin_channels: 6\n",
      "\u001b[34m\u001b[1mwandb\u001b[0m: \tlearning_rate: 0.01\n",
      "\u001b[34m\u001b[1mwandb\u001b[0m: \tnum_epochs: 5\n",
      "\u001b[34m\u001b[1mwandb\u001b[0m: \tnum_heads: 2\n",
      "\u001b[34m\u001b[1mwandb\u001b[0m: \toptimizer: adam\n",
      "\u001b[34m\u001b[1mwandb\u001b[0m: \tout_channels: 16\n",
      "\u001b[34m\u001b[1mwandb\u001b[0m: \trandom_state: 42\n",
      "\u001b[34m\u001b[1mwandb\u001b[0m: \ttest_size: 0.3\n",
      "\u001b[34m\u001b[1mwandb\u001b[0m: \tweight_decay: 0.0001\n"
     ]
    },
    {
     "data": {
      "text/html": [
       "Tracking run with wandb version 0.18.5"
      ],
      "text/plain": [
       "<IPython.core.display.HTML object>"
      ]
     },
     "metadata": {},
     "output_type": "display_data"
    },
    {
     "data": {
      "text/html": [
       "Run data is saved locally in <code>c:\\Users\\barbo\\brain classifier repo\\brain_classifier\\src\\wandb\\run-20241119_162227-ozn8qby9</code>"
      ],
      "text/plain": [
       "<IPython.core.display.HTML object>"
      ]
     },
     "metadata": {},
     "output_type": "display_data"
    },
    {
     "data": {
      "text/html": [
       "Syncing run <strong><a href='https://wandb.ai/barbonigiorgia-sapienza-universit-di-roma/graph-classification-graphs_sc/runs/ozn8qby9' target=\"_blank\">neat-sweep-36</a></strong> to <a href='https://wandb.ai/barbonigiorgia-sapienza-universit-di-roma/graph-classification-graphs_sc' target=\"_blank\">Weights & Biases</a> (<a href='https://wandb.me/run' target=\"_blank\">docs</a>)<br/>Sweep page: <a href='https://wandb.ai/barbonigiorgia-sapienza-universit-di-roma/graph-classification-graphs_sc/sweeps/f8yd3ova' target=\"_blank\">https://wandb.ai/barbonigiorgia-sapienza-universit-di-roma/graph-classification-graphs_sc/sweeps/f8yd3ova</a>"
      ],
      "text/plain": [
       "<IPython.core.display.HTML object>"
      ]
     },
     "metadata": {},
     "output_type": "display_data"
    },
    {
     "data": {
      "text/html": [
       " View project at <a href='https://wandb.ai/barbonigiorgia-sapienza-universit-di-roma/graph-classification-graphs_sc' target=\"_blank\">https://wandb.ai/barbonigiorgia-sapienza-universit-di-roma/graph-classification-graphs_sc</a>"
      ],
      "text/plain": [
       "<IPython.core.display.HTML object>"
      ]
     },
     "metadata": {},
     "output_type": "display_data"
    },
    {
     "data": {
      "text/html": [
       " View sweep at <a href='https://wandb.ai/barbonigiorgia-sapienza-universit-di-roma/graph-classification-graphs_sc/sweeps/f8yd3ova' target=\"_blank\">https://wandb.ai/barbonigiorgia-sapienza-universit-di-roma/graph-classification-graphs_sc/sweeps/f8yd3ova</a>"
      ],
      "text/plain": [
       "<IPython.core.display.HTML object>"
      ]
     },
     "metadata": {},
     "output_type": "display_data"
    },
    {
     "data": {
      "text/html": [
       " View run at <a href='https://wandb.ai/barbonigiorgia-sapienza-universit-di-roma/graph-classification-graphs_sc/runs/ozn8qby9' target=\"_blank\">https://wandb.ai/barbonigiorgia-sapienza-universit-di-roma/graph-classification-graphs_sc/runs/ozn8qby9</a>"
      ],
      "text/plain": [
       "<IPython.core.display.HTML object>"
      ]
     },
     "metadata": {},
     "output_type": "display_data"
    },
    {
     "name": "stdout",
     "output_type": "stream",
     "text": [
      "Running with config: {'batch_size': 32, 'in_channels': 6, 'learning_rate': 0.01, 'num_epochs': 5, 'num_heads': 2, 'optimizer': 'adam', 'out_channels': 16, 'random_state': 42, 'test_size': 0.3, 'weight_decay': 0.0001}\n"
     ]
    },
    {
     "data": {
      "text/html": [
       "<style>\n",
       "    table.wandb td:nth-child(1) { padding: 0 10px; text-align: left ; width: auto;} td:nth-child(2) {text-align: left ; width: 100%}\n",
       "    .wandb-row { display: flex; flex-direction: row; flex-wrap: wrap; justify-content: flex-start; width: 100% }\n",
       "    .wandb-col { display: flex; flex-direction: column; flex-basis: 100%; flex: 1; padding: 10px; }\n",
       "    </style>\n",
       "<div class=\"wandb-row\"><div class=\"wandb-col\"><h3>Run history:</h3><br/><table class=\"wandb\"><tr><td>epoch</td><td>▁▃▅▆█</td></tr><tr><td>train_accuracy</td><td>▁█▆▆▇</td></tr><tr><td>train_f1</td><td>▁█▄▄▆</td></tr><tr><td>train_loss</td><td>█▅▃▂▁</td></tr><tr><td>val_accuracy</td><td>▆▁▁▃█</td></tr><tr><td>val_f1</td><td>▇▁▁▄█</td></tr><tr><td>val_loss</td><td>█▆▅▃▁</td></tr></table><br/></div><div class=\"wandb-col\"><h3>Run summary:</h3><br/><table class=\"wandb\"><tr><td>epoch</td><td>5</td></tr><tr><td>train_accuracy</td><td>0.608</td></tr><tr><td>train_f1</td><td>0.4955</td></tr><tr><td>train_loss</td><td>0.6275</td></tr><tr><td>val_accuracy</td><td>0.7037</td></tr><tr><td>val_f1</td><td>0.66082</td></tr><tr><td>val_loss</td><td>0.61354</td></tr></table><br/></div></div>"
      ],
      "text/plain": [
       "<IPython.core.display.HTML object>"
      ]
     },
     "metadata": {},
     "output_type": "display_data"
    },
    {
     "data": {
      "text/html": [
       " View run <strong style=\"color:#cdcd00\">neat-sweep-36</strong> at: <a href='https://wandb.ai/barbonigiorgia-sapienza-universit-di-roma/graph-classification-graphs_sc/runs/ozn8qby9' target=\"_blank\">https://wandb.ai/barbonigiorgia-sapienza-universit-di-roma/graph-classification-graphs_sc/runs/ozn8qby9</a><br/> View project at: <a href='https://wandb.ai/barbonigiorgia-sapienza-universit-di-roma/graph-classification-graphs_sc' target=\"_blank\">https://wandb.ai/barbonigiorgia-sapienza-universit-di-roma/graph-classification-graphs_sc</a><br/>Synced 5 W&B file(s), 0 media file(s), 6 artifact file(s) and 0 other file(s)"
      ],
      "text/plain": [
       "<IPython.core.display.HTML object>"
      ]
     },
     "metadata": {},
     "output_type": "display_data"
    },
    {
     "data": {
      "text/html": [
       "Find logs at: <code>.\\wandb\\run-20241119_162227-ozn8qby9\\logs</code>"
      ],
      "text/plain": [
       "<IPython.core.display.HTML object>"
      ]
     },
     "metadata": {},
     "output_type": "display_data"
    },
    {
     "name": "stderr",
     "output_type": "stream",
     "text": [
      "\u001b[34m\u001b[1mwandb\u001b[0m: Agent Starting Run: aw84lvod with config:\n",
      "\u001b[34m\u001b[1mwandb\u001b[0m: \tbatch_size: 32\n",
      "\u001b[34m\u001b[1mwandb\u001b[0m: \tin_channels: 6\n",
      "\u001b[34m\u001b[1mwandb\u001b[0m: \tlearning_rate: 0.01\n",
      "\u001b[34m\u001b[1mwandb\u001b[0m: \tnum_epochs: 5\n",
      "\u001b[34m\u001b[1mwandb\u001b[0m: \tnum_heads: 3\n",
      "\u001b[34m\u001b[1mwandb\u001b[0m: \toptimizer: adam\n",
      "\u001b[34m\u001b[1mwandb\u001b[0m: \tout_channels: 8\n",
      "\u001b[34m\u001b[1mwandb\u001b[0m: \trandom_state: 42\n",
      "\u001b[34m\u001b[1mwandb\u001b[0m: \ttest_size: 0.3\n",
      "\u001b[34m\u001b[1mwandb\u001b[0m: \tweight_decay: 0\n"
     ]
    },
    {
     "data": {
      "text/html": [
       "Tracking run with wandb version 0.18.5"
      ],
      "text/plain": [
       "<IPython.core.display.HTML object>"
      ]
     },
     "metadata": {},
     "output_type": "display_data"
    },
    {
     "data": {
      "text/html": [
       "Run data is saved locally in <code>c:\\Users\\barbo\\brain classifier repo\\brain_classifier\\src\\wandb\\run-20241119_162242-aw84lvod</code>"
      ],
      "text/plain": [
       "<IPython.core.display.HTML object>"
      ]
     },
     "metadata": {},
     "output_type": "display_data"
    },
    {
     "data": {
      "text/html": [
       "Syncing run <strong><a href='https://wandb.ai/barbonigiorgia-sapienza-universit-di-roma/graph-classification-graphs_sc/runs/aw84lvod' target=\"_blank\">blooming-sweep-37</a></strong> to <a href='https://wandb.ai/barbonigiorgia-sapienza-universit-di-roma/graph-classification-graphs_sc' target=\"_blank\">Weights & Biases</a> (<a href='https://wandb.me/run' target=\"_blank\">docs</a>)<br/>Sweep page: <a href='https://wandb.ai/barbonigiorgia-sapienza-universit-di-roma/graph-classification-graphs_sc/sweeps/f8yd3ova' target=\"_blank\">https://wandb.ai/barbonigiorgia-sapienza-universit-di-roma/graph-classification-graphs_sc/sweeps/f8yd3ova</a>"
      ],
      "text/plain": [
       "<IPython.core.display.HTML object>"
      ]
     },
     "metadata": {},
     "output_type": "display_data"
    },
    {
     "data": {
      "text/html": [
       " View project at <a href='https://wandb.ai/barbonigiorgia-sapienza-universit-di-roma/graph-classification-graphs_sc' target=\"_blank\">https://wandb.ai/barbonigiorgia-sapienza-universit-di-roma/graph-classification-graphs_sc</a>"
      ],
      "text/plain": [
       "<IPython.core.display.HTML object>"
      ]
     },
     "metadata": {},
     "output_type": "display_data"
    },
    {
     "data": {
      "text/html": [
       " View sweep at <a href='https://wandb.ai/barbonigiorgia-sapienza-universit-di-roma/graph-classification-graphs_sc/sweeps/f8yd3ova' target=\"_blank\">https://wandb.ai/barbonigiorgia-sapienza-universit-di-roma/graph-classification-graphs_sc/sweeps/f8yd3ova</a>"
      ],
      "text/plain": [
       "<IPython.core.display.HTML object>"
      ]
     },
     "metadata": {},
     "output_type": "display_data"
    },
    {
     "data": {
      "text/html": [
       " View run at <a href='https://wandb.ai/barbonigiorgia-sapienza-universit-di-roma/graph-classification-graphs_sc/runs/aw84lvod' target=\"_blank\">https://wandb.ai/barbonigiorgia-sapienza-universit-di-roma/graph-classification-graphs_sc/runs/aw84lvod</a>"
      ],
      "text/plain": [
       "<IPython.core.display.HTML object>"
      ]
     },
     "metadata": {},
     "output_type": "display_data"
    },
    {
     "name": "stdout",
     "output_type": "stream",
     "text": [
      "Running with config: {'batch_size': 32, 'in_channels': 6, 'learning_rate': 0.01, 'num_epochs': 5, 'num_heads': 3, 'optimizer': 'adam', 'out_channels': 8, 'random_state': 42, 'test_size': 0.3, 'weight_decay': 0}\n"
     ]
    },
    {
     "data": {
      "text/html": [
       "<style>\n",
       "    table.wandb td:nth-child(1) { padding: 0 10px; text-align: left ; width: auto;} td:nth-child(2) {text-align: left ; width: 100%}\n",
       "    .wandb-row { display: flex; flex-direction: row; flex-wrap: wrap; justify-content: flex-start; width: 100% }\n",
       "    .wandb-col { display: flex; flex-direction: column; flex-basis: 100%; flex: 1; padding: 10px; }\n",
       "    </style>\n",
       "<div class=\"wandb-row\"><div class=\"wandb-col\"><h3>Run history:</h3><br/><table class=\"wandb\"><tr><td>epoch</td><td>▁▃▅▆█</td></tr><tr><td>train_accuracy</td><td>▁█▅▆▇</td></tr><tr><td>train_f1</td><td>▂█▁▃▆</td></tr><tr><td>train_loss</td><td>█▅▄▂▁</td></tr><tr><td>val_accuracy</td><td>▁▄▄▄█</td></tr><tr><td>val_f1</td><td>▁▁▁▁█</td></tr><tr><td>val_loss</td><td>█▆▅▃▁</td></tr></table><br/></div><div class=\"wandb-col\"><h3>Run summary:</h3><br/><table class=\"wandb\"><tr><td>epoch</td><td>5</td></tr><tr><td>train_accuracy</td><td>0.616</td></tr><tr><td>train_f1</td><td>0.52053</td></tr><tr><td>train_loss</td><td>0.6224</td></tr><tr><td>val_accuracy</td><td>0.74074</td></tr><tr><td>val_f1</td><td>0.71189</td></tr><tr><td>val_loss</td><td>0.61275</td></tr></table><br/></div></div>"
      ],
      "text/plain": [
       "<IPython.core.display.HTML object>"
      ]
     },
     "metadata": {},
     "output_type": "display_data"
    },
    {
     "data": {
      "text/html": [
       " View run <strong style=\"color:#cdcd00\">blooming-sweep-37</strong> at: <a href='https://wandb.ai/barbonigiorgia-sapienza-universit-di-roma/graph-classification-graphs_sc/runs/aw84lvod' target=\"_blank\">https://wandb.ai/barbonigiorgia-sapienza-universit-di-roma/graph-classification-graphs_sc/runs/aw84lvod</a><br/> View project at: <a href='https://wandb.ai/barbonigiorgia-sapienza-universit-di-roma/graph-classification-graphs_sc' target=\"_blank\">https://wandb.ai/barbonigiorgia-sapienza-universit-di-roma/graph-classification-graphs_sc</a><br/>Synced 5 W&B file(s), 0 media file(s), 6 artifact file(s) and 0 other file(s)"
      ],
      "text/plain": [
       "<IPython.core.display.HTML object>"
      ]
     },
     "metadata": {},
     "output_type": "display_data"
    },
    {
     "data": {
      "text/html": [
       "Find logs at: <code>.\\wandb\\run-20241119_162242-aw84lvod\\logs</code>"
      ],
      "text/plain": [
       "<IPython.core.display.HTML object>"
      ]
     },
     "metadata": {},
     "output_type": "display_data"
    },
    {
     "name": "stderr",
     "output_type": "stream",
     "text": [
      "\u001b[34m\u001b[1mwandb\u001b[0m: Agent Starting Run: qtfqq7qk with config:\n",
      "\u001b[34m\u001b[1mwandb\u001b[0m: \tbatch_size: 32\n",
      "\u001b[34m\u001b[1mwandb\u001b[0m: \tin_channels: 6\n",
      "\u001b[34m\u001b[1mwandb\u001b[0m: \tlearning_rate: 0.01\n",
      "\u001b[34m\u001b[1mwandb\u001b[0m: \tnum_epochs: 5\n",
      "\u001b[34m\u001b[1mwandb\u001b[0m: \tnum_heads: 3\n",
      "\u001b[34m\u001b[1mwandb\u001b[0m: \toptimizer: adam\n",
      "\u001b[34m\u001b[1mwandb\u001b[0m: \tout_channels: 8\n",
      "\u001b[34m\u001b[1mwandb\u001b[0m: \trandom_state: 42\n",
      "\u001b[34m\u001b[1mwandb\u001b[0m: \ttest_size: 0.3\n",
      "\u001b[34m\u001b[1mwandb\u001b[0m: \tweight_decay: 1e-05\n"
     ]
    },
    {
     "data": {
      "text/html": [
       "Tracking run with wandb version 0.18.5"
      ],
      "text/plain": [
       "<IPython.core.display.HTML object>"
      ]
     },
     "metadata": {},
     "output_type": "display_data"
    },
    {
     "data": {
      "text/html": [
       "Run data is saved locally in <code>c:\\Users\\barbo\\brain classifier repo\\brain_classifier\\src\\wandb\\run-20241119_162259-qtfqq7qk</code>"
      ],
      "text/plain": [
       "<IPython.core.display.HTML object>"
      ]
     },
     "metadata": {},
     "output_type": "display_data"
    },
    {
     "data": {
      "text/html": [
       "Syncing run <strong><a href='https://wandb.ai/barbonigiorgia-sapienza-universit-di-roma/graph-classification-graphs_sc/runs/qtfqq7qk' target=\"_blank\">gallant-sweep-38</a></strong> to <a href='https://wandb.ai/barbonigiorgia-sapienza-universit-di-roma/graph-classification-graphs_sc' target=\"_blank\">Weights & Biases</a> (<a href='https://wandb.me/run' target=\"_blank\">docs</a>)<br/>Sweep page: <a href='https://wandb.ai/barbonigiorgia-sapienza-universit-di-roma/graph-classification-graphs_sc/sweeps/f8yd3ova' target=\"_blank\">https://wandb.ai/barbonigiorgia-sapienza-universit-di-roma/graph-classification-graphs_sc/sweeps/f8yd3ova</a>"
      ],
      "text/plain": [
       "<IPython.core.display.HTML object>"
      ]
     },
     "metadata": {},
     "output_type": "display_data"
    },
    {
     "data": {
      "text/html": [
       " View project at <a href='https://wandb.ai/barbonigiorgia-sapienza-universit-di-roma/graph-classification-graphs_sc' target=\"_blank\">https://wandb.ai/barbonigiorgia-sapienza-universit-di-roma/graph-classification-graphs_sc</a>"
      ],
      "text/plain": [
       "<IPython.core.display.HTML object>"
      ]
     },
     "metadata": {},
     "output_type": "display_data"
    },
    {
     "data": {
      "text/html": [
       " View sweep at <a href='https://wandb.ai/barbonigiorgia-sapienza-universit-di-roma/graph-classification-graphs_sc/sweeps/f8yd3ova' target=\"_blank\">https://wandb.ai/barbonigiorgia-sapienza-universit-di-roma/graph-classification-graphs_sc/sweeps/f8yd3ova</a>"
      ],
      "text/plain": [
       "<IPython.core.display.HTML object>"
      ]
     },
     "metadata": {},
     "output_type": "display_data"
    },
    {
     "data": {
      "text/html": [
       " View run at <a href='https://wandb.ai/barbonigiorgia-sapienza-universit-di-roma/graph-classification-graphs_sc/runs/qtfqq7qk' target=\"_blank\">https://wandb.ai/barbonigiorgia-sapienza-universit-di-roma/graph-classification-graphs_sc/runs/qtfqq7qk</a>"
      ],
      "text/plain": [
       "<IPython.core.display.HTML object>"
      ]
     },
     "metadata": {},
     "output_type": "display_data"
    },
    {
     "name": "stdout",
     "output_type": "stream",
     "text": [
      "Running with config: {'batch_size': 32, 'in_channels': 6, 'learning_rate': 0.01, 'num_epochs': 5, 'num_heads': 3, 'optimizer': 'adam', 'out_channels': 8, 'random_state': 42, 'test_size': 0.3, 'weight_decay': 1e-05}\n"
     ]
    },
    {
     "data": {
      "text/html": [
       "<style>\n",
       "    table.wandb td:nth-child(1) { padding: 0 10px; text-align: left ; width: auto;} td:nth-child(2) {text-align: left ; width: 100%}\n",
       "    .wandb-row { display: flex; flex-direction: row; flex-wrap: wrap; justify-content: flex-start; width: 100% }\n",
       "    .wandb-col { display: flex; flex-direction: column; flex-basis: 100%; flex: 1; padding: 10px; }\n",
       "    </style>\n",
       "<div class=\"wandb-row\"><div class=\"wandb-col\"><h3>Run history:</h3><br/><table class=\"wandb\"><tr><td>epoch</td><td>▁▃▅▆█</td></tr><tr><td>train_accuracy</td><td>▁█▅▆▇</td></tr><tr><td>train_f1</td><td>▂█▁▃▆</td></tr><tr><td>train_loss</td><td>█▅▄▂▁</td></tr><tr><td>val_accuracy</td><td>▁▄▄▄█</td></tr><tr><td>val_f1</td><td>▁▁▁▁█</td></tr><tr><td>val_loss</td><td>█▆▅▃▁</td></tr></table><br/></div><div class=\"wandb-col\"><h3>Run summary:</h3><br/><table class=\"wandb\"><tr><td>epoch</td><td>5</td></tr><tr><td>train_accuracy</td><td>0.616</td></tr><tr><td>train_f1</td><td>0.52053</td></tr><tr><td>train_loss</td><td>0.62244</td></tr><tr><td>val_accuracy</td><td>0.74074</td></tr><tr><td>val_f1</td><td>0.71189</td></tr><tr><td>val_loss</td><td>0.6128</td></tr></table><br/></div></div>"
      ],
      "text/plain": [
       "<IPython.core.display.HTML object>"
      ]
     },
     "metadata": {},
     "output_type": "display_data"
    },
    {
     "data": {
      "text/html": [
       " View run <strong style=\"color:#cdcd00\">gallant-sweep-38</strong> at: <a href='https://wandb.ai/barbonigiorgia-sapienza-universit-di-roma/graph-classification-graphs_sc/runs/qtfqq7qk' target=\"_blank\">https://wandb.ai/barbonigiorgia-sapienza-universit-di-roma/graph-classification-graphs_sc/runs/qtfqq7qk</a><br/> View project at: <a href='https://wandb.ai/barbonigiorgia-sapienza-universit-di-roma/graph-classification-graphs_sc' target=\"_blank\">https://wandb.ai/barbonigiorgia-sapienza-universit-di-roma/graph-classification-graphs_sc</a><br/>Synced 5 W&B file(s), 0 media file(s), 6 artifact file(s) and 0 other file(s)"
      ],
      "text/plain": [
       "<IPython.core.display.HTML object>"
      ]
     },
     "metadata": {},
     "output_type": "display_data"
    },
    {
     "data": {
      "text/html": [
       "Find logs at: <code>.\\wandb\\run-20241119_162259-qtfqq7qk\\logs</code>"
      ],
      "text/plain": [
       "<IPython.core.display.HTML object>"
      ]
     },
     "metadata": {},
     "output_type": "display_data"
    },
    {
     "name": "stderr",
     "output_type": "stream",
     "text": [
      "\u001b[34m\u001b[1mwandb\u001b[0m: Agent Starting Run: lo8g8xpa with config:\n",
      "\u001b[34m\u001b[1mwandb\u001b[0m: \tbatch_size: 32\n",
      "\u001b[34m\u001b[1mwandb\u001b[0m: \tin_channels: 6\n",
      "\u001b[34m\u001b[1mwandb\u001b[0m: \tlearning_rate: 0.01\n",
      "\u001b[34m\u001b[1mwandb\u001b[0m: \tnum_epochs: 5\n",
      "\u001b[34m\u001b[1mwandb\u001b[0m: \tnum_heads: 3\n",
      "\u001b[34m\u001b[1mwandb\u001b[0m: \toptimizer: adam\n",
      "\u001b[34m\u001b[1mwandb\u001b[0m: \tout_channels: 8\n",
      "\u001b[34m\u001b[1mwandb\u001b[0m: \trandom_state: 42\n",
      "\u001b[34m\u001b[1mwandb\u001b[0m: \ttest_size: 0.3\n",
      "\u001b[34m\u001b[1mwandb\u001b[0m: \tweight_decay: 0.0001\n"
     ]
    },
    {
     "data": {
      "text/html": [
       "Tracking run with wandb version 0.18.5"
      ],
      "text/plain": [
       "<IPython.core.display.HTML object>"
      ]
     },
     "metadata": {},
     "output_type": "display_data"
    },
    {
     "data": {
      "text/html": [
       "Run data is saved locally in <code>c:\\Users\\barbo\\brain classifier repo\\brain_classifier\\src\\wandb\\run-20241119_162320-lo8g8xpa</code>"
      ],
      "text/plain": [
       "<IPython.core.display.HTML object>"
      ]
     },
     "metadata": {},
     "output_type": "display_data"
    },
    {
     "data": {
      "text/html": [
       "Syncing run <strong><a href='https://wandb.ai/barbonigiorgia-sapienza-universit-di-roma/graph-classification-graphs_sc/runs/lo8g8xpa' target=\"_blank\">sweepy-sweep-39</a></strong> to <a href='https://wandb.ai/barbonigiorgia-sapienza-universit-di-roma/graph-classification-graphs_sc' target=\"_blank\">Weights & Biases</a> (<a href='https://wandb.me/run' target=\"_blank\">docs</a>)<br/>Sweep page: <a href='https://wandb.ai/barbonigiorgia-sapienza-universit-di-roma/graph-classification-graphs_sc/sweeps/f8yd3ova' target=\"_blank\">https://wandb.ai/barbonigiorgia-sapienza-universit-di-roma/graph-classification-graphs_sc/sweeps/f8yd3ova</a>"
      ],
      "text/plain": [
       "<IPython.core.display.HTML object>"
      ]
     },
     "metadata": {},
     "output_type": "display_data"
    },
    {
     "data": {
      "text/html": [
       " View project at <a href='https://wandb.ai/barbonigiorgia-sapienza-universit-di-roma/graph-classification-graphs_sc' target=\"_blank\">https://wandb.ai/barbonigiorgia-sapienza-universit-di-roma/graph-classification-graphs_sc</a>"
      ],
      "text/plain": [
       "<IPython.core.display.HTML object>"
      ]
     },
     "metadata": {},
     "output_type": "display_data"
    },
    {
     "data": {
      "text/html": [
       " View sweep at <a href='https://wandb.ai/barbonigiorgia-sapienza-universit-di-roma/graph-classification-graphs_sc/sweeps/f8yd3ova' target=\"_blank\">https://wandb.ai/barbonigiorgia-sapienza-universit-di-roma/graph-classification-graphs_sc/sweeps/f8yd3ova</a>"
      ],
      "text/plain": [
       "<IPython.core.display.HTML object>"
      ]
     },
     "metadata": {},
     "output_type": "display_data"
    },
    {
     "data": {
      "text/html": [
       " View run at <a href='https://wandb.ai/barbonigiorgia-sapienza-universit-di-roma/graph-classification-graphs_sc/runs/lo8g8xpa' target=\"_blank\">https://wandb.ai/barbonigiorgia-sapienza-universit-di-roma/graph-classification-graphs_sc/runs/lo8g8xpa</a>"
      ],
      "text/plain": [
       "<IPython.core.display.HTML object>"
      ]
     },
     "metadata": {},
     "output_type": "display_data"
    },
    {
     "name": "stdout",
     "output_type": "stream",
     "text": [
      "Running with config: {'batch_size': 32, 'in_channels': 6, 'learning_rate': 0.01, 'num_epochs': 5, 'num_heads': 3, 'optimizer': 'adam', 'out_channels': 8, 'random_state': 42, 'test_size': 0.3, 'weight_decay': 0.0001}\n"
     ]
    },
    {
     "data": {
      "text/html": [
       "<style>\n",
       "    table.wandb td:nth-child(1) { padding: 0 10px; text-align: left ; width: auto;} td:nth-child(2) {text-align: left ; width: 100%}\n",
       "    .wandb-row { display: flex; flex-direction: row; flex-wrap: wrap; justify-content: flex-start; width: 100% }\n",
       "    .wandb-col { display: flex; flex-direction: column; flex-basis: 100%; flex: 1; padding: 10px; }\n",
       "    </style>\n",
       "<div class=\"wandb-row\"><div class=\"wandb-col\"><h3>Run history:</h3><br/><table class=\"wandb\"><tr><td>epoch</td><td>▁▃▅▆█</td></tr><tr><td>train_accuracy</td><td>▁█▅▆▇</td></tr><tr><td>train_f1</td><td>▂█▁▃▆</td></tr><tr><td>train_loss</td><td>█▅▄▂▁</td></tr><tr><td>val_accuracy</td><td>▁▄▄▄█</td></tr><tr><td>val_f1</td><td>▁▁▁▁█</td></tr><tr><td>val_loss</td><td>█▆▅▃▁</td></tr></table><br/></div><div class=\"wandb-col\"><h3>Run summary:</h3><br/><table class=\"wandb\"><tr><td>epoch</td><td>5</td></tr><tr><td>train_accuracy</td><td>0.616</td></tr><tr><td>train_f1</td><td>0.52053</td></tr><tr><td>train_loss</td><td>0.62289</td></tr><tr><td>val_accuracy</td><td>0.74074</td></tr><tr><td>val_f1</td><td>0.71189</td></tr><tr><td>val_loss</td><td>0.6134</td></tr></table><br/></div></div>"
      ],
      "text/plain": [
       "<IPython.core.display.HTML object>"
      ]
     },
     "metadata": {},
     "output_type": "display_data"
    },
    {
     "data": {
      "text/html": [
       " View run <strong style=\"color:#cdcd00\">sweepy-sweep-39</strong> at: <a href='https://wandb.ai/barbonigiorgia-sapienza-universit-di-roma/graph-classification-graphs_sc/runs/lo8g8xpa' target=\"_blank\">https://wandb.ai/barbonigiorgia-sapienza-universit-di-roma/graph-classification-graphs_sc/runs/lo8g8xpa</a><br/> View project at: <a href='https://wandb.ai/barbonigiorgia-sapienza-universit-di-roma/graph-classification-graphs_sc' target=\"_blank\">https://wandb.ai/barbonigiorgia-sapienza-universit-di-roma/graph-classification-graphs_sc</a><br/>Synced 5 W&B file(s), 0 media file(s), 6 artifact file(s) and 0 other file(s)"
      ],
      "text/plain": [
       "<IPython.core.display.HTML object>"
      ]
     },
     "metadata": {},
     "output_type": "display_data"
    },
    {
     "data": {
      "text/html": [
       "Find logs at: <code>.\\wandb\\run-20241119_162320-lo8g8xpa\\logs</code>"
      ],
      "text/plain": [
       "<IPython.core.display.HTML object>"
      ]
     },
     "metadata": {},
     "output_type": "display_data"
    },
    {
     "name": "stderr",
     "output_type": "stream",
     "text": [
      "\u001b[34m\u001b[1mwandb\u001b[0m: Agent Starting Run: eyzj3x1k with config:\n",
      "\u001b[34m\u001b[1mwandb\u001b[0m: \tbatch_size: 32\n",
      "\u001b[34m\u001b[1mwandb\u001b[0m: \tin_channels: 6\n",
      "\u001b[34m\u001b[1mwandb\u001b[0m: \tlearning_rate: 0.01\n",
      "\u001b[34m\u001b[1mwandb\u001b[0m: \tnum_epochs: 5\n",
      "\u001b[34m\u001b[1mwandb\u001b[0m: \tnum_heads: 3\n",
      "\u001b[34m\u001b[1mwandb\u001b[0m: \toptimizer: adam\n",
      "\u001b[34m\u001b[1mwandb\u001b[0m: \tout_channels: 16\n",
      "\u001b[34m\u001b[1mwandb\u001b[0m: \trandom_state: 42\n",
      "\u001b[34m\u001b[1mwandb\u001b[0m: \ttest_size: 0.3\n",
      "\u001b[34m\u001b[1mwandb\u001b[0m: \tweight_decay: 0\n"
     ]
    },
    {
     "data": {
      "text/html": [
       "Tracking run with wandb version 0.18.5"
      ],
      "text/plain": [
       "<IPython.core.display.HTML object>"
      ]
     },
     "metadata": {},
     "output_type": "display_data"
    },
    {
     "data": {
      "text/html": [
       "Run data is saved locally in <code>c:\\Users\\barbo\\brain classifier repo\\brain_classifier\\src\\wandb\\run-20241119_162341-eyzj3x1k</code>"
      ],
      "text/plain": [
       "<IPython.core.display.HTML object>"
      ]
     },
     "metadata": {},
     "output_type": "display_data"
    },
    {
     "data": {
      "text/html": [
       "Syncing run <strong><a href='https://wandb.ai/barbonigiorgia-sapienza-universit-di-roma/graph-classification-graphs_sc/runs/eyzj3x1k' target=\"_blank\">peachy-sweep-40</a></strong> to <a href='https://wandb.ai/barbonigiorgia-sapienza-universit-di-roma/graph-classification-graphs_sc' target=\"_blank\">Weights & Biases</a> (<a href='https://wandb.me/run' target=\"_blank\">docs</a>)<br/>Sweep page: <a href='https://wandb.ai/barbonigiorgia-sapienza-universit-di-roma/graph-classification-graphs_sc/sweeps/f8yd3ova' target=\"_blank\">https://wandb.ai/barbonigiorgia-sapienza-universit-di-roma/graph-classification-graphs_sc/sweeps/f8yd3ova</a>"
      ],
      "text/plain": [
       "<IPython.core.display.HTML object>"
      ]
     },
     "metadata": {},
     "output_type": "display_data"
    },
    {
     "data": {
      "text/html": [
       " View project at <a href='https://wandb.ai/barbonigiorgia-sapienza-universit-di-roma/graph-classification-graphs_sc' target=\"_blank\">https://wandb.ai/barbonigiorgia-sapienza-universit-di-roma/graph-classification-graphs_sc</a>"
      ],
      "text/plain": [
       "<IPython.core.display.HTML object>"
      ]
     },
     "metadata": {},
     "output_type": "display_data"
    },
    {
     "data": {
      "text/html": [
       " View sweep at <a href='https://wandb.ai/barbonigiorgia-sapienza-universit-di-roma/graph-classification-graphs_sc/sweeps/f8yd3ova' target=\"_blank\">https://wandb.ai/barbonigiorgia-sapienza-universit-di-roma/graph-classification-graphs_sc/sweeps/f8yd3ova</a>"
      ],
      "text/plain": [
       "<IPython.core.display.HTML object>"
      ]
     },
     "metadata": {},
     "output_type": "display_data"
    },
    {
     "data": {
      "text/html": [
       " View run at <a href='https://wandb.ai/barbonigiorgia-sapienza-universit-di-roma/graph-classification-graphs_sc/runs/eyzj3x1k' target=\"_blank\">https://wandb.ai/barbonigiorgia-sapienza-universit-di-roma/graph-classification-graphs_sc/runs/eyzj3x1k</a>"
      ],
      "text/plain": [
       "<IPython.core.display.HTML object>"
      ]
     },
     "metadata": {},
     "output_type": "display_data"
    },
    {
     "name": "stdout",
     "output_type": "stream",
     "text": [
      "Running with config: {'batch_size': 32, 'in_channels': 6, 'learning_rate': 0.01, 'num_epochs': 5, 'num_heads': 3, 'optimizer': 'adam', 'out_channels': 16, 'random_state': 42, 'test_size': 0.3, 'weight_decay': 0}\n"
     ]
    },
    {
     "data": {
      "text/html": [
       "<style>\n",
       "    table.wandb td:nth-child(1) { padding: 0 10px; text-align: left ; width: auto;} td:nth-child(2) {text-align: left ; width: 100%}\n",
       "    .wandb-row { display: flex; flex-direction: row; flex-wrap: wrap; justify-content: flex-start; width: 100% }\n",
       "    .wandb-col { display: flex; flex-direction: column; flex-basis: 100%; flex: 1; padding: 10px; }\n",
       "    </style>\n",
       "<div class=\"wandb-row\"><div class=\"wandb-col\"><h3>Run history:</h3><br/><table class=\"wandb\"><tr><td>epoch</td><td>▁▃▅▆█</td></tr><tr><td>train_accuracy</td><td>▁▃▃▆█</td></tr><tr><td>train_f1</td><td>▃▁▁▆█</td></tr><tr><td>train_loss</td><td>█▅▄▂▁</td></tr><tr><td>val_accuracy</td><td>▁▁▄▇█</td></tr><tr><td>val_f1</td><td>▁▁▄▇█</td></tr><tr><td>val_loss</td><td>█▇▅▃▁</td></tr></table><br/></div><div class=\"wandb-col\"><h3>Run summary:</h3><br/><table class=\"wandb\"><tr><td>epoch</td><td>5</td></tr><tr><td>train_accuracy</td><td>0.736</td></tr><tr><td>train_f1</td><td>0.7234</td></tr><tr><td>train_loss</td><td>0.59609</td></tr><tr><td>val_accuracy</td><td>0.77778</td></tr><tr><td>val_f1</td><td>0.76863</td></tr><tr><td>val_loss</td><td>0.58889</td></tr></table><br/></div></div>"
      ],
      "text/plain": [
       "<IPython.core.display.HTML object>"
      ]
     },
     "metadata": {},
     "output_type": "display_data"
    },
    {
     "data": {
      "text/html": [
       " View run <strong style=\"color:#cdcd00\">peachy-sweep-40</strong> at: <a href='https://wandb.ai/barbonigiorgia-sapienza-universit-di-roma/graph-classification-graphs_sc/runs/eyzj3x1k' target=\"_blank\">https://wandb.ai/barbonigiorgia-sapienza-universit-di-roma/graph-classification-graphs_sc/runs/eyzj3x1k</a><br/> View project at: <a href='https://wandb.ai/barbonigiorgia-sapienza-universit-di-roma/graph-classification-graphs_sc' target=\"_blank\">https://wandb.ai/barbonigiorgia-sapienza-universit-di-roma/graph-classification-graphs_sc</a><br/>Synced 5 W&B file(s), 0 media file(s), 10 artifact file(s) and 0 other file(s)"
      ],
      "text/plain": [
       "<IPython.core.display.HTML object>"
      ]
     },
     "metadata": {},
     "output_type": "display_data"
    },
    {
     "data": {
      "text/html": [
       "Find logs at: <code>.\\wandb\\run-20241119_162341-eyzj3x1k\\logs</code>"
      ],
      "text/plain": [
       "<IPython.core.display.HTML object>"
      ]
     },
     "metadata": {},
     "output_type": "display_data"
    },
    {
     "name": "stderr",
     "output_type": "stream",
     "text": [
      "\u001b[34m\u001b[1mwandb\u001b[0m: Agent Starting Run: blx7r0mu with config:\n",
      "\u001b[34m\u001b[1mwandb\u001b[0m: \tbatch_size: 32\n",
      "\u001b[34m\u001b[1mwandb\u001b[0m: \tin_channels: 6\n",
      "\u001b[34m\u001b[1mwandb\u001b[0m: \tlearning_rate: 0.01\n",
      "\u001b[34m\u001b[1mwandb\u001b[0m: \tnum_epochs: 5\n",
      "\u001b[34m\u001b[1mwandb\u001b[0m: \tnum_heads: 3\n",
      "\u001b[34m\u001b[1mwandb\u001b[0m: \toptimizer: adam\n",
      "\u001b[34m\u001b[1mwandb\u001b[0m: \tout_channels: 16\n",
      "\u001b[34m\u001b[1mwandb\u001b[0m: \trandom_state: 42\n",
      "\u001b[34m\u001b[1mwandb\u001b[0m: \ttest_size: 0.3\n",
      "\u001b[34m\u001b[1mwandb\u001b[0m: \tweight_decay: 1e-05\n"
     ]
    },
    {
     "data": {
      "text/html": [
       "Tracking run with wandb version 0.18.5"
      ],
      "text/plain": [
       "<IPython.core.display.HTML object>"
      ]
     },
     "metadata": {},
     "output_type": "display_data"
    },
    {
     "data": {
      "text/html": [
       "Run data is saved locally in <code>c:\\Users\\barbo\\brain classifier repo\\brain_classifier\\src\\wandb\\run-20241119_162401-blx7r0mu</code>"
      ],
      "text/plain": [
       "<IPython.core.display.HTML object>"
      ]
     },
     "metadata": {},
     "output_type": "display_data"
    },
    {
     "data": {
      "text/html": [
       "Syncing run <strong><a href='https://wandb.ai/barbonigiorgia-sapienza-universit-di-roma/graph-classification-graphs_sc/runs/blx7r0mu' target=\"_blank\">desert-sweep-41</a></strong> to <a href='https://wandb.ai/barbonigiorgia-sapienza-universit-di-roma/graph-classification-graphs_sc' target=\"_blank\">Weights & Biases</a> (<a href='https://wandb.me/run' target=\"_blank\">docs</a>)<br/>Sweep page: <a href='https://wandb.ai/barbonigiorgia-sapienza-universit-di-roma/graph-classification-graphs_sc/sweeps/f8yd3ova' target=\"_blank\">https://wandb.ai/barbonigiorgia-sapienza-universit-di-roma/graph-classification-graphs_sc/sweeps/f8yd3ova</a>"
      ],
      "text/plain": [
       "<IPython.core.display.HTML object>"
      ]
     },
     "metadata": {},
     "output_type": "display_data"
    },
    {
     "data": {
      "text/html": [
       " View project at <a href='https://wandb.ai/barbonigiorgia-sapienza-universit-di-roma/graph-classification-graphs_sc' target=\"_blank\">https://wandb.ai/barbonigiorgia-sapienza-universit-di-roma/graph-classification-graphs_sc</a>"
      ],
      "text/plain": [
       "<IPython.core.display.HTML object>"
      ]
     },
     "metadata": {},
     "output_type": "display_data"
    },
    {
     "data": {
      "text/html": [
       " View sweep at <a href='https://wandb.ai/barbonigiorgia-sapienza-universit-di-roma/graph-classification-graphs_sc/sweeps/f8yd3ova' target=\"_blank\">https://wandb.ai/barbonigiorgia-sapienza-universit-di-roma/graph-classification-graphs_sc/sweeps/f8yd3ova</a>"
      ],
      "text/plain": [
       "<IPython.core.display.HTML object>"
      ]
     },
     "metadata": {},
     "output_type": "display_data"
    },
    {
     "data": {
      "text/html": [
       " View run at <a href='https://wandb.ai/barbonigiorgia-sapienza-universit-di-roma/graph-classification-graphs_sc/runs/blx7r0mu' target=\"_blank\">https://wandb.ai/barbonigiorgia-sapienza-universit-di-roma/graph-classification-graphs_sc/runs/blx7r0mu</a>"
      ],
      "text/plain": [
       "<IPython.core.display.HTML object>"
      ]
     },
     "metadata": {},
     "output_type": "display_data"
    },
    {
     "name": "stdout",
     "output_type": "stream",
     "text": [
      "Running with config: {'batch_size': 32, 'in_channels': 6, 'learning_rate': 0.01, 'num_epochs': 5, 'num_heads': 3, 'optimizer': 'adam', 'out_channels': 16, 'random_state': 42, 'test_size': 0.3, 'weight_decay': 1e-05}\n"
     ]
    },
    {
     "data": {
      "text/html": [
       "<style>\n",
       "    table.wandb td:nth-child(1) { padding: 0 10px; text-align: left ; width: auto;} td:nth-child(2) {text-align: left ; width: 100%}\n",
       "    .wandb-row { display: flex; flex-direction: row; flex-wrap: wrap; justify-content: flex-start; width: 100% }\n",
       "    .wandb-col { display: flex; flex-direction: column; flex-basis: 100%; flex: 1; padding: 10px; }\n",
       "    </style>\n",
       "<div class=\"wandb-row\"><div class=\"wandb-col\"><h3>Run history:</h3><br/><table class=\"wandb\"><tr><td>epoch</td><td>▁▃▅▆█</td></tr><tr><td>train_accuracy</td><td>▁▃▃▆█</td></tr><tr><td>train_f1</td><td>▃▁▁▆█</td></tr><tr><td>train_loss</td><td>█▅▄▂▁</td></tr><tr><td>val_accuracy</td><td>▁▁▄▇█</td></tr><tr><td>val_f1</td><td>▁▁▄▇█</td></tr><tr><td>val_loss</td><td>█▇▅▃▁</td></tr></table><br/></div><div class=\"wandb-col\"><h3>Run summary:</h3><br/><table class=\"wandb\"><tr><td>epoch</td><td>5</td></tr><tr><td>train_accuracy</td><td>0.736</td></tr><tr><td>train_f1</td><td>0.7234</td></tr><tr><td>train_loss</td><td>0.59614</td></tr><tr><td>val_accuracy</td><td>0.77778</td></tr><tr><td>val_f1</td><td>0.76863</td></tr><tr><td>val_loss</td><td>0.58896</td></tr></table><br/></div></div>"
      ],
      "text/plain": [
       "<IPython.core.display.HTML object>"
      ]
     },
     "metadata": {},
     "output_type": "display_data"
    },
    {
     "data": {
      "text/html": [
       " View run <strong style=\"color:#cdcd00\">desert-sweep-41</strong> at: <a href='https://wandb.ai/barbonigiorgia-sapienza-universit-di-roma/graph-classification-graphs_sc/runs/blx7r0mu' target=\"_blank\">https://wandb.ai/barbonigiorgia-sapienza-universit-di-roma/graph-classification-graphs_sc/runs/blx7r0mu</a><br/> View project at: <a href='https://wandb.ai/barbonigiorgia-sapienza-universit-di-roma/graph-classification-graphs_sc' target=\"_blank\">https://wandb.ai/barbonigiorgia-sapienza-universit-di-roma/graph-classification-graphs_sc</a><br/>Synced 5 W&B file(s), 0 media file(s), 10 artifact file(s) and 0 other file(s)"
      ],
      "text/plain": [
       "<IPython.core.display.HTML object>"
      ]
     },
     "metadata": {},
     "output_type": "display_data"
    },
    {
     "data": {
      "text/html": [
       "Find logs at: <code>.\\wandb\\run-20241119_162401-blx7r0mu\\logs</code>"
      ],
      "text/plain": [
       "<IPython.core.display.HTML object>"
      ]
     },
     "metadata": {},
     "output_type": "display_data"
    },
    {
     "name": "stderr",
     "output_type": "stream",
     "text": [
      "\u001b[34m\u001b[1mwandb\u001b[0m: Sweep Agent: Waiting for job.\n",
      "\u001b[34m\u001b[1mwandb\u001b[0m: Job received.\n",
      "\u001b[34m\u001b[1mwandb\u001b[0m: Agent Starting Run: 4o14chif with config:\n",
      "\u001b[34m\u001b[1mwandb\u001b[0m: \tbatch_size: 32\n",
      "\u001b[34m\u001b[1mwandb\u001b[0m: \tin_channels: 6\n",
      "\u001b[34m\u001b[1mwandb\u001b[0m: \tlearning_rate: 0.01\n",
      "\u001b[34m\u001b[1mwandb\u001b[0m: \tnum_epochs: 5\n",
      "\u001b[34m\u001b[1mwandb\u001b[0m: \tnum_heads: 3\n",
      "\u001b[34m\u001b[1mwandb\u001b[0m: \toptimizer: adam\n",
      "\u001b[34m\u001b[1mwandb\u001b[0m: \tout_channels: 16\n",
      "\u001b[34m\u001b[1mwandb\u001b[0m: \trandom_state: 42\n",
      "\u001b[34m\u001b[1mwandb\u001b[0m: \ttest_size: 0.3\n",
      "\u001b[34m\u001b[1mwandb\u001b[0m: \tweight_decay: 0.0001\n"
     ]
    },
    {
     "data": {
      "text/html": [
       "Tracking run with wandb version 0.18.5"
      ],
      "text/plain": [
       "<IPython.core.display.HTML object>"
      ]
     },
     "metadata": {},
     "output_type": "display_data"
    },
    {
     "data": {
      "text/html": [
       "Run data is saved locally in <code>c:\\Users\\barbo\\brain classifier repo\\brain_classifier\\src\\wandb\\run-20241119_162433-4o14chif</code>"
      ],
      "text/plain": [
       "<IPython.core.display.HTML object>"
      ]
     },
     "metadata": {},
     "output_type": "display_data"
    },
    {
     "data": {
      "text/html": [
       "Syncing run <strong><a href='https://wandb.ai/barbonigiorgia-sapienza-universit-di-roma/graph-classification-graphs_sc/runs/4o14chif' target=\"_blank\">woven-sweep-42</a></strong> to <a href='https://wandb.ai/barbonigiorgia-sapienza-universit-di-roma/graph-classification-graphs_sc' target=\"_blank\">Weights & Biases</a> (<a href='https://wandb.me/run' target=\"_blank\">docs</a>)<br/>Sweep page: <a href='https://wandb.ai/barbonigiorgia-sapienza-universit-di-roma/graph-classification-graphs_sc/sweeps/f8yd3ova' target=\"_blank\">https://wandb.ai/barbonigiorgia-sapienza-universit-di-roma/graph-classification-graphs_sc/sweeps/f8yd3ova</a>"
      ],
      "text/plain": [
       "<IPython.core.display.HTML object>"
      ]
     },
     "metadata": {},
     "output_type": "display_data"
    },
    {
     "data": {
      "text/html": [
       " View project at <a href='https://wandb.ai/barbonigiorgia-sapienza-universit-di-roma/graph-classification-graphs_sc' target=\"_blank\">https://wandb.ai/barbonigiorgia-sapienza-universit-di-roma/graph-classification-graphs_sc</a>"
      ],
      "text/plain": [
       "<IPython.core.display.HTML object>"
      ]
     },
     "metadata": {},
     "output_type": "display_data"
    },
    {
     "data": {
      "text/html": [
       " View sweep at <a href='https://wandb.ai/barbonigiorgia-sapienza-universit-di-roma/graph-classification-graphs_sc/sweeps/f8yd3ova' target=\"_blank\">https://wandb.ai/barbonigiorgia-sapienza-universit-di-roma/graph-classification-graphs_sc/sweeps/f8yd3ova</a>"
      ],
      "text/plain": [
       "<IPython.core.display.HTML object>"
      ]
     },
     "metadata": {},
     "output_type": "display_data"
    },
    {
     "data": {
      "text/html": [
       " View run at <a href='https://wandb.ai/barbonigiorgia-sapienza-universit-di-roma/graph-classification-graphs_sc/runs/4o14chif' target=\"_blank\">https://wandb.ai/barbonigiorgia-sapienza-universit-di-roma/graph-classification-graphs_sc/runs/4o14chif</a>"
      ],
      "text/plain": [
       "<IPython.core.display.HTML object>"
      ]
     },
     "metadata": {},
     "output_type": "display_data"
    },
    {
     "name": "stdout",
     "output_type": "stream",
     "text": [
      "Running with config: {'batch_size': 32, 'in_channels': 6, 'learning_rate': 0.01, 'num_epochs': 5, 'num_heads': 3, 'optimizer': 'adam', 'out_channels': 16, 'random_state': 42, 'test_size': 0.3, 'weight_decay': 0.0001}\n"
     ]
    },
    {
     "data": {
      "text/html": [
       "<style>\n",
       "    table.wandb td:nth-child(1) { padding: 0 10px; text-align: left ; width: auto;} td:nth-child(2) {text-align: left ; width: 100%}\n",
       "    .wandb-row { display: flex; flex-direction: row; flex-wrap: wrap; justify-content: flex-start; width: 100% }\n",
       "    .wandb-col { display: flex; flex-direction: column; flex-basis: 100%; flex: 1; padding: 10px; }\n",
       "    </style>\n",
       "<div class=\"wandb-row\"><div class=\"wandb-col\"><h3>Run history:</h3><br/><table class=\"wandb\"><tr><td>epoch</td><td>▁▃▅▆█</td></tr><tr><td>train_accuracy</td><td>▁▃▃▆█</td></tr><tr><td>train_f1</td><td>▃▁▁▆█</td></tr><tr><td>train_loss</td><td>█▅▄▂▁</td></tr><tr><td>val_accuracy</td><td>▁▁▄▇█</td></tr><tr><td>val_f1</td><td>▁▁▄▇█</td></tr><tr><td>val_loss</td><td>█▇▅▃▁</td></tr></table><br/></div><div class=\"wandb-col\"><h3>Run summary:</h3><br/><table class=\"wandb\"><tr><td>epoch</td><td>5</td></tr><tr><td>train_accuracy</td><td>0.736</td></tr><tr><td>train_f1</td><td>0.7234</td></tr><tr><td>train_loss</td><td>0.59656</td></tr><tr><td>val_accuracy</td><td>0.77778</td></tr><tr><td>val_f1</td><td>0.76863</td></tr><tr><td>val_loss</td><td>0.58961</td></tr></table><br/></div></div>"
      ],
      "text/plain": [
       "<IPython.core.display.HTML object>"
      ]
     },
     "metadata": {},
     "output_type": "display_data"
    },
    {
     "data": {
      "text/html": [
       " View run <strong style=\"color:#cdcd00\">woven-sweep-42</strong> at: <a href='https://wandb.ai/barbonigiorgia-sapienza-universit-di-roma/graph-classification-graphs_sc/runs/4o14chif' target=\"_blank\">https://wandb.ai/barbonigiorgia-sapienza-universit-di-roma/graph-classification-graphs_sc/runs/4o14chif</a><br/> View project at: <a href='https://wandb.ai/barbonigiorgia-sapienza-universit-di-roma/graph-classification-graphs_sc' target=\"_blank\">https://wandb.ai/barbonigiorgia-sapienza-universit-di-roma/graph-classification-graphs_sc</a><br/>Synced 5 W&B file(s), 0 media file(s), 10 artifact file(s) and 0 other file(s)"
      ],
      "text/plain": [
       "<IPython.core.display.HTML object>"
      ]
     },
     "metadata": {},
     "output_type": "display_data"
    },
    {
     "data": {
      "text/html": [
       "Find logs at: <code>.\\wandb\\run-20241119_162433-4o14chif\\logs</code>"
      ],
      "text/plain": [
       "<IPython.core.display.HTML object>"
      ]
     },
     "metadata": {},
     "output_type": "display_data"
    },
    {
     "name": "stderr",
     "output_type": "stream",
     "text": [
      "\u001b[34m\u001b[1mwandb\u001b[0m: Agent Starting Run: fwvk4ej4 with config:\n",
      "\u001b[34m\u001b[1mwandb\u001b[0m: \tbatch_size: 32\n",
      "\u001b[34m\u001b[1mwandb\u001b[0m: \tin_channels: 6\n",
      "\u001b[34m\u001b[1mwandb\u001b[0m: \tlearning_rate: 0.01\n",
      "\u001b[34m\u001b[1mwandb\u001b[0m: \tnum_epochs: 5\n",
      "\u001b[34m\u001b[1mwandb\u001b[0m: \tnum_heads: 4\n",
      "\u001b[34m\u001b[1mwandb\u001b[0m: \toptimizer: adam\n",
      "\u001b[34m\u001b[1mwandb\u001b[0m: \tout_channels: 8\n",
      "\u001b[34m\u001b[1mwandb\u001b[0m: \trandom_state: 42\n",
      "\u001b[34m\u001b[1mwandb\u001b[0m: \ttest_size: 0.3\n",
      "\u001b[34m\u001b[1mwandb\u001b[0m: \tweight_decay: 0\n"
     ]
    },
    {
     "data": {
      "text/html": [
       "Tracking run with wandb version 0.18.5"
      ],
      "text/plain": [
       "<IPython.core.display.HTML object>"
      ]
     },
     "metadata": {},
     "output_type": "display_data"
    },
    {
     "data": {
      "text/html": [
       "Run data is saved locally in <code>c:\\Users\\barbo\\brain classifier repo\\brain_classifier\\src\\wandb\\run-20241119_162455-fwvk4ej4</code>"
      ],
      "text/plain": [
       "<IPython.core.display.HTML object>"
      ]
     },
     "metadata": {},
     "output_type": "display_data"
    },
    {
     "data": {
      "text/html": [
       "Syncing run <strong><a href='https://wandb.ai/barbonigiorgia-sapienza-universit-di-roma/graph-classification-graphs_sc/runs/fwvk4ej4' target=\"_blank\">prime-sweep-43</a></strong> to <a href='https://wandb.ai/barbonigiorgia-sapienza-universit-di-roma/graph-classification-graphs_sc' target=\"_blank\">Weights & Biases</a> (<a href='https://wandb.me/run' target=\"_blank\">docs</a>)<br/>Sweep page: <a href='https://wandb.ai/barbonigiorgia-sapienza-universit-di-roma/graph-classification-graphs_sc/sweeps/f8yd3ova' target=\"_blank\">https://wandb.ai/barbonigiorgia-sapienza-universit-di-roma/graph-classification-graphs_sc/sweeps/f8yd3ova</a>"
      ],
      "text/plain": [
       "<IPython.core.display.HTML object>"
      ]
     },
     "metadata": {},
     "output_type": "display_data"
    },
    {
     "data": {
      "text/html": [
       " View project at <a href='https://wandb.ai/barbonigiorgia-sapienza-universit-di-roma/graph-classification-graphs_sc' target=\"_blank\">https://wandb.ai/barbonigiorgia-sapienza-universit-di-roma/graph-classification-graphs_sc</a>"
      ],
      "text/plain": [
       "<IPython.core.display.HTML object>"
      ]
     },
     "metadata": {},
     "output_type": "display_data"
    },
    {
     "data": {
      "text/html": [
       " View sweep at <a href='https://wandb.ai/barbonigiorgia-sapienza-universit-di-roma/graph-classification-graphs_sc/sweeps/f8yd3ova' target=\"_blank\">https://wandb.ai/barbonigiorgia-sapienza-universit-di-roma/graph-classification-graphs_sc/sweeps/f8yd3ova</a>"
      ],
      "text/plain": [
       "<IPython.core.display.HTML object>"
      ]
     },
     "metadata": {},
     "output_type": "display_data"
    },
    {
     "data": {
      "text/html": [
       " View run at <a href='https://wandb.ai/barbonigiorgia-sapienza-universit-di-roma/graph-classification-graphs_sc/runs/fwvk4ej4' target=\"_blank\">https://wandb.ai/barbonigiorgia-sapienza-universit-di-roma/graph-classification-graphs_sc/runs/fwvk4ej4</a>"
      ],
      "text/plain": [
       "<IPython.core.display.HTML object>"
      ]
     },
     "metadata": {},
     "output_type": "display_data"
    },
    {
     "name": "stdout",
     "output_type": "stream",
     "text": [
      "Running with config: {'batch_size': 32, 'in_channels': 6, 'learning_rate': 0.01, 'num_epochs': 5, 'num_heads': 4, 'optimizer': 'adam', 'out_channels': 8, 'random_state': 42, 'test_size': 0.3, 'weight_decay': 0}\n"
     ]
    },
    {
     "data": {
      "text/html": [
       "<style>\n",
       "    table.wandb td:nth-child(1) { padding: 0 10px; text-align: left ; width: auto;} td:nth-child(2) {text-align: left ; width: 100%}\n",
       "    .wandb-row { display: flex; flex-direction: row; flex-wrap: wrap; justify-content: flex-start; width: 100% }\n",
       "    .wandb-col { display: flex; flex-direction: column; flex-basis: 100%; flex: 1; padding: 10px; }\n",
       "    </style>\n",
       "<div class=\"wandb-row\"><div class=\"wandb-col\"><h3>Run history:</h3><br/><table class=\"wandb\"><tr><td>epoch</td><td>▁▃▅▆█</td></tr><tr><td>train_accuracy</td><td>▁▄▄▅█</td></tr><tr><td>train_f1</td><td>▄▁▂▃█</td></tr><tr><td>train_loss</td><td>█▅▄▃▁</td></tr><tr><td>val_accuracy</td><td>▁▁▁▁█</td></tr><tr><td>val_f1</td><td>▁▁▁▁█</td></tr><tr><td>val_loss</td><td>█▆▅▃▁</td></tr></table><br/></div><div class=\"wandb-col\"><h3>Run summary:</h3><br/><table class=\"wandb\"><tr><td>epoch</td><td>5</td></tr><tr><td>train_accuracy</td><td>0.672</td></tr><tr><td>train_f1</td><td>0.6258</td></tr><tr><td>train_loss</td><td>0.61632</td></tr><tr><td>val_accuracy</td><td>0.74074</td></tr><tr><td>val_f1</td><td>0.71189</td></tr><tr><td>val_loss</td><td>0.60563</td></tr></table><br/></div></div>"
      ],
      "text/plain": [
       "<IPython.core.display.HTML object>"
      ]
     },
     "metadata": {},
     "output_type": "display_data"
    },
    {
     "data": {
      "text/html": [
       " View run <strong style=\"color:#cdcd00\">prime-sweep-43</strong> at: <a href='https://wandb.ai/barbonigiorgia-sapienza-universit-di-roma/graph-classification-graphs_sc/runs/fwvk4ej4' target=\"_blank\">https://wandb.ai/barbonigiorgia-sapienza-universit-di-roma/graph-classification-graphs_sc/runs/fwvk4ej4</a><br/> View project at: <a href='https://wandb.ai/barbonigiorgia-sapienza-universit-di-roma/graph-classification-graphs_sc' target=\"_blank\">https://wandb.ai/barbonigiorgia-sapienza-universit-di-roma/graph-classification-graphs_sc</a><br/>Synced 5 W&B file(s), 0 media file(s), 4 artifact file(s) and 0 other file(s)"
      ],
      "text/plain": [
       "<IPython.core.display.HTML object>"
      ]
     },
     "metadata": {},
     "output_type": "display_data"
    },
    {
     "data": {
      "text/html": [
       "Find logs at: <code>.\\wandb\\run-20241119_162455-fwvk4ej4\\logs</code>"
      ],
      "text/plain": [
       "<IPython.core.display.HTML object>"
      ]
     },
     "metadata": {},
     "output_type": "display_data"
    },
    {
     "name": "stderr",
     "output_type": "stream",
     "text": [
      "\u001b[34m\u001b[1mwandb\u001b[0m: Agent Starting Run: llwgp6ry with config:\n",
      "\u001b[34m\u001b[1mwandb\u001b[0m: \tbatch_size: 32\n",
      "\u001b[34m\u001b[1mwandb\u001b[0m: \tin_channels: 6\n",
      "\u001b[34m\u001b[1mwandb\u001b[0m: \tlearning_rate: 0.01\n",
      "\u001b[34m\u001b[1mwandb\u001b[0m: \tnum_epochs: 5\n",
      "\u001b[34m\u001b[1mwandb\u001b[0m: \tnum_heads: 4\n",
      "\u001b[34m\u001b[1mwandb\u001b[0m: \toptimizer: adam\n",
      "\u001b[34m\u001b[1mwandb\u001b[0m: \tout_channels: 8\n",
      "\u001b[34m\u001b[1mwandb\u001b[0m: \trandom_state: 42\n",
      "\u001b[34m\u001b[1mwandb\u001b[0m: \ttest_size: 0.3\n",
      "\u001b[34m\u001b[1mwandb\u001b[0m: \tweight_decay: 1e-05\n"
     ]
    },
    {
     "data": {
      "text/html": [
       "Tracking run with wandb version 0.18.5"
      ],
      "text/plain": [
       "<IPython.core.display.HTML object>"
      ]
     },
     "metadata": {},
     "output_type": "display_data"
    },
    {
     "data": {
      "text/html": [
       "Run data is saved locally in <code>c:\\Users\\barbo\\brain classifier repo\\brain_classifier\\src\\wandb\\run-20241119_162516-llwgp6ry</code>"
      ],
      "text/plain": [
       "<IPython.core.display.HTML object>"
      ]
     },
     "metadata": {},
     "output_type": "display_data"
    },
    {
     "data": {
      "text/html": [
       "Syncing run <strong><a href='https://wandb.ai/barbonigiorgia-sapienza-universit-di-roma/graph-classification-graphs_sc/runs/llwgp6ry' target=\"_blank\">efficient-sweep-44</a></strong> to <a href='https://wandb.ai/barbonigiorgia-sapienza-universit-di-roma/graph-classification-graphs_sc' target=\"_blank\">Weights & Biases</a> (<a href='https://wandb.me/run' target=\"_blank\">docs</a>)<br/>Sweep page: <a href='https://wandb.ai/barbonigiorgia-sapienza-universit-di-roma/graph-classification-graphs_sc/sweeps/f8yd3ova' target=\"_blank\">https://wandb.ai/barbonigiorgia-sapienza-universit-di-roma/graph-classification-graphs_sc/sweeps/f8yd3ova</a>"
      ],
      "text/plain": [
       "<IPython.core.display.HTML object>"
      ]
     },
     "metadata": {},
     "output_type": "display_data"
    },
    {
     "data": {
      "text/html": [
       " View project at <a href='https://wandb.ai/barbonigiorgia-sapienza-universit-di-roma/graph-classification-graphs_sc' target=\"_blank\">https://wandb.ai/barbonigiorgia-sapienza-universit-di-roma/graph-classification-graphs_sc</a>"
      ],
      "text/plain": [
       "<IPython.core.display.HTML object>"
      ]
     },
     "metadata": {},
     "output_type": "display_data"
    },
    {
     "data": {
      "text/html": [
       " View sweep at <a href='https://wandb.ai/barbonigiorgia-sapienza-universit-di-roma/graph-classification-graphs_sc/sweeps/f8yd3ova' target=\"_blank\">https://wandb.ai/barbonigiorgia-sapienza-universit-di-roma/graph-classification-graphs_sc/sweeps/f8yd3ova</a>"
      ],
      "text/plain": [
       "<IPython.core.display.HTML object>"
      ]
     },
     "metadata": {},
     "output_type": "display_data"
    },
    {
     "data": {
      "text/html": [
       " View run at <a href='https://wandb.ai/barbonigiorgia-sapienza-universit-di-roma/graph-classification-graphs_sc/runs/llwgp6ry' target=\"_blank\">https://wandb.ai/barbonigiorgia-sapienza-universit-di-roma/graph-classification-graphs_sc/runs/llwgp6ry</a>"
      ],
      "text/plain": [
       "<IPython.core.display.HTML object>"
      ]
     },
     "metadata": {},
     "output_type": "display_data"
    },
    {
     "name": "stdout",
     "output_type": "stream",
     "text": [
      "Running with config: {'batch_size': 32, 'in_channels': 6, 'learning_rate': 0.01, 'num_epochs': 5, 'num_heads': 4, 'optimizer': 'adam', 'out_channels': 8, 'random_state': 42, 'test_size': 0.3, 'weight_decay': 1e-05}\n"
     ]
    },
    {
     "data": {
      "text/html": [
       "<style>\n",
       "    table.wandb td:nth-child(1) { padding: 0 10px; text-align: left ; width: auto;} td:nth-child(2) {text-align: left ; width: 100%}\n",
       "    .wandb-row { display: flex; flex-direction: row; flex-wrap: wrap; justify-content: flex-start; width: 100% }\n",
       "    .wandb-col { display: flex; flex-direction: column; flex-basis: 100%; flex: 1; padding: 10px; }\n",
       "    </style>\n",
       "<div class=\"wandb-row\"><div class=\"wandb-col\"><h3>Run history:</h3><br/><table class=\"wandb\"><tr><td>epoch</td><td>▁▃▅▆█</td></tr><tr><td>train_accuracy</td><td>▁▄▄▅█</td></tr><tr><td>train_f1</td><td>▄▁▂▃█</td></tr><tr><td>train_loss</td><td>█▅▄▃▁</td></tr><tr><td>val_accuracy</td><td>▁▁▁▁█</td></tr><tr><td>val_f1</td><td>▁▁▁▁█</td></tr><tr><td>val_loss</td><td>█▆▅▃▁</td></tr></table><br/></div><div class=\"wandb-col\"><h3>Run summary:</h3><br/><table class=\"wandb\"><tr><td>epoch</td><td>5</td></tr><tr><td>train_accuracy</td><td>0.672</td></tr><tr><td>train_f1</td><td>0.6258</td></tr><tr><td>train_loss</td><td>0.61641</td></tr><tr><td>val_accuracy</td><td>0.74074</td></tr><tr><td>val_f1</td><td>0.71189</td></tr><tr><td>val_loss</td><td>0.60575</td></tr></table><br/></div></div>"
      ],
      "text/plain": [
       "<IPython.core.display.HTML object>"
      ]
     },
     "metadata": {},
     "output_type": "display_data"
    },
    {
     "data": {
      "text/html": [
       " View run <strong style=\"color:#cdcd00\">efficient-sweep-44</strong> at: <a href='https://wandb.ai/barbonigiorgia-sapienza-universit-di-roma/graph-classification-graphs_sc/runs/llwgp6ry' target=\"_blank\">https://wandb.ai/barbonigiorgia-sapienza-universit-di-roma/graph-classification-graphs_sc/runs/llwgp6ry</a><br/> View project at: <a href='https://wandb.ai/barbonigiorgia-sapienza-universit-di-roma/graph-classification-graphs_sc' target=\"_blank\">https://wandb.ai/barbonigiorgia-sapienza-universit-di-roma/graph-classification-graphs_sc</a><br/>Synced 5 W&B file(s), 0 media file(s), 4 artifact file(s) and 0 other file(s)"
      ],
      "text/plain": [
       "<IPython.core.display.HTML object>"
      ]
     },
     "metadata": {},
     "output_type": "display_data"
    },
    {
     "data": {
      "text/html": [
       "Find logs at: <code>.\\wandb\\run-20241119_162516-llwgp6ry\\logs</code>"
      ],
      "text/plain": [
       "<IPython.core.display.HTML object>"
      ]
     },
     "metadata": {},
     "output_type": "display_data"
    },
    {
     "name": "stderr",
     "output_type": "stream",
     "text": [
      "\u001b[34m\u001b[1mwandb\u001b[0m: Agent Starting Run: jeiflwx1 with config:\n",
      "\u001b[34m\u001b[1mwandb\u001b[0m: \tbatch_size: 32\n",
      "\u001b[34m\u001b[1mwandb\u001b[0m: \tin_channels: 6\n",
      "\u001b[34m\u001b[1mwandb\u001b[0m: \tlearning_rate: 0.01\n",
      "\u001b[34m\u001b[1mwandb\u001b[0m: \tnum_epochs: 5\n",
      "\u001b[34m\u001b[1mwandb\u001b[0m: \tnum_heads: 4\n",
      "\u001b[34m\u001b[1mwandb\u001b[0m: \toptimizer: adam\n",
      "\u001b[34m\u001b[1mwandb\u001b[0m: \tout_channels: 8\n",
      "\u001b[34m\u001b[1mwandb\u001b[0m: \trandom_state: 42\n",
      "\u001b[34m\u001b[1mwandb\u001b[0m: \ttest_size: 0.3\n",
      "\u001b[34m\u001b[1mwandb\u001b[0m: \tweight_decay: 0.0001\n"
     ]
    },
    {
     "data": {
      "text/html": [
       "Tracking run with wandb version 0.18.5"
      ],
      "text/plain": [
       "<IPython.core.display.HTML object>"
      ]
     },
     "metadata": {},
     "output_type": "display_data"
    },
    {
     "data": {
      "text/html": [
       "Run data is saved locally in <code>c:\\Users\\barbo\\brain classifier repo\\brain_classifier\\src\\wandb\\run-20241119_162537-jeiflwx1</code>"
      ],
      "text/plain": [
       "<IPython.core.display.HTML object>"
      ]
     },
     "metadata": {},
     "output_type": "display_data"
    },
    {
     "data": {
      "text/html": [
       "Syncing run <strong><a href='https://wandb.ai/barbonigiorgia-sapienza-universit-di-roma/graph-classification-graphs_sc/runs/jeiflwx1' target=\"_blank\">rosy-sweep-45</a></strong> to <a href='https://wandb.ai/barbonigiorgia-sapienza-universit-di-roma/graph-classification-graphs_sc' target=\"_blank\">Weights & Biases</a> (<a href='https://wandb.me/run' target=\"_blank\">docs</a>)<br/>Sweep page: <a href='https://wandb.ai/barbonigiorgia-sapienza-universit-di-roma/graph-classification-graphs_sc/sweeps/f8yd3ova' target=\"_blank\">https://wandb.ai/barbonigiorgia-sapienza-universit-di-roma/graph-classification-graphs_sc/sweeps/f8yd3ova</a>"
      ],
      "text/plain": [
       "<IPython.core.display.HTML object>"
      ]
     },
     "metadata": {},
     "output_type": "display_data"
    },
    {
     "data": {
      "text/html": [
       " View project at <a href='https://wandb.ai/barbonigiorgia-sapienza-universit-di-roma/graph-classification-graphs_sc' target=\"_blank\">https://wandb.ai/barbonigiorgia-sapienza-universit-di-roma/graph-classification-graphs_sc</a>"
      ],
      "text/plain": [
       "<IPython.core.display.HTML object>"
      ]
     },
     "metadata": {},
     "output_type": "display_data"
    },
    {
     "data": {
      "text/html": [
       " View sweep at <a href='https://wandb.ai/barbonigiorgia-sapienza-universit-di-roma/graph-classification-graphs_sc/sweeps/f8yd3ova' target=\"_blank\">https://wandb.ai/barbonigiorgia-sapienza-universit-di-roma/graph-classification-graphs_sc/sweeps/f8yd3ova</a>"
      ],
      "text/plain": [
       "<IPython.core.display.HTML object>"
      ]
     },
     "metadata": {},
     "output_type": "display_data"
    },
    {
     "data": {
      "text/html": [
       " View run at <a href='https://wandb.ai/barbonigiorgia-sapienza-universit-di-roma/graph-classification-graphs_sc/runs/jeiflwx1' target=\"_blank\">https://wandb.ai/barbonigiorgia-sapienza-universit-di-roma/graph-classification-graphs_sc/runs/jeiflwx1</a>"
      ],
      "text/plain": [
       "<IPython.core.display.HTML object>"
      ]
     },
     "metadata": {},
     "output_type": "display_data"
    },
    {
     "name": "stdout",
     "output_type": "stream",
     "text": [
      "Running with config: {'batch_size': 32, 'in_channels': 6, 'learning_rate': 0.01, 'num_epochs': 5, 'num_heads': 4, 'optimizer': 'adam', 'out_channels': 8, 'random_state': 42, 'test_size': 0.3, 'weight_decay': 0.0001}\n"
     ]
    },
    {
     "data": {
      "text/html": [
       "<style>\n",
       "    table.wandb td:nth-child(1) { padding: 0 10px; text-align: left ; width: auto;} td:nth-child(2) {text-align: left ; width: 100%}\n",
       "    .wandb-row { display: flex; flex-direction: row; flex-wrap: wrap; justify-content: flex-start; width: 100% }\n",
       "    .wandb-col { display: flex; flex-direction: column; flex-basis: 100%; flex: 1; padding: 10px; }\n",
       "    </style>\n",
       "<div class=\"wandb-row\"><div class=\"wandb-col\"><h3>Run history:</h3><br/><table class=\"wandb\"><tr><td>epoch</td><td>▁▃▅▆█</td></tr><tr><td>train_accuracy</td><td>▁▄▄▅█</td></tr><tr><td>train_f1</td><td>▄▁▁▃█</td></tr><tr><td>train_loss</td><td>█▅▄▃▁</td></tr><tr><td>val_accuracy</td><td>▁▁▁▁█</td></tr><tr><td>val_f1</td><td>▁▁▁▁█</td></tr><tr><td>val_loss</td><td>█▆▅▃▁</td></tr></table><br/></div><div class=\"wandb-col\"><h3>Run summary:</h3><br/><table class=\"wandb\"><tr><td>epoch</td><td>5</td></tr><tr><td>train_accuracy</td><td>0.672</td></tr><tr><td>train_f1</td><td>0.6258</td></tr><tr><td>train_loss</td><td>0.61728</td></tr><tr><td>val_accuracy</td><td>0.74074</td></tr><tr><td>val_f1</td><td>0.71189</td></tr><tr><td>val_loss</td><td>0.60697</td></tr></table><br/></div></div>"
      ],
      "text/plain": [
       "<IPython.core.display.HTML object>"
      ]
     },
     "metadata": {},
     "output_type": "display_data"
    },
    {
     "data": {
      "text/html": [
       " View run <strong style=\"color:#cdcd00\">rosy-sweep-45</strong> at: <a href='https://wandb.ai/barbonigiorgia-sapienza-universit-di-roma/graph-classification-graphs_sc/runs/jeiflwx1' target=\"_blank\">https://wandb.ai/barbonigiorgia-sapienza-universit-di-roma/graph-classification-graphs_sc/runs/jeiflwx1</a><br/> View project at: <a href='https://wandb.ai/barbonigiorgia-sapienza-universit-di-roma/graph-classification-graphs_sc' target=\"_blank\">https://wandb.ai/barbonigiorgia-sapienza-universit-di-roma/graph-classification-graphs_sc</a><br/>Synced 5 W&B file(s), 0 media file(s), 4 artifact file(s) and 0 other file(s)"
      ],
      "text/plain": [
       "<IPython.core.display.HTML object>"
      ]
     },
     "metadata": {},
     "output_type": "display_data"
    },
    {
     "data": {
      "text/html": [
       "Find logs at: <code>.\\wandb\\run-20241119_162537-jeiflwx1\\logs</code>"
      ],
      "text/plain": [
       "<IPython.core.display.HTML object>"
      ]
     },
     "metadata": {},
     "output_type": "display_data"
    },
    {
     "name": "stderr",
     "output_type": "stream",
     "text": [
      "\u001b[34m\u001b[1mwandb\u001b[0m: Agent Starting Run: 9v0a0wtc with config:\n",
      "\u001b[34m\u001b[1mwandb\u001b[0m: \tbatch_size: 32\n",
      "\u001b[34m\u001b[1mwandb\u001b[0m: \tin_channels: 6\n",
      "\u001b[34m\u001b[1mwandb\u001b[0m: \tlearning_rate: 0.01\n",
      "\u001b[34m\u001b[1mwandb\u001b[0m: \tnum_epochs: 5\n",
      "\u001b[34m\u001b[1mwandb\u001b[0m: \tnum_heads: 4\n",
      "\u001b[34m\u001b[1mwandb\u001b[0m: \toptimizer: adam\n",
      "\u001b[34m\u001b[1mwandb\u001b[0m: \tout_channels: 16\n",
      "\u001b[34m\u001b[1mwandb\u001b[0m: \trandom_state: 42\n",
      "\u001b[34m\u001b[1mwandb\u001b[0m: \ttest_size: 0.3\n",
      "\u001b[34m\u001b[1mwandb\u001b[0m: \tweight_decay: 0\n"
     ]
    },
    {
     "data": {
      "text/html": [
       "Tracking run with wandb version 0.18.5"
      ],
      "text/plain": [
       "<IPython.core.display.HTML object>"
      ]
     },
     "metadata": {},
     "output_type": "display_data"
    },
    {
     "data": {
      "text/html": [
       "Run data is saved locally in <code>c:\\Users\\barbo\\brain classifier repo\\brain_classifier\\src\\wandb\\run-20241119_162558-9v0a0wtc</code>"
      ],
      "text/plain": [
       "<IPython.core.display.HTML object>"
      ]
     },
     "metadata": {},
     "output_type": "display_data"
    },
    {
     "data": {
      "text/html": [
       "Syncing run <strong><a href='https://wandb.ai/barbonigiorgia-sapienza-universit-di-roma/graph-classification-graphs_sc/runs/9v0a0wtc' target=\"_blank\">dandy-sweep-46</a></strong> to <a href='https://wandb.ai/barbonigiorgia-sapienza-universit-di-roma/graph-classification-graphs_sc' target=\"_blank\">Weights & Biases</a> (<a href='https://wandb.me/run' target=\"_blank\">docs</a>)<br/>Sweep page: <a href='https://wandb.ai/barbonigiorgia-sapienza-universit-di-roma/graph-classification-graphs_sc/sweeps/f8yd3ova' target=\"_blank\">https://wandb.ai/barbonigiorgia-sapienza-universit-di-roma/graph-classification-graphs_sc/sweeps/f8yd3ova</a>"
      ],
      "text/plain": [
       "<IPython.core.display.HTML object>"
      ]
     },
     "metadata": {},
     "output_type": "display_data"
    },
    {
     "data": {
      "text/html": [
       " View project at <a href='https://wandb.ai/barbonigiorgia-sapienza-universit-di-roma/graph-classification-graphs_sc' target=\"_blank\">https://wandb.ai/barbonigiorgia-sapienza-universit-di-roma/graph-classification-graphs_sc</a>"
      ],
      "text/plain": [
       "<IPython.core.display.HTML object>"
      ]
     },
     "metadata": {},
     "output_type": "display_data"
    },
    {
     "data": {
      "text/html": [
       " View sweep at <a href='https://wandb.ai/barbonigiorgia-sapienza-universit-di-roma/graph-classification-graphs_sc/sweeps/f8yd3ova' target=\"_blank\">https://wandb.ai/barbonigiorgia-sapienza-universit-di-roma/graph-classification-graphs_sc/sweeps/f8yd3ova</a>"
      ],
      "text/plain": [
       "<IPython.core.display.HTML object>"
      ]
     },
     "metadata": {},
     "output_type": "display_data"
    },
    {
     "data": {
      "text/html": [
       " View run at <a href='https://wandb.ai/barbonigiorgia-sapienza-universit-di-roma/graph-classification-graphs_sc/runs/9v0a0wtc' target=\"_blank\">https://wandb.ai/barbonigiorgia-sapienza-universit-di-roma/graph-classification-graphs_sc/runs/9v0a0wtc</a>"
      ],
      "text/plain": [
       "<IPython.core.display.HTML object>"
      ]
     },
     "metadata": {},
     "output_type": "display_data"
    },
    {
     "name": "stdout",
     "output_type": "stream",
     "text": [
      "Running with config: {'batch_size': 32, 'in_channels': 6, 'learning_rate': 0.01, 'num_epochs': 5, 'num_heads': 4, 'optimizer': 'adam', 'out_channels': 16, 'random_state': 42, 'test_size': 0.3, 'weight_decay': 0}\n"
     ]
    },
    {
     "data": {
      "text/html": [
       "<style>\n",
       "    table.wandb td:nth-child(1) { padding: 0 10px; text-align: left ; width: auto;} td:nth-child(2) {text-align: left ; width: 100%}\n",
       "    .wandb-row { display: flex; flex-direction: row; flex-wrap: wrap; justify-content: flex-start; width: 100% }\n",
       "    .wandb-col { display: flex; flex-direction: column; flex-basis: 100%; flex: 1; padding: 10px; }\n",
       "    </style>\n",
       "<div class=\"wandb-row\"><div class=\"wandb-col\"><h3>Run history:</h3><br/><table class=\"wandb\"><tr><td>epoch</td><td>▁▃▅▆█</td></tr><tr><td>train_accuracy</td><td>▁▂▄▆█</td></tr><tr><td>train_f1</td><td>▁▁▄▆█</td></tr><tr><td>train_loss</td><td>█▆▄▃▁</td></tr><tr><td>val_accuracy</td><td>▁▃▅█▆</td></tr><tr><td>val_f1</td><td>▁▄▅█▇</td></tr><tr><td>val_loss</td><td>█▆▅▃▁</td></tr></table><br/></div><div class=\"wandb-col\"><h3>Run summary:</h3><br/><table class=\"wandb\"><tr><td>epoch</td><td>5</td></tr><tr><td>train_accuracy</td><td>0.744</td></tr><tr><td>train_f1</td><td>0.7328</td></tr><tr><td>train_loss</td><td>0.57661</td></tr><tr><td>val_accuracy</td><td>0.7037</td></tr><tr><td>val_f1</td><td>0.6915</td></tr><tr><td>val_loss</td><td>0.56261</td></tr></table><br/></div></div>"
      ],
      "text/plain": [
       "<IPython.core.display.HTML object>"
      ]
     },
     "metadata": {},
     "output_type": "display_data"
    },
    {
     "data": {
      "text/html": [
       " View run <strong style=\"color:#cdcd00\">dandy-sweep-46</strong> at: <a href='https://wandb.ai/barbonigiorgia-sapienza-universit-di-roma/graph-classification-graphs_sc/runs/9v0a0wtc' target=\"_blank\">https://wandb.ai/barbonigiorgia-sapienza-universit-di-roma/graph-classification-graphs_sc/runs/9v0a0wtc</a><br/> View project at: <a href='https://wandb.ai/barbonigiorgia-sapienza-universit-di-roma/graph-classification-graphs_sc' target=\"_blank\">https://wandb.ai/barbonigiorgia-sapienza-universit-di-roma/graph-classification-graphs_sc</a><br/>Synced 5 W&B file(s), 0 media file(s), 10 artifact file(s) and 0 other file(s)"
      ],
      "text/plain": [
       "<IPython.core.display.HTML object>"
      ]
     },
     "metadata": {},
     "output_type": "display_data"
    },
    {
     "data": {
      "text/html": [
       "Find logs at: <code>.\\wandb\\run-20241119_162558-9v0a0wtc\\logs</code>"
      ],
      "text/plain": [
       "<IPython.core.display.HTML object>"
      ]
     },
     "metadata": {},
     "output_type": "display_data"
    },
    {
     "name": "stderr",
     "output_type": "stream",
     "text": [
      "\u001b[34m\u001b[1mwandb\u001b[0m: Agent Starting Run: kjwshdl4 with config:\n",
      "\u001b[34m\u001b[1mwandb\u001b[0m: \tbatch_size: 32\n",
      "\u001b[34m\u001b[1mwandb\u001b[0m: \tin_channels: 6\n",
      "\u001b[34m\u001b[1mwandb\u001b[0m: \tlearning_rate: 0.01\n",
      "\u001b[34m\u001b[1mwandb\u001b[0m: \tnum_epochs: 5\n",
      "\u001b[34m\u001b[1mwandb\u001b[0m: \tnum_heads: 4\n",
      "\u001b[34m\u001b[1mwandb\u001b[0m: \toptimizer: adam\n",
      "\u001b[34m\u001b[1mwandb\u001b[0m: \tout_channels: 16\n",
      "\u001b[34m\u001b[1mwandb\u001b[0m: \trandom_state: 42\n",
      "\u001b[34m\u001b[1mwandb\u001b[0m: \ttest_size: 0.3\n",
      "\u001b[34m\u001b[1mwandb\u001b[0m: \tweight_decay: 1e-05\n"
     ]
    },
    {
     "data": {
      "text/html": [
       "Tracking run with wandb version 0.18.5"
      ],
      "text/plain": [
       "<IPython.core.display.HTML object>"
      ]
     },
     "metadata": {},
     "output_type": "display_data"
    },
    {
     "data": {
      "text/html": [
       "Run data is saved locally in <code>c:\\Users\\barbo\\brain classifier repo\\brain_classifier\\src\\wandb\\run-20241119_162619-kjwshdl4</code>"
      ],
      "text/plain": [
       "<IPython.core.display.HTML object>"
      ]
     },
     "metadata": {},
     "output_type": "display_data"
    },
    {
     "data": {
      "text/html": [
       "Syncing run <strong><a href='https://wandb.ai/barbonigiorgia-sapienza-universit-di-roma/graph-classification-graphs_sc/runs/kjwshdl4' target=\"_blank\">warm-sweep-47</a></strong> to <a href='https://wandb.ai/barbonigiorgia-sapienza-universit-di-roma/graph-classification-graphs_sc' target=\"_blank\">Weights & Biases</a> (<a href='https://wandb.me/run' target=\"_blank\">docs</a>)<br/>Sweep page: <a href='https://wandb.ai/barbonigiorgia-sapienza-universit-di-roma/graph-classification-graphs_sc/sweeps/f8yd3ova' target=\"_blank\">https://wandb.ai/barbonigiorgia-sapienza-universit-di-roma/graph-classification-graphs_sc/sweeps/f8yd3ova</a>"
      ],
      "text/plain": [
       "<IPython.core.display.HTML object>"
      ]
     },
     "metadata": {},
     "output_type": "display_data"
    },
    {
     "data": {
      "text/html": [
       " View project at <a href='https://wandb.ai/barbonigiorgia-sapienza-universit-di-roma/graph-classification-graphs_sc' target=\"_blank\">https://wandb.ai/barbonigiorgia-sapienza-universit-di-roma/graph-classification-graphs_sc</a>"
      ],
      "text/plain": [
       "<IPython.core.display.HTML object>"
      ]
     },
     "metadata": {},
     "output_type": "display_data"
    },
    {
     "data": {
      "text/html": [
       " View sweep at <a href='https://wandb.ai/barbonigiorgia-sapienza-universit-di-roma/graph-classification-graphs_sc/sweeps/f8yd3ova' target=\"_blank\">https://wandb.ai/barbonigiorgia-sapienza-universit-di-roma/graph-classification-graphs_sc/sweeps/f8yd3ova</a>"
      ],
      "text/plain": [
       "<IPython.core.display.HTML object>"
      ]
     },
     "metadata": {},
     "output_type": "display_data"
    },
    {
     "data": {
      "text/html": [
       " View run at <a href='https://wandb.ai/barbonigiorgia-sapienza-universit-di-roma/graph-classification-graphs_sc/runs/kjwshdl4' target=\"_blank\">https://wandb.ai/barbonigiorgia-sapienza-universit-di-roma/graph-classification-graphs_sc/runs/kjwshdl4</a>"
      ],
      "text/plain": [
       "<IPython.core.display.HTML object>"
      ]
     },
     "metadata": {},
     "output_type": "display_data"
    },
    {
     "name": "stdout",
     "output_type": "stream",
     "text": [
      "Running with config: {'batch_size': 32, 'in_channels': 6, 'learning_rate': 0.01, 'num_epochs': 5, 'num_heads': 4, 'optimizer': 'adam', 'out_channels': 16, 'random_state': 42, 'test_size': 0.3, 'weight_decay': 1e-05}\n"
     ]
    },
    {
     "data": {
      "text/html": [
       "<style>\n",
       "    table.wandb td:nth-child(1) { padding: 0 10px; text-align: left ; width: auto;} td:nth-child(2) {text-align: left ; width: 100%}\n",
       "    .wandb-row { display: flex; flex-direction: row; flex-wrap: wrap; justify-content: flex-start; width: 100% }\n",
       "    .wandb-col { display: flex; flex-direction: column; flex-basis: 100%; flex: 1; padding: 10px; }\n",
       "    </style>\n",
       "<div class=\"wandb-row\"><div class=\"wandb-col\"><h3>Run history:</h3><br/><table class=\"wandb\"><tr><td>epoch</td><td>▁▃▅▆█</td></tr><tr><td>train_accuracy</td><td>▁▂▄▆█</td></tr><tr><td>train_f1</td><td>▁▁▄▆█</td></tr><tr><td>train_loss</td><td>█▆▄▃▁</td></tr><tr><td>val_accuracy</td><td>▁▃▅█▆</td></tr><tr><td>val_f1</td><td>▁▄▅█▇</td></tr><tr><td>val_loss</td><td>█▆▅▃▁</td></tr></table><br/></div><div class=\"wandb-col\"><h3>Run summary:</h3><br/><table class=\"wandb\"><tr><td>epoch</td><td>5</td></tr><tr><td>train_accuracy</td><td>0.744</td></tr><tr><td>train_f1</td><td>0.7328</td></tr><tr><td>train_loss</td><td>0.57672</td></tr><tr><td>val_accuracy</td><td>0.7037</td></tr><tr><td>val_f1</td><td>0.6915</td></tr><tr><td>val_loss</td><td>0.56276</td></tr></table><br/></div></div>"
      ],
      "text/plain": [
       "<IPython.core.display.HTML object>"
      ]
     },
     "metadata": {},
     "output_type": "display_data"
    },
    {
     "data": {
      "text/html": [
       " View run <strong style=\"color:#cdcd00\">warm-sweep-47</strong> at: <a href='https://wandb.ai/barbonigiorgia-sapienza-universit-di-roma/graph-classification-graphs_sc/runs/kjwshdl4' target=\"_blank\">https://wandb.ai/barbonigiorgia-sapienza-universit-di-roma/graph-classification-graphs_sc/runs/kjwshdl4</a><br/> View project at: <a href='https://wandb.ai/barbonigiorgia-sapienza-universit-di-roma/graph-classification-graphs_sc' target=\"_blank\">https://wandb.ai/barbonigiorgia-sapienza-universit-di-roma/graph-classification-graphs_sc</a><br/>Synced 5 W&B file(s), 0 media file(s), 10 artifact file(s) and 0 other file(s)"
      ],
      "text/plain": [
       "<IPython.core.display.HTML object>"
      ]
     },
     "metadata": {},
     "output_type": "display_data"
    },
    {
     "data": {
      "text/html": [
       "Find logs at: <code>.\\wandb\\run-20241119_162619-kjwshdl4\\logs</code>"
      ],
      "text/plain": [
       "<IPython.core.display.HTML object>"
      ]
     },
     "metadata": {},
     "output_type": "display_data"
    },
    {
     "name": "stderr",
     "output_type": "stream",
     "text": [
      "\u001b[34m\u001b[1mwandb\u001b[0m: Agent Starting Run: btdfl8f1 with config:\n",
      "\u001b[34m\u001b[1mwandb\u001b[0m: \tbatch_size: 32\n",
      "\u001b[34m\u001b[1mwandb\u001b[0m: \tin_channels: 6\n",
      "\u001b[34m\u001b[1mwandb\u001b[0m: \tlearning_rate: 0.01\n",
      "\u001b[34m\u001b[1mwandb\u001b[0m: \tnum_epochs: 5\n",
      "\u001b[34m\u001b[1mwandb\u001b[0m: \tnum_heads: 4\n",
      "\u001b[34m\u001b[1mwandb\u001b[0m: \toptimizer: adam\n",
      "\u001b[34m\u001b[1mwandb\u001b[0m: \tout_channels: 16\n",
      "\u001b[34m\u001b[1mwandb\u001b[0m: \trandom_state: 42\n",
      "\u001b[34m\u001b[1mwandb\u001b[0m: \ttest_size: 0.3\n",
      "\u001b[34m\u001b[1mwandb\u001b[0m: \tweight_decay: 0.0001\n"
     ]
    },
    {
     "data": {
      "text/html": [
       "Tracking run with wandb version 0.18.5"
      ],
      "text/plain": [
       "<IPython.core.display.HTML object>"
      ]
     },
     "metadata": {},
     "output_type": "display_data"
    },
    {
     "data": {
      "text/html": [
       "Run data is saved locally in <code>c:\\Users\\barbo\\brain classifier repo\\brain_classifier\\src\\wandb\\run-20241119_162640-btdfl8f1</code>"
      ],
      "text/plain": [
       "<IPython.core.display.HTML object>"
      ]
     },
     "metadata": {},
     "output_type": "display_data"
    },
    {
     "data": {
      "text/html": [
       "Syncing run <strong><a href='https://wandb.ai/barbonigiorgia-sapienza-universit-di-roma/graph-classification-graphs_sc/runs/btdfl8f1' target=\"_blank\">stellar-sweep-48</a></strong> to <a href='https://wandb.ai/barbonigiorgia-sapienza-universit-di-roma/graph-classification-graphs_sc' target=\"_blank\">Weights & Biases</a> (<a href='https://wandb.me/run' target=\"_blank\">docs</a>)<br/>Sweep page: <a href='https://wandb.ai/barbonigiorgia-sapienza-universit-di-roma/graph-classification-graphs_sc/sweeps/f8yd3ova' target=\"_blank\">https://wandb.ai/barbonigiorgia-sapienza-universit-di-roma/graph-classification-graphs_sc/sweeps/f8yd3ova</a>"
      ],
      "text/plain": [
       "<IPython.core.display.HTML object>"
      ]
     },
     "metadata": {},
     "output_type": "display_data"
    },
    {
     "data": {
      "text/html": [
       " View project at <a href='https://wandb.ai/barbonigiorgia-sapienza-universit-di-roma/graph-classification-graphs_sc' target=\"_blank\">https://wandb.ai/barbonigiorgia-sapienza-universit-di-roma/graph-classification-graphs_sc</a>"
      ],
      "text/plain": [
       "<IPython.core.display.HTML object>"
      ]
     },
     "metadata": {},
     "output_type": "display_data"
    },
    {
     "data": {
      "text/html": [
       " View sweep at <a href='https://wandb.ai/barbonigiorgia-sapienza-universit-di-roma/graph-classification-graphs_sc/sweeps/f8yd3ova' target=\"_blank\">https://wandb.ai/barbonigiorgia-sapienza-universit-di-roma/graph-classification-graphs_sc/sweeps/f8yd3ova</a>"
      ],
      "text/plain": [
       "<IPython.core.display.HTML object>"
      ]
     },
     "metadata": {},
     "output_type": "display_data"
    },
    {
     "data": {
      "text/html": [
       " View run at <a href='https://wandb.ai/barbonigiorgia-sapienza-universit-di-roma/graph-classification-graphs_sc/runs/btdfl8f1' target=\"_blank\">https://wandb.ai/barbonigiorgia-sapienza-universit-di-roma/graph-classification-graphs_sc/runs/btdfl8f1</a>"
      ],
      "text/plain": [
       "<IPython.core.display.HTML object>"
      ]
     },
     "metadata": {},
     "output_type": "display_data"
    },
    {
     "name": "stdout",
     "output_type": "stream",
     "text": [
      "Running with config: {'batch_size': 32, 'in_channels': 6, 'learning_rate': 0.01, 'num_epochs': 5, 'num_heads': 4, 'optimizer': 'adam', 'out_channels': 16, 'random_state': 42, 'test_size': 0.3, 'weight_decay': 0.0001}\n"
     ]
    },
    {
     "data": {
      "text/html": [
       "<style>\n",
       "    table.wandb td:nth-child(1) { padding: 0 10px; text-align: left ; width: auto;} td:nth-child(2) {text-align: left ; width: 100%}\n",
       "    .wandb-row { display: flex; flex-direction: row; flex-wrap: wrap; justify-content: flex-start; width: 100% }\n",
       "    .wandb-col { display: flex; flex-direction: column; flex-basis: 100%; flex: 1; padding: 10px; }\n",
       "    </style>\n",
       "<div class=\"wandb-row\"><div class=\"wandb-col\"><h3>Run history:</h3><br/><table class=\"wandb\"><tr><td>epoch</td><td>▁▃▅▆█</td></tr><tr><td>train_accuracy</td><td>▁▂▄▆█</td></tr><tr><td>train_f1</td><td>▁▁▄▆█</td></tr><tr><td>train_loss</td><td>█▆▄▃▁</td></tr><tr><td>val_accuracy</td><td>▁▃▅█▆</td></tr><tr><td>val_f1</td><td>▁▄▅█▇</td></tr><tr><td>val_loss</td><td>█▆▅▃▁</td></tr></table><br/></div><div class=\"wandb-col\"><h3>Run summary:</h3><br/><table class=\"wandb\"><tr><td>epoch</td><td>5</td></tr><tr><td>train_accuracy</td><td>0.744</td></tr><tr><td>train_f1</td><td>0.7328</td></tr><tr><td>train_loss</td><td>0.57765</td></tr><tr><td>val_accuracy</td><td>0.7037</td></tr><tr><td>val_f1</td><td>0.6915</td></tr><tr><td>val_loss</td><td>0.56404</td></tr></table><br/></div></div>"
      ],
      "text/plain": [
       "<IPython.core.display.HTML object>"
      ]
     },
     "metadata": {},
     "output_type": "display_data"
    },
    {
     "data": {
      "text/html": [
       " View run <strong style=\"color:#cdcd00\">stellar-sweep-48</strong> at: <a href='https://wandb.ai/barbonigiorgia-sapienza-universit-di-roma/graph-classification-graphs_sc/runs/btdfl8f1' target=\"_blank\">https://wandb.ai/barbonigiorgia-sapienza-universit-di-roma/graph-classification-graphs_sc/runs/btdfl8f1</a><br/> View project at: <a href='https://wandb.ai/barbonigiorgia-sapienza-universit-di-roma/graph-classification-graphs_sc' target=\"_blank\">https://wandb.ai/barbonigiorgia-sapienza-universit-di-roma/graph-classification-graphs_sc</a><br/>Synced 5 W&B file(s), 0 media file(s), 10 artifact file(s) and 0 other file(s)"
      ],
      "text/plain": [
       "<IPython.core.display.HTML object>"
      ]
     },
     "metadata": {},
     "output_type": "display_data"
    },
    {
     "data": {
      "text/html": [
       "Find logs at: <code>.\\wandb\\run-20241119_162640-btdfl8f1\\logs</code>"
      ],
      "text/plain": [
       "<IPython.core.display.HTML object>"
      ]
     },
     "metadata": {},
     "output_type": "display_data"
    },
    {
     "name": "stderr",
     "output_type": "stream",
     "text": [
      "\u001b[34m\u001b[1mwandb\u001b[0m: Agent Starting Run: 37fw6luu with config:\n",
      "\u001b[34m\u001b[1mwandb\u001b[0m: \tbatch_size: 32\n",
      "\u001b[34m\u001b[1mwandb\u001b[0m: \tin_channels: 6\n",
      "\u001b[34m\u001b[1mwandb\u001b[0m: \tlearning_rate: 0.001\n",
      "\u001b[34m\u001b[1mwandb\u001b[0m: \tnum_epochs: 5\n",
      "\u001b[34m\u001b[1mwandb\u001b[0m: \tnum_heads: 1\n",
      "\u001b[34m\u001b[1mwandb\u001b[0m: \toptimizer: adam\n",
      "\u001b[34m\u001b[1mwandb\u001b[0m: \tout_channels: 8\n",
      "\u001b[34m\u001b[1mwandb\u001b[0m: \trandom_state: 42\n",
      "\u001b[34m\u001b[1mwandb\u001b[0m: \ttest_size: 0.3\n",
      "\u001b[34m\u001b[1mwandb\u001b[0m: \tweight_decay: 0\n"
     ]
    },
    {
     "data": {
      "text/html": [
       "Tracking run with wandb version 0.18.5"
      ],
      "text/plain": [
       "<IPython.core.display.HTML object>"
      ]
     },
     "metadata": {},
     "output_type": "display_data"
    },
    {
     "data": {
      "text/html": [
       "Run data is saved locally in <code>c:\\Users\\barbo\\brain classifier repo\\brain_classifier\\src\\wandb\\run-20241119_162701-37fw6luu</code>"
      ],
      "text/plain": [
       "<IPython.core.display.HTML object>"
      ]
     },
     "metadata": {},
     "output_type": "display_data"
    },
    {
     "data": {
      "text/html": [
       "Syncing run <strong><a href='https://wandb.ai/barbonigiorgia-sapienza-universit-di-roma/graph-classification-graphs_sc/runs/37fw6luu' target=\"_blank\">electric-sweep-49</a></strong> to <a href='https://wandb.ai/barbonigiorgia-sapienza-universit-di-roma/graph-classification-graphs_sc' target=\"_blank\">Weights & Biases</a> (<a href='https://wandb.me/run' target=\"_blank\">docs</a>)<br/>Sweep page: <a href='https://wandb.ai/barbonigiorgia-sapienza-universit-di-roma/graph-classification-graphs_sc/sweeps/f8yd3ova' target=\"_blank\">https://wandb.ai/barbonigiorgia-sapienza-universit-di-roma/graph-classification-graphs_sc/sweeps/f8yd3ova</a>"
      ],
      "text/plain": [
       "<IPython.core.display.HTML object>"
      ]
     },
     "metadata": {},
     "output_type": "display_data"
    },
    {
     "data": {
      "text/html": [
       " View project at <a href='https://wandb.ai/barbonigiorgia-sapienza-universit-di-roma/graph-classification-graphs_sc' target=\"_blank\">https://wandb.ai/barbonigiorgia-sapienza-universit-di-roma/graph-classification-graphs_sc</a>"
      ],
      "text/plain": [
       "<IPython.core.display.HTML object>"
      ]
     },
     "metadata": {},
     "output_type": "display_data"
    },
    {
     "data": {
      "text/html": [
       " View sweep at <a href='https://wandb.ai/barbonigiorgia-sapienza-universit-di-roma/graph-classification-graphs_sc/sweeps/f8yd3ova' target=\"_blank\">https://wandb.ai/barbonigiorgia-sapienza-universit-di-roma/graph-classification-graphs_sc/sweeps/f8yd3ova</a>"
      ],
      "text/plain": [
       "<IPython.core.display.HTML object>"
      ]
     },
     "metadata": {},
     "output_type": "display_data"
    },
    {
     "data": {
      "text/html": [
       " View run at <a href='https://wandb.ai/barbonigiorgia-sapienza-universit-di-roma/graph-classification-graphs_sc/runs/37fw6luu' target=\"_blank\">https://wandb.ai/barbonigiorgia-sapienza-universit-di-roma/graph-classification-graphs_sc/runs/37fw6luu</a>"
      ],
      "text/plain": [
       "<IPython.core.display.HTML object>"
      ]
     },
     "metadata": {},
     "output_type": "display_data"
    },
    {
     "name": "stdout",
     "output_type": "stream",
     "text": [
      "Running with config: {'batch_size': 32, 'in_channels': 6, 'learning_rate': 0.001, 'num_epochs': 5, 'num_heads': 1, 'optimizer': 'adam', 'out_channels': 8, 'random_state': 42, 'test_size': 0.3, 'weight_decay': 0}\n"
     ]
    },
    {
     "data": {
      "text/html": [
       "<style>\n",
       "    table.wandb td:nth-child(1) { padding: 0 10px; text-align: left ; width: auto;} td:nth-child(2) {text-align: left ; width: 100%}\n",
       "    .wandb-row { display: flex; flex-direction: row; flex-wrap: wrap; justify-content: flex-start; width: 100% }\n",
       "    .wandb-col { display: flex; flex-direction: column; flex-basis: 100%; flex: 1; padding: 10px; }\n",
       "    </style>\n",
       "<div class=\"wandb-row\"><div class=\"wandb-col\"><h3>Run history:</h3><br/><table class=\"wandb\"><tr><td>epoch</td><td>▁▃▅▆█</td></tr><tr><td>train_accuracy</td><td>█▅▅▁▁</td></tr><tr><td>train_f1</td><td>█▅▅▁▁</td></tr><tr><td>train_loss</td><td>█▆▄▃▁</td></tr><tr><td>val_accuracy</td><td>█▁▁▁▁</td></tr><tr><td>val_f1</td><td>█▁▁▁▁</td></tr><tr><td>val_loss</td><td>█▆▅▃▁</td></tr></table><br/></div><div class=\"wandb-col\"><h3>Run summary:</h3><br/><table class=\"wandb\"><tr><td>epoch</td><td>5</td></tr><tr><td>train_accuracy</td><td>0.576</td></tr><tr><td>train_f1</td><td>0.42933</td></tr><tr><td>train_loss</td><td>0.67031</td></tr><tr><td>val_accuracy</td><td>0.62963</td></tr><tr><td>val_f1</td><td>0.54365</td></tr><tr><td>val_loss</td><td>0.67186</td></tr></table><br/></div></div>"
      ],
      "text/plain": [
       "<IPython.core.display.HTML object>"
      ]
     },
     "metadata": {},
     "output_type": "display_data"
    },
    {
     "data": {
      "text/html": [
       " View run <strong style=\"color:#cdcd00\">electric-sweep-49</strong> at: <a href='https://wandb.ai/barbonigiorgia-sapienza-universit-di-roma/graph-classification-graphs_sc/runs/37fw6luu' target=\"_blank\">https://wandb.ai/barbonigiorgia-sapienza-universit-di-roma/graph-classification-graphs_sc/runs/37fw6luu</a><br/> View project at: <a href='https://wandb.ai/barbonigiorgia-sapienza-universit-di-roma/graph-classification-graphs_sc' target=\"_blank\">https://wandb.ai/barbonigiorgia-sapienza-universit-di-roma/graph-classification-graphs_sc</a><br/>Synced 5 W&B file(s), 0 media file(s), 0 artifact file(s) and 0 other file(s)"
      ],
      "text/plain": [
       "<IPython.core.display.HTML object>"
      ]
     },
     "metadata": {},
     "output_type": "display_data"
    },
    {
     "data": {
      "text/html": [
       "Find logs at: <code>.\\wandb\\run-20241119_162701-37fw6luu\\logs</code>"
      ],
      "text/plain": [
       "<IPython.core.display.HTML object>"
      ]
     },
     "metadata": {},
     "output_type": "display_data"
    },
    {
     "name": "stderr",
     "output_type": "stream",
     "text": [
      "\u001b[34m\u001b[1mwandb\u001b[0m: Agent Starting Run: 4x3vsjyu with config:\n",
      "\u001b[34m\u001b[1mwandb\u001b[0m: \tbatch_size: 32\n",
      "\u001b[34m\u001b[1mwandb\u001b[0m: \tin_channels: 6\n",
      "\u001b[34m\u001b[1mwandb\u001b[0m: \tlearning_rate: 0.001\n",
      "\u001b[34m\u001b[1mwandb\u001b[0m: \tnum_epochs: 5\n",
      "\u001b[34m\u001b[1mwandb\u001b[0m: \tnum_heads: 1\n",
      "\u001b[34m\u001b[1mwandb\u001b[0m: \toptimizer: adam\n",
      "\u001b[34m\u001b[1mwandb\u001b[0m: \tout_channels: 8\n",
      "\u001b[34m\u001b[1mwandb\u001b[0m: \trandom_state: 42\n",
      "\u001b[34m\u001b[1mwandb\u001b[0m: \ttest_size: 0.3\n",
      "\u001b[34m\u001b[1mwandb\u001b[0m: \tweight_decay: 1e-05\n"
     ]
    },
    {
     "data": {
      "text/html": [
       "Tracking run with wandb version 0.18.5"
      ],
      "text/plain": [
       "<IPython.core.display.HTML object>"
      ]
     },
     "metadata": {},
     "output_type": "display_data"
    },
    {
     "data": {
      "text/html": [
       "Run data is saved locally in <code>c:\\Users\\barbo\\brain classifier repo\\brain_classifier\\src\\wandb\\run-20241119_162712-4x3vsjyu</code>"
      ],
      "text/plain": [
       "<IPython.core.display.HTML object>"
      ]
     },
     "metadata": {},
     "output_type": "display_data"
    },
    {
     "data": {
      "text/html": [
       "Syncing run <strong><a href='https://wandb.ai/barbonigiorgia-sapienza-universit-di-roma/graph-classification-graphs_sc/runs/4x3vsjyu' target=\"_blank\">valiant-sweep-50</a></strong> to <a href='https://wandb.ai/barbonigiorgia-sapienza-universit-di-roma/graph-classification-graphs_sc' target=\"_blank\">Weights & Biases</a> (<a href='https://wandb.me/run' target=\"_blank\">docs</a>)<br/>Sweep page: <a href='https://wandb.ai/barbonigiorgia-sapienza-universit-di-roma/graph-classification-graphs_sc/sweeps/f8yd3ova' target=\"_blank\">https://wandb.ai/barbonigiorgia-sapienza-universit-di-roma/graph-classification-graphs_sc/sweeps/f8yd3ova</a>"
      ],
      "text/plain": [
       "<IPython.core.display.HTML object>"
      ]
     },
     "metadata": {},
     "output_type": "display_data"
    },
    {
     "data": {
      "text/html": [
       " View project at <a href='https://wandb.ai/barbonigiorgia-sapienza-universit-di-roma/graph-classification-graphs_sc' target=\"_blank\">https://wandb.ai/barbonigiorgia-sapienza-universit-di-roma/graph-classification-graphs_sc</a>"
      ],
      "text/plain": [
       "<IPython.core.display.HTML object>"
      ]
     },
     "metadata": {},
     "output_type": "display_data"
    },
    {
     "data": {
      "text/html": [
       " View sweep at <a href='https://wandb.ai/barbonigiorgia-sapienza-universit-di-roma/graph-classification-graphs_sc/sweeps/f8yd3ova' target=\"_blank\">https://wandb.ai/barbonigiorgia-sapienza-universit-di-roma/graph-classification-graphs_sc/sweeps/f8yd3ova</a>"
      ],
      "text/plain": [
       "<IPython.core.display.HTML object>"
      ]
     },
     "metadata": {},
     "output_type": "display_data"
    },
    {
     "data": {
      "text/html": [
       " View run at <a href='https://wandb.ai/barbonigiorgia-sapienza-universit-di-roma/graph-classification-graphs_sc/runs/4x3vsjyu' target=\"_blank\">https://wandb.ai/barbonigiorgia-sapienza-universit-di-roma/graph-classification-graphs_sc/runs/4x3vsjyu</a>"
      ],
      "text/plain": [
       "<IPython.core.display.HTML object>"
      ]
     },
     "metadata": {},
     "output_type": "display_data"
    },
    {
     "name": "stdout",
     "output_type": "stream",
     "text": [
      "Running with config: {'batch_size': 32, 'in_channels': 6, 'learning_rate': 0.001, 'num_epochs': 5, 'num_heads': 1, 'optimizer': 'adam', 'out_channels': 8, 'random_state': 42, 'test_size': 0.3, 'weight_decay': 1e-05}\n"
     ]
    },
    {
     "data": {
      "text/html": [
       "<style>\n",
       "    table.wandb td:nth-child(1) { padding: 0 10px; text-align: left ; width: auto;} td:nth-child(2) {text-align: left ; width: 100%}\n",
       "    .wandb-row { display: flex; flex-direction: row; flex-wrap: wrap; justify-content: flex-start; width: 100% }\n",
       "    .wandb-col { display: flex; flex-direction: column; flex-basis: 100%; flex: 1; padding: 10px; }\n",
       "    </style>\n",
       "<div class=\"wandb-row\"><div class=\"wandb-col\"><h3>Run history:</h3><br/><table class=\"wandb\"><tr><td>epoch</td><td>▁▃▅▆█</td></tr><tr><td>train_accuracy</td><td>█▅▅▁▁</td></tr><tr><td>train_f1</td><td>█▅▅▁▁</td></tr><tr><td>train_loss</td><td>█▆▄▃▁</td></tr><tr><td>val_accuracy</td><td>█▁▁▁▁</td></tr><tr><td>val_f1</td><td>█▁▁▁▁</td></tr><tr><td>val_loss</td><td>█▆▅▃▁</td></tr></table><br/></div><div class=\"wandb-col\"><h3>Run summary:</h3><br/><table class=\"wandb\"><tr><td>epoch</td><td>5</td></tr><tr><td>train_accuracy</td><td>0.576</td></tr><tr><td>train_f1</td><td>0.42933</td></tr><tr><td>train_loss</td><td>0.67031</td></tr><tr><td>val_accuracy</td><td>0.62963</td></tr><tr><td>val_f1</td><td>0.54365</td></tr><tr><td>val_loss</td><td>0.67186</td></tr></table><br/></div></div>"
      ],
      "text/plain": [
       "<IPython.core.display.HTML object>"
      ]
     },
     "metadata": {},
     "output_type": "display_data"
    },
    {
     "data": {
      "text/html": [
       " View run <strong style=\"color:#cdcd00\">valiant-sweep-50</strong> at: <a href='https://wandb.ai/barbonigiorgia-sapienza-universit-di-roma/graph-classification-graphs_sc/runs/4x3vsjyu' target=\"_blank\">https://wandb.ai/barbonigiorgia-sapienza-universit-di-roma/graph-classification-graphs_sc/runs/4x3vsjyu</a><br/> View project at: <a href='https://wandb.ai/barbonigiorgia-sapienza-universit-di-roma/graph-classification-graphs_sc' target=\"_blank\">https://wandb.ai/barbonigiorgia-sapienza-universit-di-roma/graph-classification-graphs_sc</a><br/>Synced 5 W&B file(s), 0 media file(s), 2 artifact file(s) and 0 other file(s)"
      ],
      "text/plain": [
       "<IPython.core.display.HTML object>"
      ]
     },
     "metadata": {},
     "output_type": "display_data"
    },
    {
     "data": {
      "text/html": [
       "Find logs at: <code>.\\wandb\\run-20241119_162712-4x3vsjyu\\logs</code>"
      ],
      "text/plain": [
       "<IPython.core.display.HTML object>"
      ]
     },
     "metadata": {},
     "output_type": "display_data"
    },
    {
     "name": "stderr",
     "output_type": "stream",
     "text": [
      "\u001b[34m\u001b[1mwandb\u001b[0m: Agent Starting Run: ab61fr4q with config:\n",
      "\u001b[34m\u001b[1mwandb\u001b[0m: \tbatch_size: 32\n",
      "\u001b[34m\u001b[1mwandb\u001b[0m: \tin_channels: 6\n",
      "\u001b[34m\u001b[1mwandb\u001b[0m: \tlearning_rate: 0.001\n",
      "\u001b[34m\u001b[1mwandb\u001b[0m: \tnum_epochs: 5\n",
      "\u001b[34m\u001b[1mwandb\u001b[0m: \tnum_heads: 1\n",
      "\u001b[34m\u001b[1mwandb\u001b[0m: \toptimizer: adam\n",
      "\u001b[34m\u001b[1mwandb\u001b[0m: \tout_channels: 8\n",
      "\u001b[34m\u001b[1mwandb\u001b[0m: \trandom_state: 42\n",
      "\u001b[34m\u001b[1mwandb\u001b[0m: \ttest_size: 0.3\n",
      "\u001b[34m\u001b[1mwandb\u001b[0m: \tweight_decay: 0.0001\n"
     ]
    },
    {
     "data": {
      "text/html": [
       "Tracking run with wandb version 0.18.5"
      ],
      "text/plain": [
       "<IPython.core.display.HTML object>"
      ]
     },
     "metadata": {},
     "output_type": "display_data"
    },
    {
     "data": {
      "text/html": [
       "Run data is saved locally in <code>c:\\Users\\barbo\\brain classifier repo\\brain_classifier\\src\\wandb\\run-20241119_162722-ab61fr4q</code>"
      ],
      "text/plain": [
       "<IPython.core.display.HTML object>"
      ]
     },
     "metadata": {},
     "output_type": "display_data"
    },
    {
     "data": {
      "text/html": [
       "Syncing run <strong><a href='https://wandb.ai/barbonigiorgia-sapienza-universit-di-roma/graph-classification-graphs_sc/runs/ab61fr4q' target=\"_blank\">daily-sweep-51</a></strong> to <a href='https://wandb.ai/barbonigiorgia-sapienza-universit-di-roma/graph-classification-graphs_sc' target=\"_blank\">Weights & Biases</a> (<a href='https://wandb.me/run' target=\"_blank\">docs</a>)<br/>Sweep page: <a href='https://wandb.ai/barbonigiorgia-sapienza-universit-di-roma/graph-classification-graphs_sc/sweeps/f8yd3ova' target=\"_blank\">https://wandb.ai/barbonigiorgia-sapienza-universit-di-roma/graph-classification-graphs_sc/sweeps/f8yd3ova</a>"
      ],
      "text/plain": [
       "<IPython.core.display.HTML object>"
      ]
     },
     "metadata": {},
     "output_type": "display_data"
    },
    {
     "data": {
      "text/html": [
       " View project at <a href='https://wandb.ai/barbonigiorgia-sapienza-universit-di-roma/graph-classification-graphs_sc' target=\"_blank\">https://wandb.ai/barbonigiorgia-sapienza-universit-di-roma/graph-classification-graphs_sc</a>"
      ],
      "text/plain": [
       "<IPython.core.display.HTML object>"
      ]
     },
     "metadata": {},
     "output_type": "display_data"
    },
    {
     "data": {
      "text/html": [
       " View sweep at <a href='https://wandb.ai/barbonigiorgia-sapienza-universit-di-roma/graph-classification-graphs_sc/sweeps/f8yd3ova' target=\"_blank\">https://wandb.ai/barbonigiorgia-sapienza-universit-di-roma/graph-classification-graphs_sc/sweeps/f8yd3ova</a>"
      ],
      "text/plain": [
       "<IPython.core.display.HTML object>"
      ]
     },
     "metadata": {},
     "output_type": "display_data"
    },
    {
     "data": {
      "text/html": [
       " View run at <a href='https://wandb.ai/barbonigiorgia-sapienza-universit-di-roma/graph-classification-graphs_sc/runs/ab61fr4q' target=\"_blank\">https://wandb.ai/barbonigiorgia-sapienza-universit-di-roma/graph-classification-graphs_sc/runs/ab61fr4q</a>"
      ],
      "text/plain": [
       "<IPython.core.display.HTML object>"
      ]
     },
     "metadata": {},
     "output_type": "display_data"
    },
    {
     "name": "stdout",
     "output_type": "stream",
     "text": [
      "Running with config: {'batch_size': 32, 'in_channels': 6, 'learning_rate': 0.001, 'num_epochs': 5, 'num_heads': 1, 'optimizer': 'adam', 'out_channels': 8, 'random_state': 42, 'test_size': 0.3, 'weight_decay': 0.0001}\n"
     ]
    },
    {
     "data": {
      "text/html": [
       "<style>\n",
       "    table.wandb td:nth-child(1) { padding: 0 10px; text-align: left ; width: auto;} td:nth-child(2) {text-align: left ; width: 100%}\n",
       "    .wandb-row { display: flex; flex-direction: row; flex-wrap: wrap; justify-content: flex-start; width: 100% }\n",
       "    .wandb-col { display: flex; flex-direction: column; flex-basis: 100%; flex: 1; padding: 10px; }\n",
       "    </style>\n",
       "<div class=\"wandb-row\"><div class=\"wandb-col\"><h3>Run history:</h3><br/><table class=\"wandb\"><tr><td>epoch</td><td>▁▃▅▆█</td></tr><tr><td>train_accuracy</td><td>█▅▅▁▁</td></tr><tr><td>train_f1</td><td>█▅▅▁▁</td></tr><tr><td>train_loss</td><td>█▆▄▃▁</td></tr><tr><td>val_accuracy</td><td>█▁▁▁▁</td></tr><tr><td>val_f1</td><td>█▁▁▁▁</td></tr><tr><td>val_loss</td><td>█▆▅▃▁</td></tr></table><br/></div><div class=\"wandb-col\"><h3>Run summary:</h3><br/><table class=\"wandb\"><tr><td>epoch</td><td>5</td></tr><tr><td>train_accuracy</td><td>0.576</td></tr><tr><td>train_f1</td><td>0.42933</td></tr><tr><td>train_loss</td><td>0.67031</td></tr><tr><td>val_accuracy</td><td>0.62963</td></tr><tr><td>val_f1</td><td>0.54365</td></tr><tr><td>val_loss</td><td>0.67186</td></tr></table><br/></div></div>"
      ],
      "text/plain": [
       "<IPython.core.display.HTML object>"
      ]
     },
     "metadata": {},
     "output_type": "display_data"
    },
    {
     "data": {
      "text/html": [
       " View run <strong style=\"color:#cdcd00\">daily-sweep-51</strong> at: <a href='https://wandb.ai/barbonigiorgia-sapienza-universit-di-roma/graph-classification-graphs_sc/runs/ab61fr4q' target=\"_blank\">https://wandb.ai/barbonigiorgia-sapienza-universit-di-roma/graph-classification-graphs_sc/runs/ab61fr4q</a><br/> View project at: <a href='https://wandb.ai/barbonigiorgia-sapienza-universit-di-roma/graph-classification-graphs_sc' target=\"_blank\">https://wandb.ai/barbonigiorgia-sapienza-universit-di-roma/graph-classification-graphs_sc</a><br/>Synced 5 W&B file(s), 0 media file(s), 2 artifact file(s) and 0 other file(s)"
      ],
      "text/plain": [
       "<IPython.core.display.HTML object>"
      ]
     },
     "metadata": {},
     "output_type": "display_data"
    },
    {
     "data": {
      "text/html": [
       "Find logs at: <code>.\\wandb\\run-20241119_162722-ab61fr4q\\logs</code>"
      ],
      "text/plain": [
       "<IPython.core.display.HTML object>"
      ]
     },
     "metadata": {},
     "output_type": "display_data"
    },
    {
     "name": "stderr",
     "output_type": "stream",
     "text": [
      "\u001b[34m\u001b[1mwandb\u001b[0m: Agent Starting Run: jiqknzwk with config:\n",
      "\u001b[34m\u001b[1mwandb\u001b[0m: \tbatch_size: 32\n",
      "\u001b[34m\u001b[1mwandb\u001b[0m: \tin_channels: 6\n",
      "\u001b[34m\u001b[1mwandb\u001b[0m: \tlearning_rate: 0.001\n",
      "\u001b[34m\u001b[1mwandb\u001b[0m: \tnum_epochs: 5\n",
      "\u001b[34m\u001b[1mwandb\u001b[0m: \tnum_heads: 1\n",
      "\u001b[34m\u001b[1mwandb\u001b[0m: \toptimizer: adam\n",
      "\u001b[34m\u001b[1mwandb\u001b[0m: \tout_channels: 16\n",
      "\u001b[34m\u001b[1mwandb\u001b[0m: \trandom_state: 42\n",
      "\u001b[34m\u001b[1mwandb\u001b[0m: \ttest_size: 0.3\n",
      "\u001b[34m\u001b[1mwandb\u001b[0m: \tweight_decay: 0\n"
     ]
    },
    {
     "data": {
      "text/html": [
       "Tracking run with wandb version 0.18.5"
      ],
      "text/plain": [
       "<IPython.core.display.HTML object>"
      ]
     },
     "metadata": {},
     "output_type": "display_data"
    },
    {
     "data": {
      "text/html": [
       "Run data is saved locally in <code>c:\\Users\\barbo\\brain classifier repo\\brain_classifier\\src\\wandb\\run-20241119_162734-jiqknzwk</code>"
      ],
      "text/plain": [
       "<IPython.core.display.HTML object>"
      ]
     },
     "metadata": {},
     "output_type": "display_data"
    },
    {
     "data": {
      "text/html": [
       "Syncing run <strong><a href='https://wandb.ai/barbonigiorgia-sapienza-universit-di-roma/graph-classification-graphs_sc/runs/jiqknzwk' target=\"_blank\">splendid-sweep-52</a></strong> to <a href='https://wandb.ai/barbonigiorgia-sapienza-universit-di-roma/graph-classification-graphs_sc' target=\"_blank\">Weights & Biases</a> (<a href='https://wandb.me/run' target=\"_blank\">docs</a>)<br/>Sweep page: <a href='https://wandb.ai/barbonigiorgia-sapienza-universit-di-roma/graph-classification-graphs_sc/sweeps/f8yd3ova' target=\"_blank\">https://wandb.ai/barbonigiorgia-sapienza-universit-di-roma/graph-classification-graphs_sc/sweeps/f8yd3ova</a>"
      ],
      "text/plain": [
       "<IPython.core.display.HTML object>"
      ]
     },
     "metadata": {},
     "output_type": "display_data"
    },
    {
     "data": {
      "text/html": [
       " View project at <a href='https://wandb.ai/barbonigiorgia-sapienza-universit-di-roma/graph-classification-graphs_sc' target=\"_blank\">https://wandb.ai/barbonigiorgia-sapienza-universit-di-roma/graph-classification-graphs_sc</a>"
      ],
      "text/plain": [
       "<IPython.core.display.HTML object>"
      ]
     },
     "metadata": {},
     "output_type": "display_data"
    },
    {
     "data": {
      "text/html": [
       " View sweep at <a href='https://wandb.ai/barbonigiorgia-sapienza-universit-di-roma/graph-classification-graphs_sc/sweeps/f8yd3ova' target=\"_blank\">https://wandb.ai/barbonigiorgia-sapienza-universit-di-roma/graph-classification-graphs_sc/sweeps/f8yd3ova</a>"
      ],
      "text/plain": [
       "<IPython.core.display.HTML object>"
      ]
     },
     "metadata": {},
     "output_type": "display_data"
    },
    {
     "data": {
      "text/html": [
       " View run at <a href='https://wandb.ai/barbonigiorgia-sapienza-universit-di-roma/graph-classification-graphs_sc/runs/jiqknzwk' target=\"_blank\">https://wandb.ai/barbonigiorgia-sapienza-universit-di-roma/graph-classification-graphs_sc/runs/jiqknzwk</a>"
      ],
      "text/plain": [
       "<IPython.core.display.HTML object>"
      ]
     },
     "metadata": {},
     "output_type": "display_data"
    },
    {
     "name": "stdout",
     "output_type": "stream",
     "text": [
      "Running with config: {'batch_size': 32, 'in_channels': 6, 'learning_rate': 0.001, 'num_epochs': 5, 'num_heads': 1, 'optimizer': 'adam', 'out_channels': 16, 'random_state': 42, 'test_size': 0.3, 'weight_decay': 0}\n"
     ]
    },
    {
     "data": {
      "text/html": [
       "<style>\n",
       "    table.wandb td:nth-child(1) { padding: 0 10px; text-align: left ; width: auto;} td:nth-child(2) {text-align: left ; width: 100%}\n",
       "    .wandb-row { display: flex; flex-direction: row; flex-wrap: wrap; justify-content: flex-start; width: 100% }\n",
       "    .wandb-col { display: flex; flex-direction: column; flex-basis: 100%; flex: 1; padding: 10px; }\n",
       "    </style>\n",
       "<div class=\"wandb-row\"><div class=\"wandb-col\"><h3>Run history:</h3><br/><table class=\"wandb\"><tr><td>epoch</td><td>▁▃▅▆█</td></tr><tr><td>train_accuracy</td><td>▁▁▁▁▁</td></tr><tr><td>train_f1</td><td>▁▁▁▁▁</td></tr><tr><td>train_loss</td><td>█▆▃▃▁</td></tr><tr><td>val_accuracy</td><td>▁▁▁▁▁</td></tr><tr><td>val_f1</td><td>▁▁▁▁▁</td></tr><tr><td>val_loss</td><td>█▆▄▃▁</td></tr></table><br/></div><div class=\"wandb-col\"><h3>Run summary:</h3><br/><table class=\"wandb\"><tr><td>epoch</td><td>5</td></tr><tr><td>train_accuracy</td><td>0.568</td></tr><tr><td>train_f1</td><td>0.41151</td></tr><tr><td>train_loss</td><td>0.68917</td></tr><tr><td>val_accuracy</td><td>0.55556</td></tr><tr><td>val_f1</td><td>0.39683</td></tr><tr><td>val_loss</td><td>0.69154</td></tr></table><br/></div></div>"
      ],
      "text/plain": [
       "<IPython.core.display.HTML object>"
      ]
     },
     "metadata": {},
     "output_type": "display_data"
    },
    {
     "data": {
      "text/html": [
       " View run <strong style=\"color:#cdcd00\">splendid-sweep-52</strong> at: <a href='https://wandb.ai/barbonigiorgia-sapienza-universit-di-roma/graph-classification-graphs_sc/runs/jiqknzwk' target=\"_blank\">https://wandb.ai/barbonigiorgia-sapienza-universit-di-roma/graph-classification-graphs_sc/runs/jiqknzwk</a><br/> View project at: <a href='https://wandb.ai/barbonigiorgia-sapienza-universit-di-roma/graph-classification-graphs_sc' target=\"_blank\">https://wandb.ai/barbonigiorgia-sapienza-universit-di-roma/graph-classification-graphs_sc</a><br/>Synced 5 W&B file(s), 0 media file(s), 4 artifact file(s) and 0 other file(s)"
      ],
      "text/plain": [
       "<IPython.core.display.HTML object>"
      ]
     },
     "metadata": {},
     "output_type": "display_data"
    },
    {
     "data": {
      "text/html": [
       "Find logs at: <code>.\\wandb\\run-20241119_162734-jiqknzwk\\logs</code>"
      ],
      "text/plain": [
       "<IPython.core.display.HTML object>"
      ]
     },
     "metadata": {},
     "output_type": "display_data"
    },
    {
     "name": "stderr",
     "output_type": "stream",
     "text": [
      "\u001b[34m\u001b[1mwandb\u001b[0m: Agent Starting Run: trm6il47 with config:\n",
      "\u001b[34m\u001b[1mwandb\u001b[0m: \tbatch_size: 32\n",
      "\u001b[34m\u001b[1mwandb\u001b[0m: \tin_channels: 6\n",
      "\u001b[34m\u001b[1mwandb\u001b[0m: \tlearning_rate: 0.001\n",
      "\u001b[34m\u001b[1mwandb\u001b[0m: \tnum_epochs: 5\n",
      "\u001b[34m\u001b[1mwandb\u001b[0m: \tnum_heads: 1\n",
      "\u001b[34m\u001b[1mwandb\u001b[0m: \toptimizer: adam\n",
      "\u001b[34m\u001b[1mwandb\u001b[0m: \tout_channels: 16\n",
      "\u001b[34m\u001b[1mwandb\u001b[0m: \trandom_state: 42\n",
      "\u001b[34m\u001b[1mwandb\u001b[0m: \ttest_size: 0.3\n",
      "\u001b[34m\u001b[1mwandb\u001b[0m: \tweight_decay: 1e-05\n"
     ]
    },
    {
     "data": {
      "text/html": [
       "Tracking run with wandb version 0.18.5"
      ],
      "text/plain": [
       "<IPython.core.display.HTML object>"
      ]
     },
     "metadata": {},
     "output_type": "display_data"
    },
    {
     "data": {
      "text/html": [
       "Run data is saved locally in <code>c:\\Users\\barbo\\brain classifier repo\\brain_classifier\\src\\wandb\\run-20241119_162744-trm6il47</code>"
      ],
      "text/plain": [
       "<IPython.core.display.HTML object>"
      ]
     },
     "metadata": {},
     "output_type": "display_data"
    },
    {
     "data": {
      "text/html": [
       "Syncing run <strong><a href='https://wandb.ai/barbonigiorgia-sapienza-universit-di-roma/graph-classification-graphs_sc/runs/trm6il47' target=\"_blank\">logical-sweep-53</a></strong> to <a href='https://wandb.ai/barbonigiorgia-sapienza-universit-di-roma/graph-classification-graphs_sc' target=\"_blank\">Weights & Biases</a> (<a href='https://wandb.me/run' target=\"_blank\">docs</a>)<br/>Sweep page: <a href='https://wandb.ai/barbonigiorgia-sapienza-universit-di-roma/graph-classification-graphs_sc/sweeps/f8yd3ova' target=\"_blank\">https://wandb.ai/barbonigiorgia-sapienza-universit-di-roma/graph-classification-graphs_sc/sweeps/f8yd3ova</a>"
      ],
      "text/plain": [
       "<IPython.core.display.HTML object>"
      ]
     },
     "metadata": {},
     "output_type": "display_data"
    },
    {
     "data": {
      "text/html": [
       " View project at <a href='https://wandb.ai/barbonigiorgia-sapienza-universit-di-roma/graph-classification-graphs_sc' target=\"_blank\">https://wandb.ai/barbonigiorgia-sapienza-universit-di-roma/graph-classification-graphs_sc</a>"
      ],
      "text/plain": [
       "<IPython.core.display.HTML object>"
      ]
     },
     "metadata": {},
     "output_type": "display_data"
    },
    {
     "data": {
      "text/html": [
       " View sweep at <a href='https://wandb.ai/barbonigiorgia-sapienza-universit-di-roma/graph-classification-graphs_sc/sweeps/f8yd3ova' target=\"_blank\">https://wandb.ai/barbonigiorgia-sapienza-universit-di-roma/graph-classification-graphs_sc/sweeps/f8yd3ova</a>"
      ],
      "text/plain": [
       "<IPython.core.display.HTML object>"
      ]
     },
     "metadata": {},
     "output_type": "display_data"
    },
    {
     "data": {
      "text/html": [
       " View run at <a href='https://wandb.ai/barbonigiorgia-sapienza-universit-di-roma/graph-classification-graphs_sc/runs/trm6il47' target=\"_blank\">https://wandb.ai/barbonigiorgia-sapienza-universit-di-roma/graph-classification-graphs_sc/runs/trm6il47</a>"
      ],
      "text/plain": [
       "<IPython.core.display.HTML object>"
      ]
     },
     "metadata": {},
     "output_type": "display_data"
    },
    {
     "name": "stdout",
     "output_type": "stream",
     "text": [
      "Running with config: {'batch_size': 32, 'in_channels': 6, 'learning_rate': 0.001, 'num_epochs': 5, 'num_heads': 1, 'optimizer': 'adam', 'out_channels': 16, 'random_state': 42, 'test_size': 0.3, 'weight_decay': 1e-05}\n"
     ]
    },
    {
     "data": {
      "text/html": [
       "<style>\n",
       "    table.wandb td:nth-child(1) { padding: 0 10px; text-align: left ; width: auto;} td:nth-child(2) {text-align: left ; width: 100%}\n",
       "    .wandb-row { display: flex; flex-direction: row; flex-wrap: wrap; justify-content: flex-start; width: 100% }\n",
       "    .wandb-col { display: flex; flex-direction: column; flex-basis: 100%; flex: 1; padding: 10px; }\n",
       "    </style>\n",
       "<div class=\"wandb-row\"><div class=\"wandb-col\"><h3>Run history:</h3><br/><table class=\"wandb\"><tr><td>epoch</td><td>▁▃▅▆█</td></tr><tr><td>train_accuracy</td><td>▁▁▁▁▁</td></tr><tr><td>train_f1</td><td>▁▁▁▁▁</td></tr><tr><td>train_loss</td><td>█▆▃▃▁</td></tr><tr><td>val_accuracy</td><td>▁▁▁▁▁</td></tr><tr><td>val_f1</td><td>▁▁▁▁▁</td></tr><tr><td>val_loss</td><td>█▆▄▃▁</td></tr></table><br/></div><div class=\"wandb-col\"><h3>Run summary:</h3><br/><table class=\"wandb\"><tr><td>epoch</td><td>5</td></tr><tr><td>train_accuracy</td><td>0.568</td></tr><tr><td>train_f1</td><td>0.41151</td></tr><tr><td>train_loss</td><td>0.68917</td></tr><tr><td>val_accuracy</td><td>0.55556</td></tr><tr><td>val_f1</td><td>0.39683</td></tr><tr><td>val_loss</td><td>0.69154</td></tr></table><br/></div></div>"
      ],
      "text/plain": [
       "<IPython.core.display.HTML object>"
      ]
     },
     "metadata": {},
     "output_type": "display_data"
    },
    {
     "data": {
      "text/html": [
       " View run <strong style=\"color:#cdcd00\">logical-sweep-53</strong> at: <a href='https://wandb.ai/barbonigiorgia-sapienza-universit-di-roma/graph-classification-graphs_sc/runs/trm6il47' target=\"_blank\">https://wandb.ai/barbonigiorgia-sapienza-universit-di-roma/graph-classification-graphs_sc/runs/trm6il47</a><br/> View project at: <a href='https://wandb.ai/barbonigiorgia-sapienza-universit-di-roma/graph-classification-graphs_sc' target=\"_blank\">https://wandb.ai/barbonigiorgia-sapienza-universit-di-roma/graph-classification-graphs_sc</a><br/>Synced 5 W&B file(s), 0 media file(s), 4 artifact file(s) and 0 other file(s)"
      ],
      "text/plain": [
       "<IPython.core.display.HTML object>"
      ]
     },
     "metadata": {},
     "output_type": "display_data"
    },
    {
     "data": {
      "text/html": [
       "Find logs at: <code>.\\wandb\\run-20241119_162744-trm6il47\\logs</code>"
      ],
      "text/plain": [
       "<IPython.core.display.HTML object>"
      ]
     },
     "metadata": {},
     "output_type": "display_data"
    },
    {
     "name": "stderr",
     "output_type": "stream",
     "text": [
      "\u001b[34m\u001b[1mwandb\u001b[0m: Agent Starting Run: tvchbmep with config:\n",
      "\u001b[34m\u001b[1mwandb\u001b[0m: \tbatch_size: 32\n",
      "\u001b[34m\u001b[1mwandb\u001b[0m: \tin_channels: 6\n",
      "\u001b[34m\u001b[1mwandb\u001b[0m: \tlearning_rate: 0.001\n",
      "\u001b[34m\u001b[1mwandb\u001b[0m: \tnum_epochs: 5\n",
      "\u001b[34m\u001b[1mwandb\u001b[0m: \tnum_heads: 1\n",
      "\u001b[34m\u001b[1mwandb\u001b[0m: \toptimizer: adam\n",
      "\u001b[34m\u001b[1mwandb\u001b[0m: \tout_channels: 16\n",
      "\u001b[34m\u001b[1mwandb\u001b[0m: \trandom_state: 42\n",
      "\u001b[34m\u001b[1mwandb\u001b[0m: \ttest_size: 0.3\n",
      "\u001b[34m\u001b[1mwandb\u001b[0m: \tweight_decay: 0.0001\n"
     ]
    },
    {
     "data": {
      "text/html": [
       "Tracking run with wandb version 0.18.5"
      ],
      "text/plain": [
       "<IPython.core.display.HTML object>"
      ]
     },
     "metadata": {},
     "output_type": "display_data"
    },
    {
     "data": {
      "text/html": [
       "Run data is saved locally in <code>c:\\Users\\barbo\\brain classifier repo\\brain_classifier\\src\\wandb\\run-20241119_162755-tvchbmep</code>"
      ],
      "text/plain": [
       "<IPython.core.display.HTML object>"
      ]
     },
     "metadata": {},
     "output_type": "display_data"
    },
    {
     "data": {
      "text/html": [
       "Syncing run <strong><a href='https://wandb.ai/barbonigiorgia-sapienza-universit-di-roma/graph-classification-graphs_sc/runs/tvchbmep' target=\"_blank\">colorful-sweep-54</a></strong> to <a href='https://wandb.ai/barbonigiorgia-sapienza-universit-di-roma/graph-classification-graphs_sc' target=\"_blank\">Weights & Biases</a> (<a href='https://wandb.me/run' target=\"_blank\">docs</a>)<br/>Sweep page: <a href='https://wandb.ai/barbonigiorgia-sapienza-universit-di-roma/graph-classification-graphs_sc/sweeps/f8yd3ova' target=\"_blank\">https://wandb.ai/barbonigiorgia-sapienza-universit-di-roma/graph-classification-graphs_sc/sweeps/f8yd3ova</a>"
      ],
      "text/plain": [
       "<IPython.core.display.HTML object>"
      ]
     },
     "metadata": {},
     "output_type": "display_data"
    },
    {
     "data": {
      "text/html": [
       " View project at <a href='https://wandb.ai/barbonigiorgia-sapienza-universit-di-roma/graph-classification-graphs_sc' target=\"_blank\">https://wandb.ai/barbonigiorgia-sapienza-universit-di-roma/graph-classification-graphs_sc</a>"
      ],
      "text/plain": [
       "<IPython.core.display.HTML object>"
      ]
     },
     "metadata": {},
     "output_type": "display_data"
    },
    {
     "data": {
      "text/html": [
       " View sweep at <a href='https://wandb.ai/barbonigiorgia-sapienza-universit-di-roma/graph-classification-graphs_sc/sweeps/f8yd3ova' target=\"_blank\">https://wandb.ai/barbonigiorgia-sapienza-universit-di-roma/graph-classification-graphs_sc/sweeps/f8yd3ova</a>"
      ],
      "text/plain": [
       "<IPython.core.display.HTML object>"
      ]
     },
     "metadata": {},
     "output_type": "display_data"
    },
    {
     "data": {
      "text/html": [
       " View run at <a href='https://wandb.ai/barbonigiorgia-sapienza-universit-di-roma/graph-classification-graphs_sc/runs/tvchbmep' target=\"_blank\">https://wandb.ai/barbonigiorgia-sapienza-universit-di-roma/graph-classification-graphs_sc/runs/tvchbmep</a>"
      ],
      "text/plain": [
       "<IPython.core.display.HTML object>"
      ]
     },
     "metadata": {},
     "output_type": "display_data"
    },
    {
     "name": "stdout",
     "output_type": "stream",
     "text": [
      "Running with config: {'batch_size': 32, 'in_channels': 6, 'learning_rate': 0.001, 'num_epochs': 5, 'num_heads': 1, 'optimizer': 'adam', 'out_channels': 16, 'random_state': 42, 'test_size': 0.3, 'weight_decay': 0.0001}\n"
     ]
    },
    {
     "data": {
      "text/html": [
       "<style>\n",
       "    table.wandb td:nth-child(1) { padding: 0 10px; text-align: left ; width: auto;} td:nth-child(2) {text-align: left ; width: 100%}\n",
       "    .wandb-row { display: flex; flex-direction: row; flex-wrap: wrap; justify-content: flex-start; width: 100% }\n",
       "    .wandb-col { display: flex; flex-direction: column; flex-basis: 100%; flex: 1; padding: 10px; }\n",
       "    </style>\n",
       "<div class=\"wandb-row\"><div class=\"wandb-col\"><h3>Run history:</h3><br/><table class=\"wandb\"><tr><td>epoch</td><td>▁▃▅▆█</td></tr><tr><td>train_accuracy</td><td>▁▁▁▁▁</td></tr><tr><td>train_f1</td><td>▁▁▁▁▁</td></tr><tr><td>train_loss</td><td>█▆▃▃▁</td></tr><tr><td>val_accuracy</td><td>▁▁▁▁▁</td></tr><tr><td>val_f1</td><td>▁▁▁▁▁</td></tr><tr><td>val_loss</td><td>█▆▄▃▁</td></tr></table><br/></div><div class=\"wandb-col\"><h3>Run summary:</h3><br/><table class=\"wandb\"><tr><td>epoch</td><td>5</td></tr><tr><td>train_accuracy</td><td>0.568</td></tr><tr><td>train_f1</td><td>0.41151</td></tr><tr><td>train_loss</td><td>0.68917</td></tr><tr><td>val_accuracy</td><td>0.55556</td></tr><tr><td>val_f1</td><td>0.39683</td></tr><tr><td>val_loss</td><td>0.69154</td></tr></table><br/></div></div>"
      ],
      "text/plain": [
       "<IPython.core.display.HTML object>"
      ]
     },
     "metadata": {},
     "output_type": "display_data"
    },
    {
     "data": {
      "text/html": [
       " View run <strong style=\"color:#cdcd00\">colorful-sweep-54</strong> at: <a href='https://wandb.ai/barbonigiorgia-sapienza-universit-di-roma/graph-classification-graphs_sc/runs/tvchbmep' target=\"_blank\">https://wandb.ai/barbonigiorgia-sapienza-universit-di-roma/graph-classification-graphs_sc/runs/tvchbmep</a><br/> View project at: <a href='https://wandb.ai/barbonigiorgia-sapienza-universit-di-roma/graph-classification-graphs_sc' target=\"_blank\">https://wandb.ai/barbonigiorgia-sapienza-universit-di-roma/graph-classification-graphs_sc</a><br/>Synced 5 W&B file(s), 0 media file(s), 4 artifact file(s) and 0 other file(s)"
      ],
      "text/plain": [
       "<IPython.core.display.HTML object>"
      ]
     },
     "metadata": {},
     "output_type": "display_data"
    },
    {
     "data": {
      "text/html": [
       "Find logs at: <code>.\\wandb\\run-20241119_162755-tvchbmep\\logs</code>"
      ],
      "text/plain": [
       "<IPython.core.display.HTML object>"
      ]
     },
     "metadata": {},
     "output_type": "display_data"
    },
    {
     "name": "stderr",
     "output_type": "stream",
     "text": [
      "\u001b[34m\u001b[1mwandb\u001b[0m: Agent Starting Run: kcbt2seb with config:\n",
      "\u001b[34m\u001b[1mwandb\u001b[0m: \tbatch_size: 32\n",
      "\u001b[34m\u001b[1mwandb\u001b[0m: \tin_channels: 6\n",
      "\u001b[34m\u001b[1mwandb\u001b[0m: \tlearning_rate: 0.001\n",
      "\u001b[34m\u001b[1mwandb\u001b[0m: \tnum_epochs: 5\n",
      "\u001b[34m\u001b[1mwandb\u001b[0m: \tnum_heads: 2\n",
      "\u001b[34m\u001b[1mwandb\u001b[0m: \toptimizer: adam\n",
      "\u001b[34m\u001b[1mwandb\u001b[0m: \tout_channels: 8\n",
      "\u001b[34m\u001b[1mwandb\u001b[0m: \trandom_state: 42\n",
      "\u001b[34m\u001b[1mwandb\u001b[0m: \ttest_size: 0.3\n",
      "\u001b[34m\u001b[1mwandb\u001b[0m: \tweight_decay: 0\n"
     ]
    },
    {
     "data": {
      "text/html": [
       "Tracking run with wandb version 0.18.5"
      ],
      "text/plain": [
       "<IPython.core.display.HTML object>"
      ]
     },
     "metadata": {},
     "output_type": "display_data"
    },
    {
     "data": {
      "text/html": [
       "Run data is saved locally in <code>c:\\Users\\barbo\\brain classifier repo\\brain_classifier\\src\\wandb\\run-20241119_162805-kcbt2seb</code>"
      ],
      "text/plain": [
       "<IPython.core.display.HTML object>"
      ]
     },
     "metadata": {},
     "output_type": "display_data"
    },
    {
     "data": {
      "text/html": [
       "Syncing run <strong><a href='https://wandb.ai/barbonigiorgia-sapienza-universit-di-roma/graph-classification-graphs_sc/runs/kcbt2seb' target=\"_blank\">peachy-sweep-55</a></strong> to <a href='https://wandb.ai/barbonigiorgia-sapienza-universit-di-roma/graph-classification-graphs_sc' target=\"_blank\">Weights & Biases</a> (<a href='https://wandb.me/run' target=\"_blank\">docs</a>)<br/>Sweep page: <a href='https://wandb.ai/barbonigiorgia-sapienza-universit-di-roma/graph-classification-graphs_sc/sweeps/f8yd3ova' target=\"_blank\">https://wandb.ai/barbonigiorgia-sapienza-universit-di-roma/graph-classification-graphs_sc/sweeps/f8yd3ova</a>"
      ],
      "text/plain": [
       "<IPython.core.display.HTML object>"
      ]
     },
     "metadata": {},
     "output_type": "display_data"
    },
    {
     "data": {
      "text/html": [
       " View project at <a href='https://wandb.ai/barbonigiorgia-sapienza-universit-di-roma/graph-classification-graphs_sc' target=\"_blank\">https://wandb.ai/barbonigiorgia-sapienza-universit-di-roma/graph-classification-graphs_sc</a>"
      ],
      "text/plain": [
       "<IPython.core.display.HTML object>"
      ]
     },
     "metadata": {},
     "output_type": "display_data"
    },
    {
     "data": {
      "text/html": [
       " View sweep at <a href='https://wandb.ai/barbonigiorgia-sapienza-universit-di-roma/graph-classification-graphs_sc/sweeps/f8yd3ova' target=\"_blank\">https://wandb.ai/barbonigiorgia-sapienza-universit-di-roma/graph-classification-graphs_sc/sweeps/f8yd3ova</a>"
      ],
      "text/plain": [
       "<IPython.core.display.HTML object>"
      ]
     },
     "metadata": {},
     "output_type": "display_data"
    },
    {
     "data": {
      "text/html": [
       " View run at <a href='https://wandb.ai/barbonigiorgia-sapienza-universit-di-roma/graph-classification-graphs_sc/runs/kcbt2seb' target=\"_blank\">https://wandb.ai/barbonigiorgia-sapienza-universit-di-roma/graph-classification-graphs_sc/runs/kcbt2seb</a>"
      ],
      "text/plain": [
       "<IPython.core.display.HTML object>"
      ]
     },
     "metadata": {},
     "output_type": "display_data"
    },
    {
     "name": "stdout",
     "output_type": "stream",
     "text": [
      "Running with config: {'batch_size': 32, 'in_channels': 6, 'learning_rate': 0.001, 'num_epochs': 5, 'num_heads': 2, 'optimizer': 'adam', 'out_channels': 8, 'random_state': 42, 'test_size': 0.3, 'weight_decay': 0}\n"
     ]
    },
    {
     "data": {
      "text/html": [
       "<style>\n",
       "    table.wandb td:nth-child(1) { padding: 0 10px; text-align: left ; width: auto;} td:nth-child(2) {text-align: left ; width: 100%}\n",
       "    .wandb-row { display: flex; flex-direction: row; flex-wrap: wrap; justify-content: flex-start; width: 100% }\n",
       "    .wandb-col { display: flex; flex-direction: column; flex-basis: 100%; flex: 1; padding: 10px; }\n",
       "    </style>\n",
       "<div class=\"wandb-row\"><div class=\"wandb-col\"><h3>Run history:</h3><br/><table class=\"wandb\"><tr><td>epoch</td><td>▁▃▅▆█</td></tr><tr><td>train_accuracy</td><td>██▁▃▃</td></tr><tr><td>train_f1</td><td>██▂▂▁</td></tr><tr><td>train_loss</td><td>█▆▄▂▁</td></tr><tr><td>val_accuracy</td><td>▁▁▁▁▁</td></tr><tr><td>val_f1</td><td>▁▁▁▁▁</td></tr><tr><td>val_loss</td><td>█▆▅▃▁</td></tr></table><br/></div><div class=\"wandb-col\"><h3>Run summary:</h3><br/><table class=\"wandb\"><tr><td>epoch</td><td>5</td></tr><tr><td>train_accuracy</td><td>0.584</td></tr><tr><td>train_f1</td><td>0.44661</td></tr><tr><td>train_loss</td><td>0.66855</td></tr><tr><td>val_accuracy</td><td>0.62963</td></tr><tr><td>val_f1</td><td>0.54365</td></tr><tr><td>val_loss</td><td>0.67008</td></tr></table><br/></div></div>"
      ],
      "text/plain": [
       "<IPython.core.display.HTML object>"
      ]
     },
     "metadata": {},
     "output_type": "display_data"
    },
    {
     "data": {
      "text/html": [
       " View run <strong style=\"color:#cdcd00\">peachy-sweep-55</strong> at: <a href='https://wandb.ai/barbonigiorgia-sapienza-universit-di-roma/graph-classification-graphs_sc/runs/kcbt2seb' target=\"_blank\">https://wandb.ai/barbonigiorgia-sapienza-universit-di-roma/graph-classification-graphs_sc/runs/kcbt2seb</a><br/> View project at: <a href='https://wandb.ai/barbonigiorgia-sapienza-universit-di-roma/graph-classification-graphs_sc' target=\"_blank\">https://wandb.ai/barbonigiorgia-sapienza-universit-di-roma/graph-classification-graphs_sc</a><br/>Synced 5 W&B file(s), 0 media file(s), 2 artifact file(s) and 0 other file(s)"
      ],
      "text/plain": [
       "<IPython.core.display.HTML object>"
      ]
     },
     "metadata": {},
     "output_type": "display_data"
    },
    {
     "data": {
      "text/html": [
       "Find logs at: <code>.\\wandb\\run-20241119_162805-kcbt2seb\\logs</code>"
      ],
      "text/plain": [
       "<IPython.core.display.HTML object>"
      ]
     },
     "metadata": {},
     "output_type": "display_data"
    },
    {
     "name": "stderr",
     "output_type": "stream",
     "text": [
      "\u001b[34m\u001b[1mwandb\u001b[0m: Agent Starting Run: xqfvr0jw with config:\n",
      "\u001b[34m\u001b[1mwandb\u001b[0m: \tbatch_size: 32\n",
      "\u001b[34m\u001b[1mwandb\u001b[0m: \tin_channels: 6\n",
      "\u001b[34m\u001b[1mwandb\u001b[0m: \tlearning_rate: 0.001\n",
      "\u001b[34m\u001b[1mwandb\u001b[0m: \tnum_epochs: 5\n",
      "\u001b[34m\u001b[1mwandb\u001b[0m: \tnum_heads: 2\n",
      "\u001b[34m\u001b[1mwandb\u001b[0m: \toptimizer: adam\n",
      "\u001b[34m\u001b[1mwandb\u001b[0m: \tout_channels: 8\n",
      "\u001b[34m\u001b[1mwandb\u001b[0m: \trandom_state: 42\n",
      "\u001b[34m\u001b[1mwandb\u001b[0m: \ttest_size: 0.3\n",
      "\u001b[34m\u001b[1mwandb\u001b[0m: \tweight_decay: 1e-05\n"
     ]
    },
    {
     "data": {
      "text/html": [
       "Tracking run with wandb version 0.18.5"
      ],
      "text/plain": [
       "<IPython.core.display.HTML object>"
      ]
     },
     "metadata": {},
     "output_type": "display_data"
    },
    {
     "data": {
      "text/html": [
       "Run data is saved locally in <code>c:\\Users\\barbo\\brain classifier repo\\brain_classifier\\src\\wandb\\run-20241119_162816-xqfvr0jw</code>"
      ],
      "text/plain": [
       "<IPython.core.display.HTML object>"
      ]
     },
     "metadata": {},
     "output_type": "display_data"
    },
    {
     "data": {
      "text/html": [
       "Syncing run <strong><a href='https://wandb.ai/barbonigiorgia-sapienza-universit-di-roma/graph-classification-graphs_sc/runs/xqfvr0jw' target=\"_blank\">copper-sweep-56</a></strong> to <a href='https://wandb.ai/barbonigiorgia-sapienza-universit-di-roma/graph-classification-graphs_sc' target=\"_blank\">Weights & Biases</a> (<a href='https://wandb.me/run' target=\"_blank\">docs</a>)<br/>Sweep page: <a href='https://wandb.ai/barbonigiorgia-sapienza-universit-di-roma/graph-classification-graphs_sc/sweeps/f8yd3ova' target=\"_blank\">https://wandb.ai/barbonigiorgia-sapienza-universit-di-roma/graph-classification-graphs_sc/sweeps/f8yd3ova</a>"
      ],
      "text/plain": [
       "<IPython.core.display.HTML object>"
      ]
     },
     "metadata": {},
     "output_type": "display_data"
    },
    {
     "data": {
      "text/html": [
       " View project at <a href='https://wandb.ai/barbonigiorgia-sapienza-universit-di-roma/graph-classification-graphs_sc' target=\"_blank\">https://wandb.ai/barbonigiorgia-sapienza-universit-di-roma/graph-classification-graphs_sc</a>"
      ],
      "text/plain": [
       "<IPython.core.display.HTML object>"
      ]
     },
     "metadata": {},
     "output_type": "display_data"
    },
    {
     "data": {
      "text/html": [
       " View sweep at <a href='https://wandb.ai/barbonigiorgia-sapienza-universit-di-roma/graph-classification-graphs_sc/sweeps/f8yd3ova' target=\"_blank\">https://wandb.ai/barbonigiorgia-sapienza-universit-di-roma/graph-classification-graphs_sc/sweeps/f8yd3ova</a>"
      ],
      "text/plain": [
       "<IPython.core.display.HTML object>"
      ]
     },
     "metadata": {},
     "output_type": "display_data"
    },
    {
     "data": {
      "text/html": [
       " View run at <a href='https://wandb.ai/barbonigiorgia-sapienza-universit-di-roma/graph-classification-graphs_sc/runs/xqfvr0jw' target=\"_blank\">https://wandb.ai/barbonigiorgia-sapienza-universit-di-roma/graph-classification-graphs_sc/runs/xqfvr0jw</a>"
      ],
      "text/plain": [
       "<IPython.core.display.HTML object>"
      ]
     },
     "metadata": {},
     "output_type": "display_data"
    },
    {
     "name": "stdout",
     "output_type": "stream",
     "text": [
      "Running with config: {'batch_size': 32, 'in_channels': 6, 'learning_rate': 0.001, 'num_epochs': 5, 'num_heads': 2, 'optimizer': 'adam', 'out_channels': 8, 'random_state': 42, 'test_size': 0.3, 'weight_decay': 1e-05}\n"
     ]
    },
    {
     "data": {
      "text/html": [
       "<style>\n",
       "    table.wandb td:nth-child(1) { padding: 0 10px; text-align: left ; width: auto;} td:nth-child(2) {text-align: left ; width: 100%}\n",
       "    .wandb-row { display: flex; flex-direction: row; flex-wrap: wrap; justify-content: flex-start; width: 100% }\n",
       "    .wandb-col { display: flex; flex-direction: column; flex-basis: 100%; flex: 1; padding: 10px; }\n",
       "    </style>\n",
       "<div class=\"wandb-row\"><div class=\"wandb-col\"><h3>Run history:</h3><br/><table class=\"wandb\"><tr><td>epoch</td><td>▁▃▅▆█</td></tr><tr><td>train_accuracy</td><td>██▁▃▃</td></tr><tr><td>train_f1</td><td>██▂▂▁</td></tr><tr><td>train_loss</td><td>█▆▄▂▁</td></tr><tr><td>val_accuracy</td><td>▁▁▁▁▁</td></tr><tr><td>val_f1</td><td>▁▁▁▁▁</td></tr><tr><td>val_loss</td><td>█▆▅▃▁</td></tr></table><br/></div><div class=\"wandb-col\"><h3>Run summary:</h3><br/><table class=\"wandb\"><tr><td>epoch</td><td>5</td></tr><tr><td>train_accuracy</td><td>0.584</td></tr><tr><td>train_f1</td><td>0.44661</td></tr><tr><td>train_loss</td><td>0.66855</td></tr><tr><td>val_accuracy</td><td>0.62963</td></tr><tr><td>val_f1</td><td>0.54365</td></tr><tr><td>val_loss</td><td>0.67008</td></tr></table><br/></div></div>"
      ],
      "text/plain": [
       "<IPython.core.display.HTML object>"
      ]
     },
     "metadata": {},
     "output_type": "display_data"
    },
    {
     "data": {
      "text/html": [
       " View run <strong style=\"color:#cdcd00\">copper-sweep-56</strong> at: <a href='https://wandb.ai/barbonigiorgia-sapienza-universit-di-roma/graph-classification-graphs_sc/runs/xqfvr0jw' target=\"_blank\">https://wandb.ai/barbonigiorgia-sapienza-universit-di-roma/graph-classification-graphs_sc/runs/xqfvr0jw</a><br/> View project at: <a href='https://wandb.ai/barbonigiorgia-sapienza-universit-di-roma/graph-classification-graphs_sc' target=\"_blank\">https://wandb.ai/barbonigiorgia-sapienza-universit-di-roma/graph-classification-graphs_sc</a><br/>Synced 5 W&B file(s), 0 media file(s), 2 artifact file(s) and 0 other file(s)"
      ],
      "text/plain": [
       "<IPython.core.display.HTML object>"
      ]
     },
     "metadata": {},
     "output_type": "display_data"
    },
    {
     "data": {
      "text/html": [
       "Find logs at: <code>.\\wandb\\run-20241119_162816-xqfvr0jw\\logs</code>"
      ],
      "text/plain": [
       "<IPython.core.display.HTML object>"
      ]
     },
     "metadata": {},
     "output_type": "display_data"
    },
    {
     "name": "stderr",
     "output_type": "stream",
     "text": [
      "\u001b[34m\u001b[1mwandb\u001b[0m: Agent Starting Run: e92jamet with config:\n",
      "\u001b[34m\u001b[1mwandb\u001b[0m: \tbatch_size: 32\n",
      "\u001b[34m\u001b[1mwandb\u001b[0m: \tin_channels: 6\n",
      "\u001b[34m\u001b[1mwandb\u001b[0m: \tlearning_rate: 0.001\n",
      "\u001b[34m\u001b[1mwandb\u001b[0m: \tnum_epochs: 5\n",
      "\u001b[34m\u001b[1mwandb\u001b[0m: \tnum_heads: 2\n",
      "\u001b[34m\u001b[1mwandb\u001b[0m: \toptimizer: adam\n",
      "\u001b[34m\u001b[1mwandb\u001b[0m: \tout_channels: 8\n",
      "\u001b[34m\u001b[1mwandb\u001b[0m: \trandom_state: 42\n",
      "\u001b[34m\u001b[1mwandb\u001b[0m: \ttest_size: 0.3\n",
      "\u001b[34m\u001b[1mwandb\u001b[0m: \tweight_decay: 0.0001\n"
     ]
    },
    {
     "data": {
      "text/html": [
       "Tracking run with wandb version 0.18.5"
      ],
      "text/plain": [
       "<IPython.core.display.HTML object>"
      ]
     },
     "metadata": {},
     "output_type": "display_data"
    },
    {
     "data": {
      "text/html": [
       "Run data is saved locally in <code>c:\\Users\\barbo\\brain classifier repo\\brain_classifier\\src\\wandb\\run-20241119_162826-e92jamet</code>"
      ],
      "text/plain": [
       "<IPython.core.display.HTML object>"
      ]
     },
     "metadata": {},
     "output_type": "display_data"
    },
    {
     "data": {
      "text/html": [
       "Syncing run <strong><a href='https://wandb.ai/barbonigiorgia-sapienza-universit-di-roma/graph-classification-graphs_sc/runs/e92jamet' target=\"_blank\">neat-sweep-57</a></strong> to <a href='https://wandb.ai/barbonigiorgia-sapienza-universit-di-roma/graph-classification-graphs_sc' target=\"_blank\">Weights & Biases</a> (<a href='https://wandb.me/run' target=\"_blank\">docs</a>)<br/>Sweep page: <a href='https://wandb.ai/barbonigiorgia-sapienza-universit-di-roma/graph-classification-graphs_sc/sweeps/f8yd3ova' target=\"_blank\">https://wandb.ai/barbonigiorgia-sapienza-universit-di-roma/graph-classification-graphs_sc/sweeps/f8yd3ova</a>"
      ],
      "text/plain": [
       "<IPython.core.display.HTML object>"
      ]
     },
     "metadata": {},
     "output_type": "display_data"
    },
    {
     "data": {
      "text/html": [
       " View project at <a href='https://wandb.ai/barbonigiorgia-sapienza-universit-di-roma/graph-classification-graphs_sc' target=\"_blank\">https://wandb.ai/barbonigiorgia-sapienza-universit-di-roma/graph-classification-graphs_sc</a>"
      ],
      "text/plain": [
       "<IPython.core.display.HTML object>"
      ]
     },
     "metadata": {},
     "output_type": "display_data"
    },
    {
     "data": {
      "text/html": [
       " View sweep at <a href='https://wandb.ai/barbonigiorgia-sapienza-universit-di-roma/graph-classification-graphs_sc/sweeps/f8yd3ova' target=\"_blank\">https://wandb.ai/barbonigiorgia-sapienza-universit-di-roma/graph-classification-graphs_sc/sweeps/f8yd3ova</a>"
      ],
      "text/plain": [
       "<IPython.core.display.HTML object>"
      ]
     },
     "metadata": {},
     "output_type": "display_data"
    },
    {
     "data": {
      "text/html": [
       " View run at <a href='https://wandb.ai/barbonigiorgia-sapienza-universit-di-roma/graph-classification-graphs_sc/runs/e92jamet' target=\"_blank\">https://wandb.ai/barbonigiorgia-sapienza-universit-di-roma/graph-classification-graphs_sc/runs/e92jamet</a>"
      ],
      "text/plain": [
       "<IPython.core.display.HTML object>"
      ]
     },
     "metadata": {},
     "output_type": "display_data"
    },
    {
     "name": "stdout",
     "output_type": "stream",
     "text": [
      "Running with config: {'batch_size': 32, 'in_channels': 6, 'learning_rate': 0.001, 'num_epochs': 5, 'num_heads': 2, 'optimizer': 'adam', 'out_channels': 8, 'random_state': 42, 'test_size': 0.3, 'weight_decay': 0.0001}\n"
     ]
    },
    {
     "data": {
      "text/html": [
       "<style>\n",
       "    table.wandb td:nth-child(1) { padding: 0 10px; text-align: left ; width: auto;} td:nth-child(2) {text-align: left ; width: 100%}\n",
       "    .wandb-row { display: flex; flex-direction: row; flex-wrap: wrap; justify-content: flex-start; width: 100% }\n",
       "    .wandb-col { display: flex; flex-direction: column; flex-basis: 100%; flex: 1; padding: 10px; }\n",
       "    </style>\n",
       "<div class=\"wandb-row\"><div class=\"wandb-col\"><h3>Run history:</h3><br/><table class=\"wandb\"><tr><td>epoch</td><td>▁▃▅▆█</td></tr><tr><td>train_accuracy</td><td>██▁▃▃</td></tr><tr><td>train_f1</td><td>██▂▂▁</td></tr><tr><td>train_loss</td><td>█▆▄▂▁</td></tr><tr><td>val_accuracy</td><td>▁▁▁▁▁</td></tr><tr><td>val_f1</td><td>▁▁▁▁▁</td></tr><tr><td>val_loss</td><td>█▆▅▃▁</td></tr></table><br/></div><div class=\"wandb-col\"><h3>Run summary:</h3><br/><table class=\"wandb\"><tr><td>epoch</td><td>5</td></tr><tr><td>train_accuracy</td><td>0.584</td></tr><tr><td>train_f1</td><td>0.44661</td></tr><tr><td>train_loss</td><td>0.66856</td></tr><tr><td>val_accuracy</td><td>0.62963</td></tr><tr><td>val_f1</td><td>0.54365</td></tr><tr><td>val_loss</td><td>0.6701</td></tr></table><br/></div></div>"
      ],
      "text/plain": [
       "<IPython.core.display.HTML object>"
      ]
     },
     "metadata": {},
     "output_type": "display_data"
    },
    {
     "data": {
      "text/html": [
       " View run <strong style=\"color:#cdcd00\">neat-sweep-57</strong> at: <a href='https://wandb.ai/barbonigiorgia-sapienza-universit-di-roma/graph-classification-graphs_sc/runs/e92jamet' target=\"_blank\">https://wandb.ai/barbonigiorgia-sapienza-universit-di-roma/graph-classification-graphs_sc/runs/e92jamet</a><br/> View project at: <a href='https://wandb.ai/barbonigiorgia-sapienza-universit-di-roma/graph-classification-graphs_sc' target=\"_blank\">https://wandb.ai/barbonigiorgia-sapienza-universit-di-roma/graph-classification-graphs_sc</a><br/>Synced 5 W&B file(s), 0 media file(s), 2 artifact file(s) and 0 other file(s)"
      ],
      "text/plain": [
       "<IPython.core.display.HTML object>"
      ]
     },
     "metadata": {},
     "output_type": "display_data"
    },
    {
     "data": {
      "text/html": [
       "Find logs at: <code>.\\wandb\\run-20241119_162826-e92jamet\\logs</code>"
      ],
      "text/plain": [
       "<IPython.core.display.HTML object>"
      ]
     },
     "metadata": {},
     "output_type": "display_data"
    },
    {
     "name": "stderr",
     "output_type": "stream",
     "text": [
      "\u001b[34m\u001b[1mwandb\u001b[0m: Agent Starting Run: k6cknjxf with config:\n",
      "\u001b[34m\u001b[1mwandb\u001b[0m: \tbatch_size: 32\n",
      "\u001b[34m\u001b[1mwandb\u001b[0m: \tin_channels: 6\n",
      "\u001b[34m\u001b[1mwandb\u001b[0m: \tlearning_rate: 0.001\n",
      "\u001b[34m\u001b[1mwandb\u001b[0m: \tnum_epochs: 5\n",
      "\u001b[34m\u001b[1mwandb\u001b[0m: \tnum_heads: 2\n",
      "\u001b[34m\u001b[1mwandb\u001b[0m: \toptimizer: adam\n",
      "\u001b[34m\u001b[1mwandb\u001b[0m: \tout_channels: 16\n",
      "\u001b[34m\u001b[1mwandb\u001b[0m: \trandom_state: 42\n",
      "\u001b[34m\u001b[1mwandb\u001b[0m: \ttest_size: 0.3\n",
      "\u001b[34m\u001b[1mwandb\u001b[0m: \tweight_decay: 0\n"
     ]
    },
    {
     "data": {
      "text/html": [
       "Tracking run with wandb version 0.18.5"
      ],
      "text/plain": [
       "<IPython.core.display.HTML object>"
      ]
     },
     "metadata": {},
     "output_type": "display_data"
    },
    {
     "data": {
      "text/html": [
       "Run data is saved locally in <code>c:\\Users\\barbo\\brain classifier repo\\brain_classifier\\src\\wandb\\run-20241119_162837-k6cknjxf</code>"
      ],
      "text/plain": [
       "<IPython.core.display.HTML object>"
      ]
     },
     "metadata": {},
     "output_type": "display_data"
    },
    {
     "data": {
      "text/html": [
       "Syncing run <strong><a href='https://wandb.ai/barbonigiorgia-sapienza-universit-di-roma/graph-classification-graphs_sc/runs/k6cknjxf' target=\"_blank\">dry-sweep-58</a></strong> to <a href='https://wandb.ai/barbonigiorgia-sapienza-universit-di-roma/graph-classification-graphs_sc' target=\"_blank\">Weights & Biases</a> (<a href='https://wandb.me/run' target=\"_blank\">docs</a>)<br/>Sweep page: <a href='https://wandb.ai/barbonigiorgia-sapienza-universit-di-roma/graph-classification-graphs_sc/sweeps/f8yd3ova' target=\"_blank\">https://wandb.ai/barbonigiorgia-sapienza-universit-di-roma/graph-classification-graphs_sc/sweeps/f8yd3ova</a>"
      ],
      "text/plain": [
       "<IPython.core.display.HTML object>"
      ]
     },
     "metadata": {},
     "output_type": "display_data"
    },
    {
     "data": {
      "text/html": [
       " View project at <a href='https://wandb.ai/barbonigiorgia-sapienza-universit-di-roma/graph-classification-graphs_sc' target=\"_blank\">https://wandb.ai/barbonigiorgia-sapienza-universit-di-roma/graph-classification-graphs_sc</a>"
      ],
      "text/plain": [
       "<IPython.core.display.HTML object>"
      ]
     },
     "metadata": {},
     "output_type": "display_data"
    },
    {
     "data": {
      "text/html": [
       " View sweep at <a href='https://wandb.ai/barbonigiorgia-sapienza-universit-di-roma/graph-classification-graphs_sc/sweeps/f8yd3ova' target=\"_blank\">https://wandb.ai/barbonigiorgia-sapienza-universit-di-roma/graph-classification-graphs_sc/sweeps/f8yd3ova</a>"
      ],
      "text/plain": [
       "<IPython.core.display.HTML object>"
      ]
     },
     "metadata": {},
     "output_type": "display_data"
    },
    {
     "data": {
      "text/html": [
       " View run at <a href='https://wandb.ai/barbonigiorgia-sapienza-universit-di-roma/graph-classification-graphs_sc/runs/k6cknjxf' target=\"_blank\">https://wandb.ai/barbonigiorgia-sapienza-universit-di-roma/graph-classification-graphs_sc/runs/k6cknjxf</a>"
      ],
      "text/plain": [
       "<IPython.core.display.HTML object>"
      ]
     },
     "metadata": {},
     "output_type": "display_data"
    },
    {
     "name": "stdout",
     "output_type": "stream",
     "text": [
      "Running with config: {'batch_size': 32, 'in_channels': 6, 'learning_rate': 0.001, 'num_epochs': 5, 'num_heads': 2, 'optimizer': 'adam', 'out_channels': 16, 'random_state': 42, 'test_size': 0.3, 'weight_decay': 0}\n"
     ]
    },
    {
     "data": {
      "text/html": [
       "<style>\n",
       "    table.wandb td:nth-child(1) { padding: 0 10px; text-align: left ; width: auto;} td:nth-child(2) {text-align: left ; width: 100%}\n",
       "    .wandb-row { display: flex; flex-direction: row; flex-wrap: wrap; justify-content: flex-start; width: 100% }\n",
       "    .wandb-col { display: flex; flex-direction: column; flex-basis: 100%; flex: 1; padding: 10px; }\n",
       "    </style>\n",
       "<div class=\"wandb-row\"><div class=\"wandb-col\"><h3>Run history:</h3><br/><table class=\"wandb\"><tr><td>epoch</td><td>▁▃▅▆█</td></tr><tr><td>train_accuracy</td><td>▁▁▁▁▁</td></tr><tr><td>train_f1</td><td>▁▁▁▁▁</td></tr><tr><td>train_loss</td><td>█▆▄▂▁</td></tr><tr><td>val_accuracy</td><td>▁▁▁▁▁</td></tr><tr><td>val_f1</td><td>▁▁▁▁▁</td></tr><tr><td>val_loss</td><td>█▆▄▃▁</td></tr></table><br/></div><div class=\"wandb-col\"><h3>Run summary:</h3><br/><table class=\"wandb\"><tr><td>epoch</td><td>5</td></tr><tr><td>train_accuracy</td><td>0.432</td></tr><tr><td>train_f1</td><td>0.26065</td></tr><tr><td>train_loss</td><td>0.70563</td></tr><tr><td>val_accuracy</td><td>0.44444</td></tr><tr><td>val_f1</td><td>0.2735</td></tr><tr><td>val_loss</td><td>0.69954</td></tr></table><br/></div></div>"
      ],
      "text/plain": [
       "<IPython.core.display.HTML object>"
      ]
     },
     "metadata": {},
     "output_type": "display_data"
    },
    {
     "data": {
      "text/html": [
       " View run <strong style=\"color:#cdcd00\">dry-sweep-58</strong> at: <a href='https://wandb.ai/barbonigiorgia-sapienza-universit-di-roma/graph-classification-graphs_sc/runs/k6cknjxf' target=\"_blank\">https://wandb.ai/barbonigiorgia-sapienza-universit-di-roma/graph-classification-graphs_sc/runs/k6cknjxf</a><br/> View project at: <a href='https://wandb.ai/barbonigiorgia-sapienza-universit-di-roma/graph-classification-graphs_sc' target=\"_blank\">https://wandb.ai/barbonigiorgia-sapienza-universit-di-roma/graph-classification-graphs_sc</a><br/>Synced 5 W&B file(s), 0 media file(s), 4 artifact file(s) and 0 other file(s)"
      ],
      "text/plain": [
       "<IPython.core.display.HTML object>"
      ]
     },
     "metadata": {},
     "output_type": "display_data"
    },
    {
     "data": {
      "text/html": [
       "Find logs at: <code>.\\wandb\\run-20241119_162837-k6cknjxf\\logs</code>"
      ],
      "text/plain": [
       "<IPython.core.display.HTML object>"
      ]
     },
     "metadata": {},
     "output_type": "display_data"
    },
    {
     "name": "stderr",
     "output_type": "stream",
     "text": [
      "\u001b[34m\u001b[1mwandb\u001b[0m: Agent Starting Run: bz4qfiaz with config:\n",
      "\u001b[34m\u001b[1mwandb\u001b[0m: \tbatch_size: 32\n",
      "\u001b[34m\u001b[1mwandb\u001b[0m: \tin_channels: 6\n",
      "\u001b[34m\u001b[1mwandb\u001b[0m: \tlearning_rate: 0.001\n",
      "\u001b[34m\u001b[1mwandb\u001b[0m: \tnum_epochs: 5\n",
      "\u001b[34m\u001b[1mwandb\u001b[0m: \tnum_heads: 2\n",
      "\u001b[34m\u001b[1mwandb\u001b[0m: \toptimizer: adam\n",
      "\u001b[34m\u001b[1mwandb\u001b[0m: \tout_channels: 16\n",
      "\u001b[34m\u001b[1mwandb\u001b[0m: \trandom_state: 42\n",
      "\u001b[34m\u001b[1mwandb\u001b[0m: \ttest_size: 0.3\n",
      "\u001b[34m\u001b[1mwandb\u001b[0m: \tweight_decay: 1e-05\n"
     ]
    },
    {
     "data": {
      "text/html": [
       "Tracking run with wandb version 0.18.5"
      ],
      "text/plain": [
       "<IPython.core.display.HTML object>"
      ]
     },
     "metadata": {},
     "output_type": "display_data"
    },
    {
     "data": {
      "text/html": [
       "Run data is saved locally in <code>c:\\Users\\barbo\\brain classifier repo\\brain_classifier\\src\\wandb\\run-20241119_162853-bz4qfiaz</code>"
      ],
      "text/plain": [
       "<IPython.core.display.HTML object>"
      ]
     },
     "metadata": {},
     "output_type": "display_data"
    },
    {
     "data": {
      "text/html": [
       "Syncing run <strong><a href='https://wandb.ai/barbonigiorgia-sapienza-universit-di-roma/graph-classification-graphs_sc/runs/bz4qfiaz' target=\"_blank\">dark-sweep-59</a></strong> to <a href='https://wandb.ai/barbonigiorgia-sapienza-universit-di-roma/graph-classification-graphs_sc' target=\"_blank\">Weights & Biases</a> (<a href='https://wandb.me/run' target=\"_blank\">docs</a>)<br/>Sweep page: <a href='https://wandb.ai/barbonigiorgia-sapienza-universit-di-roma/graph-classification-graphs_sc/sweeps/f8yd3ova' target=\"_blank\">https://wandb.ai/barbonigiorgia-sapienza-universit-di-roma/graph-classification-graphs_sc/sweeps/f8yd3ova</a>"
      ],
      "text/plain": [
       "<IPython.core.display.HTML object>"
      ]
     },
     "metadata": {},
     "output_type": "display_data"
    },
    {
     "data": {
      "text/html": [
       " View project at <a href='https://wandb.ai/barbonigiorgia-sapienza-universit-di-roma/graph-classification-graphs_sc' target=\"_blank\">https://wandb.ai/barbonigiorgia-sapienza-universit-di-roma/graph-classification-graphs_sc</a>"
      ],
      "text/plain": [
       "<IPython.core.display.HTML object>"
      ]
     },
     "metadata": {},
     "output_type": "display_data"
    },
    {
     "data": {
      "text/html": [
       " View sweep at <a href='https://wandb.ai/barbonigiorgia-sapienza-universit-di-roma/graph-classification-graphs_sc/sweeps/f8yd3ova' target=\"_blank\">https://wandb.ai/barbonigiorgia-sapienza-universit-di-roma/graph-classification-graphs_sc/sweeps/f8yd3ova</a>"
      ],
      "text/plain": [
       "<IPython.core.display.HTML object>"
      ]
     },
     "metadata": {},
     "output_type": "display_data"
    },
    {
     "data": {
      "text/html": [
       " View run at <a href='https://wandb.ai/barbonigiorgia-sapienza-universit-di-roma/graph-classification-graphs_sc/runs/bz4qfiaz' target=\"_blank\">https://wandb.ai/barbonigiorgia-sapienza-universit-di-roma/graph-classification-graphs_sc/runs/bz4qfiaz</a>"
      ],
      "text/plain": [
       "<IPython.core.display.HTML object>"
      ]
     },
     "metadata": {},
     "output_type": "display_data"
    },
    {
     "name": "stdout",
     "output_type": "stream",
     "text": [
      "Running with config: {'batch_size': 32, 'in_channels': 6, 'learning_rate': 0.001, 'num_epochs': 5, 'num_heads': 2, 'optimizer': 'adam', 'out_channels': 16, 'random_state': 42, 'test_size': 0.3, 'weight_decay': 1e-05}\n"
     ]
    },
    {
     "data": {
      "text/html": [
       "<style>\n",
       "    table.wandb td:nth-child(1) { padding: 0 10px; text-align: left ; width: auto;} td:nth-child(2) {text-align: left ; width: 100%}\n",
       "    .wandb-row { display: flex; flex-direction: row; flex-wrap: wrap; justify-content: flex-start; width: 100% }\n",
       "    .wandb-col { display: flex; flex-direction: column; flex-basis: 100%; flex: 1; padding: 10px; }\n",
       "    </style>\n",
       "<div class=\"wandb-row\"><div class=\"wandb-col\"><h3>Run history:</h3><br/><table class=\"wandb\"><tr><td>epoch</td><td>▁▃▅▆█</td></tr><tr><td>train_accuracy</td><td>▁▁▁▁▁</td></tr><tr><td>train_f1</td><td>▁▁▁▁▁</td></tr><tr><td>train_loss</td><td>█▆▄▂▁</td></tr><tr><td>val_accuracy</td><td>▁▁▁▁▁</td></tr><tr><td>val_f1</td><td>▁▁▁▁▁</td></tr><tr><td>val_loss</td><td>█▆▄▃▁</td></tr></table><br/></div><div class=\"wandb-col\"><h3>Run summary:</h3><br/><table class=\"wandb\"><tr><td>epoch</td><td>5</td></tr><tr><td>train_accuracy</td><td>0.432</td></tr><tr><td>train_f1</td><td>0.26065</td></tr><tr><td>train_loss</td><td>0.70563</td></tr><tr><td>val_accuracy</td><td>0.44444</td></tr><tr><td>val_f1</td><td>0.2735</td></tr><tr><td>val_loss</td><td>0.69954</td></tr></table><br/></div></div>"
      ],
      "text/plain": [
       "<IPython.core.display.HTML object>"
      ]
     },
     "metadata": {},
     "output_type": "display_data"
    },
    {
     "data": {
      "text/html": [
       " View run <strong style=\"color:#cdcd00\">dark-sweep-59</strong> at: <a href='https://wandb.ai/barbonigiorgia-sapienza-universit-di-roma/graph-classification-graphs_sc/runs/bz4qfiaz' target=\"_blank\">https://wandb.ai/barbonigiorgia-sapienza-universit-di-roma/graph-classification-graphs_sc/runs/bz4qfiaz</a><br/> View project at: <a href='https://wandb.ai/barbonigiorgia-sapienza-universit-di-roma/graph-classification-graphs_sc' target=\"_blank\">https://wandb.ai/barbonigiorgia-sapienza-universit-di-roma/graph-classification-graphs_sc</a><br/>Synced 5 W&B file(s), 0 media file(s), 4 artifact file(s) and 0 other file(s)"
      ],
      "text/plain": [
       "<IPython.core.display.HTML object>"
      ]
     },
     "metadata": {},
     "output_type": "display_data"
    },
    {
     "data": {
      "text/html": [
       "Find logs at: <code>.\\wandb\\run-20241119_162853-bz4qfiaz\\logs</code>"
      ],
      "text/plain": [
       "<IPython.core.display.HTML object>"
      ]
     },
     "metadata": {},
     "output_type": "display_data"
    },
    {
     "name": "stderr",
     "output_type": "stream",
     "text": [
      "\u001b[34m\u001b[1mwandb\u001b[0m: Agent Starting Run: ipqr9luu with config:\n",
      "\u001b[34m\u001b[1mwandb\u001b[0m: \tbatch_size: 32\n",
      "\u001b[34m\u001b[1mwandb\u001b[0m: \tin_channels: 6\n",
      "\u001b[34m\u001b[1mwandb\u001b[0m: \tlearning_rate: 0.001\n",
      "\u001b[34m\u001b[1mwandb\u001b[0m: \tnum_epochs: 5\n",
      "\u001b[34m\u001b[1mwandb\u001b[0m: \tnum_heads: 2\n",
      "\u001b[34m\u001b[1mwandb\u001b[0m: \toptimizer: adam\n",
      "\u001b[34m\u001b[1mwandb\u001b[0m: \tout_channels: 16\n",
      "\u001b[34m\u001b[1mwandb\u001b[0m: \trandom_state: 42\n",
      "\u001b[34m\u001b[1mwandb\u001b[0m: \ttest_size: 0.3\n",
      "\u001b[34m\u001b[1mwandb\u001b[0m: \tweight_decay: 0.0001\n"
     ]
    },
    {
     "data": {
      "text/html": [
       "Tracking run with wandb version 0.18.5"
      ],
      "text/plain": [
       "<IPython.core.display.HTML object>"
      ]
     },
     "metadata": {},
     "output_type": "display_data"
    },
    {
     "data": {
      "text/html": [
       "Run data is saved locally in <code>c:\\Users\\barbo\\brain classifier repo\\brain_classifier\\src\\wandb\\run-20241119_162908-ipqr9luu</code>"
      ],
      "text/plain": [
       "<IPython.core.display.HTML object>"
      ]
     },
     "metadata": {},
     "output_type": "display_data"
    },
    {
     "data": {
      "text/html": [
       "Syncing run <strong><a href='https://wandb.ai/barbonigiorgia-sapienza-universit-di-roma/graph-classification-graphs_sc/runs/ipqr9luu' target=\"_blank\">genial-sweep-60</a></strong> to <a href='https://wandb.ai/barbonigiorgia-sapienza-universit-di-roma/graph-classification-graphs_sc' target=\"_blank\">Weights & Biases</a> (<a href='https://wandb.me/run' target=\"_blank\">docs</a>)<br/>Sweep page: <a href='https://wandb.ai/barbonigiorgia-sapienza-universit-di-roma/graph-classification-graphs_sc/sweeps/f8yd3ova' target=\"_blank\">https://wandb.ai/barbonigiorgia-sapienza-universit-di-roma/graph-classification-graphs_sc/sweeps/f8yd3ova</a>"
      ],
      "text/plain": [
       "<IPython.core.display.HTML object>"
      ]
     },
     "metadata": {},
     "output_type": "display_data"
    },
    {
     "data": {
      "text/html": [
       " View project at <a href='https://wandb.ai/barbonigiorgia-sapienza-universit-di-roma/graph-classification-graphs_sc' target=\"_blank\">https://wandb.ai/barbonigiorgia-sapienza-universit-di-roma/graph-classification-graphs_sc</a>"
      ],
      "text/plain": [
       "<IPython.core.display.HTML object>"
      ]
     },
     "metadata": {},
     "output_type": "display_data"
    },
    {
     "data": {
      "text/html": [
       " View sweep at <a href='https://wandb.ai/barbonigiorgia-sapienza-universit-di-roma/graph-classification-graphs_sc/sweeps/f8yd3ova' target=\"_blank\">https://wandb.ai/barbonigiorgia-sapienza-universit-di-roma/graph-classification-graphs_sc/sweeps/f8yd3ova</a>"
      ],
      "text/plain": [
       "<IPython.core.display.HTML object>"
      ]
     },
     "metadata": {},
     "output_type": "display_data"
    },
    {
     "data": {
      "text/html": [
       " View run at <a href='https://wandb.ai/barbonigiorgia-sapienza-universit-di-roma/graph-classification-graphs_sc/runs/ipqr9luu' target=\"_blank\">https://wandb.ai/barbonigiorgia-sapienza-universit-di-roma/graph-classification-graphs_sc/runs/ipqr9luu</a>"
      ],
      "text/plain": [
       "<IPython.core.display.HTML object>"
      ]
     },
     "metadata": {},
     "output_type": "display_data"
    },
    {
     "name": "stdout",
     "output_type": "stream",
     "text": [
      "Running with config: {'batch_size': 32, 'in_channels': 6, 'learning_rate': 0.001, 'num_epochs': 5, 'num_heads': 2, 'optimizer': 'adam', 'out_channels': 16, 'random_state': 42, 'test_size': 0.3, 'weight_decay': 0.0001}\n"
     ]
    },
    {
     "data": {
      "text/html": [
       "<style>\n",
       "    table.wandb td:nth-child(1) { padding: 0 10px; text-align: left ; width: auto;} td:nth-child(2) {text-align: left ; width: 100%}\n",
       "    .wandb-row { display: flex; flex-direction: row; flex-wrap: wrap; justify-content: flex-start; width: 100% }\n",
       "    .wandb-col { display: flex; flex-direction: column; flex-basis: 100%; flex: 1; padding: 10px; }\n",
       "    </style>\n",
       "<div class=\"wandb-row\"><div class=\"wandb-col\"><h3>Run history:</h3><br/><table class=\"wandb\"><tr><td>epoch</td><td>▁▃▅▆█</td></tr><tr><td>train_accuracy</td><td>▁▁▁▁▁</td></tr><tr><td>train_f1</td><td>▁▁▁▁▁</td></tr><tr><td>train_loss</td><td>█▆▄▂▁</td></tr><tr><td>val_accuracy</td><td>▁▁▁▁▁</td></tr><tr><td>val_f1</td><td>▁▁▁▁▁</td></tr><tr><td>val_loss</td><td>█▆▄▃▁</td></tr></table><br/></div><div class=\"wandb-col\"><h3>Run summary:</h3><br/><table class=\"wandb\"><tr><td>epoch</td><td>5</td></tr><tr><td>train_accuracy</td><td>0.432</td></tr><tr><td>train_f1</td><td>0.26065</td></tr><tr><td>train_loss</td><td>0.70564</td></tr><tr><td>val_accuracy</td><td>0.44444</td></tr><tr><td>val_f1</td><td>0.2735</td></tr><tr><td>val_loss</td><td>0.69955</td></tr></table><br/></div></div>"
      ],
      "text/plain": [
       "<IPython.core.display.HTML object>"
      ]
     },
     "metadata": {},
     "output_type": "display_data"
    },
    {
     "data": {
      "text/html": [
       " View run <strong style=\"color:#cdcd00\">genial-sweep-60</strong> at: <a href='https://wandb.ai/barbonigiorgia-sapienza-universit-di-roma/graph-classification-graphs_sc/runs/ipqr9luu' target=\"_blank\">https://wandb.ai/barbonigiorgia-sapienza-universit-di-roma/graph-classification-graphs_sc/runs/ipqr9luu</a><br/> View project at: <a href='https://wandb.ai/barbonigiorgia-sapienza-universit-di-roma/graph-classification-graphs_sc' target=\"_blank\">https://wandb.ai/barbonigiorgia-sapienza-universit-di-roma/graph-classification-graphs_sc</a><br/>Synced 5 W&B file(s), 0 media file(s), 4 artifact file(s) and 0 other file(s)"
      ],
      "text/plain": [
       "<IPython.core.display.HTML object>"
      ]
     },
     "metadata": {},
     "output_type": "display_data"
    },
    {
     "data": {
      "text/html": [
       "Find logs at: <code>.\\wandb\\run-20241119_162908-ipqr9luu\\logs</code>"
      ],
      "text/plain": [
       "<IPython.core.display.HTML object>"
      ]
     },
     "metadata": {},
     "output_type": "display_data"
    },
    {
     "name": "stderr",
     "output_type": "stream",
     "text": [
      "\u001b[34m\u001b[1mwandb\u001b[0m: Agent Starting Run: ksld1i9w with config:\n",
      "\u001b[34m\u001b[1mwandb\u001b[0m: \tbatch_size: 32\n",
      "\u001b[34m\u001b[1mwandb\u001b[0m: \tin_channels: 6\n",
      "\u001b[34m\u001b[1mwandb\u001b[0m: \tlearning_rate: 0.001\n",
      "\u001b[34m\u001b[1mwandb\u001b[0m: \tnum_epochs: 5\n",
      "\u001b[34m\u001b[1mwandb\u001b[0m: \tnum_heads: 3\n",
      "\u001b[34m\u001b[1mwandb\u001b[0m: \toptimizer: adam\n",
      "\u001b[34m\u001b[1mwandb\u001b[0m: \tout_channels: 8\n",
      "\u001b[34m\u001b[1mwandb\u001b[0m: \trandom_state: 42\n",
      "\u001b[34m\u001b[1mwandb\u001b[0m: \ttest_size: 0.3\n",
      "\u001b[34m\u001b[1mwandb\u001b[0m: \tweight_decay: 0\n"
     ]
    },
    {
     "data": {
      "text/html": [
       "Tracking run with wandb version 0.18.5"
      ],
      "text/plain": [
       "<IPython.core.display.HTML object>"
      ]
     },
     "metadata": {},
     "output_type": "display_data"
    },
    {
     "data": {
      "text/html": [
       "Run data is saved locally in <code>c:\\Users\\barbo\\brain classifier repo\\brain_classifier\\src\\wandb\\run-20241119_162925-ksld1i9w</code>"
      ],
      "text/plain": [
       "<IPython.core.display.HTML object>"
      ]
     },
     "metadata": {},
     "output_type": "display_data"
    },
    {
     "data": {
      "text/html": [
       "Syncing run <strong><a href='https://wandb.ai/barbonigiorgia-sapienza-universit-di-roma/graph-classification-graphs_sc/runs/ksld1i9w' target=\"_blank\">scarlet-sweep-61</a></strong> to <a href='https://wandb.ai/barbonigiorgia-sapienza-universit-di-roma/graph-classification-graphs_sc' target=\"_blank\">Weights & Biases</a> (<a href='https://wandb.me/run' target=\"_blank\">docs</a>)<br/>Sweep page: <a href='https://wandb.ai/barbonigiorgia-sapienza-universit-di-roma/graph-classification-graphs_sc/sweeps/f8yd3ova' target=\"_blank\">https://wandb.ai/barbonigiorgia-sapienza-universit-di-roma/graph-classification-graphs_sc/sweeps/f8yd3ova</a>"
      ],
      "text/plain": [
       "<IPython.core.display.HTML object>"
      ]
     },
     "metadata": {},
     "output_type": "display_data"
    },
    {
     "data": {
      "text/html": [
       " View project at <a href='https://wandb.ai/barbonigiorgia-sapienza-universit-di-roma/graph-classification-graphs_sc' target=\"_blank\">https://wandb.ai/barbonigiorgia-sapienza-universit-di-roma/graph-classification-graphs_sc</a>"
      ],
      "text/plain": [
       "<IPython.core.display.HTML object>"
      ]
     },
     "metadata": {},
     "output_type": "display_data"
    },
    {
     "data": {
      "text/html": [
       " View sweep at <a href='https://wandb.ai/barbonigiorgia-sapienza-universit-di-roma/graph-classification-graphs_sc/sweeps/f8yd3ova' target=\"_blank\">https://wandb.ai/barbonigiorgia-sapienza-universit-di-roma/graph-classification-graphs_sc/sweeps/f8yd3ova</a>"
      ],
      "text/plain": [
       "<IPython.core.display.HTML object>"
      ]
     },
     "metadata": {},
     "output_type": "display_data"
    },
    {
     "data": {
      "text/html": [
       " View run at <a href='https://wandb.ai/barbonigiorgia-sapienza-universit-di-roma/graph-classification-graphs_sc/runs/ksld1i9w' target=\"_blank\">https://wandb.ai/barbonigiorgia-sapienza-universit-di-roma/graph-classification-graphs_sc/runs/ksld1i9w</a>"
      ],
      "text/plain": [
       "<IPython.core.display.HTML object>"
      ]
     },
     "metadata": {},
     "output_type": "display_data"
    },
    {
     "name": "stdout",
     "output_type": "stream",
     "text": [
      "Running with config: {'batch_size': 32, 'in_channels': 6, 'learning_rate': 0.001, 'num_epochs': 5, 'num_heads': 3, 'optimizer': 'adam', 'out_channels': 8, 'random_state': 42, 'test_size': 0.3, 'weight_decay': 0}\n"
     ]
    },
    {
     "data": {
      "text/html": [
       "<style>\n",
       "    table.wandb td:nth-child(1) { padding: 0 10px; text-align: left ; width: auto;} td:nth-child(2) {text-align: left ; width: 100%}\n",
       "    .wandb-row { display: flex; flex-direction: row; flex-wrap: wrap; justify-content: flex-start; width: 100% }\n",
       "    .wandb-col { display: flex; flex-direction: column; flex-basis: 100%; flex: 1; padding: 10px; }\n",
       "    </style>\n",
       "<div class=\"wandb-row\"><div class=\"wandb-col\"><h3>Run history:</h3><br/><table class=\"wandb\"><tr><td>epoch</td><td>▁▃▅▆█</td></tr><tr><td>train_accuracy</td><td>▁▁▁▃█</td></tr><tr><td>train_f1</td><td>▁▁▁▃█</td></tr><tr><td>train_loss</td><td>█▆▄▂▁</td></tr><tr><td>val_accuracy</td><td>▁▁▁██</td></tr><tr><td>val_f1</td><td>▁▁▁██</td></tr><tr><td>val_loss</td><td>█▆▄▃▁</td></tr></table><br/></div><div class=\"wandb-col\"><h3>Run summary:</h3><br/><table class=\"wandb\"><tr><td>epoch</td><td>5</td></tr><tr><td>train_accuracy</td><td>0.456</td></tr><tr><td>train_f1</td><td>0.32296</td></tr><tr><td>train_loss</td><td>0.68862</td></tr><tr><td>val_accuracy</td><td>0.48148</td></tr><tr><td>val_f1</td><td>0.35015</td></tr><tr><td>val_loss</td><td>0.68824</td></tr></table><br/></div></div>"
      ],
      "text/plain": [
       "<IPython.core.display.HTML object>"
      ]
     },
     "metadata": {},
     "output_type": "display_data"
    },
    {
     "data": {
      "text/html": [
       " View run <strong style=\"color:#cdcd00\">scarlet-sweep-61</strong> at: <a href='https://wandb.ai/barbonigiorgia-sapienza-universit-di-roma/graph-classification-graphs_sc/runs/ksld1i9w' target=\"_blank\">https://wandb.ai/barbonigiorgia-sapienza-universit-di-roma/graph-classification-graphs_sc/runs/ksld1i9w</a><br/> View project at: <a href='https://wandb.ai/barbonigiorgia-sapienza-universit-di-roma/graph-classification-graphs_sc' target=\"_blank\">https://wandb.ai/barbonigiorgia-sapienza-universit-di-roma/graph-classification-graphs_sc</a><br/>Synced 5 W&B file(s), 0 media file(s), 4 artifact file(s) and 0 other file(s)"
      ],
      "text/plain": [
       "<IPython.core.display.HTML object>"
      ]
     },
     "metadata": {},
     "output_type": "display_data"
    },
    {
     "data": {
      "text/html": [
       "Find logs at: <code>.\\wandb\\run-20241119_162925-ksld1i9w\\logs</code>"
      ],
      "text/plain": [
       "<IPython.core.display.HTML object>"
      ]
     },
     "metadata": {},
     "output_type": "display_data"
    },
    {
     "name": "stderr",
     "output_type": "stream",
     "text": [
      "\u001b[34m\u001b[1mwandb\u001b[0m: Agent Starting Run: maw4dbgk with config:\n",
      "\u001b[34m\u001b[1mwandb\u001b[0m: \tbatch_size: 32\n",
      "\u001b[34m\u001b[1mwandb\u001b[0m: \tin_channels: 6\n",
      "\u001b[34m\u001b[1mwandb\u001b[0m: \tlearning_rate: 0.001\n",
      "\u001b[34m\u001b[1mwandb\u001b[0m: \tnum_epochs: 5\n",
      "\u001b[34m\u001b[1mwandb\u001b[0m: \tnum_heads: 3\n",
      "\u001b[34m\u001b[1mwandb\u001b[0m: \toptimizer: adam\n",
      "\u001b[34m\u001b[1mwandb\u001b[0m: \tout_channels: 8\n",
      "\u001b[34m\u001b[1mwandb\u001b[0m: \trandom_state: 42\n",
      "\u001b[34m\u001b[1mwandb\u001b[0m: \ttest_size: 0.3\n",
      "\u001b[34m\u001b[1mwandb\u001b[0m: \tweight_decay: 1e-05\n"
     ]
    },
    {
     "data": {
      "text/html": [
       "Tracking run with wandb version 0.18.5"
      ],
      "text/plain": [
       "<IPython.core.display.HTML object>"
      ]
     },
     "metadata": {},
     "output_type": "display_data"
    },
    {
     "data": {
      "text/html": [
       "Run data is saved locally in <code>c:\\Users\\barbo\\brain classifier repo\\brain_classifier\\src\\wandb\\run-20241119_162940-maw4dbgk</code>"
      ],
      "text/plain": [
       "<IPython.core.display.HTML object>"
      ]
     },
     "metadata": {},
     "output_type": "display_data"
    },
    {
     "data": {
      "text/html": [
       "Syncing run <strong><a href='https://wandb.ai/barbonigiorgia-sapienza-universit-di-roma/graph-classification-graphs_sc/runs/maw4dbgk' target=\"_blank\">swift-sweep-62</a></strong> to <a href='https://wandb.ai/barbonigiorgia-sapienza-universit-di-roma/graph-classification-graphs_sc' target=\"_blank\">Weights & Biases</a> (<a href='https://wandb.me/run' target=\"_blank\">docs</a>)<br/>Sweep page: <a href='https://wandb.ai/barbonigiorgia-sapienza-universit-di-roma/graph-classification-graphs_sc/sweeps/f8yd3ova' target=\"_blank\">https://wandb.ai/barbonigiorgia-sapienza-universit-di-roma/graph-classification-graphs_sc/sweeps/f8yd3ova</a>"
      ],
      "text/plain": [
       "<IPython.core.display.HTML object>"
      ]
     },
     "metadata": {},
     "output_type": "display_data"
    },
    {
     "data": {
      "text/html": [
       " View project at <a href='https://wandb.ai/barbonigiorgia-sapienza-universit-di-roma/graph-classification-graphs_sc' target=\"_blank\">https://wandb.ai/barbonigiorgia-sapienza-universit-di-roma/graph-classification-graphs_sc</a>"
      ],
      "text/plain": [
       "<IPython.core.display.HTML object>"
      ]
     },
     "metadata": {},
     "output_type": "display_data"
    },
    {
     "data": {
      "text/html": [
       " View sweep at <a href='https://wandb.ai/barbonigiorgia-sapienza-universit-di-roma/graph-classification-graphs_sc/sweeps/f8yd3ova' target=\"_blank\">https://wandb.ai/barbonigiorgia-sapienza-universit-di-roma/graph-classification-graphs_sc/sweeps/f8yd3ova</a>"
      ],
      "text/plain": [
       "<IPython.core.display.HTML object>"
      ]
     },
     "metadata": {},
     "output_type": "display_data"
    },
    {
     "data": {
      "text/html": [
       " View run at <a href='https://wandb.ai/barbonigiorgia-sapienza-universit-di-roma/graph-classification-graphs_sc/runs/maw4dbgk' target=\"_blank\">https://wandb.ai/barbonigiorgia-sapienza-universit-di-roma/graph-classification-graphs_sc/runs/maw4dbgk</a>"
      ],
      "text/plain": [
       "<IPython.core.display.HTML object>"
      ]
     },
     "metadata": {},
     "output_type": "display_data"
    },
    {
     "name": "stdout",
     "output_type": "stream",
     "text": [
      "Running with config: {'batch_size': 32, 'in_channels': 6, 'learning_rate': 0.001, 'num_epochs': 5, 'num_heads': 3, 'optimizer': 'adam', 'out_channels': 8, 'random_state': 42, 'test_size': 0.3, 'weight_decay': 1e-05}\n"
     ]
    },
    {
     "data": {
      "text/html": [
       "<style>\n",
       "    table.wandb td:nth-child(1) { padding: 0 10px; text-align: left ; width: auto;} td:nth-child(2) {text-align: left ; width: 100%}\n",
       "    .wandb-row { display: flex; flex-direction: row; flex-wrap: wrap; justify-content: flex-start; width: 100% }\n",
       "    .wandb-col { display: flex; flex-direction: column; flex-basis: 100%; flex: 1; padding: 10px; }\n",
       "    </style>\n",
       "<div class=\"wandb-row\"><div class=\"wandb-col\"><h3>Run history:</h3><br/><table class=\"wandb\"><tr><td>epoch</td><td>▁▃▅▆█</td></tr><tr><td>train_accuracy</td><td>▁▁▁▃█</td></tr><tr><td>train_f1</td><td>▁▁▁▃█</td></tr><tr><td>train_loss</td><td>█▆▄▂▁</td></tr><tr><td>val_accuracy</td><td>▁▁▁██</td></tr><tr><td>val_f1</td><td>▁▁▁██</td></tr><tr><td>val_loss</td><td>█▆▄▃▁</td></tr></table><br/></div><div class=\"wandb-col\"><h3>Run summary:</h3><br/><table class=\"wandb\"><tr><td>epoch</td><td>5</td></tr><tr><td>train_accuracy</td><td>0.456</td></tr><tr><td>train_f1</td><td>0.32296</td></tr><tr><td>train_loss</td><td>0.68863</td></tr><tr><td>val_accuracy</td><td>0.48148</td></tr><tr><td>val_f1</td><td>0.35015</td></tr><tr><td>val_loss</td><td>0.68824</td></tr></table><br/></div></div>"
      ],
      "text/plain": [
       "<IPython.core.display.HTML object>"
      ]
     },
     "metadata": {},
     "output_type": "display_data"
    },
    {
     "data": {
      "text/html": [
       " View run <strong style=\"color:#cdcd00\">swift-sweep-62</strong> at: <a href='https://wandb.ai/barbonigiorgia-sapienza-universit-di-roma/graph-classification-graphs_sc/runs/maw4dbgk' target=\"_blank\">https://wandb.ai/barbonigiorgia-sapienza-universit-di-roma/graph-classification-graphs_sc/runs/maw4dbgk</a><br/> View project at: <a href='https://wandb.ai/barbonigiorgia-sapienza-universit-di-roma/graph-classification-graphs_sc' target=\"_blank\">https://wandb.ai/barbonigiorgia-sapienza-universit-di-roma/graph-classification-graphs_sc</a><br/>Synced 5 W&B file(s), 0 media file(s), 4 artifact file(s) and 0 other file(s)"
      ],
      "text/plain": [
       "<IPython.core.display.HTML object>"
      ]
     },
     "metadata": {},
     "output_type": "display_data"
    },
    {
     "data": {
      "text/html": [
       "Find logs at: <code>.\\wandb\\run-20241119_162940-maw4dbgk\\logs</code>"
      ],
      "text/plain": [
       "<IPython.core.display.HTML object>"
      ]
     },
     "metadata": {},
     "output_type": "display_data"
    },
    {
     "name": "stderr",
     "output_type": "stream",
     "text": [
      "\u001b[34m\u001b[1mwandb\u001b[0m: Agent Starting Run: 9345jo59 with config:\n",
      "\u001b[34m\u001b[1mwandb\u001b[0m: \tbatch_size: 32\n",
      "\u001b[34m\u001b[1mwandb\u001b[0m: \tin_channels: 6\n",
      "\u001b[34m\u001b[1mwandb\u001b[0m: \tlearning_rate: 0.001\n",
      "\u001b[34m\u001b[1mwandb\u001b[0m: \tnum_epochs: 5\n",
      "\u001b[34m\u001b[1mwandb\u001b[0m: \tnum_heads: 3\n",
      "\u001b[34m\u001b[1mwandb\u001b[0m: \toptimizer: adam\n",
      "\u001b[34m\u001b[1mwandb\u001b[0m: \tout_channels: 8\n",
      "\u001b[34m\u001b[1mwandb\u001b[0m: \trandom_state: 42\n",
      "\u001b[34m\u001b[1mwandb\u001b[0m: \ttest_size: 0.3\n",
      "\u001b[34m\u001b[1mwandb\u001b[0m: \tweight_decay: 0.0001\n"
     ]
    },
    {
     "data": {
      "text/html": [
       "Tracking run with wandb version 0.18.5"
      ],
      "text/plain": [
       "<IPython.core.display.HTML object>"
      ]
     },
     "metadata": {},
     "output_type": "display_data"
    },
    {
     "data": {
      "text/html": [
       "Run data is saved locally in <code>c:\\Users\\barbo\\brain classifier repo\\brain_classifier\\src\\wandb\\run-20241119_162956-9345jo59</code>"
      ],
      "text/plain": [
       "<IPython.core.display.HTML object>"
      ]
     },
     "metadata": {},
     "output_type": "display_data"
    },
    {
     "data": {
      "text/html": [
       "Syncing run <strong><a href='https://wandb.ai/barbonigiorgia-sapienza-universit-di-roma/graph-classification-graphs_sc/runs/9345jo59' target=\"_blank\">glowing-sweep-63</a></strong> to <a href='https://wandb.ai/barbonigiorgia-sapienza-universit-di-roma/graph-classification-graphs_sc' target=\"_blank\">Weights & Biases</a> (<a href='https://wandb.me/run' target=\"_blank\">docs</a>)<br/>Sweep page: <a href='https://wandb.ai/barbonigiorgia-sapienza-universit-di-roma/graph-classification-graphs_sc/sweeps/f8yd3ova' target=\"_blank\">https://wandb.ai/barbonigiorgia-sapienza-universit-di-roma/graph-classification-graphs_sc/sweeps/f8yd3ova</a>"
      ],
      "text/plain": [
       "<IPython.core.display.HTML object>"
      ]
     },
     "metadata": {},
     "output_type": "display_data"
    },
    {
     "data": {
      "text/html": [
       " View project at <a href='https://wandb.ai/barbonigiorgia-sapienza-universit-di-roma/graph-classification-graphs_sc' target=\"_blank\">https://wandb.ai/barbonigiorgia-sapienza-universit-di-roma/graph-classification-graphs_sc</a>"
      ],
      "text/plain": [
       "<IPython.core.display.HTML object>"
      ]
     },
     "metadata": {},
     "output_type": "display_data"
    },
    {
     "data": {
      "text/html": [
       " View sweep at <a href='https://wandb.ai/barbonigiorgia-sapienza-universit-di-roma/graph-classification-graphs_sc/sweeps/f8yd3ova' target=\"_blank\">https://wandb.ai/barbonigiorgia-sapienza-universit-di-roma/graph-classification-graphs_sc/sweeps/f8yd3ova</a>"
      ],
      "text/plain": [
       "<IPython.core.display.HTML object>"
      ]
     },
     "metadata": {},
     "output_type": "display_data"
    },
    {
     "data": {
      "text/html": [
       " View run at <a href='https://wandb.ai/barbonigiorgia-sapienza-universit-di-roma/graph-classification-graphs_sc/runs/9345jo59' target=\"_blank\">https://wandb.ai/barbonigiorgia-sapienza-universit-di-roma/graph-classification-graphs_sc/runs/9345jo59</a>"
      ],
      "text/plain": [
       "<IPython.core.display.HTML object>"
      ]
     },
     "metadata": {},
     "output_type": "display_data"
    },
    {
     "name": "stdout",
     "output_type": "stream",
     "text": [
      "Running with config: {'batch_size': 32, 'in_channels': 6, 'learning_rate': 0.001, 'num_epochs': 5, 'num_heads': 3, 'optimizer': 'adam', 'out_channels': 8, 'random_state': 42, 'test_size': 0.3, 'weight_decay': 0.0001}\n"
     ]
    },
    {
     "data": {
      "text/html": [
       "<style>\n",
       "    table.wandb td:nth-child(1) { padding: 0 10px; text-align: left ; width: auto;} td:nth-child(2) {text-align: left ; width: 100%}\n",
       "    .wandb-row { display: flex; flex-direction: row; flex-wrap: wrap; justify-content: flex-start; width: 100% }\n",
       "    .wandb-col { display: flex; flex-direction: column; flex-basis: 100%; flex: 1; padding: 10px; }\n",
       "    </style>\n",
       "<div class=\"wandb-row\"><div class=\"wandb-col\"><h3>Run history:</h3><br/><table class=\"wandb\"><tr><td>epoch</td><td>▁▃▅▆█</td></tr><tr><td>train_accuracy</td><td>▁▁▁▃█</td></tr><tr><td>train_f1</td><td>▁▁▁▃█</td></tr><tr><td>train_loss</td><td>█▆▄▂▁</td></tr><tr><td>val_accuracy</td><td>▁▁▁██</td></tr><tr><td>val_f1</td><td>▁▁▁██</td></tr><tr><td>val_loss</td><td>█▆▄▃▁</td></tr></table><br/></div><div class=\"wandb-col\"><h3>Run summary:</h3><br/><table class=\"wandb\"><tr><td>epoch</td><td>5</td></tr><tr><td>train_accuracy</td><td>0.456</td></tr><tr><td>train_f1</td><td>0.32296</td></tr><tr><td>train_loss</td><td>0.68863</td></tr><tr><td>val_accuracy</td><td>0.48148</td></tr><tr><td>val_f1</td><td>0.35015</td></tr><tr><td>val_loss</td><td>0.68824</td></tr></table><br/></div></div>"
      ],
      "text/plain": [
       "<IPython.core.display.HTML object>"
      ]
     },
     "metadata": {},
     "output_type": "display_data"
    },
    {
     "data": {
      "text/html": [
       " View run <strong style=\"color:#cdcd00\">glowing-sweep-63</strong> at: <a href='https://wandb.ai/barbonigiorgia-sapienza-universit-di-roma/graph-classification-graphs_sc/runs/9345jo59' target=\"_blank\">https://wandb.ai/barbonigiorgia-sapienza-universit-di-roma/graph-classification-graphs_sc/runs/9345jo59</a><br/> View project at: <a href='https://wandb.ai/barbonigiorgia-sapienza-universit-di-roma/graph-classification-graphs_sc' target=\"_blank\">https://wandb.ai/barbonigiorgia-sapienza-universit-di-roma/graph-classification-graphs_sc</a><br/>Synced 5 W&B file(s), 0 media file(s), 4 artifact file(s) and 0 other file(s)"
      ],
      "text/plain": [
       "<IPython.core.display.HTML object>"
      ]
     },
     "metadata": {},
     "output_type": "display_data"
    },
    {
     "data": {
      "text/html": [
       "Find logs at: <code>.\\wandb\\run-20241119_162956-9345jo59\\logs</code>"
      ],
      "text/plain": [
       "<IPython.core.display.HTML object>"
      ]
     },
     "metadata": {},
     "output_type": "display_data"
    },
    {
     "name": "stderr",
     "output_type": "stream",
     "text": [
      "\u001b[34m\u001b[1mwandb\u001b[0m: Agent Starting Run: ruv646ea with config:\n",
      "\u001b[34m\u001b[1mwandb\u001b[0m: \tbatch_size: 32\n",
      "\u001b[34m\u001b[1mwandb\u001b[0m: \tin_channels: 6\n",
      "\u001b[34m\u001b[1mwandb\u001b[0m: \tlearning_rate: 0.001\n",
      "\u001b[34m\u001b[1mwandb\u001b[0m: \tnum_epochs: 5\n",
      "\u001b[34m\u001b[1mwandb\u001b[0m: \tnum_heads: 3\n",
      "\u001b[34m\u001b[1mwandb\u001b[0m: \toptimizer: adam\n",
      "\u001b[34m\u001b[1mwandb\u001b[0m: \tout_channels: 16\n",
      "\u001b[34m\u001b[1mwandb\u001b[0m: \trandom_state: 42\n",
      "\u001b[34m\u001b[1mwandb\u001b[0m: \ttest_size: 0.3\n",
      "\u001b[34m\u001b[1mwandb\u001b[0m: \tweight_decay: 0\n"
     ]
    },
    {
     "data": {
      "text/html": [
       "Tracking run with wandb version 0.18.5"
      ],
      "text/plain": [
       "<IPython.core.display.HTML object>"
      ]
     },
     "metadata": {},
     "output_type": "display_data"
    },
    {
     "data": {
      "text/html": [
       "Run data is saved locally in <code>c:\\Users\\barbo\\brain classifier repo\\brain_classifier\\src\\wandb\\run-20241119_163012-ruv646ea</code>"
      ],
      "text/plain": [
       "<IPython.core.display.HTML object>"
      ]
     },
     "metadata": {},
     "output_type": "display_data"
    },
    {
     "data": {
      "text/html": [
       "Syncing run <strong><a href='https://wandb.ai/barbonigiorgia-sapienza-universit-di-roma/graph-classification-graphs_sc/runs/ruv646ea' target=\"_blank\">logical-sweep-64</a></strong> to <a href='https://wandb.ai/barbonigiorgia-sapienza-universit-di-roma/graph-classification-graphs_sc' target=\"_blank\">Weights & Biases</a> (<a href='https://wandb.me/run' target=\"_blank\">docs</a>)<br/>Sweep page: <a href='https://wandb.ai/barbonigiorgia-sapienza-universit-di-roma/graph-classification-graphs_sc/sweeps/f8yd3ova' target=\"_blank\">https://wandb.ai/barbonigiorgia-sapienza-universit-di-roma/graph-classification-graphs_sc/sweeps/f8yd3ova</a>"
      ],
      "text/plain": [
       "<IPython.core.display.HTML object>"
      ]
     },
     "metadata": {},
     "output_type": "display_data"
    },
    {
     "data": {
      "text/html": [
       " View project at <a href='https://wandb.ai/barbonigiorgia-sapienza-universit-di-roma/graph-classification-graphs_sc' target=\"_blank\">https://wandb.ai/barbonigiorgia-sapienza-universit-di-roma/graph-classification-graphs_sc</a>"
      ],
      "text/plain": [
       "<IPython.core.display.HTML object>"
      ]
     },
     "metadata": {},
     "output_type": "display_data"
    },
    {
     "data": {
      "text/html": [
       " View sweep at <a href='https://wandb.ai/barbonigiorgia-sapienza-universit-di-roma/graph-classification-graphs_sc/sweeps/f8yd3ova' target=\"_blank\">https://wandb.ai/barbonigiorgia-sapienza-universit-di-roma/graph-classification-graphs_sc/sweeps/f8yd3ova</a>"
      ],
      "text/plain": [
       "<IPython.core.display.HTML object>"
      ]
     },
     "metadata": {},
     "output_type": "display_data"
    },
    {
     "data": {
      "text/html": [
       " View run at <a href='https://wandb.ai/barbonigiorgia-sapienza-universit-di-roma/graph-classification-graphs_sc/runs/ruv646ea' target=\"_blank\">https://wandb.ai/barbonigiorgia-sapienza-universit-di-roma/graph-classification-graphs_sc/runs/ruv646ea</a>"
      ],
      "text/plain": [
       "<IPython.core.display.HTML object>"
      ]
     },
     "metadata": {},
     "output_type": "display_data"
    },
    {
     "name": "stdout",
     "output_type": "stream",
     "text": [
      "Running with config: {'batch_size': 32, 'in_channels': 6, 'learning_rate': 0.001, 'num_epochs': 5, 'num_heads': 3, 'optimizer': 'adam', 'out_channels': 16, 'random_state': 42, 'test_size': 0.3, 'weight_decay': 0}\n"
     ]
    },
    {
     "data": {
      "text/html": [
       "<style>\n",
       "    table.wandb td:nth-child(1) { padding: 0 10px; text-align: left ; width: auto;} td:nth-child(2) {text-align: left ; width: 100%}\n",
       "    .wandb-row { display: flex; flex-direction: row; flex-wrap: wrap; justify-content: flex-start; width: 100% }\n",
       "    .wandb-col { display: flex; flex-direction: column; flex-basis: 100%; flex: 1; padding: 10px; }\n",
       "    </style>\n",
       "<div class=\"wandb-row\"><div class=\"wandb-col\"><h3>Run history:</h3><br/><table class=\"wandb\"><tr><td>epoch</td><td>▁▃▅▆█</td></tr><tr><td>train_accuracy</td><td>▁▁▃▆█</td></tr><tr><td>train_f1</td><td>▁▁▄▇█</td></tr><tr><td>train_loss</td><td>█▆▄▂▁</td></tr><tr><td>val_accuracy</td><td>▁▁▅▆█</td></tr><tr><td>val_f1</td><td>▁▁▅██</td></tr><tr><td>val_loss</td><td>█▆▄▂▁</td></tr></table><br/></div><div class=\"wandb-col\"><h3>Run summary:</h3><br/><table class=\"wandb\"><tr><td>epoch</td><td>5</td></tr><tr><td>train_accuracy</td><td>0.68</td></tr><tr><td>train_f1</td><td>0.666</td></tr><tr><td>train_loss</td><td>0.67715</td></tr><tr><td>val_accuracy</td><td>0.66667</td></tr><tr><td>val_f1</td><td>0.60513</td></tr><tr><td>val_loss</td><td>0.67604</td></tr></table><br/></div></div>"
      ],
      "text/plain": [
       "<IPython.core.display.HTML object>"
      ]
     },
     "metadata": {},
     "output_type": "display_data"
    },
    {
     "data": {
      "text/html": [
       " View run <strong style=\"color:#cdcd00\">logical-sweep-64</strong> at: <a href='https://wandb.ai/barbonigiorgia-sapienza-universit-di-roma/graph-classification-graphs_sc/runs/ruv646ea' target=\"_blank\">https://wandb.ai/barbonigiorgia-sapienza-universit-di-roma/graph-classification-graphs_sc/runs/ruv646ea</a><br/> View project at: <a href='https://wandb.ai/barbonigiorgia-sapienza-universit-di-roma/graph-classification-graphs_sc' target=\"_blank\">https://wandb.ai/barbonigiorgia-sapienza-universit-di-roma/graph-classification-graphs_sc</a><br/>Synced 5 W&B file(s), 0 media file(s), 10 artifact file(s) and 0 other file(s)"
      ],
      "text/plain": [
       "<IPython.core.display.HTML object>"
      ]
     },
     "metadata": {},
     "output_type": "display_data"
    },
    {
     "data": {
      "text/html": [
       "Find logs at: <code>.\\wandb\\run-20241119_163012-ruv646ea\\logs</code>"
      ],
      "text/plain": [
       "<IPython.core.display.HTML object>"
      ]
     },
     "metadata": {},
     "output_type": "display_data"
    },
    {
     "name": "stderr",
     "output_type": "stream",
     "text": [
      "\u001b[34m\u001b[1mwandb\u001b[0m: Agent Starting Run: oyyo12ym with config:\n",
      "\u001b[34m\u001b[1mwandb\u001b[0m: \tbatch_size: 32\n",
      "\u001b[34m\u001b[1mwandb\u001b[0m: \tin_channels: 6\n",
      "\u001b[34m\u001b[1mwandb\u001b[0m: \tlearning_rate: 0.001\n",
      "\u001b[34m\u001b[1mwandb\u001b[0m: \tnum_epochs: 5\n",
      "\u001b[34m\u001b[1mwandb\u001b[0m: \tnum_heads: 3\n",
      "\u001b[34m\u001b[1mwandb\u001b[0m: \toptimizer: adam\n",
      "\u001b[34m\u001b[1mwandb\u001b[0m: \tout_channels: 16\n",
      "\u001b[34m\u001b[1mwandb\u001b[0m: \trandom_state: 42\n",
      "\u001b[34m\u001b[1mwandb\u001b[0m: \ttest_size: 0.3\n",
      "\u001b[34m\u001b[1mwandb\u001b[0m: \tweight_decay: 1e-05\n"
     ]
    },
    {
     "data": {
      "text/html": [
       "Tracking run with wandb version 0.18.5"
      ],
      "text/plain": [
       "<IPython.core.display.HTML object>"
      ]
     },
     "metadata": {},
     "output_type": "display_data"
    },
    {
     "data": {
      "text/html": [
       "Run data is saved locally in <code>c:\\Users\\barbo\\brain classifier repo\\brain_classifier\\src\\wandb\\run-20241119_163033-oyyo12ym</code>"
      ],
      "text/plain": [
       "<IPython.core.display.HTML object>"
      ]
     },
     "metadata": {},
     "output_type": "display_data"
    },
    {
     "data": {
      "text/html": [
       "Syncing run <strong><a href='https://wandb.ai/barbonigiorgia-sapienza-universit-di-roma/graph-classification-graphs_sc/runs/oyyo12ym' target=\"_blank\">twilight-sweep-65</a></strong> to <a href='https://wandb.ai/barbonigiorgia-sapienza-universit-di-roma/graph-classification-graphs_sc' target=\"_blank\">Weights & Biases</a> (<a href='https://wandb.me/run' target=\"_blank\">docs</a>)<br/>Sweep page: <a href='https://wandb.ai/barbonigiorgia-sapienza-universit-di-roma/graph-classification-graphs_sc/sweeps/f8yd3ova' target=\"_blank\">https://wandb.ai/barbonigiorgia-sapienza-universit-di-roma/graph-classification-graphs_sc/sweeps/f8yd3ova</a>"
      ],
      "text/plain": [
       "<IPython.core.display.HTML object>"
      ]
     },
     "metadata": {},
     "output_type": "display_data"
    },
    {
     "data": {
      "text/html": [
       " View project at <a href='https://wandb.ai/barbonigiorgia-sapienza-universit-di-roma/graph-classification-graphs_sc' target=\"_blank\">https://wandb.ai/barbonigiorgia-sapienza-universit-di-roma/graph-classification-graphs_sc</a>"
      ],
      "text/plain": [
       "<IPython.core.display.HTML object>"
      ]
     },
     "metadata": {},
     "output_type": "display_data"
    },
    {
     "data": {
      "text/html": [
       " View sweep at <a href='https://wandb.ai/barbonigiorgia-sapienza-universit-di-roma/graph-classification-graphs_sc/sweeps/f8yd3ova' target=\"_blank\">https://wandb.ai/barbonigiorgia-sapienza-universit-di-roma/graph-classification-graphs_sc/sweeps/f8yd3ova</a>"
      ],
      "text/plain": [
       "<IPython.core.display.HTML object>"
      ]
     },
     "metadata": {},
     "output_type": "display_data"
    },
    {
     "data": {
      "text/html": [
       " View run at <a href='https://wandb.ai/barbonigiorgia-sapienza-universit-di-roma/graph-classification-graphs_sc/runs/oyyo12ym' target=\"_blank\">https://wandb.ai/barbonigiorgia-sapienza-universit-di-roma/graph-classification-graphs_sc/runs/oyyo12ym</a>"
      ],
      "text/plain": [
       "<IPython.core.display.HTML object>"
      ]
     },
     "metadata": {},
     "output_type": "display_data"
    },
    {
     "name": "stdout",
     "output_type": "stream",
     "text": [
      "Running with config: {'batch_size': 32, 'in_channels': 6, 'learning_rate': 0.001, 'num_epochs': 5, 'num_heads': 3, 'optimizer': 'adam', 'out_channels': 16, 'random_state': 42, 'test_size': 0.3, 'weight_decay': 1e-05}\n"
     ]
    },
    {
     "data": {
      "text/html": [
       "<style>\n",
       "    table.wandb td:nth-child(1) { padding: 0 10px; text-align: left ; width: auto;} td:nth-child(2) {text-align: left ; width: 100%}\n",
       "    .wandb-row { display: flex; flex-direction: row; flex-wrap: wrap; justify-content: flex-start; width: 100% }\n",
       "    .wandb-col { display: flex; flex-direction: column; flex-basis: 100%; flex: 1; padding: 10px; }\n",
       "    </style>\n",
       "<div class=\"wandb-row\"><div class=\"wandb-col\"><h3>Run history:</h3><br/><table class=\"wandb\"><tr><td>epoch</td><td>▁▃▅▆█</td></tr><tr><td>train_accuracy</td><td>▁▁▃▆█</td></tr><tr><td>train_f1</td><td>▁▁▄▇█</td></tr><tr><td>train_loss</td><td>█▆▄▂▁</td></tr><tr><td>val_accuracy</td><td>▁▁▅▆█</td></tr><tr><td>val_f1</td><td>▁▁▅██</td></tr><tr><td>val_loss</td><td>█▆▄▂▁</td></tr></table><br/></div><div class=\"wandb-col\"><h3>Run summary:</h3><br/><table class=\"wandb\"><tr><td>epoch</td><td>5</td></tr><tr><td>train_accuracy</td><td>0.68</td></tr><tr><td>train_f1</td><td>0.666</td></tr><tr><td>train_loss</td><td>0.67715</td></tr><tr><td>val_accuracy</td><td>0.66667</td></tr><tr><td>val_f1</td><td>0.60513</td></tr><tr><td>val_loss</td><td>0.67604</td></tr></table><br/></div></div>"
      ],
      "text/plain": [
       "<IPython.core.display.HTML object>"
      ]
     },
     "metadata": {},
     "output_type": "display_data"
    },
    {
     "data": {
      "text/html": [
       " View run <strong style=\"color:#cdcd00\">twilight-sweep-65</strong> at: <a href='https://wandb.ai/barbonigiorgia-sapienza-universit-di-roma/graph-classification-graphs_sc/runs/oyyo12ym' target=\"_blank\">https://wandb.ai/barbonigiorgia-sapienza-universit-di-roma/graph-classification-graphs_sc/runs/oyyo12ym</a><br/> View project at: <a href='https://wandb.ai/barbonigiorgia-sapienza-universit-di-roma/graph-classification-graphs_sc' target=\"_blank\">https://wandb.ai/barbonigiorgia-sapienza-universit-di-roma/graph-classification-graphs_sc</a><br/>Synced 5 W&B file(s), 0 media file(s), 10 artifact file(s) and 0 other file(s)"
      ],
      "text/plain": [
       "<IPython.core.display.HTML object>"
      ]
     },
     "metadata": {},
     "output_type": "display_data"
    },
    {
     "data": {
      "text/html": [
       "Find logs at: <code>.\\wandb\\run-20241119_163033-oyyo12ym\\logs</code>"
      ],
      "text/plain": [
       "<IPython.core.display.HTML object>"
      ]
     },
     "metadata": {},
     "output_type": "display_data"
    },
    {
     "name": "stderr",
     "output_type": "stream",
     "text": [
      "\u001b[34m\u001b[1mwandb\u001b[0m: Agent Starting Run: ilknu4pg with config:\n",
      "\u001b[34m\u001b[1mwandb\u001b[0m: \tbatch_size: 32\n",
      "\u001b[34m\u001b[1mwandb\u001b[0m: \tin_channels: 6\n",
      "\u001b[34m\u001b[1mwandb\u001b[0m: \tlearning_rate: 0.001\n",
      "\u001b[34m\u001b[1mwandb\u001b[0m: \tnum_epochs: 5\n",
      "\u001b[34m\u001b[1mwandb\u001b[0m: \tnum_heads: 3\n",
      "\u001b[34m\u001b[1mwandb\u001b[0m: \toptimizer: adam\n",
      "\u001b[34m\u001b[1mwandb\u001b[0m: \tout_channels: 16\n",
      "\u001b[34m\u001b[1mwandb\u001b[0m: \trandom_state: 42\n",
      "\u001b[34m\u001b[1mwandb\u001b[0m: \ttest_size: 0.3\n",
      "\u001b[34m\u001b[1mwandb\u001b[0m: \tweight_decay: 0.0001\n"
     ]
    },
    {
     "data": {
      "text/html": [
       "Tracking run with wandb version 0.18.5"
      ],
      "text/plain": [
       "<IPython.core.display.HTML object>"
      ]
     },
     "metadata": {},
     "output_type": "display_data"
    },
    {
     "data": {
      "text/html": [
       "Run data is saved locally in <code>c:\\Users\\barbo\\brain classifier repo\\brain_classifier\\src\\wandb\\run-20241119_163054-ilknu4pg</code>"
      ],
      "text/plain": [
       "<IPython.core.display.HTML object>"
      ]
     },
     "metadata": {},
     "output_type": "display_data"
    },
    {
     "data": {
      "text/html": [
       "Syncing run <strong><a href='https://wandb.ai/barbonigiorgia-sapienza-universit-di-roma/graph-classification-graphs_sc/runs/ilknu4pg' target=\"_blank\">stellar-sweep-66</a></strong> to <a href='https://wandb.ai/barbonigiorgia-sapienza-universit-di-roma/graph-classification-graphs_sc' target=\"_blank\">Weights & Biases</a> (<a href='https://wandb.me/run' target=\"_blank\">docs</a>)<br/>Sweep page: <a href='https://wandb.ai/barbonigiorgia-sapienza-universit-di-roma/graph-classification-graphs_sc/sweeps/f8yd3ova' target=\"_blank\">https://wandb.ai/barbonigiorgia-sapienza-universit-di-roma/graph-classification-graphs_sc/sweeps/f8yd3ova</a>"
      ],
      "text/plain": [
       "<IPython.core.display.HTML object>"
      ]
     },
     "metadata": {},
     "output_type": "display_data"
    },
    {
     "data": {
      "text/html": [
       " View project at <a href='https://wandb.ai/barbonigiorgia-sapienza-universit-di-roma/graph-classification-graphs_sc' target=\"_blank\">https://wandb.ai/barbonigiorgia-sapienza-universit-di-roma/graph-classification-graphs_sc</a>"
      ],
      "text/plain": [
       "<IPython.core.display.HTML object>"
      ]
     },
     "metadata": {},
     "output_type": "display_data"
    },
    {
     "data": {
      "text/html": [
       " View sweep at <a href='https://wandb.ai/barbonigiorgia-sapienza-universit-di-roma/graph-classification-graphs_sc/sweeps/f8yd3ova' target=\"_blank\">https://wandb.ai/barbonigiorgia-sapienza-universit-di-roma/graph-classification-graphs_sc/sweeps/f8yd3ova</a>"
      ],
      "text/plain": [
       "<IPython.core.display.HTML object>"
      ]
     },
     "metadata": {},
     "output_type": "display_data"
    },
    {
     "data": {
      "text/html": [
       " View run at <a href='https://wandb.ai/barbonigiorgia-sapienza-universit-di-roma/graph-classification-graphs_sc/runs/ilknu4pg' target=\"_blank\">https://wandb.ai/barbonigiorgia-sapienza-universit-di-roma/graph-classification-graphs_sc/runs/ilknu4pg</a>"
      ],
      "text/plain": [
       "<IPython.core.display.HTML object>"
      ]
     },
     "metadata": {},
     "output_type": "display_data"
    },
    {
     "name": "stdout",
     "output_type": "stream",
     "text": [
      "Running with config: {'batch_size': 32, 'in_channels': 6, 'learning_rate': 0.001, 'num_epochs': 5, 'num_heads': 3, 'optimizer': 'adam', 'out_channels': 16, 'random_state': 42, 'test_size': 0.3, 'weight_decay': 0.0001}\n"
     ]
    },
    {
     "data": {
      "text/html": [
       "<style>\n",
       "    table.wandb td:nth-child(1) { padding: 0 10px; text-align: left ; width: auto;} td:nth-child(2) {text-align: left ; width: 100%}\n",
       "    .wandb-row { display: flex; flex-direction: row; flex-wrap: wrap; justify-content: flex-start; width: 100% }\n",
       "    .wandb-col { display: flex; flex-direction: column; flex-basis: 100%; flex: 1; padding: 10px; }\n",
       "    </style>\n",
       "<div class=\"wandb-row\"><div class=\"wandb-col\"><h3>Run history:</h3><br/><table class=\"wandb\"><tr><td>epoch</td><td>▁▃▅▆█</td></tr><tr><td>train_accuracy</td><td>▁▁▃▆█</td></tr><tr><td>train_f1</td><td>▁▁▄▇█</td></tr><tr><td>train_loss</td><td>█▆▄▂▁</td></tr><tr><td>val_accuracy</td><td>▁▁▅▆█</td></tr><tr><td>val_f1</td><td>▁▁▅██</td></tr><tr><td>val_loss</td><td>█▆▄▂▁</td></tr></table><br/></div><div class=\"wandb-col\"><h3>Run summary:</h3><br/><table class=\"wandb\"><tr><td>epoch</td><td>5</td></tr><tr><td>train_accuracy</td><td>0.68</td></tr><tr><td>train_f1</td><td>0.666</td></tr><tr><td>train_loss</td><td>0.67717</td></tr><tr><td>val_accuracy</td><td>0.66667</td></tr><tr><td>val_f1</td><td>0.60513</td></tr><tr><td>val_loss</td><td>0.67605</td></tr></table><br/></div></div>"
      ],
      "text/plain": [
       "<IPython.core.display.HTML object>"
      ]
     },
     "metadata": {},
     "output_type": "display_data"
    },
    {
     "data": {
      "text/html": [
       " View run <strong style=\"color:#cdcd00\">stellar-sweep-66</strong> at: <a href='https://wandb.ai/barbonigiorgia-sapienza-universit-di-roma/graph-classification-graphs_sc/runs/ilknu4pg' target=\"_blank\">https://wandb.ai/barbonigiorgia-sapienza-universit-di-roma/graph-classification-graphs_sc/runs/ilknu4pg</a><br/> View project at: <a href='https://wandb.ai/barbonigiorgia-sapienza-universit-di-roma/graph-classification-graphs_sc' target=\"_blank\">https://wandb.ai/barbonigiorgia-sapienza-universit-di-roma/graph-classification-graphs_sc</a><br/>Synced 5 W&B file(s), 0 media file(s), 10 artifact file(s) and 0 other file(s)"
      ],
      "text/plain": [
       "<IPython.core.display.HTML object>"
      ]
     },
     "metadata": {},
     "output_type": "display_data"
    },
    {
     "data": {
      "text/html": [
       "Find logs at: <code>.\\wandb\\run-20241119_163054-ilknu4pg\\logs</code>"
      ],
      "text/plain": [
       "<IPython.core.display.HTML object>"
      ]
     },
     "metadata": {},
     "output_type": "display_data"
    },
    {
     "name": "stderr",
     "output_type": "stream",
     "text": [
      "\u001b[34m\u001b[1mwandb\u001b[0m: Agent Starting Run: f0i54sz4 with config:\n",
      "\u001b[34m\u001b[1mwandb\u001b[0m: \tbatch_size: 32\n",
      "\u001b[34m\u001b[1mwandb\u001b[0m: \tin_channels: 6\n",
      "\u001b[34m\u001b[1mwandb\u001b[0m: \tlearning_rate: 0.001\n",
      "\u001b[34m\u001b[1mwandb\u001b[0m: \tnum_epochs: 5\n",
      "\u001b[34m\u001b[1mwandb\u001b[0m: \tnum_heads: 4\n",
      "\u001b[34m\u001b[1mwandb\u001b[0m: \toptimizer: adam\n",
      "\u001b[34m\u001b[1mwandb\u001b[0m: \tout_channels: 8\n",
      "\u001b[34m\u001b[1mwandb\u001b[0m: \trandom_state: 42\n",
      "\u001b[34m\u001b[1mwandb\u001b[0m: \ttest_size: 0.3\n",
      "\u001b[34m\u001b[1mwandb\u001b[0m: \tweight_decay: 0\n"
     ]
    },
    {
     "data": {
      "text/html": [
       "Tracking run with wandb version 0.18.5"
      ],
      "text/plain": [
       "<IPython.core.display.HTML object>"
      ]
     },
     "metadata": {},
     "output_type": "display_data"
    },
    {
     "data": {
      "text/html": [
       "Run data is saved locally in <code>c:\\Users\\barbo\\brain classifier repo\\brain_classifier\\src\\wandb\\run-20241119_163115-f0i54sz4</code>"
      ],
      "text/plain": [
       "<IPython.core.display.HTML object>"
      ]
     },
     "metadata": {},
     "output_type": "display_data"
    },
    {
     "data": {
      "text/html": [
       "Syncing run <strong><a href='https://wandb.ai/barbonigiorgia-sapienza-universit-di-roma/graph-classification-graphs_sc/runs/f0i54sz4' target=\"_blank\">clear-sweep-67</a></strong> to <a href='https://wandb.ai/barbonigiorgia-sapienza-universit-di-roma/graph-classification-graphs_sc' target=\"_blank\">Weights & Biases</a> (<a href='https://wandb.me/run' target=\"_blank\">docs</a>)<br/>Sweep page: <a href='https://wandb.ai/barbonigiorgia-sapienza-universit-di-roma/graph-classification-graphs_sc/sweeps/f8yd3ova' target=\"_blank\">https://wandb.ai/barbonigiorgia-sapienza-universit-di-roma/graph-classification-graphs_sc/sweeps/f8yd3ova</a>"
      ],
      "text/plain": [
       "<IPython.core.display.HTML object>"
      ]
     },
     "metadata": {},
     "output_type": "display_data"
    },
    {
     "data": {
      "text/html": [
       " View project at <a href='https://wandb.ai/barbonigiorgia-sapienza-universit-di-roma/graph-classification-graphs_sc' target=\"_blank\">https://wandb.ai/barbonigiorgia-sapienza-universit-di-roma/graph-classification-graphs_sc</a>"
      ],
      "text/plain": [
       "<IPython.core.display.HTML object>"
      ]
     },
     "metadata": {},
     "output_type": "display_data"
    },
    {
     "data": {
      "text/html": [
       " View sweep at <a href='https://wandb.ai/barbonigiorgia-sapienza-universit-di-roma/graph-classification-graphs_sc/sweeps/f8yd3ova' target=\"_blank\">https://wandb.ai/barbonigiorgia-sapienza-universit-di-roma/graph-classification-graphs_sc/sweeps/f8yd3ova</a>"
      ],
      "text/plain": [
       "<IPython.core.display.HTML object>"
      ]
     },
     "metadata": {},
     "output_type": "display_data"
    },
    {
     "data": {
      "text/html": [
       " View run at <a href='https://wandb.ai/barbonigiorgia-sapienza-universit-di-roma/graph-classification-graphs_sc/runs/f0i54sz4' target=\"_blank\">https://wandb.ai/barbonigiorgia-sapienza-universit-di-roma/graph-classification-graphs_sc/runs/f0i54sz4</a>"
      ],
      "text/plain": [
       "<IPython.core.display.HTML object>"
      ]
     },
     "metadata": {},
     "output_type": "display_data"
    },
    {
     "name": "stdout",
     "output_type": "stream",
     "text": [
      "Running with config: {'batch_size': 32, 'in_channels': 6, 'learning_rate': 0.001, 'num_epochs': 5, 'num_heads': 4, 'optimizer': 'adam', 'out_channels': 8, 'random_state': 42, 'test_size': 0.3, 'weight_decay': 0}\n"
     ]
    },
    {
     "data": {
      "text/html": [
       "<style>\n",
       "    table.wandb td:nth-child(1) { padding: 0 10px; text-align: left ; width: auto;} td:nth-child(2) {text-align: left ; width: 100%}\n",
       "    .wandb-row { display: flex; flex-direction: row; flex-wrap: wrap; justify-content: flex-start; width: 100% }\n",
       "    .wandb-col { display: flex; flex-direction: column; flex-basis: 100%; flex: 1; padding: 10px; }\n",
       "    </style>\n",
       "<div class=\"wandb-row\"><div class=\"wandb-col\"><h3>Run history:</h3><br/><table class=\"wandb\"><tr><td>epoch</td><td>▁▃▅▆█</td></tr><tr><td>train_accuracy</td><td>▁▁▁▁█</td></tr><tr><td>train_f1</td><td>▁▁▁▁█</td></tr><tr><td>train_loss</td><td>█▆▄▂▁</td></tr><tr><td>val_accuracy</td><td>▁▁▁▃█</td></tr><tr><td>val_f1</td><td>▁▁▁▄█</td></tr><tr><td>val_loss</td><td>█▆▄▃▁</td></tr></table><br/></div><div class=\"wandb-col\"><h3>Run summary:</h3><br/><table class=\"wandb\"><tr><td>epoch</td><td>5</td></tr><tr><td>train_accuracy</td><td>0.52</td></tr><tr><td>train_f1</td><td>0.43814</td></tr><tr><td>train_loss</td><td>0.69025</td></tr><tr><td>val_accuracy</td><td>0.55556</td></tr><tr><td>val_f1</td><td>0.48148</td></tr><tr><td>val_loss</td><td>0.68829</td></tr></table><br/></div></div>"
      ],
      "text/plain": [
       "<IPython.core.display.HTML object>"
      ]
     },
     "metadata": {},
     "output_type": "display_data"
    },
    {
     "data": {
      "text/html": [
       " View run <strong style=\"color:#cdcd00\">clear-sweep-67</strong> at: <a href='https://wandb.ai/barbonigiorgia-sapienza-universit-di-roma/graph-classification-graphs_sc/runs/f0i54sz4' target=\"_blank\">https://wandb.ai/barbonigiorgia-sapienza-universit-di-roma/graph-classification-graphs_sc/runs/f0i54sz4</a><br/> View project at: <a href='https://wandb.ai/barbonigiorgia-sapienza-universit-di-roma/graph-classification-graphs_sc' target=\"_blank\">https://wandb.ai/barbonigiorgia-sapienza-universit-di-roma/graph-classification-graphs_sc</a><br/>Synced 5 W&B file(s), 0 media file(s), 6 artifact file(s) and 0 other file(s)"
      ],
      "text/plain": [
       "<IPython.core.display.HTML object>"
      ]
     },
     "metadata": {},
     "output_type": "display_data"
    },
    {
     "data": {
      "text/html": [
       "Find logs at: <code>.\\wandb\\run-20241119_163115-f0i54sz4\\logs</code>"
      ],
      "text/plain": [
       "<IPython.core.display.HTML object>"
      ]
     },
     "metadata": {},
     "output_type": "display_data"
    },
    {
     "name": "stderr",
     "output_type": "stream",
     "text": [
      "\u001b[34m\u001b[1mwandb\u001b[0m: Agent Starting Run: xv1sm3wz with config:\n",
      "\u001b[34m\u001b[1mwandb\u001b[0m: \tbatch_size: 32\n",
      "\u001b[34m\u001b[1mwandb\u001b[0m: \tin_channels: 6\n",
      "\u001b[34m\u001b[1mwandb\u001b[0m: \tlearning_rate: 0.001\n",
      "\u001b[34m\u001b[1mwandb\u001b[0m: \tnum_epochs: 5\n",
      "\u001b[34m\u001b[1mwandb\u001b[0m: \tnum_heads: 4\n",
      "\u001b[34m\u001b[1mwandb\u001b[0m: \toptimizer: adam\n",
      "\u001b[34m\u001b[1mwandb\u001b[0m: \tout_channels: 8\n",
      "\u001b[34m\u001b[1mwandb\u001b[0m: \trandom_state: 42\n",
      "\u001b[34m\u001b[1mwandb\u001b[0m: \ttest_size: 0.3\n",
      "\u001b[34m\u001b[1mwandb\u001b[0m: \tweight_decay: 1e-05\n"
     ]
    },
    {
     "data": {
      "text/html": [
       "Tracking run with wandb version 0.18.5"
      ],
      "text/plain": [
       "<IPython.core.display.HTML object>"
      ]
     },
     "metadata": {},
     "output_type": "display_data"
    },
    {
     "data": {
      "text/html": [
       "Run data is saved locally in <code>c:\\Users\\barbo\\brain classifier repo\\brain_classifier\\src\\wandb\\run-20241119_163136-xv1sm3wz</code>"
      ],
      "text/plain": [
       "<IPython.core.display.HTML object>"
      ]
     },
     "metadata": {},
     "output_type": "display_data"
    },
    {
     "data": {
      "text/html": [
       "Syncing run <strong><a href='https://wandb.ai/barbonigiorgia-sapienza-universit-di-roma/graph-classification-graphs_sc/runs/xv1sm3wz' target=\"_blank\">treasured-sweep-68</a></strong> to <a href='https://wandb.ai/barbonigiorgia-sapienza-universit-di-roma/graph-classification-graphs_sc' target=\"_blank\">Weights & Biases</a> (<a href='https://wandb.me/run' target=\"_blank\">docs</a>)<br/>Sweep page: <a href='https://wandb.ai/barbonigiorgia-sapienza-universit-di-roma/graph-classification-graphs_sc/sweeps/f8yd3ova' target=\"_blank\">https://wandb.ai/barbonigiorgia-sapienza-universit-di-roma/graph-classification-graphs_sc/sweeps/f8yd3ova</a>"
      ],
      "text/plain": [
       "<IPython.core.display.HTML object>"
      ]
     },
     "metadata": {},
     "output_type": "display_data"
    },
    {
     "data": {
      "text/html": [
       " View project at <a href='https://wandb.ai/barbonigiorgia-sapienza-universit-di-roma/graph-classification-graphs_sc' target=\"_blank\">https://wandb.ai/barbonigiorgia-sapienza-universit-di-roma/graph-classification-graphs_sc</a>"
      ],
      "text/plain": [
       "<IPython.core.display.HTML object>"
      ]
     },
     "metadata": {},
     "output_type": "display_data"
    },
    {
     "data": {
      "text/html": [
       " View sweep at <a href='https://wandb.ai/barbonigiorgia-sapienza-universit-di-roma/graph-classification-graphs_sc/sweeps/f8yd3ova' target=\"_blank\">https://wandb.ai/barbonigiorgia-sapienza-universit-di-roma/graph-classification-graphs_sc/sweeps/f8yd3ova</a>"
      ],
      "text/plain": [
       "<IPython.core.display.HTML object>"
      ]
     },
     "metadata": {},
     "output_type": "display_data"
    },
    {
     "data": {
      "text/html": [
       " View run at <a href='https://wandb.ai/barbonigiorgia-sapienza-universit-di-roma/graph-classification-graphs_sc/runs/xv1sm3wz' target=\"_blank\">https://wandb.ai/barbonigiorgia-sapienza-universit-di-roma/graph-classification-graphs_sc/runs/xv1sm3wz</a>"
      ],
      "text/plain": [
       "<IPython.core.display.HTML object>"
      ]
     },
     "metadata": {},
     "output_type": "display_data"
    },
    {
     "name": "stdout",
     "output_type": "stream",
     "text": [
      "Running with config: {'batch_size': 32, 'in_channels': 6, 'learning_rate': 0.001, 'num_epochs': 5, 'num_heads': 4, 'optimizer': 'adam', 'out_channels': 8, 'random_state': 42, 'test_size': 0.3, 'weight_decay': 1e-05}\n"
     ]
    },
    {
     "data": {
      "text/html": [
       "<style>\n",
       "    table.wandb td:nth-child(1) { padding: 0 10px; text-align: left ; width: auto;} td:nth-child(2) {text-align: left ; width: 100%}\n",
       "    .wandb-row { display: flex; flex-direction: row; flex-wrap: wrap; justify-content: flex-start; width: 100% }\n",
       "    .wandb-col { display: flex; flex-direction: column; flex-basis: 100%; flex: 1; padding: 10px; }\n",
       "    </style>\n",
       "<div class=\"wandb-row\"><div class=\"wandb-col\"><h3>Run history:</h3><br/><table class=\"wandb\"><tr><td>epoch</td><td>▁▃▅▆█</td></tr><tr><td>train_accuracy</td><td>▁▁▁▁█</td></tr><tr><td>train_f1</td><td>▁▁▁▁█</td></tr><tr><td>train_loss</td><td>█▆▄▂▁</td></tr><tr><td>val_accuracy</td><td>▁▁▁▃█</td></tr><tr><td>val_f1</td><td>▁▁▁▄█</td></tr><tr><td>val_loss</td><td>█▆▄▃▁</td></tr></table><br/></div><div class=\"wandb-col\"><h3>Run summary:</h3><br/><table class=\"wandb\"><tr><td>epoch</td><td>5</td></tr><tr><td>train_accuracy</td><td>0.52</td></tr><tr><td>train_f1</td><td>0.43814</td></tr><tr><td>train_loss</td><td>0.69025</td></tr><tr><td>val_accuracy</td><td>0.55556</td></tr><tr><td>val_f1</td><td>0.48148</td></tr><tr><td>val_loss</td><td>0.6883</td></tr></table><br/></div></div>"
      ],
      "text/plain": [
       "<IPython.core.display.HTML object>"
      ]
     },
     "metadata": {},
     "output_type": "display_data"
    },
    {
     "data": {
      "text/html": [
       " View run <strong style=\"color:#cdcd00\">treasured-sweep-68</strong> at: <a href='https://wandb.ai/barbonigiorgia-sapienza-universit-di-roma/graph-classification-graphs_sc/runs/xv1sm3wz' target=\"_blank\">https://wandb.ai/barbonigiorgia-sapienza-universit-di-roma/graph-classification-graphs_sc/runs/xv1sm3wz</a><br/> View project at: <a href='https://wandb.ai/barbonigiorgia-sapienza-universit-di-roma/graph-classification-graphs_sc' target=\"_blank\">https://wandb.ai/barbonigiorgia-sapienza-universit-di-roma/graph-classification-graphs_sc</a><br/>Synced 5 W&B file(s), 0 media file(s), 6 artifact file(s) and 0 other file(s)"
      ],
      "text/plain": [
       "<IPython.core.display.HTML object>"
      ]
     },
     "metadata": {},
     "output_type": "display_data"
    },
    {
     "data": {
      "text/html": [
       "Find logs at: <code>.\\wandb\\run-20241119_163136-xv1sm3wz\\logs</code>"
      ],
      "text/plain": [
       "<IPython.core.display.HTML object>"
      ]
     },
     "metadata": {},
     "output_type": "display_data"
    },
    {
     "name": "stderr",
     "output_type": "stream",
     "text": [
      "\u001b[34m\u001b[1mwandb\u001b[0m: Agent Starting Run: igk5fu1t with config:\n",
      "\u001b[34m\u001b[1mwandb\u001b[0m: \tbatch_size: 32\n",
      "\u001b[34m\u001b[1mwandb\u001b[0m: \tin_channels: 6\n",
      "\u001b[34m\u001b[1mwandb\u001b[0m: \tlearning_rate: 0.001\n",
      "\u001b[34m\u001b[1mwandb\u001b[0m: \tnum_epochs: 5\n",
      "\u001b[34m\u001b[1mwandb\u001b[0m: \tnum_heads: 4\n",
      "\u001b[34m\u001b[1mwandb\u001b[0m: \toptimizer: adam\n",
      "\u001b[34m\u001b[1mwandb\u001b[0m: \tout_channels: 8\n",
      "\u001b[34m\u001b[1mwandb\u001b[0m: \trandom_state: 42\n",
      "\u001b[34m\u001b[1mwandb\u001b[0m: \ttest_size: 0.3\n",
      "\u001b[34m\u001b[1mwandb\u001b[0m: \tweight_decay: 0.0001\n"
     ]
    },
    {
     "data": {
      "text/html": [
       "Tracking run with wandb version 0.18.5"
      ],
      "text/plain": [
       "<IPython.core.display.HTML object>"
      ]
     },
     "metadata": {},
     "output_type": "display_data"
    },
    {
     "data": {
      "text/html": [
       "Run data is saved locally in <code>c:\\Users\\barbo\\brain classifier repo\\brain_classifier\\src\\wandb\\run-20241119_163157-igk5fu1t</code>"
      ],
      "text/plain": [
       "<IPython.core.display.HTML object>"
      ]
     },
     "metadata": {},
     "output_type": "display_data"
    },
    {
     "data": {
      "text/html": [
       "Syncing run <strong><a href='https://wandb.ai/barbonigiorgia-sapienza-universit-di-roma/graph-classification-graphs_sc/runs/igk5fu1t' target=\"_blank\">dulcet-sweep-69</a></strong> to <a href='https://wandb.ai/barbonigiorgia-sapienza-universit-di-roma/graph-classification-graphs_sc' target=\"_blank\">Weights & Biases</a> (<a href='https://wandb.me/run' target=\"_blank\">docs</a>)<br/>Sweep page: <a href='https://wandb.ai/barbonigiorgia-sapienza-universit-di-roma/graph-classification-graphs_sc/sweeps/f8yd3ova' target=\"_blank\">https://wandb.ai/barbonigiorgia-sapienza-universit-di-roma/graph-classification-graphs_sc/sweeps/f8yd3ova</a>"
      ],
      "text/plain": [
       "<IPython.core.display.HTML object>"
      ]
     },
     "metadata": {},
     "output_type": "display_data"
    },
    {
     "data": {
      "text/html": [
       " View project at <a href='https://wandb.ai/barbonigiorgia-sapienza-universit-di-roma/graph-classification-graphs_sc' target=\"_blank\">https://wandb.ai/barbonigiorgia-sapienza-universit-di-roma/graph-classification-graphs_sc</a>"
      ],
      "text/plain": [
       "<IPython.core.display.HTML object>"
      ]
     },
     "metadata": {},
     "output_type": "display_data"
    },
    {
     "data": {
      "text/html": [
       " View sweep at <a href='https://wandb.ai/barbonigiorgia-sapienza-universit-di-roma/graph-classification-graphs_sc/sweeps/f8yd3ova' target=\"_blank\">https://wandb.ai/barbonigiorgia-sapienza-universit-di-roma/graph-classification-graphs_sc/sweeps/f8yd3ova</a>"
      ],
      "text/plain": [
       "<IPython.core.display.HTML object>"
      ]
     },
     "metadata": {},
     "output_type": "display_data"
    },
    {
     "data": {
      "text/html": [
       " View run at <a href='https://wandb.ai/barbonigiorgia-sapienza-universit-di-roma/graph-classification-graphs_sc/runs/igk5fu1t' target=\"_blank\">https://wandb.ai/barbonigiorgia-sapienza-universit-di-roma/graph-classification-graphs_sc/runs/igk5fu1t</a>"
      ],
      "text/plain": [
       "<IPython.core.display.HTML object>"
      ]
     },
     "metadata": {},
     "output_type": "display_data"
    },
    {
     "name": "stdout",
     "output_type": "stream",
     "text": [
      "Running with config: {'batch_size': 32, 'in_channels': 6, 'learning_rate': 0.001, 'num_epochs': 5, 'num_heads': 4, 'optimizer': 'adam', 'out_channels': 8, 'random_state': 42, 'test_size': 0.3, 'weight_decay': 0.0001}\n"
     ]
    },
    {
     "data": {
      "text/html": [
       "<style>\n",
       "    table.wandb td:nth-child(1) { padding: 0 10px; text-align: left ; width: auto;} td:nth-child(2) {text-align: left ; width: 100%}\n",
       "    .wandb-row { display: flex; flex-direction: row; flex-wrap: wrap; justify-content: flex-start; width: 100% }\n",
       "    .wandb-col { display: flex; flex-direction: column; flex-basis: 100%; flex: 1; padding: 10px; }\n",
       "    </style>\n",
       "<div class=\"wandb-row\"><div class=\"wandb-col\"><h3>Run history:</h3><br/><table class=\"wandb\"><tr><td>epoch</td><td>▁▃▅▆█</td></tr><tr><td>train_accuracy</td><td>▁▁▁▁█</td></tr><tr><td>train_f1</td><td>▁▁▁▁█</td></tr><tr><td>train_loss</td><td>█▆▄▂▁</td></tr><tr><td>val_accuracy</td><td>▁▁▁▃█</td></tr><tr><td>val_f1</td><td>▁▁▁▄█</td></tr><tr><td>val_loss</td><td>█▆▄▃▁</td></tr></table><br/></div><div class=\"wandb-col\"><h3>Run summary:</h3><br/><table class=\"wandb\"><tr><td>epoch</td><td>5</td></tr><tr><td>train_accuracy</td><td>0.52</td></tr><tr><td>train_f1</td><td>0.43814</td></tr><tr><td>train_loss</td><td>0.69026</td></tr><tr><td>val_accuracy</td><td>0.55556</td></tr><tr><td>val_f1</td><td>0.48148</td></tr><tr><td>val_loss</td><td>0.68831</td></tr></table><br/></div></div>"
      ],
      "text/plain": [
       "<IPython.core.display.HTML object>"
      ]
     },
     "metadata": {},
     "output_type": "display_data"
    },
    {
     "data": {
      "text/html": [
       " View run <strong style=\"color:#cdcd00\">dulcet-sweep-69</strong> at: <a href='https://wandb.ai/barbonigiorgia-sapienza-universit-di-roma/graph-classification-graphs_sc/runs/igk5fu1t' target=\"_blank\">https://wandb.ai/barbonigiorgia-sapienza-universit-di-roma/graph-classification-graphs_sc/runs/igk5fu1t</a><br/> View project at: <a href='https://wandb.ai/barbonigiorgia-sapienza-universit-di-roma/graph-classification-graphs_sc' target=\"_blank\">https://wandb.ai/barbonigiorgia-sapienza-universit-di-roma/graph-classification-graphs_sc</a><br/>Synced 5 W&B file(s), 0 media file(s), 6 artifact file(s) and 0 other file(s)"
      ],
      "text/plain": [
       "<IPython.core.display.HTML object>"
      ]
     },
     "metadata": {},
     "output_type": "display_data"
    },
    {
     "data": {
      "text/html": [
       "Find logs at: <code>.\\wandb\\run-20241119_163157-igk5fu1t\\logs</code>"
      ],
      "text/plain": [
       "<IPython.core.display.HTML object>"
      ]
     },
     "metadata": {},
     "output_type": "display_data"
    },
    {
     "name": "stderr",
     "output_type": "stream",
     "text": [
      "\u001b[34m\u001b[1mwandb\u001b[0m: Agent Starting Run: dfnjm0yc with config:\n",
      "\u001b[34m\u001b[1mwandb\u001b[0m: \tbatch_size: 32\n",
      "\u001b[34m\u001b[1mwandb\u001b[0m: \tin_channels: 6\n",
      "\u001b[34m\u001b[1mwandb\u001b[0m: \tlearning_rate: 0.001\n",
      "\u001b[34m\u001b[1mwandb\u001b[0m: \tnum_epochs: 5\n",
      "\u001b[34m\u001b[1mwandb\u001b[0m: \tnum_heads: 4\n",
      "\u001b[34m\u001b[1mwandb\u001b[0m: \toptimizer: adam\n",
      "\u001b[34m\u001b[1mwandb\u001b[0m: \tout_channels: 16\n",
      "\u001b[34m\u001b[1mwandb\u001b[0m: \trandom_state: 42\n",
      "\u001b[34m\u001b[1mwandb\u001b[0m: \ttest_size: 0.3\n",
      "\u001b[34m\u001b[1mwandb\u001b[0m: \tweight_decay: 0\n"
     ]
    },
    {
     "data": {
      "text/html": [
       "Tracking run with wandb version 0.18.5"
      ],
      "text/plain": [
       "<IPython.core.display.HTML object>"
      ]
     },
     "metadata": {},
     "output_type": "display_data"
    },
    {
     "data": {
      "text/html": [
       "Run data is saved locally in <code>c:\\Users\\barbo\\brain classifier repo\\brain_classifier\\src\\wandb\\run-20241119_163218-dfnjm0yc</code>"
      ],
      "text/plain": [
       "<IPython.core.display.HTML object>"
      ]
     },
     "metadata": {},
     "output_type": "display_data"
    },
    {
     "data": {
      "text/html": [
       "Syncing run <strong><a href='https://wandb.ai/barbonigiorgia-sapienza-universit-di-roma/graph-classification-graphs_sc/runs/dfnjm0yc' target=\"_blank\">stellar-sweep-70</a></strong> to <a href='https://wandb.ai/barbonigiorgia-sapienza-universit-di-roma/graph-classification-graphs_sc' target=\"_blank\">Weights & Biases</a> (<a href='https://wandb.me/run' target=\"_blank\">docs</a>)<br/>Sweep page: <a href='https://wandb.ai/barbonigiorgia-sapienza-universit-di-roma/graph-classification-graphs_sc/sweeps/f8yd3ova' target=\"_blank\">https://wandb.ai/barbonigiorgia-sapienza-universit-di-roma/graph-classification-graphs_sc/sweeps/f8yd3ova</a>"
      ],
      "text/plain": [
       "<IPython.core.display.HTML object>"
      ]
     },
     "metadata": {},
     "output_type": "display_data"
    },
    {
     "data": {
      "text/html": [
       " View project at <a href='https://wandb.ai/barbonigiorgia-sapienza-universit-di-roma/graph-classification-graphs_sc' target=\"_blank\">https://wandb.ai/barbonigiorgia-sapienza-universit-di-roma/graph-classification-graphs_sc</a>"
      ],
      "text/plain": [
       "<IPython.core.display.HTML object>"
      ]
     },
     "metadata": {},
     "output_type": "display_data"
    },
    {
     "data": {
      "text/html": [
       " View sweep at <a href='https://wandb.ai/barbonigiorgia-sapienza-universit-di-roma/graph-classification-graphs_sc/sweeps/f8yd3ova' target=\"_blank\">https://wandb.ai/barbonigiorgia-sapienza-universit-di-roma/graph-classification-graphs_sc/sweeps/f8yd3ova</a>"
      ],
      "text/plain": [
       "<IPython.core.display.HTML object>"
      ]
     },
     "metadata": {},
     "output_type": "display_data"
    },
    {
     "data": {
      "text/html": [
       " View run at <a href='https://wandb.ai/barbonigiorgia-sapienza-universit-di-roma/graph-classification-graphs_sc/runs/dfnjm0yc' target=\"_blank\">https://wandb.ai/barbonigiorgia-sapienza-universit-di-roma/graph-classification-graphs_sc/runs/dfnjm0yc</a>"
      ],
      "text/plain": [
       "<IPython.core.display.HTML object>"
      ]
     },
     "metadata": {},
     "output_type": "display_data"
    },
    {
     "name": "stdout",
     "output_type": "stream",
     "text": [
      "Running with config: {'batch_size': 32, 'in_channels': 6, 'learning_rate': 0.001, 'num_epochs': 5, 'num_heads': 4, 'optimizer': 'adam', 'out_channels': 16, 'random_state': 42, 'test_size': 0.3, 'weight_decay': 0}\n"
     ]
    },
    {
     "data": {
      "text/html": [
       "<style>\n",
       "    table.wandb td:nth-child(1) { padding: 0 10px; text-align: left ; width: auto;} td:nth-child(2) {text-align: left ; width: 100%}\n",
       "    .wandb-row { display: flex; flex-direction: row; flex-wrap: wrap; justify-content: flex-start; width: 100% }\n",
       "    .wandb-col { display: flex; flex-direction: column; flex-basis: 100%; flex: 1; padding: 10px; }\n",
       "    </style>\n",
       "<div class=\"wandb-row\"><div class=\"wandb-col\"><h3>Run history:</h3><br/><table class=\"wandb\"><tr><td>epoch</td><td>▁▃▅▆█</td></tr><tr><td>train_accuracy</td><td>▁████</td></tr><tr><td>train_f1</td><td>▁████</td></tr><tr><td>train_loss</td><td>█▆▄▂▁</td></tr><tr><td>val_accuracy</td><td>▁▁▁▁▁</td></tr><tr><td>val_f1</td><td>▁▁▁▁▁</td></tr><tr><td>val_loss</td><td>█▆▄▃▁</td></tr></table><br/></div><div class=\"wandb-col\"><h3>Run summary:</h3><br/><table class=\"wandb\"><tr><td>epoch</td><td>5</td></tr><tr><td>train_accuracy</td><td>0.568</td></tr><tr><td>train_f1</td><td>0.41151</td></tr><tr><td>train_loss</td><td>0.67831</td></tr><tr><td>val_accuracy</td><td>0.55556</td></tr><tr><td>val_f1</td><td>0.39683</td></tr><tr><td>val_loss</td><td>0.68038</td></tr></table><br/></div></div>"
      ],
      "text/plain": [
       "<IPython.core.display.HTML object>"
      ]
     },
     "metadata": {},
     "output_type": "display_data"
    },
    {
     "data": {
      "text/html": [
       " View run <strong style=\"color:#cdcd00\">stellar-sweep-70</strong> at: <a href='https://wandb.ai/barbonigiorgia-sapienza-universit-di-roma/graph-classification-graphs_sc/runs/dfnjm0yc' target=\"_blank\">https://wandb.ai/barbonigiorgia-sapienza-universit-di-roma/graph-classification-graphs_sc/runs/dfnjm0yc</a><br/> View project at: <a href='https://wandb.ai/barbonigiorgia-sapienza-universit-di-roma/graph-classification-graphs_sc' target=\"_blank\">https://wandb.ai/barbonigiorgia-sapienza-universit-di-roma/graph-classification-graphs_sc</a><br/>Synced 5 W&B file(s), 0 media file(s), 4 artifact file(s) and 0 other file(s)"
      ],
      "text/plain": [
       "<IPython.core.display.HTML object>"
      ]
     },
     "metadata": {},
     "output_type": "display_data"
    },
    {
     "data": {
      "text/html": [
       "Find logs at: <code>.\\wandb\\run-20241119_163218-dfnjm0yc\\logs</code>"
      ],
      "text/plain": [
       "<IPython.core.display.HTML object>"
      ]
     },
     "metadata": {},
     "output_type": "display_data"
    },
    {
     "name": "stderr",
     "output_type": "stream",
     "text": [
      "\u001b[34m\u001b[1mwandb\u001b[0m: Agent Starting Run: id277gws with config:\n",
      "\u001b[34m\u001b[1mwandb\u001b[0m: \tbatch_size: 32\n",
      "\u001b[34m\u001b[1mwandb\u001b[0m: \tin_channels: 6\n",
      "\u001b[34m\u001b[1mwandb\u001b[0m: \tlearning_rate: 0.001\n",
      "\u001b[34m\u001b[1mwandb\u001b[0m: \tnum_epochs: 5\n",
      "\u001b[34m\u001b[1mwandb\u001b[0m: \tnum_heads: 4\n",
      "\u001b[34m\u001b[1mwandb\u001b[0m: \toptimizer: adam\n",
      "\u001b[34m\u001b[1mwandb\u001b[0m: \tout_channels: 16\n",
      "\u001b[34m\u001b[1mwandb\u001b[0m: \trandom_state: 42\n",
      "\u001b[34m\u001b[1mwandb\u001b[0m: \ttest_size: 0.3\n",
      "\u001b[34m\u001b[1mwandb\u001b[0m: \tweight_decay: 1e-05\n"
     ]
    },
    {
     "data": {
      "text/html": [
       "Tracking run with wandb version 0.18.5"
      ],
      "text/plain": [
       "<IPython.core.display.HTML object>"
      ]
     },
     "metadata": {},
     "output_type": "display_data"
    },
    {
     "data": {
      "text/html": [
       "Run data is saved locally in <code>c:\\Users\\barbo\\brain classifier repo\\brain_classifier\\src\\wandb\\run-20241119_163239-id277gws</code>"
      ],
      "text/plain": [
       "<IPython.core.display.HTML object>"
      ]
     },
     "metadata": {},
     "output_type": "display_data"
    },
    {
     "data": {
      "text/html": [
       "Syncing run <strong><a href='https://wandb.ai/barbonigiorgia-sapienza-universit-di-roma/graph-classification-graphs_sc/runs/id277gws' target=\"_blank\">devoted-sweep-71</a></strong> to <a href='https://wandb.ai/barbonigiorgia-sapienza-universit-di-roma/graph-classification-graphs_sc' target=\"_blank\">Weights & Biases</a> (<a href='https://wandb.me/run' target=\"_blank\">docs</a>)<br/>Sweep page: <a href='https://wandb.ai/barbonigiorgia-sapienza-universit-di-roma/graph-classification-graphs_sc/sweeps/f8yd3ova' target=\"_blank\">https://wandb.ai/barbonigiorgia-sapienza-universit-di-roma/graph-classification-graphs_sc/sweeps/f8yd3ova</a>"
      ],
      "text/plain": [
       "<IPython.core.display.HTML object>"
      ]
     },
     "metadata": {},
     "output_type": "display_data"
    },
    {
     "data": {
      "text/html": [
       " View project at <a href='https://wandb.ai/barbonigiorgia-sapienza-universit-di-roma/graph-classification-graphs_sc' target=\"_blank\">https://wandb.ai/barbonigiorgia-sapienza-universit-di-roma/graph-classification-graphs_sc</a>"
      ],
      "text/plain": [
       "<IPython.core.display.HTML object>"
      ]
     },
     "metadata": {},
     "output_type": "display_data"
    },
    {
     "data": {
      "text/html": [
       " View sweep at <a href='https://wandb.ai/barbonigiorgia-sapienza-universit-di-roma/graph-classification-graphs_sc/sweeps/f8yd3ova' target=\"_blank\">https://wandb.ai/barbonigiorgia-sapienza-universit-di-roma/graph-classification-graphs_sc/sweeps/f8yd3ova</a>"
      ],
      "text/plain": [
       "<IPython.core.display.HTML object>"
      ]
     },
     "metadata": {},
     "output_type": "display_data"
    },
    {
     "data": {
      "text/html": [
       " View run at <a href='https://wandb.ai/barbonigiorgia-sapienza-universit-di-roma/graph-classification-graphs_sc/runs/id277gws' target=\"_blank\">https://wandb.ai/barbonigiorgia-sapienza-universit-di-roma/graph-classification-graphs_sc/runs/id277gws</a>"
      ],
      "text/plain": [
       "<IPython.core.display.HTML object>"
      ]
     },
     "metadata": {},
     "output_type": "display_data"
    },
    {
     "name": "stdout",
     "output_type": "stream",
     "text": [
      "Running with config: {'batch_size': 32, 'in_channels': 6, 'learning_rate': 0.001, 'num_epochs': 5, 'num_heads': 4, 'optimizer': 'adam', 'out_channels': 16, 'random_state': 42, 'test_size': 0.3, 'weight_decay': 1e-05}\n"
     ]
    },
    {
     "data": {
      "text/html": [
       "<style>\n",
       "    table.wandb td:nth-child(1) { padding: 0 10px; text-align: left ; width: auto;} td:nth-child(2) {text-align: left ; width: 100%}\n",
       "    .wandb-row { display: flex; flex-direction: row; flex-wrap: wrap; justify-content: flex-start; width: 100% }\n",
       "    .wandb-col { display: flex; flex-direction: column; flex-basis: 100%; flex: 1; padding: 10px; }\n",
       "    </style>\n",
       "<div class=\"wandb-row\"><div class=\"wandb-col\"><h3>Run history:</h3><br/><table class=\"wandb\"><tr><td>epoch</td><td>▁▃▅▆█</td></tr><tr><td>train_accuracy</td><td>▁████</td></tr><tr><td>train_f1</td><td>▁████</td></tr><tr><td>train_loss</td><td>█▆▄▂▁</td></tr><tr><td>val_accuracy</td><td>▁▁▁▁▁</td></tr><tr><td>val_f1</td><td>▁▁▁▁▁</td></tr><tr><td>val_loss</td><td>█▆▄▃▁</td></tr></table><br/></div><div class=\"wandb-col\"><h3>Run summary:</h3><br/><table class=\"wandb\"><tr><td>epoch</td><td>5</td></tr><tr><td>train_accuracy</td><td>0.568</td></tr><tr><td>train_f1</td><td>0.41151</td></tr><tr><td>train_loss</td><td>0.67831</td></tr><tr><td>val_accuracy</td><td>0.55556</td></tr><tr><td>val_f1</td><td>0.39683</td></tr><tr><td>val_loss</td><td>0.68038</td></tr></table><br/></div></div>"
      ],
      "text/plain": [
       "<IPython.core.display.HTML object>"
      ]
     },
     "metadata": {},
     "output_type": "display_data"
    },
    {
     "data": {
      "text/html": [
       " View run <strong style=\"color:#cdcd00\">devoted-sweep-71</strong> at: <a href='https://wandb.ai/barbonigiorgia-sapienza-universit-di-roma/graph-classification-graphs_sc/runs/id277gws' target=\"_blank\">https://wandb.ai/barbonigiorgia-sapienza-universit-di-roma/graph-classification-graphs_sc/runs/id277gws</a><br/> View project at: <a href='https://wandb.ai/barbonigiorgia-sapienza-universit-di-roma/graph-classification-graphs_sc' target=\"_blank\">https://wandb.ai/barbonigiorgia-sapienza-universit-di-roma/graph-classification-graphs_sc</a><br/>Synced 5 W&B file(s), 0 media file(s), 4 artifact file(s) and 0 other file(s)"
      ],
      "text/plain": [
       "<IPython.core.display.HTML object>"
      ]
     },
     "metadata": {},
     "output_type": "display_data"
    },
    {
     "data": {
      "text/html": [
       "Find logs at: <code>.\\wandb\\run-20241119_163239-id277gws\\logs</code>"
      ],
      "text/plain": [
       "<IPython.core.display.HTML object>"
      ]
     },
     "metadata": {},
     "output_type": "display_data"
    },
    {
     "name": "stderr",
     "output_type": "stream",
     "text": [
      "\u001b[34m\u001b[1mwandb\u001b[0m: Agent Starting Run: nwz2otke with config:\n",
      "\u001b[34m\u001b[1mwandb\u001b[0m: \tbatch_size: 32\n",
      "\u001b[34m\u001b[1mwandb\u001b[0m: \tin_channels: 6\n",
      "\u001b[34m\u001b[1mwandb\u001b[0m: \tlearning_rate: 0.001\n",
      "\u001b[34m\u001b[1mwandb\u001b[0m: \tnum_epochs: 5\n",
      "\u001b[34m\u001b[1mwandb\u001b[0m: \tnum_heads: 4\n",
      "\u001b[34m\u001b[1mwandb\u001b[0m: \toptimizer: adam\n",
      "\u001b[34m\u001b[1mwandb\u001b[0m: \tout_channels: 16\n",
      "\u001b[34m\u001b[1mwandb\u001b[0m: \trandom_state: 42\n",
      "\u001b[34m\u001b[1mwandb\u001b[0m: \ttest_size: 0.3\n",
      "\u001b[34m\u001b[1mwandb\u001b[0m: \tweight_decay: 0.0001\n"
     ]
    },
    {
     "data": {
      "text/html": [
       "Tracking run with wandb version 0.18.5"
      ],
      "text/plain": [
       "<IPython.core.display.HTML object>"
      ]
     },
     "metadata": {},
     "output_type": "display_data"
    },
    {
     "data": {
      "text/html": [
       "Run data is saved locally in <code>c:\\Users\\barbo\\brain classifier repo\\brain_classifier\\src\\wandb\\run-20241119_163300-nwz2otke</code>"
      ],
      "text/plain": [
       "<IPython.core.display.HTML object>"
      ]
     },
     "metadata": {},
     "output_type": "display_data"
    },
    {
     "data": {
      "text/html": [
       "Syncing run <strong><a href='https://wandb.ai/barbonigiorgia-sapienza-universit-di-roma/graph-classification-graphs_sc/runs/nwz2otke' target=\"_blank\">dry-sweep-72</a></strong> to <a href='https://wandb.ai/barbonigiorgia-sapienza-universit-di-roma/graph-classification-graphs_sc' target=\"_blank\">Weights & Biases</a> (<a href='https://wandb.me/run' target=\"_blank\">docs</a>)<br/>Sweep page: <a href='https://wandb.ai/barbonigiorgia-sapienza-universit-di-roma/graph-classification-graphs_sc/sweeps/f8yd3ova' target=\"_blank\">https://wandb.ai/barbonigiorgia-sapienza-universit-di-roma/graph-classification-graphs_sc/sweeps/f8yd3ova</a>"
      ],
      "text/plain": [
       "<IPython.core.display.HTML object>"
      ]
     },
     "metadata": {},
     "output_type": "display_data"
    },
    {
     "data": {
      "text/html": [
       " View project at <a href='https://wandb.ai/barbonigiorgia-sapienza-universit-di-roma/graph-classification-graphs_sc' target=\"_blank\">https://wandb.ai/barbonigiorgia-sapienza-universit-di-roma/graph-classification-graphs_sc</a>"
      ],
      "text/plain": [
       "<IPython.core.display.HTML object>"
      ]
     },
     "metadata": {},
     "output_type": "display_data"
    },
    {
     "data": {
      "text/html": [
       " View sweep at <a href='https://wandb.ai/barbonigiorgia-sapienza-universit-di-roma/graph-classification-graphs_sc/sweeps/f8yd3ova' target=\"_blank\">https://wandb.ai/barbonigiorgia-sapienza-universit-di-roma/graph-classification-graphs_sc/sweeps/f8yd3ova</a>"
      ],
      "text/plain": [
       "<IPython.core.display.HTML object>"
      ]
     },
     "metadata": {},
     "output_type": "display_data"
    },
    {
     "data": {
      "text/html": [
       " View run at <a href='https://wandb.ai/barbonigiorgia-sapienza-universit-di-roma/graph-classification-graphs_sc/runs/nwz2otke' target=\"_blank\">https://wandb.ai/barbonigiorgia-sapienza-universit-di-roma/graph-classification-graphs_sc/runs/nwz2otke</a>"
      ],
      "text/plain": [
       "<IPython.core.display.HTML object>"
      ]
     },
     "metadata": {},
     "output_type": "display_data"
    },
    {
     "name": "stdout",
     "output_type": "stream",
     "text": [
      "Running with config: {'batch_size': 32, 'in_channels': 6, 'learning_rate': 0.001, 'num_epochs': 5, 'num_heads': 4, 'optimizer': 'adam', 'out_channels': 16, 'random_state': 42, 'test_size': 0.3, 'weight_decay': 0.0001}\n"
     ]
    },
    {
     "data": {
      "text/html": [
       "<style>\n",
       "    table.wandb td:nth-child(1) { padding: 0 10px; text-align: left ; width: auto;} td:nth-child(2) {text-align: left ; width: 100%}\n",
       "    .wandb-row { display: flex; flex-direction: row; flex-wrap: wrap; justify-content: flex-start; width: 100% }\n",
       "    .wandb-col { display: flex; flex-direction: column; flex-basis: 100%; flex: 1; padding: 10px; }\n",
       "    </style>\n",
       "<div class=\"wandb-row\"><div class=\"wandb-col\"><h3>Run history:</h3><br/><table class=\"wandb\"><tr><td>epoch</td><td>▁▃▅▆█</td></tr><tr><td>train_accuracy</td><td>▁████</td></tr><tr><td>train_f1</td><td>▁████</td></tr><tr><td>train_loss</td><td>█▆▄▂▁</td></tr><tr><td>val_accuracy</td><td>▁▁▁▁▁</td></tr><tr><td>val_f1</td><td>▁▁▁▁▁</td></tr><tr><td>val_loss</td><td>█▆▄▃▁</td></tr></table><br/></div><div class=\"wandb-col\"><h3>Run summary:</h3><br/><table class=\"wandb\"><tr><td>epoch</td><td>5</td></tr><tr><td>train_accuracy</td><td>0.568</td></tr><tr><td>train_f1</td><td>0.41151</td></tr><tr><td>train_loss</td><td>0.67832</td></tr><tr><td>val_accuracy</td><td>0.55556</td></tr><tr><td>val_f1</td><td>0.39683</td></tr><tr><td>val_loss</td><td>0.68038</td></tr></table><br/></div></div>"
      ],
      "text/plain": [
       "<IPython.core.display.HTML object>"
      ]
     },
     "metadata": {},
     "output_type": "display_data"
    },
    {
     "data": {
      "text/html": [
       " View run <strong style=\"color:#cdcd00\">dry-sweep-72</strong> at: <a href='https://wandb.ai/barbonigiorgia-sapienza-universit-di-roma/graph-classification-graphs_sc/runs/nwz2otke' target=\"_blank\">https://wandb.ai/barbonigiorgia-sapienza-universit-di-roma/graph-classification-graphs_sc/runs/nwz2otke</a><br/> View project at: <a href='https://wandb.ai/barbonigiorgia-sapienza-universit-di-roma/graph-classification-graphs_sc' target=\"_blank\">https://wandb.ai/barbonigiorgia-sapienza-universit-di-roma/graph-classification-graphs_sc</a><br/>Synced 5 W&B file(s), 0 media file(s), 4 artifact file(s) and 0 other file(s)"
      ],
      "text/plain": [
       "<IPython.core.display.HTML object>"
      ]
     },
     "metadata": {},
     "output_type": "display_data"
    },
    {
     "data": {
      "text/html": [
       "Find logs at: <code>.\\wandb\\run-20241119_163300-nwz2otke\\logs</code>"
      ],
      "text/plain": [
       "<IPython.core.display.HTML object>"
      ]
     },
     "metadata": {},
     "output_type": "display_data"
    },
    {
     "name": "stderr",
     "output_type": "stream",
     "text": [
      "\u001b[34m\u001b[1mwandb\u001b[0m: Agent Starting Run: yhvb3kgt with config:\n",
      "\u001b[34m\u001b[1mwandb\u001b[0m: \tbatch_size: 32\n",
      "\u001b[34m\u001b[1mwandb\u001b[0m: \tin_channels: 6\n",
      "\u001b[34m\u001b[1mwandb\u001b[0m: \tlearning_rate: 0.0001\n",
      "\u001b[34m\u001b[1mwandb\u001b[0m: \tnum_epochs: 5\n",
      "\u001b[34m\u001b[1mwandb\u001b[0m: \tnum_heads: 1\n",
      "\u001b[34m\u001b[1mwandb\u001b[0m: \toptimizer: adam\n",
      "\u001b[34m\u001b[1mwandb\u001b[0m: \tout_channels: 8\n",
      "\u001b[34m\u001b[1mwandb\u001b[0m: \trandom_state: 42\n",
      "\u001b[34m\u001b[1mwandb\u001b[0m: \ttest_size: 0.3\n",
      "\u001b[34m\u001b[1mwandb\u001b[0m: \tweight_decay: 0\n"
     ]
    },
    {
     "data": {
      "text/html": [
       "Tracking run with wandb version 0.18.5"
      ],
      "text/plain": [
       "<IPython.core.display.HTML object>"
      ]
     },
     "metadata": {},
     "output_type": "display_data"
    },
    {
     "data": {
      "text/html": [
       "Run data is saved locally in <code>c:\\Users\\barbo\\brain classifier repo\\brain_classifier\\src\\wandb\\run-20241119_163321-yhvb3kgt</code>"
      ],
      "text/plain": [
       "<IPython.core.display.HTML object>"
      ]
     },
     "metadata": {},
     "output_type": "display_data"
    },
    {
     "data": {
      "text/html": [
       "Syncing run <strong><a href='https://wandb.ai/barbonigiorgia-sapienza-universit-di-roma/graph-classification-graphs_sc/runs/yhvb3kgt' target=\"_blank\">exalted-sweep-73</a></strong> to <a href='https://wandb.ai/barbonigiorgia-sapienza-universit-di-roma/graph-classification-graphs_sc' target=\"_blank\">Weights & Biases</a> (<a href='https://wandb.me/run' target=\"_blank\">docs</a>)<br/>Sweep page: <a href='https://wandb.ai/barbonigiorgia-sapienza-universit-di-roma/graph-classification-graphs_sc/sweeps/f8yd3ova' target=\"_blank\">https://wandb.ai/barbonigiorgia-sapienza-universit-di-roma/graph-classification-graphs_sc/sweeps/f8yd3ova</a>"
      ],
      "text/plain": [
       "<IPython.core.display.HTML object>"
      ]
     },
     "metadata": {},
     "output_type": "display_data"
    },
    {
     "data": {
      "text/html": [
       " View project at <a href='https://wandb.ai/barbonigiorgia-sapienza-universit-di-roma/graph-classification-graphs_sc' target=\"_blank\">https://wandb.ai/barbonigiorgia-sapienza-universit-di-roma/graph-classification-graphs_sc</a>"
      ],
      "text/plain": [
       "<IPython.core.display.HTML object>"
      ]
     },
     "metadata": {},
     "output_type": "display_data"
    },
    {
     "data": {
      "text/html": [
       " View sweep at <a href='https://wandb.ai/barbonigiorgia-sapienza-universit-di-roma/graph-classification-graphs_sc/sweeps/f8yd3ova' target=\"_blank\">https://wandb.ai/barbonigiorgia-sapienza-universit-di-roma/graph-classification-graphs_sc/sweeps/f8yd3ova</a>"
      ],
      "text/plain": [
       "<IPython.core.display.HTML object>"
      ]
     },
     "metadata": {},
     "output_type": "display_data"
    },
    {
     "data": {
      "text/html": [
       " View run at <a href='https://wandb.ai/barbonigiorgia-sapienza-universit-di-roma/graph-classification-graphs_sc/runs/yhvb3kgt' target=\"_blank\">https://wandb.ai/barbonigiorgia-sapienza-universit-di-roma/graph-classification-graphs_sc/runs/yhvb3kgt</a>"
      ],
      "text/plain": [
       "<IPython.core.display.HTML object>"
      ]
     },
     "metadata": {},
     "output_type": "display_data"
    },
    {
     "name": "stdout",
     "output_type": "stream",
     "text": [
      "Running with config: {'batch_size': 32, 'in_channels': 6, 'learning_rate': 0.0001, 'num_epochs': 5, 'num_heads': 1, 'optimizer': 'adam', 'out_channels': 8, 'random_state': 42, 'test_size': 0.3, 'weight_decay': 0}\n"
     ]
    },
    {
     "data": {
      "text/html": [
       "<style>\n",
       "    table.wandb td:nth-child(1) { padding: 0 10px; text-align: left ; width: auto;} td:nth-child(2) {text-align: left ; width: 100%}\n",
       "    .wandb-row { display: flex; flex-direction: row; flex-wrap: wrap; justify-content: flex-start; width: 100% }\n",
       "    .wandb-col { display: flex; flex-direction: column; flex-basis: 100%; flex: 1; padding: 10px; }\n",
       "    </style>\n",
       "<div class=\"wandb-row\"><div class=\"wandb-col\"><h3>Run history:</h3><br/><table class=\"wandb\"><tr><td>epoch</td><td>▁▃▅▆█</td></tr><tr><td>train_accuracy</td><td>▁▁▁▁▁</td></tr><tr><td>train_f1</td><td>▁▁▁▁▁</td></tr><tr><td>train_loss</td><td>█▆▁▃▂</td></tr><tr><td>val_accuracy</td><td>▁▁▁▁▁</td></tr><tr><td>val_f1</td><td>▁▁▁▁▁</td></tr><tr><td>val_loss</td><td>█▆▅▃▁</td></tr></table><br/></div><div class=\"wandb-col\"><h3>Run summary:</h3><br/><table class=\"wandb\"><tr><td>epoch</td><td>5</td></tr><tr><td>train_accuracy</td><td>0.6</td></tr><tr><td>train_f1</td><td>0.47967</td></tr><tr><td>train_loss</td><td>0.674</td></tr><tr><td>val_accuracy</td><td>0.66667</td></tr><tr><td>val_f1</td><td>0.60513</td></tr><tr><td>val_loss</td><td>0.67585</td></tr></table><br/></div></div>"
      ],
      "text/plain": [
       "<IPython.core.display.HTML object>"
      ]
     },
     "metadata": {},
     "output_type": "display_data"
    },
    {
     "data": {
      "text/html": [
       " View run <strong style=\"color:#cdcd00\">exalted-sweep-73</strong> at: <a href='https://wandb.ai/barbonigiorgia-sapienza-universit-di-roma/graph-classification-graphs_sc/runs/yhvb3kgt' target=\"_blank\">https://wandb.ai/barbonigiorgia-sapienza-universit-di-roma/graph-classification-graphs_sc/runs/yhvb3kgt</a><br/> View project at: <a href='https://wandb.ai/barbonigiorgia-sapienza-universit-di-roma/graph-classification-graphs_sc' target=\"_blank\">https://wandb.ai/barbonigiorgia-sapienza-universit-di-roma/graph-classification-graphs_sc</a><br/>Synced 5 W&B file(s), 0 media file(s), 0 artifact file(s) and 0 other file(s)"
      ],
      "text/plain": [
       "<IPython.core.display.HTML object>"
      ]
     },
     "metadata": {},
     "output_type": "display_data"
    },
    {
     "data": {
      "text/html": [
       "Find logs at: <code>.\\wandb\\run-20241119_163321-yhvb3kgt\\logs</code>"
      ],
      "text/plain": [
       "<IPython.core.display.HTML object>"
      ]
     },
     "metadata": {},
     "output_type": "display_data"
    },
    {
     "name": "stderr",
     "output_type": "stream",
     "text": [
      "\u001b[34m\u001b[1mwandb\u001b[0m: Agent Starting Run: 4k9bamsv with config:\n",
      "\u001b[34m\u001b[1mwandb\u001b[0m: \tbatch_size: 32\n",
      "\u001b[34m\u001b[1mwandb\u001b[0m: \tin_channels: 6\n",
      "\u001b[34m\u001b[1mwandb\u001b[0m: \tlearning_rate: 0.0001\n",
      "\u001b[34m\u001b[1mwandb\u001b[0m: \tnum_epochs: 5\n",
      "\u001b[34m\u001b[1mwandb\u001b[0m: \tnum_heads: 1\n",
      "\u001b[34m\u001b[1mwandb\u001b[0m: \toptimizer: adam\n",
      "\u001b[34m\u001b[1mwandb\u001b[0m: \tout_channels: 8\n",
      "\u001b[34m\u001b[1mwandb\u001b[0m: \trandom_state: 42\n",
      "\u001b[34m\u001b[1mwandb\u001b[0m: \ttest_size: 0.3\n",
      "\u001b[34m\u001b[1mwandb\u001b[0m: \tweight_decay: 1e-05\n"
     ]
    },
    {
     "data": {
      "text/html": [
       "Tracking run with wandb version 0.18.5"
      ],
      "text/plain": [
       "<IPython.core.display.HTML object>"
      ]
     },
     "metadata": {},
     "output_type": "display_data"
    },
    {
     "data": {
      "text/html": [
       "Run data is saved locally in <code>c:\\Users\\barbo\\brain classifier repo\\brain_classifier\\src\\wandb\\run-20241119_163332-4k9bamsv</code>"
      ],
      "text/plain": [
       "<IPython.core.display.HTML object>"
      ]
     },
     "metadata": {},
     "output_type": "display_data"
    },
    {
     "data": {
      "text/html": [
       "Syncing run <strong><a href='https://wandb.ai/barbonigiorgia-sapienza-universit-di-roma/graph-classification-graphs_sc/runs/4k9bamsv' target=\"_blank\">pretty-sweep-74</a></strong> to <a href='https://wandb.ai/barbonigiorgia-sapienza-universit-di-roma/graph-classification-graphs_sc' target=\"_blank\">Weights & Biases</a> (<a href='https://wandb.me/run' target=\"_blank\">docs</a>)<br/>Sweep page: <a href='https://wandb.ai/barbonigiorgia-sapienza-universit-di-roma/graph-classification-graphs_sc/sweeps/f8yd3ova' target=\"_blank\">https://wandb.ai/barbonigiorgia-sapienza-universit-di-roma/graph-classification-graphs_sc/sweeps/f8yd3ova</a>"
      ],
      "text/plain": [
       "<IPython.core.display.HTML object>"
      ]
     },
     "metadata": {},
     "output_type": "display_data"
    },
    {
     "data": {
      "text/html": [
       " View project at <a href='https://wandb.ai/barbonigiorgia-sapienza-universit-di-roma/graph-classification-graphs_sc' target=\"_blank\">https://wandb.ai/barbonigiorgia-sapienza-universit-di-roma/graph-classification-graphs_sc</a>"
      ],
      "text/plain": [
       "<IPython.core.display.HTML object>"
      ]
     },
     "metadata": {},
     "output_type": "display_data"
    },
    {
     "data": {
      "text/html": [
       " View sweep at <a href='https://wandb.ai/barbonigiorgia-sapienza-universit-di-roma/graph-classification-graphs_sc/sweeps/f8yd3ova' target=\"_blank\">https://wandb.ai/barbonigiorgia-sapienza-universit-di-roma/graph-classification-graphs_sc/sweeps/f8yd3ova</a>"
      ],
      "text/plain": [
       "<IPython.core.display.HTML object>"
      ]
     },
     "metadata": {},
     "output_type": "display_data"
    },
    {
     "data": {
      "text/html": [
       " View run at <a href='https://wandb.ai/barbonigiorgia-sapienza-universit-di-roma/graph-classification-graphs_sc/runs/4k9bamsv' target=\"_blank\">https://wandb.ai/barbonigiorgia-sapienza-universit-di-roma/graph-classification-graphs_sc/runs/4k9bamsv</a>"
      ],
      "text/plain": [
       "<IPython.core.display.HTML object>"
      ]
     },
     "metadata": {},
     "output_type": "display_data"
    },
    {
     "name": "stdout",
     "output_type": "stream",
     "text": [
      "Running with config: {'batch_size': 32, 'in_channels': 6, 'learning_rate': 0.0001, 'num_epochs': 5, 'num_heads': 1, 'optimizer': 'adam', 'out_channels': 8, 'random_state': 42, 'test_size': 0.3, 'weight_decay': 1e-05}\n"
     ]
    },
    {
     "data": {
      "text/html": [
       "<style>\n",
       "    table.wandb td:nth-child(1) { padding: 0 10px; text-align: left ; width: auto;} td:nth-child(2) {text-align: left ; width: 100%}\n",
       "    .wandb-row { display: flex; flex-direction: row; flex-wrap: wrap; justify-content: flex-start; width: 100% }\n",
       "    .wandb-col { display: flex; flex-direction: column; flex-basis: 100%; flex: 1; padding: 10px; }\n",
       "    </style>\n",
       "<div class=\"wandb-row\"><div class=\"wandb-col\"><h3>Run history:</h3><br/><table class=\"wandb\"><tr><td>epoch</td><td>▁▃▅▆█</td></tr><tr><td>train_accuracy</td><td>▁▁▁▁▁</td></tr><tr><td>train_f1</td><td>▁▁▁▁▁</td></tr><tr><td>train_loss</td><td>█▆▁▃▂</td></tr><tr><td>val_accuracy</td><td>▁▁▁▁▁</td></tr><tr><td>val_f1</td><td>▁▁▁▁▁</td></tr><tr><td>val_loss</td><td>█▆▅▃▁</td></tr></table><br/></div><div class=\"wandb-col\"><h3>Run summary:</h3><br/><table class=\"wandb\"><tr><td>epoch</td><td>5</td></tr><tr><td>train_accuracy</td><td>0.6</td></tr><tr><td>train_f1</td><td>0.47967</td></tr><tr><td>train_loss</td><td>0.674</td></tr><tr><td>val_accuracy</td><td>0.66667</td></tr><tr><td>val_f1</td><td>0.60513</td></tr><tr><td>val_loss</td><td>0.67585</td></tr></table><br/></div></div>"
      ],
      "text/plain": [
       "<IPython.core.display.HTML object>"
      ]
     },
     "metadata": {},
     "output_type": "display_data"
    },
    {
     "data": {
      "text/html": [
       " View run <strong style=\"color:#cdcd00\">pretty-sweep-74</strong> at: <a href='https://wandb.ai/barbonigiorgia-sapienza-universit-di-roma/graph-classification-graphs_sc/runs/4k9bamsv' target=\"_blank\">https://wandb.ai/barbonigiorgia-sapienza-universit-di-roma/graph-classification-graphs_sc/runs/4k9bamsv</a><br/> View project at: <a href='https://wandb.ai/barbonigiorgia-sapienza-universit-di-roma/graph-classification-graphs_sc' target=\"_blank\">https://wandb.ai/barbonigiorgia-sapienza-universit-di-roma/graph-classification-graphs_sc</a><br/>Synced 5 W&B file(s), 0 media file(s), 0 artifact file(s) and 0 other file(s)"
      ],
      "text/plain": [
       "<IPython.core.display.HTML object>"
      ]
     },
     "metadata": {},
     "output_type": "display_data"
    },
    {
     "data": {
      "text/html": [
       "Find logs at: <code>.\\wandb\\run-20241119_163332-4k9bamsv\\logs</code>"
      ],
      "text/plain": [
       "<IPython.core.display.HTML object>"
      ]
     },
     "metadata": {},
     "output_type": "display_data"
    },
    {
     "name": "stderr",
     "output_type": "stream",
     "text": [
      "\u001b[34m\u001b[1mwandb\u001b[0m: Agent Starting Run: 8wy9309j with config:\n",
      "\u001b[34m\u001b[1mwandb\u001b[0m: \tbatch_size: 32\n",
      "\u001b[34m\u001b[1mwandb\u001b[0m: \tin_channels: 6\n",
      "\u001b[34m\u001b[1mwandb\u001b[0m: \tlearning_rate: 0.0001\n",
      "\u001b[34m\u001b[1mwandb\u001b[0m: \tnum_epochs: 5\n",
      "\u001b[34m\u001b[1mwandb\u001b[0m: \tnum_heads: 1\n",
      "\u001b[34m\u001b[1mwandb\u001b[0m: \toptimizer: adam\n",
      "\u001b[34m\u001b[1mwandb\u001b[0m: \tout_channels: 8\n",
      "\u001b[34m\u001b[1mwandb\u001b[0m: \trandom_state: 42\n",
      "\u001b[34m\u001b[1mwandb\u001b[0m: \ttest_size: 0.3\n",
      "\u001b[34m\u001b[1mwandb\u001b[0m: \tweight_decay: 0.0001\n"
     ]
    },
    {
     "data": {
      "text/html": [
       "Tracking run with wandb version 0.18.5"
      ],
      "text/plain": [
       "<IPython.core.display.HTML object>"
      ]
     },
     "metadata": {},
     "output_type": "display_data"
    },
    {
     "data": {
      "text/html": [
       "Run data is saved locally in <code>c:\\Users\\barbo\\brain classifier repo\\brain_classifier\\src\\wandb\\run-20241119_163344-8wy9309j</code>"
      ],
      "text/plain": [
       "<IPython.core.display.HTML object>"
      ]
     },
     "metadata": {},
     "output_type": "display_data"
    },
    {
     "data": {
      "text/html": [
       "Syncing run <strong><a href='https://wandb.ai/barbonigiorgia-sapienza-universit-di-roma/graph-classification-graphs_sc/runs/8wy9309j' target=\"_blank\">cosmic-sweep-75</a></strong> to <a href='https://wandb.ai/barbonigiorgia-sapienza-universit-di-roma/graph-classification-graphs_sc' target=\"_blank\">Weights & Biases</a> (<a href='https://wandb.me/run' target=\"_blank\">docs</a>)<br/>Sweep page: <a href='https://wandb.ai/barbonigiorgia-sapienza-universit-di-roma/graph-classification-graphs_sc/sweeps/f8yd3ova' target=\"_blank\">https://wandb.ai/barbonigiorgia-sapienza-universit-di-roma/graph-classification-graphs_sc/sweeps/f8yd3ova</a>"
      ],
      "text/plain": [
       "<IPython.core.display.HTML object>"
      ]
     },
     "metadata": {},
     "output_type": "display_data"
    },
    {
     "data": {
      "text/html": [
       " View project at <a href='https://wandb.ai/barbonigiorgia-sapienza-universit-di-roma/graph-classification-graphs_sc' target=\"_blank\">https://wandb.ai/barbonigiorgia-sapienza-universit-di-roma/graph-classification-graphs_sc</a>"
      ],
      "text/plain": [
       "<IPython.core.display.HTML object>"
      ]
     },
     "metadata": {},
     "output_type": "display_data"
    },
    {
     "data": {
      "text/html": [
       " View sweep at <a href='https://wandb.ai/barbonigiorgia-sapienza-universit-di-roma/graph-classification-graphs_sc/sweeps/f8yd3ova' target=\"_blank\">https://wandb.ai/barbonigiorgia-sapienza-universit-di-roma/graph-classification-graphs_sc/sweeps/f8yd3ova</a>"
      ],
      "text/plain": [
       "<IPython.core.display.HTML object>"
      ]
     },
     "metadata": {},
     "output_type": "display_data"
    },
    {
     "data": {
      "text/html": [
       " View run at <a href='https://wandb.ai/barbonigiorgia-sapienza-universit-di-roma/graph-classification-graphs_sc/runs/8wy9309j' target=\"_blank\">https://wandb.ai/barbonigiorgia-sapienza-universit-di-roma/graph-classification-graphs_sc/runs/8wy9309j</a>"
      ],
      "text/plain": [
       "<IPython.core.display.HTML object>"
      ]
     },
     "metadata": {},
     "output_type": "display_data"
    },
    {
     "name": "stdout",
     "output_type": "stream",
     "text": [
      "Running with config: {'batch_size': 32, 'in_channels': 6, 'learning_rate': 0.0001, 'num_epochs': 5, 'num_heads': 1, 'optimizer': 'adam', 'out_channels': 8, 'random_state': 42, 'test_size': 0.3, 'weight_decay': 0.0001}\n"
     ]
    },
    {
     "data": {
      "text/html": [
       "<style>\n",
       "    table.wandb td:nth-child(1) { padding: 0 10px; text-align: left ; width: auto;} td:nth-child(2) {text-align: left ; width: 100%}\n",
       "    .wandb-row { display: flex; flex-direction: row; flex-wrap: wrap; justify-content: flex-start; width: 100% }\n",
       "    .wandb-col { display: flex; flex-direction: column; flex-basis: 100%; flex: 1; padding: 10px; }\n",
       "    </style>\n",
       "<div class=\"wandb-row\"><div class=\"wandb-col\"><h3>Run history:</h3><br/><table class=\"wandb\"><tr><td>epoch</td><td>▁▃▅▆█</td></tr><tr><td>train_accuracy</td><td>▁▁▁▁▁</td></tr><tr><td>train_f1</td><td>▁▁▁▁▁</td></tr><tr><td>train_loss</td><td>█▆▁▃▂</td></tr><tr><td>val_accuracy</td><td>▁▁▁▁▁</td></tr><tr><td>val_f1</td><td>▁▁▁▁▁</td></tr><tr><td>val_loss</td><td>█▆▅▃▁</td></tr></table><br/></div><div class=\"wandb-col\"><h3>Run summary:</h3><br/><table class=\"wandb\"><tr><td>epoch</td><td>5</td></tr><tr><td>train_accuracy</td><td>0.6</td></tr><tr><td>train_f1</td><td>0.47967</td></tr><tr><td>train_loss</td><td>0.674</td></tr><tr><td>val_accuracy</td><td>0.66667</td></tr><tr><td>val_f1</td><td>0.60513</td></tr><tr><td>val_loss</td><td>0.67585</td></tr></table><br/></div></div>"
      ],
      "text/plain": [
       "<IPython.core.display.HTML object>"
      ]
     },
     "metadata": {},
     "output_type": "display_data"
    },
    {
     "data": {
      "text/html": [
       " View run <strong style=\"color:#cdcd00\">cosmic-sweep-75</strong> at: <a href='https://wandb.ai/barbonigiorgia-sapienza-universit-di-roma/graph-classification-graphs_sc/runs/8wy9309j' target=\"_blank\">https://wandb.ai/barbonigiorgia-sapienza-universit-di-roma/graph-classification-graphs_sc/runs/8wy9309j</a><br/> View project at: <a href='https://wandb.ai/barbonigiorgia-sapienza-universit-di-roma/graph-classification-graphs_sc' target=\"_blank\">https://wandb.ai/barbonigiorgia-sapienza-universit-di-roma/graph-classification-graphs_sc</a><br/>Synced 5 W&B file(s), 0 media file(s), 0 artifact file(s) and 0 other file(s)"
      ],
      "text/plain": [
       "<IPython.core.display.HTML object>"
      ]
     },
     "metadata": {},
     "output_type": "display_data"
    },
    {
     "data": {
      "text/html": [
       "Find logs at: <code>.\\wandb\\run-20241119_163344-8wy9309j\\logs</code>"
      ],
      "text/plain": [
       "<IPython.core.display.HTML object>"
      ]
     },
     "metadata": {},
     "output_type": "display_data"
    },
    {
     "name": "stderr",
     "output_type": "stream",
     "text": [
      "\u001b[34m\u001b[1mwandb\u001b[0m: Agent Starting Run: kdr0tenp with config:\n",
      "\u001b[34m\u001b[1mwandb\u001b[0m: \tbatch_size: 32\n",
      "\u001b[34m\u001b[1mwandb\u001b[0m: \tin_channels: 6\n",
      "\u001b[34m\u001b[1mwandb\u001b[0m: \tlearning_rate: 0.0001\n",
      "\u001b[34m\u001b[1mwandb\u001b[0m: \tnum_epochs: 5\n",
      "\u001b[34m\u001b[1mwandb\u001b[0m: \tnum_heads: 1\n",
      "\u001b[34m\u001b[1mwandb\u001b[0m: \toptimizer: adam\n",
      "\u001b[34m\u001b[1mwandb\u001b[0m: \tout_channels: 16\n",
      "\u001b[34m\u001b[1mwandb\u001b[0m: \trandom_state: 42\n",
      "\u001b[34m\u001b[1mwandb\u001b[0m: \ttest_size: 0.3\n",
      "\u001b[34m\u001b[1mwandb\u001b[0m: \tweight_decay: 0\n"
     ]
    },
    {
     "data": {
      "text/html": [
       "Tracking run with wandb version 0.18.5"
      ],
      "text/plain": [
       "<IPython.core.display.HTML object>"
      ]
     },
     "metadata": {},
     "output_type": "display_data"
    },
    {
     "data": {
      "text/html": [
       "Run data is saved locally in <code>c:\\Users\\barbo\\brain classifier repo\\brain_classifier\\src\\wandb\\run-20241119_163354-kdr0tenp</code>"
      ],
      "text/plain": [
       "<IPython.core.display.HTML object>"
      ]
     },
     "metadata": {},
     "output_type": "display_data"
    },
    {
     "data": {
      "text/html": [
       "Syncing run <strong><a href='https://wandb.ai/barbonigiorgia-sapienza-universit-di-roma/graph-classification-graphs_sc/runs/kdr0tenp' target=\"_blank\">decent-sweep-76</a></strong> to <a href='https://wandb.ai/barbonigiorgia-sapienza-universit-di-roma/graph-classification-graphs_sc' target=\"_blank\">Weights & Biases</a> (<a href='https://wandb.me/run' target=\"_blank\">docs</a>)<br/>Sweep page: <a href='https://wandb.ai/barbonigiorgia-sapienza-universit-di-roma/graph-classification-graphs_sc/sweeps/f8yd3ova' target=\"_blank\">https://wandb.ai/barbonigiorgia-sapienza-universit-di-roma/graph-classification-graphs_sc/sweeps/f8yd3ova</a>"
      ],
      "text/plain": [
       "<IPython.core.display.HTML object>"
      ]
     },
     "metadata": {},
     "output_type": "display_data"
    },
    {
     "data": {
      "text/html": [
       " View project at <a href='https://wandb.ai/barbonigiorgia-sapienza-universit-di-roma/graph-classification-graphs_sc' target=\"_blank\">https://wandb.ai/barbonigiorgia-sapienza-universit-di-roma/graph-classification-graphs_sc</a>"
      ],
      "text/plain": [
       "<IPython.core.display.HTML object>"
      ]
     },
     "metadata": {},
     "output_type": "display_data"
    },
    {
     "data": {
      "text/html": [
       " View sweep at <a href='https://wandb.ai/barbonigiorgia-sapienza-universit-di-roma/graph-classification-graphs_sc/sweeps/f8yd3ova' target=\"_blank\">https://wandb.ai/barbonigiorgia-sapienza-universit-di-roma/graph-classification-graphs_sc/sweeps/f8yd3ova</a>"
      ],
      "text/plain": [
       "<IPython.core.display.HTML object>"
      ]
     },
     "metadata": {},
     "output_type": "display_data"
    },
    {
     "data": {
      "text/html": [
       " View run at <a href='https://wandb.ai/barbonigiorgia-sapienza-universit-di-roma/graph-classification-graphs_sc/runs/kdr0tenp' target=\"_blank\">https://wandb.ai/barbonigiorgia-sapienza-universit-di-roma/graph-classification-graphs_sc/runs/kdr0tenp</a>"
      ],
      "text/plain": [
       "<IPython.core.display.HTML object>"
      ]
     },
     "metadata": {},
     "output_type": "display_data"
    },
    {
     "name": "stdout",
     "output_type": "stream",
     "text": [
      "Running with config: {'batch_size': 32, 'in_channels': 6, 'learning_rate': 0.0001, 'num_epochs': 5, 'num_heads': 1, 'optimizer': 'adam', 'out_channels': 16, 'random_state': 42, 'test_size': 0.3, 'weight_decay': 0}\n"
     ]
    },
    {
     "data": {
      "text/html": [
       "<style>\n",
       "    table.wandb td:nth-child(1) { padding: 0 10px; text-align: left ; width: auto;} td:nth-child(2) {text-align: left ; width: 100%}\n",
       "    .wandb-row { display: flex; flex-direction: row; flex-wrap: wrap; justify-content: flex-start; width: 100% }\n",
       "    .wandb-col { display: flex; flex-direction: column; flex-basis: 100%; flex: 1; padding: 10px; }\n",
       "    </style>\n",
       "<div class=\"wandb-row\"><div class=\"wandb-col\"><h3>Run history:</h3><br/><table class=\"wandb\"><tr><td>epoch</td><td>▁▃▅▆█</td></tr><tr><td>train_accuracy</td><td>▁▁▁▁▁</td></tr><tr><td>train_f1</td><td>▁▁▁▁▁</td></tr><tr><td>train_loss</td><td>▁▅▂█▇</td></tr><tr><td>val_accuracy</td><td>▁▁▁▁▁</td></tr><tr><td>val_f1</td><td>▁▁▁▁▁</td></tr><tr><td>val_loss</td><td>█▆▅▃▁</td></tr></table><br/></div><div class=\"wandb-col\"><h3>Run summary:</h3><br/><table class=\"wandb\"><tr><td>epoch</td><td>5</td></tr><tr><td>train_accuracy</td><td>0.568</td></tr><tr><td>train_f1</td><td>0.41151</td></tr><tr><td>train_loss</td><td>0.6926</td></tr><tr><td>val_accuracy</td><td>0.55556</td></tr><tr><td>val_f1</td><td>0.39683</td></tr><tr><td>val_loss</td><td>0.6952</td></tr></table><br/></div></div>"
      ],
      "text/plain": [
       "<IPython.core.display.HTML object>"
      ]
     },
     "metadata": {},
     "output_type": "display_data"
    },
    {
     "data": {
      "text/html": [
       " View run <strong style=\"color:#cdcd00\">decent-sweep-76</strong> at: <a href='https://wandb.ai/barbonigiorgia-sapienza-universit-di-roma/graph-classification-graphs_sc/runs/kdr0tenp' target=\"_blank\">https://wandb.ai/barbonigiorgia-sapienza-universit-di-roma/graph-classification-graphs_sc/runs/kdr0tenp</a><br/> View project at: <a href='https://wandb.ai/barbonigiorgia-sapienza-universit-di-roma/graph-classification-graphs_sc' target=\"_blank\">https://wandb.ai/barbonigiorgia-sapienza-universit-di-roma/graph-classification-graphs_sc</a><br/>Synced 5 W&B file(s), 0 media file(s), 2 artifact file(s) and 0 other file(s)"
      ],
      "text/plain": [
       "<IPython.core.display.HTML object>"
      ]
     },
     "metadata": {},
     "output_type": "display_data"
    },
    {
     "data": {
      "text/html": [
       "Find logs at: <code>.\\wandb\\run-20241119_163354-kdr0tenp\\logs</code>"
      ],
      "text/plain": [
       "<IPython.core.display.HTML object>"
      ]
     },
     "metadata": {},
     "output_type": "display_data"
    },
    {
     "name": "stderr",
     "output_type": "stream",
     "text": [
      "\u001b[34m\u001b[1mwandb\u001b[0m: Agent Starting Run: u1lmmull with config:\n",
      "\u001b[34m\u001b[1mwandb\u001b[0m: \tbatch_size: 32\n",
      "\u001b[34m\u001b[1mwandb\u001b[0m: \tin_channels: 6\n",
      "\u001b[34m\u001b[1mwandb\u001b[0m: \tlearning_rate: 0.0001\n",
      "\u001b[34m\u001b[1mwandb\u001b[0m: \tnum_epochs: 5\n",
      "\u001b[34m\u001b[1mwandb\u001b[0m: \tnum_heads: 1\n",
      "\u001b[34m\u001b[1mwandb\u001b[0m: \toptimizer: adam\n",
      "\u001b[34m\u001b[1mwandb\u001b[0m: \tout_channels: 16\n",
      "\u001b[34m\u001b[1mwandb\u001b[0m: \trandom_state: 42\n",
      "\u001b[34m\u001b[1mwandb\u001b[0m: \ttest_size: 0.3\n",
      "\u001b[34m\u001b[1mwandb\u001b[0m: \tweight_decay: 1e-05\n"
     ]
    },
    {
     "data": {
      "text/html": [
       "Tracking run with wandb version 0.18.5"
      ],
      "text/plain": [
       "<IPython.core.display.HTML object>"
      ]
     },
     "metadata": {},
     "output_type": "display_data"
    },
    {
     "data": {
      "text/html": [
       "Run data is saved locally in <code>c:\\Users\\barbo\\brain classifier repo\\brain_classifier\\src\\wandb\\run-20241119_163405-u1lmmull</code>"
      ],
      "text/plain": [
       "<IPython.core.display.HTML object>"
      ]
     },
     "metadata": {},
     "output_type": "display_data"
    },
    {
     "data": {
      "text/html": [
       "Syncing run <strong><a href='https://wandb.ai/barbonigiorgia-sapienza-universit-di-roma/graph-classification-graphs_sc/runs/u1lmmull' target=\"_blank\">happy-sweep-77</a></strong> to <a href='https://wandb.ai/barbonigiorgia-sapienza-universit-di-roma/graph-classification-graphs_sc' target=\"_blank\">Weights & Biases</a> (<a href='https://wandb.me/run' target=\"_blank\">docs</a>)<br/>Sweep page: <a href='https://wandb.ai/barbonigiorgia-sapienza-universit-di-roma/graph-classification-graphs_sc/sweeps/f8yd3ova' target=\"_blank\">https://wandb.ai/barbonigiorgia-sapienza-universit-di-roma/graph-classification-graphs_sc/sweeps/f8yd3ova</a>"
      ],
      "text/plain": [
       "<IPython.core.display.HTML object>"
      ]
     },
     "metadata": {},
     "output_type": "display_data"
    },
    {
     "data": {
      "text/html": [
       " View project at <a href='https://wandb.ai/barbonigiorgia-sapienza-universit-di-roma/graph-classification-graphs_sc' target=\"_blank\">https://wandb.ai/barbonigiorgia-sapienza-universit-di-roma/graph-classification-graphs_sc</a>"
      ],
      "text/plain": [
       "<IPython.core.display.HTML object>"
      ]
     },
     "metadata": {},
     "output_type": "display_data"
    },
    {
     "data": {
      "text/html": [
       " View sweep at <a href='https://wandb.ai/barbonigiorgia-sapienza-universit-di-roma/graph-classification-graphs_sc/sweeps/f8yd3ova' target=\"_blank\">https://wandb.ai/barbonigiorgia-sapienza-universit-di-roma/graph-classification-graphs_sc/sweeps/f8yd3ova</a>"
      ],
      "text/plain": [
       "<IPython.core.display.HTML object>"
      ]
     },
     "metadata": {},
     "output_type": "display_data"
    },
    {
     "data": {
      "text/html": [
       " View run at <a href='https://wandb.ai/barbonigiorgia-sapienza-universit-di-roma/graph-classification-graphs_sc/runs/u1lmmull' target=\"_blank\">https://wandb.ai/barbonigiorgia-sapienza-universit-di-roma/graph-classification-graphs_sc/runs/u1lmmull</a>"
      ],
      "text/plain": [
       "<IPython.core.display.HTML object>"
      ]
     },
     "metadata": {},
     "output_type": "display_data"
    },
    {
     "name": "stdout",
     "output_type": "stream",
     "text": [
      "Running with config: {'batch_size': 32, 'in_channels': 6, 'learning_rate': 0.0001, 'num_epochs': 5, 'num_heads': 1, 'optimizer': 'adam', 'out_channels': 16, 'random_state': 42, 'test_size': 0.3, 'weight_decay': 1e-05}\n"
     ]
    },
    {
     "data": {
      "text/html": [
       "<style>\n",
       "    table.wandb td:nth-child(1) { padding: 0 10px; text-align: left ; width: auto;} td:nth-child(2) {text-align: left ; width: 100%}\n",
       "    .wandb-row { display: flex; flex-direction: row; flex-wrap: wrap; justify-content: flex-start; width: 100% }\n",
       "    .wandb-col { display: flex; flex-direction: column; flex-basis: 100%; flex: 1; padding: 10px; }\n",
       "    </style>\n",
       "<div class=\"wandb-row\"><div class=\"wandb-col\"><h3>Run history:</h3><br/><table class=\"wandb\"><tr><td>epoch</td><td>▁▃▅▆█</td></tr><tr><td>train_accuracy</td><td>▁▁▁▁▁</td></tr><tr><td>train_f1</td><td>▁▁▁▁▁</td></tr><tr><td>train_loss</td><td>▁▅▂█▇</td></tr><tr><td>val_accuracy</td><td>▁▁▁▁▁</td></tr><tr><td>val_f1</td><td>▁▁▁▁▁</td></tr><tr><td>val_loss</td><td>█▆▅▃▁</td></tr></table><br/></div><div class=\"wandb-col\"><h3>Run summary:</h3><br/><table class=\"wandb\"><tr><td>epoch</td><td>5</td></tr><tr><td>train_accuracy</td><td>0.568</td></tr><tr><td>train_f1</td><td>0.41151</td></tr><tr><td>train_loss</td><td>0.6926</td></tr><tr><td>val_accuracy</td><td>0.55556</td></tr><tr><td>val_f1</td><td>0.39683</td></tr><tr><td>val_loss</td><td>0.6952</td></tr></table><br/></div></div>"
      ],
      "text/plain": [
       "<IPython.core.display.HTML object>"
      ]
     },
     "metadata": {},
     "output_type": "display_data"
    },
    {
     "data": {
      "text/html": [
       " View run <strong style=\"color:#cdcd00\">happy-sweep-77</strong> at: <a href='https://wandb.ai/barbonigiorgia-sapienza-universit-di-roma/graph-classification-graphs_sc/runs/u1lmmull' target=\"_blank\">https://wandb.ai/barbonigiorgia-sapienza-universit-di-roma/graph-classification-graphs_sc/runs/u1lmmull</a><br/> View project at: <a href='https://wandb.ai/barbonigiorgia-sapienza-universit-di-roma/graph-classification-graphs_sc' target=\"_blank\">https://wandb.ai/barbonigiorgia-sapienza-universit-di-roma/graph-classification-graphs_sc</a><br/>Synced 5 W&B file(s), 0 media file(s), 4 artifact file(s) and 0 other file(s)"
      ],
      "text/plain": [
       "<IPython.core.display.HTML object>"
      ]
     },
     "metadata": {},
     "output_type": "display_data"
    },
    {
     "data": {
      "text/html": [
       "Find logs at: <code>.\\wandb\\run-20241119_163405-u1lmmull\\logs</code>"
      ],
      "text/plain": [
       "<IPython.core.display.HTML object>"
      ]
     },
     "metadata": {},
     "output_type": "display_data"
    },
    {
     "name": "stderr",
     "output_type": "stream",
     "text": [
      "\u001b[34m\u001b[1mwandb\u001b[0m: Sweep Agent: Waiting for job.\n",
      "\u001b[34m\u001b[1mwandb\u001b[0m: Job received.\n",
      "\u001b[34m\u001b[1mwandb\u001b[0m: Agent Starting Run: nax7ft7u with config:\n",
      "\u001b[34m\u001b[1mwandb\u001b[0m: \tbatch_size: 32\n",
      "\u001b[34m\u001b[1mwandb\u001b[0m: \tin_channels: 6\n",
      "\u001b[34m\u001b[1mwandb\u001b[0m: \tlearning_rate: 0.0001\n",
      "\u001b[34m\u001b[1mwandb\u001b[0m: \tnum_epochs: 5\n",
      "\u001b[34m\u001b[1mwandb\u001b[0m: \tnum_heads: 1\n",
      "\u001b[34m\u001b[1mwandb\u001b[0m: \toptimizer: adam\n",
      "\u001b[34m\u001b[1mwandb\u001b[0m: \tout_channels: 16\n",
      "\u001b[34m\u001b[1mwandb\u001b[0m: \trandom_state: 42\n",
      "\u001b[34m\u001b[1mwandb\u001b[0m: \ttest_size: 0.3\n",
      "\u001b[34m\u001b[1mwandb\u001b[0m: \tweight_decay: 0.0001\n"
     ]
    },
    {
     "data": {
      "text/html": [
       "Tracking run with wandb version 0.18.5"
      ],
      "text/plain": [
       "<IPython.core.display.HTML object>"
      ]
     },
     "metadata": {},
     "output_type": "display_data"
    },
    {
     "data": {
      "text/html": [
       "Run data is saved locally in <code>c:\\Users\\barbo\\brain classifier repo\\brain_classifier\\src\\wandb\\run-20241119_163426-nax7ft7u</code>"
      ],
      "text/plain": [
       "<IPython.core.display.HTML object>"
      ]
     },
     "metadata": {},
     "output_type": "display_data"
    },
    {
     "data": {
      "text/html": [
       "Syncing run <strong><a href='https://wandb.ai/barbonigiorgia-sapienza-universit-di-roma/graph-classification-graphs_sc/runs/nax7ft7u' target=\"_blank\">easy-sweep-78</a></strong> to <a href='https://wandb.ai/barbonigiorgia-sapienza-universit-di-roma/graph-classification-graphs_sc' target=\"_blank\">Weights & Biases</a> (<a href='https://wandb.me/run' target=\"_blank\">docs</a>)<br/>Sweep page: <a href='https://wandb.ai/barbonigiorgia-sapienza-universit-di-roma/graph-classification-graphs_sc/sweeps/f8yd3ova' target=\"_blank\">https://wandb.ai/barbonigiorgia-sapienza-universit-di-roma/graph-classification-graphs_sc/sweeps/f8yd3ova</a>"
      ],
      "text/plain": [
       "<IPython.core.display.HTML object>"
      ]
     },
     "metadata": {},
     "output_type": "display_data"
    },
    {
     "data": {
      "text/html": [
       " View project at <a href='https://wandb.ai/barbonigiorgia-sapienza-universit-di-roma/graph-classification-graphs_sc' target=\"_blank\">https://wandb.ai/barbonigiorgia-sapienza-universit-di-roma/graph-classification-graphs_sc</a>"
      ],
      "text/plain": [
       "<IPython.core.display.HTML object>"
      ]
     },
     "metadata": {},
     "output_type": "display_data"
    },
    {
     "data": {
      "text/html": [
       " View sweep at <a href='https://wandb.ai/barbonigiorgia-sapienza-universit-di-roma/graph-classification-graphs_sc/sweeps/f8yd3ova' target=\"_blank\">https://wandb.ai/barbonigiorgia-sapienza-universit-di-roma/graph-classification-graphs_sc/sweeps/f8yd3ova</a>"
      ],
      "text/plain": [
       "<IPython.core.display.HTML object>"
      ]
     },
     "metadata": {},
     "output_type": "display_data"
    },
    {
     "data": {
      "text/html": [
       " View run at <a href='https://wandb.ai/barbonigiorgia-sapienza-universit-di-roma/graph-classification-graphs_sc/runs/nax7ft7u' target=\"_blank\">https://wandb.ai/barbonigiorgia-sapienza-universit-di-roma/graph-classification-graphs_sc/runs/nax7ft7u</a>"
      ],
      "text/plain": [
       "<IPython.core.display.HTML object>"
      ]
     },
     "metadata": {},
     "output_type": "display_data"
    },
    {
     "name": "stdout",
     "output_type": "stream",
     "text": [
      "Running with config: {'batch_size': 32, 'in_channels': 6, 'learning_rate': 0.0001, 'num_epochs': 5, 'num_heads': 1, 'optimizer': 'adam', 'out_channels': 16, 'random_state': 42, 'test_size': 0.3, 'weight_decay': 0.0001}\n"
     ]
    },
    {
     "data": {
      "text/html": [
       "<style>\n",
       "    table.wandb td:nth-child(1) { padding: 0 10px; text-align: left ; width: auto;} td:nth-child(2) {text-align: left ; width: 100%}\n",
       "    .wandb-row { display: flex; flex-direction: row; flex-wrap: wrap; justify-content: flex-start; width: 100% }\n",
       "    .wandb-col { display: flex; flex-direction: column; flex-basis: 100%; flex: 1; padding: 10px; }\n",
       "    </style>\n",
       "<div class=\"wandb-row\"><div class=\"wandb-col\"><h3>Run history:</h3><br/><table class=\"wandb\"><tr><td>epoch</td><td>▁▃▅▆█</td></tr><tr><td>train_accuracy</td><td>▁▁▁▁▁</td></tr><tr><td>train_f1</td><td>▁▁▁▁▁</td></tr><tr><td>train_loss</td><td>▁▅▂█▇</td></tr><tr><td>val_accuracy</td><td>▁▁▁▁▁</td></tr><tr><td>val_f1</td><td>▁▁▁▁▁</td></tr><tr><td>val_loss</td><td>█▆▅▃▁</td></tr></table><br/></div><div class=\"wandb-col\"><h3>Run summary:</h3><br/><table class=\"wandb\"><tr><td>epoch</td><td>5</td></tr><tr><td>train_accuracy</td><td>0.568</td></tr><tr><td>train_f1</td><td>0.41151</td></tr><tr><td>train_loss</td><td>0.6926</td></tr><tr><td>val_accuracy</td><td>0.55556</td></tr><tr><td>val_f1</td><td>0.39683</td></tr><tr><td>val_loss</td><td>0.6952</td></tr></table><br/></div></div>"
      ],
      "text/plain": [
       "<IPython.core.display.HTML object>"
      ]
     },
     "metadata": {},
     "output_type": "display_data"
    },
    {
     "data": {
      "text/html": [
       " View run <strong style=\"color:#cdcd00\">easy-sweep-78</strong> at: <a href='https://wandb.ai/barbonigiorgia-sapienza-universit-di-roma/graph-classification-graphs_sc/runs/nax7ft7u' target=\"_blank\">https://wandb.ai/barbonigiorgia-sapienza-universit-di-roma/graph-classification-graphs_sc/runs/nax7ft7u</a><br/> View project at: <a href='https://wandb.ai/barbonigiorgia-sapienza-universit-di-roma/graph-classification-graphs_sc' target=\"_blank\">https://wandb.ai/barbonigiorgia-sapienza-universit-di-roma/graph-classification-graphs_sc</a><br/>Synced 5 W&B file(s), 0 media file(s), 2 artifact file(s) and 0 other file(s)"
      ],
      "text/plain": [
       "<IPython.core.display.HTML object>"
      ]
     },
     "metadata": {},
     "output_type": "display_data"
    },
    {
     "data": {
      "text/html": [
       "Find logs at: <code>.\\wandb\\run-20241119_163426-nax7ft7u\\logs</code>"
      ],
      "text/plain": [
       "<IPython.core.display.HTML object>"
      ]
     },
     "metadata": {},
     "output_type": "display_data"
    },
    {
     "name": "stderr",
     "output_type": "stream",
     "text": [
      "\u001b[34m\u001b[1mwandb\u001b[0m: Agent Starting Run: jcyqkkt0 with config:\n",
      "\u001b[34m\u001b[1mwandb\u001b[0m: \tbatch_size: 32\n",
      "\u001b[34m\u001b[1mwandb\u001b[0m: \tin_channels: 6\n",
      "\u001b[34m\u001b[1mwandb\u001b[0m: \tlearning_rate: 0.0001\n",
      "\u001b[34m\u001b[1mwandb\u001b[0m: \tnum_epochs: 5\n",
      "\u001b[34m\u001b[1mwandb\u001b[0m: \tnum_heads: 2\n",
      "\u001b[34m\u001b[1mwandb\u001b[0m: \toptimizer: adam\n",
      "\u001b[34m\u001b[1mwandb\u001b[0m: \tout_channels: 8\n",
      "\u001b[34m\u001b[1mwandb\u001b[0m: \trandom_state: 42\n",
      "\u001b[34m\u001b[1mwandb\u001b[0m: \ttest_size: 0.3\n",
      "\u001b[34m\u001b[1mwandb\u001b[0m: \tweight_decay: 0\n"
     ]
    },
    {
     "data": {
      "text/html": [
       "Tracking run with wandb version 0.18.5"
      ],
      "text/plain": [
       "<IPython.core.display.HTML object>"
      ]
     },
     "metadata": {},
     "output_type": "display_data"
    },
    {
     "data": {
      "text/html": [
       "Run data is saved locally in <code>c:\\Users\\barbo\\brain classifier repo\\brain_classifier\\src\\wandb\\run-20241119_163442-jcyqkkt0</code>"
      ],
      "text/plain": [
       "<IPython.core.display.HTML object>"
      ]
     },
     "metadata": {},
     "output_type": "display_data"
    },
    {
     "data": {
      "text/html": [
       "Syncing run <strong><a href='https://wandb.ai/barbonigiorgia-sapienza-universit-di-roma/graph-classification-graphs_sc/runs/jcyqkkt0' target=\"_blank\">wobbly-sweep-79</a></strong> to <a href='https://wandb.ai/barbonigiorgia-sapienza-universit-di-roma/graph-classification-graphs_sc' target=\"_blank\">Weights & Biases</a> (<a href='https://wandb.me/run' target=\"_blank\">docs</a>)<br/>Sweep page: <a href='https://wandb.ai/barbonigiorgia-sapienza-universit-di-roma/graph-classification-graphs_sc/sweeps/f8yd3ova' target=\"_blank\">https://wandb.ai/barbonigiorgia-sapienza-universit-di-roma/graph-classification-graphs_sc/sweeps/f8yd3ova</a>"
      ],
      "text/plain": [
       "<IPython.core.display.HTML object>"
      ]
     },
     "metadata": {},
     "output_type": "display_data"
    },
    {
     "data": {
      "text/html": [
       " View project at <a href='https://wandb.ai/barbonigiorgia-sapienza-universit-di-roma/graph-classification-graphs_sc' target=\"_blank\">https://wandb.ai/barbonigiorgia-sapienza-universit-di-roma/graph-classification-graphs_sc</a>"
      ],
      "text/plain": [
       "<IPython.core.display.HTML object>"
      ]
     },
     "metadata": {},
     "output_type": "display_data"
    },
    {
     "data": {
      "text/html": [
       " View sweep at <a href='https://wandb.ai/barbonigiorgia-sapienza-universit-di-roma/graph-classification-graphs_sc/sweeps/f8yd3ova' target=\"_blank\">https://wandb.ai/barbonigiorgia-sapienza-universit-di-roma/graph-classification-graphs_sc/sweeps/f8yd3ova</a>"
      ],
      "text/plain": [
       "<IPython.core.display.HTML object>"
      ]
     },
     "metadata": {},
     "output_type": "display_data"
    },
    {
     "data": {
      "text/html": [
       " View run at <a href='https://wandb.ai/barbonigiorgia-sapienza-universit-di-roma/graph-classification-graphs_sc/runs/jcyqkkt0' target=\"_blank\">https://wandb.ai/barbonigiorgia-sapienza-universit-di-roma/graph-classification-graphs_sc/runs/jcyqkkt0</a>"
      ],
      "text/plain": [
       "<IPython.core.display.HTML object>"
      ]
     },
     "metadata": {},
     "output_type": "display_data"
    },
    {
     "name": "stdout",
     "output_type": "stream",
     "text": [
      "Running with config: {'batch_size': 32, 'in_channels': 6, 'learning_rate': 0.0001, 'num_epochs': 5, 'num_heads': 2, 'optimizer': 'adam', 'out_channels': 8, 'random_state': 42, 'test_size': 0.3, 'weight_decay': 0}\n"
     ]
    },
    {
     "data": {
      "text/html": [
       "<style>\n",
       "    table.wandb td:nth-child(1) { padding: 0 10px; text-align: left ; width: auto;} td:nth-child(2) {text-align: left ; width: 100%}\n",
       "    .wandb-row { display: flex; flex-direction: row; flex-wrap: wrap; justify-content: flex-start; width: 100% }\n",
       "    .wandb-col { display: flex; flex-direction: column; flex-basis: 100%; flex: 1; padding: 10px; }\n",
       "    </style>\n",
       "<div class=\"wandb-row\"><div class=\"wandb-col\"><h3>Run history:</h3><br/><table class=\"wandb\"><tr><td>epoch</td><td>▁▃▅▆█</td></tr><tr><td>train_accuracy</td><td>███▁▁</td></tr><tr><td>train_f1</td><td>███▁▁</td></tr><tr><td>train_loss</td><td>█▅▃▂▁</td></tr><tr><td>val_accuracy</td><td>▁▁▁▁▁</td></tr><tr><td>val_f1</td><td>▁▁▁▁▁</td></tr><tr><td>val_loss</td><td>█▆▅▃▁</td></tr></table><br/></div><div class=\"wandb-col\"><h3>Run summary:</h3><br/><table class=\"wandb\"><tr><td>epoch</td><td>5</td></tr><tr><td>train_accuracy</td><td>0.632</td></tr><tr><td>train_f1</td><td>0.55691</td></tr><tr><td>train_loss</td><td>0.67439</td></tr><tr><td>val_accuracy</td><td>0.66667</td></tr><tr><td>val_f1</td><td>0.60513</td></tr><tr><td>val_loss</td><td>0.6763</td></tr></table><br/></div></div>"
      ],
      "text/plain": [
       "<IPython.core.display.HTML object>"
      ]
     },
     "metadata": {},
     "output_type": "display_data"
    },
    {
     "data": {
      "text/html": [
       " View run <strong style=\"color:#cdcd00\">wobbly-sweep-79</strong> at: <a href='https://wandb.ai/barbonigiorgia-sapienza-universit-di-roma/graph-classification-graphs_sc/runs/jcyqkkt0' target=\"_blank\">https://wandb.ai/barbonigiorgia-sapienza-universit-di-roma/graph-classification-graphs_sc/runs/jcyqkkt0</a><br/> View project at: <a href='https://wandb.ai/barbonigiorgia-sapienza-universit-di-roma/graph-classification-graphs_sc' target=\"_blank\">https://wandb.ai/barbonigiorgia-sapienza-universit-di-roma/graph-classification-graphs_sc</a><br/>Synced 5 W&B file(s), 0 media file(s), 0 artifact file(s) and 0 other file(s)"
      ],
      "text/plain": [
       "<IPython.core.display.HTML object>"
      ]
     },
     "metadata": {},
     "output_type": "display_data"
    },
    {
     "data": {
      "text/html": [
       "Find logs at: <code>.\\wandb\\run-20241119_163442-jcyqkkt0\\logs</code>"
      ],
      "text/plain": [
       "<IPython.core.display.HTML object>"
      ]
     },
     "metadata": {},
     "output_type": "display_data"
    },
    {
     "name": "stderr",
     "output_type": "stream",
     "text": [
      "\u001b[34m\u001b[1mwandb\u001b[0m: Sweep Agent: Waiting for job.\n",
      "\u001b[34m\u001b[1mwandb\u001b[0m: Job received.\n",
      "\u001b[34m\u001b[1mwandb\u001b[0m: Agent Starting Run: cb9itxy4 with config:\n",
      "\u001b[34m\u001b[1mwandb\u001b[0m: \tbatch_size: 32\n",
      "\u001b[34m\u001b[1mwandb\u001b[0m: \tin_channels: 6\n",
      "\u001b[34m\u001b[1mwandb\u001b[0m: \tlearning_rate: 0.0001\n",
      "\u001b[34m\u001b[1mwandb\u001b[0m: \tnum_epochs: 5\n",
      "\u001b[34m\u001b[1mwandb\u001b[0m: \tnum_heads: 2\n",
      "\u001b[34m\u001b[1mwandb\u001b[0m: \toptimizer: adam\n",
      "\u001b[34m\u001b[1mwandb\u001b[0m: \tout_channels: 8\n",
      "\u001b[34m\u001b[1mwandb\u001b[0m: \trandom_state: 42\n",
      "\u001b[34m\u001b[1mwandb\u001b[0m: \ttest_size: 0.3\n",
      "\u001b[34m\u001b[1mwandb\u001b[0m: \tweight_decay: 1e-05\n"
     ]
    },
    {
     "data": {
      "text/html": [
       "Tracking run with wandb version 0.18.5"
      ],
      "text/plain": [
       "<IPython.core.display.HTML object>"
      ]
     },
     "metadata": {},
     "output_type": "display_data"
    },
    {
     "data": {
      "text/html": [
       "Run data is saved locally in <code>c:\\Users\\barbo\\brain classifier repo\\brain_classifier\\src\\wandb\\run-20241119_163502-cb9itxy4</code>"
      ],
      "text/plain": [
       "<IPython.core.display.HTML object>"
      ]
     },
     "metadata": {},
     "output_type": "display_data"
    },
    {
     "data": {
      "text/html": [
       "Syncing run <strong><a href='https://wandb.ai/barbonigiorgia-sapienza-universit-di-roma/graph-classification-graphs_sc/runs/cb9itxy4' target=\"_blank\">swift-sweep-80</a></strong> to <a href='https://wandb.ai/barbonigiorgia-sapienza-universit-di-roma/graph-classification-graphs_sc' target=\"_blank\">Weights & Biases</a> (<a href='https://wandb.me/run' target=\"_blank\">docs</a>)<br/>Sweep page: <a href='https://wandb.ai/barbonigiorgia-sapienza-universit-di-roma/graph-classification-graphs_sc/sweeps/f8yd3ova' target=\"_blank\">https://wandb.ai/barbonigiorgia-sapienza-universit-di-roma/graph-classification-graphs_sc/sweeps/f8yd3ova</a>"
      ],
      "text/plain": [
       "<IPython.core.display.HTML object>"
      ]
     },
     "metadata": {},
     "output_type": "display_data"
    },
    {
     "data": {
      "text/html": [
       " View project at <a href='https://wandb.ai/barbonigiorgia-sapienza-universit-di-roma/graph-classification-graphs_sc' target=\"_blank\">https://wandb.ai/barbonigiorgia-sapienza-universit-di-roma/graph-classification-graphs_sc</a>"
      ],
      "text/plain": [
       "<IPython.core.display.HTML object>"
      ]
     },
     "metadata": {},
     "output_type": "display_data"
    },
    {
     "data": {
      "text/html": [
       " View sweep at <a href='https://wandb.ai/barbonigiorgia-sapienza-universit-di-roma/graph-classification-graphs_sc/sweeps/f8yd3ova' target=\"_blank\">https://wandb.ai/barbonigiorgia-sapienza-universit-di-roma/graph-classification-graphs_sc/sweeps/f8yd3ova</a>"
      ],
      "text/plain": [
       "<IPython.core.display.HTML object>"
      ]
     },
     "metadata": {},
     "output_type": "display_data"
    },
    {
     "data": {
      "text/html": [
       " View run at <a href='https://wandb.ai/barbonigiorgia-sapienza-universit-di-roma/graph-classification-graphs_sc/runs/cb9itxy4' target=\"_blank\">https://wandb.ai/barbonigiorgia-sapienza-universit-di-roma/graph-classification-graphs_sc/runs/cb9itxy4</a>"
      ],
      "text/plain": [
       "<IPython.core.display.HTML object>"
      ]
     },
     "metadata": {},
     "output_type": "display_data"
    },
    {
     "name": "stdout",
     "output_type": "stream",
     "text": [
      "Running with config: {'batch_size': 32, 'in_channels': 6, 'learning_rate': 0.0001, 'num_epochs': 5, 'num_heads': 2, 'optimizer': 'adam', 'out_channels': 8, 'random_state': 42, 'test_size': 0.3, 'weight_decay': 1e-05}\n"
     ]
    },
    {
     "data": {
      "text/html": [
       "<style>\n",
       "    table.wandb td:nth-child(1) { padding: 0 10px; text-align: left ; width: auto;} td:nth-child(2) {text-align: left ; width: 100%}\n",
       "    .wandb-row { display: flex; flex-direction: row; flex-wrap: wrap; justify-content: flex-start; width: 100% }\n",
       "    .wandb-col { display: flex; flex-direction: column; flex-basis: 100%; flex: 1; padding: 10px; }\n",
       "    </style>\n",
       "<div class=\"wandb-row\"><div class=\"wandb-col\"><h3>Run history:</h3><br/><table class=\"wandb\"><tr><td>epoch</td><td>▁▃▅▆█</td></tr><tr><td>train_accuracy</td><td>███▁▁</td></tr><tr><td>train_f1</td><td>███▁▁</td></tr><tr><td>train_loss</td><td>█▅▃▂▁</td></tr><tr><td>val_accuracy</td><td>▁▁▁▁▁</td></tr><tr><td>val_f1</td><td>▁▁▁▁▁</td></tr><tr><td>val_loss</td><td>█▆▅▃▁</td></tr></table><br/></div><div class=\"wandb-col\"><h3>Run summary:</h3><br/><table class=\"wandb\"><tr><td>epoch</td><td>5</td></tr><tr><td>train_accuracy</td><td>0.632</td></tr><tr><td>train_f1</td><td>0.55691</td></tr><tr><td>train_loss</td><td>0.67439</td></tr><tr><td>val_accuracy</td><td>0.66667</td></tr><tr><td>val_f1</td><td>0.60513</td></tr><tr><td>val_loss</td><td>0.6763</td></tr></table><br/></div></div>"
      ],
      "text/plain": [
       "<IPython.core.display.HTML object>"
      ]
     },
     "metadata": {},
     "output_type": "display_data"
    },
    {
     "data": {
      "text/html": [
       " View run <strong style=\"color:#cdcd00\">swift-sweep-80</strong> at: <a href='https://wandb.ai/barbonigiorgia-sapienza-universit-di-roma/graph-classification-graphs_sc/runs/cb9itxy4' target=\"_blank\">https://wandb.ai/barbonigiorgia-sapienza-universit-di-roma/graph-classification-graphs_sc/runs/cb9itxy4</a><br/> View project at: <a href='https://wandb.ai/barbonigiorgia-sapienza-universit-di-roma/graph-classification-graphs_sc' target=\"_blank\">https://wandb.ai/barbonigiorgia-sapienza-universit-di-roma/graph-classification-graphs_sc</a><br/>Synced 5 W&B file(s), 0 media file(s), 2 artifact file(s) and 0 other file(s)"
      ],
      "text/plain": [
       "<IPython.core.display.HTML object>"
      ]
     },
     "metadata": {},
     "output_type": "display_data"
    },
    {
     "data": {
      "text/html": [
       "Find logs at: <code>.\\wandb\\run-20241119_163502-cb9itxy4\\logs</code>"
      ],
      "text/plain": [
       "<IPython.core.display.HTML object>"
      ]
     },
     "metadata": {},
     "output_type": "display_data"
    },
    {
     "name": "stderr",
     "output_type": "stream",
     "text": [
      "\u001b[34m\u001b[1mwandb\u001b[0m: Agent Starting Run: yuz5zsvk with config:\n",
      "\u001b[34m\u001b[1mwandb\u001b[0m: \tbatch_size: 32\n",
      "\u001b[34m\u001b[1mwandb\u001b[0m: \tin_channels: 6\n",
      "\u001b[34m\u001b[1mwandb\u001b[0m: \tlearning_rate: 0.0001\n",
      "\u001b[34m\u001b[1mwandb\u001b[0m: \tnum_epochs: 5\n",
      "\u001b[34m\u001b[1mwandb\u001b[0m: \tnum_heads: 2\n",
      "\u001b[34m\u001b[1mwandb\u001b[0m: \toptimizer: adam\n",
      "\u001b[34m\u001b[1mwandb\u001b[0m: \tout_channels: 8\n",
      "\u001b[34m\u001b[1mwandb\u001b[0m: \trandom_state: 42\n",
      "\u001b[34m\u001b[1mwandb\u001b[0m: \ttest_size: 0.3\n",
      "\u001b[34m\u001b[1mwandb\u001b[0m: \tweight_decay: 0.0001\n"
     ]
    },
    {
     "data": {
      "text/html": [
       "Tracking run with wandb version 0.18.5"
      ],
      "text/plain": [
       "<IPython.core.display.HTML object>"
      ]
     },
     "metadata": {},
     "output_type": "display_data"
    },
    {
     "data": {
      "text/html": [
       "Run data is saved locally in <code>c:\\Users\\barbo\\brain classifier repo\\brain_classifier\\src\\wandb\\run-20241119_163519-yuz5zsvk</code>"
      ],
      "text/plain": [
       "<IPython.core.display.HTML object>"
      ]
     },
     "metadata": {},
     "output_type": "display_data"
    },
    {
     "data": {
      "text/html": [
       "Syncing run <strong><a href='https://wandb.ai/barbonigiorgia-sapienza-universit-di-roma/graph-classification-graphs_sc/runs/yuz5zsvk' target=\"_blank\">misty-sweep-81</a></strong> to <a href='https://wandb.ai/barbonigiorgia-sapienza-universit-di-roma/graph-classification-graphs_sc' target=\"_blank\">Weights & Biases</a> (<a href='https://wandb.me/run' target=\"_blank\">docs</a>)<br/>Sweep page: <a href='https://wandb.ai/barbonigiorgia-sapienza-universit-di-roma/graph-classification-graphs_sc/sweeps/f8yd3ova' target=\"_blank\">https://wandb.ai/barbonigiorgia-sapienza-universit-di-roma/graph-classification-graphs_sc/sweeps/f8yd3ova</a>"
      ],
      "text/plain": [
       "<IPython.core.display.HTML object>"
      ]
     },
     "metadata": {},
     "output_type": "display_data"
    },
    {
     "data": {
      "text/html": [
       " View project at <a href='https://wandb.ai/barbonigiorgia-sapienza-universit-di-roma/graph-classification-graphs_sc' target=\"_blank\">https://wandb.ai/barbonigiorgia-sapienza-universit-di-roma/graph-classification-graphs_sc</a>"
      ],
      "text/plain": [
       "<IPython.core.display.HTML object>"
      ]
     },
     "metadata": {},
     "output_type": "display_data"
    },
    {
     "data": {
      "text/html": [
       " View sweep at <a href='https://wandb.ai/barbonigiorgia-sapienza-universit-di-roma/graph-classification-graphs_sc/sweeps/f8yd3ova' target=\"_blank\">https://wandb.ai/barbonigiorgia-sapienza-universit-di-roma/graph-classification-graphs_sc/sweeps/f8yd3ova</a>"
      ],
      "text/plain": [
       "<IPython.core.display.HTML object>"
      ]
     },
     "metadata": {},
     "output_type": "display_data"
    },
    {
     "data": {
      "text/html": [
       " View run at <a href='https://wandb.ai/barbonigiorgia-sapienza-universit-di-roma/graph-classification-graphs_sc/runs/yuz5zsvk' target=\"_blank\">https://wandb.ai/barbonigiorgia-sapienza-universit-di-roma/graph-classification-graphs_sc/runs/yuz5zsvk</a>"
      ],
      "text/plain": [
       "<IPython.core.display.HTML object>"
      ]
     },
     "metadata": {},
     "output_type": "display_data"
    },
    {
     "name": "stdout",
     "output_type": "stream",
     "text": [
      "Running with config: {'batch_size': 32, 'in_channels': 6, 'learning_rate': 0.0001, 'num_epochs': 5, 'num_heads': 2, 'optimizer': 'adam', 'out_channels': 8, 'random_state': 42, 'test_size': 0.3, 'weight_decay': 0.0001}\n"
     ]
    },
    {
     "data": {
      "text/html": [
       "<style>\n",
       "    table.wandb td:nth-child(1) { padding: 0 10px; text-align: left ; width: auto;} td:nth-child(2) {text-align: left ; width: 100%}\n",
       "    .wandb-row { display: flex; flex-direction: row; flex-wrap: wrap; justify-content: flex-start; width: 100% }\n",
       "    .wandb-col { display: flex; flex-direction: column; flex-basis: 100%; flex: 1; padding: 10px; }\n",
       "    </style>\n",
       "<div class=\"wandb-row\"><div class=\"wandb-col\"><h3>Run history:</h3><br/><table class=\"wandb\"><tr><td>epoch</td><td>▁▃▅▆█</td></tr><tr><td>train_accuracy</td><td>███▁▁</td></tr><tr><td>train_f1</td><td>███▁▁</td></tr><tr><td>train_loss</td><td>█▅▃▂▁</td></tr><tr><td>val_accuracy</td><td>▁▁▁▁▁</td></tr><tr><td>val_f1</td><td>▁▁▁▁▁</td></tr><tr><td>val_loss</td><td>█▆▅▃▁</td></tr></table><br/></div><div class=\"wandb-col\"><h3>Run summary:</h3><br/><table class=\"wandb\"><tr><td>epoch</td><td>5</td></tr><tr><td>train_accuracy</td><td>0.632</td></tr><tr><td>train_f1</td><td>0.55691</td></tr><tr><td>train_loss</td><td>0.67439</td></tr><tr><td>val_accuracy</td><td>0.66667</td></tr><tr><td>val_f1</td><td>0.60513</td></tr><tr><td>val_loss</td><td>0.6763</td></tr></table><br/></div></div>"
      ],
      "text/plain": [
       "<IPython.core.display.HTML object>"
      ]
     },
     "metadata": {},
     "output_type": "display_data"
    },
    {
     "data": {
      "text/html": [
       " View run <strong style=\"color:#cdcd00\">misty-sweep-81</strong> at: <a href='https://wandb.ai/barbonigiorgia-sapienza-universit-di-roma/graph-classification-graphs_sc/runs/yuz5zsvk' target=\"_blank\">https://wandb.ai/barbonigiorgia-sapienza-universit-di-roma/graph-classification-graphs_sc/runs/yuz5zsvk</a><br/> View project at: <a href='https://wandb.ai/barbonigiorgia-sapienza-universit-di-roma/graph-classification-graphs_sc' target=\"_blank\">https://wandb.ai/barbonigiorgia-sapienza-universit-di-roma/graph-classification-graphs_sc</a><br/>Synced 5 W&B file(s), 0 media file(s), 2 artifact file(s) and 0 other file(s)"
      ],
      "text/plain": [
       "<IPython.core.display.HTML object>"
      ]
     },
     "metadata": {},
     "output_type": "display_data"
    },
    {
     "data": {
      "text/html": [
       "Find logs at: <code>.\\wandb\\run-20241119_163519-yuz5zsvk\\logs</code>"
      ],
      "text/plain": [
       "<IPython.core.display.HTML object>"
      ]
     },
     "metadata": {},
     "output_type": "display_data"
    },
    {
     "name": "stderr",
     "output_type": "stream",
     "text": [
      "\u001b[34m\u001b[1mwandb\u001b[0m: Sweep Agent: Waiting for job.\n",
      "\u001b[34m\u001b[1mwandb\u001b[0m: Job received.\n",
      "\u001b[34m\u001b[1mwandb\u001b[0m: Agent Starting Run: ic1ocrtx with config:\n",
      "\u001b[34m\u001b[1mwandb\u001b[0m: \tbatch_size: 32\n",
      "\u001b[34m\u001b[1mwandb\u001b[0m: \tin_channels: 6\n",
      "\u001b[34m\u001b[1mwandb\u001b[0m: \tlearning_rate: 0.0001\n",
      "\u001b[34m\u001b[1mwandb\u001b[0m: \tnum_epochs: 5\n",
      "\u001b[34m\u001b[1mwandb\u001b[0m: \tnum_heads: 2\n",
      "\u001b[34m\u001b[1mwandb\u001b[0m: \toptimizer: adam\n",
      "\u001b[34m\u001b[1mwandb\u001b[0m: \tout_channels: 16\n",
      "\u001b[34m\u001b[1mwandb\u001b[0m: \trandom_state: 42\n",
      "\u001b[34m\u001b[1mwandb\u001b[0m: \ttest_size: 0.3\n",
      "\u001b[34m\u001b[1mwandb\u001b[0m: \tweight_decay: 0\n"
     ]
    },
    {
     "data": {
      "text/html": [
       "Tracking run with wandb version 0.18.5"
      ],
      "text/plain": [
       "<IPython.core.display.HTML object>"
      ]
     },
     "metadata": {},
     "output_type": "display_data"
    },
    {
     "data": {
      "text/html": [
       "Run data is saved locally in <code>c:\\Users\\barbo\\brain classifier repo\\brain_classifier\\src\\wandb\\run-20241119_163540-ic1ocrtx</code>"
      ],
      "text/plain": [
       "<IPython.core.display.HTML object>"
      ]
     },
     "metadata": {},
     "output_type": "display_data"
    },
    {
     "data": {
      "text/html": [
       "Syncing run <strong><a href='https://wandb.ai/barbonigiorgia-sapienza-universit-di-roma/graph-classification-graphs_sc/runs/ic1ocrtx' target=\"_blank\">exalted-sweep-82</a></strong> to <a href='https://wandb.ai/barbonigiorgia-sapienza-universit-di-roma/graph-classification-graphs_sc' target=\"_blank\">Weights & Biases</a> (<a href='https://wandb.me/run' target=\"_blank\">docs</a>)<br/>Sweep page: <a href='https://wandb.ai/barbonigiorgia-sapienza-universit-di-roma/graph-classification-graphs_sc/sweeps/f8yd3ova' target=\"_blank\">https://wandb.ai/barbonigiorgia-sapienza-universit-di-roma/graph-classification-graphs_sc/sweeps/f8yd3ova</a>"
      ],
      "text/plain": [
       "<IPython.core.display.HTML object>"
      ]
     },
     "metadata": {},
     "output_type": "display_data"
    },
    {
     "data": {
      "text/html": [
       " View project at <a href='https://wandb.ai/barbonigiorgia-sapienza-universit-di-roma/graph-classification-graphs_sc' target=\"_blank\">https://wandb.ai/barbonigiorgia-sapienza-universit-di-roma/graph-classification-graphs_sc</a>"
      ],
      "text/plain": [
       "<IPython.core.display.HTML object>"
      ]
     },
     "metadata": {},
     "output_type": "display_data"
    },
    {
     "data": {
      "text/html": [
       " View sweep at <a href='https://wandb.ai/barbonigiorgia-sapienza-universit-di-roma/graph-classification-graphs_sc/sweeps/f8yd3ova' target=\"_blank\">https://wandb.ai/barbonigiorgia-sapienza-universit-di-roma/graph-classification-graphs_sc/sweeps/f8yd3ova</a>"
      ],
      "text/plain": [
       "<IPython.core.display.HTML object>"
      ]
     },
     "metadata": {},
     "output_type": "display_data"
    },
    {
     "data": {
      "text/html": [
       " View run at <a href='https://wandb.ai/barbonigiorgia-sapienza-universit-di-roma/graph-classification-graphs_sc/runs/ic1ocrtx' target=\"_blank\">https://wandb.ai/barbonigiorgia-sapienza-universit-di-roma/graph-classification-graphs_sc/runs/ic1ocrtx</a>"
      ],
      "text/plain": [
       "<IPython.core.display.HTML object>"
      ]
     },
     "metadata": {},
     "output_type": "display_data"
    },
    {
     "name": "stdout",
     "output_type": "stream",
     "text": [
      "Running with config: {'batch_size': 32, 'in_channels': 6, 'learning_rate': 0.0001, 'num_epochs': 5, 'num_heads': 2, 'optimizer': 'adam', 'out_channels': 16, 'random_state': 42, 'test_size': 0.3, 'weight_decay': 0}\n"
     ]
    },
    {
     "data": {
      "text/html": [
       "<style>\n",
       "    table.wandb td:nth-child(1) { padding: 0 10px; text-align: left ; width: auto;} td:nth-child(2) {text-align: left ; width: 100%}\n",
       "    .wandb-row { display: flex; flex-direction: row; flex-wrap: wrap; justify-content: flex-start; width: 100% }\n",
       "    .wandb-col { display: flex; flex-direction: column; flex-basis: 100%; flex: 1; padding: 10px; }\n",
       "    </style>\n",
       "<div class=\"wandb-row\"><div class=\"wandb-col\"><h3>Run history:</h3><br/><table class=\"wandb\"><tr><td>epoch</td><td>▁▃▅▆█</td></tr><tr><td>train_accuracy</td><td>▁▁▁▁▁</td></tr><tr><td>train_f1</td><td>▁▁▁▁▁</td></tr><tr><td>train_loss</td><td>█▆▅▂▁</td></tr><tr><td>val_accuracy</td><td>▁▁▁▁▁</td></tr><tr><td>val_f1</td><td>▁▁▁▁▁</td></tr><tr><td>val_loss</td><td>█▆▅▃▁</td></tr></table><br/></div><div class=\"wandb-col\"><h3>Run summary:</h3><br/><table class=\"wandb\"><tr><td>epoch</td><td>5</td></tr><tr><td>train_accuracy</td><td>0.432</td></tr><tr><td>train_f1</td><td>0.26065</td></tr><tr><td>train_loss</td><td>0.72846</td></tr><tr><td>val_accuracy</td><td>0.44444</td></tr><tr><td>val_f1</td><td>0.2735</td></tr><tr><td>val_loss</td><td>0.7211</td></tr></table><br/></div></div>"
      ],
      "text/plain": [
       "<IPython.core.display.HTML object>"
      ]
     },
     "metadata": {},
     "output_type": "display_data"
    },
    {
     "data": {
      "text/html": [
       " View run <strong style=\"color:#cdcd00\">exalted-sweep-82</strong> at: <a href='https://wandb.ai/barbonigiorgia-sapienza-universit-di-roma/graph-classification-graphs_sc/runs/ic1ocrtx' target=\"_blank\">https://wandb.ai/barbonigiorgia-sapienza-universit-di-roma/graph-classification-graphs_sc/runs/ic1ocrtx</a><br/> View project at: <a href='https://wandb.ai/barbonigiorgia-sapienza-universit-di-roma/graph-classification-graphs_sc' target=\"_blank\">https://wandb.ai/barbonigiorgia-sapienza-universit-di-roma/graph-classification-graphs_sc</a><br/>Synced 5 W&B file(s), 0 media file(s), 2 artifact file(s) and 0 other file(s)"
      ],
      "text/plain": [
       "<IPython.core.display.HTML object>"
      ]
     },
     "metadata": {},
     "output_type": "display_data"
    },
    {
     "data": {
      "text/html": [
       "Find logs at: <code>.\\wandb\\run-20241119_163540-ic1ocrtx\\logs</code>"
      ],
      "text/plain": [
       "<IPython.core.display.HTML object>"
      ]
     },
     "metadata": {},
     "output_type": "display_data"
    },
    {
     "name": "stderr",
     "output_type": "stream",
     "text": [
      "\u001b[34m\u001b[1mwandb\u001b[0m: Agent Starting Run: licugtvy with config:\n",
      "\u001b[34m\u001b[1mwandb\u001b[0m: \tbatch_size: 32\n",
      "\u001b[34m\u001b[1mwandb\u001b[0m: \tin_channels: 6\n",
      "\u001b[34m\u001b[1mwandb\u001b[0m: \tlearning_rate: 0.0001\n",
      "\u001b[34m\u001b[1mwandb\u001b[0m: \tnum_epochs: 5\n",
      "\u001b[34m\u001b[1mwandb\u001b[0m: \tnum_heads: 2\n",
      "\u001b[34m\u001b[1mwandb\u001b[0m: \toptimizer: adam\n",
      "\u001b[34m\u001b[1mwandb\u001b[0m: \tout_channels: 16\n",
      "\u001b[34m\u001b[1mwandb\u001b[0m: \trandom_state: 42\n",
      "\u001b[34m\u001b[1mwandb\u001b[0m: \ttest_size: 0.3\n",
      "\u001b[34m\u001b[1mwandb\u001b[0m: \tweight_decay: 1e-05\n"
     ]
    },
    {
     "data": {
      "text/html": [
       "Tracking run with wandb version 0.18.5"
      ],
      "text/plain": [
       "<IPython.core.display.HTML object>"
      ]
     },
     "metadata": {},
     "output_type": "display_data"
    },
    {
     "data": {
      "text/html": [
       "Run data is saved locally in <code>c:\\Users\\barbo\\brain classifier repo\\brain_classifier\\src\\wandb\\run-20241119_163555-licugtvy</code>"
      ],
      "text/plain": [
       "<IPython.core.display.HTML object>"
      ]
     },
     "metadata": {},
     "output_type": "display_data"
    },
    {
     "data": {
      "text/html": [
       "Syncing run <strong><a href='https://wandb.ai/barbonigiorgia-sapienza-universit-di-roma/graph-classification-graphs_sc/runs/licugtvy' target=\"_blank\">deft-sweep-83</a></strong> to <a href='https://wandb.ai/barbonigiorgia-sapienza-universit-di-roma/graph-classification-graphs_sc' target=\"_blank\">Weights & Biases</a> (<a href='https://wandb.me/run' target=\"_blank\">docs</a>)<br/>Sweep page: <a href='https://wandb.ai/barbonigiorgia-sapienza-universit-di-roma/graph-classification-graphs_sc/sweeps/f8yd3ova' target=\"_blank\">https://wandb.ai/barbonigiorgia-sapienza-universit-di-roma/graph-classification-graphs_sc/sweeps/f8yd3ova</a>"
      ],
      "text/plain": [
       "<IPython.core.display.HTML object>"
      ]
     },
     "metadata": {},
     "output_type": "display_data"
    },
    {
     "data": {
      "text/html": [
       " View project at <a href='https://wandb.ai/barbonigiorgia-sapienza-universit-di-roma/graph-classification-graphs_sc' target=\"_blank\">https://wandb.ai/barbonigiorgia-sapienza-universit-di-roma/graph-classification-graphs_sc</a>"
      ],
      "text/plain": [
       "<IPython.core.display.HTML object>"
      ]
     },
     "metadata": {},
     "output_type": "display_data"
    },
    {
     "data": {
      "text/html": [
       " View sweep at <a href='https://wandb.ai/barbonigiorgia-sapienza-universit-di-roma/graph-classification-graphs_sc/sweeps/f8yd3ova' target=\"_blank\">https://wandb.ai/barbonigiorgia-sapienza-universit-di-roma/graph-classification-graphs_sc/sweeps/f8yd3ova</a>"
      ],
      "text/plain": [
       "<IPython.core.display.HTML object>"
      ]
     },
     "metadata": {},
     "output_type": "display_data"
    },
    {
     "data": {
      "text/html": [
       " View run at <a href='https://wandb.ai/barbonigiorgia-sapienza-universit-di-roma/graph-classification-graphs_sc/runs/licugtvy' target=\"_blank\">https://wandb.ai/barbonigiorgia-sapienza-universit-di-roma/graph-classification-graphs_sc/runs/licugtvy</a>"
      ],
      "text/plain": [
       "<IPython.core.display.HTML object>"
      ]
     },
     "metadata": {},
     "output_type": "display_data"
    },
    {
     "name": "stdout",
     "output_type": "stream",
     "text": [
      "Running with config: {'batch_size': 32, 'in_channels': 6, 'learning_rate': 0.0001, 'num_epochs': 5, 'num_heads': 2, 'optimizer': 'adam', 'out_channels': 16, 'random_state': 42, 'test_size': 0.3, 'weight_decay': 1e-05}\n"
     ]
    },
    {
     "data": {
      "text/html": [
       "<style>\n",
       "    table.wandb td:nth-child(1) { padding: 0 10px; text-align: left ; width: auto;} td:nth-child(2) {text-align: left ; width: 100%}\n",
       "    .wandb-row { display: flex; flex-direction: row; flex-wrap: wrap; justify-content: flex-start; width: 100% }\n",
       "    .wandb-col { display: flex; flex-direction: column; flex-basis: 100%; flex: 1; padding: 10px; }\n",
       "    </style>\n",
       "<div class=\"wandb-row\"><div class=\"wandb-col\"><h3>Run history:</h3><br/><table class=\"wandb\"><tr><td>epoch</td><td>▁▃▅▆█</td></tr><tr><td>train_accuracy</td><td>▁▁▁▁▁</td></tr><tr><td>train_f1</td><td>▁▁▁▁▁</td></tr><tr><td>train_loss</td><td>█▆▅▂▁</td></tr><tr><td>val_accuracy</td><td>▁▁▁▁▁</td></tr><tr><td>val_f1</td><td>▁▁▁▁▁</td></tr><tr><td>val_loss</td><td>█▆▅▃▁</td></tr></table><br/></div><div class=\"wandb-col\"><h3>Run summary:</h3><br/><table class=\"wandb\"><tr><td>epoch</td><td>5</td></tr><tr><td>train_accuracy</td><td>0.432</td></tr><tr><td>train_f1</td><td>0.26065</td></tr><tr><td>train_loss</td><td>0.72846</td></tr><tr><td>val_accuracy</td><td>0.44444</td></tr><tr><td>val_f1</td><td>0.2735</td></tr><tr><td>val_loss</td><td>0.7211</td></tr></table><br/></div></div>"
      ],
      "text/plain": [
       "<IPython.core.display.HTML object>"
      ]
     },
     "metadata": {},
     "output_type": "display_data"
    },
    {
     "data": {
      "text/html": [
       " View run <strong style=\"color:#cdcd00\">deft-sweep-83</strong> at: <a href='https://wandb.ai/barbonigiorgia-sapienza-universit-di-roma/graph-classification-graphs_sc/runs/licugtvy' target=\"_blank\">https://wandb.ai/barbonigiorgia-sapienza-universit-di-roma/graph-classification-graphs_sc/runs/licugtvy</a><br/> View project at: <a href='https://wandb.ai/barbonigiorgia-sapienza-universit-di-roma/graph-classification-graphs_sc' target=\"_blank\">https://wandb.ai/barbonigiorgia-sapienza-universit-di-roma/graph-classification-graphs_sc</a><br/>Synced 5 W&B file(s), 0 media file(s), 2 artifact file(s) and 0 other file(s)"
      ],
      "text/plain": [
       "<IPython.core.display.HTML object>"
      ]
     },
     "metadata": {},
     "output_type": "display_data"
    },
    {
     "data": {
      "text/html": [
       "Find logs at: <code>.\\wandb\\run-20241119_163555-licugtvy\\logs</code>"
      ],
      "text/plain": [
       "<IPython.core.display.HTML object>"
      ]
     },
     "metadata": {},
     "output_type": "display_data"
    },
    {
     "name": "stderr",
     "output_type": "stream",
     "text": [
      "\u001b[34m\u001b[1mwandb\u001b[0m: Agent Starting Run: qwza35cy with config:\n",
      "\u001b[34m\u001b[1mwandb\u001b[0m: \tbatch_size: 32\n",
      "\u001b[34m\u001b[1mwandb\u001b[0m: \tin_channels: 6\n",
      "\u001b[34m\u001b[1mwandb\u001b[0m: \tlearning_rate: 0.0001\n",
      "\u001b[34m\u001b[1mwandb\u001b[0m: \tnum_epochs: 5\n",
      "\u001b[34m\u001b[1mwandb\u001b[0m: \tnum_heads: 2\n",
      "\u001b[34m\u001b[1mwandb\u001b[0m: \toptimizer: adam\n",
      "\u001b[34m\u001b[1mwandb\u001b[0m: \tout_channels: 16\n",
      "\u001b[34m\u001b[1mwandb\u001b[0m: \trandom_state: 42\n",
      "\u001b[34m\u001b[1mwandb\u001b[0m: \ttest_size: 0.3\n",
      "\u001b[34m\u001b[1mwandb\u001b[0m: \tweight_decay: 0.0001\n"
     ]
    },
    {
     "data": {
      "text/html": [
       "Tracking run with wandb version 0.18.5"
      ],
      "text/plain": [
       "<IPython.core.display.HTML object>"
      ]
     },
     "metadata": {},
     "output_type": "display_data"
    },
    {
     "data": {
      "text/html": [
       "Run data is saved locally in <code>c:\\Users\\barbo\\brain classifier repo\\brain_classifier\\src\\wandb\\run-20241119_163611-qwza35cy</code>"
      ],
      "text/plain": [
       "<IPython.core.display.HTML object>"
      ]
     },
     "metadata": {},
     "output_type": "display_data"
    },
    {
     "data": {
      "text/html": [
       "Syncing run <strong><a href='https://wandb.ai/barbonigiorgia-sapienza-universit-di-roma/graph-classification-graphs_sc/runs/qwza35cy' target=\"_blank\">avid-sweep-84</a></strong> to <a href='https://wandb.ai/barbonigiorgia-sapienza-universit-di-roma/graph-classification-graphs_sc' target=\"_blank\">Weights & Biases</a> (<a href='https://wandb.me/run' target=\"_blank\">docs</a>)<br/>Sweep page: <a href='https://wandb.ai/barbonigiorgia-sapienza-universit-di-roma/graph-classification-graphs_sc/sweeps/f8yd3ova' target=\"_blank\">https://wandb.ai/barbonigiorgia-sapienza-universit-di-roma/graph-classification-graphs_sc/sweeps/f8yd3ova</a>"
      ],
      "text/plain": [
       "<IPython.core.display.HTML object>"
      ]
     },
     "metadata": {},
     "output_type": "display_data"
    },
    {
     "data": {
      "text/html": [
       " View project at <a href='https://wandb.ai/barbonigiorgia-sapienza-universit-di-roma/graph-classification-graphs_sc' target=\"_blank\">https://wandb.ai/barbonigiorgia-sapienza-universit-di-roma/graph-classification-graphs_sc</a>"
      ],
      "text/plain": [
       "<IPython.core.display.HTML object>"
      ]
     },
     "metadata": {},
     "output_type": "display_data"
    },
    {
     "data": {
      "text/html": [
       " View sweep at <a href='https://wandb.ai/barbonigiorgia-sapienza-universit-di-roma/graph-classification-graphs_sc/sweeps/f8yd3ova' target=\"_blank\">https://wandb.ai/barbonigiorgia-sapienza-universit-di-roma/graph-classification-graphs_sc/sweeps/f8yd3ova</a>"
      ],
      "text/plain": [
       "<IPython.core.display.HTML object>"
      ]
     },
     "metadata": {},
     "output_type": "display_data"
    },
    {
     "data": {
      "text/html": [
       " View run at <a href='https://wandb.ai/barbonigiorgia-sapienza-universit-di-roma/graph-classification-graphs_sc/runs/qwza35cy' target=\"_blank\">https://wandb.ai/barbonigiorgia-sapienza-universit-di-roma/graph-classification-graphs_sc/runs/qwza35cy</a>"
      ],
      "text/plain": [
       "<IPython.core.display.HTML object>"
      ]
     },
     "metadata": {},
     "output_type": "display_data"
    },
    {
     "name": "stdout",
     "output_type": "stream",
     "text": [
      "Running with config: {'batch_size': 32, 'in_channels': 6, 'learning_rate': 0.0001, 'num_epochs': 5, 'num_heads': 2, 'optimizer': 'adam', 'out_channels': 16, 'random_state': 42, 'test_size': 0.3, 'weight_decay': 0.0001}\n"
     ]
    },
    {
     "data": {
      "text/html": [
       "<style>\n",
       "    table.wandb td:nth-child(1) { padding: 0 10px; text-align: left ; width: auto;} td:nth-child(2) {text-align: left ; width: 100%}\n",
       "    .wandb-row { display: flex; flex-direction: row; flex-wrap: wrap; justify-content: flex-start; width: 100% }\n",
       "    .wandb-col { display: flex; flex-direction: column; flex-basis: 100%; flex: 1; padding: 10px; }\n",
       "    </style>\n",
       "<div class=\"wandb-row\"><div class=\"wandb-col\"><h3>Run history:</h3><br/><table class=\"wandb\"><tr><td>epoch</td><td>▁▃▅▆█</td></tr><tr><td>train_accuracy</td><td>▁▁▁▁▁</td></tr><tr><td>train_f1</td><td>▁▁▁▁▁</td></tr><tr><td>train_loss</td><td>█▆▅▂▁</td></tr><tr><td>val_accuracy</td><td>▁▁▁▁▁</td></tr><tr><td>val_f1</td><td>▁▁▁▁▁</td></tr><tr><td>val_loss</td><td>█▆▅▃▁</td></tr></table><br/></div><div class=\"wandb-col\"><h3>Run summary:</h3><br/><table class=\"wandb\"><tr><td>epoch</td><td>5</td></tr><tr><td>train_accuracy</td><td>0.432</td></tr><tr><td>train_f1</td><td>0.26065</td></tr><tr><td>train_loss</td><td>0.72846</td></tr><tr><td>val_accuracy</td><td>0.44444</td></tr><tr><td>val_f1</td><td>0.2735</td></tr><tr><td>val_loss</td><td>0.7211</td></tr></table><br/></div></div>"
      ],
      "text/plain": [
       "<IPython.core.display.HTML object>"
      ]
     },
     "metadata": {},
     "output_type": "display_data"
    },
    {
     "data": {
      "text/html": [
       " View run <strong style=\"color:#cdcd00\">avid-sweep-84</strong> at: <a href='https://wandb.ai/barbonigiorgia-sapienza-universit-di-roma/graph-classification-graphs_sc/runs/qwza35cy' target=\"_blank\">https://wandb.ai/barbonigiorgia-sapienza-universit-di-roma/graph-classification-graphs_sc/runs/qwza35cy</a><br/> View project at: <a href='https://wandb.ai/barbonigiorgia-sapienza-universit-di-roma/graph-classification-graphs_sc' target=\"_blank\">https://wandb.ai/barbonigiorgia-sapienza-universit-di-roma/graph-classification-graphs_sc</a><br/>Synced 5 W&B file(s), 0 media file(s), 2 artifact file(s) and 0 other file(s)"
      ],
      "text/plain": [
       "<IPython.core.display.HTML object>"
      ]
     },
     "metadata": {},
     "output_type": "display_data"
    },
    {
     "data": {
      "text/html": [
       "Find logs at: <code>.\\wandb\\run-20241119_163611-qwza35cy\\logs</code>"
      ],
      "text/plain": [
       "<IPython.core.display.HTML object>"
      ]
     },
     "metadata": {},
     "output_type": "display_data"
    },
    {
     "name": "stderr",
     "output_type": "stream",
     "text": [
      "\u001b[34m\u001b[1mwandb\u001b[0m: Agent Starting Run: v6u160zs with config:\n",
      "\u001b[34m\u001b[1mwandb\u001b[0m: \tbatch_size: 32\n",
      "\u001b[34m\u001b[1mwandb\u001b[0m: \tin_channels: 6\n",
      "\u001b[34m\u001b[1mwandb\u001b[0m: \tlearning_rate: 0.0001\n",
      "\u001b[34m\u001b[1mwandb\u001b[0m: \tnum_epochs: 5\n",
      "\u001b[34m\u001b[1mwandb\u001b[0m: \tnum_heads: 3\n",
      "\u001b[34m\u001b[1mwandb\u001b[0m: \toptimizer: adam\n",
      "\u001b[34m\u001b[1mwandb\u001b[0m: \tout_channels: 8\n",
      "\u001b[34m\u001b[1mwandb\u001b[0m: \trandom_state: 42\n",
      "\u001b[34m\u001b[1mwandb\u001b[0m: \ttest_size: 0.3\n",
      "\u001b[34m\u001b[1mwandb\u001b[0m: \tweight_decay: 0\n"
     ]
    },
    {
     "data": {
      "text/html": [
       "Tracking run with wandb version 0.18.5"
      ],
      "text/plain": [
       "<IPython.core.display.HTML object>"
      ]
     },
     "metadata": {},
     "output_type": "display_data"
    },
    {
     "data": {
      "text/html": [
       "Run data is saved locally in <code>c:\\Users\\barbo\\brain classifier repo\\brain_classifier\\src\\wandb\\run-20241119_163627-v6u160zs</code>"
      ],
      "text/plain": [
       "<IPython.core.display.HTML object>"
      ]
     },
     "metadata": {},
     "output_type": "display_data"
    },
    {
     "data": {
      "text/html": [
       "Syncing run <strong><a href='https://wandb.ai/barbonigiorgia-sapienza-universit-di-roma/graph-classification-graphs_sc/runs/v6u160zs' target=\"_blank\">stoic-sweep-85</a></strong> to <a href='https://wandb.ai/barbonigiorgia-sapienza-universit-di-roma/graph-classification-graphs_sc' target=\"_blank\">Weights & Biases</a> (<a href='https://wandb.me/run' target=\"_blank\">docs</a>)<br/>Sweep page: <a href='https://wandb.ai/barbonigiorgia-sapienza-universit-di-roma/graph-classification-graphs_sc/sweeps/f8yd3ova' target=\"_blank\">https://wandb.ai/barbonigiorgia-sapienza-universit-di-roma/graph-classification-graphs_sc/sweeps/f8yd3ova</a>"
      ],
      "text/plain": [
       "<IPython.core.display.HTML object>"
      ]
     },
     "metadata": {},
     "output_type": "display_data"
    },
    {
     "data": {
      "text/html": [
       " View project at <a href='https://wandb.ai/barbonigiorgia-sapienza-universit-di-roma/graph-classification-graphs_sc' target=\"_blank\">https://wandb.ai/barbonigiorgia-sapienza-universit-di-roma/graph-classification-graphs_sc</a>"
      ],
      "text/plain": [
       "<IPython.core.display.HTML object>"
      ]
     },
     "metadata": {},
     "output_type": "display_data"
    },
    {
     "data": {
      "text/html": [
       " View sweep at <a href='https://wandb.ai/barbonigiorgia-sapienza-universit-di-roma/graph-classification-graphs_sc/sweeps/f8yd3ova' target=\"_blank\">https://wandb.ai/barbonigiorgia-sapienza-universit-di-roma/graph-classification-graphs_sc/sweeps/f8yd3ova</a>"
      ],
      "text/plain": [
       "<IPython.core.display.HTML object>"
      ]
     },
     "metadata": {},
     "output_type": "display_data"
    },
    {
     "data": {
      "text/html": [
       " View run at <a href='https://wandb.ai/barbonigiorgia-sapienza-universit-di-roma/graph-classification-graphs_sc/runs/v6u160zs' target=\"_blank\">https://wandb.ai/barbonigiorgia-sapienza-universit-di-roma/graph-classification-graphs_sc/runs/v6u160zs</a>"
      ],
      "text/plain": [
       "<IPython.core.display.HTML object>"
      ]
     },
     "metadata": {},
     "output_type": "display_data"
    },
    {
     "name": "stdout",
     "output_type": "stream",
     "text": [
      "Running with config: {'batch_size': 32, 'in_channels': 6, 'learning_rate': 0.0001, 'num_epochs': 5, 'num_heads': 3, 'optimizer': 'adam', 'out_channels': 8, 'random_state': 42, 'test_size': 0.3, 'weight_decay': 0}\n"
     ]
    },
    {
     "data": {
      "text/html": [
       "<style>\n",
       "    table.wandb td:nth-child(1) { padding: 0 10px; text-align: left ; width: auto;} td:nth-child(2) {text-align: left ; width: 100%}\n",
       "    .wandb-row { display: flex; flex-direction: row; flex-wrap: wrap; justify-content: flex-start; width: 100% }\n",
       "    .wandb-col { display: flex; flex-direction: column; flex-basis: 100%; flex: 1; padding: 10px; }\n",
       "    </style>\n",
       "<div class=\"wandb-row\"><div class=\"wandb-col\"><h3>Run history:</h3><br/><table class=\"wandb\"><tr><td>epoch</td><td>▁▃▅▆█</td></tr><tr><td>train_accuracy</td><td>▁▁▁▁▁</td></tr><tr><td>train_f1</td><td>▁▁▁▁▁</td></tr><tr><td>train_loss</td><td>█▅▅▂▁</td></tr><tr><td>val_accuracy</td><td>▁▁▁▁▁</td></tr><tr><td>val_f1</td><td>▁▁▁▁▁</td></tr><tr><td>val_loss</td><td>█▆▅▃▁</td></tr></table><br/></div><div class=\"wandb-col\"><h3>Run summary:</h3><br/><table class=\"wandb\"><tr><td>epoch</td><td>5</td></tr><tr><td>train_accuracy</td><td>0.432</td></tr><tr><td>train_f1</td><td>0.26065</td></tr><tr><td>train_loss</td><td>0.70551</td></tr><tr><td>val_accuracy</td><td>0.44444</td></tr><tr><td>val_f1</td><td>0.2735</td></tr><tr><td>val_loss</td><td>0.7053</td></tr></table><br/></div></div>"
      ],
      "text/plain": [
       "<IPython.core.display.HTML object>"
      ]
     },
     "metadata": {},
     "output_type": "display_data"
    },
    {
     "data": {
      "text/html": [
       " View run <strong style=\"color:#cdcd00\">stoic-sweep-85</strong> at: <a href='https://wandb.ai/barbonigiorgia-sapienza-universit-di-roma/graph-classification-graphs_sc/runs/v6u160zs' target=\"_blank\">https://wandb.ai/barbonigiorgia-sapienza-universit-di-roma/graph-classification-graphs_sc/runs/v6u160zs</a><br/> View project at: <a href='https://wandb.ai/barbonigiorgia-sapienza-universit-di-roma/graph-classification-graphs_sc' target=\"_blank\">https://wandb.ai/barbonigiorgia-sapienza-universit-di-roma/graph-classification-graphs_sc</a><br/>Synced 5 W&B file(s), 0 media file(s), 0 artifact file(s) and 0 other file(s)"
      ],
      "text/plain": [
       "<IPython.core.display.HTML object>"
      ]
     },
     "metadata": {},
     "output_type": "display_data"
    },
    {
     "data": {
      "text/html": [
       "Find logs at: <code>.\\wandb\\run-20241119_163627-v6u160zs\\logs</code>"
      ],
      "text/plain": [
       "<IPython.core.display.HTML object>"
      ]
     },
     "metadata": {},
     "output_type": "display_data"
    },
    {
     "name": "stderr",
     "output_type": "stream",
     "text": [
      "\u001b[34m\u001b[1mwandb\u001b[0m: Agent Starting Run: 6j0n0tpq with config:\n",
      "\u001b[34m\u001b[1mwandb\u001b[0m: \tbatch_size: 32\n",
      "\u001b[34m\u001b[1mwandb\u001b[0m: \tin_channels: 6\n",
      "\u001b[34m\u001b[1mwandb\u001b[0m: \tlearning_rate: 0.0001\n",
      "\u001b[34m\u001b[1mwandb\u001b[0m: \tnum_epochs: 5\n",
      "\u001b[34m\u001b[1mwandb\u001b[0m: \tnum_heads: 3\n",
      "\u001b[34m\u001b[1mwandb\u001b[0m: \toptimizer: adam\n",
      "\u001b[34m\u001b[1mwandb\u001b[0m: \tout_channels: 8\n",
      "\u001b[34m\u001b[1mwandb\u001b[0m: \trandom_state: 42\n",
      "\u001b[34m\u001b[1mwandb\u001b[0m: \ttest_size: 0.3\n",
      "\u001b[34m\u001b[1mwandb\u001b[0m: \tweight_decay: 1e-05\n"
     ]
    },
    {
     "data": {
      "text/html": [
       "Tracking run with wandb version 0.18.5"
      ],
      "text/plain": [
       "<IPython.core.display.HTML object>"
      ]
     },
     "metadata": {},
     "output_type": "display_data"
    },
    {
     "data": {
      "text/html": [
       "Run data is saved locally in <code>c:\\Users\\barbo\\brain classifier repo\\brain_classifier\\src\\wandb\\run-20241119_163642-6j0n0tpq</code>"
      ],
      "text/plain": [
       "<IPython.core.display.HTML object>"
      ]
     },
     "metadata": {},
     "output_type": "display_data"
    },
    {
     "data": {
      "text/html": [
       "Syncing run <strong><a href='https://wandb.ai/barbonigiorgia-sapienza-universit-di-roma/graph-classification-graphs_sc/runs/6j0n0tpq' target=\"_blank\">skilled-sweep-86</a></strong> to <a href='https://wandb.ai/barbonigiorgia-sapienza-universit-di-roma/graph-classification-graphs_sc' target=\"_blank\">Weights & Biases</a> (<a href='https://wandb.me/run' target=\"_blank\">docs</a>)<br/>Sweep page: <a href='https://wandb.ai/barbonigiorgia-sapienza-universit-di-roma/graph-classification-graphs_sc/sweeps/f8yd3ova' target=\"_blank\">https://wandb.ai/barbonigiorgia-sapienza-universit-di-roma/graph-classification-graphs_sc/sweeps/f8yd3ova</a>"
      ],
      "text/plain": [
       "<IPython.core.display.HTML object>"
      ]
     },
     "metadata": {},
     "output_type": "display_data"
    },
    {
     "data": {
      "text/html": [
       " View project at <a href='https://wandb.ai/barbonigiorgia-sapienza-universit-di-roma/graph-classification-graphs_sc' target=\"_blank\">https://wandb.ai/barbonigiorgia-sapienza-universit-di-roma/graph-classification-graphs_sc</a>"
      ],
      "text/plain": [
       "<IPython.core.display.HTML object>"
      ]
     },
     "metadata": {},
     "output_type": "display_data"
    },
    {
     "data": {
      "text/html": [
       " View sweep at <a href='https://wandb.ai/barbonigiorgia-sapienza-universit-di-roma/graph-classification-graphs_sc/sweeps/f8yd3ova' target=\"_blank\">https://wandb.ai/barbonigiorgia-sapienza-universit-di-roma/graph-classification-graphs_sc/sweeps/f8yd3ova</a>"
      ],
      "text/plain": [
       "<IPython.core.display.HTML object>"
      ]
     },
     "metadata": {},
     "output_type": "display_data"
    },
    {
     "data": {
      "text/html": [
       " View run at <a href='https://wandb.ai/barbonigiorgia-sapienza-universit-di-roma/graph-classification-graphs_sc/runs/6j0n0tpq' target=\"_blank\">https://wandb.ai/barbonigiorgia-sapienza-universit-di-roma/graph-classification-graphs_sc/runs/6j0n0tpq</a>"
      ],
      "text/plain": [
       "<IPython.core.display.HTML object>"
      ]
     },
     "metadata": {},
     "output_type": "display_data"
    },
    {
     "name": "stdout",
     "output_type": "stream",
     "text": [
      "Running with config: {'batch_size': 32, 'in_channels': 6, 'learning_rate': 0.0001, 'num_epochs': 5, 'num_heads': 3, 'optimizer': 'adam', 'out_channels': 8, 'random_state': 42, 'test_size': 0.3, 'weight_decay': 1e-05}\n"
     ]
    },
    {
     "data": {
      "text/html": [
       "<style>\n",
       "    table.wandb td:nth-child(1) { padding: 0 10px; text-align: left ; width: auto;} td:nth-child(2) {text-align: left ; width: 100%}\n",
       "    .wandb-row { display: flex; flex-direction: row; flex-wrap: wrap; justify-content: flex-start; width: 100% }\n",
       "    .wandb-col { display: flex; flex-direction: column; flex-basis: 100%; flex: 1; padding: 10px; }\n",
       "    </style>\n",
       "<div class=\"wandb-row\"><div class=\"wandb-col\"><h3>Run history:</h3><br/><table class=\"wandb\"><tr><td>epoch</td><td>▁▃▅▆█</td></tr><tr><td>train_accuracy</td><td>▁▁▁▁▁</td></tr><tr><td>train_f1</td><td>▁▁▁▁▁</td></tr><tr><td>train_loss</td><td>█▅▅▂▁</td></tr><tr><td>val_accuracy</td><td>▁▁▁▁▁</td></tr><tr><td>val_f1</td><td>▁▁▁▁▁</td></tr><tr><td>val_loss</td><td>█▆▅▃▁</td></tr></table><br/></div><div class=\"wandb-col\"><h3>Run summary:</h3><br/><table class=\"wandb\"><tr><td>epoch</td><td>5</td></tr><tr><td>train_accuracy</td><td>0.432</td></tr><tr><td>train_f1</td><td>0.26065</td></tr><tr><td>train_loss</td><td>0.70551</td></tr><tr><td>val_accuracy</td><td>0.44444</td></tr><tr><td>val_f1</td><td>0.2735</td></tr><tr><td>val_loss</td><td>0.7053</td></tr></table><br/></div></div>"
      ],
      "text/plain": [
       "<IPython.core.display.HTML object>"
      ]
     },
     "metadata": {},
     "output_type": "display_data"
    },
    {
     "data": {
      "text/html": [
       " View run <strong style=\"color:#cdcd00\">skilled-sweep-86</strong> at: <a href='https://wandb.ai/barbonigiorgia-sapienza-universit-di-roma/graph-classification-graphs_sc/runs/6j0n0tpq' target=\"_blank\">https://wandb.ai/barbonigiorgia-sapienza-universit-di-roma/graph-classification-graphs_sc/runs/6j0n0tpq</a><br/> View project at: <a href='https://wandb.ai/barbonigiorgia-sapienza-universit-di-roma/graph-classification-graphs_sc' target=\"_blank\">https://wandb.ai/barbonigiorgia-sapienza-universit-di-roma/graph-classification-graphs_sc</a><br/>Synced 5 W&B file(s), 0 media file(s), 2 artifact file(s) and 0 other file(s)"
      ],
      "text/plain": [
       "<IPython.core.display.HTML object>"
      ]
     },
     "metadata": {},
     "output_type": "display_data"
    },
    {
     "data": {
      "text/html": [
       "Find logs at: <code>.\\wandb\\run-20241119_163642-6j0n0tpq\\logs</code>"
      ],
      "text/plain": [
       "<IPython.core.display.HTML object>"
      ]
     },
     "metadata": {},
     "output_type": "display_data"
    },
    {
     "name": "stderr",
     "output_type": "stream",
     "text": [
      "\u001b[34m\u001b[1mwandb\u001b[0m: Agent Starting Run: ah01qck5 with config:\n",
      "\u001b[34m\u001b[1mwandb\u001b[0m: \tbatch_size: 32\n",
      "\u001b[34m\u001b[1mwandb\u001b[0m: \tin_channels: 6\n",
      "\u001b[34m\u001b[1mwandb\u001b[0m: \tlearning_rate: 0.0001\n",
      "\u001b[34m\u001b[1mwandb\u001b[0m: \tnum_epochs: 5\n",
      "\u001b[34m\u001b[1mwandb\u001b[0m: \tnum_heads: 3\n",
      "\u001b[34m\u001b[1mwandb\u001b[0m: \toptimizer: adam\n",
      "\u001b[34m\u001b[1mwandb\u001b[0m: \tout_channels: 8\n",
      "\u001b[34m\u001b[1mwandb\u001b[0m: \trandom_state: 42\n",
      "\u001b[34m\u001b[1mwandb\u001b[0m: \ttest_size: 0.3\n",
      "\u001b[34m\u001b[1mwandb\u001b[0m: \tweight_decay: 0.0001\n"
     ]
    },
    {
     "data": {
      "text/html": [
       "Tracking run with wandb version 0.18.5"
      ],
      "text/plain": [
       "<IPython.core.display.HTML object>"
      ]
     },
     "metadata": {},
     "output_type": "display_data"
    },
    {
     "data": {
      "text/html": [
       "Run data is saved locally in <code>c:\\Users\\barbo\\brain classifier repo\\brain_classifier\\src\\wandb\\run-20241119_163659-ah01qck5</code>"
      ],
      "text/plain": [
       "<IPython.core.display.HTML object>"
      ]
     },
     "metadata": {},
     "output_type": "display_data"
    },
    {
     "data": {
      "text/html": [
       "Syncing run <strong><a href='https://wandb.ai/barbonigiorgia-sapienza-universit-di-roma/graph-classification-graphs_sc/runs/ah01qck5' target=\"_blank\">comic-sweep-87</a></strong> to <a href='https://wandb.ai/barbonigiorgia-sapienza-universit-di-roma/graph-classification-graphs_sc' target=\"_blank\">Weights & Biases</a> (<a href='https://wandb.me/run' target=\"_blank\">docs</a>)<br/>Sweep page: <a href='https://wandb.ai/barbonigiorgia-sapienza-universit-di-roma/graph-classification-graphs_sc/sweeps/f8yd3ova' target=\"_blank\">https://wandb.ai/barbonigiorgia-sapienza-universit-di-roma/graph-classification-graphs_sc/sweeps/f8yd3ova</a>"
      ],
      "text/plain": [
       "<IPython.core.display.HTML object>"
      ]
     },
     "metadata": {},
     "output_type": "display_data"
    },
    {
     "data": {
      "text/html": [
       " View project at <a href='https://wandb.ai/barbonigiorgia-sapienza-universit-di-roma/graph-classification-graphs_sc' target=\"_blank\">https://wandb.ai/barbonigiorgia-sapienza-universit-di-roma/graph-classification-graphs_sc</a>"
      ],
      "text/plain": [
       "<IPython.core.display.HTML object>"
      ]
     },
     "metadata": {},
     "output_type": "display_data"
    },
    {
     "data": {
      "text/html": [
       " View sweep at <a href='https://wandb.ai/barbonigiorgia-sapienza-universit-di-roma/graph-classification-graphs_sc/sweeps/f8yd3ova' target=\"_blank\">https://wandb.ai/barbonigiorgia-sapienza-universit-di-roma/graph-classification-graphs_sc/sweeps/f8yd3ova</a>"
      ],
      "text/plain": [
       "<IPython.core.display.HTML object>"
      ]
     },
     "metadata": {},
     "output_type": "display_data"
    },
    {
     "data": {
      "text/html": [
       " View run at <a href='https://wandb.ai/barbonigiorgia-sapienza-universit-di-roma/graph-classification-graphs_sc/runs/ah01qck5' target=\"_blank\">https://wandb.ai/barbonigiorgia-sapienza-universit-di-roma/graph-classification-graphs_sc/runs/ah01qck5</a>"
      ],
      "text/plain": [
       "<IPython.core.display.HTML object>"
      ]
     },
     "metadata": {},
     "output_type": "display_data"
    },
    {
     "name": "stdout",
     "output_type": "stream",
     "text": [
      "Running with config: {'batch_size': 32, 'in_channels': 6, 'learning_rate': 0.0001, 'num_epochs': 5, 'num_heads': 3, 'optimizer': 'adam', 'out_channels': 8, 'random_state': 42, 'test_size': 0.3, 'weight_decay': 0.0001}\n"
     ]
    },
    {
     "data": {
      "text/html": [
       "<style>\n",
       "    table.wandb td:nth-child(1) { padding: 0 10px; text-align: left ; width: auto;} td:nth-child(2) {text-align: left ; width: 100%}\n",
       "    .wandb-row { display: flex; flex-direction: row; flex-wrap: wrap; justify-content: flex-start; width: 100% }\n",
       "    .wandb-col { display: flex; flex-direction: column; flex-basis: 100%; flex: 1; padding: 10px; }\n",
       "    </style>\n",
       "<div class=\"wandb-row\"><div class=\"wandb-col\"><h3>Run history:</h3><br/><table class=\"wandb\"><tr><td>epoch</td><td>▁▃▅▆█</td></tr><tr><td>train_accuracy</td><td>▁▁▁▁▁</td></tr><tr><td>train_f1</td><td>▁▁▁▁▁</td></tr><tr><td>train_loss</td><td>█▅▅▂▁</td></tr><tr><td>val_accuracy</td><td>▁▁▁▁▁</td></tr><tr><td>val_f1</td><td>▁▁▁▁▁</td></tr><tr><td>val_loss</td><td>█▆▅▃▁</td></tr></table><br/></div><div class=\"wandb-col\"><h3>Run summary:</h3><br/><table class=\"wandb\"><tr><td>epoch</td><td>5</td></tr><tr><td>train_accuracy</td><td>0.432</td></tr><tr><td>train_f1</td><td>0.26065</td></tr><tr><td>train_loss</td><td>0.70551</td></tr><tr><td>val_accuracy</td><td>0.44444</td></tr><tr><td>val_f1</td><td>0.2735</td></tr><tr><td>val_loss</td><td>0.7053</td></tr></table><br/></div></div>"
      ],
      "text/plain": [
       "<IPython.core.display.HTML object>"
      ]
     },
     "metadata": {},
     "output_type": "display_data"
    },
    {
     "data": {
      "text/html": [
       " View run <strong style=\"color:#cdcd00\">comic-sweep-87</strong> at: <a href='https://wandb.ai/barbonigiorgia-sapienza-universit-di-roma/graph-classification-graphs_sc/runs/ah01qck5' target=\"_blank\">https://wandb.ai/barbonigiorgia-sapienza-universit-di-roma/graph-classification-graphs_sc/runs/ah01qck5</a><br/> View project at: <a href='https://wandb.ai/barbonigiorgia-sapienza-universit-di-roma/graph-classification-graphs_sc' target=\"_blank\">https://wandb.ai/barbonigiorgia-sapienza-universit-di-roma/graph-classification-graphs_sc</a><br/>Synced 5 W&B file(s), 0 media file(s), 2 artifact file(s) and 0 other file(s)"
      ],
      "text/plain": [
       "<IPython.core.display.HTML object>"
      ]
     },
     "metadata": {},
     "output_type": "display_data"
    },
    {
     "data": {
      "text/html": [
       "Find logs at: <code>.\\wandb\\run-20241119_163659-ah01qck5\\logs</code>"
      ],
      "text/plain": [
       "<IPython.core.display.HTML object>"
      ]
     },
     "metadata": {},
     "output_type": "display_data"
    },
    {
     "name": "stderr",
     "output_type": "stream",
     "text": [
      "\u001b[34m\u001b[1mwandb\u001b[0m: Agent Starting Run: 2xy72ht3 with config:\n",
      "\u001b[34m\u001b[1mwandb\u001b[0m: \tbatch_size: 32\n",
      "\u001b[34m\u001b[1mwandb\u001b[0m: \tin_channels: 6\n",
      "\u001b[34m\u001b[1mwandb\u001b[0m: \tlearning_rate: 0.0001\n",
      "\u001b[34m\u001b[1mwandb\u001b[0m: \tnum_epochs: 5\n",
      "\u001b[34m\u001b[1mwandb\u001b[0m: \tnum_heads: 3\n",
      "\u001b[34m\u001b[1mwandb\u001b[0m: \toptimizer: adam\n",
      "\u001b[34m\u001b[1mwandb\u001b[0m: \tout_channels: 16\n",
      "\u001b[34m\u001b[1mwandb\u001b[0m: \trandom_state: 42\n",
      "\u001b[34m\u001b[1mwandb\u001b[0m: \ttest_size: 0.3\n",
      "\u001b[34m\u001b[1mwandb\u001b[0m: \tweight_decay: 0\n"
     ]
    },
    {
     "data": {
      "text/html": [
       "Tracking run with wandb version 0.18.5"
      ],
      "text/plain": [
       "<IPython.core.display.HTML object>"
      ]
     },
     "metadata": {},
     "output_type": "display_data"
    },
    {
     "data": {
      "text/html": [
       "Run data is saved locally in <code>c:\\Users\\barbo\\brain classifier repo\\brain_classifier\\src\\wandb\\run-20241119_163720-2xy72ht3</code>"
      ],
      "text/plain": [
       "<IPython.core.display.HTML object>"
      ]
     },
     "metadata": {},
     "output_type": "display_data"
    },
    {
     "data": {
      "text/html": [
       "Syncing run <strong><a href='https://wandb.ai/barbonigiorgia-sapienza-universit-di-roma/graph-classification-graphs_sc/runs/2xy72ht3' target=\"_blank\">zesty-sweep-88</a></strong> to <a href='https://wandb.ai/barbonigiorgia-sapienza-universit-di-roma/graph-classification-graphs_sc' target=\"_blank\">Weights & Biases</a> (<a href='https://wandb.me/run' target=\"_blank\">docs</a>)<br/>Sweep page: <a href='https://wandb.ai/barbonigiorgia-sapienza-universit-di-roma/graph-classification-graphs_sc/sweeps/f8yd3ova' target=\"_blank\">https://wandb.ai/barbonigiorgia-sapienza-universit-di-roma/graph-classification-graphs_sc/sweeps/f8yd3ova</a>"
      ],
      "text/plain": [
       "<IPython.core.display.HTML object>"
      ]
     },
     "metadata": {},
     "output_type": "display_data"
    },
    {
     "data": {
      "text/html": [
       " View project at <a href='https://wandb.ai/barbonigiorgia-sapienza-universit-di-roma/graph-classification-graphs_sc' target=\"_blank\">https://wandb.ai/barbonigiorgia-sapienza-universit-di-roma/graph-classification-graphs_sc</a>"
      ],
      "text/plain": [
       "<IPython.core.display.HTML object>"
      ]
     },
     "metadata": {},
     "output_type": "display_data"
    },
    {
     "data": {
      "text/html": [
       " View sweep at <a href='https://wandb.ai/barbonigiorgia-sapienza-universit-di-roma/graph-classification-graphs_sc/sweeps/f8yd3ova' target=\"_blank\">https://wandb.ai/barbonigiorgia-sapienza-universit-di-roma/graph-classification-graphs_sc/sweeps/f8yd3ova</a>"
      ],
      "text/plain": [
       "<IPython.core.display.HTML object>"
      ]
     },
     "metadata": {},
     "output_type": "display_data"
    },
    {
     "data": {
      "text/html": [
       " View run at <a href='https://wandb.ai/barbonigiorgia-sapienza-universit-di-roma/graph-classification-graphs_sc/runs/2xy72ht3' target=\"_blank\">https://wandb.ai/barbonigiorgia-sapienza-universit-di-roma/graph-classification-graphs_sc/runs/2xy72ht3</a>"
      ],
      "text/plain": [
       "<IPython.core.display.HTML object>"
      ]
     },
     "metadata": {},
     "output_type": "display_data"
    },
    {
     "name": "stdout",
     "output_type": "stream",
     "text": [
      "Running with config: {'batch_size': 32, 'in_channels': 6, 'learning_rate': 0.0001, 'num_epochs': 5, 'num_heads': 3, 'optimizer': 'adam', 'out_channels': 16, 'random_state': 42, 'test_size': 0.3, 'weight_decay': 0}\n"
     ]
    },
    {
     "data": {
      "text/html": [
       "<style>\n",
       "    table.wandb td:nth-child(1) { padding: 0 10px; text-align: left ; width: auto;} td:nth-child(2) {text-align: left ; width: 100%}\n",
       "    .wandb-row { display: flex; flex-direction: row; flex-wrap: wrap; justify-content: flex-start; width: 100% }\n",
       "    .wandb-col { display: flex; flex-direction: column; flex-basis: 100%; flex: 1; padding: 10px; }\n",
       "    </style>\n",
       "<div class=\"wandb-row\"><div class=\"wandb-col\"><h3>Run history:</h3><br/><table class=\"wandb\"><tr><td>epoch</td><td>▁▃▅▆█</td></tr><tr><td>train_accuracy</td><td>▁▁▁▁▁</td></tr><tr><td>train_f1</td><td>▁▁▁▁▁</td></tr><tr><td>train_loss</td><td>█▆▅▂▁</td></tr><tr><td>val_accuracy</td><td>▁▁▁▁▁</td></tr><tr><td>val_f1</td><td>▁▁▁▁▁</td></tr><tr><td>val_loss</td><td>█▆▅▃▁</td></tr></table><br/></div><div class=\"wandb-col\"><h3>Run summary:</h3><br/><table class=\"wandb\"><tr><td>epoch</td><td>5</td></tr><tr><td>train_accuracy</td><td>0.432</td></tr><tr><td>train_f1</td><td>0.26065</td></tr><tr><td>train_loss</td><td>0.70609</td></tr><tr><td>val_accuracy</td><td>0.44444</td></tr><tr><td>val_f1</td><td>0.2735</td></tr><tr><td>val_loss</td><td>0.70302</td></tr></table><br/></div></div>"
      ],
      "text/plain": [
       "<IPython.core.display.HTML object>"
      ]
     },
     "metadata": {},
     "output_type": "display_data"
    },
    {
     "data": {
      "text/html": [
       " View run <strong style=\"color:#cdcd00\">zesty-sweep-88</strong> at: <a href='https://wandb.ai/barbonigiorgia-sapienza-universit-di-roma/graph-classification-graphs_sc/runs/2xy72ht3' target=\"_blank\">https://wandb.ai/barbonigiorgia-sapienza-universit-di-roma/graph-classification-graphs_sc/runs/2xy72ht3</a><br/> View project at: <a href='https://wandb.ai/barbonigiorgia-sapienza-universit-di-roma/graph-classification-graphs_sc' target=\"_blank\">https://wandb.ai/barbonigiorgia-sapienza-universit-di-roma/graph-classification-graphs_sc</a><br/>Synced 5 W&B file(s), 0 media file(s), 4 artifact file(s) and 0 other file(s)"
      ],
      "text/plain": [
       "<IPython.core.display.HTML object>"
      ]
     },
     "metadata": {},
     "output_type": "display_data"
    },
    {
     "data": {
      "text/html": [
       "Find logs at: <code>.\\wandb\\run-20241119_163720-2xy72ht3\\logs</code>"
      ],
      "text/plain": [
       "<IPython.core.display.HTML object>"
      ]
     },
     "metadata": {},
     "output_type": "display_data"
    },
    {
     "name": "stderr",
     "output_type": "stream",
     "text": [
      "\u001b[34m\u001b[1mwandb\u001b[0m: Agent Starting Run: d4jup8qf with config:\n",
      "\u001b[34m\u001b[1mwandb\u001b[0m: \tbatch_size: 32\n",
      "\u001b[34m\u001b[1mwandb\u001b[0m: \tin_channels: 6\n",
      "\u001b[34m\u001b[1mwandb\u001b[0m: \tlearning_rate: 0.0001\n",
      "\u001b[34m\u001b[1mwandb\u001b[0m: \tnum_epochs: 5\n",
      "\u001b[34m\u001b[1mwandb\u001b[0m: \tnum_heads: 3\n",
      "\u001b[34m\u001b[1mwandb\u001b[0m: \toptimizer: adam\n",
      "\u001b[34m\u001b[1mwandb\u001b[0m: \tout_channels: 16\n",
      "\u001b[34m\u001b[1mwandb\u001b[0m: \trandom_state: 42\n",
      "\u001b[34m\u001b[1mwandb\u001b[0m: \ttest_size: 0.3\n",
      "\u001b[34m\u001b[1mwandb\u001b[0m: \tweight_decay: 1e-05\n"
     ]
    },
    {
     "data": {
      "text/html": [
       "Tracking run with wandb version 0.18.5"
      ],
      "text/plain": [
       "<IPython.core.display.HTML object>"
      ]
     },
     "metadata": {},
     "output_type": "display_data"
    },
    {
     "data": {
      "text/html": [
       "Run data is saved locally in <code>c:\\Users\\barbo\\brain classifier repo\\brain_classifier\\src\\wandb\\run-20241119_163741-d4jup8qf</code>"
      ],
      "text/plain": [
       "<IPython.core.display.HTML object>"
      ]
     },
     "metadata": {},
     "output_type": "display_data"
    },
    {
     "data": {
      "text/html": [
       "Syncing run <strong><a href='https://wandb.ai/barbonigiorgia-sapienza-universit-di-roma/graph-classification-graphs_sc/runs/d4jup8qf' target=\"_blank\">fresh-sweep-89</a></strong> to <a href='https://wandb.ai/barbonigiorgia-sapienza-universit-di-roma/graph-classification-graphs_sc' target=\"_blank\">Weights & Biases</a> (<a href='https://wandb.me/run' target=\"_blank\">docs</a>)<br/>Sweep page: <a href='https://wandb.ai/barbonigiorgia-sapienza-universit-di-roma/graph-classification-graphs_sc/sweeps/f8yd3ova' target=\"_blank\">https://wandb.ai/barbonigiorgia-sapienza-universit-di-roma/graph-classification-graphs_sc/sweeps/f8yd3ova</a>"
      ],
      "text/plain": [
       "<IPython.core.display.HTML object>"
      ]
     },
     "metadata": {},
     "output_type": "display_data"
    },
    {
     "data": {
      "text/html": [
       " View project at <a href='https://wandb.ai/barbonigiorgia-sapienza-universit-di-roma/graph-classification-graphs_sc' target=\"_blank\">https://wandb.ai/barbonigiorgia-sapienza-universit-di-roma/graph-classification-graphs_sc</a>"
      ],
      "text/plain": [
       "<IPython.core.display.HTML object>"
      ]
     },
     "metadata": {},
     "output_type": "display_data"
    },
    {
     "data": {
      "text/html": [
       " View sweep at <a href='https://wandb.ai/barbonigiorgia-sapienza-universit-di-roma/graph-classification-graphs_sc/sweeps/f8yd3ova' target=\"_blank\">https://wandb.ai/barbonigiorgia-sapienza-universit-di-roma/graph-classification-graphs_sc/sweeps/f8yd3ova</a>"
      ],
      "text/plain": [
       "<IPython.core.display.HTML object>"
      ]
     },
     "metadata": {},
     "output_type": "display_data"
    },
    {
     "data": {
      "text/html": [
       " View run at <a href='https://wandb.ai/barbonigiorgia-sapienza-universit-di-roma/graph-classification-graphs_sc/runs/d4jup8qf' target=\"_blank\">https://wandb.ai/barbonigiorgia-sapienza-universit-di-roma/graph-classification-graphs_sc/runs/d4jup8qf</a>"
      ],
      "text/plain": [
       "<IPython.core.display.HTML object>"
      ]
     },
     "metadata": {},
     "output_type": "display_data"
    },
    {
     "name": "stdout",
     "output_type": "stream",
     "text": [
      "Running with config: {'batch_size': 32, 'in_channels': 6, 'learning_rate': 0.0001, 'num_epochs': 5, 'num_heads': 3, 'optimizer': 'adam', 'out_channels': 16, 'random_state': 42, 'test_size': 0.3, 'weight_decay': 1e-05}\n"
     ]
    },
    {
     "data": {
      "text/html": [
       "<style>\n",
       "    table.wandb td:nth-child(1) { padding: 0 10px; text-align: left ; width: auto;} td:nth-child(2) {text-align: left ; width: 100%}\n",
       "    .wandb-row { display: flex; flex-direction: row; flex-wrap: wrap; justify-content: flex-start; width: 100% }\n",
       "    .wandb-col { display: flex; flex-direction: column; flex-basis: 100%; flex: 1; padding: 10px; }\n",
       "    </style>\n",
       "<div class=\"wandb-row\"><div class=\"wandb-col\"><h3>Run history:</h3><br/><table class=\"wandb\"><tr><td>epoch</td><td>▁▃▅▆█</td></tr><tr><td>train_accuracy</td><td>▁▁▁▁▁</td></tr><tr><td>train_f1</td><td>▁▁▁▁▁</td></tr><tr><td>train_loss</td><td>█▆▅▂▁</td></tr><tr><td>val_accuracy</td><td>▁▁▁▁▁</td></tr><tr><td>val_f1</td><td>▁▁▁▁▁</td></tr><tr><td>val_loss</td><td>█▆▅▃▁</td></tr></table><br/></div><div class=\"wandb-col\"><h3>Run summary:</h3><br/><table class=\"wandb\"><tr><td>epoch</td><td>5</td></tr><tr><td>train_accuracy</td><td>0.432</td></tr><tr><td>train_f1</td><td>0.26065</td></tr><tr><td>train_loss</td><td>0.70609</td></tr><tr><td>val_accuracy</td><td>0.44444</td></tr><tr><td>val_f1</td><td>0.2735</td></tr><tr><td>val_loss</td><td>0.70302</td></tr></table><br/></div></div>"
      ],
      "text/plain": [
       "<IPython.core.display.HTML object>"
      ]
     },
     "metadata": {},
     "output_type": "display_data"
    },
    {
     "data": {
      "text/html": [
       " View run <strong style=\"color:#cdcd00\">fresh-sweep-89</strong> at: <a href='https://wandb.ai/barbonigiorgia-sapienza-universit-di-roma/graph-classification-graphs_sc/runs/d4jup8qf' target=\"_blank\">https://wandb.ai/barbonigiorgia-sapienza-universit-di-roma/graph-classification-graphs_sc/runs/d4jup8qf</a><br/> View project at: <a href='https://wandb.ai/barbonigiorgia-sapienza-universit-di-roma/graph-classification-graphs_sc' target=\"_blank\">https://wandb.ai/barbonigiorgia-sapienza-universit-di-roma/graph-classification-graphs_sc</a><br/>Synced 5 W&B file(s), 0 media file(s), 4 artifact file(s) and 0 other file(s)"
      ],
      "text/plain": [
       "<IPython.core.display.HTML object>"
      ]
     },
     "metadata": {},
     "output_type": "display_data"
    },
    {
     "data": {
      "text/html": [
       "Find logs at: <code>.\\wandb\\run-20241119_163741-d4jup8qf\\logs</code>"
      ],
      "text/plain": [
       "<IPython.core.display.HTML object>"
      ]
     },
     "metadata": {},
     "output_type": "display_data"
    },
    {
     "name": "stderr",
     "output_type": "stream",
     "text": [
      "\u001b[34m\u001b[1mwandb\u001b[0m: Sweep Agent: Waiting for job.\n",
      "\u001b[34m\u001b[1mwandb\u001b[0m: Job received.\n",
      "\u001b[34m\u001b[1mwandb\u001b[0m: Agent Starting Run: ezfw47bz with config:\n",
      "\u001b[34m\u001b[1mwandb\u001b[0m: \tbatch_size: 32\n",
      "\u001b[34m\u001b[1mwandb\u001b[0m: \tin_channels: 6\n",
      "\u001b[34m\u001b[1mwandb\u001b[0m: \tlearning_rate: 0.0001\n",
      "\u001b[34m\u001b[1mwandb\u001b[0m: \tnum_epochs: 5\n",
      "\u001b[34m\u001b[1mwandb\u001b[0m: \tnum_heads: 3\n",
      "\u001b[34m\u001b[1mwandb\u001b[0m: \toptimizer: adam\n",
      "\u001b[34m\u001b[1mwandb\u001b[0m: \tout_channels: 16\n",
      "\u001b[34m\u001b[1mwandb\u001b[0m: \trandom_state: 42\n",
      "\u001b[34m\u001b[1mwandb\u001b[0m: \ttest_size: 0.3\n",
      "\u001b[34m\u001b[1mwandb\u001b[0m: \tweight_decay: 0.0001\n"
     ]
    },
    {
     "data": {
      "text/html": [
       "Tracking run with wandb version 0.18.5"
      ],
      "text/plain": [
       "<IPython.core.display.HTML object>"
      ]
     },
     "metadata": {},
     "output_type": "display_data"
    },
    {
     "data": {
      "text/html": [
       "Run data is saved locally in <code>c:\\Users\\barbo\\brain classifier repo\\brain_classifier\\src\\wandb\\run-20241119_163806-ezfw47bz</code>"
      ],
      "text/plain": [
       "<IPython.core.display.HTML object>"
      ]
     },
     "metadata": {},
     "output_type": "display_data"
    },
    {
     "data": {
      "text/html": [
       "Syncing run <strong><a href='https://wandb.ai/barbonigiorgia-sapienza-universit-di-roma/graph-classification-graphs_sc/runs/ezfw47bz' target=\"_blank\">kind-sweep-90</a></strong> to <a href='https://wandb.ai/barbonigiorgia-sapienza-universit-di-roma/graph-classification-graphs_sc' target=\"_blank\">Weights & Biases</a> (<a href='https://wandb.me/run' target=\"_blank\">docs</a>)<br/>Sweep page: <a href='https://wandb.ai/barbonigiorgia-sapienza-universit-di-roma/graph-classification-graphs_sc/sweeps/f8yd3ova' target=\"_blank\">https://wandb.ai/barbonigiorgia-sapienza-universit-di-roma/graph-classification-graphs_sc/sweeps/f8yd3ova</a>"
      ],
      "text/plain": [
       "<IPython.core.display.HTML object>"
      ]
     },
     "metadata": {},
     "output_type": "display_data"
    },
    {
     "data": {
      "text/html": [
       " View project at <a href='https://wandb.ai/barbonigiorgia-sapienza-universit-di-roma/graph-classification-graphs_sc' target=\"_blank\">https://wandb.ai/barbonigiorgia-sapienza-universit-di-roma/graph-classification-graphs_sc</a>"
      ],
      "text/plain": [
       "<IPython.core.display.HTML object>"
      ]
     },
     "metadata": {},
     "output_type": "display_data"
    },
    {
     "data": {
      "text/html": [
       " View sweep at <a href='https://wandb.ai/barbonigiorgia-sapienza-universit-di-roma/graph-classification-graphs_sc/sweeps/f8yd3ova' target=\"_blank\">https://wandb.ai/barbonigiorgia-sapienza-universit-di-roma/graph-classification-graphs_sc/sweeps/f8yd3ova</a>"
      ],
      "text/plain": [
       "<IPython.core.display.HTML object>"
      ]
     },
     "metadata": {},
     "output_type": "display_data"
    },
    {
     "data": {
      "text/html": [
       " View run at <a href='https://wandb.ai/barbonigiorgia-sapienza-universit-di-roma/graph-classification-graphs_sc/runs/ezfw47bz' target=\"_blank\">https://wandb.ai/barbonigiorgia-sapienza-universit-di-roma/graph-classification-graphs_sc/runs/ezfw47bz</a>"
      ],
      "text/plain": [
       "<IPython.core.display.HTML object>"
      ]
     },
     "metadata": {},
     "output_type": "display_data"
    },
    {
     "name": "stdout",
     "output_type": "stream",
     "text": [
      "Running with config: {'batch_size': 32, 'in_channels': 6, 'learning_rate': 0.0001, 'num_epochs': 5, 'num_heads': 3, 'optimizer': 'adam', 'out_channels': 16, 'random_state': 42, 'test_size': 0.3, 'weight_decay': 0.0001}\n"
     ]
    },
    {
     "data": {
      "text/html": [
       "<style>\n",
       "    table.wandb td:nth-child(1) { padding: 0 10px; text-align: left ; width: auto;} td:nth-child(2) {text-align: left ; width: 100%}\n",
       "    .wandb-row { display: flex; flex-direction: row; flex-wrap: wrap; justify-content: flex-start; width: 100% }\n",
       "    .wandb-col { display: flex; flex-direction: column; flex-basis: 100%; flex: 1; padding: 10px; }\n",
       "    </style>\n",
       "<div class=\"wandb-row\"><div class=\"wandb-col\"><h3>Run history:</h3><br/><table class=\"wandb\"><tr><td>epoch</td><td>▁▃▅▆█</td></tr><tr><td>train_accuracy</td><td>▁▁▁▁▁</td></tr><tr><td>train_f1</td><td>▁▁▁▁▁</td></tr><tr><td>train_loss</td><td>█▆▅▂▁</td></tr><tr><td>val_accuracy</td><td>▁▁▁▁▁</td></tr><tr><td>val_f1</td><td>▁▁▁▁▁</td></tr><tr><td>val_loss</td><td>█▆▅▃▁</td></tr></table><br/></div><div class=\"wandb-col\"><h3>Run summary:</h3><br/><table class=\"wandb\"><tr><td>epoch</td><td>5</td></tr><tr><td>train_accuracy</td><td>0.432</td></tr><tr><td>train_f1</td><td>0.26065</td></tr><tr><td>train_loss</td><td>0.70609</td></tr><tr><td>val_accuracy</td><td>0.44444</td></tr><tr><td>val_f1</td><td>0.2735</td></tr><tr><td>val_loss</td><td>0.70302</td></tr></table><br/></div></div>"
      ],
      "text/plain": [
       "<IPython.core.display.HTML object>"
      ]
     },
     "metadata": {},
     "output_type": "display_data"
    },
    {
     "data": {
      "text/html": [
       " View run <strong style=\"color:#cdcd00\">kind-sweep-90</strong> at: <a href='https://wandb.ai/barbonigiorgia-sapienza-universit-di-roma/graph-classification-graphs_sc/runs/ezfw47bz' target=\"_blank\">https://wandb.ai/barbonigiorgia-sapienza-universit-di-roma/graph-classification-graphs_sc/runs/ezfw47bz</a><br/> View project at: <a href='https://wandb.ai/barbonigiorgia-sapienza-universit-di-roma/graph-classification-graphs_sc' target=\"_blank\">https://wandb.ai/barbonigiorgia-sapienza-universit-di-roma/graph-classification-graphs_sc</a><br/>Synced 5 W&B file(s), 0 media file(s), 2 artifact file(s) and 0 other file(s)"
      ],
      "text/plain": [
       "<IPython.core.display.HTML object>"
      ]
     },
     "metadata": {},
     "output_type": "display_data"
    },
    {
     "data": {
      "text/html": [
       "Find logs at: <code>.\\wandb\\run-20241119_163806-ezfw47bz\\logs</code>"
      ],
      "text/plain": [
       "<IPython.core.display.HTML object>"
      ]
     },
     "metadata": {},
     "output_type": "display_data"
    },
    {
     "name": "stderr",
     "output_type": "stream",
     "text": [
      "\u001b[34m\u001b[1mwandb\u001b[0m: Agent Starting Run: vwb5igdg with config:\n",
      "\u001b[34m\u001b[1mwandb\u001b[0m: \tbatch_size: 32\n",
      "\u001b[34m\u001b[1mwandb\u001b[0m: \tin_channels: 6\n",
      "\u001b[34m\u001b[1mwandb\u001b[0m: \tlearning_rate: 0.0001\n",
      "\u001b[34m\u001b[1mwandb\u001b[0m: \tnum_epochs: 5\n",
      "\u001b[34m\u001b[1mwandb\u001b[0m: \tnum_heads: 4\n",
      "\u001b[34m\u001b[1mwandb\u001b[0m: \toptimizer: adam\n",
      "\u001b[34m\u001b[1mwandb\u001b[0m: \tout_channels: 8\n",
      "\u001b[34m\u001b[1mwandb\u001b[0m: \trandom_state: 42\n",
      "\u001b[34m\u001b[1mwandb\u001b[0m: \ttest_size: 0.3\n",
      "\u001b[34m\u001b[1mwandb\u001b[0m: \tweight_decay: 0\n"
     ]
    },
    {
     "data": {
      "text/html": [
       "Tracking run with wandb version 0.18.5"
      ],
      "text/plain": [
       "<IPython.core.display.HTML object>"
      ]
     },
     "metadata": {},
     "output_type": "display_data"
    },
    {
     "data": {
      "text/html": [
       "Run data is saved locally in <code>c:\\Users\\barbo\\brain classifier repo\\brain_classifier\\src\\wandb\\run-20241119_163823-vwb5igdg</code>"
      ],
      "text/plain": [
       "<IPython.core.display.HTML object>"
      ]
     },
     "metadata": {},
     "output_type": "display_data"
    },
    {
     "data": {
      "text/html": [
       "Syncing run <strong><a href='https://wandb.ai/barbonigiorgia-sapienza-universit-di-roma/graph-classification-graphs_sc/runs/vwb5igdg' target=\"_blank\">silver-sweep-91</a></strong> to <a href='https://wandb.ai/barbonigiorgia-sapienza-universit-di-roma/graph-classification-graphs_sc' target=\"_blank\">Weights & Biases</a> (<a href='https://wandb.me/run' target=\"_blank\">docs</a>)<br/>Sweep page: <a href='https://wandb.ai/barbonigiorgia-sapienza-universit-di-roma/graph-classification-graphs_sc/sweeps/f8yd3ova' target=\"_blank\">https://wandb.ai/barbonigiorgia-sapienza-universit-di-roma/graph-classification-graphs_sc/sweeps/f8yd3ova</a>"
      ],
      "text/plain": [
       "<IPython.core.display.HTML object>"
      ]
     },
     "metadata": {},
     "output_type": "display_data"
    },
    {
     "data": {
      "text/html": [
       " View project at <a href='https://wandb.ai/barbonigiorgia-sapienza-universit-di-roma/graph-classification-graphs_sc' target=\"_blank\">https://wandb.ai/barbonigiorgia-sapienza-universit-di-roma/graph-classification-graphs_sc</a>"
      ],
      "text/plain": [
       "<IPython.core.display.HTML object>"
      ]
     },
     "metadata": {},
     "output_type": "display_data"
    },
    {
     "data": {
      "text/html": [
       " View sweep at <a href='https://wandb.ai/barbonigiorgia-sapienza-universit-di-roma/graph-classification-graphs_sc/sweeps/f8yd3ova' target=\"_blank\">https://wandb.ai/barbonigiorgia-sapienza-universit-di-roma/graph-classification-graphs_sc/sweeps/f8yd3ova</a>"
      ],
      "text/plain": [
       "<IPython.core.display.HTML object>"
      ]
     },
     "metadata": {},
     "output_type": "display_data"
    },
    {
     "data": {
      "text/html": [
       " View run at <a href='https://wandb.ai/barbonigiorgia-sapienza-universit-di-roma/graph-classification-graphs_sc/runs/vwb5igdg' target=\"_blank\">https://wandb.ai/barbonigiorgia-sapienza-universit-di-roma/graph-classification-graphs_sc/runs/vwb5igdg</a>"
      ],
      "text/plain": [
       "<IPython.core.display.HTML object>"
      ]
     },
     "metadata": {},
     "output_type": "display_data"
    },
    {
     "name": "stdout",
     "output_type": "stream",
     "text": [
      "Running with config: {'batch_size': 32, 'in_channels': 6, 'learning_rate': 0.0001, 'num_epochs': 5, 'num_heads': 4, 'optimizer': 'adam', 'out_channels': 8, 'random_state': 42, 'test_size': 0.3, 'weight_decay': 0}\n"
     ]
    },
    {
     "data": {
      "text/html": [
       "<style>\n",
       "    table.wandb td:nth-child(1) { padding: 0 10px; text-align: left ; width: auto;} td:nth-child(2) {text-align: left ; width: 100%}\n",
       "    .wandb-row { display: flex; flex-direction: row; flex-wrap: wrap; justify-content: flex-start; width: 100% }\n",
       "    .wandb-col { display: flex; flex-direction: column; flex-basis: 100%; flex: 1; padding: 10px; }\n",
       "    </style>\n",
       "<div class=\"wandb-row\"><div class=\"wandb-col\"><h3>Run history:</h3><br/><table class=\"wandb\"><tr><td>epoch</td><td>▁▃▅▆█</td></tr><tr><td>train_accuracy</td><td>▁▁▁▁▁</td></tr><tr><td>train_f1</td><td>▁▁▁▁▁</td></tr><tr><td>train_loss</td><td>█▆▅▂▁</td></tr><tr><td>val_accuracy</td><td>▁▁▁▁▁</td></tr><tr><td>val_f1</td><td>▁▁▁▁▁</td></tr><tr><td>val_loss</td><td>█▆▅▃▁</td></tr></table><br/></div><div class=\"wandb-col\"><h3>Run summary:</h3><br/><table class=\"wandb\"><tr><td>epoch</td><td>5</td></tr><tr><td>train_accuracy</td><td>0.432</td></tr><tr><td>train_f1</td><td>0.26065</td></tr><tr><td>train_loss</td><td>0.70827</td></tr><tr><td>val_accuracy</td><td>0.44444</td></tr><tr><td>val_f1</td><td>0.2735</td></tr><tr><td>val_loss</td><td>0.70609</td></tr></table><br/></div></div>"
      ],
      "text/plain": [
       "<IPython.core.display.HTML object>"
      ]
     },
     "metadata": {},
     "output_type": "display_data"
    },
    {
     "data": {
      "text/html": [
       " View run <strong style=\"color:#cdcd00\">silver-sweep-91</strong> at: <a href='https://wandb.ai/barbonigiorgia-sapienza-universit-di-roma/graph-classification-graphs_sc/runs/vwb5igdg' target=\"_blank\">https://wandb.ai/barbonigiorgia-sapienza-universit-di-roma/graph-classification-graphs_sc/runs/vwb5igdg</a><br/> View project at: <a href='https://wandb.ai/barbonigiorgia-sapienza-universit-di-roma/graph-classification-graphs_sc' target=\"_blank\">https://wandb.ai/barbonigiorgia-sapienza-universit-di-roma/graph-classification-graphs_sc</a><br/>Synced 5 W&B file(s), 0 media file(s), 0 artifact file(s) and 0 other file(s)"
      ],
      "text/plain": [
       "<IPython.core.display.HTML object>"
      ]
     },
     "metadata": {},
     "output_type": "display_data"
    },
    {
     "data": {
      "text/html": [
       "Find logs at: <code>.\\wandb\\run-20241119_163823-vwb5igdg\\logs</code>"
      ],
      "text/plain": [
       "<IPython.core.display.HTML object>"
      ]
     },
     "metadata": {},
     "output_type": "display_data"
    },
    {
     "name": "stderr",
     "output_type": "stream",
     "text": [
      "\u001b[34m\u001b[1mwandb\u001b[0m: Agent Starting Run: o4g1vp61 with config:\n",
      "\u001b[34m\u001b[1mwandb\u001b[0m: \tbatch_size: 32\n",
      "\u001b[34m\u001b[1mwandb\u001b[0m: \tin_channels: 6\n",
      "\u001b[34m\u001b[1mwandb\u001b[0m: \tlearning_rate: 0.0001\n",
      "\u001b[34m\u001b[1mwandb\u001b[0m: \tnum_epochs: 5\n",
      "\u001b[34m\u001b[1mwandb\u001b[0m: \tnum_heads: 4\n",
      "\u001b[34m\u001b[1mwandb\u001b[0m: \toptimizer: adam\n",
      "\u001b[34m\u001b[1mwandb\u001b[0m: \tout_channels: 8\n",
      "\u001b[34m\u001b[1mwandb\u001b[0m: \trandom_state: 42\n",
      "\u001b[34m\u001b[1mwandb\u001b[0m: \ttest_size: 0.3\n",
      "\u001b[34m\u001b[1mwandb\u001b[0m: \tweight_decay: 1e-05\n"
     ]
    },
    {
     "data": {
      "text/html": [
       "Tracking run with wandb version 0.18.5"
      ],
      "text/plain": [
       "<IPython.core.display.HTML object>"
      ]
     },
     "metadata": {},
     "output_type": "display_data"
    },
    {
     "data": {
      "text/html": [
       "Run data is saved locally in <code>c:\\Users\\barbo\\brain classifier repo\\brain_classifier\\src\\wandb\\run-20241119_163838-o4g1vp61</code>"
      ],
      "text/plain": [
       "<IPython.core.display.HTML object>"
      ]
     },
     "metadata": {},
     "output_type": "display_data"
    },
    {
     "data": {
      "text/html": [
       "Syncing run <strong><a href='https://wandb.ai/barbonigiorgia-sapienza-universit-di-roma/graph-classification-graphs_sc/runs/o4g1vp61' target=\"_blank\">logical-sweep-92</a></strong> to <a href='https://wandb.ai/barbonigiorgia-sapienza-universit-di-roma/graph-classification-graphs_sc' target=\"_blank\">Weights & Biases</a> (<a href='https://wandb.me/run' target=\"_blank\">docs</a>)<br/>Sweep page: <a href='https://wandb.ai/barbonigiorgia-sapienza-universit-di-roma/graph-classification-graphs_sc/sweeps/f8yd3ova' target=\"_blank\">https://wandb.ai/barbonigiorgia-sapienza-universit-di-roma/graph-classification-graphs_sc/sweeps/f8yd3ova</a>"
      ],
      "text/plain": [
       "<IPython.core.display.HTML object>"
      ]
     },
     "metadata": {},
     "output_type": "display_data"
    },
    {
     "data": {
      "text/html": [
       " View project at <a href='https://wandb.ai/barbonigiorgia-sapienza-universit-di-roma/graph-classification-graphs_sc' target=\"_blank\">https://wandb.ai/barbonigiorgia-sapienza-universit-di-roma/graph-classification-graphs_sc</a>"
      ],
      "text/plain": [
       "<IPython.core.display.HTML object>"
      ]
     },
     "metadata": {},
     "output_type": "display_data"
    },
    {
     "data": {
      "text/html": [
       " View sweep at <a href='https://wandb.ai/barbonigiorgia-sapienza-universit-di-roma/graph-classification-graphs_sc/sweeps/f8yd3ova' target=\"_blank\">https://wandb.ai/barbonigiorgia-sapienza-universit-di-roma/graph-classification-graphs_sc/sweeps/f8yd3ova</a>"
      ],
      "text/plain": [
       "<IPython.core.display.HTML object>"
      ]
     },
     "metadata": {},
     "output_type": "display_data"
    },
    {
     "data": {
      "text/html": [
       " View run at <a href='https://wandb.ai/barbonigiorgia-sapienza-universit-di-roma/graph-classification-graphs_sc/runs/o4g1vp61' target=\"_blank\">https://wandb.ai/barbonigiorgia-sapienza-universit-di-roma/graph-classification-graphs_sc/runs/o4g1vp61</a>"
      ],
      "text/plain": [
       "<IPython.core.display.HTML object>"
      ]
     },
     "metadata": {},
     "output_type": "display_data"
    },
    {
     "name": "stdout",
     "output_type": "stream",
     "text": [
      "Running with config: {'batch_size': 32, 'in_channels': 6, 'learning_rate': 0.0001, 'num_epochs': 5, 'num_heads': 4, 'optimizer': 'adam', 'out_channels': 8, 'random_state': 42, 'test_size': 0.3, 'weight_decay': 1e-05}\n"
     ]
    },
    {
     "data": {
      "text/html": [
       "<style>\n",
       "    table.wandb td:nth-child(1) { padding: 0 10px; text-align: left ; width: auto;} td:nth-child(2) {text-align: left ; width: 100%}\n",
       "    .wandb-row { display: flex; flex-direction: row; flex-wrap: wrap; justify-content: flex-start; width: 100% }\n",
       "    .wandb-col { display: flex; flex-direction: column; flex-basis: 100%; flex: 1; padding: 10px; }\n",
       "    </style>\n",
       "<div class=\"wandb-row\"><div class=\"wandb-col\"><h3>Run history:</h3><br/><table class=\"wandb\"><tr><td>epoch</td><td>▁▃▅▆█</td></tr><tr><td>train_accuracy</td><td>▁▁▁▁▁</td></tr><tr><td>train_f1</td><td>▁▁▁▁▁</td></tr><tr><td>train_loss</td><td>█▆▅▂▁</td></tr><tr><td>val_accuracy</td><td>▁▁▁▁▁</td></tr><tr><td>val_f1</td><td>▁▁▁▁▁</td></tr><tr><td>val_loss</td><td>█▆▅▃▁</td></tr></table><br/></div><div class=\"wandb-col\"><h3>Run summary:</h3><br/><table class=\"wandb\"><tr><td>epoch</td><td>5</td></tr><tr><td>train_accuracy</td><td>0.432</td></tr><tr><td>train_f1</td><td>0.26065</td></tr><tr><td>train_loss</td><td>0.70827</td></tr><tr><td>val_accuracy</td><td>0.44444</td></tr><tr><td>val_f1</td><td>0.2735</td></tr><tr><td>val_loss</td><td>0.70609</td></tr></table><br/></div></div>"
      ],
      "text/plain": [
       "<IPython.core.display.HTML object>"
      ]
     },
     "metadata": {},
     "output_type": "display_data"
    },
    {
     "data": {
      "text/html": [
       " View run <strong style=\"color:#cdcd00\">logical-sweep-92</strong> at: <a href='https://wandb.ai/barbonigiorgia-sapienza-universit-di-roma/graph-classification-graphs_sc/runs/o4g1vp61' target=\"_blank\">https://wandb.ai/barbonigiorgia-sapienza-universit-di-roma/graph-classification-graphs_sc/runs/o4g1vp61</a><br/> View project at: <a href='https://wandb.ai/barbonigiorgia-sapienza-universit-di-roma/graph-classification-graphs_sc' target=\"_blank\">https://wandb.ai/barbonigiorgia-sapienza-universit-di-roma/graph-classification-graphs_sc</a><br/>Synced 5 W&B file(s), 0 media file(s), 2 artifact file(s) and 0 other file(s)"
      ],
      "text/plain": [
       "<IPython.core.display.HTML object>"
      ]
     },
     "metadata": {},
     "output_type": "display_data"
    },
    {
     "data": {
      "text/html": [
       "Find logs at: <code>.\\wandb\\run-20241119_163838-o4g1vp61\\logs</code>"
      ],
      "text/plain": [
       "<IPython.core.display.HTML object>"
      ]
     },
     "metadata": {},
     "output_type": "display_data"
    },
    {
     "name": "stderr",
     "output_type": "stream",
     "text": [
      "\u001b[34m\u001b[1mwandb\u001b[0m: Sweep Agent: Waiting for job.\n",
      "\u001b[34m\u001b[1mwandb\u001b[0m: Job received.\n",
      "\u001b[34m\u001b[1mwandb\u001b[0m: Agent Starting Run: c4jy7g7i with config:\n",
      "\u001b[34m\u001b[1mwandb\u001b[0m: \tbatch_size: 32\n",
      "\u001b[34m\u001b[1mwandb\u001b[0m: \tin_channels: 6\n",
      "\u001b[34m\u001b[1mwandb\u001b[0m: \tlearning_rate: 0.0001\n",
      "\u001b[34m\u001b[1mwandb\u001b[0m: \tnum_epochs: 5\n",
      "\u001b[34m\u001b[1mwandb\u001b[0m: \tnum_heads: 4\n",
      "\u001b[34m\u001b[1mwandb\u001b[0m: \toptimizer: adam\n",
      "\u001b[34m\u001b[1mwandb\u001b[0m: \tout_channels: 8\n",
      "\u001b[34m\u001b[1mwandb\u001b[0m: \trandom_state: 42\n",
      "\u001b[34m\u001b[1mwandb\u001b[0m: \ttest_size: 0.3\n",
      "\u001b[34m\u001b[1mwandb\u001b[0m: \tweight_decay: 0.0001\n"
     ]
    },
    {
     "data": {
      "text/html": [
       "Tracking run with wandb version 0.18.5"
      ],
      "text/plain": [
       "<IPython.core.display.HTML object>"
      ]
     },
     "metadata": {},
     "output_type": "display_data"
    },
    {
     "data": {
      "text/html": [
       "Run data is saved locally in <code>c:\\Users\\barbo\\brain classifier repo\\brain_classifier\\src\\wandb\\run-20241119_163904-c4jy7g7i</code>"
      ],
      "text/plain": [
       "<IPython.core.display.HTML object>"
      ]
     },
     "metadata": {},
     "output_type": "display_data"
    },
    {
     "data": {
      "text/html": [
       "Syncing run <strong><a href='https://wandb.ai/barbonigiorgia-sapienza-universit-di-roma/graph-classification-graphs_sc/runs/c4jy7g7i' target=\"_blank\">radiant-sweep-93</a></strong> to <a href='https://wandb.ai/barbonigiorgia-sapienza-universit-di-roma/graph-classification-graphs_sc' target=\"_blank\">Weights & Biases</a> (<a href='https://wandb.me/run' target=\"_blank\">docs</a>)<br/>Sweep page: <a href='https://wandb.ai/barbonigiorgia-sapienza-universit-di-roma/graph-classification-graphs_sc/sweeps/f8yd3ova' target=\"_blank\">https://wandb.ai/barbonigiorgia-sapienza-universit-di-roma/graph-classification-graphs_sc/sweeps/f8yd3ova</a>"
      ],
      "text/plain": [
       "<IPython.core.display.HTML object>"
      ]
     },
     "metadata": {},
     "output_type": "display_data"
    },
    {
     "data": {
      "text/html": [
       " View project at <a href='https://wandb.ai/barbonigiorgia-sapienza-universit-di-roma/graph-classification-graphs_sc' target=\"_blank\">https://wandb.ai/barbonigiorgia-sapienza-universit-di-roma/graph-classification-graphs_sc</a>"
      ],
      "text/plain": [
       "<IPython.core.display.HTML object>"
      ]
     },
     "metadata": {},
     "output_type": "display_data"
    },
    {
     "data": {
      "text/html": [
       " View sweep at <a href='https://wandb.ai/barbonigiorgia-sapienza-universit-di-roma/graph-classification-graphs_sc/sweeps/f8yd3ova' target=\"_blank\">https://wandb.ai/barbonigiorgia-sapienza-universit-di-roma/graph-classification-graphs_sc/sweeps/f8yd3ova</a>"
      ],
      "text/plain": [
       "<IPython.core.display.HTML object>"
      ]
     },
     "metadata": {},
     "output_type": "display_data"
    },
    {
     "data": {
      "text/html": [
       " View run at <a href='https://wandb.ai/barbonigiorgia-sapienza-universit-di-roma/graph-classification-graphs_sc/runs/c4jy7g7i' target=\"_blank\">https://wandb.ai/barbonigiorgia-sapienza-universit-di-roma/graph-classification-graphs_sc/runs/c4jy7g7i</a>"
      ],
      "text/plain": [
       "<IPython.core.display.HTML object>"
      ]
     },
     "metadata": {},
     "output_type": "display_data"
    },
    {
     "name": "stdout",
     "output_type": "stream",
     "text": [
      "Running with config: {'batch_size': 32, 'in_channels': 6, 'learning_rate': 0.0001, 'num_epochs': 5, 'num_heads': 4, 'optimizer': 'adam', 'out_channels': 8, 'random_state': 42, 'test_size': 0.3, 'weight_decay': 0.0001}\n"
     ]
    },
    {
     "data": {
      "text/html": [
       "<style>\n",
       "    table.wandb td:nth-child(1) { padding: 0 10px; text-align: left ; width: auto;} td:nth-child(2) {text-align: left ; width: 100%}\n",
       "    .wandb-row { display: flex; flex-direction: row; flex-wrap: wrap; justify-content: flex-start; width: 100% }\n",
       "    .wandb-col { display: flex; flex-direction: column; flex-basis: 100%; flex: 1; padding: 10px; }\n",
       "    </style>\n",
       "<div class=\"wandb-row\"><div class=\"wandb-col\"><h3>Run history:</h3><br/><table class=\"wandb\"><tr><td>epoch</td><td>▁▃▅▆█</td></tr><tr><td>train_accuracy</td><td>▁▁▁▁▁</td></tr><tr><td>train_f1</td><td>▁▁▁▁▁</td></tr><tr><td>train_loss</td><td>█▆▅▂▁</td></tr><tr><td>val_accuracy</td><td>▁▁▁▁▁</td></tr><tr><td>val_f1</td><td>▁▁▁▁▁</td></tr><tr><td>val_loss</td><td>█▆▅▃▁</td></tr></table><br/></div><div class=\"wandb-col\"><h3>Run summary:</h3><br/><table class=\"wandb\"><tr><td>epoch</td><td>5</td></tr><tr><td>train_accuracy</td><td>0.432</td></tr><tr><td>train_f1</td><td>0.26065</td></tr><tr><td>train_loss</td><td>0.70827</td></tr><tr><td>val_accuracy</td><td>0.44444</td></tr><tr><td>val_f1</td><td>0.2735</td></tr><tr><td>val_loss</td><td>0.70609</td></tr></table><br/></div></div>"
      ],
      "text/plain": [
       "<IPython.core.display.HTML object>"
      ]
     },
     "metadata": {},
     "output_type": "display_data"
    },
    {
     "data": {
      "text/html": [
       " View run <strong style=\"color:#cdcd00\">radiant-sweep-93</strong> at: <a href='https://wandb.ai/barbonigiorgia-sapienza-universit-di-roma/graph-classification-graphs_sc/runs/c4jy7g7i' target=\"_blank\">https://wandb.ai/barbonigiorgia-sapienza-universit-di-roma/graph-classification-graphs_sc/runs/c4jy7g7i</a><br/> View project at: <a href='https://wandb.ai/barbonigiorgia-sapienza-universit-di-roma/graph-classification-graphs_sc' target=\"_blank\">https://wandb.ai/barbonigiorgia-sapienza-universit-di-roma/graph-classification-graphs_sc</a><br/>Synced 5 W&B file(s), 0 media file(s), 2 artifact file(s) and 0 other file(s)"
      ],
      "text/plain": [
       "<IPython.core.display.HTML object>"
      ]
     },
     "metadata": {},
     "output_type": "display_data"
    },
    {
     "data": {
      "text/html": [
       "Find logs at: <code>.\\wandb\\run-20241119_163904-c4jy7g7i\\logs</code>"
      ],
      "text/plain": [
       "<IPython.core.display.HTML object>"
      ]
     },
     "metadata": {},
     "output_type": "display_data"
    },
    {
     "name": "stderr",
     "output_type": "stream",
     "text": [
      "\u001b[34m\u001b[1mwandb\u001b[0m: Sweep Agent: Waiting for job.\n",
      "\u001b[34m\u001b[1mwandb\u001b[0m: Job received.\n",
      "\u001b[34m\u001b[1mwandb\u001b[0m: Agent Starting Run: xi016tk5 with config:\n",
      "\u001b[34m\u001b[1mwandb\u001b[0m: \tbatch_size: 32\n",
      "\u001b[34m\u001b[1mwandb\u001b[0m: \tin_channels: 6\n",
      "\u001b[34m\u001b[1mwandb\u001b[0m: \tlearning_rate: 0.0001\n",
      "\u001b[34m\u001b[1mwandb\u001b[0m: \tnum_epochs: 5\n",
      "\u001b[34m\u001b[1mwandb\u001b[0m: \tnum_heads: 4\n",
      "\u001b[34m\u001b[1mwandb\u001b[0m: \toptimizer: adam\n",
      "\u001b[34m\u001b[1mwandb\u001b[0m: \tout_channels: 16\n",
      "\u001b[34m\u001b[1mwandb\u001b[0m: \trandom_state: 42\n",
      "\u001b[34m\u001b[1mwandb\u001b[0m: \ttest_size: 0.3\n",
      "\u001b[34m\u001b[1mwandb\u001b[0m: \tweight_decay: 0\n"
     ]
    },
    {
     "data": {
      "text/html": [
       "Tracking run with wandb version 0.18.5"
      ],
      "text/plain": [
       "<IPython.core.display.HTML object>"
      ]
     },
     "metadata": {},
     "output_type": "display_data"
    },
    {
     "data": {
      "text/html": [
       "Run data is saved locally in <code>c:\\Users\\barbo\\brain classifier repo\\brain_classifier\\src\\wandb\\run-20241119_163930-xi016tk5</code>"
      ],
      "text/plain": [
       "<IPython.core.display.HTML object>"
      ]
     },
     "metadata": {},
     "output_type": "display_data"
    },
    {
     "data": {
      "text/html": [
       "Syncing run <strong><a href='https://wandb.ai/barbonigiorgia-sapienza-universit-di-roma/graph-classification-graphs_sc/runs/xi016tk5' target=\"_blank\">likely-sweep-94</a></strong> to <a href='https://wandb.ai/barbonigiorgia-sapienza-universit-di-roma/graph-classification-graphs_sc' target=\"_blank\">Weights & Biases</a> (<a href='https://wandb.me/run' target=\"_blank\">docs</a>)<br/>Sweep page: <a href='https://wandb.ai/barbonigiorgia-sapienza-universit-di-roma/graph-classification-graphs_sc/sweeps/f8yd3ova' target=\"_blank\">https://wandb.ai/barbonigiorgia-sapienza-universit-di-roma/graph-classification-graphs_sc/sweeps/f8yd3ova</a>"
      ],
      "text/plain": [
       "<IPython.core.display.HTML object>"
      ]
     },
     "metadata": {},
     "output_type": "display_data"
    },
    {
     "data": {
      "text/html": [
       " View project at <a href='https://wandb.ai/barbonigiorgia-sapienza-universit-di-roma/graph-classification-graphs_sc' target=\"_blank\">https://wandb.ai/barbonigiorgia-sapienza-universit-di-roma/graph-classification-graphs_sc</a>"
      ],
      "text/plain": [
       "<IPython.core.display.HTML object>"
      ]
     },
     "metadata": {},
     "output_type": "display_data"
    },
    {
     "data": {
      "text/html": [
       " View sweep at <a href='https://wandb.ai/barbonigiorgia-sapienza-universit-di-roma/graph-classification-graphs_sc/sweeps/f8yd3ova' target=\"_blank\">https://wandb.ai/barbonigiorgia-sapienza-universit-di-roma/graph-classification-graphs_sc/sweeps/f8yd3ova</a>"
      ],
      "text/plain": [
       "<IPython.core.display.HTML object>"
      ]
     },
     "metadata": {},
     "output_type": "display_data"
    },
    {
     "data": {
      "text/html": [
       " View run at <a href='https://wandb.ai/barbonigiorgia-sapienza-universit-di-roma/graph-classification-graphs_sc/runs/xi016tk5' target=\"_blank\">https://wandb.ai/barbonigiorgia-sapienza-universit-di-roma/graph-classification-graphs_sc/runs/xi016tk5</a>"
      ],
      "text/plain": [
       "<IPython.core.display.HTML object>"
      ]
     },
     "metadata": {},
     "output_type": "display_data"
    },
    {
     "name": "stdout",
     "output_type": "stream",
     "text": [
      "Running with config: {'batch_size': 32, 'in_channels': 6, 'learning_rate': 0.0001, 'num_epochs': 5, 'num_heads': 4, 'optimizer': 'adam', 'out_channels': 16, 'random_state': 42, 'test_size': 0.3, 'weight_decay': 0}\n"
     ]
    },
    {
     "data": {
      "text/html": [
       "<style>\n",
       "    table.wandb td:nth-child(1) { padding: 0 10px; text-align: left ; width: auto;} td:nth-child(2) {text-align: left ; width: 100%}\n",
       "    .wandb-row { display: flex; flex-direction: row; flex-wrap: wrap; justify-content: flex-start; width: 100% }\n",
       "    .wandb-col { display: flex; flex-direction: column; flex-basis: 100%; flex: 1; padding: 10px; }\n",
       "    </style>\n",
       "<div class=\"wandb-row\"><div class=\"wandb-col\"><h3>Run history:</h3><br/><table class=\"wandb\"><tr><td>epoch</td><td>▁▃▅▆█</td></tr><tr><td>train_accuracy</td><td>▁▅███</td></tr><tr><td>train_f1</td><td>▁▆███</td></tr><tr><td>train_loss</td><td>█▆▄▃▁</td></tr><tr><td>val_accuracy</td><td>▁▁▁▁▁</td></tr><tr><td>val_f1</td><td>▁▁▁▁▁</td></tr><tr><td>val_loss</td><td>█▆▅▃▁</td></tr></table><br/></div><div class=\"wandb-col\"><h3>Run summary:</h3><br/><table class=\"wandb\"><tr><td>epoch</td><td>5</td></tr><tr><td>train_accuracy</td><td>0.568</td></tr><tr><td>train_f1</td><td>0.41151</td></tr><tr><td>train_loss</td><td>0.69346</td></tr><tr><td>val_accuracy</td><td>0.55556</td></tr><tr><td>val_f1</td><td>0.39683</td></tr><tr><td>val_loss</td><td>0.69386</td></tr></table><br/></div></div>"
      ],
      "text/plain": [
       "<IPython.core.display.HTML object>"
      ]
     },
     "metadata": {},
     "output_type": "display_data"
    },
    {
     "data": {
      "text/html": [
       " View run <strong style=\"color:#cdcd00\">likely-sweep-94</strong> at: <a href='https://wandb.ai/barbonigiorgia-sapienza-universit-di-roma/graph-classification-graphs_sc/runs/xi016tk5' target=\"_blank\">https://wandb.ai/barbonigiorgia-sapienza-universit-di-roma/graph-classification-graphs_sc/runs/xi016tk5</a><br/> View project at: <a href='https://wandb.ai/barbonigiorgia-sapienza-universit-di-roma/graph-classification-graphs_sc' target=\"_blank\">https://wandb.ai/barbonigiorgia-sapienza-universit-di-roma/graph-classification-graphs_sc</a><br/>Synced 5 W&B file(s), 0 media file(s), 2 artifact file(s) and 0 other file(s)"
      ],
      "text/plain": [
       "<IPython.core.display.HTML object>"
      ]
     },
     "metadata": {},
     "output_type": "display_data"
    },
    {
     "data": {
      "text/html": [
       "Find logs at: <code>.\\wandb\\run-20241119_163930-xi016tk5\\logs</code>"
      ],
      "text/plain": [
       "<IPython.core.display.HTML object>"
      ]
     },
     "metadata": {},
     "output_type": "display_data"
    },
    {
     "name": "stderr",
     "output_type": "stream",
     "text": [
      "\u001b[34m\u001b[1mwandb\u001b[0m: Agent Starting Run: 9mkgrzs5 with config:\n",
      "\u001b[34m\u001b[1mwandb\u001b[0m: \tbatch_size: 32\n",
      "\u001b[34m\u001b[1mwandb\u001b[0m: \tin_channels: 6\n",
      "\u001b[34m\u001b[1mwandb\u001b[0m: \tlearning_rate: 0.0001\n",
      "\u001b[34m\u001b[1mwandb\u001b[0m: \tnum_epochs: 5\n",
      "\u001b[34m\u001b[1mwandb\u001b[0m: \tnum_heads: 4\n",
      "\u001b[34m\u001b[1mwandb\u001b[0m: \toptimizer: adam\n",
      "\u001b[34m\u001b[1mwandb\u001b[0m: \tout_channels: 16\n",
      "\u001b[34m\u001b[1mwandb\u001b[0m: \trandom_state: 42\n",
      "\u001b[34m\u001b[1mwandb\u001b[0m: \ttest_size: 0.3\n",
      "\u001b[34m\u001b[1mwandb\u001b[0m: \tweight_decay: 1e-05\n"
     ]
    },
    {
     "data": {
      "text/html": [
       "Tracking run with wandb version 0.18.5"
      ],
      "text/plain": [
       "<IPython.core.display.HTML object>"
      ]
     },
     "metadata": {},
     "output_type": "display_data"
    },
    {
     "data": {
      "text/html": [
       "Run data is saved locally in <code>c:\\Users\\barbo\\brain classifier repo\\brain_classifier\\src\\wandb\\run-20241119_163952-9mkgrzs5</code>"
      ],
      "text/plain": [
       "<IPython.core.display.HTML object>"
      ]
     },
     "metadata": {},
     "output_type": "display_data"
    },
    {
     "data": {
      "text/html": [
       "Syncing run <strong><a href='https://wandb.ai/barbonigiorgia-sapienza-universit-di-roma/graph-classification-graphs_sc/runs/9mkgrzs5' target=\"_blank\">dandy-sweep-95</a></strong> to <a href='https://wandb.ai/barbonigiorgia-sapienza-universit-di-roma/graph-classification-graphs_sc' target=\"_blank\">Weights & Biases</a> (<a href='https://wandb.me/run' target=\"_blank\">docs</a>)<br/>Sweep page: <a href='https://wandb.ai/barbonigiorgia-sapienza-universit-di-roma/graph-classification-graphs_sc/sweeps/f8yd3ova' target=\"_blank\">https://wandb.ai/barbonigiorgia-sapienza-universit-di-roma/graph-classification-graphs_sc/sweeps/f8yd3ova</a>"
      ],
      "text/plain": [
       "<IPython.core.display.HTML object>"
      ]
     },
     "metadata": {},
     "output_type": "display_data"
    },
    {
     "data": {
      "text/html": [
       " View project at <a href='https://wandb.ai/barbonigiorgia-sapienza-universit-di-roma/graph-classification-graphs_sc' target=\"_blank\">https://wandb.ai/barbonigiorgia-sapienza-universit-di-roma/graph-classification-graphs_sc</a>"
      ],
      "text/plain": [
       "<IPython.core.display.HTML object>"
      ]
     },
     "metadata": {},
     "output_type": "display_data"
    },
    {
     "data": {
      "text/html": [
       " View sweep at <a href='https://wandb.ai/barbonigiorgia-sapienza-universit-di-roma/graph-classification-graphs_sc/sweeps/f8yd3ova' target=\"_blank\">https://wandb.ai/barbonigiorgia-sapienza-universit-di-roma/graph-classification-graphs_sc/sweeps/f8yd3ova</a>"
      ],
      "text/plain": [
       "<IPython.core.display.HTML object>"
      ]
     },
     "metadata": {},
     "output_type": "display_data"
    },
    {
     "data": {
      "text/html": [
       " View run at <a href='https://wandb.ai/barbonigiorgia-sapienza-universit-di-roma/graph-classification-graphs_sc/runs/9mkgrzs5' target=\"_blank\">https://wandb.ai/barbonigiorgia-sapienza-universit-di-roma/graph-classification-graphs_sc/runs/9mkgrzs5</a>"
      ],
      "text/plain": [
       "<IPython.core.display.HTML object>"
      ]
     },
     "metadata": {},
     "output_type": "display_data"
    },
    {
     "name": "stdout",
     "output_type": "stream",
     "text": [
      "Running with config: {'batch_size': 32, 'in_channels': 6, 'learning_rate': 0.0001, 'num_epochs': 5, 'num_heads': 4, 'optimizer': 'adam', 'out_channels': 16, 'random_state': 42, 'test_size': 0.3, 'weight_decay': 1e-05}\n"
     ]
    },
    {
     "data": {
      "text/html": [
       "<style>\n",
       "    table.wandb td:nth-child(1) { padding: 0 10px; text-align: left ; width: auto;} td:nth-child(2) {text-align: left ; width: 100%}\n",
       "    .wandb-row { display: flex; flex-direction: row; flex-wrap: wrap; justify-content: flex-start; width: 100% }\n",
       "    .wandb-col { display: flex; flex-direction: column; flex-basis: 100%; flex: 1; padding: 10px; }\n",
       "    </style>\n",
       "<div class=\"wandb-row\"><div class=\"wandb-col\"><h3>Run history:</h3><br/><table class=\"wandb\"><tr><td>epoch</td><td>▁▃▅▆█</td></tr><tr><td>train_accuracy</td><td>▁▅███</td></tr><tr><td>train_f1</td><td>▁▆███</td></tr><tr><td>train_loss</td><td>█▆▄▃▁</td></tr><tr><td>val_accuracy</td><td>▁▁▁▁▁</td></tr><tr><td>val_f1</td><td>▁▁▁▁▁</td></tr><tr><td>val_loss</td><td>█▆▅▃▁</td></tr></table><br/></div><div class=\"wandb-col\"><h3>Run summary:</h3><br/><table class=\"wandb\"><tr><td>epoch</td><td>5</td></tr><tr><td>train_accuracy</td><td>0.568</td></tr><tr><td>train_f1</td><td>0.41151</td></tr><tr><td>train_loss</td><td>0.69346</td></tr><tr><td>val_accuracy</td><td>0.55556</td></tr><tr><td>val_f1</td><td>0.39683</td></tr><tr><td>val_loss</td><td>0.69386</td></tr></table><br/></div></div>"
      ],
      "text/plain": [
       "<IPython.core.display.HTML object>"
      ]
     },
     "metadata": {},
     "output_type": "display_data"
    },
    {
     "data": {
      "text/html": [
       " View run <strong style=\"color:#cdcd00\">dandy-sweep-95</strong> at: <a href='https://wandb.ai/barbonigiorgia-sapienza-universit-di-roma/graph-classification-graphs_sc/runs/9mkgrzs5' target=\"_blank\">https://wandb.ai/barbonigiorgia-sapienza-universit-di-roma/graph-classification-graphs_sc/runs/9mkgrzs5</a><br/> View project at: <a href='https://wandb.ai/barbonigiorgia-sapienza-universit-di-roma/graph-classification-graphs_sc' target=\"_blank\">https://wandb.ai/barbonigiorgia-sapienza-universit-di-roma/graph-classification-graphs_sc</a><br/>Synced 5 W&B file(s), 0 media file(s), 4 artifact file(s) and 0 other file(s)"
      ],
      "text/plain": [
       "<IPython.core.display.HTML object>"
      ]
     },
     "metadata": {},
     "output_type": "display_data"
    },
    {
     "data": {
      "text/html": [
       "Find logs at: <code>.\\wandb\\run-20241119_163952-9mkgrzs5\\logs</code>"
      ],
      "text/plain": [
       "<IPython.core.display.HTML object>"
      ]
     },
     "metadata": {},
     "output_type": "display_data"
    },
    {
     "name": "stderr",
     "output_type": "stream",
     "text": [
      "\u001b[34m\u001b[1mwandb\u001b[0m: Agent Starting Run: qvt7pwbc with config:\n",
      "\u001b[34m\u001b[1mwandb\u001b[0m: \tbatch_size: 32\n",
      "\u001b[34m\u001b[1mwandb\u001b[0m: \tin_channels: 6\n",
      "\u001b[34m\u001b[1mwandb\u001b[0m: \tlearning_rate: 0.0001\n",
      "\u001b[34m\u001b[1mwandb\u001b[0m: \tnum_epochs: 5\n",
      "\u001b[34m\u001b[1mwandb\u001b[0m: \tnum_heads: 4\n",
      "\u001b[34m\u001b[1mwandb\u001b[0m: \toptimizer: adam\n",
      "\u001b[34m\u001b[1mwandb\u001b[0m: \tout_channels: 16\n",
      "\u001b[34m\u001b[1mwandb\u001b[0m: \trandom_state: 42\n",
      "\u001b[34m\u001b[1mwandb\u001b[0m: \ttest_size: 0.3\n",
      "\u001b[34m\u001b[1mwandb\u001b[0m: \tweight_decay: 0.0001\n"
     ]
    },
    {
     "data": {
      "text/html": [
       "Tracking run with wandb version 0.18.5"
      ],
      "text/plain": [
       "<IPython.core.display.HTML object>"
      ]
     },
     "metadata": {},
     "output_type": "display_data"
    },
    {
     "data": {
      "text/html": [
       "Run data is saved locally in <code>c:\\Users\\barbo\\brain classifier repo\\brain_classifier\\src\\wandb\\run-20241119_164012-qvt7pwbc</code>"
      ],
      "text/plain": [
       "<IPython.core.display.HTML object>"
      ]
     },
     "metadata": {},
     "output_type": "display_data"
    },
    {
     "data": {
      "text/html": [
       "Syncing run <strong><a href='https://wandb.ai/barbonigiorgia-sapienza-universit-di-roma/graph-classification-graphs_sc/runs/qvt7pwbc' target=\"_blank\">skilled-sweep-96</a></strong> to <a href='https://wandb.ai/barbonigiorgia-sapienza-universit-di-roma/graph-classification-graphs_sc' target=\"_blank\">Weights & Biases</a> (<a href='https://wandb.me/run' target=\"_blank\">docs</a>)<br/>Sweep page: <a href='https://wandb.ai/barbonigiorgia-sapienza-universit-di-roma/graph-classification-graphs_sc/sweeps/f8yd3ova' target=\"_blank\">https://wandb.ai/barbonigiorgia-sapienza-universit-di-roma/graph-classification-graphs_sc/sweeps/f8yd3ova</a>"
      ],
      "text/plain": [
       "<IPython.core.display.HTML object>"
      ]
     },
     "metadata": {},
     "output_type": "display_data"
    },
    {
     "data": {
      "text/html": [
       " View project at <a href='https://wandb.ai/barbonigiorgia-sapienza-universit-di-roma/graph-classification-graphs_sc' target=\"_blank\">https://wandb.ai/barbonigiorgia-sapienza-universit-di-roma/graph-classification-graphs_sc</a>"
      ],
      "text/plain": [
       "<IPython.core.display.HTML object>"
      ]
     },
     "metadata": {},
     "output_type": "display_data"
    },
    {
     "data": {
      "text/html": [
       " View sweep at <a href='https://wandb.ai/barbonigiorgia-sapienza-universit-di-roma/graph-classification-graphs_sc/sweeps/f8yd3ova' target=\"_blank\">https://wandb.ai/barbonigiorgia-sapienza-universit-di-roma/graph-classification-graphs_sc/sweeps/f8yd3ova</a>"
      ],
      "text/plain": [
       "<IPython.core.display.HTML object>"
      ]
     },
     "metadata": {},
     "output_type": "display_data"
    },
    {
     "data": {
      "text/html": [
       " View run at <a href='https://wandb.ai/barbonigiorgia-sapienza-universit-di-roma/graph-classification-graphs_sc/runs/qvt7pwbc' target=\"_blank\">https://wandb.ai/barbonigiorgia-sapienza-universit-di-roma/graph-classification-graphs_sc/runs/qvt7pwbc</a>"
      ],
      "text/plain": [
       "<IPython.core.display.HTML object>"
      ]
     },
     "metadata": {},
     "output_type": "display_data"
    },
    {
     "name": "stdout",
     "output_type": "stream",
     "text": [
      "Running with config: {'batch_size': 32, 'in_channels': 6, 'learning_rate': 0.0001, 'num_epochs': 5, 'num_heads': 4, 'optimizer': 'adam', 'out_channels': 16, 'random_state': 42, 'test_size': 0.3, 'weight_decay': 0.0001}\n"
     ]
    },
    {
     "data": {
      "text/html": [
       "<style>\n",
       "    table.wandb td:nth-child(1) { padding: 0 10px; text-align: left ; width: auto;} td:nth-child(2) {text-align: left ; width: 100%}\n",
       "    .wandb-row { display: flex; flex-direction: row; flex-wrap: wrap; justify-content: flex-start; width: 100% }\n",
       "    .wandb-col { display: flex; flex-direction: column; flex-basis: 100%; flex: 1; padding: 10px; }\n",
       "    </style>\n",
       "<div class=\"wandb-row\"><div class=\"wandb-col\"><h3>Run history:</h3><br/><table class=\"wandb\"><tr><td>epoch</td><td>▁▃▅▆█</td></tr><tr><td>train_accuracy</td><td>▁▅███</td></tr><tr><td>train_f1</td><td>▁▆███</td></tr><tr><td>train_loss</td><td>█▆▄▃▁</td></tr><tr><td>val_accuracy</td><td>▁▁▁▁▁</td></tr><tr><td>val_f1</td><td>▁▁▁▁▁</td></tr><tr><td>val_loss</td><td>█▆▅▃▁</td></tr></table><br/></div><div class=\"wandb-col\"><h3>Run summary:</h3><br/><table class=\"wandb\"><tr><td>epoch</td><td>5</td></tr><tr><td>train_accuracy</td><td>0.568</td></tr><tr><td>train_f1</td><td>0.41151</td></tr><tr><td>train_loss</td><td>0.69346</td></tr><tr><td>val_accuracy</td><td>0.55556</td></tr><tr><td>val_f1</td><td>0.39683</td></tr><tr><td>val_loss</td><td>0.69386</td></tr></table><br/></div></div>"
      ],
      "text/plain": [
       "<IPython.core.display.HTML object>"
      ]
     },
     "metadata": {},
     "output_type": "display_data"
    },
    {
     "data": {
      "text/html": [
       " View run <strong style=\"color:#cdcd00\">skilled-sweep-96</strong> at: <a href='https://wandb.ai/barbonigiorgia-sapienza-universit-di-roma/graph-classification-graphs_sc/runs/qvt7pwbc' target=\"_blank\">https://wandb.ai/barbonigiorgia-sapienza-universit-di-roma/graph-classification-graphs_sc/runs/qvt7pwbc</a><br/> View project at: <a href='https://wandb.ai/barbonigiorgia-sapienza-universit-di-roma/graph-classification-graphs_sc' target=\"_blank\">https://wandb.ai/barbonigiorgia-sapienza-universit-di-roma/graph-classification-graphs_sc</a><br/>Synced 5 W&B file(s), 0 media file(s), 4 artifact file(s) and 0 other file(s)"
      ],
      "text/plain": [
       "<IPython.core.display.HTML object>"
      ]
     },
     "metadata": {},
     "output_type": "display_data"
    },
    {
     "data": {
      "text/html": [
       "Find logs at: <code>.\\wandb\\run-20241119_164012-qvt7pwbc\\logs</code>"
      ],
      "text/plain": [
       "<IPython.core.display.HTML object>"
      ]
     },
     "metadata": {},
     "output_type": "display_data"
    },
    {
     "name": "stderr",
     "output_type": "stream",
     "text": [
      "\u001b[34m\u001b[1mwandb\u001b[0m: Sweep Agent: Waiting for job.\n",
      "\u001b[34m\u001b[1mwandb\u001b[0m: Sweep Agent: Exiting.\n"
     ]
    },
    {
     "name": "stdout",
     "output_type": "stream",
     "text": [
      "\n",
      "Top 10 runs for graphs_sc:\n"
     ]
    },
    {
     "data": {
      "text/html": [
       "<div>\n",
       "<style scoped>\n",
       "    .dataframe tbody tr th:only-of-type {\n",
       "        vertical-align: middle;\n",
       "    }\n",
       "\n",
       "    .dataframe tbody tr th {\n",
       "        vertical-align: top;\n",
       "    }\n",
       "\n",
       "    .dataframe thead th {\n",
       "        text-align: right;\n",
       "    }\n",
       "</style>\n",
       "<table border=\"1\" class=\"dataframe\">\n",
       "  <thead>\n",
       "    <tr style=\"text-align: right;\">\n",
       "      <th></th>\n",
       "      <th>run_id</th>\n",
       "      <th>run_name</th>\n",
       "      <th>val_f1</th>\n",
       "      <th>learning_rate</th>\n",
       "      <th>out_channels</th>\n",
       "      <th>num_heads</th>\n",
       "      <th>weight_decay</th>\n",
       "    </tr>\n",
       "  </thead>\n",
       "  <tbody>\n",
       "    <tr>\n",
       "      <th>8</th>\n",
       "      <td>zwtlc0wx</td>\n",
       "      <td>quiet-sweep-4</td>\n",
       "      <td>0.851852</td>\n",
       "      <td>0.1</td>\n",
       "      <td>16.0</td>\n",
       "      <td>1.0</td>\n",
       "      <td>0.00000</td>\n",
       "    </tr>\n",
       "    <tr>\n",
       "      <th>9</th>\n",
       "      <td>ned9fywn</td>\n",
       "      <td>rich-sweep-5</td>\n",
       "      <td>0.851852</td>\n",
       "      <td>0.1</td>\n",
       "      <td>16.0</td>\n",
       "      <td>1.0</td>\n",
       "      <td>0.00001</td>\n",
       "    </tr>\n",
       "    <tr>\n",
       "      <th>10</th>\n",
       "      <td>3l2ec3cy</td>\n",
       "      <td>fearless-sweep-6</td>\n",
       "      <td>0.851852</td>\n",
       "      <td>0.1</td>\n",
       "      <td>16.0</td>\n",
       "      <td>1.0</td>\n",
       "      <td>0.00010</td>\n",
       "    </tr>\n",
       "    <tr>\n",
       "      <th>22</th>\n",
       "      <td>toqmel3z</td>\n",
       "      <td>sandy-sweep-18</td>\n",
       "      <td>0.851852</td>\n",
       "      <td>0.1</td>\n",
       "      <td>16.0</td>\n",
       "      <td>3.0</td>\n",
       "      <td>0.00010</td>\n",
       "    </tr>\n",
       "    <tr>\n",
       "      <th>0</th>\n",
       "      <td>sbnpy6em</td>\n",
       "      <td>wandering-violet-259</td>\n",
       "      <td>0.813776</td>\n",
       "      <td>NaN</td>\n",
       "      <td>NaN</td>\n",
       "      <td>NaN</td>\n",
       "      <td>NaN</td>\n",
       "    </tr>\n",
       "    <tr>\n",
       "      <th>2</th>\n",
       "      <td>jjepa49n</td>\n",
       "      <td>avid-moon-261</td>\n",
       "      <td>0.813776</td>\n",
       "      <td>NaN</td>\n",
       "      <td>NaN</td>\n",
       "      <td>NaN</td>\n",
       "      <td>NaN</td>\n",
       "    </tr>\n",
       "    <tr>\n",
       "      <th>14</th>\n",
       "      <td>jknbebfx</td>\n",
       "      <td>iconic-sweep-10</td>\n",
       "      <td>0.813776</td>\n",
       "      <td>0.1</td>\n",
       "      <td>16.0</td>\n",
       "      <td>2.0</td>\n",
       "      <td>0.00000</td>\n",
       "    </tr>\n",
       "    <tr>\n",
       "      <th>15</th>\n",
       "      <td>38tzbkj2</td>\n",
       "      <td>giddy-sweep-11</td>\n",
       "      <td>0.813776</td>\n",
       "      <td>0.1</td>\n",
       "      <td>16.0</td>\n",
       "      <td>2.0</td>\n",
       "      <td>0.00001</td>\n",
       "    </tr>\n",
       "    <tr>\n",
       "      <th>16</th>\n",
       "      <td>e2l02p3u</td>\n",
       "      <td>tough-sweep-12</td>\n",
       "      <td>0.813776</td>\n",
       "      <td>0.1</td>\n",
       "      <td>16.0</td>\n",
       "      <td>2.0</td>\n",
       "      <td>0.00010</td>\n",
       "    </tr>\n",
       "    <tr>\n",
       "      <th>20</th>\n",
       "      <td>57ki86ha</td>\n",
       "      <td>royal-sweep-16</td>\n",
       "      <td>0.813776</td>\n",
       "      <td>0.1</td>\n",
       "      <td>16.0</td>\n",
       "      <td>3.0</td>\n",
       "      <td>0.00000</td>\n",
       "    </tr>\n",
       "  </tbody>\n",
       "</table>\n",
       "</div>"
      ],
      "text/plain": [
       "      run_id              run_name    val_f1  learning_rate  out_channels  \\\n",
       "8   zwtlc0wx         quiet-sweep-4  0.851852            0.1          16.0   \n",
       "9   ned9fywn          rich-sweep-5  0.851852            0.1          16.0   \n",
       "10  3l2ec3cy      fearless-sweep-6  0.851852            0.1          16.0   \n",
       "22  toqmel3z        sandy-sweep-18  0.851852            0.1          16.0   \n",
       "0   sbnpy6em  wandering-violet-259  0.813776            NaN           NaN   \n",
       "2   jjepa49n         avid-moon-261  0.813776            NaN           NaN   \n",
       "14  jknbebfx       iconic-sweep-10  0.813776            0.1          16.0   \n",
       "15  38tzbkj2        giddy-sweep-11  0.813776            0.1          16.0   \n",
       "16  e2l02p3u        tough-sweep-12  0.813776            0.1          16.0   \n",
       "20  57ki86ha        royal-sweep-16  0.813776            0.1          16.0   \n",
       "\n",
       "    num_heads  weight_decay  \n",
       "8         1.0       0.00000  \n",
       "9         1.0       0.00001  \n",
       "10        1.0       0.00010  \n",
       "22        3.0       0.00010  \n",
       "0         NaN           NaN  \n",
       "2         NaN           NaN  \n",
       "14        2.0       0.00000  \n",
       "15        2.0       0.00001  \n",
       "16        2.0       0.00010  \n",
       "20        3.0       0.00000  "
      ]
     },
     "metadata": {},
     "output_type": "display_data"
    }
   ],
   "source": [
    "# Run the grid search for the first dataset\n",
    "#https://wandb.ai/barbonigiorgia-sapienza-universit-di-roma/graph-classification-graphs_sc/sweeps/f8yd3ova\n",
    "\n",
    "all_runs_df_sc, top_runs_df_sc = run_grid_search(graphs_sc, labels_sc, sweep_config_sc, 'graphs_sc', top_x= 10)"
   ]
  },
  {
   "cell_type": "code",
   "execution_count": 8,
   "metadata": {},
   "outputs": [],
   "source": [
    "hyperparameter_columns = ['run_id', 'val_f1', 'num_heads', 'optimizer', 'test_size', 'batch_size', 'num_epochs', 'in_channels', 'out_channels', 'random_state', 'weight_decay', 'learning_rate']"
   ]
  },
  {
   "cell_type": "code",
   "execution_count": null,
   "metadata": {},
   "outputs": [
    {
     "data": {
      "text/html": [
       "<div>\n",
       "<style scoped>\n",
       "    .dataframe tbody tr th:only-of-type {\n",
       "        vertical-align: middle;\n",
       "    }\n",
       "\n",
       "    .dataframe tbody tr th {\n",
       "        vertical-align: top;\n",
       "    }\n",
       "\n",
       "    .dataframe thead th {\n",
       "        text-align: right;\n",
       "    }\n",
       "</style>\n",
       "<table border=\"1\" class=\"dataframe\">\n",
       "  <thead>\n",
       "    <tr style=\"text-align: right;\">\n",
       "      <th></th>\n",
       "      <th>run_id</th>\n",
       "      <th>val_f1</th>\n",
       "      <th>num_heads</th>\n",
       "      <th>optimizer</th>\n",
       "      <th>test_size</th>\n",
       "      <th>batch_size</th>\n",
       "      <th>num_epochs</th>\n",
       "      <th>in_channels</th>\n",
       "      <th>out_channels</th>\n",
       "      <th>random_state</th>\n",
       "      <th>weight_decay</th>\n",
       "      <th>learning_rate</th>\n",
       "    </tr>\n",
       "  </thead>\n",
       "  <tbody>\n",
       "    <tr>\n",
       "      <th>8</th>\n",
       "      <td>zwtlc0wx</td>\n",
       "      <td>0.851852</td>\n",
       "      <td>1.0</td>\n",
       "      <td>adam</td>\n",
       "      <td>0.3</td>\n",
       "      <td>32.0</td>\n",
       "      <td>5.0</td>\n",
       "      <td>6.0</td>\n",
       "      <td>16.0</td>\n",
       "      <td>42.0</td>\n",
       "      <td>0.00000</td>\n",
       "      <td>0.1</td>\n",
       "    </tr>\n",
       "    <tr>\n",
       "      <th>9</th>\n",
       "      <td>ned9fywn</td>\n",
       "      <td>0.851852</td>\n",
       "      <td>1.0</td>\n",
       "      <td>adam</td>\n",
       "      <td>0.3</td>\n",
       "      <td>32.0</td>\n",
       "      <td>5.0</td>\n",
       "      <td>6.0</td>\n",
       "      <td>16.0</td>\n",
       "      <td>42.0</td>\n",
       "      <td>0.00001</td>\n",
       "      <td>0.1</td>\n",
       "    </tr>\n",
       "    <tr>\n",
       "      <th>10</th>\n",
       "      <td>3l2ec3cy</td>\n",
       "      <td>0.851852</td>\n",
       "      <td>1.0</td>\n",
       "      <td>adam</td>\n",
       "      <td>0.3</td>\n",
       "      <td>32.0</td>\n",
       "      <td>5.0</td>\n",
       "      <td>6.0</td>\n",
       "      <td>16.0</td>\n",
       "      <td>42.0</td>\n",
       "      <td>0.00010</td>\n",
       "      <td>0.1</td>\n",
       "    </tr>\n",
       "    <tr>\n",
       "      <th>22</th>\n",
       "      <td>toqmel3z</td>\n",
       "      <td>0.851852</td>\n",
       "      <td>3.0</td>\n",
       "      <td>adam</td>\n",
       "      <td>0.3</td>\n",
       "      <td>32.0</td>\n",
       "      <td>5.0</td>\n",
       "      <td>6.0</td>\n",
       "      <td>16.0</td>\n",
       "      <td>42.0</td>\n",
       "      <td>0.00010</td>\n",
       "      <td>0.1</td>\n",
       "    </tr>\n",
       "    <tr>\n",
       "      <th>0</th>\n",
       "      <td>sbnpy6em</td>\n",
       "      <td>0.813776</td>\n",
       "      <td>NaN</td>\n",
       "      <td>NaN</td>\n",
       "      <td>NaN</td>\n",
       "      <td>NaN</td>\n",
       "      <td>NaN</td>\n",
       "      <td>NaN</td>\n",
       "      <td>NaN</td>\n",
       "      <td>NaN</td>\n",
       "      <td>NaN</td>\n",
       "      <td>NaN</td>\n",
       "    </tr>\n",
       "    <tr>\n",
       "      <th>2</th>\n",
       "      <td>jjepa49n</td>\n",
       "      <td>0.813776</td>\n",
       "      <td>NaN</td>\n",
       "      <td>NaN</td>\n",
       "      <td>NaN</td>\n",
       "      <td>NaN</td>\n",
       "      <td>NaN</td>\n",
       "      <td>NaN</td>\n",
       "      <td>NaN</td>\n",
       "      <td>NaN</td>\n",
       "      <td>NaN</td>\n",
       "      <td>NaN</td>\n",
       "    </tr>\n",
       "    <tr>\n",
       "      <th>14</th>\n",
       "      <td>jknbebfx</td>\n",
       "      <td>0.813776</td>\n",
       "      <td>2.0</td>\n",
       "      <td>adam</td>\n",
       "      <td>0.3</td>\n",
       "      <td>32.0</td>\n",
       "      <td>5.0</td>\n",
       "      <td>6.0</td>\n",
       "      <td>16.0</td>\n",
       "      <td>42.0</td>\n",
       "      <td>0.00000</td>\n",
       "      <td>0.1</td>\n",
       "    </tr>\n",
       "    <tr>\n",
       "      <th>15</th>\n",
       "      <td>38tzbkj2</td>\n",
       "      <td>0.813776</td>\n",
       "      <td>2.0</td>\n",
       "      <td>adam</td>\n",
       "      <td>0.3</td>\n",
       "      <td>32.0</td>\n",
       "      <td>5.0</td>\n",
       "      <td>6.0</td>\n",
       "      <td>16.0</td>\n",
       "      <td>42.0</td>\n",
       "      <td>0.00001</td>\n",
       "      <td>0.1</td>\n",
       "    </tr>\n",
       "    <tr>\n",
       "      <th>16</th>\n",
       "      <td>e2l02p3u</td>\n",
       "      <td>0.813776</td>\n",
       "      <td>2.0</td>\n",
       "      <td>adam</td>\n",
       "      <td>0.3</td>\n",
       "      <td>32.0</td>\n",
       "      <td>5.0</td>\n",
       "      <td>6.0</td>\n",
       "      <td>16.0</td>\n",
       "      <td>42.0</td>\n",
       "      <td>0.00010</td>\n",
       "      <td>0.1</td>\n",
       "    </tr>\n",
       "    <tr>\n",
       "      <th>20</th>\n",
       "      <td>57ki86ha</td>\n",
       "      <td>0.813776</td>\n",
       "      <td>3.0</td>\n",
       "      <td>adam</td>\n",
       "      <td>0.3</td>\n",
       "      <td>32.0</td>\n",
       "      <td>5.0</td>\n",
       "      <td>6.0</td>\n",
       "      <td>16.0</td>\n",
       "      <td>42.0</td>\n",
       "      <td>0.00000</td>\n",
       "      <td>0.1</td>\n",
       "    </tr>\n",
       "  </tbody>\n",
       "</table>\n",
       "</div>"
      ],
      "text/plain": [
       "      run_id    val_f1  num_heads optimizer  test_size  batch_size  \\\n",
       "8   zwtlc0wx  0.851852        1.0      adam        0.3        32.0   \n",
       "9   ned9fywn  0.851852        1.0      adam        0.3        32.0   \n",
       "10  3l2ec3cy  0.851852        1.0      adam        0.3        32.0   \n",
       "22  toqmel3z  0.851852        3.0      adam        0.3        32.0   \n",
       "0   sbnpy6em  0.813776        NaN       NaN        NaN         NaN   \n",
       "2   jjepa49n  0.813776        NaN       NaN        NaN         NaN   \n",
       "14  jknbebfx  0.813776        2.0      adam        0.3        32.0   \n",
       "15  38tzbkj2  0.813776        2.0      adam        0.3        32.0   \n",
       "16  e2l02p3u  0.813776        2.0      adam        0.3        32.0   \n",
       "20  57ki86ha  0.813776        3.0      adam        0.3        32.0   \n",
       "\n",
       "    num_epochs  in_channels  out_channels  random_state  weight_decay  \\\n",
       "8          5.0          6.0          16.0          42.0       0.00000   \n",
       "9          5.0          6.0          16.0          42.0       0.00001   \n",
       "10         5.0          6.0          16.0          42.0       0.00010   \n",
       "22         5.0          6.0          16.0          42.0       0.00010   \n",
       "0          NaN          NaN           NaN           NaN           NaN   \n",
       "2          NaN          NaN           NaN           NaN           NaN   \n",
       "14         5.0          6.0          16.0          42.0       0.00000   \n",
       "15         5.0          6.0          16.0          42.0       0.00001   \n",
       "16         5.0          6.0          16.0          42.0       0.00010   \n",
       "20         5.0          6.0          16.0          42.0       0.00000   \n",
       "\n",
       "    learning_rate  \n",
       "8             0.1  \n",
       "9             0.1  \n",
       "10            0.1  \n",
       "22            0.1  \n",
       "0             NaN  \n",
       "2             NaN  \n",
       "14            0.1  \n",
       "15            0.1  \n",
       "16            0.1  \n",
       "20            0.1  "
      ]
     },
     "metadata": {},
     "output_type": "display_data"
    }
   ],
   "source": [
    "top_runs_df_sc.dropna(inplace=True)\n",
    "display(top_runs_df_sc[hyperparameter_columns])\n",
    "#print(top_runs_df_sc[hyperparameter_columns].to_latex(index=False))"
   ]
  },
  {
   "cell_type": "code",
   "execution_count": null,
   "metadata": {},
   "outputs": [],
   "source": []
  },
  {
   "cell_type": "code",
   "execution_count": 23,
   "metadata": {},
   "outputs": [],
   "source": [
    "# refine the sweep config\n",
    "\n",
    "sweep_config_sc.update({\n",
    "    'method': 'grid', #since few combinations\n",
    "    'metric': {\n",
    "        'name': 'val_f1',\n",
    "        'goal': 'maximize'\n",
    "    },\n",
    "    'parameters': {\n",
    "        'optimizer': {\n",
    "            'values': ['adam']\n",
    "        },\n",
    "        'test_size': {\n",
    "            'value': 0.3\n",
    "        },\n",
    "        'learning_rate': {\n",
    "            'values': [1e-2]  # low importance (0.027) and high negative correlation (-0.989), fix it to a lower value (1e-3)\n",
    "        },\n",
    "        'in_channels': {\n",
    "            'value': 6\n",
    "        },\n",
    "        'out_channels': {\n",
    "            'values': [4, 8, 12]  # importance of 0.209 and positive correlation (0.781).\n",
    "        },\n",
    "        'num_heads': {\n",
    "            'values': [3, 4]  # high importance (0.28) and strong positive correlation (0.932)\n",
    "        },\n",
    "        'num_epochs': {\n",
    "            'value': 10\n",
    "        },\n",
    "        'weight_decay': {\n",
    "            'values': [0, 1e-5, 1e-4]  # moderate importance\n",
    "        },\n",
    "        'batch_size': {\n",
    "            'values': [8]  #low importance (0.023) and high negative correlation (-0.989)\n",
    "        },\n",
    "        'random_state': {\n",
    "            'value': 42\n",
    "        }\n",
    "    }\n",
    "}) "
   ]
  },
  {
   "cell_type": "code",
   "execution_count": 24,
   "metadata": {},
   "outputs": [
    {
     "data": {
      "text/plain": [
       "{'value': 6}"
      ]
     },
     "execution_count": 24,
     "metadata": {},
     "output_type": "execute_result"
    }
   ],
   "source": [
    "sweep_config_sc['parameters']['in_channels']"
   ]
  },
  {
   "cell_type": "code",
   "execution_count": 25,
   "metadata": {},
   "outputs": [
    {
     "name": "stdout",
     "output_type": "stream",
     "text": [
      "Create sweep with ID: lhemejv7\n",
      "Sweep URL: https://wandb.ai/barbonigiorgia-sapienza-universit-di-roma/graph-classification-graphs_sc/sweeps/lhemejv7\n"
     ]
    },
    {
     "name": "stderr",
     "output_type": "stream",
     "text": [
      "\u001b[34m\u001b[1mwandb\u001b[0m: Agent Starting Run: oc9lk03y with config:\n",
      "\u001b[34m\u001b[1mwandb\u001b[0m: \tbatch_size: 8\n",
      "\u001b[34m\u001b[1mwandb\u001b[0m: \tin_channels: 6\n",
      "\u001b[34m\u001b[1mwandb\u001b[0m: \tlearning_rate: 0.01\n",
      "\u001b[34m\u001b[1mwandb\u001b[0m: \tnum_epochs: 10\n",
      "\u001b[34m\u001b[1mwandb\u001b[0m: \tnum_heads: 3\n",
      "\u001b[34m\u001b[1mwandb\u001b[0m: \toptimizer: adam\n",
      "\u001b[34m\u001b[1mwandb\u001b[0m: \tout_channels: 4\n",
      "\u001b[34m\u001b[1mwandb\u001b[0m: \trandom_state: 42\n",
      "\u001b[34m\u001b[1mwandb\u001b[0m: \ttest_size: 0.3\n",
      "\u001b[34m\u001b[1mwandb\u001b[0m: \tweight_decay: 0\n"
     ]
    },
    {
     "data": {
      "text/html": [
       "Tracking run with wandb version 0.18.5"
      ],
      "text/plain": [
       "<IPython.core.display.HTML object>"
      ]
     },
     "metadata": {},
     "output_type": "display_data"
    },
    {
     "data": {
      "text/html": [
       "Run data is saved locally in <code>c:\\Users\\barbo\\brain classifier repo\\brain_classifier\\src\\wandb\\run-20241115_231015-oc9lk03y</code>"
      ],
      "text/plain": [
       "<IPython.core.display.HTML object>"
      ]
     },
     "metadata": {},
     "output_type": "display_data"
    },
    {
     "data": {
      "text/html": [
       "Syncing run <strong><a href='https://wandb.ai/barbonigiorgia-sapienza-universit-di-roma/graph-classification-graphs_sc/runs/oc9lk03y' target=\"_blank\">pretty-sweep-1</a></strong> to <a href='https://wandb.ai/barbonigiorgia-sapienza-universit-di-roma/graph-classification-graphs_sc' target=\"_blank\">Weights & Biases</a> (<a href='https://wandb.me/run' target=\"_blank\">docs</a>)<br/>Sweep page: <a href='https://wandb.ai/barbonigiorgia-sapienza-universit-di-roma/graph-classification-graphs_sc/sweeps/lhemejv7' target=\"_blank\">https://wandb.ai/barbonigiorgia-sapienza-universit-di-roma/graph-classification-graphs_sc/sweeps/lhemejv7</a>"
      ],
      "text/plain": [
       "<IPython.core.display.HTML object>"
      ]
     },
     "metadata": {},
     "output_type": "display_data"
    },
    {
     "data": {
      "text/html": [
       " View project at <a href='https://wandb.ai/barbonigiorgia-sapienza-universit-di-roma/graph-classification-graphs_sc' target=\"_blank\">https://wandb.ai/barbonigiorgia-sapienza-universit-di-roma/graph-classification-graphs_sc</a>"
      ],
      "text/plain": [
       "<IPython.core.display.HTML object>"
      ]
     },
     "metadata": {},
     "output_type": "display_data"
    },
    {
     "data": {
      "text/html": [
       " View sweep at <a href='https://wandb.ai/barbonigiorgia-sapienza-universit-di-roma/graph-classification-graphs_sc/sweeps/lhemejv7' target=\"_blank\">https://wandb.ai/barbonigiorgia-sapienza-universit-di-roma/graph-classification-graphs_sc/sweeps/lhemejv7</a>"
      ],
      "text/plain": [
       "<IPython.core.display.HTML object>"
      ]
     },
     "metadata": {},
     "output_type": "display_data"
    },
    {
     "data": {
      "text/html": [
       " View run at <a href='https://wandb.ai/barbonigiorgia-sapienza-universit-di-roma/graph-classification-graphs_sc/runs/oc9lk03y' target=\"_blank\">https://wandb.ai/barbonigiorgia-sapienza-universit-di-roma/graph-classification-graphs_sc/runs/oc9lk03y</a>"
      ],
      "text/plain": [
       "<IPython.core.display.HTML object>"
      ]
     },
     "metadata": {},
     "output_type": "display_data"
    },
    {
     "name": "stdout",
     "output_type": "stream",
     "text": [
      "Running with config: {'batch_size': 8, 'in_channels': 6, 'learning_rate': 0.01, 'num_epochs': 10, 'num_heads': 3, 'optimizer': 'adam', 'out_channels': 4, 'random_state': 42, 'test_size': 0.3, 'weight_decay': 0}\n"
     ]
    },
    {
     "data": {
      "text/html": [
       "<style>\n",
       "    table.wandb td:nth-child(1) { padding: 0 10px; text-align: left ; width: auto;} td:nth-child(2) {text-align: left ; width: 100%}\n",
       "    .wandb-row { display: flex; flex-direction: row; flex-wrap: wrap; justify-content: flex-start; width: 100% }\n",
       "    .wandb-col { display: flex; flex-direction: column; flex-basis: 100%; flex: 1; padding: 10px; }\n",
       "    </style>\n",
       "<div class=\"wandb-row\"><div class=\"wandb-col\"><h3>Run history:</h3><br/><table class=\"wandb\"><tr><td>epoch</td><td>▁▂▃▃▄▅▆▆▇█</td></tr><tr><td>train_accuracy</td><td>▁▂▄▄▅▇▇█▇▇</td></tr><tr><td>train_f1</td><td>▄▁▄▄▆▇██▇▇</td></tr><tr><td>train_loss</td><td>█▆▅▄▃▃▂▂▁▁</td></tr><tr><td>val_accuracy</td><td>▁▁▅▄▆█▆▆█▇</td></tr><tr><td>val_f1</td><td>▁▁▅▅▇█▆▇█▇</td></tr><tr><td>val_loss</td><td>█▇▆▅▃▂▂▁▁▁</td></tr></table><br/></div><div class=\"wandb-col\"><h3>Run summary:</h3><br/><table class=\"wandb\"><tr><td>epoch</td><td>10</td></tr><tr><td>train_accuracy</td><td>0.736</td></tr><tr><td>train_f1</td><td>0.72901</td></tr><tr><td>train_loss</td><td>0.54237</td></tr><tr><td>val_accuracy</td><td>0.81481</td></tr><tr><td>val_f1</td><td>0.81</td></tr><tr><td>val_loss</td><td>0.50619</td></tr></table><br/></div></div>"
      ],
      "text/plain": [
       "<IPython.core.display.HTML object>"
      ]
     },
     "metadata": {},
     "output_type": "display_data"
    },
    {
     "data": {
      "text/html": [
       " View run <strong style=\"color:#cdcd00\">pretty-sweep-1</strong> at: <a href='https://wandb.ai/barbonigiorgia-sapienza-universit-di-roma/graph-classification-graphs_sc/runs/oc9lk03y' target=\"_blank\">https://wandb.ai/barbonigiorgia-sapienza-universit-di-roma/graph-classification-graphs_sc/runs/oc9lk03y</a><br/> View project at: <a href='https://wandb.ai/barbonigiorgia-sapienza-universit-di-roma/graph-classification-graphs_sc' target=\"_blank\">https://wandb.ai/barbonigiorgia-sapienza-universit-di-roma/graph-classification-graphs_sc</a><br/>Synced 5 W&B file(s), 0 media file(s), 10 artifact file(s) and 0 other file(s)"
      ],
      "text/plain": [
       "<IPython.core.display.HTML object>"
      ]
     },
     "metadata": {},
     "output_type": "display_data"
    },
    {
     "data": {
      "text/html": [
       "Find logs at: <code>.\\wandb\\run-20241115_231015-oc9lk03y\\logs</code>"
      ],
      "text/plain": [
       "<IPython.core.display.HTML object>"
      ]
     },
     "metadata": {},
     "output_type": "display_data"
    },
    {
     "name": "stderr",
     "output_type": "stream",
     "text": [
      "\u001b[34m\u001b[1mwandb\u001b[0m: Agent Starting Run: i679l3dt with config:\n",
      "\u001b[34m\u001b[1mwandb\u001b[0m: \tbatch_size: 8\n",
      "\u001b[34m\u001b[1mwandb\u001b[0m: \tin_channels: 6\n",
      "\u001b[34m\u001b[1mwandb\u001b[0m: \tlearning_rate: 0.01\n",
      "\u001b[34m\u001b[1mwandb\u001b[0m: \tnum_epochs: 10\n",
      "\u001b[34m\u001b[1mwandb\u001b[0m: \tnum_heads: 3\n",
      "\u001b[34m\u001b[1mwandb\u001b[0m: \toptimizer: adam\n",
      "\u001b[34m\u001b[1mwandb\u001b[0m: \tout_channels: 4\n",
      "\u001b[34m\u001b[1mwandb\u001b[0m: \trandom_state: 42\n",
      "\u001b[34m\u001b[1mwandb\u001b[0m: \ttest_size: 0.3\n",
      "\u001b[34m\u001b[1mwandb\u001b[0m: \tweight_decay: 1e-05\n"
     ]
    },
    {
     "data": {
      "text/html": [
       "Tracking run with wandb version 0.18.5"
      ],
      "text/plain": [
       "<IPython.core.display.HTML object>"
      ]
     },
     "metadata": {},
     "output_type": "display_data"
    },
    {
     "data": {
      "text/html": [
       "Run data is saved locally in <code>c:\\Users\\barbo\\brain classifier repo\\brain_classifier\\src\\wandb\\run-20241115_231117-i679l3dt</code>"
      ],
      "text/plain": [
       "<IPython.core.display.HTML object>"
      ]
     },
     "metadata": {},
     "output_type": "display_data"
    },
    {
     "data": {
      "text/html": [
       "Syncing run <strong><a href='https://wandb.ai/barbonigiorgia-sapienza-universit-di-roma/graph-classification-graphs_sc/runs/i679l3dt' target=\"_blank\">stoic-sweep-2</a></strong> to <a href='https://wandb.ai/barbonigiorgia-sapienza-universit-di-roma/graph-classification-graphs_sc' target=\"_blank\">Weights & Biases</a> (<a href='https://wandb.me/run' target=\"_blank\">docs</a>)<br/>Sweep page: <a href='https://wandb.ai/barbonigiorgia-sapienza-universit-di-roma/graph-classification-graphs_sc/sweeps/lhemejv7' target=\"_blank\">https://wandb.ai/barbonigiorgia-sapienza-universit-di-roma/graph-classification-graphs_sc/sweeps/lhemejv7</a>"
      ],
      "text/plain": [
       "<IPython.core.display.HTML object>"
      ]
     },
     "metadata": {},
     "output_type": "display_data"
    },
    {
     "data": {
      "text/html": [
       " View project at <a href='https://wandb.ai/barbonigiorgia-sapienza-universit-di-roma/graph-classification-graphs_sc' target=\"_blank\">https://wandb.ai/barbonigiorgia-sapienza-universit-di-roma/graph-classification-graphs_sc</a>"
      ],
      "text/plain": [
       "<IPython.core.display.HTML object>"
      ]
     },
     "metadata": {},
     "output_type": "display_data"
    },
    {
     "data": {
      "text/html": [
       " View sweep at <a href='https://wandb.ai/barbonigiorgia-sapienza-universit-di-roma/graph-classification-graphs_sc/sweeps/lhemejv7' target=\"_blank\">https://wandb.ai/barbonigiorgia-sapienza-universit-di-roma/graph-classification-graphs_sc/sweeps/lhemejv7</a>"
      ],
      "text/plain": [
       "<IPython.core.display.HTML object>"
      ]
     },
     "metadata": {},
     "output_type": "display_data"
    },
    {
     "data": {
      "text/html": [
       " View run at <a href='https://wandb.ai/barbonigiorgia-sapienza-universit-di-roma/graph-classification-graphs_sc/runs/i679l3dt' target=\"_blank\">https://wandb.ai/barbonigiorgia-sapienza-universit-di-roma/graph-classification-graphs_sc/runs/i679l3dt</a>"
      ],
      "text/plain": [
       "<IPython.core.display.HTML object>"
      ]
     },
     "metadata": {},
     "output_type": "display_data"
    },
    {
     "name": "stdout",
     "output_type": "stream",
     "text": [
      "Running with config: {'batch_size': 8, 'in_channels': 6, 'learning_rate': 0.01, 'num_epochs': 10, 'num_heads': 3, 'optimizer': 'adam', 'out_channels': 4, 'random_state': 42, 'test_size': 0.3, 'weight_decay': 1e-05}\n"
     ]
    },
    {
     "data": {
      "text/html": [
       "<style>\n",
       "    table.wandb td:nth-child(1) { padding: 0 10px; text-align: left ; width: auto;} td:nth-child(2) {text-align: left ; width: 100%}\n",
       "    .wandb-row { display: flex; flex-direction: row; flex-wrap: wrap; justify-content: flex-start; width: 100% }\n",
       "    .wandb-col { display: flex; flex-direction: column; flex-basis: 100%; flex: 1; padding: 10px; }\n",
       "    </style>\n",
       "<div class=\"wandb-row\"><div class=\"wandb-col\"><h3>Run history:</h3><br/><table class=\"wandb\"><tr><td>epoch</td><td>▁▂▃▃▄▅▆▆▇█</td></tr><tr><td>train_accuracy</td><td>▁▂▄▄▅▇▇█▇▇</td></tr><tr><td>train_f1</td><td>▄▁▄▄▆▇██▇▇</td></tr><tr><td>train_loss</td><td>█▆▅▄▃▃▂▂▁▁</td></tr><tr><td>val_accuracy</td><td>▁▁▅▄▆█▆▆█▇</td></tr><tr><td>val_f1</td><td>▁▁▅▅▇█▆▇█▇</td></tr><tr><td>val_loss</td><td>█▇▆▅▃▂▂▁▁▁</td></tr></table><br/></div><div class=\"wandb-col\"><h3>Run summary:</h3><br/><table class=\"wandb\"><tr><td>epoch</td><td>10</td></tr><tr><td>train_accuracy</td><td>0.736</td></tr><tr><td>train_f1</td><td>0.72901</td></tr><tr><td>train_loss</td><td>0.54251</td></tr><tr><td>val_accuracy</td><td>0.81481</td></tr><tr><td>val_f1</td><td>0.81</td></tr><tr><td>val_loss</td><td>0.5064</td></tr></table><br/></div></div>"
      ],
      "text/plain": [
       "<IPython.core.display.HTML object>"
      ]
     },
     "metadata": {},
     "output_type": "display_data"
    },
    {
     "data": {
      "text/html": [
       " View run <strong style=\"color:#cdcd00\">stoic-sweep-2</strong> at: <a href='https://wandb.ai/barbonigiorgia-sapienza-universit-di-roma/graph-classification-graphs_sc/runs/i679l3dt' target=\"_blank\">https://wandb.ai/barbonigiorgia-sapienza-universit-di-roma/graph-classification-graphs_sc/runs/i679l3dt</a><br/> View project at: <a href='https://wandb.ai/barbonigiorgia-sapienza-universit-di-roma/graph-classification-graphs_sc' target=\"_blank\">https://wandb.ai/barbonigiorgia-sapienza-universit-di-roma/graph-classification-graphs_sc</a><br/>Synced 5 W&B file(s), 0 media file(s), 10 artifact file(s) and 0 other file(s)"
      ],
      "text/plain": [
       "<IPython.core.display.HTML object>"
      ]
     },
     "metadata": {},
     "output_type": "display_data"
    },
    {
     "data": {
      "text/html": [
       "Find logs at: <code>.\\wandb\\run-20241115_231117-i679l3dt\\logs</code>"
      ],
      "text/plain": [
       "<IPython.core.display.HTML object>"
      ]
     },
     "metadata": {},
     "output_type": "display_data"
    },
    {
     "name": "stderr",
     "output_type": "stream",
     "text": [
      "\u001b[34m\u001b[1mwandb\u001b[0m: Agent Starting Run: 4y6v9ufy with config:\n",
      "\u001b[34m\u001b[1mwandb\u001b[0m: \tbatch_size: 8\n",
      "\u001b[34m\u001b[1mwandb\u001b[0m: \tin_channels: 6\n",
      "\u001b[34m\u001b[1mwandb\u001b[0m: \tlearning_rate: 0.01\n",
      "\u001b[34m\u001b[1mwandb\u001b[0m: \tnum_epochs: 10\n",
      "\u001b[34m\u001b[1mwandb\u001b[0m: \tnum_heads: 3\n",
      "\u001b[34m\u001b[1mwandb\u001b[0m: \toptimizer: adam\n",
      "\u001b[34m\u001b[1mwandb\u001b[0m: \tout_channels: 4\n",
      "\u001b[34m\u001b[1mwandb\u001b[0m: \trandom_state: 42\n",
      "\u001b[34m\u001b[1mwandb\u001b[0m: \ttest_size: 0.3\n",
      "\u001b[34m\u001b[1mwandb\u001b[0m: \tweight_decay: 0.0001\n"
     ]
    },
    {
     "data": {
      "text/html": [
       "Tracking run with wandb version 0.18.5"
      ],
      "text/plain": [
       "<IPython.core.display.HTML object>"
      ]
     },
     "metadata": {},
     "output_type": "display_data"
    },
    {
     "data": {
      "text/html": [
       "Run data is saved locally in <code>c:\\Users\\barbo\\brain classifier repo\\brain_classifier\\src\\wandb\\run-20241115_231219-4y6v9ufy</code>"
      ],
      "text/plain": [
       "<IPython.core.display.HTML object>"
      ]
     },
     "metadata": {},
     "output_type": "display_data"
    },
    {
     "data": {
      "text/html": [
       "Syncing run <strong><a href='https://wandb.ai/barbonigiorgia-sapienza-universit-di-roma/graph-classification-graphs_sc/runs/4y6v9ufy' target=\"_blank\">silvery-sweep-3</a></strong> to <a href='https://wandb.ai/barbonigiorgia-sapienza-universit-di-roma/graph-classification-graphs_sc' target=\"_blank\">Weights & Biases</a> (<a href='https://wandb.me/run' target=\"_blank\">docs</a>)<br/>Sweep page: <a href='https://wandb.ai/barbonigiorgia-sapienza-universit-di-roma/graph-classification-graphs_sc/sweeps/lhemejv7' target=\"_blank\">https://wandb.ai/barbonigiorgia-sapienza-universit-di-roma/graph-classification-graphs_sc/sweeps/lhemejv7</a>"
      ],
      "text/plain": [
       "<IPython.core.display.HTML object>"
      ]
     },
     "metadata": {},
     "output_type": "display_data"
    },
    {
     "data": {
      "text/html": [
       " View project at <a href='https://wandb.ai/barbonigiorgia-sapienza-universit-di-roma/graph-classification-graphs_sc' target=\"_blank\">https://wandb.ai/barbonigiorgia-sapienza-universit-di-roma/graph-classification-graphs_sc</a>"
      ],
      "text/plain": [
       "<IPython.core.display.HTML object>"
      ]
     },
     "metadata": {},
     "output_type": "display_data"
    },
    {
     "data": {
      "text/html": [
       " View sweep at <a href='https://wandb.ai/barbonigiorgia-sapienza-universit-di-roma/graph-classification-graphs_sc/sweeps/lhemejv7' target=\"_blank\">https://wandb.ai/barbonigiorgia-sapienza-universit-di-roma/graph-classification-graphs_sc/sweeps/lhemejv7</a>"
      ],
      "text/plain": [
       "<IPython.core.display.HTML object>"
      ]
     },
     "metadata": {},
     "output_type": "display_data"
    },
    {
     "data": {
      "text/html": [
       " View run at <a href='https://wandb.ai/barbonigiorgia-sapienza-universit-di-roma/graph-classification-graphs_sc/runs/4y6v9ufy' target=\"_blank\">https://wandb.ai/barbonigiorgia-sapienza-universit-di-roma/graph-classification-graphs_sc/runs/4y6v9ufy</a>"
      ],
      "text/plain": [
       "<IPython.core.display.HTML object>"
      ]
     },
     "metadata": {},
     "output_type": "display_data"
    },
    {
     "name": "stdout",
     "output_type": "stream",
     "text": [
      "Running with config: {'batch_size': 8, 'in_channels': 6, 'learning_rate': 0.01, 'num_epochs': 10, 'num_heads': 3, 'optimizer': 'adam', 'out_channels': 4, 'random_state': 42, 'test_size': 0.3, 'weight_decay': 0.0001}\n"
     ]
    },
    {
     "data": {
      "text/html": [
       "<style>\n",
       "    table.wandb td:nth-child(1) { padding: 0 10px; text-align: left ; width: auto;} td:nth-child(2) {text-align: left ; width: 100%}\n",
       "    .wandb-row { display: flex; flex-direction: row; flex-wrap: wrap; justify-content: flex-start; width: 100% }\n",
       "    .wandb-col { display: flex; flex-direction: column; flex-basis: 100%; flex: 1; padding: 10px; }\n",
       "    </style>\n",
       "<div class=\"wandb-row\"><div class=\"wandb-col\"><h3>Run history:</h3><br/><table class=\"wandb\"><tr><td>epoch</td><td>▁▂▃▃▄▅▆▆▇█</td></tr><tr><td>train_accuracy</td><td>▁▂▄▄▆▇██▇▇</td></tr><tr><td>train_f1</td><td>▄▁▄▄▆▇████</td></tr><tr><td>train_loss</td><td>█▆▅▄▃▃▂▂▁▁</td></tr><tr><td>val_accuracy</td><td>▁▁▅▄▆█▆▆██</td></tr><tr><td>val_f1</td><td>▁▁▅▅▇█▆▇██</td></tr><tr><td>val_loss</td><td>█▇▆▅▃▂▂▁▁▁</td></tr></table><br/></div><div class=\"wandb-col\"><h3>Run summary:</h3><br/><table class=\"wandb\"><tr><td>epoch</td><td>10</td></tr><tr><td>train_accuracy</td><td>0.736</td></tr><tr><td>train_f1</td><td>0.72901</td></tr><tr><td>train_loss</td><td>0.54392</td></tr><tr><td>val_accuracy</td><td>0.85185</td></tr><tr><td>val_f1</td><td>0.84575</td></tr><tr><td>val_loss</td><td>0.50791</td></tr></table><br/></div></div>"
      ],
      "text/plain": [
       "<IPython.core.display.HTML object>"
      ]
     },
     "metadata": {},
     "output_type": "display_data"
    },
    {
     "data": {
      "text/html": [
       " View run <strong style=\"color:#cdcd00\">silvery-sweep-3</strong> at: <a href='https://wandb.ai/barbonigiorgia-sapienza-universit-di-roma/graph-classification-graphs_sc/runs/4y6v9ufy' target=\"_blank\">https://wandb.ai/barbonigiorgia-sapienza-universit-di-roma/graph-classification-graphs_sc/runs/4y6v9ufy</a><br/> View project at: <a href='https://wandb.ai/barbonigiorgia-sapienza-universit-di-roma/graph-classification-graphs_sc' target=\"_blank\">https://wandb.ai/barbonigiorgia-sapienza-universit-di-roma/graph-classification-graphs_sc</a><br/>Synced 5 W&B file(s), 0 media file(s), 10 artifact file(s) and 0 other file(s)"
      ],
      "text/plain": [
       "<IPython.core.display.HTML object>"
      ]
     },
     "metadata": {},
     "output_type": "display_data"
    },
    {
     "data": {
      "text/html": [
       "Find logs at: <code>.\\wandb\\run-20241115_231219-4y6v9ufy\\logs</code>"
      ],
      "text/plain": [
       "<IPython.core.display.HTML object>"
      ]
     },
     "metadata": {},
     "output_type": "display_data"
    },
    {
     "name": "stderr",
     "output_type": "stream",
     "text": [
      "\u001b[34m\u001b[1mwandb\u001b[0m: Agent Starting Run: l4u470t8 with config:\n",
      "\u001b[34m\u001b[1mwandb\u001b[0m: \tbatch_size: 8\n",
      "\u001b[34m\u001b[1mwandb\u001b[0m: \tin_channels: 6\n",
      "\u001b[34m\u001b[1mwandb\u001b[0m: \tlearning_rate: 0.01\n",
      "\u001b[34m\u001b[1mwandb\u001b[0m: \tnum_epochs: 10\n",
      "\u001b[34m\u001b[1mwandb\u001b[0m: \tnum_heads: 3\n",
      "\u001b[34m\u001b[1mwandb\u001b[0m: \toptimizer: adam\n",
      "\u001b[34m\u001b[1mwandb\u001b[0m: \tout_channels: 8\n",
      "\u001b[34m\u001b[1mwandb\u001b[0m: \trandom_state: 42\n",
      "\u001b[34m\u001b[1mwandb\u001b[0m: \ttest_size: 0.3\n",
      "\u001b[34m\u001b[1mwandb\u001b[0m: \tweight_decay: 0\n"
     ]
    },
    {
     "data": {
      "text/html": [
       "Tracking run with wandb version 0.18.5"
      ],
      "text/plain": [
       "<IPython.core.display.HTML object>"
      ]
     },
     "metadata": {},
     "output_type": "display_data"
    },
    {
     "data": {
      "text/html": [
       "Run data is saved locally in <code>c:\\Users\\barbo\\brain classifier repo\\brain_classifier\\src\\wandb\\run-20241115_231322-l4u470t8</code>"
      ],
      "text/plain": [
       "<IPython.core.display.HTML object>"
      ]
     },
     "metadata": {},
     "output_type": "display_data"
    },
    {
     "data": {
      "text/html": [
       "Syncing run <strong><a href='https://wandb.ai/barbonigiorgia-sapienza-universit-di-roma/graph-classification-graphs_sc/runs/l4u470t8' target=\"_blank\">dark-sweep-4</a></strong> to <a href='https://wandb.ai/barbonigiorgia-sapienza-universit-di-roma/graph-classification-graphs_sc' target=\"_blank\">Weights & Biases</a> (<a href='https://wandb.me/run' target=\"_blank\">docs</a>)<br/>Sweep page: <a href='https://wandb.ai/barbonigiorgia-sapienza-universit-di-roma/graph-classification-graphs_sc/sweeps/lhemejv7' target=\"_blank\">https://wandb.ai/barbonigiorgia-sapienza-universit-di-roma/graph-classification-graphs_sc/sweeps/lhemejv7</a>"
      ],
      "text/plain": [
       "<IPython.core.display.HTML object>"
      ]
     },
     "metadata": {},
     "output_type": "display_data"
    },
    {
     "data": {
      "text/html": [
       " View project at <a href='https://wandb.ai/barbonigiorgia-sapienza-universit-di-roma/graph-classification-graphs_sc' target=\"_blank\">https://wandb.ai/barbonigiorgia-sapienza-universit-di-roma/graph-classification-graphs_sc</a>"
      ],
      "text/plain": [
       "<IPython.core.display.HTML object>"
      ]
     },
     "metadata": {},
     "output_type": "display_data"
    },
    {
     "data": {
      "text/html": [
       " View sweep at <a href='https://wandb.ai/barbonigiorgia-sapienza-universit-di-roma/graph-classification-graphs_sc/sweeps/lhemejv7' target=\"_blank\">https://wandb.ai/barbonigiorgia-sapienza-universit-di-roma/graph-classification-graphs_sc/sweeps/lhemejv7</a>"
      ],
      "text/plain": [
       "<IPython.core.display.HTML object>"
      ]
     },
     "metadata": {},
     "output_type": "display_data"
    },
    {
     "data": {
      "text/html": [
       " View run at <a href='https://wandb.ai/barbonigiorgia-sapienza-universit-di-roma/graph-classification-graphs_sc/runs/l4u470t8' target=\"_blank\">https://wandb.ai/barbonigiorgia-sapienza-universit-di-roma/graph-classification-graphs_sc/runs/l4u470t8</a>"
      ],
      "text/plain": [
       "<IPython.core.display.HTML object>"
      ]
     },
     "metadata": {},
     "output_type": "display_data"
    },
    {
     "name": "stdout",
     "output_type": "stream",
     "text": [
      "Running with config: {'batch_size': 8, 'in_channels': 6, 'learning_rate': 0.01, 'num_epochs': 10, 'num_heads': 3, 'optimizer': 'adam', 'out_channels': 8, 'random_state': 42, 'test_size': 0.3, 'weight_decay': 0}\n"
     ]
    },
    {
     "data": {
      "text/html": [
       "<style>\n",
       "    table.wandb td:nth-child(1) { padding: 0 10px; text-align: left ; width: auto;} td:nth-child(2) {text-align: left ; width: 100%}\n",
       "    .wandb-row { display: flex; flex-direction: row; flex-wrap: wrap; justify-content: flex-start; width: 100% }\n",
       "    .wandb-col { display: flex; flex-direction: column; flex-basis: 100%; flex: 1; padding: 10px; }\n",
       "    </style>\n",
       "<div class=\"wandb-row\"><div class=\"wandb-col\"><h3>Run history:</h3><br/><table class=\"wandb\"><tr><td>epoch</td><td>▁▂▃▃▄▅▆▆▇█</td></tr><tr><td>train_accuracy</td><td>▁▅█▇██████</td></tr><tr><td>train_f1</td><td>▁▃█▇██████</td></tr><tr><td>train_loss</td><td>█▆▄▃▂▂▁▂▁▁</td></tr><tr><td>val_accuracy</td><td>▁▅▄▇▄████▇</td></tr><tr><td>val_f1</td><td>▁▅▅▇▅████▇</td></tr><tr><td>val_loss</td><td>█▇▅▄▃▂▁▁▁▂</td></tr></table><br/></div><div class=\"wandb-col\"><h3>Run summary:</h3><br/><table class=\"wandb\"><tr><td>epoch</td><td>10</td></tr><tr><td>train_accuracy</td><td>0.752</td></tr><tr><td>train_f1</td><td>0.75102</td></tr><tr><td>train_loss</td><td>0.50836</td></tr><tr><td>val_accuracy</td><td>0.77778</td></tr><tr><td>val_f1</td><td>0.77778</td></tr><tr><td>val_loss</td><td>0.43657</td></tr></table><br/></div></div>"
      ],
      "text/plain": [
       "<IPython.core.display.HTML object>"
      ]
     },
     "metadata": {},
     "output_type": "display_data"
    },
    {
     "data": {
      "text/html": [
       " View run <strong style=\"color:#cdcd00\">dark-sweep-4</strong> at: <a href='https://wandb.ai/barbonigiorgia-sapienza-universit-di-roma/graph-classification-graphs_sc/runs/l4u470t8' target=\"_blank\">https://wandb.ai/barbonigiorgia-sapienza-universit-di-roma/graph-classification-graphs_sc/runs/l4u470t8</a><br/> View project at: <a href='https://wandb.ai/barbonigiorgia-sapienza-universit-di-roma/graph-classification-graphs_sc' target=\"_blank\">https://wandb.ai/barbonigiorgia-sapienza-universit-di-roma/graph-classification-graphs_sc</a><br/>Synced 5 W&B file(s), 0 media file(s), 10 artifact file(s) and 0 other file(s)"
      ],
      "text/plain": [
       "<IPython.core.display.HTML object>"
      ]
     },
     "metadata": {},
     "output_type": "display_data"
    },
    {
     "data": {
      "text/html": [
       "Find logs at: <code>.\\wandb\\run-20241115_231322-l4u470t8\\logs</code>"
      ],
      "text/plain": [
       "<IPython.core.display.HTML object>"
      ]
     },
     "metadata": {},
     "output_type": "display_data"
    },
    {
     "name": "stderr",
     "output_type": "stream",
     "text": [
      "\u001b[34m\u001b[1mwandb\u001b[0m: Sweep Agent: Waiting for job.\n",
      "\u001b[34m\u001b[1mwandb\u001b[0m: Job received.\n",
      "\u001b[34m\u001b[1mwandb\u001b[0m: Agent Starting Run: xio9hcnn with config:\n",
      "\u001b[34m\u001b[1mwandb\u001b[0m: \tbatch_size: 8\n",
      "\u001b[34m\u001b[1mwandb\u001b[0m: \tin_channels: 6\n",
      "\u001b[34m\u001b[1mwandb\u001b[0m: \tlearning_rate: 0.01\n",
      "\u001b[34m\u001b[1mwandb\u001b[0m: \tnum_epochs: 10\n",
      "\u001b[34m\u001b[1mwandb\u001b[0m: \tnum_heads: 3\n",
      "\u001b[34m\u001b[1mwandb\u001b[0m: \toptimizer: adam\n",
      "\u001b[34m\u001b[1mwandb\u001b[0m: \tout_channels: 8\n",
      "\u001b[34m\u001b[1mwandb\u001b[0m: \trandom_state: 42\n",
      "\u001b[34m\u001b[1mwandb\u001b[0m: \ttest_size: 0.3\n",
      "\u001b[34m\u001b[1mwandb\u001b[0m: \tweight_decay: 1e-05\n"
     ]
    },
    {
     "data": {
      "text/html": [
       "Tracking run with wandb version 0.18.5"
      ],
      "text/plain": [
       "<IPython.core.display.HTML object>"
      ]
     },
     "metadata": {},
     "output_type": "display_data"
    },
    {
     "data": {
      "text/html": [
       "Run data is saved locally in <code>c:\\Users\\barbo\\brain classifier repo\\brain_classifier\\src\\wandb\\run-20241115_231440-xio9hcnn</code>"
      ],
      "text/plain": [
       "<IPython.core.display.HTML object>"
      ]
     },
     "metadata": {},
     "output_type": "display_data"
    },
    {
     "data": {
      "text/html": [
       "Syncing run <strong><a href='https://wandb.ai/barbonigiorgia-sapienza-universit-di-roma/graph-classification-graphs_sc/runs/xio9hcnn' target=\"_blank\">dauntless-sweep-5</a></strong> to <a href='https://wandb.ai/barbonigiorgia-sapienza-universit-di-roma/graph-classification-graphs_sc' target=\"_blank\">Weights & Biases</a> (<a href='https://wandb.me/run' target=\"_blank\">docs</a>)<br/>Sweep page: <a href='https://wandb.ai/barbonigiorgia-sapienza-universit-di-roma/graph-classification-graphs_sc/sweeps/lhemejv7' target=\"_blank\">https://wandb.ai/barbonigiorgia-sapienza-universit-di-roma/graph-classification-graphs_sc/sweeps/lhemejv7</a>"
      ],
      "text/plain": [
       "<IPython.core.display.HTML object>"
      ]
     },
     "metadata": {},
     "output_type": "display_data"
    },
    {
     "data": {
      "text/html": [
       " View project at <a href='https://wandb.ai/barbonigiorgia-sapienza-universit-di-roma/graph-classification-graphs_sc' target=\"_blank\">https://wandb.ai/barbonigiorgia-sapienza-universit-di-roma/graph-classification-graphs_sc</a>"
      ],
      "text/plain": [
       "<IPython.core.display.HTML object>"
      ]
     },
     "metadata": {},
     "output_type": "display_data"
    },
    {
     "data": {
      "text/html": [
       " View sweep at <a href='https://wandb.ai/barbonigiorgia-sapienza-universit-di-roma/graph-classification-graphs_sc/sweeps/lhemejv7' target=\"_blank\">https://wandb.ai/barbonigiorgia-sapienza-universit-di-roma/graph-classification-graphs_sc/sweeps/lhemejv7</a>"
      ],
      "text/plain": [
       "<IPython.core.display.HTML object>"
      ]
     },
     "metadata": {},
     "output_type": "display_data"
    },
    {
     "data": {
      "text/html": [
       " View run at <a href='https://wandb.ai/barbonigiorgia-sapienza-universit-di-roma/graph-classification-graphs_sc/runs/xio9hcnn' target=\"_blank\">https://wandb.ai/barbonigiorgia-sapienza-universit-di-roma/graph-classification-graphs_sc/runs/xio9hcnn</a>"
      ],
      "text/plain": [
       "<IPython.core.display.HTML object>"
      ]
     },
     "metadata": {},
     "output_type": "display_data"
    },
    {
     "name": "stdout",
     "output_type": "stream",
     "text": [
      "Running with config: {'batch_size': 8, 'in_channels': 6, 'learning_rate': 0.01, 'num_epochs': 10, 'num_heads': 3, 'optimizer': 'adam', 'out_channels': 8, 'random_state': 42, 'test_size': 0.3, 'weight_decay': 1e-05}\n"
     ]
    },
    {
     "data": {
      "text/html": [
       "<style>\n",
       "    table.wandb td:nth-child(1) { padding: 0 10px; text-align: left ; width: auto;} td:nth-child(2) {text-align: left ; width: 100%}\n",
       "    .wandb-row { display: flex; flex-direction: row; flex-wrap: wrap; justify-content: flex-start; width: 100% }\n",
       "    .wandb-col { display: flex; flex-direction: column; flex-basis: 100%; flex: 1; padding: 10px; }\n",
       "    </style>\n",
       "<div class=\"wandb-row\"><div class=\"wandb-col\"><h3>Run history:</h3><br/><table class=\"wandb\"><tr><td>epoch</td><td>▁▂▃▃▄▅▆▆▇█</td></tr><tr><td>train_accuracy</td><td>▁▅█▇██████</td></tr><tr><td>train_f1</td><td>▁▃█▇██████</td></tr><tr><td>train_loss</td><td>█▆▄▃▂▂▁▂▁▁</td></tr><tr><td>val_accuracy</td><td>▁▅▄▇▄████▇</td></tr><tr><td>val_f1</td><td>▁▅▅▇▅████▇</td></tr><tr><td>val_loss</td><td>█▇▅▄▃▂▁▁▁▂</td></tr></table><br/></div><div class=\"wandb-col\"><h3>Run summary:</h3><br/><table class=\"wandb\"><tr><td>epoch</td><td>10</td></tr><tr><td>train_accuracy</td><td>0.752</td></tr><tr><td>train_f1</td><td>0.75102</td></tr><tr><td>train_loss</td><td>0.5084</td></tr><tr><td>val_accuracy</td><td>0.77778</td></tr><tr><td>val_f1</td><td>0.77778</td></tr><tr><td>val_loss</td><td>0.43666</td></tr></table><br/></div></div>"
      ],
      "text/plain": [
       "<IPython.core.display.HTML object>"
      ]
     },
     "metadata": {},
     "output_type": "display_data"
    },
    {
     "data": {
      "text/html": [
       " View run <strong style=\"color:#cdcd00\">dauntless-sweep-5</strong> at: <a href='https://wandb.ai/barbonigiorgia-sapienza-universit-di-roma/graph-classification-graphs_sc/runs/xio9hcnn' target=\"_blank\">https://wandb.ai/barbonigiorgia-sapienza-universit-di-roma/graph-classification-graphs_sc/runs/xio9hcnn</a><br/> View project at: <a href='https://wandb.ai/barbonigiorgia-sapienza-universit-di-roma/graph-classification-graphs_sc' target=\"_blank\">https://wandb.ai/barbonigiorgia-sapienza-universit-di-roma/graph-classification-graphs_sc</a><br/>Synced 5 W&B file(s), 0 media file(s), 10 artifact file(s) and 0 other file(s)"
      ],
      "text/plain": [
       "<IPython.core.display.HTML object>"
      ]
     },
     "metadata": {},
     "output_type": "display_data"
    },
    {
     "data": {
      "text/html": [
       "Find logs at: <code>.\\wandb\\run-20241115_231440-xio9hcnn\\logs</code>"
      ],
      "text/plain": [
       "<IPython.core.display.HTML object>"
      ]
     },
     "metadata": {},
     "output_type": "display_data"
    },
    {
     "name": "stderr",
     "output_type": "stream",
     "text": [
      "\u001b[34m\u001b[1mwandb\u001b[0m: Agent Starting Run: ms2bs2pv with config:\n",
      "\u001b[34m\u001b[1mwandb\u001b[0m: \tbatch_size: 8\n",
      "\u001b[34m\u001b[1mwandb\u001b[0m: \tin_channels: 6\n",
      "\u001b[34m\u001b[1mwandb\u001b[0m: \tlearning_rate: 0.01\n",
      "\u001b[34m\u001b[1mwandb\u001b[0m: \tnum_epochs: 10\n",
      "\u001b[34m\u001b[1mwandb\u001b[0m: \tnum_heads: 3\n",
      "\u001b[34m\u001b[1mwandb\u001b[0m: \toptimizer: adam\n",
      "\u001b[34m\u001b[1mwandb\u001b[0m: \tout_channels: 8\n",
      "\u001b[34m\u001b[1mwandb\u001b[0m: \trandom_state: 42\n",
      "\u001b[34m\u001b[1mwandb\u001b[0m: \ttest_size: 0.3\n",
      "\u001b[34m\u001b[1mwandb\u001b[0m: \tweight_decay: 0.0001\n"
     ]
    },
    {
     "data": {
      "text/html": [
       "Tracking run with wandb version 0.18.5"
      ],
      "text/plain": [
       "<IPython.core.display.HTML object>"
      ]
     },
     "metadata": {},
     "output_type": "display_data"
    },
    {
     "data": {
      "text/html": [
       "Run data is saved locally in <code>c:\\Users\\barbo\\brain classifier repo\\brain_classifier\\src\\wandb\\run-20241115_231543-ms2bs2pv</code>"
      ],
      "text/plain": [
       "<IPython.core.display.HTML object>"
      ]
     },
     "metadata": {},
     "output_type": "display_data"
    },
    {
     "data": {
      "text/html": [
       "Syncing run <strong><a href='https://wandb.ai/barbonigiorgia-sapienza-universit-di-roma/graph-classification-graphs_sc/runs/ms2bs2pv' target=\"_blank\">icy-sweep-6</a></strong> to <a href='https://wandb.ai/barbonigiorgia-sapienza-universit-di-roma/graph-classification-graphs_sc' target=\"_blank\">Weights & Biases</a> (<a href='https://wandb.me/run' target=\"_blank\">docs</a>)<br/>Sweep page: <a href='https://wandb.ai/barbonigiorgia-sapienza-universit-di-roma/graph-classification-graphs_sc/sweeps/lhemejv7' target=\"_blank\">https://wandb.ai/barbonigiorgia-sapienza-universit-di-roma/graph-classification-graphs_sc/sweeps/lhemejv7</a>"
      ],
      "text/plain": [
       "<IPython.core.display.HTML object>"
      ]
     },
     "metadata": {},
     "output_type": "display_data"
    },
    {
     "data": {
      "text/html": [
       " View project at <a href='https://wandb.ai/barbonigiorgia-sapienza-universit-di-roma/graph-classification-graphs_sc' target=\"_blank\">https://wandb.ai/barbonigiorgia-sapienza-universit-di-roma/graph-classification-graphs_sc</a>"
      ],
      "text/plain": [
       "<IPython.core.display.HTML object>"
      ]
     },
     "metadata": {},
     "output_type": "display_data"
    },
    {
     "data": {
      "text/html": [
       " View sweep at <a href='https://wandb.ai/barbonigiorgia-sapienza-universit-di-roma/graph-classification-graphs_sc/sweeps/lhemejv7' target=\"_blank\">https://wandb.ai/barbonigiorgia-sapienza-universit-di-roma/graph-classification-graphs_sc/sweeps/lhemejv7</a>"
      ],
      "text/plain": [
       "<IPython.core.display.HTML object>"
      ]
     },
     "metadata": {},
     "output_type": "display_data"
    },
    {
     "data": {
      "text/html": [
       " View run at <a href='https://wandb.ai/barbonigiorgia-sapienza-universit-di-roma/graph-classification-graphs_sc/runs/ms2bs2pv' target=\"_blank\">https://wandb.ai/barbonigiorgia-sapienza-universit-di-roma/graph-classification-graphs_sc/runs/ms2bs2pv</a>"
      ],
      "text/plain": [
       "<IPython.core.display.HTML object>"
      ]
     },
     "metadata": {},
     "output_type": "display_data"
    },
    {
     "name": "stdout",
     "output_type": "stream",
     "text": [
      "Running with config: {'batch_size': 8, 'in_channels': 6, 'learning_rate': 0.01, 'num_epochs': 10, 'num_heads': 3, 'optimizer': 'adam', 'out_channels': 8, 'random_state': 42, 'test_size': 0.3, 'weight_decay': 0.0001}\n"
     ]
    },
    {
     "data": {
      "text/html": [
       "<style>\n",
       "    table.wandb td:nth-child(1) { padding: 0 10px; text-align: left ; width: auto;} td:nth-child(2) {text-align: left ; width: 100%}\n",
       "    .wandb-row { display: flex; flex-direction: row; flex-wrap: wrap; justify-content: flex-start; width: 100% }\n",
       "    .wandb-col { display: flex; flex-direction: column; flex-basis: 100%; flex: 1; padding: 10px; }\n",
       "    </style>\n",
       "<div class=\"wandb-row\"><div class=\"wandb-col\"><h3>Run history:</h3><br/><table class=\"wandb\"><tr><td>epoch</td><td>▁▂▃▃▄▅▆▆▇█</td></tr><tr><td>train_accuracy</td><td>▁▅▇▇██████</td></tr><tr><td>train_f1</td><td>▁▃▇▇██████</td></tr><tr><td>train_loss</td><td>█▆▄▃▂▂▁▂▁▁</td></tr><tr><td>val_accuracy</td><td>▁▅▄▇▄████▇</td></tr><tr><td>val_f1</td><td>▁▅▅▇▅████▇</td></tr><tr><td>val_loss</td><td>█▇▅▄▃▂▁▁▁▂</td></tr></table><br/></div><div class=\"wandb-col\"><h3>Run summary:</h3><br/><table class=\"wandb\"><tr><td>epoch</td><td>10</td></tr><tr><td>train_accuracy</td><td>0.752</td></tr><tr><td>train_f1</td><td>0.75102</td></tr><tr><td>train_loss</td><td>0.50876</td></tr><tr><td>val_accuracy</td><td>0.77778</td></tr><tr><td>val_f1</td><td>0.77778</td></tr><tr><td>val_loss</td><td>0.43726</td></tr></table><br/></div></div>"
      ],
      "text/plain": [
       "<IPython.core.display.HTML object>"
      ]
     },
     "metadata": {},
     "output_type": "display_data"
    },
    {
     "data": {
      "text/html": [
       " View run <strong style=\"color:#cdcd00\">icy-sweep-6</strong> at: <a href='https://wandb.ai/barbonigiorgia-sapienza-universit-di-roma/graph-classification-graphs_sc/runs/ms2bs2pv' target=\"_blank\">https://wandb.ai/barbonigiorgia-sapienza-universit-di-roma/graph-classification-graphs_sc/runs/ms2bs2pv</a><br/> View project at: <a href='https://wandb.ai/barbonigiorgia-sapienza-universit-di-roma/graph-classification-graphs_sc' target=\"_blank\">https://wandb.ai/barbonigiorgia-sapienza-universit-di-roma/graph-classification-graphs_sc</a><br/>Synced 5 W&B file(s), 0 media file(s), 10 artifact file(s) and 0 other file(s)"
      ],
      "text/plain": [
       "<IPython.core.display.HTML object>"
      ]
     },
     "metadata": {},
     "output_type": "display_data"
    },
    {
     "data": {
      "text/html": [
       "Find logs at: <code>.\\wandb\\run-20241115_231543-ms2bs2pv\\logs</code>"
      ],
      "text/plain": [
       "<IPython.core.display.HTML object>"
      ]
     },
     "metadata": {},
     "output_type": "display_data"
    },
    {
     "name": "stderr",
     "output_type": "stream",
     "text": [
      "\u001b[34m\u001b[1mwandb\u001b[0m: Agent Starting Run: iewqf03c with config:\n",
      "\u001b[34m\u001b[1mwandb\u001b[0m: \tbatch_size: 8\n",
      "\u001b[34m\u001b[1mwandb\u001b[0m: \tin_channels: 6\n",
      "\u001b[34m\u001b[1mwandb\u001b[0m: \tlearning_rate: 0.01\n",
      "\u001b[34m\u001b[1mwandb\u001b[0m: \tnum_epochs: 10\n",
      "\u001b[34m\u001b[1mwandb\u001b[0m: \tnum_heads: 3\n",
      "\u001b[34m\u001b[1mwandb\u001b[0m: \toptimizer: adam\n",
      "\u001b[34m\u001b[1mwandb\u001b[0m: \tout_channels: 12\n",
      "\u001b[34m\u001b[1mwandb\u001b[0m: \trandom_state: 42\n",
      "\u001b[34m\u001b[1mwandb\u001b[0m: \ttest_size: 0.3\n",
      "\u001b[34m\u001b[1mwandb\u001b[0m: \tweight_decay: 0\n"
     ]
    },
    {
     "data": {
      "text/html": [
       "Tracking run with wandb version 0.18.5"
      ],
      "text/plain": [
       "<IPython.core.display.HTML object>"
      ]
     },
     "metadata": {},
     "output_type": "display_data"
    },
    {
     "data": {
      "text/html": [
       "Run data is saved locally in <code>c:\\Users\\barbo\\brain classifier repo\\brain_classifier\\src\\wandb\\run-20241115_231645-iewqf03c</code>"
      ],
      "text/plain": [
       "<IPython.core.display.HTML object>"
      ]
     },
     "metadata": {},
     "output_type": "display_data"
    },
    {
     "data": {
      "text/html": [
       "Syncing run <strong><a href='https://wandb.ai/barbonigiorgia-sapienza-universit-di-roma/graph-classification-graphs_sc/runs/iewqf03c' target=\"_blank\">easy-sweep-7</a></strong> to <a href='https://wandb.ai/barbonigiorgia-sapienza-universit-di-roma/graph-classification-graphs_sc' target=\"_blank\">Weights & Biases</a> (<a href='https://wandb.me/run' target=\"_blank\">docs</a>)<br/>Sweep page: <a href='https://wandb.ai/barbonigiorgia-sapienza-universit-di-roma/graph-classification-graphs_sc/sweeps/lhemejv7' target=\"_blank\">https://wandb.ai/barbonigiorgia-sapienza-universit-di-roma/graph-classification-graphs_sc/sweeps/lhemejv7</a>"
      ],
      "text/plain": [
       "<IPython.core.display.HTML object>"
      ]
     },
     "metadata": {},
     "output_type": "display_data"
    },
    {
     "data": {
      "text/html": [
       " View project at <a href='https://wandb.ai/barbonigiorgia-sapienza-universit-di-roma/graph-classification-graphs_sc' target=\"_blank\">https://wandb.ai/barbonigiorgia-sapienza-universit-di-roma/graph-classification-graphs_sc</a>"
      ],
      "text/plain": [
       "<IPython.core.display.HTML object>"
      ]
     },
     "metadata": {},
     "output_type": "display_data"
    },
    {
     "data": {
      "text/html": [
       " View sweep at <a href='https://wandb.ai/barbonigiorgia-sapienza-universit-di-roma/graph-classification-graphs_sc/sweeps/lhemejv7' target=\"_blank\">https://wandb.ai/barbonigiorgia-sapienza-universit-di-roma/graph-classification-graphs_sc/sweeps/lhemejv7</a>"
      ],
      "text/plain": [
       "<IPython.core.display.HTML object>"
      ]
     },
     "metadata": {},
     "output_type": "display_data"
    },
    {
     "data": {
      "text/html": [
       " View run at <a href='https://wandb.ai/barbonigiorgia-sapienza-universit-di-roma/graph-classification-graphs_sc/runs/iewqf03c' target=\"_blank\">https://wandb.ai/barbonigiorgia-sapienza-universit-di-roma/graph-classification-graphs_sc/runs/iewqf03c</a>"
      ],
      "text/plain": [
       "<IPython.core.display.HTML object>"
      ]
     },
     "metadata": {},
     "output_type": "display_data"
    },
    {
     "name": "stdout",
     "output_type": "stream",
     "text": [
      "Running with config: {'batch_size': 8, 'in_channels': 6, 'learning_rate': 0.01, 'num_epochs': 10, 'num_heads': 3, 'optimizer': 'adam', 'out_channels': 12, 'random_state': 42, 'test_size': 0.3, 'weight_decay': 0}\n"
     ]
    },
    {
     "data": {
      "text/html": [
       "<style>\n",
       "    table.wandb td:nth-child(1) { padding: 0 10px; text-align: left ; width: auto;} td:nth-child(2) {text-align: left ; width: 100%}\n",
       "    .wandb-row { display: flex; flex-direction: row; flex-wrap: wrap; justify-content: flex-start; width: 100% }\n",
       "    .wandb-col { display: flex; flex-direction: column; flex-basis: 100%; flex: 1; padding: 10px; }\n",
       "    </style>\n",
       "<div class=\"wandb-row\"><div class=\"wandb-col\"><h3>Run history:</h3><br/><table class=\"wandb\"><tr><td>epoch</td><td>▁▂▃▃▄▅▆▆▇█</td></tr><tr><td>train_accuracy</td><td>▁▅▆▆▆▇▇▇█▇</td></tr><tr><td>train_f1</td><td>▁▆▇▇▇▇█▇██</td></tr><tr><td>train_loss</td><td>█▆▄▃▂▂▁▂▁▁</td></tr><tr><td>val_accuracy</td><td>▁▃█▇▇▆█▇▆▇</td></tr><tr><td>val_f1</td><td>▁▃█▇▇▆█▇▆▇</td></tr><tr><td>val_loss</td><td>█▇▅▄▃▂▂▁▂▁</td></tr></table><br/></div><div class=\"wandb-col\"><h3>Run summary:</h3><br/><table class=\"wandb\"><tr><td>epoch</td><td>10</td></tr><tr><td>train_accuracy</td><td>0.752</td></tr><tr><td>train_f1</td><td>0.75171</td></tr><tr><td>train_loss</td><td>0.51655</td></tr><tr><td>val_accuracy</td><td>0.77778</td></tr><tr><td>val_f1</td><td>0.77462</td></tr><tr><td>val_loss</td><td>0.46585</td></tr></table><br/></div></div>"
      ],
      "text/plain": [
       "<IPython.core.display.HTML object>"
      ]
     },
     "metadata": {},
     "output_type": "display_data"
    },
    {
     "data": {
      "text/html": [
       " View run <strong style=\"color:#cdcd00\">easy-sweep-7</strong> at: <a href='https://wandb.ai/barbonigiorgia-sapienza-universit-di-roma/graph-classification-graphs_sc/runs/iewqf03c' target=\"_blank\">https://wandb.ai/barbonigiorgia-sapienza-universit-di-roma/graph-classification-graphs_sc/runs/iewqf03c</a><br/> View project at: <a href='https://wandb.ai/barbonigiorgia-sapienza-universit-di-roma/graph-classification-graphs_sc' target=\"_blank\">https://wandb.ai/barbonigiorgia-sapienza-universit-di-roma/graph-classification-graphs_sc</a><br/>Synced 5 W&B file(s), 0 media file(s), 8 artifact file(s) and 0 other file(s)"
      ],
      "text/plain": [
       "<IPython.core.display.HTML object>"
      ]
     },
     "metadata": {},
     "output_type": "display_data"
    },
    {
     "data": {
      "text/html": [
       "Find logs at: <code>.\\wandb\\run-20241115_231645-iewqf03c\\logs</code>"
      ],
      "text/plain": [
       "<IPython.core.display.HTML object>"
      ]
     },
     "metadata": {},
     "output_type": "display_data"
    },
    {
     "name": "stderr",
     "output_type": "stream",
     "text": [
      "\u001b[34m\u001b[1mwandb\u001b[0m: Agent Starting Run: tmzm9st6 with config:\n",
      "\u001b[34m\u001b[1mwandb\u001b[0m: \tbatch_size: 8\n",
      "\u001b[34m\u001b[1mwandb\u001b[0m: \tin_channels: 6\n",
      "\u001b[34m\u001b[1mwandb\u001b[0m: \tlearning_rate: 0.01\n",
      "\u001b[34m\u001b[1mwandb\u001b[0m: \tnum_epochs: 10\n",
      "\u001b[34m\u001b[1mwandb\u001b[0m: \tnum_heads: 3\n",
      "\u001b[34m\u001b[1mwandb\u001b[0m: \toptimizer: adam\n",
      "\u001b[34m\u001b[1mwandb\u001b[0m: \tout_channels: 12\n",
      "\u001b[34m\u001b[1mwandb\u001b[0m: \trandom_state: 42\n",
      "\u001b[34m\u001b[1mwandb\u001b[0m: \ttest_size: 0.3\n",
      "\u001b[34m\u001b[1mwandb\u001b[0m: \tweight_decay: 1e-05\n"
     ]
    },
    {
     "data": {
      "text/html": [
       "Tracking run with wandb version 0.18.5"
      ],
      "text/plain": [
       "<IPython.core.display.HTML object>"
      ]
     },
     "metadata": {},
     "output_type": "display_data"
    },
    {
     "data": {
      "text/html": [
       "Run data is saved locally in <code>c:\\Users\\barbo\\brain classifier repo\\brain_classifier\\src\\wandb\\run-20241115_231748-tmzm9st6</code>"
      ],
      "text/plain": [
       "<IPython.core.display.HTML object>"
      ]
     },
     "metadata": {},
     "output_type": "display_data"
    },
    {
     "data": {
      "text/html": [
       "Syncing run <strong><a href='https://wandb.ai/barbonigiorgia-sapienza-universit-di-roma/graph-classification-graphs_sc/runs/tmzm9st6' target=\"_blank\">stoic-sweep-8</a></strong> to <a href='https://wandb.ai/barbonigiorgia-sapienza-universit-di-roma/graph-classification-graphs_sc' target=\"_blank\">Weights & Biases</a> (<a href='https://wandb.me/run' target=\"_blank\">docs</a>)<br/>Sweep page: <a href='https://wandb.ai/barbonigiorgia-sapienza-universit-di-roma/graph-classification-graphs_sc/sweeps/lhemejv7' target=\"_blank\">https://wandb.ai/barbonigiorgia-sapienza-universit-di-roma/graph-classification-graphs_sc/sweeps/lhemejv7</a>"
      ],
      "text/plain": [
       "<IPython.core.display.HTML object>"
      ]
     },
     "metadata": {},
     "output_type": "display_data"
    },
    {
     "data": {
      "text/html": [
       " View project at <a href='https://wandb.ai/barbonigiorgia-sapienza-universit-di-roma/graph-classification-graphs_sc' target=\"_blank\">https://wandb.ai/barbonigiorgia-sapienza-universit-di-roma/graph-classification-graphs_sc</a>"
      ],
      "text/plain": [
       "<IPython.core.display.HTML object>"
      ]
     },
     "metadata": {},
     "output_type": "display_data"
    },
    {
     "data": {
      "text/html": [
       " View sweep at <a href='https://wandb.ai/barbonigiorgia-sapienza-universit-di-roma/graph-classification-graphs_sc/sweeps/lhemejv7' target=\"_blank\">https://wandb.ai/barbonigiorgia-sapienza-universit-di-roma/graph-classification-graphs_sc/sweeps/lhemejv7</a>"
      ],
      "text/plain": [
       "<IPython.core.display.HTML object>"
      ]
     },
     "metadata": {},
     "output_type": "display_data"
    },
    {
     "data": {
      "text/html": [
       " View run at <a href='https://wandb.ai/barbonigiorgia-sapienza-universit-di-roma/graph-classification-graphs_sc/runs/tmzm9st6' target=\"_blank\">https://wandb.ai/barbonigiorgia-sapienza-universit-di-roma/graph-classification-graphs_sc/runs/tmzm9st6</a>"
      ],
      "text/plain": [
       "<IPython.core.display.HTML object>"
      ]
     },
     "metadata": {},
     "output_type": "display_data"
    },
    {
     "name": "stdout",
     "output_type": "stream",
     "text": [
      "Running with config: {'batch_size': 8, 'in_channels': 6, 'learning_rate': 0.01, 'num_epochs': 10, 'num_heads': 3, 'optimizer': 'adam', 'out_channels': 12, 'random_state': 42, 'test_size': 0.3, 'weight_decay': 1e-05}\n"
     ]
    },
    {
     "data": {
      "text/html": [
       "<style>\n",
       "    table.wandb td:nth-child(1) { padding: 0 10px; text-align: left ; width: auto;} td:nth-child(2) {text-align: left ; width: 100%}\n",
       "    .wandb-row { display: flex; flex-direction: row; flex-wrap: wrap; justify-content: flex-start; width: 100% }\n",
       "    .wandb-col { display: flex; flex-direction: column; flex-basis: 100%; flex: 1; padding: 10px; }\n",
       "    </style>\n",
       "<div class=\"wandb-row\"><div class=\"wandb-col\"><h3>Run history:</h3><br/><table class=\"wandb\"><tr><td>epoch</td><td>▁▂▃▃▄▅▆▆▇█</td></tr><tr><td>train_accuracy</td><td>▁▅▆▆▆▇▇▇█▇</td></tr><tr><td>train_f1</td><td>▁▆▇▇▇▇█▇██</td></tr><tr><td>train_loss</td><td>█▆▄▃▂▂▁▂▁▁</td></tr><tr><td>val_accuracy</td><td>▁▃█▇▇▆█▇▆▇</td></tr><tr><td>val_f1</td><td>▁▃█▇▇▆█▇▆▇</td></tr><tr><td>val_loss</td><td>█▇▅▄▃▂▂▁▂▁</td></tr></table><br/></div><div class=\"wandb-col\"><h3>Run summary:</h3><br/><table class=\"wandb\"><tr><td>epoch</td><td>10</td></tr><tr><td>train_accuracy</td><td>0.752</td></tr><tr><td>train_f1</td><td>0.75171</td></tr><tr><td>train_loss</td><td>0.51668</td></tr><tr><td>val_accuracy</td><td>0.77778</td></tr><tr><td>val_f1</td><td>0.77462</td></tr><tr><td>val_loss</td><td>0.46623</td></tr></table><br/></div></div>"
      ],
      "text/plain": [
       "<IPython.core.display.HTML object>"
      ]
     },
     "metadata": {},
     "output_type": "display_data"
    },
    {
     "data": {
      "text/html": [
       " View run <strong style=\"color:#cdcd00\">stoic-sweep-8</strong> at: <a href='https://wandb.ai/barbonigiorgia-sapienza-universit-di-roma/graph-classification-graphs_sc/runs/tmzm9st6' target=\"_blank\">https://wandb.ai/barbonigiorgia-sapienza-universit-di-roma/graph-classification-graphs_sc/runs/tmzm9st6</a><br/> View project at: <a href='https://wandb.ai/barbonigiorgia-sapienza-universit-di-roma/graph-classification-graphs_sc' target=\"_blank\">https://wandb.ai/barbonigiorgia-sapienza-universit-di-roma/graph-classification-graphs_sc</a><br/>Synced 5 W&B file(s), 0 media file(s), 8 artifact file(s) and 0 other file(s)"
      ],
      "text/plain": [
       "<IPython.core.display.HTML object>"
      ]
     },
     "metadata": {},
     "output_type": "display_data"
    },
    {
     "data": {
      "text/html": [
       "Find logs at: <code>.\\wandb\\run-20241115_231748-tmzm9st6\\logs</code>"
      ],
      "text/plain": [
       "<IPython.core.display.HTML object>"
      ]
     },
     "metadata": {},
     "output_type": "display_data"
    },
    {
     "name": "stderr",
     "output_type": "stream",
     "text": [
      "\u001b[34m\u001b[1mwandb\u001b[0m: Agent Starting Run: 46saklfz with config:\n",
      "\u001b[34m\u001b[1mwandb\u001b[0m: \tbatch_size: 8\n",
      "\u001b[34m\u001b[1mwandb\u001b[0m: \tin_channels: 6\n",
      "\u001b[34m\u001b[1mwandb\u001b[0m: \tlearning_rate: 0.01\n",
      "\u001b[34m\u001b[1mwandb\u001b[0m: \tnum_epochs: 10\n",
      "\u001b[34m\u001b[1mwandb\u001b[0m: \tnum_heads: 3\n",
      "\u001b[34m\u001b[1mwandb\u001b[0m: \toptimizer: adam\n",
      "\u001b[34m\u001b[1mwandb\u001b[0m: \tout_channels: 12\n",
      "\u001b[34m\u001b[1mwandb\u001b[0m: \trandom_state: 42\n",
      "\u001b[34m\u001b[1mwandb\u001b[0m: \ttest_size: 0.3\n",
      "\u001b[34m\u001b[1mwandb\u001b[0m: \tweight_decay: 0.0001\n"
     ]
    },
    {
     "data": {
      "text/html": [
       "Tracking run with wandb version 0.18.5"
      ],
      "text/plain": [
       "<IPython.core.display.HTML object>"
      ]
     },
     "metadata": {},
     "output_type": "display_data"
    },
    {
     "data": {
      "text/html": [
       "Run data is saved locally in <code>c:\\Users\\barbo\\brain classifier repo\\brain_classifier\\src\\wandb\\run-20241115_231851-46saklfz</code>"
      ],
      "text/plain": [
       "<IPython.core.display.HTML object>"
      ]
     },
     "metadata": {},
     "output_type": "display_data"
    },
    {
     "data": {
      "text/html": [
       "Syncing run <strong><a href='https://wandb.ai/barbonigiorgia-sapienza-universit-di-roma/graph-classification-graphs_sc/runs/46saklfz' target=\"_blank\">pious-sweep-9</a></strong> to <a href='https://wandb.ai/barbonigiorgia-sapienza-universit-di-roma/graph-classification-graphs_sc' target=\"_blank\">Weights & Biases</a> (<a href='https://wandb.me/run' target=\"_blank\">docs</a>)<br/>Sweep page: <a href='https://wandb.ai/barbonigiorgia-sapienza-universit-di-roma/graph-classification-graphs_sc/sweeps/lhemejv7' target=\"_blank\">https://wandb.ai/barbonigiorgia-sapienza-universit-di-roma/graph-classification-graphs_sc/sweeps/lhemejv7</a>"
      ],
      "text/plain": [
       "<IPython.core.display.HTML object>"
      ]
     },
     "metadata": {},
     "output_type": "display_data"
    },
    {
     "data": {
      "text/html": [
       " View project at <a href='https://wandb.ai/barbonigiorgia-sapienza-universit-di-roma/graph-classification-graphs_sc' target=\"_blank\">https://wandb.ai/barbonigiorgia-sapienza-universit-di-roma/graph-classification-graphs_sc</a>"
      ],
      "text/plain": [
       "<IPython.core.display.HTML object>"
      ]
     },
     "metadata": {},
     "output_type": "display_data"
    },
    {
     "data": {
      "text/html": [
       " View sweep at <a href='https://wandb.ai/barbonigiorgia-sapienza-universit-di-roma/graph-classification-graphs_sc/sweeps/lhemejv7' target=\"_blank\">https://wandb.ai/barbonigiorgia-sapienza-universit-di-roma/graph-classification-graphs_sc/sweeps/lhemejv7</a>"
      ],
      "text/plain": [
       "<IPython.core.display.HTML object>"
      ]
     },
     "metadata": {},
     "output_type": "display_data"
    },
    {
     "data": {
      "text/html": [
       " View run at <a href='https://wandb.ai/barbonigiorgia-sapienza-universit-di-roma/graph-classification-graphs_sc/runs/46saklfz' target=\"_blank\">https://wandb.ai/barbonigiorgia-sapienza-universit-di-roma/graph-classification-graphs_sc/runs/46saklfz</a>"
      ],
      "text/plain": [
       "<IPython.core.display.HTML object>"
      ]
     },
     "metadata": {},
     "output_type": "display_data"
    },
    {
     "name": "stdout",
     "output_type": "stream",
     "text": [
      "Running with config: {'batch_size': 8, 'in_channels': 6, 'learning_rate': 0.01, 'num_epochs': 10, 'num_heads': 3, 'optimizer': 'adam', 'out_channels': 12, 'random_state': 42, 'test_size': 0.3, 'weight_decay': 0.0001}\n"
     ]
    },
    {
     "data": {
      "text/html": [
       "<style>\n",
       "    table.wandb td:nth-child(1) { padding: 0 10px; text-align: left ; width: auto;} td:nth-child(2) {text-align: left ; width: 100%}\n",
       "    .wandb-row { display: flex; flex-direction: row; flex-wrap: wrap; justify-content: flex-start; width: 100% }\n",
       "    .wandb-col { display: flex; flex-direction: column; flex-basis: 100%; flex: 1; padding: 10px; }\n",
       "    </style>\n",
       "<div class=\"wandb-row\"><div class=\"wandb-col\"><h3>Run history:</h3><br/><table class=\"wandb\"><tr><td>epoch</td><td>▁▂▃▃▄▅▆▆▇█</td></tr><tr><td>train_accuracy</td><td>▁▅▇▇▆██▇██</td></tr><tr><td>train_f1</td><td>▁▆▇▇▇█████</td></tr><tr><td>train_loss</td><td>█▆▄▃▂▂▁▂▁▁</td></tr><tr><td>val_accuracy</td><td>▁▂▇▇▇▅█▇▅▇</td></tr><tr><td>val_f1</td><td>▁▂▇▇▇▆█▇▆▇</td></tr><tr><td>val_loss</td><td>█▇▅▄▃▂▂▁▂▁</td></tr></table><br/></div><div class=\"wandb-col\"><h3>Run summary:</h3><br/><table class=\"wandb\"><tr><td>epoch</td><td>10</td></tr><tr><td>train_accuracy</td><td>0.752</td></tr><tr><td>train_f1</td><td>0.75171</td></tr><tr><td>train_loss</td><td>0.51767</td></tr><tr><td>val_accuracy</td><td>0.77778</td></tr><tr><td>val_f1</td><td>0.77462</td></tr><tr><td>val_loss</td><td>0.46938</td></tr></table><br/></div></div>"
      ],
      "text/plain": [
       "<IPython.core.display.HTML object>"
      ]
     },
     "metadata": {},
     "output_type": "display_data"
    },
    {
     "data": {
      "text/html": [
       " View run <strong style=\"color:#cdcd00\">pious-sweep-9</strong> at: <a href='https://wandb.ai/barbonigiorgia-sapienza-universit-di-roma/graph-classification-graphs_sc/runs/46saklfz' target=\"_blank\">https://wandb.ai/barbonigiorgia-sapienza-universit-di-roma/graph-classification-graphs_sc/runs/46saklfz</a><br/> View project at: <a href='https://wandb.ai/barbonigiorgia-sapienza-universit-di-roma/graph-classification-graphs_sc' target=\"_blank\">https://wandb.ai/barbonigiorgia-sapienza-universit-di-roma/graph-classification-graphs_sc</a><br/>Synced 5 W&B file(s), 0 media file(s), 10 artifact file(s) and 0 other file(s)"
      ],
      "text/plain": [
       "<IPython.core.display.HTML object>"
      ]
     },
     "metadata": {},
     "output_type": "display_data"
    },
    {
     "data": {
      "text/html": [
       "Find logs at: <code>.\\wandb\\run-20241115_231851-46saklfz\\logs</code>"
      ],
      "text/plain": [
       "<IPython.core.display.HTML object>"
      ]
     },
     "metadata": {},
     "output_type": "display_data"
    },
    {
     "name": "stderr",
     "output_type": "stream",
     "text": [
      "\u001b[34m\u001b[1mwandb\u001b[0m: Agent Starting Run: 2803hxhf with config:\n",
      "\u001b[34m\u001b[1mwandb\u001b[0m: \tbatch_size: 8\n",
      "\u001b[34m\u001b[1mwandb\u001b[0m: \tin_channels: 6\n",
      "\u001b[34m\u001b[1mwandb\u001b[0m: \tlearning_rate: 0.01\n",
      "\u001b[34m\u001b[1mwandb\u001b[0m: \tnum_epochs: 10\n",
      "\u001b[34m\u001b[1mwandb\u001b[0m: \tnum_heads: 4\n",
      "\u001b[34m\u001b[1mwandb\u001b[0m: \toptimizer: adam\n",
      "\u001b[34m\u001b[1mwandb\u001b[0m: \tout_channels: 4\n",
      "\u001b[34m\u001b[1mwandb\u001b[0m: \trandom_state: 42\n",
      "\u001b[34m\u001b[1mwandb\u001b[0m: \ttest_size: 0.3\n",
      "\u001b[34m\u001b[1mwandb\u001b[0m: \tweight_decay: 0\n"
     ]
    },
    {
     "data": {
      "text/html": [
       "Tracking run with wandb version 0.18.5"
      ],
      "text/plain": [
       "<IPython.core.display.HTML object>"
      ]
     },
     "metadata": {},
     "output_type": "display_data"
    },
    {
     "data": {
      "text/html": [
       "Run data is saved locally in <code>c:\\Users\\barbo\\brain classifier repo\\brain_classifier\\src\\wandb\\run-20241115_231959-2803hxhf</code>"
      ],
      "text/plain": [
       "<IPython.core.display.HTML object>"
      ]
     },
     "metadata": {},
     "output_type": "display_data"
    },
    {
     "data": {
      "text/html": [
       "Syncing run <strong><a href='https://wandb.ai/barbonigiorgia-sapienza-universit-di-roma/graph-classification-graphs_sc/runs/2803hxhf' target=\"_blank\">radiant-sweep-10</a></strong> to <a href='https://wandb.ai/barbonigiorgia-sapienza-universit-di-roma/graph-classification-graphs_sc' target=\"_blank\">Weights & Biases</a> (<a href='https://wandb.me/run' target=\"_blank\">docs</a>)<br/>Sweep page: <a href='https://wandb.ai/barbonigiorgia-sapienza-universit-di-roma/graph-classification-graphs_sc/sweeps/lhemejv7' target=\"_blank\">https://wandb.ai/barbonigiorgia-sapienza-universit-di-roma/graph-classification-graphs_sc/sweeps/lhemejv7</a>"
      ],
      "text/plain": [
       "<IPython.core.display.HTML object>"
      ]
     },
     "metadata": {},
     "output_type": "display_data"
    },
    {
     "data": {
      "text/html": [
       " View project at <a href='https://wandb.ai/barbonigiorgia-sapienza-universit-di-roma/graph-classification-graphs_sc' target=\"_blank\">https://wandb.ai/barbonigiorgia-sapienza-universit-di-roma/graph-classification-graphs_sc</a>"
      ],
      "text/plain": [
       "<IPython.core.display.HTML object>"
      ]
     },
     "metadata": {},
     "output_type": "display_data"
    },
    {
     "data": {
      "text/html": [
       " View sweep at <a href='https://wandb.ai/barbonigiorgia-sapienza-universit-di-roma/graph-classification-graphs_sc/sweeps/lhemejv7' target=\"_blank\">https://wandb.ai/barbonigiorgia-sapienza-universit-di-roma/graph-classification-graphs_sc/sweeps/lhemejv7</a>"
      ],
      "text/plain": [
       "<IPython.core.display.HTML object>"
      ]
     },
     "metadata": {},
     "output_type": "display_data"
    },
    {
     "data": {
      "text/html": [
       " View run at <a href='https://wandb.ai/barbonigiorgia-sapienza-universit-di-roma/graph-classification-graphs_sc/runs/2803hxhf' target=\"_blank\">https://wandb.ai/barbonigiorgia-sapienza-universit-di-roma/graph-classification-graphs_sc/runs/2803hxhf</a>"
      ],
      "text/plain": [
       "<IPython.core.display.HTML object>"
      ]
     },
     "metadata": {},
     "output_type": "display_data"
    },
    {
     "name": "stdout",
     "output_type": "stream",
     "text": [
      "Running with config: {'batch_size': 8, 'in_channels': 6, 'learning_rate': 0.01, 'num_epochs': 10, 'num_heads': 4, 'optimizer': 'adam', 'out_channels': 4, 'random_state': 42, 'test_size': 0.3, 'weight_decay': 0}\n"
     ]
    },
    {
     "data": {
      "text/html": [
       "<style>\n",
       "    table.wandb td:nth-child(1) { padding: 0 10px; text-align: left ; width: auto;} td:nth-child(2) {text-align: left ; width: 100%}\n",
       "    .wandb-row { display: flex; flex-direction: row; flex-wrap: wrap; justify-content: flex-start; width: 100% }\n",
       "    .wandb-col { display: flex; flex-direction: column; flex-basis: 100%; flex: 1; padding: 10px; }\n",
       "    </style>\n",
       "<div class=\"wandb-row\"><div class=\"wandb-col\"><h3>Run history:</h3><br/><table class=\"wandb\"><tr><td>epoch</td><td>▁▂▃▃▄▅▆▆▇█</td></tr><tr><td>train_accuracy</td><td>▁▁▃▃▆▇▇▇██</td></tr><tr><td>train_f1</td><td>▁▃▁▂▆▇▇▇██</td></tr><tr><td>train_loss</td><td>█▇▅▅▄▃▂▂▁▁</td></tr><tr><td>val_accuracy</td><td>▁▅▅▅▅▆▆▇▇█</td></tr><tr><td>val_f1</td><td>▁▄▅▅▆▆▆▇▇█</td></tr><tr><td>val_loss</td><td>█▇▆▆▅▄▃▂▁▁</td></tr></table><br/></div><div class=\"wandb-col\"><h3>Run summary:</h3><br/><table class=\"wandb\"><tr><td>epoch</td><td>10</td></tr><tr><td>train_accuracy</td><td>0.784</td></tr><tr><td>train_f1</td><td>0.78159</td></tr><tr><td>train_loss</td><td>0.5255</td></tr><tr><td>val_accuracy</td><td>0.81481</td></tr><tr><td>val_f1</td><td>0.81378</td></tr><tr><td>val_loss</td><td>0.51662</td></tr></table><br/></div></div>"
      ],
      "text/plain": [
       "<IPython.core.display.HTML object>"
      ]
     },
     "metadata": {},
     "output_type": "display_data"
    },
    {
     "data": {
      "text/html": [
       " View run <strong style=\"color:#cdcd00\">radiant-sweep-10</strong> at: <a href='https://wandb.ai/barbonigiorgia-sapienza-universit-di-roma/graph-classification-graphs_sc/runs/2803hxhf' target=\"_blank\">https://wandb.ai/barbonigiorgia-sapienza-universit-di-roma/graph-classification-graphs_sc/runs/2803hxhf</a><br/> View project at: <a href='https://wandb.ai/barbonigiorgia-sapienza-universit-di-roma/graph-classification-graphs_sc' target=\"_blank\">https://wandb.ai/barbonigiorgia-sapienza-universit-di-roma/graph-classification-graphs_sc</a><br/>Synced 5 W&B file(s), 0 media file(s), 14 artifact file(s) and 0 other file(s)"
      ],
      "text/plain": [
       "<IPython.core.display.HTML object>"
      ]
     },
     "metadata": {},
     "output_type": "display_data"
    },
    {
     "data": {
      "text/html": [
       "Find logs at: <code>.\\wandb\\run-20241115_231959-2803hxhf\\logs</code>"
      ],
      "text/plain": [
       "<IPython.core.display.HTML object>"
      ]
     },
     "metadata": {},
     "output_type": "display_data"
    },
    {
     "name": "stderr",
     "output_type": "stream",
     "text": [
      "\u001b[34m\u001b[1mwandb\u001b[0m: Agent Starting Run: y9aivvns with config:\n",
      "\u001b[34m\u001b[1mwandb\u001b[0m: \tbatch_size: 8\n",
      "\u001b[34m\u001b[1mwandb\u001b[0m: \tin_channels: 6\n",
      "\u001b[34m\u001b[1mwandb\u001b[0m: \tlearning_rate: 0.01\n",
      "\u001b[34m\u001b[1mwandb\u001b[0m: \tnum_epochs: 10\n",
      "\u001b[34m\u001b[1mwandb\u001b[0m: \tnum_heads: 4\n",
      "\u001b[34m\u001b[1mwandb\u001b[0m: \toptimizer: adam\n",
      "\u001b[34m\u001b[1mwandb\u001b[0m: \tout_channels: 4\n",
      "\u001b[34m\u001b[1mwandb\u001b[0m: \trandom_state: 42\n",
      "\u001b[34m\u001b[1mwandb\u001b[0m: \ttest_size: 0.3\n",
      "\u001b[34m\u001b[1mwandb\u001b[0m: \tweight_decay: 1e-05\n"
     ]
    },
    {
     "data": {
      "text/html": [
       "Tracking run with wandb version 0.18.5"
      ],
      "text/plain": [
       "<IPython.core.display.HTML object>"
      ]
     },
     "metadata": {},
     "output_type": "display_data"
    },
    {
     "data": {
      "text/html": [
       "Run data is saved locally in <code>c:\\Users\\barbo\\brain classifier repo\\brain_classifier\\src\\wandb\\run-20241115_232128-y9aivvns</code>"
      ],
      "text/plain": [
       "<IPython.core.display.HTML object>"
      ]
     },
     "metadata": {},
     "output_type": "display_data"
    },
    {
     "data": {
      "text/html": [
       "Syncing run <strong><a href='https://wandb.ai/barbonigiorgia-sapienza-universit-di-roma/graph-classification-graphs_sc/runs/y9aivvns' target=\"_blank\">different-sweep-11</a></strong> to <a href='https://wandb.ai/barbonigiorgia-sapienza-universit-di-roma/graph-classification-graphs_sc' target=\"_blank\">Weights & Biases</a> (<a href='https://wandb.me/run' target=\"_blank\">docs</a>)<br/>Sweep page: <a href='https://wandb.ai/barbonigiorgia-sapienza-universit-di-roma/graph-classification-graphs_sc/sweeps/lhemejv7' target=\"_blank\">https://wandb.ai/barbonigiorgia-sapienza-universit-di-roma/graph-classification-graphs_sc/sweeps/lhemejv7</a>"
      ],
      "text/plain": [
       "<IPython.core.display.HTML object>"
      ]
     },
     "metadata": {},
     "output_type": "display_data"
    },
    {
     "data": {
      "text/html": [
       " View project at <a href='https://wandb.ai/barbonigiorgia-sapienza-universit-di-roma/graph-classification-graphs_sc' target=\"_blank\">https://wandb.ai/barbonigiorgia-sapienza-universit-di-roma/graph-classification-graphs_sc</a>"
      ],
      "text/plain": [
       "<IPython.core.display.HTML object>"
      ]
     },
     "metadata": {},
     "output_type": "display_data"
    },
    {
     "data": {
      "text/html": [
       " View sweep at <a href='https://wandb.ai/barbonigiorgia-sapienza-universit-di-roma/graph-classification-graphs_sc/sweeps/lhemejv7' target=\"_blank\">https://wandb.ai/barbonigiorgia-sapienza-universit-di-roma/graph-classification-graphs_sc/sweeps/lhemejv7</a>"
      ],
      "text/plain": [
       "<IPython.core.display.HTML object>"
      ]
     },
     "metadata": {},
     "output_type": "display_data"
    },
    {
     "data": {
      "text/html": [
       " View run at <a href='https://wandb.ai/barbonigiorgia-sapienza-universit-di-roma/graph-classification-graphs_sc/runs/y9aivvns' target=\"_blank\">https://wandb.ai/barbonigiorgia-sapienza-universit-di-roma/graph-classification-graphs_sc/runs/y9aivvns</a>"
      ],
      "text/plain": [
       "<IPython.core.display.HTML object>"
      ]
     },
     "metadata": {},
     "output_type": "display_data"
    },
    {
     "name": "stdout",
     "output_type": "stream",
     "text": [
      "Running with config: {'batch_size': 8, 'in_channels': 6, 'learning_rate': 0.01, 'num_epochs': 10, 'num_heads': 4, 'optimizer': 'adam', 'out_channels': 4, 'random_state': 42, 'test_size': 0.3, 'weight_decay': 1e-05}\n"
     ]
    },
    {
     "data": {
      "text/html": [
       "<style>\n",
       "    table.wandb td:nth-child(1) { padding: 0 10px; text-align: left ; width: auto;} td:nth-child(2) {text-align: left ; width: 100%}\n",
       "    .wandb-row { display: flex; flex-direction: row; flex-wrap: wrap; justify-content: flex-start; width: 100% }\n",
       "    .wandb-col { display: flex; flex-direction: column; flex-basis: 100%; flex: 1; padding: 10px; }\n",
       "    </style>\n",
       "<div class=\"wandb-row\"><div class=\"wandb-col\"><h3>Run history:</h3><br/><table class=\"wandb\"><tr><td>epoch</td><td>▁▂▃▃▄▅▆▆▇█</td></tr><tr><td>train_accuracy</td><td>▁▁▃▃▆▇▇▇██</td></tr><tr><td>train_f1</td><td>▁▃▁▂▆▇▇▇██</td></tr><tr><td>train_loss</td><td>█▇▅▅▄▃▂▂▁▁</td></tr><tr><td>val_accuracy</td><td>▁▅▅▅▅▆▆▇▇█</td></tr><tr><td>val_f1</td><td>▁▄▅▅▆▆▆▇▇█</td></tr><tr><td>val_loss</td><td>█▇▆▆▅▄▃▂▁▁</td></tr></table><br/></div><div class=\"wandb-col\"><h3>Run summary:</h3><br/><table class=\"wandb\"><tr><td>epoch</td><td>10</td></tr><tr><td>train_accuracy</td><td>0.784</td></tr><tr><td>train_f1</td><td>0.78159</td></tr><tr><td>train_loss</td><td>0.52565</td></tr><tr><td>val_accuracy</td><td>0.81481</td></tr><tr><td>val_f1</td><td>0.81378</td></tr><tr><td>val_loss</td><td>0.51675</td></tr></table><br/></div></div>"
      ],
      "text/plain": [
       "<IPython.core.display.HTML object>"
      ]
     },
     "metadata": {},
     "output_type": "display_data"
    },
    {
     "data": {
      "text/html": [
       " View run <strong style=\"color:#cdcd00\">different-sweep-11</strong> at: <a href='https://wandb.ai/barbonigiorgia-sapienza-universit-di-roma/graph-classification-graphs_sc/runs/y9aivvns' target=\"_blank\">https://wandb.ai/barbonigiorgia-sapienza-universit-di-roma/graph-classification-graphs_sc/runs/y9aivvns</a><br/> View project at: <a href='https://wandb.ai/barbonigiorgia-sapienza-universit-di-roma/graph-classification-graphs_sc' target=\"_blank\">https://wandb.ai/barbonigiorgia-sapienza-universit-di-roma/graph-classification-graphs_sc</a><br/>Synced 5 W&B file(s), 0 media file(s), 14 artifact file(s) and 0 other file(s)"
      ],
      "text/plain": [
       "<IPython.core.display.HTML object>"
      ]
     },
     "metadata": {},
     "output_type": "display_data"
    },
    {
     "data": {
      "text/html": [
       "Find logs at: <code>.\\wandb\\run-20241115_232128-y9aivvns\\logs</code>"
      ],
      "text/plain": [
       "<IPython.core.display.HTML object>"
      ]
     },
     "metadata": {},
     "output_type": "display_data"
    },
    {
     "name": "stderr",
     "output_type": "stream",
     "text": [
      "\u001b[34m\u001b[1mwandb\u001b[0m: Agent Starting Run: jarf2dru with config:\n",
      "\u001b[34m\u001b[1mwandb\u001b[0m: \tbatch_size: 8\n",
      "\u001b[34m\u001b[1mwandb\u001b[0m: \tin_channels: 6\n",
      "\u001b[34m\u001b[1mwandb\u001b[0m: \tlearning_rate: 0.01\n",
      "\u001b[34m\u001b[1mwandb\u001b[0m: \tnum_epochs: 10\n",
      "\u001b[34m\u001b[1mwandb\u001b[0m: \tnum_heads: 4\n",
      "\u001b[34m\u001b[1mwandb\u001b[0m: \toptimizer: adam\n",
      "\u001b[34m\u001b[1mwandb\u001b[0m: \tout_channels: 4\n",
      "\u001b[34m\u001b[1mwandb\u001b[0m: \trandom_state: 42\n",
      "\u001b[34m\u001b[1mwandb\u001b[0m: \ttest_size: 0.3\n",
      "\u001b[34m\u001b[1mwandb\u001b[0m: \tweight_decay: 0.0001\n"
     ]
    },
    {
     "data": {
      "text/html": [
       "Tracking run with wandb version 0.18.5"
      ],
      "text/plain": [
       "<IPython.core.display.HTML object>"
      ]
     },
     "metadata": {},
     "output_type": "display_data"
    },
    {
     "data": {
      "text/html": [
       "Run data is saved locally in <code>c:\\Users\\barbo\\brain classifier repo\\brain_classifier\\src\\wandb\\run-20241115_232256-jarf2dru</code>"
      ],
      "text/plain": [
       "<IPython.core.display.HTML object>"
      ]
     },
     "metadata": {},
     "output_type": "display_data"
    },
    {
     "data": {
      "text/html": [
       "Syncing run <strong><a href='https://wandb.ai/barbonigiorgia-sapienza-universit-di-roma/graph-classification-graphs_sc/runs/jarf2dru' target=\"_blank\">spring-sweep-12</a></strong> to <a href='https://wandb.ai/barbonigiorgia-sapienza-universit-di-roma/graph-classification-graphs_sc' target=\"_blank\">Weights & Biases</a> (<a href='https://wandb.me/run' target=\"_blank\">docs</a>)<br/>Sweep page: <a href='https://wandb.ai/barbonigiorgia-sapienza-universit-di-roma/graph-classification-graphs_sc/sweeps/lhemejv7' target=\"_blank\">https://wandb.ai/barbonigiorgia-sapienza-universit-di-roma/graph-classification-graphs_sc/sweeps/lhemejv7</a>"
      ],
      "text/plain": [
       "<IPython.core.display.HTML object>"
      ]
     },
     "metadata": {},
     "output_type": "display_data"
    },
    {
     "data": {
      "text/html": [
       " View project at <a href='https://wandb.ai/barbonigiorgia-sapienza-universit-di-roma/graph-classification-graphs_sc' target=\"_blank\">https://wandb.ai/barbonigiorgia-sapienza-universit-di-roma/graph-classification-graphs_sc</a>"
      ],
      "text/plain": [
       "<IPython.core.display.HTML object>"
      ]
     },
     "metadata": {},
     "output_type": "display_data"
    },
    {
     "data": {
      "text/html": [
       " View sweep at <a href='https://wandb.ai/barbonigiorgia-sapienza-universit-di-roma/graph-classification-graphs_sc/sweeps/lhemejv7' target=\"_blank\">https://wandb.ai/barbonigiorgia-sapienza-universit-di-roma/graph-classification-graphs_sc/sweeps/lhemejv7</a>"
      ],
      "text/plain": [
       "<IPython.core.display.HTML object>"
      ]
     },
     "metadata": {},
     "output_type": "display_data"
    },
    {
     "data": {
      "text/html": [
       " View run at <a href='https://wandb.ai/barbonigiorgia-sapienza-universit-di-roma/graph-classification-graphs_sc/runs/jarf2dru' target=\"_blank\">https://wandb.ai/barbonigiorgia-sapienza-universit-di-roma/graph-classification-graphs_sc/runs/jarf2dru</a>"
      ],
      "text/plain": [
       "<IPython.core.display.HTML object>"
      ]
     },
     "metadata": {},
     "output_type": "display_data"
    },
    {
     "name": "stdout",
     "output_type": "stream",
     "text": [
      "Running with config: {'batch_size': 8, 'in_channels': 6, 'learning_rate': 0.01, 'num_epochs': 10, 'num_heads': 4, 'optimizer': 'adam', 'out_channels': 4, 'random_state': 42, 'test_size': 0.3, 'weight_decay': 0.0001}\n"
     ]
    },
    {
     "data": {
      "text/html": [
       "<style>\n",
       "    table.wandb td:nth-child(1) { padding: 0 10px; text-align: left ; width: auto;} td:nth-child(2) {text-align: left ; width: 100%}\n",
       "    .wandb-row { display: flex; flex-direction: row; flex-wrap: wrap; justify-content: flex-start; width: 100% }\n",
       "    .wandb-col { display: flex; flex-direction: column; flex-basis: 100%; flex: 1; padding: 10px; }\n",
       "    </style>\n",
       "<div class=\"wandb-row\"><div class=\"wandb-col\"><h3>Run history:</h3><br/><table class=\"wandb\"><tr><td>epoch</td><td>▁▂▃▃▄▅▆▆▇█</td></tr><tr><td>train_accuracy</td><td>▁▁▃▃▆▇▇▇▇█</td></tr><tr><td>train_f1</td><td>▁▃▁▂▆▇▇▇▇█</td></tr><tr><td>train_loss</td><td>█▇▅▅▄▃▂▂▁▁</td></tr><tr><td>val_accuracy</td><td>▁▅▅▅▅▆▆▇▇█</td></tr><tr><td>val_f1</td><td>▁▄▄▅▆▆▆▇▇█</td></tr><tr><td>val_loss</td><td>█▇▆▆▅▄▃▂▁▁</td></tr></table><br/></div><div class=\"wandb-col\"><h3>Run summary:</h3><br/><table class=\"wandb\"><tr><td>epoch</td><td>10</td></tr><tr><td>train_accuracy</td><td>0.792</td></tr><tr><td>train_f1</td><td>0.7901</td></tr><tr><td>train_loss</td><td>0.52689</td></tr><tr><td>val_accuracy</td><td>0.81481</td></tr><tr><td>val_f1</td><td>0.81378</td></tr><tr><td>val_loss</td><td>0.51752</td></tr></table><br/></div></div>"
      ],
      "text/plain": [
       "<IPython.core.display.HTML object>"
      ]
     },
     "metadata": {},
     "output_type": "display_data"
    },
    {
     "data": {
      "text/html": [
       " View run <strong style=\"color:#cdcd00\">spring-sweep-12</strong> at: <a href='https://wandb.ai/barbonigiorgia-sapienza-universit-di-roma/graph-classification-graphs_sc/runs/jarf2dru' target=\"_blank\">https://wandb.ai/barbonigiorgia-sapienza-universit-di-roma/graph-classification-graphs_sc/runs/jarf2dru</a><br/> View project at: <a href='https://wandb.ai/barbonigiorgia-sapienza-universit-di-roma/graph-classification-graphs_sc' target=\"_blank\">https://wandb.ai/barbonigiorgia-sapienza-universit-di-roma/graph-classification-graphs_sc</a><br/>Synced 5 W&B file(s), 0 media file(s), 14 artifact file(s) and 0 other file(s)"
      ],
      "text/plain": [
       "<IPython.core.display.HTML object>"
      ]
     },
     "metadata": {},
     "output_type": "display_data"
    },
    {
     "data": {
      "text/html": [
       "Find logs at: <code>.\\wandb\\run-20241115_232256-jarf2dru\\logs</code>"
      ],
      "text/plain": [
       "<IPython.core.display.HTML object>"
      ]
     },
     "metadata": {},
     "output_type": "display_data"
    },
    {
     "name": "stderr",
     "output_type": "stream",
     "text": [
      "\u001b[34m\u001b[1mwandb\u001b[0m: Agent Starting Run: cxluy3xb with config:\n",
      "\u001b[34m\u001b[1mwandb\u001b[0m: \tbatch_size: 8\n",
      "\u001b[34m\u001b[1mwandb\u001b[0m: \tin_channels: 6\n",
      "\u001b[34m\u001b[1mwandb\u001b[0m: \tlearning_rate: 0.01\n",
      "\u001b[34m\u001b[1mwandb\u001b[0m: \tnum_epochs: 10\n",
      "\u001b[34m\u001b[1mwandb\u001b[0m: \tnum_heads: 4\n",
      "\u001b[34m\u001b[1mwandb\u001b[0m: \toptimizer: adam\n",
      "\u001b[34m\u001b[1mwandb\u001b[0m: \tout_channels: 8\n",
      "\u001b[34m\u001b[1mwandb\u001b[0m: \trandom_state: 42\n",
      "\u001b[34m\u001b[1mwandb\u001b[0m: \ttest_size: 0.3\n",
      "\u001b[34m\u001b[1mwandb\u001b[0m: \tweight_decay: 0\n"
     ]
    },
    {
     "data": {
      "text/html": [
       "Tracking run with wandb version 0.18.5"
      ],
      "text/plain": [
       "<IPython.core.display.HTML object>"
      ]
     },
     "metadata": {},
     "output_type": "display_data"
    },
    {
     "data": {
      "text/html": [
       "Run data is saved locally in <code>c:\\Users\\barbo\\brain classifier repo\\brain_classifier\\src\\wandb\\run-20241115_232425-cxluy3xb</code>"
      ],
      "text/plain": [
       "<IPython.core.display.HTML object>"
      ]
     },
     "metadata": {},
     "output_type": "display_data"
    },
    {
     "data": {
      "text/html": [
       "Syncing run <strong><a href='https://wandb.ai/barbonigiorgia-sapienza-universit-di-roma/graph-classification-graphs_sc/runs/cxluy3xb' target=\"_blank\">royal-sweep-13</a></strong> to <a href='https://wandb.ai/barbonigiorgia-sapienza-universit-di-roma/graph-classification-graphs_sc' target=\"_blank\">Weights & Biases</a> (<a href='https://wandb.me/run' target=\"_blank\">docs</a>)<br/>Sweep page: <a href='https://wandb.ai/barbonigiorgia-sapienza-universit-di-roma/graph-classification-graphs_sc/sweeps/lhemejv7' target=\"_blank\">https://wandb.ai/barbonigiorgia-sapienza-universit-di-roma/graph-classification-graphs_sc/sweeps/lhemejv7</a>"
      ],
      "text/plain": [
       "<IPython.core.display.HTML object>"
      ]
     },
     "metadata": {},
     "output_type": "display_data"
    },
    {
     "data": {
      "text/html": [
       " View project at <a href='https://wandb.ai/barbonigiorgia-sapienza-universit-di-roma/graph-classification-graphs_sc' target=\"_blank\">https://wandb.ai/barbonigiorgia-sapienza-universit-di-roma/graph-classification-graphs_sc</a>"
      ],
      "text/plain": [
       "<IPython.core.display.HTML object>"
      ]
     },
     "metadata": {},
     "output_type": "display_data"
    },
    {
     "data": {
      "text/html": [
       " View sweep at <a href='https://wandb.ai/barbonigiorgia-sapienza-universit-di-roma/graph-classification-graphs_sc/sweeps/lhemejv7' target=\"_blank\">https://wandb.ai/barbonigiorgia-sapienza-universit-di-roma/graph-classification-graphs_sc/sweeps/lhemejv7</a>"
      ],
      "text/plain": [
       "<IPython.core.display.HTML object>"
      ]
     },
     "metadata": {},
     "output_type": "display_data"
    },
    {
     "data": {
      "text/html": [
       " View run at <a href='https://wandb.ai/barbonigiorgia-sapienza-universit-di-roma/graph-classification-graphs_sc/runs/cxluy3xb' target=\"_blank\">https://wandb.ai/barbonigiorgia-sapienza-universit-di-roma/graph-classification-graphs_sc/runs/cxluy3xb</a>"
      ],
      "text/plain": [
       "<IPython.core.display.HTML object>"
      ]
     },
     "metadata": {},
     "output_type": "display_data"
    },
    {
     "name": "stdout",
     "output_type": "stream",
     "text": [
      "Running with config: {'batch_size': 8, 'in_channels': 6, 'learning_rate': 0.01, 'num_epochs': 10, 'num_heads': 4, 'optimizer': 'adam', 'out_channels': 8, 'random_state': 42, 'test_size': 0.3, 'weight_decay': 0}\n"
     ]
    },
    {
     "data": {
      "text/html": [
       "<style>\n",
       "    table.wandb td:nth-child(1) { padding: 0 10px; text-align: left ; width: auto;} td:nth-child(2) {text-align: left ; width: 100%}\n",
       "    .wandb-row { display: flex; flex-direction: row; flex-wrap: wrap; justify-content: flex-start; width: 100% }\n",
       "    .wandb-col { display: flex; flex-direction: column; flex-basis: 100%; flex: 1; padding: 10px; }\n",
       "    </style>\n",
       "<div class=\"wandb-row\"><div class=\"wandb-col\"><h3>Run history:</h3><br/><table class=\"wandb\"><tr><td>epoch</td><td>▁▂▃▃▄▅▆▆▇█</td></tr><tr><td>train_accuracy</td><td>▁▅▇▇█▇██▇█</td></tr><tr><td>train_f1</td><td>▁▅▇▇█▇██▇█</td></tr><tr><td>train_loss</td><td>█▆▄▃▂▂▁▂▁▁</td></tr><tr><td>val_accuracy</td><td>▁▃▃▆▁▆███▆</td></tr><tr><td>val_f1</td><td>▁▄▅▆▃▆███▆</td></tr><tr><td>val_loss</td><td>█▇▅▃▃▂▁▁▁▂</td></tr></table><br/></div><div class=\"wandb-col\"><h3>Run summary:</h3><br/><table class=\"wandb\"><tr><td>epoch</td><td>10</td></tr><tr><td>train_accuracy</td><td>0.752</td></tr><tr><td>train_f1</td><td>0.75102</td></tr><tr><td>train_loss</td><td>0.50865</td></tr><tr><td>val_accuracy</td><td>0.77778</td></tr><tr><td>val_f1</td><td>0.77778</td></tr><tr><td>val_loss</td><td>0.43736</td></tr></table><br/></div></div>"
      ],
      "text/plain": [
       "<IPython.core.display.HTML object>"
      ]
     },
     "metadata": {},
     "output_type": "display_data"
    },
    {
     "data": {
      "text/html": [
       " View run <strong style=\"color:#cdcd00\">royal-sweep-13</strong> at: <a href='https://wandb.ai/barbonigiorgia-sapienza-universit-di-roma/graph-classification-graphs_sc/runs/cxluy3xb' target=\"_blank\">https://wandb.ai/barbonigiorgia-sapienza-universit-di-roma/graph-classification-graphs_sc/runs/cxluy3xb</a><br/> View project at: <a href='https://wandb.ai/barbonigiorgia-sapienza-universit-di-roma/graph-classification-graphs_sc' target=\"_blank\">https://wandb.ai/barbonigiorgia-sapienza-universit-di-roma/graph-classification-graphs_sc</a><br/>Synced 5 W&B file(s), 0 media file(s), 10 artifact file(s) and 0 other file(s)"
      ],
      "text/plain": [
       "<IPython.core.display.HTML object>"
      ]
     },
     "metadata": {},
     "output_type": "display_data"
    },
    {
     "data": {
      "text/html": [
       "Find logs at: <code>.\\wandb\\run-20241115_232425-cxluy3xb\\logs</code>"
      ],
      "text/plain": [
       "<IPython.core.display.HTML object>"
      ]
     },
     "metadata": {},
     "output_type": "display_data"
    },
    {
     "name": "stderr",
     "output_type": "stream",
     "text": [
      "\u001b[34m\u001b[1mwandb\u001b[0m: Agent Starting Run: wzowgdeu with config:\n",
      "\u001b[34m\u001b[1mwandb\u001b[0m: \tbatch_size: 8\n",
      "\u001b[34m\u001b[1mwandb\u001b[0m: \tin_channels: 6\n",
      "\u001b[34m\u001b[1mwandb\u001b[0m: \tlearning_rate: 0.01\n",
      "\u001b[34m\u001b[1mwandb\u001b[0m: \tnum_epochs: 10\n",
      "\u001b[34m\u001b[1mwandb\u001b[0m: \tnum_heads: 4\n",
      "\u001b[34m\u001b[1mwandb\u001b[0m: \toptimizer: adam\n",
      "\u001b[34m\u001b[1mwandb\u001b[0m: \tout_channels: 8\n",
      "\u001b[34m\u001b[1mwandb\u001b[0m: \trandom_state: 42\n",
      "\u001b[34m\u001b[1mwandb\u001b[0m: \ttest_size: 0.3\n",
      "\u001b[34m\u001b[1mwandb\u001b[0m: \tweight_decay: 1e-05\n"
     ]
    },
    {
     "data": {
      "text/html": [
       "Tracking run with wandb version 0.18.5"
      ],
      "text/plain": [
       "<IPython.core.display.HTML object>"
      ]
     },
     "metadata": {},
     "output_type": "display_data"
    },
    {
     "data": {
      "text/html": [
       "Run data is saved locally in <code>c:\\Users\\barbo\\brain classifier repo\\brain_classifier\\src\\wandb\\run-20241115_232553-wzowgdeu</code>"
      ],
      "text/plain": [
       "<IPython.core.display.HTML object>"
      ]
     },
     "metadata": {},
     "output_type": "display_data"
    },
    {
     "data": {
      "text/html": [
       "Syncing run <strong><a href='https://wandb.ai/barbonigiorgia-sapienza-universit-di-roma/graph-classification-graphs_sc/runs/wzowgdeu' target=\"_blank\">jolly-sweep-14</a></strong> to <a href='https://wandb.ai/barbonigiorgia-sapienza-universit-di-roma/graph-classification-graphs_sc' target=\"_blank\">Weights & Biases</a> (<a href='https://wandb.me/run' target=\"_blank\">docs</a>)<br/>Sweep page: <a href='https://wandb.ai/barbonigiorgia-sapienza-universit-di-roma/graph-classification-graphs_sc/sweeps/lhemejv7' target=\"_blank\">https://wandb.ai/barbonigiorgia-sapienza-universit-di-roma/graph-classification-graphs_sc/sweeps/lhemejv7</a>"
      ],
      "text/plain": [
       "<IPython.core.display.HTML object>"
      ]
     },
     "metadata": {},
     "output_type": "display_data"
    },
    {
     "data": {
      "text/html": [
       " View project at <a href='https://wandb.ai/barbonigiorgia-sapienza-universit-di-roma/graph-classification-graphs_sc' target=\"_blank\">https://wandb.ai/barbonigiorgia-sapienza-universit-di-roma/graph-classification-graphs_sc</a>"
      ],
      "text/plain": [
       "<IPython.core.display.HTML object>"
      ]
     },
     "metadata": {},
     "output_type": "display_data"
    },
    {
     "data": {
      "text/html": [
       " View sweep at <a href='https://wandb.ai/barbonigiorgia-sapienza-universit-di-roma/graph-classification-graphs_sc/sweeps/lhemejv7' target=\"_blank\">https://wandb.ai/barbonigiorgia-sapienza-universit-di-roma/graph-classification-graphs_sc/sweeps/lhemejv7</a>"
      ],
      "text/plain": [
       "<IPython.core.display.HTML object>"
      ]
     },
     "metadata": {},
     "output_type": "display_data"
    },
    {
     "data": {
      "text/html": [
       " View run at <a href='https://wandb.ai/barbonigiorgia-sapienza-universit-di-roma/graph-classification-graphs_sc/runs/wzowgdeu' target=\"_blank\">https://wandb.ai/barbonigiorgia-sapienza-universit-di-roma/graph-classification-graphs_sc/runs/wzowgdeu</a>"
      ],
      "text/plain": [
       "<IPython.core.display.HTML object>"
      ]
     },
     "metadata": {},
     "output_type": "display_data"
    },
    {
     "name": "stdout",
     "output_type": "stream",
     "text": [
      "Running with config: {'batch_size': 8, 'in_channels': 6, 'learning_rate': 0.01, 'num_epochs': 10, 'num_heads': 4, 'optimizer': 'adam', 'out_channels': 8, 'random_state': 42, 'test_size': 0.3, 'weight_decay': 1e-05}\n"
     ]
    },
    {
     "data": {
      "text/html": [
       "<style>\n",
       "    table.wandb td:nth-child(1) { padding: 0 10px; text-align: left ; width: auto;} td:nth-child(2) {text-align: left ; width: 100%}\n",
       "    .wandb-row { display: flex; flex-direction: row; flex-wrap: wrap; justify-content: flex-start; width: 100% }\n",
       "    .wandb-col { display: flex; flex-direction: column; flex-basis: 100%; flex: 1; padding: 10px; }\n",
       "    </style>\n",
       "<div class=\"wandb-row\"><div class=\"wandb-col\"><h3>Run history:</h3><br/><table class=\"wandb\"><tr><td>epoch</td><td>▁▂▃▃▄▅▆▆▇█</td></tr><tr><td>train_accuracy</td><td>▁▅▇▇█▇██▇█</td></tr><tr><td>train_f1</td><td>▁▅▇▇█▇██▇█</td></tr><tr><td>train_loss</td><td>█▆▄▃▂▂▁▂▁▁</td></tr><tr><td>val_accuracy</td><td>▁▃▃▆▁▆███▆</td></tr><tr><td>val_f1</td><td>▁▄▅▆▃▆███▆</td></tr><tr><td>val_loss</td><td>█▇▅▃▃▂▁▁▁▂</td></tr></table><br/></div><div class=\"wandb-col\"><h3>Run summary:</h3><br/><table class=\"wandb\"><tr><td>epoch</td><td>10</td></tr><tr><td>train_accuracy</td><td>0.752</td></tr><tr><td>train_f1</td><td>0.75102</td></tr><tr><td>train_loss</td><td>0.50873</td></tr><tr><td>val_accuracy</td><td>0.77778</td></tr><tr><td>val_f1</td><td>0.77778</td></tr><tr><td>val_loss</td><td>0.43754</td></tr></table><br/></div></div>"
      ],
      "text/plain": [
       "<IPython.core.display.HTML object>"
      ]
     },
     "metadata": {},
     "output_type": "display_data"
    },
    {
     "data": {
      "text/html": [
       " View run <strong style=\"color:#cdcd00\">jolly-sweep-14</strong> at: <a href='https://wandb.ai/barbonigiorgia-sapienza-universit-di-roma/graph-classification-graphs_sc/runs/wzowgdeu' target=\"_blank\">https://wandb.ai/barbonigiorgia-sapienza-universit-di-roma/graph-classification-graphs_sc/runs/wzowgdeu</a><br/> View project at: <a href='https://wandb.ai/barbonigiorgia-sapienza-universit-di-roma/graph-classification-graphs_sc' target=\"_blank\">https://wandb.ai/barbonigiorgia-sapienza-universit-di-roma/graph-classification-graphs_sc</a><br/>Synced 5 W&B file(s), 0 media file(s), 10 artifact file(s) and 0 other file(s)"
      ],
      "text/plain": [
       "<IPython.core.display.HTML object>"
      ]
     },
     "metadata": {},
     "output_type": "display_data"
    },
    {
     "data": {
      "text/html": [
       "Find logs at: <code>.\\wandb\\run-20241115_232553-wzowgdeu\\logs</code>"
      ],
      "text/plain": [
       "<IPython.core.display.HTML object>"
      ]
     },
     "metadata": {},
     "output_type": "display_data"
    },
    {
     "name": "stderr",
     "output_type": "stream",
     "text": [
      "\u001b[34m\u001b[1mwandb\u001b[0m: Agent Starting Run: z19wny3e with config:\n",
      "\u001b[34m\u001b[1mwandb\u001b[0m: \tbatch_size: 8\n",
      "\u001b[34m\u001b[1mwandb\u001b[0m: \tin_channels: 6\n",
      "\u001b[34m\u001b[1mwandb\u001b[0m: \tlearning_rate: 0.01\n",
      "\u001b[34m\u001b[1mwandb\u001b[0m: \tnum_epochs: 10\n",
      "\u001b[34m\u001b[1mwandb\u001b[0m: \tnum_heads: 4\n",
      "\u001b[34m\u001b[1mwandb\u001b[0m: \toptimizer: adam\n",
      "\u001b[34m\u001b[1mwandb\u001b[0m: \tout_channels: 8\n",
      "\u001b[34m\u001b[1mwandb\u001b[0m: \trandom_state: 42\n",
      "\u001b[34m\u001b[1mwandb\u001b[0m: \ttest_size: 0.3\n",
      "\u001b[34m\u001b[1mwandb\u001b[0m: \tweight_decay: 0.0001\n"
     ]
    },
    {
     "data": {
      "text/html": [
       "Tracking run with wandb version 0.18.5"
      ],
      "text/plain": [
       "<IPython.core.display.HTML object>"
      ]
     },
     "metadata": {},
     "output_type": "display_data"
    },
    {
     "data": {
      "text/html": [
       "Run data is saved locally in <code>c:\\Users\\barbo\\brain classifier repo\\brain_classifier\\src\\wandb\\run-20241115_232727-z19wny3e</code>"
      ],
      "text/plain": [
       "<IPython.core.display.HTML object>"
      ]
     },
     "metadata": {},
     "output_type": "display_data"
    },
    {
     "data": {
      "text/html": [
       "Syncing run <strong><a href='https://wandb.ai/barbonigiorgia-sapienza-universit-di-roma/graph-classification-graphs_sc/runs/z19wny3e' target=\"_blank\">major-sweep-15</a></strong> to <a href='https://wandb.ai/barbonigiorgia-sapienza-universit-di-roma/graph-classification-graphs_sc' target=\"_blank\">Weights & Biases</a> (<a href='https://wandb.me/run' target=\"_blank\">docs</a>)<br/>Sweep page: <a href='https://wandb.ai/barbonigiorgia-sapienza-universit-di-roma/graph-classification-graphs_sc/sweeps/lhemejv7' target=\"_blank\">https://wandb.ai/barbonigiorgia-sapienza-universit-di-roma/graph-classification-graphs_sc/sweeps/lhemejv7</a>"
      ],
      "text/plain": [
       "<IPython.core.display.HTML object>"
      ]
     },
     "metadata": {},
     "output_type": "display_data"
    },
    {
     "data": {
      "text/html": [
       " View project at <a href='https://wandb.ai/barbonigiorgia-sapienza-universit-di-roma/graph-classification-graphs_sc' target=\"_blank\">https://wandb.ai/barbonigiorgia-sapienza-universit-di-roma/graph-classification-graphs_sc</a>"
      ],
      "text/plain": [
       "<IPython.core.display.HTML object>"
      ]
     },
     "metadata": {},
     "output_type": "display_data"
    },
    {
     "data": {
      "text/html": [
       " View sweep at <a href='https://wandb.ai/barbonigiorgia-sapienza-universit-di-roma/graph-classification-graphs_sc/sweeps/lhemejv7' target=\"_blank\">https://wandb.ai/barbonigiorgia-sapienza-universit-di-roma/graph-classification-graphs_sc/sweeps/lhemejv7</a>"
      ],
      "text/plain": [
       "<IPython.core.display.HTML object>"
      ]
     },
     "metadata": {},
     "output_type": "display_data"
    },
    {
     "data": {
      "text/html": [
       " View run at <a href='https://wandb.ai/barbonigiorgia-sapienza-universit-di-roma/graph-classification-graphs_sc/runs/z19wny3e' target=\"_blank\">https://wandb.ai/barbonigiorgia-sapienza-universit-di-roma/graph-classification-graphs_sc/runs/z19wny3e</a>"
      ],
      "text/plain": [
       "<IPython.core.display.HTML object>"
      ]
     },
     "metadata": {},
     "output_type": "display_data"
    },
    {
     "name": "stdout",
     "output_type": "stream",
     "text": [
      "Running with config: {'batch_size': 8, 'in_channels': 6, 'learning_rate': 0.01, 'num_epochs': 10, 'num_heads': 4, 'optimizer': 'adam', 'out_channels': 8, 'random_state': 42, 'test_size': 0.3, 'weight_decay': 0.0001}\n"
     ]
    },
    {
     "data": {
      "text/html": [
       "<style>\n",
       "    table.wandb td:nth-child(1) { padding: 0 10px; text-align: left ; width: auto;} td:nth-child(2) {text-align: left ; width: 100%}\n",
       "    .wandb-row { display: flex; flex-direction: row; flex-wrap: wrap; justify-content: flex-start; width: 100% }\n",
       "    .wandb-col { display: flex; flex-direction: column; flex-basis: 100%; flex: 1; padding: 10px; }\n",
       "    </style>\n",
       "<div class=\"wandb-row\"><div class=\"wandb-col\"><h3>Run history:</h3><br/><table class=\"wandb\"><tr><td>epoch</td><td>▁▂▃▃▄▅▆▆▇█</td></tr><tr><td>train_accuracy</td><td>▁▅▇▇█▇██▇▇</td></tr><tr><td>train_f1</td><td>▁▅▇▇████▇▇</td></tr><tr><td>train_loss</td><td>█▆▄▃▂▂▁▂▁▁</td></tr><tr><td>val_accuracy</td><td>▁▆▃▆▁▆███▆</td></tr><tr><td>val_f1</td><td>▁▆▅▆▃▆███▆</td></tr><tr><td>val_loss</td><td>█▇▅▃▃▂▁▁▁▂</td></tr></table><br/></div><div class=\"wandb-col\"><h3>Run summary:</h3><br/><table class=\"wandb\"><tr><td>epoch</td><td>10</td></tr><tr><td>train_accuracy</td><td>0.744</td></tr><tr><td>train_f1</td><td>0.74258</td></tr><tr><td>train_loss</td><td>0.50937</td></tr><tr><td>val_accuracy</td><td>0.77778</td></tr><tr><td>val_f1</td><td>0.77778</td></tr><tr><td>val_loss</td><td>0.43851</td></tr></table><br/></div></div>"
      ],
      "text/plain": [
       "<IPython.core.display.HTML object>"
      ]
     },
     "metadata": {},
     "output_type": "display_data"
    },
    {
     "data": {
      "text/html": [
       " View run <strong style=\"color:#cdcd00\">major-sweep-15</strong> at: <a href='https://wandb.ai/barbonigiorgia-sapienza-universit-di-roma/graph-classification-graphs_sc/runs/z19wny3e' target=\"_blank\">https://wandb.ai/barbonigiorgia-sapienza-universit-di-roma/graph-classification-graphs_sc/runs/z19wny3e</a><br/> View project at: <a href='https://wandb.ai/barbonigiorgia-sapienza-universit-di-roma/graph-classification-graphs_sc' target=\"_blank\">https://wandb.ai/barbonigiorgia-sapienza-universit-di-roma/graph-classification-graphs_sc</a><br/>Synced 5 W&B file(s), 0 media file(s), 8 artifact file(s) and 0 other file(s)"
      ],
      "text/plain": [
       "<IPython.core.display.HTML object>"
      ]
     },
     "metadata": {},
     "output_type": "display_data"
    },
    {
     "data": {
      "text/html": [
       "Find logs at: <code>.\\wandb\\run-20241115_232727-z19wny3e\\logs</code>"
      ],
      "text/plain": [
       "<IPython.core.display.HTML object>"
      ]
     },
     "metadata": {},
     "output_type": "display_data"
    },
    {
     "name": "stderr",
     "output_type": "stream",
     "text": [
      "\u001b[34m\u001b[1mwandb\u001b[0m: Agent Starting Run: 4pzgjme6 with config:\n",
      "\u001b[34m\u001b[1mwandb\u001b[0m: \tbatch_size: 8\n",
      "\u001b[34m\u001b[1mwandb\u001b[0m: \tin_channels: 6\n",
      "\u001b[34m\u001b[1mwandb\u001b[0m: \tlearning_rate: 0.01\n",
      "\u001b[34m\u001b[1mwandb\u001b[0m: \tnum_epochs: 10\n",
      "\u001b[34m\u001b[1mwandb\u001b[0m: \tnum_heads: 4\n",
      "\u001b[34m\u001b[1mwandb\u001b[0m: \toptimizer: adam\n",
      "\u001b[34m\u001b[1mwandb\u001b[0m: \tout_channels: 12\n",
      "\u001b[34m\u001b[1mwandb\u001b[0m: \trandom_state: 42\n",
      "\u001b[34m\u001b[1mwandb\u001b[0m: \ttest_size: 0.3\n",
      "\u001b[34m\u001b[1mwandb\u001b[0m: \tweight_decay: 0\n"
     ]
    },
    {
     "data": {
      "text/html": [
       "Tracking run with wandb version 0.18.5"
      ],
      "text/plain": [
       "<IPython.core.display.HTML object>"
      ]
     },
     "metadata": {},
     "output_type": "display_data"
    },
    {
     "data": {
      "text/html": [
       "Run data is saved locally in <code>c:\\Users\\barbo\\brain classifier repo\\brain_classifier\\src\\wandb\\run-20241115_232906-4pzgjme6</code>"
      ],
      "text/plain": [
       "<IPython.core.display.HTML object>"
      ]
     },
     "metadata": {},
     "output_type": "display_data"
    },
    {
     "data": {
      "text/html": [
       "Syncing run <strong><a href='https://wandb.ai/barbonigiorgia-sapienza-universit-di-roma/graph-classification-graphs_sc/runs/4pzgjme6' target=\"_blank\">morning-sweep-16</a></strong> to <a href='https://wandb.ai/barbonigiorgia-sapienza-universit-di-roma/graph-classification-graphs_sc' target=\"_blank\">Weights & Biases</a> (<a href='https://wandb.me/run' target=\"_blank\">docs</a>)<br/>Sweep page: <a href='https://wandb.ai/barbonigiorgia-sapienza-universit-di-roma/graph-classification-graphs_sc/sweeps/lhemejv7' target=\"_blank\">https://wandb.ai/barbonigiorgia-sapienza-universit-di-roma/graph-classification-graphs_sc/sweeps/lhemejv7</a>"
      ],
      "text/plain": [
       "<IPython.core.display.HTML object>"
      ]
     },
     "metadata": {},
     "output_type": "display_data"
    },
    {
     "data": {
      "text/html": [
       " View project at <a href='https://wandb.ai/barbonigiorgia-sapienza-universit-di-roma/graph-classification-graphs_sc' target=\"_blank\">https://wandb.ai/barbonigiorgia-sapienza-universit-di-roma/graph-classification-graphs_sc</a>"
      ],
      "text/plain": [
       "<IPython.core.display.HTML object>"
      ]
     },
     "metadata": {},
     "output_type": "display_data"
    },
    {
     "data": {
      "text/html": [
       " View sweep at <a href='https://wandb.ai/barbonigiorgia-sapienza-universit-di-roma/graph-classification-graphs_sc/sweeps/lhemejv7' target=\"_blank\">https://wandb.ai/barbonigiorgia-sapienza-universit-di-roma/graph-classification-graphs_sc/sweeps/lhemejv7</a>"
      ],
      "text/plain": [
       "<IPython.core.display.HTML object>"
      ]
     },
     "metadata": {},
     "output_type": "display_data"
    },
    {
     "data": {
      "text/html": [
       " View run at <a href='https://wandb.ai/barbonigiorgia-sapienza-universit-di-roma/graph-classification-graphs_sc/runs/4pzgjme6' target=\"_blank\">https://wandb.ai/barbonigiorgia-sapienza-universit-di-roma/graph-classification-graphs_sc/runs/4pzgjme6</a>"
      ],
      "text/plain": [
       "<IPython.core.display.HTML object>"
      ]
     },
     "metadata": {},
     "output_type": "display_data"
    },
    {
     "name": "stdout",
     "output_type": "stream",
     "text": [
      "Running with config: {'batch_size': 8, 'in_channels': 6, 'learning_rate': 0.01, 'num_epochs': 10, 'num_heads': 4, 'optimizer': 'adam', 'out_channels': 12, 'random_state': 42, 'test_size': 0.3, 'weight_decay': 0}\n"
     ]
    },
    {
     "data": {
      "text/html": [
       "<style>\n",
       "    table.wandb td:nth-child(1) { padding: 0 10px; text-align: left ; width: auto;} td:nth-child(2) {text-align: left ; width: 100%}\n",
       "    .wandb-row { display: flex; flex-direction: row; flex-wrap: wrap; justify-content: flex-start; width: 100% }\n",
       "    .wandb-col { display: flex; flex-direction: column; flex-basis: 100%; flex: 1; padding: 10px; }\n",
       "    </style>\n",
       "<div class=\"wandb-row\"><div class=\"wandb-col\"><h3>Run history:</h3><br/><table class=\"wandb\"><tr><td>epoch</td><td>▁▂▃▃▄▅▆▆▇█</td></tr><tr><td>train_accuracy</td><td>▁▆█▇█▇████</td></tr><tr><td>train_f1</td><td>▁▇█▇█▇████</td></tr><tr><td>train_loss</td><td>█▆▄▃▂▂▁▂▁▁</td></tr><tr><td>val_accuracy</td><td>▁▅▇█▇▆▇▇▇█</td></tr><tr><td>val_f1</td><td>▁▅▇█▇▆▇▇▇█</td></tr><tr><td>val_loss</td><td>█▆▄▃▂▂▂▁▂▂</td></tr></table><br/></div><div class=\"wandb-col\"><h3>Run summary:</h3><br/><table class=\"wandb\"><tr><td>epoch</td><td>10</td></tr><tr><td>train_accuracy</td><td>0.768</td></tr><tr><td>train_f1</td><td>0.76773</td></tr><tr><td>train_loss</td><td>0.49089</td></tr><tr><td>val_accuracy</td><td>0.81481</td></tr><tr><td>val_f1</td><td>0.81378</td></tr><tr><td>val_loss</td><td>0.43155</td></tr></table><br/></div></div>"
      ],
      "text/plain": [
       "<IPython.core.display.HTML object>"
      ]
     },
     "metadata": {},
     "output_type": "display_data"
    },
    {
     "data": {
      "text/html": [
       " View run <strong style=\"color:#cdcd00\">morning-sweep-16</strong> at: <a href='https://wandb.ai/barbonigiorgia-sapienza-universit-di-roma/graph-classification-graphs_sc/runs/4pzgjme6' target=\"_blank\">https://wandb.ai/barbonigiorgia-sapienza-universit-di-roma/graph-classification-graphs_sc/runs/4pzgjme6</a><br/> View project at: <a href='https://wandb.ai/barbonigiorgia-sapienza-universit-di-roma/graph-classification-graphs_sc' target=\"_blank\">https://wandb.ai/barbonigiorgia-sapienza-universit-di-roma/graph-classification-graphs_sc</a><br/>Synced 5 W&B file(s), 0 media file(s), 10 artifact file(s) and 0 other file(s)"
      ],
      "text/plain": [
       "<IPython.core.display.HTML object>"
      ]
     },
     "metadata": {},
     "output_type": "display_data"
    },
    {
     "data": {
      "text/html": [
       "Find logs at: <code>.\\wandb\\run-20241115_232906-4pzgjme6\\logs</code>"
      ],
      "text/plain": [
       "<IPython.core.display.HTML object>"
      ]
     },
     "metadata": {},
     "output_type": "display_data"
    },
    {
     "name": "stderr",
     "output_type": "stream",
     "text": [
      "\u001b[34m\u001b[1mwandb\u001b[0m: Agent Starting Run: amyeaa7p with config:\n",
      "\u001b[34m\u001b[1mwandb\u001b[0m: \tbatch_size: 8\n",
      "\u001b[34m\u001b[1mwandb\u001b[0m: \tin_channels: 6\n",
      "\u001b[34m\u001b[1mwandb\u001b[0m: \tlearning_rate: 0.01\n",
      "\u001b[34m\u001b[1mwandb\u001b[0m: \tnum_epochs: 10\n",
      "\u001b[34m\u001b[1mwandb\u001b[0m: \tnum_heads: 4\n",
      "\u001b[34m\u001b[1mwandb\u001b[0m: \toptimizer: adam\n",
      "\u001b[34m\u001b[1mwandb\u001b[0m: \tout_channels: 12\n",
      "\u001b[34m\u001b[1mwandb\u001b[0m: \trandom_state: 42\n",
      "\u001b[34m\u001b[1mwandb\u001b[0m: \ttest_size: 0.3\n",
      "\u001b[34m\u001b[1mwandb\u001b[0m: \tweight_decay: 1e-05\n"
     ]
    },
    {
     "data": {
      "text/html": [
       "Tracking run with wandb version 0.18.5"
      ],
      "text/plain": [
       "<IPython.core.display.HTML object>"
      ]
     },
     "metadata": {},
     "output_type": "display_data"
    },
    {
     "data": {
      "text/html": [
       "Run data is saved locally in <code>c:\\Users\\barbo\\brain classifier repo\\brain_classifier\\src\\wandb\\run-20241115_233046-amyeaa7p</code>"
      ],
      "text/plain": [
       "<IPython.core.display.HTML object>"
      ]
     },
     "metadata": {},
     "output_type": "display_data"
    },
    {
     "data": {
      "text/html": [
       "Syncing run <strong><a href='https://wandb.ai/barbonigiorgia-sapienza-universit-di-roma/graph-classification-graphs_sc/runs/amyeaa7p' target=\"_blank\">cool-sweep-17</a></strong> to <a href='https://wandb.ai/barbonigiorgia-sapienza-universit-di-roma/graph-classification-graphs_sc' target=\"_blank\">Weights & Biases</a> (<a href='https://wandb.me/run' target=\"_blank\">docs</a>)<br/>Sweep page: <a href='https://wandb.ai/barbonigiorgia-sapienza-universit-di-roma/graph-classification-graphs_sc/sweeps/lhemejv7' target=\"_blank\">https://wandb.ai/barbonigiorgia-sapienza-universit-di-roma/graph-classification-graphs_sc/sweeps/lhemejv7</a>"
      ],
      "text/plain": [
       "<IPython.core.display.HTML object>"
      ]
     },
     "metadata": {},
     "output_type": "display_data"
    },
    {
     "data": {
      "text/html": [
       " View project at <a href='https://wandb.ai/barbonigiorgia-sapienza-universit-di-roma/graph-classification-graphs_sc' target=\"_blank\">https://wandb.ai/barbonigiorgia-sapienza-universit-di-roma/graph-classification-graphs_sc</a>"
      ],
      "text/plain": [
       "<IPython.core.display.HTML object>"
      ]
     },
     "metadata": {},
     "output_type": "display_data"
    },
    {
     "data": {
      "text/html": [
       " View sweep at <a href='https://wandb.ai/barbonigiorgia-sapienza-universit-di-roma/graph-classification-graphs_sc/sweeps/lhemejv7' target=\"_blank\">https://wandb.ai/barbonigiorgia-sapienza-universit-di-roma/graph-classification-graphs_sc/sweeps/lhemejv7</a>"
      ],
      "text/plain": [
       "<IPython.core.display.HTML object>"
      ]
     },
     "metadata": {},
     "output_type": "display_data"
    },
    {
     "data": {
      "text/html": [
       " View run at <a href='https://wandb.ai/barbonigiorgia-sapienza-universit-di-roma/graph-classification-graphs_sc/runs/amyeaa7p' target=\"_blank\">https://wandb.ai/barbonigiorgia-sapienza-universit-di-roma/graph-classification-graphs_sc/runs/amyeaa7p</a>"
      ],
      "text/plain": [
       "<IPython.core.display.HTML object>"
      ]
     },
     "metadata": {},
     "output_type": "display_data"
    },
    {
     "name": "stdout",
     "output_type": "stream",
     "text": [
      "Running with config: {'batch_size': 8, 'in_channels': 6, 'learning_rate': 0.01, 'num_epochs': 10, 'num_heads': 4, 'optimizer': 'adam', 'out_channels': 12, 'random_state': 42, 'test_size': 0.3, 'weight_decay': 1e-05}\n"
     ]
    },
    {
     "data": {
      "text/html": [
       "<style>\n",
       "    table.wandb td:nth-child(1) { padding: 0 10px; text-align: left ; width: auto;} td:nth-child(2) {text-align: left ; width: 100%}\n",
       "    .wandb-row { display: flex; flex-direction: row; flex-wrap: wrap; justify-content: flex-start; width: 100% }\n",
       "    .wandb-col { display: flex; flex-direction: column; flex-basis: 100%; flex: 1; padding: 10px; }\n",
       "    </style>\n",
       "<div class=\"wandb-row\"><div class=\"wandb-col\"><h3>Run history:</h3><br/><table class=\"wandb\"><tr><td>epoch</td><td>▁▂▃▃▄▅▆▆▇█</td></tr><tr><td>train_accuracy</td><td>▁▆█▇█▇████</td></tr><tr><td>train_f1</td><td>▁▇█▇█▇████</td></tr><tr><td>train_loss</td><td>█▆▄▃▂▂▁▂▁▁</td></tr><tr><td>val_accuracy</td><td>▁▅▇█▇▆▇▇▇█</td></tr><tr><td>val_f1</td><td>▁▄▇█▇▆▇▇▇█</td></tr><tr><td>val_loss</td><td>█▆▅▃▂▂▂▁▂▂</td></tr></table><br/></div><div class=\"wandb-col\"><h3>Run summary:</h3><br/><table class=\"wandb\"><tr><td>epoch</td><td>10</td></tr><tr><td>train_accuracy</td><td>0.768</td></tr><tr><td>train_f1</td><td>0.76773</td></tr><tr><td>train_loss</td><td>0.49099</td></tr><tr><td>val_accuracy</td><td>0.81481</td></tr><tr><td>val_f1</td><td>0.81378</td></tr><tr><td>val_loss</td><td>0.43172</td></tr></table><br/></div></div>"
      ],
      "text/plain": [
       "<IPython.core.display.HTML object>"
      ]
     },
     "metadata": {},
     "output_type": "display_data"
    },
    {
     "data": {
      "text/html": [
       " View run <strong style=\"color:#cdcd00\">cool-sweep-17</strong> at: <a href='https://wandb.ai/barbonigiorgia-sapienza-universit-di-roma/graph-classification-graphs_sc/runs/amyeaa7p' target=\"_blank\">https://wandb.ai/barbonigiorgia-sapienza-universit-di-roma/graph-classification-graphs_sc/runs/amyeaa7p</a><br/> View project at: <a href='https://wandb.ai/barbonigiorgia-sapienza-universit-di-roma/graph-classification-graphs_sc' target=\"_blank\">https://wandb.ai/barbonigiorgia-sapienza-universit-di-roma/graph-classification-graphs_sc</a><br/>Synced 5 W&B file(s), 0 media file(s), 10 artifact file(s) and 0 other file(s)"
      ],
      "text/plain": [
       "<IPython.core.display.HTML object>"
      ]
     },
     "metadata": {},
     "output_type": "display_data"
    },
    {
     "data": {
      "text/html": [
       "Find logs at: <code>.\\wandb\\run-20241115_233046-amyeaa7p\\logs</code>"
      ],
      "text/plain": [
       "<IPython.core.display.HTML object>"
      ]
     },
     "metadata": {},
     "output_type": "display_data"
    },
    {
     "name": "stderr",
     "output_type": "stream",
     "text": [
      "\u001b[34m\u001b[1mwandb\u001b[0m: Agent Starting Run: cgo9348n with config:\n",
      "\u001b[34m\u001b[1mwandb\u001b[0m: \tbatch_size: 8\n",
      "\u001b[34m\u001b[1mwandb\u001b[0m: \tin_channels: 6\n",
      "\u001b[34m\u001b[1mwandb\u001b[0m: \tlearning_rate: 0.01\n",
      "\u001b[34m\u001b[1mwandb\u001b[0m: \tnum_epochs: 10\n",
      "\u001b[34m\u001b[1mwandb\u001b[0m: \tnum_heads: 4\n",
      "\u001b[34m\u001b[1mwandb\u001b[0m: \toptimizer: adam\n",
      "\u001b[34m\u001b[1mwandb\u001b[0m: \tout_channels: 12\n",
      "\u001b[34m\u001b[1mwandb\u001b[0m: \trandom_state: 42\n",
      "\u001b[34m\u001b[1mwandb\u001b[0m: \ttest_size: 0.3\n",
      "\u001b[34m\u001b[1mwandb\u001b[0m: \tweight_decay: 0.0001\n"
     ]
    },
    {
     "data": {
      "text/html": [
       "Tracking run with wandb version 0.18.5"
      ],
      "text/plain": [
       "<IPython.core.display.HTML object>"
      ]
     },
     "metadata": {},
     "output_type": "display_data"
    },
    {
     "data": {
      "text/html": [
       "Run data is saved locally in <code>c:\\Users\\barbo\\brain classifier repo\\brain_classifier\\src\\wandb\\run-20241115_233208-cgo9348n</code>"
      ],
      "text/plain": [
       "<IPython.core.display.HTML object>"
      ]
     },
     "metadata": {},
     "output_type": "display_data"
    },
    {
     "data": {
      "text/html": [
       "Syncing run <strong><a href='https://wandb.ai/barbonigiorgia-sapienza-universit-di-roma/graph-classification-graphs_sc/runs/cgo9348n' target=\"_blank\">silver-sweep-18</a></strong> to <a href='https://wandb.ai/barbonigiorgia-sapienza-universit-di-roma/graph-classification-graphs_sc' target=\"_blank\">Weights & Biases</a> (<a href='https://wandb.me/run' target=\"_blank\">docs</a>)<br/>Sweep page: <a href='https://wandb.ai/barbonigiorgia-sapienza-universit-di-roma/graph-classification-graphs_sc/sweeps/lhemejv7' target=\"_blank\">https://wandb.ai/barbonigiorgia-sapienza-universit-di-roma/graph-classification-graphs_sc/sweeps/lhemejv7</a>"
      ],
      "text/plain": [
       "<IPython.core.display.HTML object>"
      ]
     },
     "metadata": {},
     "output_type": "display_data"
    },
    {
     "data": {
      "text/html": [
       " View project at <a href='https://wandb.ai/barbonigiorgia-sapienza-universit-di-roma/graph-classification-graphs_sc' target=\"_blank\">https://wandb.ai/barbonigiorgia-sapienza-universit-di-roma/graph-classification-graphs_sc</a>"
      ],
      "text/plain": [
       "<IPython.core.display.HTML object>"
      ]
     },
     "metadata": {},
     "output_type": "display_data"
    },
    {
     "data": {
      "text/html": [
       " View sweep at <a href='https://wandb.ai/barbonigiorgia-sapienza-universit-di-roma/graph-classification-graphs_sc/sweeps/lhemejv7' target=\"_blank\">https://wandb.ai/barbonigiorgia-sapienza-universit-di-roma/graph-classification-graphs_sc/sweeps/lhemejv7</a>"
      ],
      "text/plain": [
       "<IPython.core.display.HTML object>"
      ]
     },
     "metadata": {},
     "output_type": "display_data"
    },
    {
     "data": {
      "text/html": [
       " View run at <a href='https://wandb.ai/barbonigiorgia-sapienza-universit-di-roma/graph-classification-graphs_sc/runs/cgo9348n' target=\"_blank\">https://wandb.ai/barbonigiorgia-sapienza-universit-di-roma/graph-classification-graphs_sc/runs/cgo9348n</a>"
      ],
      "text/plain": [
       "<IPython.core.display.HTML object>"
      ]
     },
     "metadata": {},
     "output_type": "display_data"
    },
    {
     "name": "stdout",
     "output_type": "stream",
     "text": [
      "Running with config: {'batch_size': 8, 'in_channels': 6, 'learning_rate': 0.01, 'num_epochs': 10, 'num_heads': 4, 'optimizer': 'adam', 'out_channels': 12, 'random_state': 42, 'test_size': 0.3, 'weight_decay': 0.0001}\n"
     ]
    },
    {
     "data": {
      "text/html": [
       "<style>\n",
       "    table.wandb td:nth-child(1) { padding: 0 10px; text-align: left ; width: auto;} td:nth-child(2) {text-align: left ; width: 100%}\n",
       "    .wandb-row { display: flex; flex-direction: row; flex-wrap: wrap; justify-content: flex-start; width: 100% }\n",
       "    .wandb-col { display: flex; flex-direction: column; flex-basis: 100%; flex: 1; padding: 10px; }\n",
       "    </style>\n",
       "<div class=\"wandb-row\"><div class=\"wandb-col\"><h3>Run history:</h3><br/><table class=\"wandb\"><tr><td>epoch</td><td>▁▂▃▃▄▅▆▆▇█</td></tr><tr><td>train_accuracy</td><td>▁▆█▇█▇█▇▇█</td></tr><tr><td>train_f1</td><td>▁▇█▇█▇█▇▇█</td></tr><tr><td>train_loss</td><td>█▆▄▃▂▂▁▂▁▁</td></tr><tr><td>val_accuracy</td><td>▁▅▇█▇▆▇▇▇█</td></tr><tr><td>val_f1</td><td>▁▄▇█▇▆▇▇▇█</td></tr><tr><td>val_loss</td><td>█▆▅▃▂▂▂▁▂▂</td></tr></table><br/></div><div class=\"wandb-col\"><h3>Run summary:</h3><br/><table class=\"wandb\"><tr><td>epoch</td><td>10</td></tr><tr><td>train_accuracy</td><td>0.768</td></tr><tr><td>train_f1</td><td>0.76773</td></tr><tr><td>train_loss</td><td>0.49202</td></tr><tr><td>val_accuracy</td><td>0.81481</td></tr><tr><td>val_f1</td><td>0.81378</td></tr><tr><td>val_loss</td><td>0.4335</td></tr></table><br/></div></div>"
      ],
      "text/plain": [
       "<IPython.core.display.HTML object>"
      ]
     },
     "metadata": {},
     "output_type": "display_data"
    },
    {
     "data": {
      "text/html": [
       " View run <strong style=\"color:#cdcd00\">silver-sweep-18</strong> at: <a href='https://wandb.ai/barbonigiorgia-sapienza-universit-di-roma/graph-classification-graphs_sc/runs/cgo9348n' target=\"_blank\">https://wandb.ai/barbonigiorgia-sapienza-universit-di-roma/graph-classification-graphs_sc/runs/cgo9348n</a><br/> View project at: <a href='https://wandb.ai/barbonigiorgia-sapienza-universit-di-roma/graph-classification-graphs_sc' target=\"_blank\">https://wandb.ai/barbonigiorgia-sapienza-universit-di-roma/graph-classification-graphs_sc</a><br/>Synced 5 W&B file(s), 0 media file(s), 10 artifact file(s) and 0 other file(s)"
      ],
      "text/plain": [
       "<IPython.core.display.HTML object>"
      ]
     },
     "metadata": {},
     "output_type": "display_data"
    },
    {
     "data": {
      "text/html": [
       "Find logs at: <code>.\\wandb\\run-20241115_233208-cgo9348n\\logs</code>"
      ],
      "text/plain": [
       "<IPython.core.display.HTML object>"
      ]
     },
     "metadata": {},
     "output_type": "display_data"
    },
    {
     "name": "stderr",
     "output_type": "stream",
     "text": [
      "\u001b[34m\u001b[1mwandb\u001b[0m: Sweep Agent: Waiting for job.\n",
      "\u001b[34m\u001b[1mwandb\u001b[0m: Sweep Agent: Exiting.\n"
     ]
    },
    {
     "name": "stdout",
     "output_type": "stream",
     "text": [
      "\n",
      "Top 10 runs for graphs_sc:\n"
     ]
    },
    {
     "data": {
      "text/html": [
       "<div>\n",
       "<style scoped>\n",
       "    .dataframe tbody tr th:only-of-type {\n",
       "        vertical-align: middle;\n",
       "    }\n",
       "\n",
       "    .dataframe tbody tr th {\n",
       "        vertical-align: top;\n",
       "    }\n",
       "\n",
       "    .dataframe thead th {\n",
       "        text-align: right;\n",
       "    }\n",
       "</style>\n",
       "<table border=\"1\" class=\"dataframe\">\n",
       "  <thead>\n",
       "    <tr style=\"text-align: right;\">\n",
       "      <th></th>\n",
       "      <th>run_id</th>\n",
       "      <th>run_name</th>\n",
       "      <th>val_f1</th>\n",
       "      <th>learning_rate</th>\n",
       "      <th>out_channels</th>\n",
       "      <th>num_heads</th>\n",
       "      <th>weight_decay</th>\n",
       "    </tr>\n",
       "  </thead>\n",
       "  <tbody>\n",
       "    <tr>\n",
       "      <th>2</th>\n",
       "      <td>4y6v9ufy</td>\n",
       "      <td>silvery-sweep-3</td>\n",
       "      <td>0.845752</td>\n",
       "      <td>0.01</td>\n",
       "      <td>4</td>\n",
       "      <td>3</td>\n",
       "      <td>0.00010</td>\n",
       "    </tr>\n",
       "    <tr>\n",
       "      <th>9</th>\n",
       "      <td>2803hxhf</td>\n",
       "      <td>radiant-sweep-10</td>\n",
       "      <td>0.813776</td>\n",
       "      <td>0.01</td>\n",
       "      <td>4</td>\n",
       "      <td>4</td>\n",
       "      <td>0.00000</td>\n",
       "    </tr>\n",
       "    <tr>\n",
       "      <th>10</th>\n",
       "      <td>y9aivvns</td>\n",
       "      <td>different-sweep-11</td>\n",
       "      <td>0.813776</td>\n",
       "      <td>0.01</td>\n",
       "      <td>4</td>\n",
       "      <td>4</td>\n",
       "      <td>0.00001</td>\n",
       "    </tr>\n",
       "    <tr>\n",
       "      <th>11</th>\n",
       "      <td>jarf2dru</td>\n",
       "      <td>spring-sweep-12</td>\n",
       "      <td>0.813776</td>\n",
       "      <td>0.01</td>\n",
       "      <td>4</td>\n",
       "      <td>4</td>\n",
       "      <td>0.00010</td>\n",
       "    </tr>\n",
       "    <tr>\n",
       "      <th>15</th>\n",
       "      <td>4pzgjme6</td>\n",
       "      <td>morning-sweep-16</td>\n",
       "      <td>0.813776</td>\n",
       "      <td>0.01</td>\n",
       "      <td>12</td>\n",
       "      <td>4</td>\n",
       "      <td>0.00000</td>\n",
       "    </tr>\n",
       "    <tr>\n",
       "      <th>16</th>\n",
       "      <td>amyeaa7p</td>\n",
       "      <td>cool-sweep-17</td>\n",
       "      <td>0.813776</td>\n",
       "      <td>0.01</td>\n",
       "      <td>12</td>\n",
       "      <td>4</td>\n",
       "      <td>0.00001</td>\n",
       "    </tr>\n",
       "    <tr>\n",
       "      <th>17</th>\n",
       "      <td>cgo9348n</td>\n",
       "      <td>silver-sweep-18</td>\n",
       "      <td>0.813776</td>\n",
       "      <td>0.01</td>\n",
       "      <td>12</td>\n",
       "      <td>4</td>\n",
       "      <td>0.00010</td>\n",
       "    </tr>\n",
       "    <tr>\n",
       "      <th>0</th>\n",
       "      <td>oc9lk03y</td>\n",
       "      <td>pretty-sweep-1</td>\n",
       "      <td>0.810005</td>\n",
       "      <td>0.01</td>\n",
       "      <td>4</td>\n",
       "      <td>3</td>\n",
       "      <td>0.00000</td>\n",
       "    </tr>\n",
       "    <tr>\n",
       "      <th>1</th>\n",
       "      <td>i679l3dt</td>\n",
       "      <td>stoic-sweep-2</td>\n",
       "      <td>0.810005</td>\n",
       "      <td>0.01</td>\n",
       "      <td>4</td>\n",
       "      <td>3</td>\n",
       "      <td>0.00001</td>\n",
       "    </tr>\n",
       "    <tr>\n",
       "      <th>3</th>\n",
       "      <td>l4u470t8</td>\n",
       "      <td>dark-sweep-4</td>\n",
       "      <td>0.777778</td>\n",
       "      <td>0.01</td>\n",
       "      <td>8</td>\n",
       "      <td>3</td>\n",
       "      <td>0.00000</td>\n",
       "    </tr>\n",
       "  </tbody>\n",
       "</table>\n",
       "</div>"
      ],
      "text/plain": [
       "      run_id            run_name    val_f1  learning_rate  out_channels  \\\n",
       "2   4y6v9ufy     silvery-sweep-3  0.845752           0.01             4   \n",
       "9   2803hxhf    radiant-sweep-10  0.813776           0.01             4   \n",
       "10  y9aivvns  different-sweep-11  0.813776           0.01             4   \n",
       "11  jarf2dru     spring-sweep-12  0.813776           0.01             4   \n",
       "15  4pzgjme6    morning-sweep-16  0.813776           0.01            12   \n",
       "16  amyeaa7p       cool-sweep-17  0.813776           0.01            12   \n",
       "17  cgo9348n     silver-sweep-18  0.813776           0.01            12   \n",
       "0   oc9lk03y      pretty-sweep-1  0.810005           0.01             4   \n",
       "1   i679l3dt       stoic-sweep-2  0.810005           0.01             4   \n",
       "3   l4u470t8        dark-sweep-4  0.777778           0.01             8   \n",
       "\n",
       "    num_heads  weight_decay  \n",
       "2           3       0.00010  \n",
       "9           4       0.00000  \n",
       "10          4       0.00001  \n",
       "11          4       0.00010  \n",
       "15          4       0.00000  \n",
       "16          4       0.00001  \n",
       "17          4       0.00010  \n",
       "0           3       0.00000  \n",
       "1           3       0.00001  \n",
       "3           3       0.00000  "
      ]
     },
     "metadata": {},
     "output_type": "display_data"
    }
   ],
   "source": [
    "# Run the grid search for the second time\n",
    "\n",
    "all_runs_df_sc_1, top_runs_df_sc_1 = run_grid_search(graphs_sc, labels_sc, sweep_config_sc, 'graphs_sc', top_x= 10)\n"
   ]
  },
  {
   "cell_type": "code",
   "execution_count": 1,
   "metadata": {},
   "outputs": [
    {
     "ename": "NameError",
     "evalue": "name 'top_runs_df_sc_1' is not defined",
     "output_type": "error",
     "traceback": [
      "\u001b[1;31m---------------------------------------------------------------------------\u001b[0m",
      "\u001b[1;31mNameError\u001b[0m                                 Traceback (most recent call last)",
      "Cell \u001b[1;32mIn[1], line 2\u001b[0m\n\u001b[0;32m      1\u001b[0m \u001b[38;5;66;03m# Display the top runs\u001b[39;00m\n\u001b[1;32m----> 2\u001b[0m display(\u001b[43mtop_runs_df_sc_1\u001b[49m[hyperparameter_columns])\n\u001b[0;32m      3\u001b[0m \u001b[38;5;28mprint\u001b[39m(top_runs_df_sc_1[hyperparameter_columns]\u001b[38;5;241m.\u001b[39mto_latex(index\u001b[38;5;241m=\u001b[39m\u001b[38;5;28;01mFalse\u001b[39;00m))\n",
      "\u001b[1;31mNameError\u001b[0m: name 'top_runs_df_sc_1' is not defined"
     ]
    }
   ],
   "source": [
    "# Display the top runs\n",
    "display(top_runs_df_sc_1[hyperparameter_columns])\n",
    "print(top_runs_df_sc_1[hyperparameter_columns].to_latex(index=False))"
   ]
  },
  {
   "cell_type": "code",
   "execution_count": 7,
   "metadata": {},
   "outputs": [
    {
     "data": {
      "text/html": [
       "Tracking run with wandb version 0.18.5"
      ],
      "text/plain": [
       "<IPython.core.display.HTML object>"
      ]
     },
     "metadata": {},
     "output_type": "display_data"
    },
    {
     "data": {
      "text/html": [
       "Run data is saved locally in <code>c:\\Users\\barbo\\brain classifier repo\\brain_classifier\\src\\wandb\\run-20241117_135621-xadsopqy</code>"
      ],
      "text/plain": [
       "<IPython.core.display.HTML object>"
      ]
     },
     "metadata": {},
     "output_type": "display_data"
    },
    {
     "data": {
      "text/html": [
       "Syncing run <strong><a href='https://wandb.ai/barbonigiorgia-sapienza-universit-di-roma/graph-classification-graphs_sc/runs/xadsopqy' target=\"_blank\">icy-bird-263</a></strong> to <a href='https://wandb.ai/barbonigiorgia-sapienza-universit-di-roma/graph-classification-graphs_sc' target=\"_blank\">Weights & Biases</a> (<a href='https://wandb.me/run' target=\"_blank\">docs</a>)<br/>"
      ],
      "text/plain": [
       "<IPython.core.display.HTML object>"
      ]
     },
     "metadata": {},
     "output_type": "display_data"
    },
    {
     "data": {
      "text/html": [
       " View project at <a href='https://wandb.ai/barbonigiorgia-sapienza-universit-di-roma/graph-classification-graphs_sc' target=\"_blank\">https://wandb.ai/barbonigiorgia-sapienza-universit-di-roma/graph-classification-graphs_sc</a>"
      ],
      "text/plain": [
       "<IPython.core.display.HTML object>"
      ]
     },
     "metadata": {},
     "output_type": "display_data"
    },
    {
     "data": {
      "text/html": [
       " View run at <a href='https://wandb.ai/barbonigiorgia-sapienza-universit-di-roma/graph-classification-graphs_sc/runs/xadsopqy' target=\"_blank\">https://wandb.ai/barbonigiorgia-sapienza-universit-di-roma/graph-classification-graphs_sc/runs/xadsopqy</a>"
      ],
      "text/plain": [
       "<IPython.core.display.HTML object>"
      ]
     },
     "metadata": {},
     "output_type": "display_data"
    },
    {
     "name": "stdout",
     "output_type": "stream",
     "text": [
      "Running with config: namespace(batch_size=8, in_channels=6, learning_rate=0.01, num_epochs=150, num_heads=4, optimizer='adam', out_channels=12, random_state=42, test_size=0.3, weight_decay=0.0001)\n",
      "Early stopping triggered.\n"
     ]
    },
    {
     "data": {
      "text/html": [
       "<style>\n",
       "    table.wandb td:nth-child(1) { padding: 0 10px; text-align: left ; width: auto;} td:nth-child(2) {text-align: left ; width: 100%}\n",
       "    .wandb-row { display: flex; flex-direction: row; flex-wrap: wrap; justify-content: flex-start; width: 100% }\n",
       "    .wandb-col { display: flex; flex-direction: column; flex-basis: 100%; flex: 1; padding: 10px; }\n",
       "    </style>\n",
       "<div class=\"wandb-row\"><div class=\"wandb-col\"><h3>Run history:</h3><br/><table class=\"wandb\"><tr><td>epoch</td><td>▁▁▁▂▂▂▂▂▂▃▃▃▃▃▃▄▄▄▄▄▅▅▅▅▅▅▆▆▆▆▆▆▇▇▇▇▇▇██</td></tr><tr><td>train_accuracy</td><td>▁▄▅▄▅▄▅▅▅▄▆▅▅▇▆▅▄▅▅▆▇▅▆▆▆▆▆▆█▆▆▆▆▆▇▆▆▆▆▇</td></tr><tr><td>train_f1</td><td>▁▄▅▄▅▄▅▅▅▄▆▄▄▇▅▅▃▅▅▆▇▅▅▆▆▆▆▆█▆▆▆▆▆▇▆▆▆▆▇</td></tr><tr><td>train_loss</td><td>█▆▅▆▅▅▄▆▅▄▄▅▄▃▃▃▄▄▂▂▂▃▃▂▂▂▂▂▃▃▁▂▂▂▂▂▃▂▂▂</td></tr><tr><td>val_accuracy</td><td>▁▅▄▅▅▇▅▅▇▇█▇█▇▇▅▄▇▇▇▇▇▅████▅▅█▇▇█▇▇▄███▅</td></tr><tr><td>val_f1</td><td>▁▅▄▅▅▇▅▅▇▇█▇█▇▇▅▄▇▇▇▇▇▅████▅▅█▇▇█▇▆▄███▅</td></tr><tr><td>val_loss</td><td>█▅▅▃▄▃▃▂▃▃▂▃▃▂▃▂▅▂▂▂▁▂▃▂▁▁▁▃▁▁▂▂▂▃▂▅▁▂▂▂</td></tr></table><br/></div><div class=\"wandb-col\"><h3>Run summary:</h3><br/><table class=\"wandb\"><tr><td>epoch</td><td>41</td></tr><tr><td>train_accuracy</td><td>0.824</td></tr><tr><td>train_f1</td><td>0.82081</td></tr><tr><td>train_loss</td><td>0.41426</td></tr><tr><td>val_accuracy</td><td>0.77778</td></tr><tr><td>val_f1</td><td>0.77778</td></tr><tr><td>val_loss</td><td>0.38759</td></tr></table><br/></div></div>"
      ],
      "text/plain": [
       "<IPython.core.display.HTML object>"
      ]
     },
     "metadata": {},
     "output_type": "display_data"
    },
    {
     "data": {
      "text/html": [
       " View run <strong style=\"color:#cdcd00\">icy-bird-263</strong> at: <a href='https://wandb.ai/barbonigiorgia-sapienza-universit-di-roma/graph-classification-graphs_sc/runs/xadsopqy' target=\"_blank\">https://wandb.ai/barbonigiorgia-sapienza-universit-di-roma/graph-classification-graphs_sc/runs/xadsopqy</a><br/> View project at: <a href='https://wandb.ai/barbonigiorgia-sapienza-universit-di-roma/graph-classification-graphs_sc' target=\"_blank\">https://wandb.ai/barbonigiorgia-sapienza-universit-di-roma/graph-classification-graphs_sc</a><br/>Synced 5 W&B file(s), 0 media file(s), 14 artifact file(s) and 0 other file(s)"
      ],
      "text/plain": [
       "<IPython.core.display.HTML object>"
      ]
     },
     "metadata": {},
     "output_type": "display_data"
    },
    {
     "data": {
      "text/html": [
       "Find logs at: <code>.\\wandb\\run-20241117_135621-xadsopqy\\logs</code>"
      ],
      "text/plain": [
       "<IPython.core.display.HTML object>"
      ]
     },
     "metadata": {},
     "output_type": "display_data"
    }
   ],
   "source": [
    "# Train the model with the best hyperparameters for more epochs (early stopping)\n",
    "\n",
    "patience = 30\n",
    "new_num_epochs = 150\n",
    "train_best_model_early_stopping(graphs_sc, labels_sc, 'graphs_sc', patience, new_num_epochs)"
   ]
  },
  {
   "cell_type": "code",
   "execution_count": 6,
   "metadata": {},
   "outputs": [
    {
     "data": {
      "image/png": "[encoded data removed]",
      "text/plain": [
       "<Figure size 1200x400 with 3 Axes>"
      ]
     },
     "metadata": {},
     "output_type": "display_data"
    },
    {
     "name": "stdout",
     "output_type": "stream",
     "text": [
      "Hyperparameters configuration:\n"
     ]
    }
   ],
   "source": [
    "project_name = 'graph-classification-graphs_sc'\n",
    "metrics = ['loss', 'accuracy', 'f1']\n",
    "best_run_id = 'xadsopqy'\n",
    "plot_train_val_curves(best_run_id, metrics, project_name=project_name, display_config=True)"
   ]
  },
  {
   "cell_type": "code",
   "execution_count": 4,
   "metadata": {},
   "outputs": [
    {
     "name": "stdout",
     "output_type": "stream",
     "text": [
      "    Parameter   Value\n",
      "   batch_size       8\n",
      "  in_channels       6\n",
      "learning_rate    0.01\n",
      "   num_epochs      10\n",
      "    num_heads       4\n",
      "    optimizer    adam\n",
      " out_channels      12\n",
      " random_state      42\n",
      "    test_size     0.3\n",
      " weight_decay  0.0001\n"
     ]
    }
   ],
   "source": [
    "# access the best model and change config as needed\n",
    "best_model_path = os.path.join(base_dir, 'src', 'best_model_graphs_sc.pth')\n",
    "\n",
    "# get the config\n",
    "config = get_config(best_model_path)\n"
   ]
  },
  {
   "cell_type": "code",
   "execution_count": null,
   "metadata": {},
   "outputs": [],
   "source": [
    "#update the config \n",
    "\n",
    "config['num_epochs'] = 30\n",
    "\n",
    "dataset_name = 'graphs_sc_updated'\n",
    "\n",
    "# train the model with the updated config\n",
    "sweep_id = run_sweep(graphs_sc, labels_sc, config, dataset_name)\n",
    "\n"
   ]
  }
 ],
 "metadata": {
  "kernelspec": {
   "display_name": ".venv",
   "language": "python",
   "name": "python3"
  },
  "language_info": {
   "codemirror_mode": {
    "name": "ipython",
    "version": 3
   },
   "file_extension": ".py",
   "mimetype": "text/x-python",
   "name": "python",
   "nbconvert_exporter": "python",
   "pygments_lexer": "ipython3",
   "version": "3.10.11"
  }
 },
 "nbformat": 4,
 "nbformat_minor": 2
}
