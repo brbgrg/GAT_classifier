{
 "cells": [
  {
   "cell_type": "code",
   "execution_count": 1,
   "metadata": {},
   "outputs": [
    {
     "name": "stderr",
     "output_type": "stream",
     "text": [
      "c:\\Users\\barbo\\brain classifier repo\\brain_classifier\\.venv\\lib\\site-packages\\torchdata\\datapipes\\__init__.py:18: UserWarning: \n",
      "################################################################################\n",
      "WARNING!\n",
      "The 'datapipes', 'dataloader2' modules are deprecated and will be removed in a\n",
      "future torchdata release! Please see https://github.com/pytorch/data/issues/1196\n",
      "to learn more and leave feedback.\n",
      "################################################################################\n",
      "\n",
      "  deprecation_warning()\n",
      "c:\\Users\\barbo\\brain classifier repo\\brain_classifier\\.venv\\lib\\site-packages\\tqdm\\auto.py:21: TqdmWarning: IProgress not found. Please update jupyter and ipywidgets. See https://ipywidgets.readthedocs.io/en/stable/user_install.html\n",
      "  from .autonotebook import tqdm as notebook_tqdm\n"
     ]
    },
    {
     "name": "stdout",
     "output_type": "stream",
     "text": [
      "Search space size: 1152\n"
     ]
    }
   ],
   "source": [
    "from test_model import test_model\n",
    "from ingestion import prepare_datasets\n",
    "from incremental_tuning import incremental_tuning\n",
    "from sweep_config import sweep_config\n",
    "import os\n",
    "import copy"
   ]
  },
  {
   "cell_type": "code",
   "execution_count": 2,
   "metadata": {},
   "outputs": [],
   "source": [
    "# Base directory where your data is stored\n",
    "base_dir = os.path.dirname(os.getcwd())\n",
    "\n",
    "# Prepare datasets\n",
    "graphs_sc, labels_sc, graphs_sc_combined, labels_sc_combined, feature_names = prepare_datasets(base_dir)\n",
    "\n"
   ]
  },
  {
   "cell_type": "code",
   "execution_count": 6,
   "metadata": {},
   "outputs": [
    {
     "name": "stdout",
     "output_type": "stream",
     "text": [
      "Test Loss: 0.4936, Test Accuracy: 0.8148, Test F1: 0.8100\n"
     ]
    }
   ],
   "source": [
    "# Load best models ...\n",
    "# Model paths\n",
    "model_path_sc = os.path.join(base_dir, 'src', 'final_model_graphs_sc.pth')\n",
    "\n",
    "# Test the model on the test set\n",
    "test_model(model_path_sc, graphs_sc, labels_sc)\n",
    "\n",
    "# Test the model on the test set\n",
    "#test_model(model_path_sc_combined, graphs_sc_combined, labels_sc_combined)"
   ]
  }
 ],
 "metadata": {
  "kernelspec": {
   "display_name": ".venv",
   "language": "python",
   "name": "python3"
  },
  "language_info": {
   "codemirror_mode": {
    "name": "ipython",
    "version": 3
   },
   "file_extension": ".py",
   "mimetype": "text/x-python",
   "name": "python",
   "nbconvert_exporter": "python",
   "pygments_lexer": "ipython3",
   "version": "3.10.11"
  }
 },
 "nbformat": 4,
 "nbformat_minor": 2
}
